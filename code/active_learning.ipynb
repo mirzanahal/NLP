{
 "cells": [
  {
   "source": [
    "## Initialization"
   ],
   "cell_type": "markdown",
   "metadata": {}
  },
  {
   "cell_type": "code",
   "execution_count": 1,
   "metadata": {},
   "outputs": [],
   "source": [
    "import os\n",
    "import pandas as pd\n",
    "import numpy as np\n",
    "import matplotlib.pyplot as plt \n",
    "\n",
    "from sklearn.preprocessing import StandardScaler\n",
    "from sklearn.model_selection import train_test_split\n",
    "from os.path import isfile\n",
    "\n",
    "import config\n",
    "import utils\n",
    "import data_path\n",
    "import data_loader\n",
    "\n",
    "from classifier import Classifier\n",
    "from feature_generator import generate_features"
   ]
  },
  {
   "source": [
    "## Config"
   ],
   "cell_type": "markdown",
   "metadata": {}
  },
  {
   "cell_type": "code",
   "execution_count": 2,
   "metadata": {},
   "outputs": [],
   "source": [
    "START_SIZE = 100\n",
    "INDUCTIVE_STEP_SIZE = 10\n",
    "STEPS = 100\n",
    "RANDOM_STATE = 0"
   ]
  },
  {
   "source": [
    "## Load Features"
   ],
   "cell_type": "markdown",
   "metadata": {}
  },
  {
   "cell_type": "code",
   "execution_count": 3,
   "metadata": {},
   "outputs": [],
   "source": [
    "embedding_features = pd.read_csv(os.path.join(data_path.DATA_PATH, 'train', 'embedding_fasttext.csv'), index_col=0)\n",
    "psychological_features = pd.read_csv(os.path.join(data_path.DATA_PATH, 'train', 'psychological_features.csv'), index_col=0)\n",
    "structural_features = pd.read_csv(os.path.join(data_path.DATA_PATH, 'train', 'structural_features.csv'), index_col=0)\n",
    "syntactics_features = pd.read_csv(os.path.join(data_path.DATA_PATH, 'train', 'syntactics_features.csv'), index_col=0)\n",
    "text_dependent_features = pd.read_csv(os.path.join(data_path.DATA_PATH, 'train', 'text_dependent_features.csv'), index_col=0)\n",
    "word_dependent_features = pd.read_csv(os.path.join(data_path.DATA_PATH, 'train', 'word_dependent_features.csv'), index_col=0)\n",
    "\n",
    "features_list_train = [embedding_features, psychological_features, structural_features, syntactics_features, text_dependent_features, word_dependent_features]"
   ]
  },
  {
   "cell_type": "code",
   "execution_count": 4,
   "metadata": {},
   "outputs": [],
   "source": [
    "embedding_features_test = pd.read_csv(os.path.join(data_path.DATA_PATH, 'test', 'embedding_fasttext.csv'), index_col=0)\n",
    "psychological_features_test = pd.read_csv(os.path.join(data_path.DATA_PATH, 'test', 'psychological_features.csv'), index_col=0)\n",
    "structural_features_test = pd.read_csv(os.path.join(data_path.DATA_PATH, 'test', 'structural_features.csv'), index_col=0)\n",
    "syntactics_features_test = pd.read_csv(os.path.join(data_path.DATA_PATH, 'test', 'syntactics_features.csv'), index_col=0)\n",
    "text_dependent_features_test = pd.read_csv(os.path.join(data_path.DATA_PATH, 'test', 'text_dependent_features.csv'), index_col=0)\n",
    "word_dependent_features_test = pd.read_csv(os.path.join(data_path.DATA_PATH, 'test', 'word_dependent_features.csv'), index_col=0)\n",
    "\n",
    "features_list_test = [embedding_features_test, psychological_features_test, structural_features_test, syntactics_features_test, text_dependent_features_test, word_dependent_features_test]"
   ]
  },
  {
   "source": [
    "## Create Train Test Pandas Dataframe"
   ],
   "cell_type": "markdown",
   "metadata": {}
  },
  {
   "cell_type": "code",
   "execution_count": 5,
   "metadata": {},
   "outputs": [
    {
     "output_type": "execute_result",
     "data": {
      "text/plain": [
       "((2000, 338), (378, 338))"
      ]
     },
     "metadata": {},
     "execution_count": 5
    }
   ],
   "source": [
    "train_pdf = utils.create_dataframe_from_feature_list(features_list_train)\n",
    "test_pdf = utils.create_dataframe_from_feature_list(features_list_test)\n",
    "\n",
    "train_pdf.shape, test_pdf.shape"
   ]
  },
  {
   "source": [
    "## Split Features and Labels"
   ],
   "cell_type": "markdown",
   "metadata": {}
  },
  {
   "cell_type": "code",
   "execution_count": 6,
   "metadata": {},
   "outputs": [],
   "source": [
    "train_features, train_labels = utils.split_features_and_labels(train_pdf, 'label')\n",
    "test_features, test_labels = utils.split_features_and_labels(test_pdf, 'label')"
   ]
  },
  {
   "source": [
    "## Normalize"
   ],
   "cell_type": "markdown",
   "metadata": {}
  },
  {
   "cell_type": "code",
   "execution_count": 7,
   "metadata": {},
   "outputs": [],
   "source": [
    "scaler = StandardScaler()\n",
    "\n",
    "scaler.fit(train_features)\n",
    "\n",
    "train_features = pd.DataFrame(scaler.transform(train_features), columns=train_features.columns)\n",
    "test_features = pd.DataFrame(scaler.transform(test_features), columns=test_features.columns)"
   ]
  },
  {
   "source": [
    "## Active Learning"
   ],
   "cell_type": "markdown",
   "metadata": {}
  },
  {
   "source": [
    "### Initiate Train Index set"
   ],
   "cell_type": "markdown",
   "metadata": {}
  },
  {
   "cell_type": "code",
   "execution_count": 8,
   "metadata": {},
   "outputs": [],
   "source": [
    "female_train_idx = list(train_pdf[train_pdf['label'] == 0].index[:START_SIZE])\n",
    "male_train_idx = list(train_pdf[train_pdf['label'] == 1].index[:START_SIZE])\n",
    "\n",
    "train_idx = female_train_idx + male_train_idx"
   ]
  },
  {
   "source": [
    "### Learing Loop"
   ],
   "cell_type": "markdown",
   "metadata": {}
  },
  {
   "cell_type": "code",
   "execution_count": 9,
   "metadata": {},
   "outputs": [],
   "source": [
    "def update_train_index(prediction_proba, labels, limit):\n",
    "    diff_preds = [abs(prediction_proba[index][0] - prediction_proba[index][1]) for index, ـ in enumerate(labels)]\n",
    "    sort_indexes = np.argsort(diff_preds)\n",
    "    female_idx = []\n",
    "    male_idx = []\n",
    "    for idx in sort_indexes:\n",
    "        if (len(female_idx) == limit) and (len(male_idx) == limit):\n",
    "            return male_idx + female_idx\n",
    "        if (len(female_idx) < limit) and (labels.iloc[idx] == 0):\n",
    "            female_idx.append(idx)\n",
    "        elif (len(male_idx) < limit) and (labels.iloc[idx] == 1):\n",
    "            male_idx.append(idx)\n",
    "    return male_idx + female_idx"
   ]
  },
  {
   "cell_type": "code",
   "execution_count": 10,
   "metadata": {
    "tags": []
   },
   "outputs": [
    {
     "output_type": "stream",
     "name": "stdout",
     "text": [
      "Step 0   : - train accuracy=0.57, \t subset accuracy=0.93, \t train size= 200\n",
      "Step 1   : - train accuracy=0.60, \t subset accuracy=0.93, \t train size= 220\n",
      "Step 2   : - train accuracy=0.61, \t subset accuracy=0.92, \t train size= 240\n",
      "Step 3   : - train accuracy=0.61, \t subset accuracy=0.94, \t train size= 260\n",
      "Step 4   : - train accuracy=0.62, \t subset accuracy=0.93, \t train size= 280\n",
      "Step 5   : - train accuracy=0.61, \t subset accuracy=0.93, \t train size= 300\n",
      "Step 6   : - train accuracy=0.63, \t subset accuracy=0.93, \t train size= 320\n",
      "Step 7   : - train accuracy=0.64, \t subset accuracy=0.93, \t train size= 340\n",
      "Step 8   : - train accuracy=0.64, \t subset accuracy=0.93, \t train size= 360\n",
      "Step 9   : - train accuracy=0.65, \t subset accuracy=0.93, \t train size= 380\n",
      "Step 10   : - train accuracy=0.65, \t subset accuracy=0.94, \t train size= 400\n",
      "Step 11   : - train accuracy=0.65, \t subset accuracy=0.92, \t train size= 420\n",
      "Step 12   : - train accuracy=0.66, \t subset accuracy=0.92, \t train size= 440\n",
      "Step 13   : - train accuracy=0.67, \t subset accuracy=0.93, \t train size= 460\n",
      "Step 14   : - train accuracy=0.68, \t subset accuracy=0.93, \t train size= 480\n",
      "Step 15   : - train accuracy=0.68, \t subset accuracy=0.93, \t train size= 500\n",
      "Step 16   : - train accuracy=0.68, \t subset accuracy=0.93, \t train size= 520\n",
      "Step 17   : - train accuracy=0.69, \t subset accuracy=0.93, \t train size= 540\n",
      "Step 18   : - train accuracy=0.69, \t subset accuracy=0.91, \t train size= 560\n",
      "Step 19   : - train accuracy=0.69, \t subset accuracy=0.92, \t train size= 580\n",
      "Step 20   : - train accuracy=0.69, \t subset accuracy=0.92, \t train size= 600\n",
      "Step 21   : - train accuracy=0.70, \t subset accuracy=0.92, \t train size= 620\n",
      "Step 22   : - train accuracy=0.71, \t subset accuracy=0.94, \t train size= 640\n",
      "Step 23   : - train accuracy=0.71, \t subset accuracy=0.93, \t train size= 660\n",
      "Step 24   : - train accuracy=0.71, \t subset accuracy=0.93, \t train size= 680\n",
      "Step 25   : - train accuracy=0.72, \t subset accuracy=0.93, \t train size= 700\n",
      "Step 26   : - train accuracy=0.72, \t subset accuracy=0.93, \t train size= 720\n",
      "Step 27   : - train accuracy=0.73, \t subset accuracy=0.94, \t train size= 740\n",
      "Step 28   : - train accuracy=0.72, \t subset accuracy=0.91, \t train size= 760\n",
      "Step 29   : - train accuracy=0.72, \t subset accuracy=0.92, \t train size= 780\n",
      "Step 30   : - train accuracy=0.73, \t subset accuracy=0.93, \t train size= 800\n",
      "Step 31   : - train accuracy=0.73, \t subset accuracy=0.93, \t train size= 820\n",
      "Step 32   : - train accuracy=0.75, \t subset accuracy=0.94, \t train size= 840\n",
      "Step 33   : - train accuracy=0.75, \t subset accuracy=0.94, \t train size= 860\n",
      "Step 34   : - train accuracy=0.75, \t subset accuracy=0.94, \t train size= 880\n",
      "Step 35   : - train accuracy=0.75, \t subset accuracy=0.93, \t train size= 900\n",
      "Step 36   : - train accuracy=0.75, \t subset accuracy=0.94, \t train size= 920\n",
      "Step 37   : - train accuracy=0.76, \t subset accuracy=0.95, \t train size= 940\n",
      "Step 38   : - train accuracy=0.76, \t subset accuracy=0.94, \t train size= 960\n",
      "Step 39   : - train accuracy=0.76, \t subset accuracy=0.94, \t train size= 980\n",
      "Step 40   : - train accuracy=0.77, \t subset accuracy=0.96, \t train size= 1000\n",
      "Step 41   : - train accuracy=0.77, \t subset accuracy=0.94, \t train size= 1020\n",
      "Step 42   : - train accuracy=0.77, \t subset accuracy=0.95, \t train size= 1040\n",
      "Step 43   : - train accuracy=0.77, \t subset accuracy=0.95, \t train size= 1060\n",
      "Step 44   : - train accuracy=0.77, \t subset accuracy=0.95, \t train size= 1080\n",
      "Step 45   : - train accuracy=0.77, \t subset accuracy=0.95, \t train size= 1100\n",
      "Step 46   : - train accuracy=0.78, \t subset accuracy=0.96, \t train size= 1120\n",
      "Step 47   : - train accuracy=0.78, \t subset accuracy=0.95, \t train size= 1140\n",
      "Step 48   : - train accuracy=0.79, \t subset accuracy=0.95, \t train size= 1160\n",
      "Step 49   : - train accuracy=0.79, \t subset accuracy=0.95, \t train size= 1180\n",
      "Step 50   : - train accuracy=0.80, \t subset accuracy=0.96, \t train size= 1200\n",
      "Step 51   : - train accuracy=0.80, \t subset accuracy=0.96, \t train size= 1220\n",
      "Step 52   : - train accuracy=0.80, \t subset accuracy=0.97, \t train size= 1240\n",
      "Step 53   : - train accuracy=0.80, \t subset accuracy=0.97, \t train size= 1260\n",
      "Step 54   : - train accuracy=0.80, \t subset accuracy=0.97, \t train size= 1280\n",
      "Step 55   : - train accuracy=0.81, \t subset accuracy=0.97, \t train size= 1300\n",
      "Step 56   : - train accuracy=0.81, \t subset accuracy=0.96, \t train size= 1320\n",
      "Step 57   : - train accuracy=0.81, \t subset accuracy=0.98, \t train size= 1340\n",
      "Step 58   : - train accuracy=0.81, \t subset accuracy=0.97, \t train size= 1360\n",
      "Step 59   : - train accuracy=0.81, \t subset accuracy=0.97, \t train size= 1380\n",
      "Step 60   : - train accuracy=0.82, \t subset accuracy=0.98, \t train size= 1400\n",
      "Step 61   : - train accuracy=0.82, \t subset accuracy=0.98, \t train size= 1420\n",
      "Step 62   : - train accuracy=0.82, \t subset accuracy=0.98, \t train size= 1440\n",
      "Step 63   : - train accuracy=0.83, \t subset accuracy=0.98, \t train size= 1460\n",
      "Step 64   : - train accuracy=0.83, \t subset accuracy=0.98, \t train size= 1480\n",
      "Step 65   : - train accuracy=0.83, \t subset accuracy=0.98, \t train size= 1500\n",
      "Step 66   : - train accuracy=0.83, \t subset accuracy=0.98, \t train size= 1520\n",
      "Step 67   : - train accuracy=0.83, \t subset accuracy=0.98, \t train size= 1540\n",
      "Step 68   : - train accuracy=0.83, \t subset accuracy=0.99, \t train size= 1560\n",
      "Step 69   : - train accuracy=0.83, \t subset accuracy=0.98, \t train size= 1580\n",
      "Step 70   : - train accuracy=0.83, \t subset accuracy=0.98, \t train size= 1600\n",
      "Step 71   : - train accuracy=0.84, \t subset accuracy=0.99, \t train size= 1620\n",
      "Step 72   : - train accuracy=0.84, \t subset accuracy=0.99, \t train size= 1640\n",
      "Step 73   : - train accuracy=0.84, \t subset accuracy=0.99, \t train size= 1660\n",
      "Step 74   : - train accuracy=0.84, \t subset accuracy=0.99, \t train size= 1680\n",
      "Step 75   : - train accuracy=0.84, \t subset accuracy=0.97, \t train size= 1700\n",
      "Step 76   : - train accuracy=0.85, \t subset accuracy=0.99, \t train size= 1720\n",
      "Step 77   : - train accuracy=0.84, \t subset accuracy=0.98, \t train size= 1740\n",
      "Step 78   : - train accuracy=0.85, \t subset accuracy=0.99, \t train size= 1760\n",
      "Step 79   : - train accuracy=0.85, \t subset accuracy=0.99, \t train size= 1780\n",
      "Step 80   : - train accuracy=0.85, \t subset accuracy=0.99, \t train size= 1800\n",
      "Step 81   : - train accuracy=0.85, \t subset accuracy=0.99, \t train size= 1820\n",
      "Step 82   : - train accuracy=0.85, \t subset accuracy=0.99, \t train size= 1840\n",
      "Step 83   : - train accuracy=0.85, \t subset accuracy=0.99, \t train size= 1860\n",
      "Step 84   : - train accuracy=0.85, \t subset accuracy=0.99, \t train size= 1880\n",
      "Step 85   : - train accuracy=0.86, \t subset accuracy=0.99, \t train size= 1900\n",
      "Step 86   : - train accuracy=0.86, \t subset accuracy=0.99, \t train size= 1920\n",
      "Step 87   : - train accuracy=0.86, \t subset accuracy=0.99, \t train size= 1940\n",
      "Step 88   : - train accuracy=0.86, \t subset accuracy=0.99, \t train size= 1960\n",
      "Step 89   : - train accuracy=0.87, \t subset accuracy=0.99, \t train size= 1980\n",
      "Step 90   : - train accuracy=0.87, \t subset accuracy=0.99, \t train size= 2000\n",
      "Step 91   : - train accuracy=0.86, \t subset accuracy=0.99, \t train size= 2020\n",
      "Step 92   : - train accuracy=0.86, \t subset accuracy=0.98, \t train size= 2040\n",
      "Step 93   : - train accuracy=0.87, \t subset accuracy=0.98, \t train size= 2060\n",
      "Step 94   : - train accuracy=0.87, \t subset accuracy=0.99, \t train size= 2080\n",
      "Step 95   : - train accuracy=0.87, \t subset accuracy=0.99, \t train size= 2100\n",
      "Step 96   : - train accuracy=0.87, \t subset accuracy=0.98, \t train size= 2120\n",
      "Step 97   : - train accuracy=0.87, \t subset accuracy=0.99, \t train size= 2140\n",
      "Step 98   : - train accuracy=0.87, \t subset accuracy=0.99, \t train size= 2160\n",
      "Step 99   : - train accuracy=0.87, \t subset accuracy=0.98, \t train size= 2180\n"
     ]
    }
   ],
   "source": [
    "accuracy_per_step = []\n",
    "classifier = Classifier('SVM' , kernel='rbf', gamma='auto', tol=0.01, C=1, random_state=RANDOM_STATE)\n",
    "\n",
    "for step in range(STEPS):\n",
    "\n",
    "    X_train_subset = train_features.filter(train_idx, axis=0)\n",
    "    y_train_subset = train_labels.filter(train_idx, axis=0)\n",
    "\n",
    "    classifier.fit(X_train_subset, y_train_subset)\n",
    "\n",
    "    train_accuracy = utils.calculate_accuracy(classifier, train_features, train_labels)\n",
    "    train_subset_accuracy = utils.calculate_accuracy(classifier, X_train_subset, y_train_subset)\n",
    "\n",
    "    accuracy_per_step.append({'train':train_accuracy, 'subset':train_subset_accuracy})\n",
    "    print( 'Step {} '.format(step), \n",
    "            \" : - train accuracy={:.2f}, \\t\".format(train_accuracy),\n",
    "            \"subset accuracy={:.2f}, \\t\".format(train_subset_accuracy),\n",
    "            \"train size=\" , len(train_idx))\n",
    "\n",
    "    train_idx += update_train_index(\n",
    "        classifier.predict(train_features),\n",
    "        train_labels,\n",
    "        INDUCTIVE_STEP_SIZE\n",
    "    )"
   ]
  },
  {
   "cell_type": "code",
   "execution_count": 11,
   "metadata": {},
   "outputs": [
    {
     "output_type": "display_data",
     "data": {
      "text/plain": "<Figure size 432x288 with 1 Axes>",
      "image/svg+xml": "<?xml version=\"1.0\" encoding=\"utf-8\" standalone=\"no\"?>\n<!DOCTYPE svg PUBLIC \"-//W3C//DTD SVG 1.1//EN\"\n  \"http://www.w3.org/Graphics/SVG/1.1/DTD/svg11.dtd\">\n<svg height=\"277.314375pt\" version=\"1.1\" viewBox=\"0 0 385.78125 277.314375\" width=\"385.78125pt\" xmlns=\"http://www.w3.org/2000/svg\" xmlns:xlink=\"http://www.w3.org/1999/xlink\">\n <metadata>\n  <rdf:RDF xmlns:cc=\"http://creativecommons.org/ns#\" xmlns:dc=\"http://purl.org/dc/elements/1.1/\" xmlns:rdf=\"http://www.w3.org/1999/02/22-rdf-syntax-ns#\">\n   <cc:Work>\n    <dc:type rdf:resource=\"http://purl.org/dc/dcmitype/StillImage\"/>\n    <dc:date>2021-04-11T19:36:53.327928</dc:date>\n    <dc:format>image/svg+xml</dc:format>\n    <dc:creator>\n     <cc:Agent>\n      <dc:title>Matplotlib v3.4.0, https://matplotlib.org/</dc:title>\n     </cc:Agent>\n    </dc:creator>\n   </cc:Work>\n  </rdf:RDF>\n </metadata>\n <defs>\n  <style type=\"text/css\">*{stroke-linecap:butt;stroke-linejoin:round;}</style>\n </defs>\n <g id=\"figure_1\">\n  <g id=\"patch_1\">\n   <path d=\"M 0 277.314375 \nL 385.78125 277.314375 \nL 385.78125 0 \nL 0 0 \nz\n\" style=\"fill:none;\"/>\n  </g>\n  <g id=\"axes_1\">\n   <g id=\"patch_2\">\n    <path d=\"M 43.78125 239.758125 \nL 378.58125 239.758125 \nL 378.58125 22.318125 \nL 43.78125 22.318125 \nz\n\" style=\"fill:#ffffff;\"/>\n   </g>\n   <g id=\"matplotlib.axis_1\">\n    <g id=\"xtick_1\">\n     <g id=\"line2d_1\">\n      <path clip-path=\"url(#p507d7b2b53)\" d=\"M 58.999432 239.758125 \nL 58.999432 22.318125 \n\" style=\"fill:none;stroke:#b0b0b0;stroke-linecap:square;stroke-width:0.8;\"/>\n     </g>\n     <g id=\"line2d_2\">\n      <defs>\n       <path d=\"M 0 0 \nL 0 3.5 \n\" id=\"mdeac5559c8\" style=\"stroke:#000000;stroke-width:0.8;\"/>\n      </defs>\n      <g>\n       <use style=\"stroke:#000000;stroke-width:0.8;\" x=\"58.999432\" xlink:href=\"#mdeac5559c8\" y=\"239.758125\"/>\n      </g>\n     </g>\n     <g id=\"text_1\">\n      <!-- 0 -->\n      <g transform=\"translate(55.818182 254.356562)scale(0.1 -0.1)\">\n       <defs>\n        <path d=\"M 2034 4250 \nQ 1547 4250 1301 3770 \nQ 1056 3291 1056 2328 \nQ 1056 1369 1301 889 \nQ 1547 409 2034 409 \nQ 2525 409 2770 889 \nQ 3016 1369 3016 2328 \nQ 3016 3291 2770 3770 \nQ 2525 4250 2034 4250 \nz\nM 2034 4750 \nQ 2819 4750 3233 4129 \nQ 3647 3509 3647 2328 \nQ 3647 1150 3233 529 \nQ 2819 -91 2034 -91 \nQ 1250 -91 836 529 \nQ 422 1150 422 2328 \nQ 422 3509 836 4129 \nQ 1250 4750 2034 4750 \nz\n\" id=\"DejaVuSans-30\" transform=\"scale(0.015625)\"/>\n       </defs>\n       <use xlink:href=\"#DejaVuSans-30\"/>\n      </g>\n     </g>\n    </g>\n    <g id=\"xtick_2\">\n     <g id=\"line2d_3\">\n      <path clip-path=\"url(#p507d7b2b53)\" d=\"M 120.487035 239.758125 \nL 120.487035 22.318125 \n\" style=\"fill:none;stroke:#b0b0b0;stroke-linecap:square;stroke-width:0.8;\"/>\n     </g>\n     <g id=\"line2d_4\">\n      <g>\n       <use style=\"stroke:#000000;stroke-width:0.8;\" x=\"120.487035\" xlink:href=\"#mdeac5559c8\" y=\"239.758125\"/>\n      </g>\n     </g>\n     <g id=\"text_2\">\n      <!-- 20 -->\n      <g transform=\"translate(114.124535 254.356562)scale(0.1 -0.1)\">\n       <defs>\n        <path d=\"M 1228 531 \nL 3431 531 \nL 3431 0 \nL 469 0 \nL 469 531 \nQ 828 903 1448 1529 \nQ 2069 2156 2228 2338 \nQ 2531 2678 2651 2914 \nQ 2772 3150 2772 3378 \nQ 2772 3750 2511 3984 \nQ 2250 4219 1831 4219 \nQ 1534 4219 1204 4116 \nQ 875 4013 500 3803 \nL 500 4441 \nQ 881 4594 1212 4672 \nQ 1544 4750 1819 4750 \nQ 2544 4750 2975 4387 \nQ 3406 4025 3406 3419 \nQ 3406 3131 3298 2873 \nQ 3191 2616 2906 2266 \nQ 2828 2175 2409 1742 \nQ 1991 1309 1228 531 \nz\n\" id=\"DejaVuSans-32\" transform=\"scale(0.015625)\"/>\n       </defs>\n       <use xlink:href=\"#DejaVuSans-32\"/>\n       <use x=\"63.623047\" xlink:href=\"#DejaVuSans-30\"/>\n      </g>\n     </g>\n    </g>\n    <g id=\"xtick_3\">\n     <g id=\"line2d_5\">\n      <path clip-path=\"url(#p507d7b2b53)\" d=\"M 181.974638 239.758125 \nL 181.974638 22.318125 \n\" style=\"fill:none;stroke:#b0b0b0;stroke-linecap:square;stroke-width:0.8;\"/>\n     </g>\n     <g id=\"line2d_6\">\n      <g>\n       <use style=\"stroke:#000000;stroke-width:0.8;\" x=\"181.974638\" xlink:href=\"#mdeac5559c8\" y=\"239.758125\"/>\n      </g>\n     </g>\n     <g id=\"text_3\">\n      <!-- 40 -->\n      <g transform=\"translate(175.612138 254.356562)scale(0.1 -0.1)\">\n       <defs>\n        <path d=\"M 2419 4116 \nL 825 1625 \nL 2419 1625 \nL 2419 4116 \nz\nM 2253 4666 \nL 3047 4666 \nL 3047 1625 \nL 3713 1625 \nL 3713 1100 \nL 3047 1100 \nL 3047 0 \nL 2419 0 \nL 2419 1100 \nL 313 1100 \nL 313 1709 \nL 2253 4666 \nz\n\" id=\"DejaVuSans-34\" transform=\"scale(0.015625)\"/>\n       </defs>\n       <use xlink:href=\"#DejaVuSans-34\"/>\n       <use x=\"63.623047\" xlink:href=\"#DejaVuSans-30\"/>\n      </g>\n     </g>\n    </g>\n    <g id=\"xtick_4\">\n     <g id=\"line2d_7\">\n      <path clip-path=\"url(#p507d7b2b53)\" d=\"M 243.462242 239.758125 \nL 243.462242 22.318125 \n\" style=\"fill:none;stroke:#b0b0b0;stroke-linecap:square;stroke-width:0.8;\"/>\n     </g>\n     <g id=\"line2d_8\">\n      <g>\n       <use style=\"stroke:#000000;stroke-width:0.8;\" x=\"243.462242\" xlink:href=\"#mdeac5559c8\" y=\"239.758125\"/>\n      </g>\n     </g>\n     <g id=\"text_4\">\n      <!-- 60 -->\n      <g transform=\"translate(237.099742 254.356562)scale(0.1 -0.1)\">\n       <defs>\n        <path d=\"M 2113 2584 \nQ 1688 2584 1439 2293 \nQ 1191 2003 1191 1497 \nQ 1191 994 1439 701 \nQ 1688 409 2113 409 \nQ 2538 409 2786 701 \nQ 3034 994 3034 1497 \nQ 3034 2003 2786 2293 \nQ 2538 2584 2113 2584 \nz\nM 3366 4563 \nL 3366 3988 \nQ 3128 4100 2886 4159 \nQ 2644 4219 2406 4219 \nQ 1781 4219 1451 3797 \nQ 1122 3375 1075 2522 \nQ 1259 2794 1537 2939 \nQ 1816 3084 2150 3084 \nQ 2853 3084 3261 2657 \nQ 3669 2231 3669 1497 \nQ 3669 778 3244 343 \nQ 2819 -91 2113 -91 \nQ 1303 -91 875 529 \nQ 447 1150 447 2328 \nQ 447 3434 972 4092 \nQ 1497 4750 2381 4750 \nQ 2619 4750 2861 4703 \nQ 3103 4656 3366 4563 \nz\n\" id=\"DejaVuSans-36\" transform=\"scale(0.015625)\"/>\n       </defs>\n       <use xlink:href=\"#DejaVuSans-36\"/>\n       <use x=\"63.623047\" xlink:href=\"#DejaVuSans-30\"/>\n      </g>\n     </g>\n    </g>\n    <g id=\"xtick_5\">\n     <g id=\"line2d_9\">\n      <path clip-path=\"url(#p507d7b2b53)\" d=\"M 304.949845 239.758125 \nL 304.949845 22.318125 \n\" style=\"fill:none;stroke:#b0b0b0;stroke-linecap:square;stroke-width:0.8;\"/>\n     </g>\n     <g id=\"line2d_10\">\n      <g>\n       <use style=\"stroke:#000000;stroke-width:0.8;\" x=\"304.949845\" xlink:href=\"#mdeac5559c8\" y=\"239.758125\"/>\n      </g>\n     </g>\n     <g id=\"text_5\">\n      <!-- 80 -->\n      <g transform=\"translate(298.587345 254.356562)scale(0.1 -0.1)\">\n       <defs>\n        <path d=\"M 2034 2216 \nQ 1584 2216 1326 1975 \nQ 1069 1734 1069 1313 \nQ 1069 891 1326 650 \nQ 1584 409 2034 409 \nQ 2484 409 2743 651 \nQ 3003 894 3003 1313 \nQ 3003 1734 2745 1975 \nQ 2488 2216 2034 2216 \nz\nM 1403 2484 \nQ 997 2584 770 2862 \nQ 544 3141 544 3541 \nQ 544 4100 942 4425 \nQ 1341 4750 2034 4750 \nQ 2731 4750 3128 4425 \nQ 3525 4100 3525 3541 \nQ 3525 3141 3298 2862 \nQ 3072 2584 2669 2484 \nQ 3125 2378 3379 2068 \nQ 3634 1759 3634 1313 \nQ 3634 634 3220 271 \nQ 2806 -91 2034 -91 \nQ 1263 -91 848 271 \nQ 434 634 434 1313 \nQ 434 1759 690 2068 \nQ 947 2378 1403 2484 \nz\nM 1172 3481 \nQ 1172 3119 1398 2916 \nQ 1625 2713 2034 2713 \nQ 2441 2713 2670 2916 \nQ 2900 3119 2900 3481 \nQ 2900 3844 2670 4047 \nQ 2441 4250 2034 4250 \nQ 1625 4250 1398 4047 \nQ 1172 3844 1172 3481 \nz\n\" id=\"DejaVuSans-38\" transform=\"scale(0.015625)\"/>\n       </defs>\n       <use xlink:href=\"#DejaVuSans-38\"/>\n       <use x=\"63.623047\" xlink:href=\"#DejaVuSans-30\"/>\n      </g>\n     </g>\n    </g>\n    <g id=\"xtick_6\">\n     <g id=\"line2d_11\">\n      <path clip-path=\"url(#p507d7b2b53)\" d=\"M 366.437448 239.758125 \nL 366.437448 22.318125 \n\" style=\"fill:none;stroke:#b0b0b0;stroke-linecap:square;stroke-width:0.8;\"/>\n     </g>\n     <g id=\"line2d_12\">\n      <g>\n       <use style=\"stroke:#000000;stroke-width:0.8;\" x=\"366.437448\" xlink:href=\"#mdeac5559c8\" y=\"239.758125\"/>\n      </g>\n     </g>\n     <g id=\"text_6\">\n      <!-- 100 -->\n      <g transform=\"translate(356.893698 254.356562)scale(0.1 -0.1)\">\n       <defs>\n        <path d=\"M 794 531 \nL 1825 531 \nL 1825 4091 \nL 703 3866 \nL 703 4441 \nL 1819 4666 \nL 2450 4666 \nL 2450 531 \nL 3481 531 \nL 3481 0 \nL 794 0 \nL 794 531 \nz\n\" id=\"DejaVuSans-31\" transform=\"scale(0.015625)\"/>\n       </defs>\n       <use xlink:href=\"#DejaVuSans-31\"/>\n       <use x=\"63.623047\" xlink:href=\"#DejaVuSans-30\"/>\n       <use x=\"127.246094\" xlink:href=\"#DejaVuSans-30\"/>\n      </g>\n     </g>\n    </g>\n    <g id=\"text_7\">\n     <!-- Iteration -->\n     <g transform=\"translate(189.972656 268.034687)scale(0.1 -0.1)\">\n      <defs>\n       <path d=\"M 628 4666 \nL 1259 4666 \nL 1259 0 \nL 628 0 \nL 628 4666 \nz\n\" id=\"DejaVuSans-49\" transform=\"scale(0.015625)\"/>\n       <path d=\"M 1172 4494 \nL 1172 3500 \nL 2356 3500 \nL 2356 3053 \nL 1172 3053 \nL 1172 1153 \nQ 1172 725 1289 603 \nQ 1406 481 1766 481 \nL 2356 481 \nL 2356 0 \nL 1766 0 \nQ 1100 0 847 248 \nQ 594 497 594 1153 \nL 594 3053 \nL 172 3053 \nL 172 3500 \nL 594 3500 \nL 594 4494 \nL 1172 4494 \nz\n\" id=\"DejaVuSans-74\" transform=\"scale(0.015625)\"/>\n       <path d=\"M 3597 1894 \nL 3597 1613 \nL 953 1613 \nQ 991 1019 1311 708 \nQ 1631 397 2203 397 \nQ 2534 397 2845 478 \nQ 3156 559 3463 722 \nL 3463 178 \nQ 3153 47 2828 -22 \nQ 2503 -91 2169 -91 \nQ 1331 -91 842 396 \nQ 353 884 353 1716 \nQ 353 2575 817 3079 \nQ 1281 3584 2069 3584 \nQ 2775 3584 3186 3129 \nQ 3597 2675 3597 1894 \nz\nM 3022 2063 \nQ 3016 2534 2758 2815 \nQ 2500 3097 2075 3097 \nQ 1594 3097 1305 2825 \nQ 1016 2553 972 2059 \nL 3022 2063 \nz\n\" id=\"DejaVuSans-65\" transform=\"scale(0.015625)\"/>\n       <path d=\"M 2631 2963 \nQ 2534 3019 2420 3045 \nQ 2306 3072 2169 3072 \nQ 1681 3072 1420 2755 \nQ 1159 2438 1159 1844 \nL 1159 0 \nL 581 0 \nL 581 3500 \nL 1159 3500 \nL 1159 2956 \nQ 1341 3275 1631 3429 \nQ 1922 3584 2338 3584 \nQ 2397 3584 2469 3576 \nQ 2541 3569 2628 3553 \nL 2631 2963 \nz\n\" id=\"DejaVuSans-72\" transform=\"scale(0.015625)\"/>\n       <path d=\"M 2194 1759 \nQ 1497 1759 1228 1600 \nQ 959 1441 959 1056 \nQ 959 750 1161 570 \nQ 1363 391 1709 391 \nQ 2188 391 2477 730 \nQ 2766 1069 2766 1631 \nL 2766 1759 \nL 2194 1759 \nz\nM 3341 1997 \nL 3341 0 \nL 2766 0 \nL 2766 531 \nQ 2569 213 2275 61 \nQ 1981 -91 1556 -91 \nQ 1019 -91 701 211 \nQ 384 513 384 1019 \nQ 384 1609 779 1909 \nQ 1175 2209 1959 2209 \nL 2766 2209 \nL 2766 2266 \nQ 2766 2663 2505 2880 \nQ 2244 3097 1772 3097 \nQ 1472 3097 1187 3025 \nQ 903 2953 641 2809 \nL 641 3341 \nQ 956 3463 1253 3523 \nQ 1550 3584 1831 3584 \nQ 2591 3584 2966 3190 \nQ 3341 2797 3341 1997 \nz\n\" id=\"DejaVuSans-61\" transform=\"scale(0.015625)\"/>\n       <path d=\"M 603 3500 \nL 1178 3500 \nL 1178 0 \nL 603 0 \nL 603 3500 \nz\nM 603 4863 \nL 1178 4863 \nL 1178 4134 \nL 603 4134 \nL 603 4863 \nz\n\" id=\"DejaVuSans-69\" transform=\"scale(0.015625)\"/>\n       <path d=\"M 1959 3097 \nQ 1497 3097 1228 2736 \nQ 959 2375 959 1747 \nQ 959 1119 1226 758 \nQ 1494 397 1959 397 \nQ 2419 397 2687 759 \nQ 2956 1122 2956 1747 \nQ 2956 2369 2687 2733 \nQ 2419 3097 1959 3097 \nz\nM 1959 3584 \nQ 2709 3584 3137 3096 \nQ 3566 2609 3566 1747 \nQ 3566 888 3137 398 \nQ 2709 -91 1959 -91 \nQ 1206 -91 779 398 \nQ 353 888 353 1747 \nQ 353 2609 779 3096 \nQ 1206 3584 1959 3584 \nz\n\" id=\"DejaVuSans-6f\" transform=\"scale(0.015625)\"/>\n       <path d=\"M 3513 2113 \nL 3513 0 \nL 2938 0 \nL 2938 2094 \nQ 2938 2591 2744 2837 \nQ 2550 3084 2163 3084 \nQ 1697 3084 1428 2787 \nQ 1159 2491 1159 1978 \nL 1159 0 \nL 581 0 \nL 581 3500 \nL 1159 3500 \nL 1159 2956 \nQ 1366 3272 1645 3428 \nQ 1925 3584 2291 3584 \nQ 2894 3584 3203 3211 \nQ 3513 2838 3513 2113 \nz\n\" id=\"DejaVuSans-6e\" transform=\"scale(0.015625)\"/>\n      </defs>\n      <use xlink:href=\"#DejaVuSans-49\"/>\n      <use x=\"29.492188\" xlink:href=\"#DejaVuSans-74\"/>\n      <use x=\"68.701172\" xlink:href=\"#DejaVuSans-65\"/>\n      <use x=\"130.224609\" xlink:href=\"#DejaVuSans-72\"/>\n      <use x=\"171.337891\" xlink:href=\"#DejaVuSans-61\"/>\n      <use x=\"232.617188\" xlink:href=\"#DejaVuSans-74\"/>\n      <use x=\"271.826172\" xlink:href=\"#DejaVuSans-69\"/>\n      <use x=\"299.609375\" xlink:href=\"#DejaVuSans-6f\"/>\n      <use x=\"360.791016\" xlink:href=\"#DejaVuSans-6e\"/>\n     </g>\n    </g>\n   </g>\n   <g id=\"matplotlib.axis_2\">\n    <g id=\"ytick_1\">\n     <g id=\"line2d_13\">\n      <path clip-path=\"url(#p507d7b2b53)\" d=\"M 43.78125 217.109865 \nL 378.58125 217.109865 \n\" style=\"fill:none;stroke:#b0b0b0;stroke-linecap:square;stroke-width:0.8;\"/>\n     </g>\n     <g id=\"line2d_14\">\n      <defs>\n       <path d=\"M 0 0 \nL -3.5 0 \n\" id=\"m1dc14c5b6f\" style=\"stroke:#000000;stroke-width:0.8;\"/>\n      </defs>\n      <g>\n       <use style=\"stroke:#000000;stroke-width:0.8;\" x=\"43.78125\" xlink:href=\"#m1dc14c5b6f\" y=\"217.109865\"/>\n      </g>\n     </g>\n     <g id=\"text_8\">\n      <!-- 0.6 -->\n      <g transform=\"translate(20.878125 220.909083)scale(0.1 -0.1)\">\n       <defs>\n        <path d=\"M 684 794 \nL 1344 794 \nL 1344 0 \nL 684 0 \nL 684 794 \nz\n\" id=\"DejaVuSans-2e\" transform=\"scale(0.015625)\"/>\n       </defs>\n       <use xlink:href=\"#DejaVuSans-30\"/>\n       <use x=\"63.623047\" xlink:href=\"#DejaVuSans-2e\"/>\n       <use x=\"95.410156\" xlink:href=\"#DejaVuSans-36\"/>\n      </g>\n     </g>\n    </g>\n    <g id=\"ytick_2\">\n     <g id=\"line2d_15\">\n      <path clip-path=\"url(#p507d7b2b53)\" d=\"M 43.78125 169.83348 \nL 378.58125 169.83348 \n\" style=\"fill:none;stroke:#b0b0b0;stroke-linecap:square;stroke-width:0.8;\"/>\n     </g>\n     <g id=\"line2d_16\">\n      <g>\n       <use style=\"stroke:#000000;stroke-width:0.8;\" x=\"43.78125\" xlink:href=\"#m1dc14c5b6f\" y=\"169.83348\"/>\n      </g>\n     </g>\n     <g id=\"text_9\">\n      <!-- 0.7 -->\n      <g transform=\"translate(20.878125 173.632699)scale(0.1 -0.1)\">\n       <defs>\n        <path d=\"M 525 4666 \nL 3525 4666 \nL 3525 4397 \nL 1831 0 \nL 1172 0 \nL 2766 4134 \nL 525 4134 \nL 525 4666 \nz\n\" id=\"DejaVuSans-37\" transform=\"scale(0.015625)\"/>\n       </defs>\n       <use xlink:href=\"#DejaVuSans-30\"/>\n       <use x=\"63.623047\" xlink:href=\"#DejaVuSans-2e\"/>\n       <use x=\"95.410156\" xlink:href=\"#DejaVuSans-37\"/>\n      </g>\n     </g>\n    </g>\n    <g id=\"ytick_3\">\n     <g id=\"line2d_17\">\n      <path clip-path=\"url(#p507d7b2b53)\" d=\"M 43.78125 122.557095 \nL 378.58125 122.557095 \n\" style=\"fill:none;stroke:#b0b0b0;stroke-linecap:square;stroke-width:0.8;\"/>\n     </g>\n     <g id=\"line2d_18\">\n      <g>\n       <use style=\"stroke:#000000;stroke-width:0.8;\" x=\"43.78125\" xlink:href=\"#m1dc14c5b6f\" y=\"122.557095\"/>\n      </g>\n     </g>\n     <g id=\"text_10\">\n      <!-- 0.8 -->\n      <g transform=\"translate(20.878125 126.356314)scale(0.1 -0.1)\">\n       <use xlink:href=\"#DejaVuSans-30\"/>\n       <use x=\"63.623047\" xlink:href=\"#DejaVuSans-2e\"/>\n       <use x=\"95.410156\" xlink:href=\"#DejaVuSans-38\"/>\n      </g>\n     </g>\n    </g>\n    <g id=\"ytick_4\">\n     <g id=\"line2d_19\">\n      <path clip-path=\"url(#p507d7b2b53)\" d=\"M 43.78125 75.28071 \nL 378.58125 75.28071 \n\" style=\"fill:none;stroke:#b0b0b0;stroke-linecap:square;stroke-width:0.8;\"/>\n     </g>\n     <g id=\"line2d_20\">\n      <g>\n       <use style=\"stroke:#000000;stroke-width:0.8;\" x=\"43.78125\" xlink:href=\"#m1dc14c5b6f\" y=\"75.28071\"/>\n      </g>\n     </g>\n     <g id=\"text_11\">\n      <!-- 0.9 -->\n      <g transform=\"translate(20.878125 79.079929)scale(0.1 -0.1)\">\n       <defs>\n        <path d=\"M 703 97 \nL 703 672 \nQ 941 559 1184 500 \nQ 1428 441 1663 441 \nQ 2288 441 2617 861 \nQ 2947 1281 2994 2138 \nQ 2813 1869 2534 1725 \nQ 2256 1581 1919 1581 \nQ 1219 1581 811 2004 \nQ 403 2428 403 3163 \nQ 403 3881 828 4315 \nQ 1253 4750 1959 4750 \nQ 2769 4750 3195 4129 \nQ 3622 3509 3622 2328 \nQ 3622 1225 3098 567 \nQ 2575 -91 1691 -91 \nQ 1453 -91 1209 -44 \nQ 966 3 703 97 \nz\nM 1959 2075 \nQ 2384 2075 2632 2365 \nQ 2881 2656 2881 3163 \nQ 2881 3666 2632 3958 \nQ 2384 4250 1959 4250 \nQ 1534 4250 1286 3958 \nQ 1038 3666 1038 3163 \nQ 1038 2656 1286 2365 \nQ 1534 2075 1959 2075 \nz\n\" id=\"DejaVuSans-39\" transform=\"scale(0.015625)\"/>\n       </defs>\n       <use xlink:href=\"#DejaVuSans-30\"/>\n       <use x=\"63.623047\" xlink:href=\"#DejaVuSans-2e\"/>\n       <use x=\"95.410156\" xlink:href=\"#DejaVuSans-39\"/>\n      </g>\n     </g>\n    </g>\n    <g id=\"ytick_5\">\n     <g id=\"line2d_21\">\n      <path clip-path=\"url(#p507d7b2b53)\" d=\"M 43.78125 28.004325 \nL 378.58125 28.004325 \n\" style=\"fill:none;stroke:#b0b0b0;stroke-linecap:square;stroke-width:0.8;\"/>\n     </g>\n     <g id=\"line2d_22\">\n      <g>\n       <use style=\"stroke:#000000;stroke-width:0.8;\" x=\"43.78125\" xlink:href=\"#m1dc14c5b6f\" y=\"28.004325\"/>\n      </g>\n     </g>\n     <g id=\"text_12\">\n      <!-- 1.0 -->\n      <g transform=\"translate(20.878125 31.803544)scale(0.1 -0.1)\">\n       <use xlink:href=\"#DejaVuSans-31\"/>\n       <use x=\"63.623047\" xlink:href=\"#DejaVuSans-2e\"/>\n       <use x=\"95.410156\" xlink:href=\"#DejaVuSans-30\"/>\n      </g>\n     </g>\n    </g>\n    <g id=\"text_13\">\n     <!-- Accuracy -->\n     <g transform=\"translate(14.798438 153.86625)rotate(-90)scale(0.1 -0.1)\">\n      <defs>\n       <path d=\"M 2188 4044 \nL 1331 1722 \nL 3047 1722 \nL 2188 4044 \nz\nM 1831 4666 \nL 2547 4666 \nL 4325 0 \nL 3669 0 \nL 3244 1197 \nL 1141 1197 \nL 716 0 \nL 50 0 \nL 1831 4666 \nz\n\" id=\"DejaVuSans-41\" transform=\"scale(0.015625)\"/>\n       <path d=\"M 3122 3366 \nL 3122 2828 \nQ 2878 2963 2633 3030 \nQ 2388 3097 2138 3097 \nQ 1578 3097 1268 2742 \nQ 959 2388 959 1747 \nQ 959 1106 1268 751 \nQ 1578 397 2138 397 \nQ 2388 397 2633 464 \nQ 2878 531 3122 666 \nL 3122 134 \nQ 2881 22 2623 -34 \nQ 2366 -91 2075 -91 \nQ 1284 -91 818 406 \nQ 353 903 353 1747 \nQ 353 2603 823 3093 \nQ 1294 3584 2113 3584 \nQ 2378 3584 2631 3529 \nQ 2884 3475 3122 3366 \nz\n\" id=\"DejaVuSans-63\" transform=\"scale(0.015625)\"/>\n       <path d=\"M 544 1381 \nL 544 3500 \nL 1119 3500 \nL 1119 1403 \nQ 1119 906 1312 657 \nQ 1506 409 1894 409 \nQ 2359 409 2629 706 \nQ 2900 1003 2900 1516 \nL 2900 3500 \nL 3475 3500 \nL 3475 0 \nL 2900 0 \nL 2900 538 \nQ 2691 219 2414 64 \nQ 2138 -91 1772 -91 \nQ 1169 -91 856 284 \nQ 544 659 544 1381 \nz\nM 1991 3584 \nL 1991 3584 \nz\n\" id=\"DejaVuSans-75\" transform=\"scale(0.015625)\"/>\n       <path d=\"M 2059 -325 \nQ 1816 -950 1584 -1140 \nQ 1353 -1331 966 -1331 \nL 506 -1331 \nL 506 -850 \nL 844 -850 \nQ 1081 -850 1212 -737 \nQ 1344 -625 1503 -206 \nL 1606 56 \nL 191 3500 \nL 800 3500 \nL 1894 763 \nL 2988 3500 \nL 3597 3500 \nL 2059 -325 \nz\n\" id=\"DejaVuSans-79\" transform=\"scale(0.015625)\"/>\n      </defs>\n      <use xlink:href=\"#DejaVuSans-41\"/>\n      <use x=\"66.658203\" xlink:href=\"#DejaVuSans-63\"/>\n      <use x=\"121.638672\" xlink:href=\"#DejaVuSans-63\"/>\n      <use x=\"176.619141\" xlink:href=\"#DejaVuSans-75\"/>\n      <use x=\"239.998047\" xlink:href=\"#DejaVuSans-72\"/>\n      <use x=\"281.111328\" xlink:href=\"#DejaVuSans-61\"/>\n      <use x=\"342.390625\" xlink:href=\"#DejaVuSans-63\"/>\n      <use x=\"397.371094\" xlink:href=\"#DejaVuSans-79\"/>\n     </g>\n    </g>\n   </g>\n   <g id=\"line2d_23\">\n    <path clip-path=\"url(#p507d7b2b53)\" d=\"M 58.999432 229.874489 \nL 62.073812 218.764538 \nL 65.148192 211.436699 \nL 68.222572 211.67308 \nL 71.296952 206.472678 \nL 74.371333 212.382226 \nL 77.445713 203.636095 \nL 80.520093 200.326748 \nL 83.594473 197.490165 \nL 86.668853 194.4172 \nL 89.743233 191.816999 \nL 92.817614 192.762527 \nL 95.891994 190.162325 \nL 98.966374 184.016395 \nL 102.040754 181.652576 \nL 105.115134 179.052375 \nL 108.189514 177.870465 \nL 111.263895 175.033882 \nL 114.338275 175.743028 \nL 117.412655 173.379209 \nL 120.487035 172.670063 \nL 123.561415 171.015389 \nL 126.635795 165.105841 \nL 129.710176 166.996897 \nL 132.784556 163.68755 \nL 135.858936 162.50564 \nL 138.933316 159.196293 \nL 142.007696 157.068856 \nL 145.082076 160.850967 \nL 148.156457 158.723529 \nL 151.230837 155.177801 \nL 154.305217 154.232273 \nL 157.379597 147.140815 \nL 160.453977 147.140815 \nL 163.528357 146.431669 \nL 166.602738 147.377197 \nL 169.677118 146.195287 \nL 172.751498 143.595086 \nL 175.825878 143.122322 \nL 178.900258 141.467649 \nL 181.974638 136.976392 \nL 185.049019 137.92192 \nL 188.123399 136.267247 \nL 191.197779 135.794483 \nL 194.272159 135.794483 \nL 197.346539 135.321719 \nL 200.420919 130.830462 \nL 203.4953 130.59408 \nL 206.56968 128.230261 \nL 209.64406 127.048352 \nL 212.71844 124.684532 \nL 215.79282 122.793477 \nL 218.8672 123.029859 \nL 221.941581 121.611567 \nL 225.015961 121.375185 \nL 228.090341 119.247748 \nL 231.164721 119.720512 \nL 234.239101 115.938401 \nL 237.313481 116.883929 \nL 240.387862 115.465637 \nL 243.462242 112.392672 \nL 246.536622 113.101818 \nL 249.611002 112.15629 \nL 252.685382 109.792471 \nL 255.759762 109.556089 \nL 258.834143 109.556089 \nL 261.908523 108.37418 \nL 264.982903 108.137798 \nL 268.057283 106.246742 \nL 271.131663 106.955888 \nL 274.206043 107.665034 \nL 277.280424 104.355687 \nL 280.354804 104.119305 \nL 283.429184 102.701013 \nL 286.503564 101.519104 \nL 289.577944 105.064833 \nL 292.652324 101.04634 \nL 295.726705 101.755486 \nL 298.801085 99.86443 \nL 301.875465 99.391666 \nL 304.949845 99.155285 \nL 308.024225 98.682521 \nL 311.098605 97.500611 \nL 314.172986 97.264229 \nL 317.247366 97.264229 \nL 320.321746 95.609556 \nL 323.396126 95.609556 \nL 326.470506 94.664028 \nL 329.544886 93.482118 \nL 332.619267 91.354681 \nL 335.693647 90.881917 \nL 338.768027 91.827445 \nL 341.842407 92.300209 \nL 344.916787 90.881917 \nL 347.991167 90.881917 \nL 351.065548 89.227244 \nL 354.139928 90.645535 \nL 357.214308 88.990862 \nL 360.288688 89.227244 \nL 363.363068 89.463626 \n\" style=\"fill:none;stroke:#1f77b4;stroke-linecap:square;stroke-width:1.5;\"/>\n   </g>\n   <g id=\"line2d_24\">\n    <path clip-path=\"url(#p507d7b2b53)\" d=\"M 58.999432 63.461614 \nL 62.073812 60.238224 \nL 65.148192 67.401313 \nL 68.222572 57.097485 \nL 71.296952 60.084729 \nL 74.371333 62.673674 \nL 77.445713 59.029453 \nL 80.520093 59.985409 \nL 83.594473 62.148381 \nL 86.668853 61.595441 \nL 89.743233 58.733975 \nL 92.817614 66.275684 \nL 95.891994 65.610541 \nL 98.966374 59.864498 \nL 102.040754 62.476689 \nL 105.115134 60.152267 \nL 108.189514 61.643291 \nL 111.263895 59.521915 \nL 114.338275 68.526941 \nL 117.412655 65.499389 \nL 120.487035 68.189252 \nL 123.561415 65.36792 \nL 126.635795 58.290759 \nL 129.710176 63.10346 \nL 132.784556 59.290168 \nL 135.858936 61.097795 \nL 138.933316 62.804998 \nL 142.007696 58.031218 \nL 145.082076 69.060133 \nL 148.156457 65.58299 \nL 151.230837 59.915885 \nL 154.305217 60.867178 \nL 157.379597 56.145031 \nL 160.453977 57.689497 \nL 163.528357 58.089298 \nL 166.602738 61.623088 \nL 169.677118 54.72576 \nL 172.751498 53.654279 \nL 175.825878 55.089754 \nL 178.900258 55.019402 \nL 181.974638 48.333171 \nL 185.049019 54.886976 \nL 188.123399 53.46084 \nL 191.197779 52.088521 \nL 194.272159 52.080262 \nL 197.346539 51.642518 \nL 200.420919 48.265633 \nL 203.4953 49.983697 \nL 206.56968 50.012298 \nL 209.64406 50.039928 \nL 212.71844 44.94503 \nL 215.79282 45.054825 \nL 218.8672 44.398556 \nL 221.941581 41.511864 \nL 225.015961 44.255583 \nL 228.090341 41.823576 \nL 231.164721 44.837584 \nL 234.239101 38.941399 \nL 237.313481 42.604385 \nL 240.387862 41.365043 \nL 243.462242 35.433472 \nL 246.536622 39.656955 \nL 249.611002 39.495113 \nL 252.685382 36.747218 \nL 255.759762 39.184551 \nL 258.834143 37.144426 \nL 261.908523 36.713133 \nL 264.982903 36.600032 \nL 268.057283 34.0654 \nL 271.131663 36.083201 \nL 274.206043 38.641512 \nL 277.280424 33.257257 \nL 280.354804 34.346279 \nL 283.429184 33.985073 \nL 286.503564 33.069652 \nL 289.577944 44.133915 \nL 292.652324 34.326167 \nL 295.726705 36.698833 \nL 298.801085 33.108026 \nL 301.875465 32.785083 \nL 304.949845 33.519904 \nL 308.024225 32.680012 \nL 311.098605 32.372252 \nL 314.172986 33.596156 \nL 317.247366 33.033728 \nL 320.321746 32.234318 \nL 323.396126 32.436486 \nL 326.470506 34.584028 \nL 329.544886 33.069652 \nL 332.619267 32.302178 \nL 335.693647 33.204728 \nL 338.768027 32.919197 \nL 341.842407 37.737699 \nL 344.916787 35.118733 \nL 347.991167 35.050325 \nL 351.065548 32.506838 \nL 354.139928 36.924398 \nL 357.214308 32.201761 \nL 360.288688 33.695001 \nL 363.363068 35.594571 \n\" style=\"fill:none;stroke:#ff7f0e;stroke-linecap:square;stroke-width:1.5;\"/>\n   </g>\n   <g id=\"patch_3\">\n    <path d=\"M 43.78125 239.758125 \nL 43.78125 22.318125 \n\" style=\"fill:none;stroke:#000000;stroke-linecap:square;stroke-linejoin:miter;stroke-width:0.8;\"/>\n   </g>\n   <g id=\"patch_4\">\n    <path d=\"M 378.58125 239.758125 \nL 378.58125 22.318125 \n\" style=\"fill:none;stroke:#000000;stroke-linecap:square;stroke-linejoin:miter;stroke-width:0.8;\"/>\n   </g>\n   <g id=\"patch_5\">\n    <path d=\"M 43.78125 239.758125 \nL 378.58125 239.758125 \n\" style=\"fill:none;stroke:#000000;stroke-linecap:square;stroke-linejoin:miter;stroke-width:0.8;\"/>\n   </g>\n   <g id=\"patch_6\">\n    <path d=\"M 43.78125 22.318125 \nL 378.58125 22.318125 \n\" style=\"fill:none;stroke:#000000;stroke-linecap:square;stroke-linejoin:miter;stroke-width:0.8;\"/>\n   </g>\n   <g id=\"text_14\">\n    <!-- Accuracy per iteration -->\n    <g transform=\"translate(144.659063 16.318125)scale(0.12 -0.12)\">\n     <defs>\n      <path id=\"DejaVuSans-20\" transform=\"scale(0.015625)\"/>\n      <path d=\"M 1159 525 \nL 1159 -1331 \nL 581 -1331 \nL 581 3500 \nL 1159 3500 \nL 1159 2969 \nQ 1341 3281 1617 3432 \nQ 1894 3584 2278 3584 \nQ 2916 3584 3314 3078 \nQ 3713 2572 3713 1747 \nQ 3713 922 3314 415 \nQ 2916 -91 2278 -91 \nQ 1894 -91 1617 61 \nQ 1341 213 1159 525 \nz\nM 3116 1747 \nQ 3116 2381 2855 2742 \nQ 2594 3103 2138 3103 \nQ 1681 3103 1420 2742 \nQ 1159 2381 1159 1747 \nQ 1159 1113 1420 752 \nQ 1681 391 2138 391 \nQ 2594 391 2855 752 \nQ 3116 1113 3116 1747 \nz\n\" id=\"DejaVuSans-70\" transform=\"scale(0.015625)\"/>\n     </defs>\n     <use xlink:href=\"#DejaVuSans-41\"/>\n     <use x=\"66.658203\" xlink:href=\"#DejaVuSans-63\"/>\n     <use x=\"121.638672\" xlink:href=\"#DejaVuSans-63\"/>\n     <use x=\"176.619141\" xlink:href=\"#DejaVuSans-75\"/>\n     <use x=\"239.998047\" xlink:href=\"#DejaVuSans-72\"/>\n     <use x=\"281.111328\" xlink:href=\"#DejaVuSans-61\"/>\n     <use x=\"342.390625\" xlink:href=\"#DejaVuSans-63\"/>\n     <use x=\"397.371094\" xlink:href=\"#DejaVuSans-79\"/>\n     <use x=\"456.550781\" xlink:href=\"#DejaVuSans-20\"/>\n     <use x=\"488.337891\" xlink:href=\"#DejaVuSans-70\"/>\n     <use x=\"551.814453\" xlink:href=\"#DejaVuSans-65\"/>\n     <use x=\"613.337891\" xlink:href=\"#DejaVuSans-72\"/>\n     <use x=\"654.451172\" xlink:href=\"#DejaVuSans-20\"/>\n     <use x=\"686.238281\" xlink:href=\"#DejaVuSans-69\"/>\n     <use x=\"714.021484\" xlink:href=\"#DejaVuSans-74\"/>\n     <use x=\"753.230469\" xlink:href=\"#DejaVuSans-65\"/>\n     <use x=\"814.753906\" xlink:href=\"#DejaVuSans-72\"/>\n     <use x=\"855.867188\" xlink:href=\"#DejaVuSans-61\"/>\n     <use x=\"917.146484\" xlink:href=\"#DejaVuSans-74\"/>\n     <use x=\"956.355469\" xlink:href=\"#DejaVuSans-69\"/>\n     <use x=\"984.138672\" xlink:href=\"#DejaVuSans-6f\"/>\n     <use x=\"1045.320312\" xlink:href=\"#DejaVuSans-6e\"/>\n    </g>\n   </g>\n   <g id=\"legend_1\">\n    <g id=\"patch_7\">\n     <path d=\"M 252.545313 234.758125 \nL 371.58125 234.758125 \nQ 373.58125 234.758125 373.58125 232.758125 \nL 373.58125 204.401875 \nQ 373.58125 202.401875 371.58125 202.401875 \nL 252.545313 202.401875 \nQ 250.545313 202.401875 250.545313 204.401875 \nL 250.545313 232.758125 \nQ 250.545313 234.758125 252.545313 234.758125 \nz\n\" style=\"fill:#ffffff;opacity:0.8;stroke:#cccccc;stroke-linejoin:miter;\"/>\n    </g>\n    <g id=\"line2d_25\">\n     <path d=\"M 254.545313 210.500312 \nL 274.545313 210.500312 \n\" style=\"fill:none;stroke:#1f77b4;stroke-linecap:square;stroke-width:1.5;\"/>\n    </g>\n    <g id=\"line2d_26\"/>\n    <g id=\"text_15\">\n     <!-- training accuracy -->\n     <g transform=\"translate(282.545313 214.000312)scale(0.1 -0.1)\">\n      <defs>\n       <path d=\"M 2906 1791 \nQ 2906 2416 2648 2759 \nQ 2391 3103 1925 3103 \nQ 1463 3103 1205 2759 \nQ 947 2416 947 1791 \nQ 947 1169 1205 825 \nQ 1463 481 1925 481 \nQ 2391 481 2648 825 \nQ 2906 1169 2906 1791 \nz\nM 3481 434 \nQ 3481 -459 3084 -895 \nQ 2688 -1331 1869 -1331 \nQ 1566 -1331 1297 -1286 \nQ 1028 -1241 775 -1147 \nL 775 -588 \nQ 1028 -725 1275 -790 \nQ 1522 -856 1778 -856 \nQ 2344 -856 2625 -561 \nQ 2906 -266 2906 331 \nL 2906 616 \nQ 2728 306 2450 153 \nQ 2172 0 1784 0 \nQ 1141 0 747 490 \nQ 353 981 353 1791 \nQ 353 2603 747 3093 \nQ 1141 3584 1784 3584 \nQ 2172 3584 2450 3431 \nQ 2728 3278 2906 2969 \nL 2906 3500 \nL 3481 3500 \nL 3481 434 \nz\n\" id=\"DejaVuSans-67\" transform=\"scale(0.015625)\"/>\n      </defs>\n      <use xlink:href=\"#DejaVuSans-74\"/>\n      <use x=\"39.208984\" xlink:href=\"#DejaVuSans-72\"/>\n      <use x=\"80.322266\" xlink:href=\"#DejaVuSans-61\"/>\n      <use x=\"141.601562\" xlink:href=\"#DejaVuSans-69\"/>\n      <use x=\"169.384766\" xlink:href=\"#DejaVuSans-6e\"/>\n      <use x=\"232.763672\" xlink:href=\"#DejaVuSans-69\"/>\n      <use x=\"260.546875\" xlink:href=\"#DejaVuSans-6e\"/>\n      <use x=\"323.925781\" xlink:href=\"#DejaVuSans-67\"/>\n      <use x=\"387.402344\" xlink:href=\"#DejaVuSans-20\"/>\n      <use x=\"419.189453\" xlink:href=\"#DejaVuSans-61\"/>\n      <use x=\"480.46875\" xlink:href=\"#DejaVuSans-63\"/>\n      <use x=\"535.449219\" xlink:href=\"#DejaVuSans-63\"/>\n      <use x=\"590.429688\" xlink:href=\"#DejaVuSans-75\"/>\n      <use x=\"653.808594\" xlink:href=\"#DejaVuSans-72\"/>\n      <use x=\"694.921875\" xlink:href=\"#DejaVuSans-61\"/>\n      <use x=\"756.201172\" xlink:href=\"#DejaVuSans-63\"/>\n      <use x=\"811.181641\" xlink:href=\"#DejaVuSans-79\"/>\n     </g>\n    </g>\n    <g id=\"line2d_27\">\n     <path d=\"M 254.545313 225.178437 \nL 274.545313 225.178437 \n\" style=\"fill:none;stroke:#ff7f0e;stroke-linecap:square;stroke-width:1.5;\"/>\n    </g>\n    <g id=\"line2d_28\"/>\n    <g id=\"text_16\">\n     <!-- subset accuracy -->\n     <g transform=\"translate(282.545313 228.678437)scale(0.1 -0.1)\">\n      <defs>\n       <path d=\"M 2834 3397 \nL 2834 2853 \nQ 2591 2978 2328 3040 \nQ 2066 3103 1784 3103 \nQ 1356 3103 1142 2972 \nQ 928 2841 928 2578 \nQ 928 2378 1081 2264 \nQ 1234 2150 1697 2047 \nL 1894 2003 \nQ 2506 1872 2764 1633 \nQ 3022 1394 3022 966 \nQ 3022 478 2636 193 \nQ 2250 -91 1575 -91 \nQ 1294 -91 989 -36 \nQ 684 19 347 128 \nL 347 722 \nQ 666 556 975 473 \nQ 1284 391 1588 391 \nQ 1994 391 2212 530 \nQ 2431 669 2431 922 \nQ 2431 1156 2273 1281 \nQ 2116 1406 1581 1522 \nL 1381 1569 \nQ 847 1681 609 1914 \nQ 372 2147 372 2553 \nQ 372 3047 722 3315 \nQ 1072 3584 1716 3584 \nQ 2034 3584 2315 3537 \nQ 2597 3491 2834 3397 \nz\n\" id=\"DejaVuSans-73\" transform=\"scale(0.015625)\"/>\n       <path d=\"M 3116 1747 \nQ 3116 2381 2855 2742 \nQ 2594 3103 2138 3103 \nQ 1681 3103 1420 2742 \nQ 1159 2381 1159 1747 \nQ 1159 1113 1420 752 \nQ 1681 391 2138 391 \nQ 2594 391 2855 752 \nQ 3116 1113 3116 1747 \nz\nM 1159 2969 \nQ 1341 3281 1617 3432 \nQ 1894 3584 2278 3584 \nQ 2916 3584 3314 3078 \nQ 3713 2572 3713 1747 \nQ 3713 922 3314 415 \nQ 2916 -91 2278 -91 \nQ 1894 -91 1617 61 \nQ 1341 213 1159 525 \nL 1159 0 \nL 581 0 \nL 581 4863 \nL 1159 4863 \nL 1159 2969 \nz\n\" id=\"DejaVuSans-62\" transform=\"scale(0.015625)\"/>\n      </defs>\n      <use xlink:href=\"#DejaVuSans-73\"/>\n      <use x=\"52.099609\" xlink:href=\"#DejaVuSans-75\"/>\n      <use x=\"115.478516\" xlink:href=\"#DejaVuSans-62\"/>\n      <use x=\"178.955078\" xlink:href=\"#DejaVuSans-73\"/>\n      <use x=\"231.054688\" xlink:href=\"#DejaVuSans-65\"/>\n      <use x=\"292.578125\" xlink:href=\"#DejaVuSans-74\"/>\n      <use x=\"331.787109\" xlink:href=\"#DejaVuSans-20\"/>\n      <use x=\"363.574219\" xlink:href=\"#DejaVuSans-61\"/>\n      <use x=\"424.853516\" xlink:href=\"#DejaVuSans-63\"/>\n      <use x=\"479.833984\" xlink:href=\"#DejaVuSans-63\"/>\n      <use x=\"534.814453\" xlink:href=\"#DejaVuSans-75\"/>\n      <use x=\"598.193359\" xlink:href=\"#DejaVuSans-72\"/>\n      <use x=\"639.306641\" xlink:href=\"#DejaVuSans-61\"/>\n      <use x=\"700.585938\" xlink:href=\"#DejaVuSans-63\"/>\n      <use x=\"755.566406\" xlink:href=\"#DejaVuSans-79\"/>\n     </g>\n    </g>\n   </g>\n  </g>\n </g>\n <defs>\n  <clipPath id=\"p507d7b2b53\">\n   <rect height=\"217.44\" width=\"334.8\" x=\"43.78125\" y=\"22.318125\"/>\n  </clipPath>\n </defs>\n</svg>\n",
      "image/png": "[encoded data removed]"
     },
     "metadata": {
      "needs_background": "light"
     }
    }
   ],
   "source": [
    "x = np.arange(STEPS)\n",
    "y_list = {\n",
    "    'training accuracy': [item['train'] for item in accuracy_per_step],\n",
    "    'subset accuracy': [item['subset'] for item in accuracy_per_step]\n",
    "}\n",
    "\n",
    "utils.plot_line_chart(\n",
    "    x=x,\n",
    "    y_list=y_list,\n",
    "    xlabel='Iteration',\n",
    "    ylabel='Accuracy',\n",
    "    title='Accuracy per iteration'\n",
    ")"
   ]
  },
  {
   "cell_type": "code",
   "execution_count": 12,
   "metadata": {},
   "outputs": [
    {
     "output_type": "stream",
     "name": "stdout",
     "text": [
      "Accuracy on testset : 61.37566137566137\n"
     ]
    }
   ],
   "source": [
    "print('Accuracy on testset : {}'.format(utils.calculate_accuracy(classifier, test_features, test_labels)*100))"
   ]
  },
  {
   "cell_type": "code",
   "execution_count": null,
   "metadata": {},
   "outputs": [],
   "source": []
  }
 ],
 "metadata": {
  "kernelspec": {
   "display_name": "Python 3",
   "language": "python",
   "name": "python3"
  },
  "language_info": {
   "codemirror_mode": {
    "name": "ipython",
    "version": 3
   },
   "file_extension": ".py",
   "mimetype": "text/x-python",
   "name": "python",
   "nbconvert_exporter": "python",
   "pygments_lexer": "ipython3",
   "version": "3.8.5-final"
  }
 },
 "nbformat": 4,
 "nbformat_minor": 4
}