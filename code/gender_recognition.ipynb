{
  "nbformat": 4,
  "nbformat_minor": 0,
  "metadata": {
    "kernelspec": {
      "display_name": "Python 3",
      "language": "python",
      "name": "python3"
    },
    "language_info": {
      "codemirror_mode": {
        "name": "ipython",
        "version": 3
      },
      "file_extension": ".py",
      "mimetype": "text/x-python",
      "name": "python",
      "nbconvert_exporter": "python",
      "pygments_lexer": "ipython3",
      "version": "3.8.5-final"
    },
    "colab": {
      "name": "gender_recognition.ipynb",
      "provenance": []
    }
  },
  "cells": [
    {
      "cell_type": "markdown",
      "metadata": {
        "id": "XJO9r_BjteDx"
      },
      "source": [
        "# NLP (HW1)\n",
        "## Persian Gender Recognition\n",
        "## Authors: Nahal Mirzaie, Tahere Talaie\n",
        "### Spring 1400"
      ]
    },
    {
      "cell_type": "markdown",
      "metadata": {
        "id": "DhAVD-TFteD3"
      },
      "source": [
        "## Connect to Google Drive"
      ]
    },
    {
      "cell_type": "code",
      "metadata": {
        "id": "hjBEjfOcteD3",
        "colab": {
          "base_uri": "https://localhost:8080/"
        },
        "outputId": "1f601e44-7406-4776-d1ee-3dfda355ed6f"
      },
      "source": [
        "from google.colab import drive\n",
        "drive.mount('/content/drive')\n",
        "%cd drive/MyDrive"
      ],
      "execution_count": null,
      "outputs": [
        {
          "output_type": "stream",
          "text": [
            "Mounted at /content/drive\n"
          ],
          "name": "stdout"
        }
      ]
    },
    {
      "cell_type": "markdown",
      "metadata": {
        "id": "4nbo9p52teD4"
      },
      "source": [
        "### Clone Project from Github"
      ]
    },
    {
      "cell_type": "code",
      "metadata": {
        "id": "mxsnvI1ZteD4",
        "colab": {
          "base_uri": "https://localhost:8080/"
        },
        "outputId": "a87c481f-0797-4a76-dfe4-8b1ad3ae98dc"
      },
      "source": [
        "!git clone 'https://github.com/mirzanahal/Persian-Gender-Recognition'"
      ],
      "execution_count": 1,
      "outputs": [
        {
          "output_type": "stream",
          "text": [
            "Cloning into 'Persian-Gender-Recognition'...\n",
            "remote: Enumerating objects: 2607, done.\u001b[K\n",
            "remote: Counting objects: 100% (2607/2607), done.\u001b[K\n",
            "remote: Compressing objects: 100% (2505/2505), done.\u001b[K\n",
            "remote: Total 2607 (delta 141), reused 2523 (delta 68), pack-reused 0\u001b[K\n",
            "Receiving objects: 100% (2607/2607), 31.49 MiB | 20.53 MiB/s, done.\n",
            "Resolving deltas: 100% (141/141), done.\n"
          ],
          "name": "stdout"
        }
      ]
    },
    {
      "cell_type": "markdown",
      "metadata": {
        "id": "6AQPq2m7teD4"
      },
      "source": [
        "### Install Requirement"
      ]
    },
    {
      "cell_type": "code",
      "metadata": {
        "id": "fstL7IN1teD4",
        "colab": {
          "base_uri": "https://localhost:8080/",
          "height": 1000
        },
        "outputId": "5c3bcab8-e3dc-4b40-8206-8ca12b910575"
      },
      "source": [
        "!pip install -r Persian-Gender-Recognition/requirement.txt"
      ],
      "execution_count": 2,
      "outputs": [
        {
          "output_type": "stream",
          "text": [
            "Collecting appnope==0.1.2\n",
            "  Downloading https://files.pythonhosted.org/packages/e4/fa/0c6c9786aa6927d12d100d322588e125e6ed466ab0a3d2d509ea18aeb56d/appnope-0.1.2-py2.py3-none-any.whl\n",
            "Requirement already satisfied: backcall==0.2.0 in /usr/local/lib/python3.7/dist-packages (from -r Persian-Gender-Recognition/requirement.txt (line 2)) (0.2.0)\n",
            "Requirement already satisfied: certifi==2020.12.5 in /usr/local/lib/python3.7/dist-packages (from -r Persian-Gender-Recognition/requirement.txt (line 3)) (2020.12.5)\n",
            "Collecting chardet==4.0.0\n",
            "\u001b[?25l  Downloading https://files.pythonhosted.org/packages/19/c7/fa589626997dd07bd87d9269342ccb74b1720384a4d739a1872bd84fbe68/chardet-4.0.0-py2.py3-none-any.whl (178kB)\n",
            "\r\u001b[K     |█▉                              | 10kB 18.5MB/s eta 0:00:01\r\u001b[K     |███▋                            | 20kB 24.2MB/s eta 0:00:01\r\u001b[K     |█████▌                          | 30kB 27.8MB/s eta 0:00:01\r\u001b[K     |███████▎                        | 40kB 30.5MB/s eta 0:00:01\r\u001b[K     |█████████▏                      | 51kB 32.2MB/s eta 0:00:01\r\u001b[K     |███████████                     | 61kB 33.6MB/s eta 0:00:01\r\u001b[K     |████████████▉                   | 71kB 34.7MB/s eta 0:00:01\r\u001b[K     |██████████████▋                 | 81kB 34.0MB/s eta 0:00:01\r\u001b[K     |████████████████▌               | 92kB 34.8MB/s eta 0:00:01\r\u001b[K     |██████████████████▎             | 102kB 33.6MB/s eta 0:00:01\r\u001b[K     |████████████████████▏           | 112kB 33.6MB/s eta 0:00:01\r\u001b[K     |██████████████████████          | 122kB 33.6MB/s eta 0:00:01\r\u001b[K     |███████████████████████▉        | 133kB 33.6MB/s eta 0:00:01\r\u001b[K     |█████████████████████████▋      | 143kB 33.6MB/s eta 0:00:01\r\u001b[K     |███████████████████████████▌    | 153kB 33.6MB/s eta 0:00:01\r\u001b[K     |█████████████████████████████▎  | 163kB 33.6MB/s eta 0:00:01\r\u001b[K     |███████████████████████████████▏| 174kB 33.6MB/s eta 0:00:01\r\u001b[K     |████████████████████████████████| 184kB 33.6MB/s \n",
            "\u001b[?25hRequirement already satisfied: cycler==0.10.0 in /usr/local/lib/python3.7/dist-packages (from -r Persian-Gender-Recognition/requirement.txt (line 5)) (0.10.0)\n",
            "Requirement already satisfied: decorator==4.4.2 in /usr/local/lib/python3.7/dist-packages (from -r Persian-Gender-Recognition/requirement.txt (line 6)) (4.4.2)\n",
            "Collecting fasttext==0.9.2\n",
            "\u001b[?25l  Downloading https://files.pythonhosted.org/packages/f8/85/e2b368ab6d3528827b147fdb814f8189acc981a4bc2f99ab894650e05c40/fasttext-0.9.2.tar.gz (68kB)\n",
            "\u001b[K     |████████████████████████████████| 71kB 6.8MB/s \n",
            "\u001b[?25hCollecting hazm==0.7.0\n",
            "\u001b[?25l  Downloading https://files.pythonhosted.org/packages/22/13/5a7074bc11d20dbbb46239349ac3f85f7edc148b4cf68e9b8c2f8263830c/hazm-0.7.0-py3-none-any.whl (316kB)\n",
            "\u001b[K     |████████████████████████████████| 317kB 45.8MB/s \n",
            "\u001b[?25hRequirement already satisfied: idna==2.10 in /usr/local/lib/python3.7/dist-packages (from -r Persian-Gender-Recognition/requirement.txt (line 9)) (2.10)\n",
            "Collecting ipykernel==5.5.0\n",
            "\u001b[?25l  Downloading https://files.pythonhosted.org/packages/56/95/3a670c8b2c2370bd8631c313f42e60983b3113ffec4035940592252bd6d5/ipykernel-5.5.0-py3-none-any.whl (120kB)\n",
            "\u001b[K     |████████████████████████████████| 122kB 47.4MB/s \n",
            "\u001b[?25hCollecting ipython==7.21.0\n",
            "\u001b[?25l  Downloading https://files.pythonhosted.org/packages/3b/43/6dbd0610550708fc418ad027fda97b5f415da9053749641654fdacfec93f/ipython-7.21.0-py3-none-any.whl (784kB)\n",
            "\u001b[K     |████████████████████████████████| 788kB 44.3MB/s \n",
            "\u001b[?25hRequirement already satisfied: ipython-genutils==0.2.0 in /usr/local/lib/python3.7/dist-packages (from -r Persian-Gender-Recognition/requirement.txt (line 12)) (0.2.0)\n",
            "Requirement already satisfied: jedi==0.18.0 in /usr/local/lib/python3.7/dist-packages (from -r Persian-Gender-Recognition/requirement.txt (line 13)) (0.18.0)\n",
            "Requirement already satisfied: joblib==1.0.1 in /usr/local/lib/python3.7/dist-packages (from -r Persian-Gender-Recognition/requirement.txt (line 14)) (1.0.1)\n",
            "Collecting jupyter-client==6.1.12\n",
            "\u001b[?25l  Downloading https://files.pythonhosted.org/packages/77/e8/c3cf72a32a697256608d5fa96360c431adec6e1c6709ba7f13f99ff5ee04/jupyter_client-6.1.12-py3-none-any.whl (112kB)\n",
            "\u001b[K     |████████████████████████████████| 122kB 43.5MB/s \n",
            "\u001b[?25hRequirement already satisfied: jupyter-core==4.7.1 in /usr/local/lib/python3.7/dist-packages (from -r Persian-Gender-Recognition/requirement.txt (line 16)) (4.7.1)\n",
            "Requirement already satisfied: kiwisolver==1.3.1 in /usr/local/lib/python3.7/dist-packages (from -r Persian-Gender-Recognition/requirement.txt (line 17)) (1.3.1)\n",
            "Collecting libwapiti==0.2.1\n",
            "\u001b[?25l  Downloading https://files.pythonhosted.org/packages/bc/0f/1c9b49bb49821b5856a64ea6fac8d96a619b9f291d1f06999ea98a32c89c/libwapiti-0.2.1.tar.gz (233kB)\n",
            "\u001b[K     |████████████████████████████████| 235kB 44.3MB/s \n",
            "\u001b[?25hCollecting matplotlib==3.4.0\n",
            "\u001b[?25l  Downloading https://files.pythonhosted.org/packages/83/ee/8d7e0149ecf95fae7e744c5a93f51a8c9f7a96c63691d10aed6d2c1d8735/matplotlib-3.4.0-cp37-cp37m-manylinux1_x86_64.whl (10.3MB)\n",
            "\u001b[K     |████████████████████████████████| 10.3MB 25.9MB/s \n",
            "\u001b[?25hCollecting nltk==3.3\n",
            "\u001b[?25l  Downloading https://files.pythonhosted.org/packages/50/09/3b1755d528ad9156ee7243d52aa5cd2b809ef053a0f31b53d92853dd653a/nltk-3.3.0.zip (1.4MB)\n",
            "\u001b[K     |████████████████████████████████| 1.4MB 35.3MB/s \n",
            "\u001b[?25hCollecting numpy==1.20.2\n",
            "\u001b[?25l  Downloading https://files.pythonhosted.org/packages/73/ef/8967d406f3f85018ceb5efab50431e901683188f1741ceb053efcab26c87/numpy-1.20.2-cp37-cp37m-manylinux2010_x86_64.whl (15.3MB)\n",
            "\u001b[K     |████████████████████████████████| 15.3MB 322kB/s \n",
            "\u001b[?25hCollecting pandas==1.2.3\n",
            "\u001b[?25l  Downloading https://files.pythonhosted.org/packages/f3/d4/3fe3b5bf9886912b64ef040040aec356fa48825e5a829a84c2667afdf952/pandas-1.2.3-cp37-cp37m-manylinux1_x86_64.whl (9.9MB)\n",
            "\u001b[K     |████████████████████████████████| 9.9MB 40.7MB/s \n",
            "\u001b[?25hRequirement already satisfied: parso==0.8.1 in /usr/local/lib/python3.7/dist-packages (from -r Persian-Gender-Recognition/requirement.txt (line 23)) (0.8.1)\n",
            "Requirement already satisfied: pexpect==4.8.0 in /usr/local/lib/python3.7/dist-packages (from -r Persian-Gender-Recognition/requirement.txt (line 24)) (4.8.0)\n",
            "Requirement already satisfied: pickleshare==0.7.5 in /usr/local/lib/python3.7/dist-packages (from -r Persian-Gender-Recognition/requirement.txt (line 25)) (0.7.5)\n",
            "Collecting Pillow==8.1.2\n",
            "\u001b[?25l  Downloading https://files.pythonhosted.org/packages/1f/6d/b719ae8e21660a6a962636896dc4b7d657ef451a3ab941516401846ac5cb/Pillow-8.1.2-cp37-cp37m-manylinux1_x86_64.whl (2.2MB)\n",
            "\u001b[K     |████████████████████████████████| 2.2MB 40.6MB/s \n",
            "\u001b[?25hCollecting prompt-toolkit==3.0.18\n",
            "\u001b[?25l  Downloading https://files.pythonhosted.org/packages/eb/e6/4b4ca4fa94462d4560ba2f4e62e62108ab07be2e16a92e594e43b12d3300/prompt_toolkit-3.0.18-py3-none-any.whl (367kB)\n",
            "\u001b[K     |████████████████████████████████| 368kB 44.0MB/s \n",
            "\u001b[?25hRequirement already satisfied: ptyprocess==0.7.0 in /usr/local/lib/python3.7/dist-packages (from -r Persian-Gender-Recognition/requirement.txt (line 28)) (0.7.0)\n",
            "Requirement already satisfied: pybind11==2.6.2 in /usr/local/lib/python3.7/dist-packages (from -r Persian-Gender-Recognition/requirement.txt (line 29)) (2.6.2)\n",
            "Collecting Pygments==2.8.1\n",
            "\u001b[?25l  Downloading https://files.pythonhosted.org/packages/3a/80/a52c0a7c5939737c6dca75a831e89658ecb6f590fb7752ac777d221937b9/Pygments-2.8.1-py3-none-any.whl (983kB)\n",
            "\u001b[K     |████████████████████████████████| 993kB 42.9MB/s \n",
            "\u001b[?25hRequirement already satisfied: pyparsing==2.4.7 in /usr/local/lib/python3.7/dist-packages (from -r Persian-Gender-Recognition/requirement.txt (line 31)) (2.4.7)\n",
            "Requirement already satisfied: python-dateutil==2.8.1 in /usr/local/lib/python3.7/dist-packages (from -r Persian-Gender-Recognition/requirement.txt (line 32)) (2.8.1)\n",
            "Collecting pytz==2021.1\n",
            "\u001b[?25l  Downloading https://files.pythonhosted.org/packages/70/94/784178ca5dd892a98f113cdd923372024dc04b8d40abe77ca76b5fb90ca6/pytz-2021.1-py2.py3-none-any.whl (510kB)\n",
            "\u001b[K     |████████████████████████████████| 512kB 44.3MB/s \n",
            "\u001b[?25hRequirement already satisfied: pyzmq==22.0.3 in /usr/local/lib/python3.7/dist-packages (from -r Persian-Gender-Recognition/requirement.txt (line 34)) (22.0.3)\n",
            "Collecting requests==2.25.1\n",
            "\u001b[?25l  Downloading https://files.pythonhosted.org/packages/29/c1/24814557f1d22c56d50280771a17307e6bf87b70727d975fd6b2ce6b014a/requests-2.25.1-py2.py3-none-any.whl (61kB)\n",
            "\u001b[K     |████████████████████████████████| 61kB 6.7MB/s \n",
            "\u001b[?25hCollecting scikit-learn==0.24.1\n",
            "\u001b[?25l  Downloading https://files.pythonhosted.org/packages/f3/74/eb899f41d55f957e2591cde5528e75871f817d9fb46d4732423ecaca736d/scikit_learn-0.24.1-cp37-cp37m-manylinux2010_x86_64.whl (22.3MB)\n",
            "\u001b[K     |████████████████████████████████| 22.3MB 1.5MB/s \n",
            "\u001b[?25hCollecting scipy==1.6.2\n",
            "\u001b[?25l  Downloading https://files.pythonhosted.org/packages/75/91/ee427c42957f8c4cbe477bf4f8b7f608e003a17941e509d1777e58648cb3/scipy-1.6.2-cp37-cp37m-manylinux1_x86_64.whl (27.4MB)\n",
            "\u001b[K     |████████████████████████████████| 27.4MB 163kB/s \n",
            "\u001b[?25hRequirement already satisfied: six==1.15.0 in /usr/local/lib/python3.7/dist-packages (from -r Persian-Gender-Recognition/requirement.txt (line 38)) (1.15.0)\n",
            "Requirement already satisfied: sklearn==0.0 in /usr/local/lib/python3.7/dist-packages (from -r Persian-Gender-Recognition/requirement.txt (line 39)) (0.0)\n",
            "Requirement already satisfied: tabulate==0.8.9 in /usr/local/lib/python3.7/dist-packages (from -r Persian-Gender-Recognition/requirement.txt (line 40)) (0.8.9)\n",
            "Collecting threadpoolctl==2.1.0\n",
            "  Downloading https://files.pythonhosted.org/packages/f7/12/ec3f2e203afa394a149911729357aa48affc59c20e2c1c8297a60f33f133/threadpoolctl-2.1.0-py3-none-any.whl\n",
            "Collecting tornado==6.1\n",
            "\u001b[?25l  Downloading https://files.pythonhosted.org/packages/91/a8/9c5902233fa3c2e6a889cbd164333ddda5009669f494e3fadbeee2c03af5/tornado-6.1-cp37-cp37m-manylinux2010_x86_64.whl (428kB)\n",
            "\u001b[K     |████████████████████████████████| 430kB 41.2MB/s \n",
            "\u001b[?25hCollecting tqdm==4.59.0\n",
            "\u001b[?25l  Downloading https://files.pythonhosted.org/packages/f8/3e/2730d0effc282960dbff3cf91599ad0d8f3faedc8e75720fdf224b31ab24/tqdm-4.59.0-py2.py3-none-any.whl (74kB)\n",
            "\u001b[K     |████████████████████████████████| 81kB 8.0MB/s \n",
            "\u001b[?25hRequirement already satisfied: traitlets==5.0.5 in /usr/local/lib/python3.7/dist-packages (from -r Persian-Gender-Recognition/requirement.txt (line 44)) (5.0.5)\n",
            "Collecting urllib3==1.26.4\n",
            "\u001b[?25l  Downloading https://files.pythonhosted.org/packages/09/c6/d3e3abe5b4f4f16cf0dfc9240ab7ce10c2baa0e268989a4e3ec19e90c84e/urllib3-1.26.4-py2.py3-none-any.whl (153kB)\n",
            "\u001b[K     |████████████████████████████████| 153kB 44.1MB/s \n",
            "\u001b[?25hRequirement already satisfied: wcwidth==0.2.5 in /usr/local/lib/python3.7/dist-packages (from -r Persian-Gender-Recognition/requirement.txt (line 46)) (0.2.5)\n",
            "Requirement already satisfied: setuptools>=0.7.0 in /usr/local/lib/python3.7/dist-packages (from fasttext==0.9.2->-r Persian-Gender-Recognition/requirement.txt (line 7)) (54.2.0)\n",
            "Building wheels for collected packages: fasttext, libwapiti, nltk\n",
            "  Building wheel for fasttext (setup.py) ... \u001b[?25l\u001b[?25hdone\n",
            "  Created wheel for fasttext: filename=fasttext-0.9.2-cp37-cp37m-linux_x86_64.whl size=3097067 sha256=495a8716e6f94258e11551690aff63b998ea746ac28e8fd0367667145f665ff9\n",
            "  Stored in directory: /root/.cache/pip/wheels/98/ba/7f/b154944a1cf5a8cee91c154b75231136cc3a3321ab0e30f592\n",
            "  Building wheel for libwapiti (setup.py) ... \u001b[?25l\u001b[?25hdone\n",
            "  Created wheel for libwapiti: filename=libwapiti-0.2.1-cp37-cp37m-linux_x86_64.whl size=153992 sha256=d3d707f1ccd5296234ed194793abe71666044de1cc9a8abc6d2154de8eef6330\n",
            "  Stored in directory: /root/.cache/pip/wheels/66/15/54/4510dce8bb958b1cdd2c47425cbd1e1eecc0480ac9bb1fb9ab\n",
            "  Building wheel for nltk (setup.py) ... \u001b[?25l\u001b[?25hdone\n",
            "  Created wheel for nltk: filename=nltk-3.3-cp37-none-any.whl size=1394470 sha256=be5f5c47eaea7708dd6435383a33e2cffbe60d02c346d88d8ebead8316f4442a\n",
            "  Stored in directory: /root/.cache/pip/wheels/d1/ab/40/3bceea46922767e42986aef7606a600538ca80de6062dc266c\n",
            "Successfully built fasttext libwapiti nltk\n",
            "\u001b[31mERROR: tensorflow 2.4.1 has requirement numpy~=1.19.2, but you'll have numpy 1.20.2 which is incompatible.\u001b[0m\n",
            "\u001b[31mERROR: jupyter-console 5.2.0 has requirement prompt-toolkit<2.0.0,>=1.0.0, but you'll have prompt-toolkit 3.0.18 which is incompatible.\u001b[0m\n",
            "\u001b[31mERROR: google-colab 1.0.0 has requirement ipykernel~=4.10, but you'll have ipykernel 5.5.0 which is incompatible.\u001b[0m\n",
            "\u001b[31mERROR: google-colab 1.0.0 has requirement ipython~=5.5.0, but you'll have ipython 7.21.0 which is incompatible.\u001b[0m\n",
            "\u001b[31mERROR: google-colab 1.0.0 has requirement pandas~=1.1.0; python_version >= \"3.0\", but you'll have pandas 1.2.3 which is incompatible.\u001b[0m\n",
            "\u001b[31mERROR: google-colab 1.0.0 has requirement requests~=2.23.0, but you'll have requests 2.25.1 which is incompatible.\u001b[0m\n",
            "\u001b[31mERROR: google-colab 1.0.0 has requirement tornado~=5.1.0; python_version >= \"3.0\", but you'll have tornado 6.1 which is incompatible.\u001b[0m\n",
            "\u001b[31mERROR: datascience 0.10.6 has requirement folium==0.2.1, but you'll have folium 0.8.3 which is incompatible.\u001b[0m\n",
            "\u001b[31mERROR: albumentations 0.1.12 has requirement imgaug<0.2.7,>=0.2.5, but you'll have imgaug 0.2.9 which is incompatible.\u001b[0m\n",
            "Installing collected packages: appnope, chardet, numpy, fasttext, nltk, libwapiti, hazm, prompt-toolkit, Pygments, ipython, tornado, jupyter-client, ipykernel, Pillow, matplotlib, pytz, pandas, urllib3, requests, scipy, threadpoolctl, scikit-learn, tqdm\n",
            "  Found existing installation: chardet 3.0.4\n",
            "    Uninstalling chardet-3.0.4:\n",
            "      Successfully uninstalled chardet-3.0.4\n",
            "  Found existing installation: numpy 1.19.5\n",
            "    Uninstalling numpy-1.19.5:\n",
            "      Successfully uninstalled numpy-1.19.5\n",
            "  Found existing installation: nltk 3.2.5\n",
            "    Uninstalling nltk-3.2.5:\n",
            "      Successfully uninstalled nltk-3.2.5\n",
            "  Found existing installation: prompt-toolkit 1.0.18\n",
            "    Uninstalling prompt-toolkit-1.0.18:\n",
            "      Successfully uninstalled prompt-toolkit-1.0.18\n",
            "  Found existing installation: Pygments 2.6.1\n",
            "    Uninstalling Pygments-2.6.1:\n",
            "      Successfully uninstalled Pygments-2.6.1\n",
            "  Found existing installation: ipython 5.5.0\n",
            "    Uninstalling ipython-5.5.0:\n",
            "      Successfully uninstalled ipython-5.5.0\n",
            "  Found existing installation: tornado 5.1.1\n",
            "    Uninstalling tornado-5.1.1:\n",
            "      Successfully uninstalled tornado-5.1.1\n",
            "  Found existing installation: jupyter-client 5.3.5\n",
            "    Uninstalling jupyter-client-5.3.5:\n",
            "      Successfully uninstalled jupyter-client-5.3.5\n",
            "  Found existing installation: ipykernel 4.10.1\n",
            "    Uninstalling ipykernel-4.10.1:\n",
            "      Successfully uninstalled ipykernel-4.10.1\n",
            "  Found existing installation: Pillow 7.1.2\n",
            "    Uninstalling Pillow-7.1.2:\n",
            "      Successfully uninstalled Pillow-7.1.2\n",
            "  Found existing installation: matplotlib 3.2.2\n",
            "    Uninstalling matplotlib-3.2.2:\n",
            "      Successfully uninstalled matplotlib-3.2.2\n",
            "  Found existing installation: pytz 2018.9\n",
            "    Uninstalling pytz-2018.9:\n",
            "      Successfully uninstalled pytz-2018.9\n",
            "  Found existing installation: pandas 1.1.5\n",
            "    Uninstalling pandas-1.1.5:\n",
            "      Successfully uninstalled pandas-1.1.5\n",
            "  Found existing installation: urllib3 1.24.3\n",
            "    Uninstalling urllib3-1.24.3:\n",
            "      Successfully uninstalled urllib3-1.24.3\n",
            "  Found existing installation: requests 2.23.0\n",
            "    Uninstalling requests-2.23.0:\n",
            "      Successfully uninstalled requests-2.23.0\n",
            "  Found existing installation: scipy 1.4.1\n",
            "    Uninstalling scipy-1.4.1:\n",
            "      Successfully uninstalled scipy-1.4.1\n",
            "  Found existing installation: scikit-learn 0.22.2.post1\n",
            "    Uninstalling scikit-learn-0.22.2.post1:\n",
            "      Successfully uninstalled scikit-learn-0.22.2.post1\n",
            "  Found existing installation: tqdm 4.41.1\n",
            "    Uninstalling tqdm-4.41.1:\n",
            "      Successfully uninstalled tqdm-4.41.1\n",
            "Successfully installed Pillow-8.1.2 Pygments-2.8.1 appnope-0.1.2 chardet-4.0.0 fasttext-0.9.2 hazm-0.7.0 ipykernel-5.5.0 ipython-7.21.0 jupyter-client-6.1.12 libwapiti-0.2.1 matplotlib-3.4.0 nltk-3.3 numpy-1.20.2 pandas-1.2.3 prompt-toolkit-3.0.18 pytz-2021.1 requests-2.25.1 scikit-learn-0.24.1 scipy-1.6.2 threadpoolctl-2.1.0 tornado-6.1 tqdm-4.59.0 urllib3-1.26.4\n"
          ],
          "name": "stdout"
        },
        {
          "output_type": "display_data",
          "data": {
            "application/vnd.colab-display-data+json": {
              "pip_warning": {
                "packages": [
                  "IPython",
                  "PIL",
                  "ipykernel",
                  "jupyter_client",
                  "matplotlib",
                  "mpl_toolkits",
                  "numpy",
                  "pandas",
                  "prompt_toolkit",
                  "pygments",
                  "pytz",
                  "tornado"
                ]
              }
            }
          },
          "metadata": {
            "tags": []
          }
        }
      ]
    },
    {
      "cell_type": "markdown",
      "metadata": {
        "id": "CapOzDT_teD5"
      },
      "source": [
        "### Set Directory"
      ]
    },
    {
      "cell_type": "code",
      "metadata": {
        "id": "kVKhanHvteD5",
        "colab": {
          "base_uri": "https://localhost:8080/"
        },
        "outputId": "8f1596b9-a7ba-45c9-c1e0-40cd1d17058a"
      },
      "source": [
        "%cd Persian-Gender-Recognition/code"
      ],
      "execution_count": 3,
      "outputs": [
        {
          "output_type": "stream",
          "text": [
            "/content/Persian-Gender-Recognition/code\n"
          ],
          "name": "stdout"
        }
      ]
    },
    {
      "cell_type": "markdown",
      "metadata": {
        "id": "hn3UdMiXteD5"
      },
      "source": [
        "## Import "
      ]
    },
    {
      "cell_type": "code",
      "metadata": {
        "id": "wvrw5CNwteD5"
      },
      "source": [
        "import os\n",
        "import pandas as pd\n",
        "import numpy as np\n",
        "\n",
        "from sklearn.metrics import classification_report, accuracy_score\n",
        "from sklearn.preprocessing import StandardScaler\n",
        "from os.path import isfile\n",
        "\n",
        "import config\n",
        "import utils\n",
        "import data_path\n",
        "import data_loader\n",
        "\n",
        "from classifier import Classifier\n",
        "from feature_generator import generate_features"
      ],
      "execution_count": 111,
      "outputs": []
    },
    {
      "cell_type": "markdown",
      "metadata": {
        "id": "QwBp-4eLteD6"
      },
      "source": [
        "## Load Train Datasets"
      ]
    },
    {
      "cell_type": "code",
      "metadata": {
        "id": "nzw5uNdpteD6",
        "colab": {
          "base_uri": "https://localhost:8080/"
        },
        "outputId": "35533873-06eb-46e0-a645-d32f528e111d"
      },
      "source": [
        "embedding_features = pd.read_csv(os.path.join(data_path.DATA_PATH, 'train', 'embedding_fasttext.csv'), index_col=0)\n",
        "print(embedding_features.head())"
      ],
      "execution_count": 54,
      "outputs": [
        {
          "output_type": "stream",
          "text": [
            "         F0        F1        F2        F3  ...      F298      F299  number  label\n",
            "0 -0.016724  0.017616  0.009455 -0.013369  ... -0.015635  0.018951     289      0\n",
            "1 -0.058125  0.009000  0.011841 -0.012871  ... -0.028773  0.014173     504      0\n",
            "2  0.000008  0.030201 -0.010074 -0.028357  ...  0.001973 -0.019890     262      0\n",
            "3  0.023368  0.074310  0.004460 -0.041999  ... -0.010022 -0.024235     276      0\n",
            "4 -0.014248  0.029315  0.000213 -0.018357  ... -0.008050 -0.025579     510      0\n",
            "\n",
            "[5 rows x 302 columns]\n"
          ],
          "name": "stdout"
        }
      ]
    },
    {
      "cell_type": "code",
      "metadata": {
        "id": "eYkT5XkFuhvY",
        "colab": {
          "base_uri": "https://localhost:8080/"
        },
        "outputId": "ecd38d65-43f5-402c-9a99-46157c420096"
      },
      "source": [
        "psychological_features = pd.read_csv(os.path.join(data_path.DATA_PATH, 'train', 'psychological_features.csv'), index_col=0)\n",
        "print(psychological_features.head())"
      ],
      "execution_count": 55,
      "outputs": [
        {
          "output_type": "stream",
          "text": [
            "   PSY_F36  PSY_F37  PSY_F38  PSY_F39  PSY_F47  PSY_F48  number  label\n",
            "0       25       16        0        0        0        0     289      0\n",
            "1        2        5        0        1        0        2     504      0\n",
            "2       19       16        0        0        0        0     262      0\n",
            "3        7        9        0        0        0        0     276      0\n",
            "4       33       44        0        4        0        0     510      0\n"
          ],
          "name": "stdout"
        }
      ]
    },
    {
      "cell_type": "code",
      "metadata": {
        "id": "iEQ4Io_0uhjM",
        "colab": {
          "base_uri": "https://localhost:8080/"
        },
        "outputId": "c2c907c2-500a-47a3-e9fd-1abd0679a38f"
      },
      "source": [
        "structural_features = pd.read_csv(os.path.join(data_path.DATA_PATH, 'train', 'structural_features.csv'), index_col=0)\n",
        "print(structural_features.head())"
      ],
      "execution_count": 56,
      "outputs": [
        {
          "output_type": "stream",
          "text": [
            "   STR_F25  STR_F26  STR_F27  STR_F28  STR_F29  number  label\n",
            "0        1        1     55.0      0.0    122.5     289      0\n",
            "1        0        1     18.0      0.0     92.0     504      0\n",
            "2        1        1     53.0      0.0    117.5     262      0\n",
            "3        0        1     20.0      0.0     80.0     276      0\n",
            "4        1       10     14.3      0.0    276.5     510      0\n"
          ],
          "name": "stdout"
        }
      ]
    },
    {
      "cell_type": "code",
      "metadata": {
        "id": "HFxxsom_uhV1",
        "colab": {
          "base_uri": "https://localhost:8080/"
        },
        "outputId": "09e431d1-4ccd-4c43-d4d0-b2462a304d9f"
      },
      "source": [
        "syntactics_features = pd.read_csv(os.path.join(data_path.DATA_PATH, 'train', 'syntactics_features.csv'), index_col=0)\n",
        "print(syntactics_features.head())"
      ],
      "execution_count": 57,
      "outputs": [
        {
          "output_type": "stream",
          "text": [
            "   SYN_F18   SYN_F19  SYN_F20  SYN_F21  ...   SYN_F23   SYN_F24  number  label\n",
            "0      0.0  0.000000      0.0      0.0  ...  0.000000  0.000000     289      0\n",
            "1      0.0  0.000000      0.0      0.0  ...  0.000000  0.000000     504      0\n",
            "2      0.0  0.000000      0.0      0.0  ...  0.012766  0.004255     262      0\n",
            "3      0.0  0.000000      0.0      0.0  ...  0.000000  0.000000     276      0\n",
            "4      0.0  0.018083      0.0      0.0  ...  0.000000  0.000000     510      0\n",
            "\n",
            "[5 rows x 9 columns]\n"
          ],
          "name": "stdout"
        }
      ]
    },
    {
      "cell_type": "code",
      "metadata": {
        "id": "DJ7985WsuhKI",
        "colab": {
          "base_uri": "https://localhost:8080/"
        },
        "outputId": "df723fe3-d45d-4f3d-8048-4d9ef497996b"
      },
      "source": [
        "text_dependent_features = pd.read_csv(os.path.join(data_path.DATA_PATH, 'train', 'text_dependent_features.csv'), index_col=0)\n",
        "print(text_dependent_features.head())"
      ],
      "execution_count": 58,
      "outputs": [
        {
          "output_type": "stream",
          "text": [
            "   TD_F1     TD_F2  TD_F49  TD_F3     TD_F4  TD_F5     TD_F6  number  label\n",
            "0    245  0.102041      25      1  0.179592    0.0  0.012245     289      0\n",
            "1     92  0.217391      20      2  0.163043    0.0  0.000000     504      0\n",
            "2    235  0.110638      26      3  0.195745    0.0  0.012766     262      0\n",
            "3     80  0.250000      20      1  0.212500    0.0  0.000000     276      0\n",
            "4    553  0.048825      27     16  0.249548    0.0  0.018083     510      0\n"
          ],
          "name": "stdout"
        }
      ]
    },
    {
      "cell_type": "code",
      "metadata": {
        "id": "XQj5pdk2ug9M",
        "colab": {
          "base_uri": "https://localhost:8080/"
        },
        "outputId": "cea3f98f-9fcb-4952-899d-3478bb1ef9a8"
      },
      "source": [
        "word_dependent_features = pd.read_csv(os.path.join(data_path.DATA_PATH, 'train', 'word_dependent_features.csv'), index_col=0)\n",
        "print(word_dependent_features.head())"
      ],
      "execution_count": 59,
      "outputs": [
        {
          "output_type": "stream",
          "text": [
            "   WD_F7     WD_F8     WD_F9    WD_F10  ...       WD_F17    WD_F50  number  label\n",
            "0     55  4.454545  0.763636  0.600000  ...  1870.088820  3.635431     289      0\n",
            "1     18  5.111111  0.888889  0.611111  ...  2312.297406  2.736339     504      0\n",
            "2     53  4.433962  0.830189  0.660377  ...  2495.612060  3.715138     262      0\n",
            "3     20  4.000000  0.950000  0.800000  ...  5691.891320  2.926418     276      0\n",
            "4    143  3.867133  0.601399  0.608392  ...  2134.023191  4.147394     510      0\n",
            "\n",
            "[5 rows x 14 columns]\n"
          ],
          "name": "stdout"
        }
      ]
    },
    {
      "cell_type": "code",
      "execution_count": null,
      "metadata": {},
      "outputs": [],
      "source": [
        "grammatical_features = pd.read_csv(os.path.join(data_path.DATA_PATH, 'train', 'grammatical_features.csv'), index_col=0)\n",
        "print(grammatical_features.head())"
      ]
    },
    {
      "cell_type": "markdown",
      "metadata": {
        "id": "J4vPK8xEteD7"
      },
      "source": [
        "## Generate Train Features"
      ]
    },
    {
      "cell_type": "code",
      "metadata": {
        "id": "QsgXtzLjteD7",
        "colab": {
          "base_uri": "https://localhost:8080/"
        },
        "outputId": "b7cd4aa7-6eb1-4b6a-a1c4-6d3dd7e12059"
      },
      "source": [
        "features_list = [embedding_features, psychological_features, structural_features, syntactics_features, text_dependent_features, word_dependent_features, grammatical_features]\n",
        "\n",
        "features = features_list.pop()\n",
        "for feature in features_list:\n",
        "  features = pd.merge(features, feature, left_on=['label', 'number'], right_on=['label', 'number'])\n",
        "\n",
        "print(features.head())\n",
        "print(features.shape)"
      ],
      "execution_count": 60,
      "outputs": [
        {
          "output_type": "stream",
          "text": [
            "   WD_F7     WD_F8     WD_F9    WD_F10  ...  TD_F3     TD_F4  TD_F5     TD_F6\n",
            "0     55  4.454545  0.763636  0.600000  ...      1  0.179592    0.0  0.012245\n",
            "1     18  5.111111  0.888889  0.611111  ...      2  0.163043    0.0  0.000000\n",
            "2     53  4.433962  0.830189  0.660377  ...      3  0.195745    0.0  0.012766\n",
            "3     20  4.000000  0.950000  0.800000  ...      1  0.212500    0.0  0.000000\n",
            "4    143  3.867133  0.601399  0.608392  ...     16  0.249548    0.0  0.018083\n",
            "\n",
            "[5 rows x 339 columns]\n",
            "(2000, 339)\n"
          ],
          "name": "stdout"
        }
      ]
    },
    {
      "cell_type": "markdown",
      "metadata": {
        "id": "3kJV92-uteD8"
      },
      "source": [
        "## Split X, y"
      ]
    },
    {
      "cell_type": "code",
      "metadata": {
        "id": "uP-X8UteteD8"
      },
      "source": [
        "y = features['label']\n",
        "X = features.drop(['label', 'number'], axis=1)"
      ],
      "execution_count": 61,
      "outputs": []
    },
    {
      "cell_type": "markdown",
      "metadata": {
        "id": "D6JT56jzteD8"
      },
      "source": [
        "## Normalize"
      ]
    },
    {
      "cell_type": "code",
      "metadata": {
        "id": "E85P-1s1teD8"
      },
      "source": [
        "scaler = StandardScaler()\n",
        "X = pd.DataFrame(scaler.fit_transform(X), columns=X.columns)"
      ],
      "execution_count": 62,
      "outputs": []
    },
    {
      "cell_type": "markdown",
      "metadata": {
        "id": "Lg1epwHjteD-"
      },
      "source": [
        "## Feature Importance"
      ]
    },
    {
      "cell_type": "code",
      "metadata": {
        "id": "3wETqZ_TteD-"
      },
      "source": [
        "classifier = Classifier('Random Forest', n_estimator=300)\n",
        "classifier.fit(X, y)\n",
        "feature_importance = classifier.model.feature_importances_"
      ],
      "execution_count": 63,
      "outputs": []
    },
    {
      "cell_type": "code",
      "metadata": {
        "id": "si03gmMg4bdL",
        "colab": {
          "base_uri": "https://localhost:8080/"
        },
        "outputId": "e75da342-a195-4b4b-f5d1-86d90bf81b4e"
      },
      "source": [
        "pip install matplotlib==3.1.3"
      ],
      "execution_count": 64,
      "outputs": [
        {
          "output_type": "stream",
          "text": [
            "Requirement already satisfied: matplotlib==3.1.3 in /usr/local/lib/python3.7/dist-packages (3.1.3)\n",
            "Requirement already satisfied: cycler>=0.10 in /usr/local/lib/python3.7/dist-packages (from matplotlib==3.1.3) (0.10.0)\n",
            "Requirement already satisfied: numpy>=1.11 in /usr/local/lib/python3.7/dist-packages (from matplotlib==3.1.3) (1.20.2)\n",
            "Requirement already satisfied: pyparsing!=2.0.4,!=2.1.2,!=2.1.6,>=2.0.1 in /usr/local/lib/python3.7/dist-packages (from matplotlib==3.1.3) (2.4.7)\n",
            "Requirement already satisfied: python-dateutil>=2.1 in /usr/local/lib/python3.7/dist-packages (from matplotlib==3.1.3) (2.8.1)\n",
            "Requirement already satisfied: kiwisolver>=1.0.1 in /usr/local/lib/python3.7/dist-packages (from matplotlib==3.1.3) (1.3.1)\n",
            "Requirement already satisfied: six in /usr/local/lib/python3.7/dist-packages (from cycler>=0.10->matplotlib==3.1.3) (1.15.0)\n"
          ],
          "name": "stdout"
        }
      ]
    },
    {
      "cell_type": "code",
      "metadata": {
        "id": "ea5sVQJoteD_",
        "colab": {
          "base_uri": "https://localhost:8080/",
          "height": 879
        },
        "outputId": "c73f0c76-2287-41e9-8800-fbd65d5cd8af"
      },
      "source": [
        "utils.plot_feature_importance(feature_importance, X)"
      ],
      "execution_count": 65,
      "outputs": [
        {
          "output_type": "display_data",
          "data": {
            "image/png": "[encoded data removed]",
            "text/plain": [
              "<Figure size 720x1080 with 1 Axes>"
            ]
          },
          "metadata": {
            "tags": [],
            "needs_background": "light"
          }
        }
      ]
    },
    {
      "cell_type": "code",
      "metadata": {
        "id": "g6tZp_nb6ExF"
      },
      "source": [
        "selected_features = feature_importance > 0.005"
      ],
      "execution_count": 66,
      "outputs": []
    },
    {
      "cell_type": "code",
      "metadata": {
        "id": "RNFyY0QG63j4",
        "colab": {
          "base_uri": "https://localhost:8080/"
        },
        "outputId": "a9de31f3-448e-4c42-fec6-47bf4b8116b8"
      },
      "source": [
        "X = X.T[selected_features].T\n",
        "print(X.shape)\n",
        "print(X.columns)"
      ],
      "execution_count": 67,
      "outputs": [
        {
          "output_type": "stream",
          "text": [
            "(2000, 58)\n",
            "Index(['F17', 'F22', 'F31', 'F37', 'F39', 'F44', 'F46', 'F48', 'F50', 'F52',\n",
            "       'F62', 'F74', 'F84', 'F94', 'F99', 'F103', 'F115', 'F123', 'F126',\n",
            "       'F130', 'F146', 'F150', 'F155', 'F158', 'F159', 'F162', 'F172', 'F179',\n",
            "       'F181', 'F187', 'F188', 'F196', 'F199', 'F205', 'F207', 'F210', 'F217',\n",
            "       'F221', 'F226', 'F231', 'F235', 'F242', 'F244', 'F245', 'F251', 'F252',\n",
            "       'F255', 'F267', 'F271', 'F279', 'F282', 'F283', 'F284', 'F292', 'F293',\n",
            "       'STR_F25', 'STR_F28', 'STR_F29'],\n",
            "      dtype='object')\n"
          ],
          "name": "stdout"
        }
      ]
    },
    {
      "cell_type": "markdown",
      "metadata": {
        "id": "S_pJyXr5teD8"
      },
      "source": [
        "## Classification"
      ]
    },
    {
      "cell_type": "markdown",
      "metadata": {
        "id": "HqoXmIoJree8"
      },
      "source": [
        "### We decide to use SVM as our final model due to better performance and less variation."
      ]
    },
    {
      "cell_type": "code",
      "metadata": {
        "id": "1Z6fhzXeteD9",
        "colab": {
          "base_uri": "https://localhost:8080/"
        },
        "outputId": "e3258b60-f067-44ec-e84a-7eaed7a18c47"
      },
      "source": [
        "classifier = Classifier('Random Forest', n_estimator=300, max_depth=10)\n",
        "classifier.train(X, y, n_folds=10)"
      ],
      "execution_count": 68,
      "outputs": [
        {
          "output_type": "stream",
          "text": [
            "| index     |    Fold1 |    Fold2 |    Fold3 |    Fold4 |    Fold5 |    Fold6 |    Fold7 |    Fold8 |    Fold9 |   Fold10 |     mean |\n",
            "|:----------|---------:|---------:|---------:|---------:|---------:|---------:|---------:|---------:|---------:|---------:|---------:|\n",
            "| precision | 0.642857 | 0.676768 | 0.61     | 0.505263 | 0.630435 | 0.601852 | 0.591398 | 0.59434  | 0.551402 | 0.659091 | 0.60634  |\n",
            "| recall    | 0.534653 | 0.676768 | 0.592233 | 0.564706 | 0.563107 | 0.585586 | 0.578947 | 0.670213 | 0.678161 | 0.517857 | 0.596223 |\n",
            "| f1        | 0.583784 | 0.676768 | 0.600985 | 0.533333 | 0.594872 | 0.593607 | 0.585106 | 0.63     | 0.608247 | 0.58     | 0.59867  |\n",
            "| accuracy  | 0.615    | 0.68     | 0.595    | 0.58     | 0.605    | 0.555    | 0.61     | 0.63     | 0.62     | 0.58     | 0.607    |\n"
          ],
          "name": "stdout"
        }
      ]
    },
    {
      "cell_type": "code",
      "metadata": {
        "id": "oC4fC4NuteD9",
        "colab": {
          "base_uri": "https://localhost:8080/"
        },
        "outputId": "517dc81f-6cdc-4e94-9047-aa03a36a9a54"
      },
      "source": [
        "classifier = Classifier('SVM' , kernel='rbf', gamma='scale')\n",
        "classifier.train(X, y, n_folds=10)"
      ],
      "execution_count": 69,
      "outputs": [
        {
          "output_type": "stream",
          "text": [
            "| index     |    Fold1 |    Fold2 |    Fold3 |    Fold4 |    Fold5 |    Fold6 |    Fold7 |    Fold8 |    Fold9 |   Fold10 |     mean |\n",
            "|:----------|---------:|---------:|---------:|---------:|---------:|---------:|---------:|---------:|---------:|---------:|---------:|\n",
            "| precision | 0.612903 | 0.617647 | 0.621359 | 0.520408 | 0.656566 | 0.647059 | 0.571429 | 0.60177  | 0.554545 | 0.674157 | 0.607784 |\n",
            "| recall    | 0.564356 | 0.636364 | 0.621359 | 0.6      | 0.631068 | 0.594595 | 0.631579 | 0.723404 | 0.701149 | 0.535714 | 0.623959 |\n",
            "| f1        | 0.587629 | 0.626866 | 0.621359 | 0.557377 | 0.643564 | 0.619718 | 0.6      | 0.657005 | 0.619289 | 0.597015 | 0.612982 |\n",
            "| accuracy  | 0.6      | 0.625    | 0.61     | 0.595    | 0.64     | 0.595    | 0.6      | 0.645    | 0.625    | 0.595    | 0.613    |\n"
          ],
          "name": "stdout"
        }
      ]
    },
    {
      "cell_type": "code",
      "metadata": {
        "id": "Mrj6pdksteD9",
        "colab": {
          "base_uri": "https://localhost:8080/"
        },
        "outputId": "7f7a5120-3956-40df-dcec-e7c13f4e1605"
      },
      "source": [
        "classifier = Classifier('MLP', max_iter=1200 , hidden_layer_sizes=(32,4,), activation='relu', solver='adam')\n",
        "classifier.train(X, y, n_folds=10)"
      ],
      "execution_count": 70,
      "outputs": [
        {
          "output_type": "stream",
          "text": [
            "| index     |    Fold1 |    Fold2 |    Fold3 |    Fold4 |    Fold5 |    Fold6 |    Fold7 |    Fold8 |    Fold9 |   Fold10 |     mean |\n",
            "|:----------|---------:|---------:|---------:|---------:|---------:|---------:|---------:|---------:|---------:|---------:|---------:|\n",
            "| precision | 0.563218 | 0.584071 | 0.568627 | 0.5      | 0.614583 | 0.639344 | 0.533981 | 0.527778 | 0.519608 | 0.640351 | 0.569156 |\n",
            "| recall    | 0.485149 | 0.666667 | 0.563107 | 0.576471 | 0.572816 | 0.702703 | 0.578947 | 0.606383 | 0.609195 | 0.651786 | 0.601322 |\n",
            "| f1        | 0.521277 | 0.622642 | 0.565854 | 0.535519 | 0.592965 | 0.669528 | 0.555556 | 0.564356 | 0.560847 | 0.646018 | 0.583456 |\n",
            "| accuracy  | 0.55     | 0.6      | 0.555    | 0.575    | 0.595    | 0.615    | 0.56     | 0.56     | 0.585    | 0.6      | 0.5795   |\n"
          ],
          "name": "stdout"
        }
      ]
    },
    {
      "cell_type": "code",
      "metadata": {
        "id": "A4VvPcPpteD-",
        "colab": {
          "base_uri": "https://localhost:8080/"
        },
        "outputId": "aaa3e23b-c76c-40ef-b359-e237324fdb42"
      },
      "source": [
        "classifier = Classifier('Naive Bayes')\n",
        "classifier.train(X, y, n_folds=10)"
      ],
      "execution_count": 71,
      "outputs": [
        {
          "output_type": "stream",
          "text": [
            "| index     |    Fold1 |    Fold2 |    Fold3 |    Fold4 |    Fold5 |    Fold6 |    Fold7 |    Fold8 |    Fold9 |   Fold10 |     mean |\n",
            "|:----------|---------:|---------:|---------:|---------:|---------:|---------:|---------:|---------:|---------:|---------:|---------:|\n",
            "| precision | 0.589744 | 0.621212 | 0.571429 | 0.411765 | 0.724638 | 0.671642 | 0.606557 | 0.613333 | 0.5      | 0.666667 | 0.597699 |\n",
            "| recall    | 0.455446 | 0.414141 | 0.31068  | 0.247059 | 0.485437 | 0.405405 | 0.389474 | 0.489362 | 0.37931  | 0.339286 | 0.39156  |\n",
            "| f1        | 0.513966 | 0.49697  | 0.402516 | 0.308824 | 0.581395 | 0.505618 | 0.474359 | 0.544379 | 0.431373 | 0.449704 | 0.47091  |\n",
            "| accuracy  | 0.565    | 0.585    | 0.525    | 0.53     | 0.64     | 0.56     | 0.59     | 0.615    | 0.565    | 0.535    | 0.571    |\n"
          ],
          "name": "stdout"
        }
      ]
    },
    {
      "cell_type": "code",
      "metadata": {
        "id": "J5yNjy1zteD-",
        "colab": {
          "base_uri": "https://localhost:8080/"
        },
        "outputId": "960ba967-3547-451e-9269-7473e518072b"
      },
      "source": [
        "classifier = Classifier('Ada Boost', n_estimators= 120, learning_rate= 0.5)\n",
        "classifier.train(X, y, n_folds=10)"
      ],
      "execution_count": 72,
      "outputs": [
        {
          "output_type": "stream",
          "text": [
            "| index     |    Fold1 |    Fold2 |    Fold3 |    Fold4 |    Fold5 |    Fold6 |    Fold7 |    Fold8 |    Fold9 |   Fold10 |     mean |\n",
            "|:----------|---------:|---------:|---------:|---------:|---------:|---------:|---------:|---------:|---------:|---------:|---------:|\n",
            "| precision | 0.619565 | 0.647059 | 0.645833 | 0.511111 | 0.666667 | 0.647619 | 0.605769 | 0.584158 | 0.538462 | 0.662921 | 0.612916 |\n",
            "| recall    | 0.564356 | 0.666667 | 0.601942 | 0.541176 | 0.601942 | 0.612613 | 0.663158 | 0.62766  | 0.643678 | 0.526786 | 0.604998 |\n",
            "| f1        | 0.590674 | 0.656716 | 0.623116 | 0.525714 | 0.632653 | 0.62963  | 0.633166 | 0.605128 | 0.586387 | 0.587065 | 0.607025 |\n",
            "| accuracy  | 0.605    | 0.655    | 0.625    | 0.585    | 0.64     | 0.6      | 0.635    | 0.615    | 0.605    | 0.585    | 0.615    |\n"
          ],
          "name": "stdout"
        }
      ]
    },
    {
      "cell_type": "markdown",
      "metadata": {
        "id": "hz6Pg5jJO-V0"
      },
      "source": [
        "## Load Test Dataset"
      ]
    },
    {
      "cell_type": "code",
      "metadata": {
        "id": "nvHO2J7KO9GC",
        "outputId": "440c5637-3b69-477b-fad3-e95aefab6a39",
        "colab": {
          "base_uri": "https://localhost:8080/"
        }
      },
      "source": [
        "embedding_features_test = pd.read_csv(os.path.join(data_path.DATA_PATH, 'test', 'embedding_fasttext.csv'), index_col=0)\n",
        "print(embedding_features_test.head())"
      ],
      "execution_count": 73,
      "outputs": [
        {
          "output_type": "stream",
          "text": [
            "         F0        F1        F2        F3  ...      F298      F299  number  label\n",
            "0 -0.096663 -0.005718 -0.023596 -0.043770  ... -0.023861 -0.068833    1053      0\n",
            "1 -0.029366  0.042274 -0.020876 -0.020548  ...  0.003890  0.013595    1047      0\n",
            "2 -0.033550  0.029519 -0.003604 -0.033160  ... -0.009725 -0.002662    1090      0\n",
            "3 -0.023381  0.013995 -0.005057 -0.012071  ... -0.019597 -0.020837    1084      0\n",
            "4 -0.010696  0.022952  0.000615 -0.013578  ... -0.013420  0.001759    1127      0\n",
            "\n",
            "[5 rows x 302 columns]\n"
          ],
          "name": "stdout"
        }
      ]
    },
    {
      "cell_type": "code",
      "metadata": {
        "id": "rvXnlW7LPcqk",
        "outputId": "619235ca-e7d8-4cf4-d119-4f1934cb045c",
        "colab": {
          "base_uri": "https://localhost:8080/"
        }
      },
      "source": [
        "psychological_features_test = pd.read_csv(os.path.join(data_path.DATA_PATH, 'test', 'psychological_features.csv'), index_col=0)\n",
        "print(psychological_features_test.head())"
      ],
      "execution_count": 87,
      "outputs": [
        {
          "output_type": "stream",
          "text": [
            "   PSY_F36  PSY_F37  PSY_F38  PSY_F39  PSY_F47  PSY_F48  number  label\n",
            "0        1        2        0        2        0        1    1053      0\n",
            "1       20       43        0        0        0        1    1047      0\n",
            "2       20       68        0        6        0        3    1090      0\n",
            "3       48       59        0        2        0        0    1084      0\n",
            "4       38       79        2        6        0        0    1127      0\n"
          ],
          "name": "stdout"
        }
      ]
    },
    {
      "cell_type": "code",
      "metadata": {
        "id": "mQL_5F51PcK6",
        "outputId": "1ba6c9ec-e20a-49aa-e56d-b05ded9b0b3e",
        "colab": {
          "base_uri": "https://localhost:8080/"
        }
      },
      "source": [
        "structural_features_test = pd.read_csv(os.path.join(data_path.DATA_PATH, 'test', 'structural_features.csv'), index_col=0)\n",
        "print(structural_features_test.head())"
      ],
      "execution_count": 88,
      "outputs": [
        {
          "output_type": "stream",
          "text": [
            "   STR_F25  STR_F26    STR_F27  STR_F28  STR_F29  number  label\n",
            "0        0        1  18.000000      0.0    65.00    1053      0\n",
            "1        0        2  25.500000      0.0   199.00    1047      0\n",
            "2        0        5  20.400000      0.0   424.00    1090      0\n",
            "3        1       11  13.818182      0.0   294.50    1084      0\n",
            "4        7        7  25.285714      0.0    93.75    1127      0\n"
          ],
          "name": "stdout"
        }
      ]
    },
    {
      "cell_type": "code",
      "metadata": {
        "id": "OGfInw53Pb_G",
        "outputId": "b01c8003-9061-462a-dcb8-0b2e3b753ea0",
        "colab": {
          "base_uri": "https://localhost:8080/"
        }
      },
      "source": [
        "syntactics_features_test = pd.read_csv(os.path.join(data_path.DATA_PATH, 'test', 'syntactics_features.csv'), index_col=0)\n",
        "print(syntactics_features_test.head())"
      ],
      "execution_count": 89,
      "outputs": [
        {
          "output_type": "stream",
          "text": [
            "    SYN_F18   SYN_F19  SYN_F20  SYN_F21  ...  SYN_F23  SYN_F24  number  label\n",
            "0  0.000000  0.000000    0.000      0.0  ...      0.0      0.0    1053      0\n",
            "1  0.000000  0.010050    0.000      0.0  ...      0.0      0.0    1047      0\n",
            "2  0.007075  0.023585    0.000      0.0  ...      0.0      0.0    1090      0\n",
            "3  0.010187  0.018676    0.000      0.0  ...      0.0      0.0    1084      0\n",
            "4  0.002667  0.009333    0.004      0.0  ...      0.0      0.0    1127      0\n",
            "\n",
            "[5 rows x 9 columns]\n"
          ],
          "name": "stdout"
        }
      ]
    },
    {
      "cell_type": "code",
      "metadata": {
        "id": "MNaGzl1YPbqD",
        "outputId": "2e82f816-1abe-4372-a3c1-641e6b66ed18",
        "colab": {
          "base_uri": "https://localhost:8080/"
        }
      },
      "source": [
        "text_dependent_features_test = pd.read_csv(os.path.join(data_path.DATA_PATH, 'test', 'text_dependent_features.csv'), index_col=0)\n",
        "print(text_dependent_features_test.head())"
      ],
      "execution_count": 90,
      "outputs": [
        {
          "output_type": "stream",
          "text": [
            "   TD_F1     TD_F2  TD_F49  TD_F3     TD_F4  TD_F5     TD_F6  number  label\n",
            "0     65  0.276923      18      1  0.215385    0.0  0.000000    1053      0\n",
            "1    199  0.125628      25      0  0.180905    0.0  0.030151    1047      0\n",
            "2    424  0.068396      29      7  0.214623    0.0  0.009434    1090      0\n",
            "3    589  0.047538      28      7  0.207131    0.0  0.018676    1084      0\n",
            "4    750  0.042667      32     16  0.181333    0.0  0.016000    1127      0\n"
          ],
          "name": "stdout"
        }
      ]
    },
    {
      "cell_type": "code",
      "metadata": {
        "id": "hOaUr2ckP2cy",
        "outputId": "ac6f949c-30dd-4e69-e12d-39db12562b3d",
        "colab": {
          "base_uri": "https://localhost:8080/"
        }
      },
      "source": [
        "word_dependent_features_test = pd.read_csv(os.path.join(data_path.DATA_PATH, 'test', 'word_dependent_features.csv'), index_col=0)\n",
        "print(word_dependent_features_test.head())"
      ],
      "execution_count": 91,
      "outputs": [
        {
          "output_type": "stream",
          "text": [
            "   WD_F7     WD_F8     WD_F9    WD_F10  ...       WD_F17    WD_F50  number  label\n",
            "0     18  3.611111  0.833333  0.500000  ...  2167.778818  2.630253    1053      0\n",
            "1     51  3.901961  0.745098  0.588235  ...  2988.187481  3.422026    1047      0\n",
            "2    102  4.156863  0.745098  0.598039  ...  2343.319559  4.168859    1090      0\n",
            "3    152  3.875000  0.611842  0.572368  ...  2224.861374  4.239969    1084      0\n",
            "4    177  4.237288  0.593220  0.576271  ...  1646.956733  4.417753    1127      0\n",
            "\n",
            "[5 rows x 14 columns]\n"
          ],
          "name": "stdout"
        }
      ]
    },
    {
      "cell_type": "code",
      "execution_count": null,
      "metadata": {},
      "outputs": [],
      "source": [
        "grammatical_features_test = pd.read_csv(os.path.join(data_path.DATA_PATH, 'test', 'grammatical_features.csv'), index_col=0)\n",
        "print(grammatical_features_test.head())"
      ]
    },
    {
      "cell_type": "markdown",
      "metadata": {
        "id": "-ofCvOioQL73"
      },
      "source": [
        "## Generate Test Features"
      ]
    },
    {
      "cell_type": "code",
      "metadata": {
        "id": "KFo9BmspQPpX",
        "outputId": "f5f81ec0-b0d2-4561-ea17-834898e4aa97",
        "colab": {
          "base_uri": "https://localhost:8080/"
        }
      },
      "source": [
        "features_list_test = [embedding_features_test, psychological_features_test, structural_features_test, \n",
        "                      syntactics_features_test, text_dependent_features_test, word_dependent_features_test]\n",
        "features_test = features_list_test.pop()\n",
        "for feature_test in features_list_test:\n",
        "  features_test = pd.merge(features_test, feature_test, left_on=['label', 'number'], right_on=['label', 'number'])\n",
        "\n",
        "print(features_test.head())\n",
        "print(features_test.shape)"
      ],
      "execution_count": 92,
      "outputs": [
        {
          "output_type": "stream",
          "text": [
            "   WD_F7     WD_F8     WD_F9    WD_F10  ...  TD_F3     TD_F4  TD_F5     TD_F6\n",
            "0     18  3.611111  0.833333  0.500000  ...      1  0.215385    0.0  0.000000\n",
            "1     51  3.901961  0.745098  0.588235  ...      0  0.180905    0.0  0.030151\n",
            "2    102  4.156863  0.745098  0.598039  ...      7  0.214623    0.0  0.009434\n",
            "3    152  3.875000  0.611842  0.572368  ...      7  0.207131    0.0  0.018676\n",
            "4    177  4.237288  0.593220  0.576271  ...     16  0.181333    0.0  0.016000\n",
            "\n",
            "[5 rows x 339 columns]\n",
            "(378, 339)\n"
          ],
          "name": "stdout"
        }
      ]
    },
    {
      "cell_type": "markdown",
      "metadata": {
        "id": "iAsYbKmiQqng"
      },
      "source": [
        "## Split X, y"
      ]
    },
    {
      "cell_type": "code",
      "metadata": {
        "id": "RfFsT52iQvSM"
      },
      "source": [
        "y_test = features_test['label']\n",
        "X_test = features_test.drop(['label', 'number'], axis=1)"
      ],
      "execution_count": 93,
      "outputs": []
    },
    {
      "cell_type": "markdown",
      "metadata": {
        "id": "c80VGtLcQuRP"
      },
      "source": [
        "## Normalize\n",
        "\n"
      ]
    },
    {
      "cell_type": "code",
      "metadata": {
        "id": "uj78RAD0Q0V2"
      },
      "source": [
        "X_test = pd.DataFrame(scaler.transform(X_test), columns=X_test.columns)"
      ],
      "execution_count": 94,
      "outputs": []
    },
    {
      "cell_type": "markdown",
      "metadata": {
        "id": "aiXRpmTMVlgu"
      },
      "source": [
        "## Use Selected Features"
      ]
    },
    {
      "cell_type": "code",
      "metadata": {
        "id": "d5zSTnbHVmCW",
        "outputId": "93f81c1a-bf4e-4d91-ae62-ad642ba32484",
        "colab": {
          "base_uri": "https://localhost:8080/"
        }
      },
      "source": [
        "X_test = X_test.T[selected_features].T\n",
        "print(X_test.shape)\n",
        "print(X_test.columns)"
      ],
      "execution_count": 95,
      "outputs": [
        {
          "output_type": "stream",
          "text": [
            "(378, 58)\n",
            "Index(['F17', 'F22', 'F31', 'F37', 'F39', 'F44', 'F46', 'F48', 'F50', 'F52',\n",
            "       'F62', 'F74', 'F84', 'F94', 'F99', 'F103', 'F115', 'F123', 'F126',\n",
            "       'F130', 'F146', 'F150', 'F155', 'F158', 'F159', 'F162', 'F172', 'F179',\n",
            "       'F181', 'F187', 'F188', 'F196', 'F199', 'F205', 'F207', 'F210', 'F217',\n",
            "       'F221', 'F226', 'F231', 'F235', 'F242', 'F244', 'F245', 'F251', 'F252',\n",
            "       'F255', 'F267', 'F271', 'F279', 'F282', 'F283', 'F284', 'F292', 'F293',\n",
            "       'STR_F25', 'STR_F28', 'STR_F29'],\n",
            "      dtype='object')\n"
          ],
          "name": "stdout"
        }
      ]
    },
    {
      "cell_type": "markdown",
      "metadata": {
        "id": "sVpFqTNnWIK1"
      },
      "source": [
        "### Fit Model"
      ]
    },
    {
      "cell_type": "code",
      "metadata": {
        "id": "9Y9K1IgwWFDe",
        "outputId": "f4631e5a-4131-439b-e656-f2d45c3706ff",
        "colab": {
          "base_uri": "https://localhost:8080/"
        }
      },
      "source": [
        "classifier = Classifier('SVM' , kernel='rbf', gamma='scale')\n",
        "classifier.fit(X, y)"
      ],
      "execution_count": 99,
      "outputs": [
        {
          "output_type": "execute_result",
          "data": {
            "text/plain": [
              "array([[0.36000697, 0.63999303],\n",
              "       [0.65674039, 0.34325961],\n",
              "       [0.39915645, 0.60084355],\n",
              "       ...,\n",
              "       [0.4696863 , 0.5303137 ],\n",
              "       [0.56928967, 0.43071033],\n",
              "       [0.33560013, 0.66439987]])"
            ]
          },
          "metadata": {
            "tags": []
          },
          "execution_count": 99
        }
      ]
    },
    {
      "cell_type": "markdown",
      "metadata": {
        "id": "dhPNSdeDXC5Q"
      },
      "source": [
        "## Prediction on Testset"
      ]
    },
    {
      "cell_type": "code",
      "metadata": {
        "id": "wdkSYFYEW8jz",
        "outputId": "51027b79-1a0e-4345-c367-53f2cfd98ef0",
        "colab": {
          "base_uri": "https://localhost:8080/"
        }
      },
      "source": [
        "test_predictions = classifier.predict(X_test)\n",
        "test_prediction_labels = np.array(test_predictions[:,1] > 0.5, dtype=int)\n",
        "\n",
        "print(accuracy_score(y_test, test_prediction_labels))"
      ],
      "execution_count": 103,
      "outputs": [
        {
          "output_type": "stream",
          "text": [
            "0.5793650793650794\n"
          ],
          "name": "stdout"
        }
      ]
    },
    {
      "cell_type": "markdown",
      "metadata": {
        "id": "0NrrfSvvteD_"
      },
      "source": [
        "## Ensenble Method"
      ]
    },
    {
      "cell_type": "markdown",
      "metadata": {
        "id": "D4sDG0pgrLIT"
      },
      "source": [
        "## Explorary Idea: Use ensenble idea on all sklearn models and suggest label with maximum occurance."
      ]
    },
    {
      "cell_type": "code",
      "metadata": {
        "id": "k523GsbWteD_"
      },
      "source": [
        "svm = Classifier('SVM' , kernel='rbf', gamma='auto', probability=True)\n",
        "train_predictions_svm = svm.fit(X, y)"
      ],
      "execution_count": 104,
      "outputs": []
    },
    {
      "cell_type": "code",
      "metadata": {
        "id": "SEejxFjbteEA"
      },
      "source": [
        "rf = Classifier('Random Forest', n_estimator=200, max_depth=10)\n",
        "train_predictions_rf = rf.fit(X, y)"
      ],
      "execution_count": 105,
      "outputs": []
    },
    {
      "cell_type": "code",
      "metadata": {
        "id": "5itbSJxYteEA"
      },
      "source": [
        "mlp = Classifier('MLP', max_iter=1200 , hidden_layer_sizes=(32, 4,), activation='relu', solver='adam')\n",
        "train_predictions_mlp = mlp.fit(X, y)"
      ],
      "execution_count": 106,
      "outputs": []
    },
    {
      "cell_type": "code",
      "metadata": {
        "id": "BOKWUBW2teEA"
      },
      "source": [
        "adaboost = Classifier('Ada Boost', n_estimators= 120, learning_rate= 0.5)\n",
        "train_predictions_adaboost = adaboost.fit(X, y)"
      ],
      "execution_count": 107,
      "outputs": []
    },
    {
      "cell_type": "code",
      "metadata": {
        "id": "edDTrcSOteEA"
      },
      "source": [
        "nb = Classifier('Naive Bayes')\n",
        "train_predictions_nb = nb.fit(X, y)"
      ],
      "execution_count": 108,
      "outputs": []
    },
    {
      "cell_type": "code",
      "metadata": {
        "id": "bAX2XE3OteEA"
      },
      "source": [
        "threshold = 0.5\n",
        "\n",
        "train_prediction_labels_svm = np.array(train_predictions_svm[:,1] > threshold, dtype=int)\n",
        "train_prediction_labels_rf = np.array(train_predictions_rf[:,1] > threshold, dtype=int)\n",
        "train_prediction_labels_mlp = np.array(train_predictions_mlp[:,1] > threshold, dtype=int)\n",
        "train_prediction_labels_ad = np.array(train_predictions_adaboost[:,1] > threshold, dtype=int)\n",
        "train_prediction_labels_nb = np.array(train_predictions_nb[:,1] > threshold, dtype=int)\n",
        "\n",
        "lsts = []\n",
        "for i in range(len(train_prediction_labels_svm)):\n",
        "    lsts.append(\n",
        "        [\n",
        "            train_prediction_labels_svm[i],\n",
        "            train_prediction_labels_rf[i],\n",
        "            train_prediction_labels_mlp[i],\n",
        "            train_prediction_labels_ad[i],\n",
        "            train_prediction_labels_nb[i]\n",
        "        ]\n",
        "    )\n",
        "\n",
        "y_train_pred = [ max(lst, key=lst.count) for lst in lsts]"
      ],
      "execution_count": 109,
      "outputs": []
    },
    {
      "cell_type": "code",
      "metadata": {
        "id": "lWd8bZRxteEA",
        "colab": {
          "base_uri": "https://localhost:8080/"
        },
        "outputId": "bdc74898-43b6-466a-d3fb-31d9e0ea079a"
      },
      "source": [
        "print(classification_report(y, y_train_pred))\n",
        "print(accuracy_score(y, y_train_pred))"
      ],
      "execution_count": 113,
      "outputs": [
        {
          "output_type": "stream",
          "text": [
            "              precision    recall  f1-score   support\n",
            "\n",
            "           0       0.83      0.94      0.88      1000\n",
            "           1       0.93      0.81      0.87      1000\n",
            "\n",
            "    accuracy                           0.87      2000\n",
            "   macro avg       0.88      0.87      0.87      2000\n",
            "weighted avg       0.88      0.87      0.87      2000\n",
            "\n",
            "0.8735\n"
          ],
          "name": "stdout"
        }
      ]
    },
    {
      "cell_type": "code",
      "metadata": {
        "id": "lF5vifSXteEB"
      },
      "source": [
        "test_predictions_svm = rf.predict(X_test)\n",
        "test_predictions_rf = svm.predict(X_test)\n",
        "test_predictions_ad = adaboost.predict(X_test)\n",
        "test_predictions_nb = nb.predict(X_test)\n",
        "test_predictions_mlp = mlp.predict(X_test)\n",
        "\n",
        "test_prediction_labels_svm = np.array(test_predictions_svm[:,1] > threshold, dtype=int)\n",
        "test_prediction_labels_rf = np.array(test_predictions_rf[:,1] > threshold, dtype=int)\n",
        "test_prediction_labels_mlp = np.array(test_predictions_mlp[:,1] > threshold, dtype=int)\n",
        "test_prediction_labels_ad = np.array(test_predictions_ad[:,1] > threshold, dtype=int)\n",
        "test_prediction_labels_nb = np.array(test_predictions_nb[:,1] > threshold, dtype=int)\n",
        "\n",
        "lsts = []\n",
        "for i in range(len(test_prediction_labels_svm)):\n",
        "    lsts.append(\n",
        "        [\n",
        "            test_prediction_labels_svm[i],\n",
        "            test_prediction_labels_rf[i],\n",
        "            test_prediction_labels_mlp[i],\n",
        "            test_prediction_labels_ad[i],\n",
        "            test_prediction_labels_nb[i]\n",
        "        ]\n",
        "    )\n",
        "\n",
        "y_test_pred = [ max(lst, key=lst.count) for lst in lsts]"
      ],
      "execution_count": 118,
      "outputs": []
    },
    {
      "cell_type": "code",
      "metadata": {
        "id": "jQtPypzQteEB",
        "colab": {
          "base_uri": "https://localhost:8080/"
        },
        "outputId": "44a8d25c-cd13-457d-d773-8c1135bc8430"
      },
      "source": [
        "print(classification_report(y_test, y_test_pred))\n",
        "print(accuracy_score(y_test, y_test_pred))"
      ],
      "execution_count": 119,
      "outputs": [
        {
          "output_type": "stream",
          "text": [
            "              precision    recall  f1-score   support\n",
            "\n",
            "           0       0.60      0.59      0.60       189\n",
            "           1       0.60      0.60      0.60       189\n",
            "\n",
            "    accuracy                           0.60       378\n",
            "   macro avg       0.60      0.60      0.60       378\n",
            "weighted avg       0.60      0.60      0.60       378\n",
            "\n",
            "0.5978835978835979\n"
          ],
          "name": "stdout"
        }
      ]
    },
    {
      "cell_type": "code",
      "metadata": {
        "id": "uNxkHGM2teEB"
      },
      "source": [],
      "execution_count": null,
      "outputs": []
    },
    {
      "cell_type": "code",
      "metadata": {
        "id": "Z7spGfC_teEC"
      },
      "source": [],
      "execution_count": null,
      "outputs": []
    },
    {
      "cell_type": "code",
      "metadata": {
        "id": "u8hL7X1FteEC"
      },
      "source": [],
      "execution_count": null,
      "outputs": []
    },
    {
      "cell_type": "code",
      "metadata": {
        "id": "2feKHbB6teEC"
      },
      "source": [],
      "execution_count": null,
      "outputs": []
    },
    {
      "cell_type": "code",
      "metadata": {
        "id": "KOrQGpucteEC"
      },
      "source": [],
      "execution_count": null,
      "outputs": []
    },
    {
      "cell_type": "code",
      "metadata": {
        "id": "7JFEA39FteEC"
      },
      "source": [],
      "execution_count": null,
      "outputs": []
    },
    {
      "cell_type": "code",
      "metadata": {
        "id": "PrFv-IghteEC"
      },
      "source": [],
      "execution_count": null,
      "outputs": []
    },
    {
      "cell_type": "code",
      "metadata": {
        "id": "ackGLlcFteEC"
      },
      "source": [],
      "execution_count": null,
      "outputs": []
    },
    {
      "cell_type": "code",
      "metadata": {
        "id": "1EuoTcs8teEC"
      },
      "source": [],
      "execution_count": null,
      "outputs": []
    },
    {
      "cell_type": "code",
      "metadata": {
        "id": "hT4gfxR7teED"
      },
      "source": [],
      "execution_count": null,
      "outputs": []
    },
    {
      "cell_type": "code",
      "metadata": {
        "id": "t0VXMgeTteED"
      },
      "source": [],
      "execution_count": null,
      "outputs": []
    },
    {
      "cell_type": "code",
      "metadata": {
        "id": "lsURbYDLteED"
      },
      "source": [],
      "execution_count": null,
      "outputs": []
    },
    {
      "cell_type": "code",
      "metadata": {
        "id": "qGlArY9BteEF"
      },
      "source": [],
      "execution_count": null,
      "outputs": []
    }
  ]
}