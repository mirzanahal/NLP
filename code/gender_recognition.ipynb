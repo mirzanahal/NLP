{
 "cells": [
  {
   "cell_type": "markdown",
   "metadata": {
    "id": "XJO9r_BjteDx"
   },
   "source": [
    "# NLP (HW1)\n",
    "## Persian Gender Recognition\n",
    "## Authors: Nahal Mirzaie, Tahere Talaie\n",
    "### Spring 1400"
   ]
  },
<<<<<<< HEAD
  {
   "cell_type": "markdown",
   "metadata": {
    "id": "DhAVD-TFteD3"
   },
   "source": [
    "## Connect to Google Drive"
   ]
  },
  {
   "cell_type": "code",
   "execution_count": null,
   "metadata": {
    "colab": {
     "base_uri": "https://localhost:8080/"
=======
  "cells": [
    {
      "cell_type": "markdown",
      "metadata": {
        "id": "XJO9r_BjteDx"
      },
      "source": [
        "# NLP (HW1)\n",
        "## Persian Gender Recognition\n",
        "## Authors: Nahal Mirzaie, Tahere Talaie\n",
        "### Spring 1400"
      ]
    },
    {
      "cell_type": "markdown",
      "metadata": {
        "id": "DhAVD-TFteD3"
      },
      "source": [
        "## Connect to Google Drive"
      ]
    },
    {
      "cell_type": "code",
      "metadata": {
        "id": "hjBEjfOcteD3",
        "colab": {
          "base_uri": "https://localhost:8080/"
        },
        "outputId": "1f601e44-7406-4776-d1ee-3dfda355ed6f"
      },
      "source": [
        "from google.colab import drive\n",
        "drive.mount('/content/drive')\n",
        "%cd drive/MyDrive"
      ],
      "execution_count": null,
      "outputs": [
        {
          "output_type": "stream",
          "text": [
            "Mounted at /content/drive\n"
          ],
          "name": "stdout"
        }
      ]
    },
    {
      "cell_type": "markdown",
      "metadata": {
        "id": "4nbo9p52teD4"
      },
      "source": [
        "### Clone Project from Github"
      ]
    },
    {
      "cell_type": "code",
      "metadata": {
        "id": "mxsnvI1ZteD4",
        "colab": {
          "base_uri": "https://localhost:8080/"
        },
        "outputId": "a87c481f-0797-4a76-dfe4-8b1ad3ae98dc"
      },
      "source": [
        "!git clone 'https://github.com/mirzanahal/Persian-Gender-Recognition'"
      ],
      "execution_count": 1,
      "outputs": [
        {
          "output_type": "stream",
          "text": [
            "Cloning into 'Persian-Gender-Recognition'...\n",
            "remote: Enumerating objects: 2607, done.\u001b[K\n",
            "remote: Counting objects: 100% (2607/2607), done.\u001b[K\n",
            "remote: Compressing objects: 100% (2505/2505), done.\u001b[K\n",
            "remote: Total 2607 (delta 141), reused 2523 (delta 68), pack-reused 0\u001b[K\n",
            "Receiving objects: 100% (2607/2607), 31.49 MiB | 20.53 MiB/s, done.\n",
            "Resolving deltas: 100% (141/141), done.\n"
          ],
          "name": "stdout"
        }
      ]
    },
    {
      "cell_type": "markdown",
      "metadata": {
        "id": "6AQPq2m7teD4"
      },
      "source": [
        "### Install Requirement"
      ]
    },
    {
      "cell_type": "code",
      "metadata": {
        "id": "fstL7IN1teD4",
        "colab": {
          "base_uri": "https://localhost:8080/",
          "height": 1000
        },
        "outputId": "5c3bcab8-e3dc-4b40-8206-8ca12b910575"
      },
      "source": [
        "!pip install -r Persian-Gender-Recognition/requirement.txt"
      ],
      "execution_count": 2,
      "outputs": [
        {
          "output_type": "stream",
          "text": [
            "Collecting appnope==0.1.2\n",
            "  Downloading https://files.pythonhosted.org/packages/e4/fa/0c6c9786aa6927d12d100d322588e125e6ed466ab0a3d2d509ea18aeb56d/appnope-0.1.2-py2.py3-none-any.whl\n",
            "Requirement already satisfied: backcall==0.2.0 in /usr/local/lib/python3.7/dist-packages (from -r Persian-Gender-Recognition/requirement.txt (line 2)) (0.2.0)\n",
            "Requirement already satisfied: certifi==2020.12.5 in /usr/local/lib/python3.7/dist-packages (from -r Persian-Gender-Recognition/requirement.txt (line 3)) (2020.12.5)\n",
            "Collecting chardet==4.0.0\n",
            "\u001b[?25l  Downloading https://files.pythonhosted.org/packages/19/c7/fa589626997dd07bd87d9269342ccb74b1720384a4d739a1872bd84fbe68/chardet-4.0.0-py2.py3-none-any.whl (178kB)\n",
            "\r\u001b[K     |█▉                              | 10kB 18.5MB/s eta 0:00:01\r\u001b[K     |███▋                            | 20kB 24.2MB/s eta 0:00:01\r\u001b[K     |█████▌                          | 30kB 27.8MB/s eta 0:00:01\r\u001b[K     |███████▎                        | 40kB 30.5MB/s eta 0:00:01\r\u001b[K     |█████████▏                      | 51kB 32.2MB/s eta 0:00:01\r\u001b[K     |███████████                     | 61kB 33.6MB/s eta 0:00:01\r\u001b[K     |████████████▉                   | 71kB 34.7MB/s eta 0:00:01\r\u001b[K     |██████████████▋                 | 81kB 34.0MB/s eta 0:00:01\r\u001b[K     |████████████████▌               | 92kB 34.8MB/s eta 0:00:01\r\u001b[K     |██████████████████▎             | 102kB 33.6MB/s eta 0:00:01\r\u001b[K     |████████████████████▏           | 112kB 33.6MB/s eta 0:00:01\r\u001b[K     |██████████████████████          | 122kB 33.6MB/s eta 0:00:01\r\u001b[K     |███████████████████████▉        | 133kB 33.6MB/s eta 0:00:01\r\u001b[K     |█████████████████████████▋      | 143kB 33.6MB/s eta 0:00:01\r\u001b[K     |███████████████████████████▌    | 153kB 33.6MB/s eta 0:00:01\r\u001b[K     |█████████████████████████████▎  | 163kB 33.6MB/s eta 0:00:01\r\u001b[K     |███████████████████████████████▏| 174kB 33.6MB/s eta 0:00:01\r\u001b[K     |████████████████████████████████| 184kB 33.6MB/s \n",
            "\u001b[?25hRequirement already satisfied: cycler==0.10.0 in /usr/local/lib/python3.7/dist-packages (from -r Persian-Gender-Recognition/requirement.txt (line 5)) (0.10.0)\n",
            "Requirement already satisfied: decorator==4.4.2 in /usr/local/lib/python3.7/dist-packages (from -r Persian-Gender-Recognition/requirement.txt (line 6)) (4.4.2)\n",
            "Collecting fasttext==0.9.2\n",
            "\u001b[?25l  Downloading https://files.pythonhosted.org/packages/f8/85/e2b368ab6d3528827b147fdb814f8189acc981a4bc2f99ab894650e05c40/fasttext-0.9.2.tar.gz (68kB)\n",
            "\u001b[K     |████████████████████████████████| 71kB 6.8MB/s \n",
            "\u001b[?25hCollecting hazm==0.7.0\n",
            "\u001b[?25l  Downloading https://files.pythonhosted.org/packages/22/13/5a7074bc11d20dbbb46239349ac3f85f7edc148b4cf68e9b8c2f8263830c/hazm-0.7.0-py3-none-any.whl (316kB)\n",
            "\u001b[K     |████████████████████████████████| 317kB 45.8MB/s \n",
            "\u001b[?25hRequirement already satisfied: idna==2.10 in /usr/local/lib/python3.7/dist-packages (from -r Persian-Gender-Recognition/requirement.txt (line 9)) (2.10)\n",
            "Collecting ipykernel==5.5.0\n",
            "\u001b[?25l  Downloading https://files.pythonhosted.org/packages/56/95/3a670c8b2c2370bd8631c313f42e60983b3113ffec4035940592252bd6d5/ipykernel-5.5.0-py3-none-any.whl (120kB)\n",
            "\u001b[K     |████████████████████████████████| 122kB 47.4MB/s \n",
            "\u001b[?25hCollecting ipython==7.21.0\n",
            "\u001b[?25l  Downloading https://files.pythonhosted.org/packages/3b/43/6dbd0610550708fc418ad027fda97b5f415da9053749641654fdacfec93f/ipython-7.21.0-py3-none-any.whl (784kB)\n",
            "\u001b[K     |████████████████████████████████| 788kB 44.3MB/s \n",
            "\u001b[?25hRequirement already satisfied: ipython-genutils==0.2.0 in /usr/local/lib/python3.7/dist-packages (from -r Persian-Gender-Recognition/requirement.txt (line 12)) (0.2.0)\n",
            "Requirement already satisfied: jedi==0.18.0 in /usr/local/lib/python3.7/dist-packages (from -r Persian-Gender-Recognition/requirement.txt (line 13)) (0.18.0)\n",
            "Requirement already satisfied: joblib==1.0.1 in /usr/local/lib/python3.7/dist-packages (from -r Persian-Gender-Recognition/requirement.txt (line 14)) (1.0.1)\n",
            "Collecting jupyter-client==6.1.12\n",
            "\u001b[?25l  Downloading https://files.pythonhosted.org/packages/77/e8/c3cf72a32a697256608d5fa96360c431adec6e1c6709ba7f13f99ff5ee04/jupyter_client-6.1.12-py3-none-any.whl (112kB)\n",
            "\u001b[K     |████████████████████████████████| 122kB 43.5MB/s \n",
            "\u001b[?25hRequirement already satisfied: jupyter-core==4.7.1 in /usr/local/lib/python3.7/dist-packages (from -r Persian-Gender-Recognition/requirement.txt (line 16)) (4.7.1)\n",
            "Requirement already satisfied: kiwisolver==1.3.1 in /usr/local/lib/python3.7/dist-packages (from -r Persian-Gender-Recognition/requirement.txt (line 17)) (1.3.1)\n",
            "Collecting libwapiti==0.2.1\n",
            "\u001b[?25l  Downloading https://files.pythonhosted.org/packages/bc/0f/1c9b49bb49821b5856a64ea6fac8d96a619b9f291d1f06999ea98a32c89c/libwapiti-0.2.1.tar.gz (233kB)\n",
            "\u001b[K     |████████████████████████████████| 235kB 44.3MB/s \n",
            "\u001b[?25hCollecting matplotlib==3.4.0\n",
            "\u001b[?25l  Downloading https://files.pythonhosted.org/packages/83/ee/8d7e0149ecf95fae7e744c5a93f51a8c9f7a96c63691d10aed6d2c1d8735/matplotlib-3.4.0-cp37-cp37m-manylinux1_x86_64.whl (10.3MB)\n",
            "\u001b[K     |████████████████████████████████| 10.3MB 25.9MB/s \n",
            "\u001b[?25hCollecting nltk==3.3\n",
            "\u001b[?25l  Downloading https://files.pythonhosted.org/packages/50/09/3b1755d528ad9156ee7243d52aa5cd2b809ef053a0f31b53d92853dd653a/nltk-3.3.0.zip (1.4MB)\n",
            "\u001b[K     |████████████████████████████████| 1.4MB 35.3MB/s \n",
            "\u001b[?25hCollecting numpy==1.20.2\n",
            "\u001b[?25l  Downloading https://files.pythonhosted.org/packages/73/ef/8967d406f3f85018ceb5efab50431e901683188f1741ceb053efcab26c87/numpy-1.20.2-cp37-cp37m-manylinux2010_x86_64.whl (15.3MB)\n",
            "\u001b[K     |████████████████████████████████| 15.3MB 322kB/s \n",
            "\u001b[?25hCollecting pandas==1.2.3\n",
            "\u001b[?25l  Downloading https://files.pythonhosted.org/packages/f3/d4/3fe3b5bf9886912b64ef040040aec356fa48825e5a829a84c2667afdf952/pandas-1.2.3-cp37-cp37m-manylinux1_x86_64.whl (9.9MB)\n",
            "\u001b[K     |████████████████████████████████| 9.9MB 40.7MB/s \n",
            "\u001b[?25hRequirement already satisfied: parso==0.8.1 in /usr/local/lib/python3.7/dist-packages (from -r Persian-Gender-Recognition/requirement.txt (line 23)) (0.8.1)\n",
            "Requirement already satisfied: pexpect==4.8.0 in /usr/local/lib/python3.7/dist-packages (from -r Persian-Gender-Recognition/requirement.txt (line 24)) (4.8.0)\n",
            "Requirement already satisfied: pickleshare==0.7.5 in /usr/local/lib/python3.7/dist-packages (from -r Persian-Gender-Recognition/requirement.txt (line 25)) (0.7.5)\n",
            "Collecting Pillow==8.1.2\n",
            "\u001b[?25l  Downloading https://files.pythonhosted.org/packages/1f/6d/b719ae8e21660a6a962636896dc4b7d657ef451a3ab941516401846ac5cb/Pillow-8.1.2-cp37-cp37m-manylinux1_x86_64.whl (2.2MB)\n",
            "\u001b[K     |████████████████████████████████| 2.2MB 40.6MB/s \n",
            "\u001b[?25hCollecting prompt-toolkit==3.0.18\n",
            "\u001b[?25l  Downloading https://files.pythonhosted.org/packages/eb/e6/4b4ca4fa94462d4560ba2f4e62e62108ab07be2e16a92e594e43b12d3300/prompt_toolkit-3.0.18-py3-none-any.whl (367kB)\n",
            "\u001b[K     |████████████████████████████████| 368kB 44.0MB/s \n",
            "\u001b[?25hRequirement already satisfied: ptyprocess==0.7.0 in /usr/local/lib/python3.7/dist-packages (from -r Persian-Gender-Recognition/requirement.txt (line 28)) (0.7.0)\n",
            "Requirement already satisfied: pybind11==2.6.2 in /usr/local/lib/python3.7/dist-packages (from -r Persian-Gender-Recognition/requirement.txt (line 29)) (2.6.2)\n",
            "Collecting Pygments==2.8.1\n",
            "\u001b[?25l  Downloading https://files.pythonhosted.org/packages/3a/80/a52c0a7c5939737c6dca75a831e89658ecb6f590fb7752ac777d221937b9/Pygments-2.8.1-py3-none-any.whl (983kB)\n",
            "\u001b[K     |████████████████████████████████| 993kB 42.9MB/s \n",
            "\u001b[?25hRequirement already satisfied: pyparsing==2.4.7 in /usr/local/lib/python3.7/dist-packages (from -r Persian-Gender-Recognition/requirement.txt (line 31)) (2.4.7)\n",
            "Requirement already satisfied: python-dateutil==2.8.1 in /usr/local/lib/python3.7/dist-packages (from -r Persian-Gender-Recognition/requirement.txt (line 32)) (2.8.1)\n",
            "Collecting pytz==2021.1\n",
            "\u001b[?25l  Downloading https://files.pythonhosted.org/packages/70/94/784178ca5dd892a98f113cdd923372024dc04b8d40abe77ca76b5fb90ca6/pytz-2021.1-py2.py3-none-any.whl (510kB)\n",
            "\u001b[K     |████████████████████████████████| 512kB 44.3MB/s \n",
            "\u001b[?25hRequirement already satisfied: pyzmq==22.0.3 in /usr/local/lib/python3.7/dist-packages (from -r Persian-Gender-Recognition/requirement.txt (line 34)) (22.0.3)\n",
            "Collecting requests==2.25.1\n",
            "\u001b[?25l  Downloading https://files.pythonhosted.org/packages/29/c1/24814557f1d22c56d50280771a17307e6bf87b70727d975fd6b2ce6b014a/requests-2.25.1-py2.py3-none-any.whl (61kB)\n",
            "\u001b[K     |████████████████████████████████| 61kB 6.7MB/s \n",
            "\u001b[?25hCollecting scikit-learn==0.24.1\n",
            "\u001b[?25l  Downloading https://files.pythonhosted.org/packages/f3/74/eb899f41d55f957e2591cde5528e75871f817d9fb46d4732423ecaca736d/scikit_learn-0.24.1-cp37-cp37m-manylinux2010_x86_64.whl (22.3MB)\n",
            "\u001b[K     |████████████████████████████████| 22.3MB 1.5MB/s \n",
            "\u001b[?25hCollecting scipy==1.6.2\n",
            "\u001b[?25l  Downloading https://files.pythonhosted.org/packages/75/91/ee427c42957f8c4cbe477bf4f8b7f608e003a17941e509d1777e58648cb3/scipy-1.6.2-cp37-cp37m-manylinux1_x86_64.whl (27.4MB)\n",
            "\u001b[K     |████████████████████████████████| 27.4MB 163kB/s \n",
            "\u001b[?25hRequirement already satisfied: six==1.15.0 in /usr/local/lib/python3.7/dist-packages (from -r Persian-Gender-Recognition/requirement.txt (line 38)) (1.15.0)\n",
            "Requirement already satisfied: sklearn==0.0 in /usr/local/lib/python3.7/dist-packages (from -r Persian-Gender-Recognition/requirement.txt (line 39)) (0.0)\n",
            "Requirement already satisfied: tabulate==0.8.9 in /usr/local/lib/python3.7/dist-packages (from -r Persian-Gender-Recognition/requirement.txt (line 40)) (0.8.9)\n",
            "Collecting threadpoolctl==2.1.0\n",
            "  Downloading https://files.pythonhosted.org/packages/f7/12/ec3f2e203afa394a149911729357aa48affc59c20e2c1c8297a60f33f133/threadpoolctl-2.1.0-py3-none-any.whl\n",
            "Collecting tornado==6.1\n",
            "\u001b[?25l  Downloading https://files.pythonhosted.org/packages/91/a8/9c5902233fa3c2e6a889cbd164333ddda5009669f494e3fadbeee2c03af5/tornado-6.1-cp37-cp37m-manylinux2010_x86_64.whl (428kB)\n",
            "\u001b[K     |████████████████████████████████| 430kB 41.2MB/s \n",
            "\u001b[?25hCollecting tqdm==4.59.0\n",
            "\u001b[?25l  Downloading https://files.pythonhosted.org/packages/f8/3e/2730d0effc282960dbff3cf91599ad0d8f3faedc8e75720fdf224b31ab24/tqdm-4.59.0-py2.py3-none-any.whl (74kB)\n",
            "\u001b[K     |████████████████████████████████| 81kB 8.0MB/s \n",
            "\u001b[?25hRequirement already satisfied: traitlets==5.0.5 in /usr/local/lib/python3.7/dist-packages (from -r Persian-Gender-Recognition/requirement.txt (line 44)) (5.0.5)\n",
            "Collecting urllib3==1.26.4\n",
            "\u001b[?25l  Downloading https://files.pythonhosted.org/packages/09/c6/d3e3abe5b4f4f16cf0dfc9240ab7ce10c2baa0e268989a4e3ec19e90c84e/urllib3-1.26.4-py2.py3-none-any.whl (153kB)\n",
            "\u001b[K     |████████████████████████████████| 153kB 44.1MB/s \n",
            "\u001b[?25hRequirement already satisfied: wcwidth==0.2.5 in /usr/local/lib/python3.7/dist-packages (from -r Persian-Gender-Recognition/requirement.txt (line 46)) (0.2.5)\n",
            "Requirement already satisfied: setuptools>=0.7.0 in /usr/local/lib/python3.7/dist-packages (from fasttext==0.9.2->-r Persian-Gender-Recognition/requirement.txt (line 7)) (54.2.0)\n",
            "Building wheels for collected packages: fasttext, libwapiti, nltk\n",
            "  Building wheel for fasttext (setup.py) ... \u001b[?25l\u001b[?25hdone\n",
            "  Created wheel for fasttext: filename=fasttext-0.9.2-cp37-cp37m-linux_x86_64.whl size=3097067 sha256=495a8716e6f94258e11551690aff63b998ea746ac28e8fd0367667145f665ff9\n",
            "  Stored in directory: /root/.cache/pip/wheels/98/ba/7f/b154944a1cf5a8cee91c154b75231136cc3a3321ab0e30f592\n",
            "  Building wheel for libwapiti (setup.py) ... \u001b[?25l\u001b[?25hdone\n",
            "  Created wheel for libwapiti: filename=libwapiti-0.2.1-cp37-cp37m-linux_x86_64.whl size=153992 sha256=d3d707f1ccd5296234ed194793abe71666044de1cc9a8abc6d2154de8eef6330\n",
            "  Stored in directory: /root/.cache/pip/wheels/66/15/54/4510dce8bb958b1cdd2c47425cbd1e1eecc0480ac9bb1fb9ab\n",
            "  Building wheel for nltk (setup.py) ... \u001b[?25l\u001b[?25hdone\n",
            "  Created wheel for nltk: filename=nltk-3.3-cp37-none-any.whl size=1394470 sha256=be5f5c47eaea7708dd6435383a33e2cffbe60d02c346d88d8ebead8316f4442a\n",
            "  Stored in directory: /root/.cache/pip/wheels/d1/ab/40/3bceea46922767e42986aef7606a600538ca80de6062dc266c\n",
            "Successfully built fasttext libwapiti nltk\n",
            "\u001b[31mERROR: tensorflow 2.4.1 has requirement numpy~=1.19.2, but you'll have numpy 1.20.2 which is incompatible.\u001b[0m\n",
            "\u001b[31mERROR: jupyter-console 5.2.0 has requirement prompt-toolkit<2.0.0,>=1.0.0, but you'll have prompt-toolkit 3.0.18 which is incompatible.\u001b[0m\n",
            "\u001b[31mERROR: google-colab 1.0.0 has requirement ipykernel~=4.10, but you'll have ipykernel 5.5.0 which is incompatible.\u001b[0m\n",
            "\u001b[31mERROR: google-colab 1.0.0 has requirement ipython~=5.5.0, but you'll have ipython 7.21.0 which is incompatible.\u001b[0m\n",
            "\u001b[31mERROR: google-colab 1.0.0 has requirement pandas~=1.1.0; python_version >= \"3.0\", but you'll have pandas 1.2.3 which is incompatible.\u001b[0m\n",
            "\u001b[31mERROR: google-colab 1.0.0 has requirement requests~=2.23.0, but you'll have requests 2.25.1 which is incompatible.\u001b[0m\n",
            "\u001b[31mERROR: google-colab 1.0.0 has requirement tornado~=5.1.0; python_version >= \"3.0\", but you'll have tornado 6.1 which is incompatible.\u001b[0m\n",
            "\u001b[31mERROR: datascience 0.10.6 has requirement folium==0.2.1, but you'll have folium 0.8.3 which is incompatible.\u001b[0m\n",
            "\u001b[31mERROR: albumentations 0.1.12 has requirement imgaug<0.2.7,>=0.2.5, but you'll have imgaug 0.2.9 which is incompatible.\u001b[0m\n",
            "Installing collected packages: appnope, chardet, numpy, fasttext, nltk, libwapiti, hazm, prompt-toolkit, Pygments, ipython, tornado, jupyter-client, ipykernel, Pillow, matplotlib, pytz, pandas, urllib3, requests, scipy, threadpoolctl, scikit-learn, tqdm\n",
            "  Found existing installation: chardet 3.0.4\n",
            "    Uninstalling chardet-3.0.4:\n",
            "      Successfully uninstalled chardet-3.0.4\n",
            "  Found existing installation: numpy 1.19.5\n",
            "    Uninstalling numpy-1.19.5:\n",
            "      Successfully uninstalled numpy-1.19.5\n",
            "  Found existing installation: nltk 3.2.5\n",
            "    Uninstalling nltk-3.2.5:\n",
            "      Successfully uninstalled nltk-3.2.5\n",
            "  Found existing installation: prompt-toolkit 1.0.18\n",
            "    Uninstalling prompt-toolkit-1.0.18:\n",
            "      Successfully uninstalled prompt-toolkit-1.0.18\n",
            "  Found existing installation: Pygments 2.6.1\n",
            "    Uninstalling Pygments-2.6.1:\n",
            "      Successfully uninstalled Pygments-2.6.1\n",
            "  Found existing installation: ipython 5.5.0\n",
            "    Uninstalling ipython-5.5.0:\n",
            "      Successfully uninstalled ipython-5.5.0\n",
            "  Found existing installation: tornado 5.1.1\n",
            "    Uninstalling tornado-5.1.1:\n",
            "      Successfully uninstalled tornado-5.1.1\n",
            "  Found existing installation: jupyter-client 5.3.5\n",
            "    Uninstalling jupyter-client-5.3.5:\n",
            "      Successfully uninstalled jupyter-client-5.3.5\n",
            "  Found existing installation: ipykernel 4.10.1\n",
            "    Uninstalling ipykernel-4.10.1:\n",
            "      Successfully uninstalled ipykernel-4.10.1\n",
            "  Found existing installation: Pillow 7.1.2\n",
            "    Uninstalling Pillow-7.1.2:\n",
            "      Successfully uninstalled Pillow-7.1.2\n",
            "  Found existing installation: matplotlib 3.2.2\n",
            "    Uninstalling matplotlib-3.2.2:\n",
            "      Successfully uninstalled matplotlib-3.2.2\n",
            "  Found existing installation: pytz 2018.9\n",
            "    Uninstalling pytz-2018.9:\n",
            "      Successfully uninstalled pytz-2018.9\n",
            "  Found existing installation: pandas 1.1.5\n",
            "    Uninstalling pandas-1.1.5:\n",
            "      Successfully uninstalled pandas-1.1.5\n",
            "  Found existing installation: urllib3 1.24.3\n",
            "    Uninstalling urllib3-1.24.3:\n",
            "      Successfully uninstalled urllib3-1.24.3\n",
            "  Found existing installation: requests 2.23.0\n",
            "    Uninstalling requests-2.23.0:\n",
            "      Successfully uninstalled requests-2.23.0\n",
            "  Found existing installation: scipy 1.4.1\n",
            "    Uninstalling scipy-1.4.1:\n",
            "      Successfully uninstalled scipy-1.4.1\n",
            "  Found existing installation: scikit-learn 0.22.2.post1\n",
            "    Uninstalling scikit-learn-0.22.2.post1:\n",
            "      Successfully uninstalled scikit-learn-0.22.2.post1\n",
            "  Found existing installation: tqdm 4.41.1\n",
            "    Uninstalling tqdm-4.41.1:\n",
            "      Successfully uninstalled tqdm-4.41.1\n",
            "Successfully installed Pillow-8.1.2 Pygments-2.8.1 appnope-0.1.2 chardet-4.0.0 fasttext-0.9.2 hazm-0.7.0 ipykernel-5.5.0 ipython-7.21.0 jupyter-client-6.1.12 libwapiti-0.2.1 matplotlib-3.4.0 nltk-3.3 numpy-1.20.2 pandas-1.2.3 prompt-toolkit-3.0.18 pytz-2021.1 requests-2.25.1 scikit-learn-0.24.1 scipy-1.6.2 threadpoolctl-2.1.0 tornado-6.1 tqdm-4.59.0 urllib3-1.26.4\n"
          ],
          "name": "stdout"
        },
        {
          "output_type": "display_data",
          "data": {
            "application/vnd.colab-display-data+json": {
              "pip_warning": {
                "packages": [
                  "IPython",
                  "PIL",
                  "ipykernel",
                  "jupyter_client",
                  "matplotlib",
                  "mpl_toolkits",
                  "numpy",
                  "pandas",
                  "prompt_toolkit",
                  "pygments",
                  "pytz",
                  "tornado"
                ]
              }
            }
          },
          "metadata": {
            "tags": []
          }
        }
      ]
    },
    {
      "cell_type": "markdown",
      "metadata": {
        "id": "CapOzDT_teD5"
      },
      "source": [
        "### Set Directory"
      ]
    },
    {
      "cell_type": "code",
      "metadata": {
        "id": "kVKhanHvteD5",
        "colab": {
          "base_uri": "https://localhost:8080/"
        },
        "outputId": "8f1596b9-a7ba-45c9-c1e0-40cd1d17058a"
      },
      "source": [
        "%cd Persian-Gender-Recognition/code"
      ],
      "execution_count": 3,
      "outputs": [
        {
          "output_type": "stream",
          "text": [
            "/content/Persian-Gender-Recognition/code\n"
          ],
          "name": "stdout"
        }
      ]
    },
    {
      "cell_type": "markdown",
      "metadata": {
        "id": "hn3UdMiXteD5"
      },
      "source": [
        "## Import "
      ]
    },
    {
      "cell_type": "code",
      "metadata": {
        "id": "wvrw5CNwteD5"
      },
      "source": [
        "import os\n",
        "import pandas as pd\n",
        "import numpy as np\n",
        "\n",
        "from sklearn.metrics import classification_report, accuracy_score\n",
        "from sklearn.preprocessing import StandardScaler\n",
        "from os.path import isfile\n",
        "\n",
        "import config\n",
        "import utils\n",
        "import data_path\n",
        "import data_loader\n",
        "\n",
        "from classifier import Classifier\n",
        "from feature_generator import generate_features"
      ],
      "execution_count": 1,
      "outputs": []
    },
    {
      "cell_type": "markdown",
      "metadata": {
        "id": "QwBp-4eLteD6"
      },
      "source": [
        "## Load Train Datasets"
      ]
    },
    {
      "cell_type": "code",
      "metadata": {
        "id": "nzw5uNdpteD6",
        "colab": {
          "base_uri": "https://localhost:8080/"
        },
        "outputId": "35533873-06eb-46e0-a645-d32f528e111d"
      },
      "source": [
        "embedding_features = pd.read_csv(os.path.join(data_path.DATA_PATH, 'train', 'embedding_fasttext.csv'), index_col=0)\n",
        "embedding_features.head()"
      ],
      "execution_count": 2,
      "outputs": [
        {
          "output_type": "execute_result",
          "data": {
            "text/plain": [
              "         F0        F1        F2        F3        F4        F5        F6  \\\n",
              "0 -0.016724  0.017616  0.009455 -0.013369  0.017276  0.076201  0.014863   \n",
              "1 -0.058125  0.009000  0.011841 -0.012871  0.055241  0.062717  0.029732   \n",
              "2  0.000008  0.030201 -0.010074 -0.028357  0.013431  0.055704  0.027906   \n",
              "3  0.023368  0.074310  0.004460 -0.041999  0.041976  0.022968  0.044264   \n",
              "4 -0.014248  0.029315  0.000213 -0.018357  0.036656  0.043824  0.034683   \n",
              "\n",
              "         F7        F8        F9  ...      F292      F293      F294      F295  \\\n",
              "0  0.031501 -0.027082  0.349909  ...  0.027879 -0.021417 -0.000200 -0.005095   \n",
              "1 -0.027903 -0.049152  0.414287  ... -0.016553 -0.012303  0.000886  0.011415   \n",
              "2  0.017172 -0.062071  0.361386  ...  0.002865 -0.020125  0.004039  0.034927   \n",
              "3  0.077894 -0.065665  0.312161  ... -0.000737 -0.029549 -0.004705  0.038683   \n",
              "4 -0.010164 -0.040589  0.398027  ... -0.002552 -0.018372  0.010154  0.023136   \n",
              "\n",
              "       F296      F297      F298      F299  number  label  \n",
              "0 -0.006116 -0.008217 -0.015635  0.018951     289      0  \n",
              "1  0.000866 -0.011235 -0.028773  0.014173     504      0  \n",
              "2 -0.006673 -0.027432  0.001973 -0.019890     262      0  \n",
              "3  0.020206 -0.012884 -0.010022 -0.024235     276      0  \n",
              "4 -0.005387 -0.023447 -0.008050 -0.025579     510      0  \n",
              "\n",
              "[5 rows x 302 columns]"
            ],
            "text/html": "<div>\n<style scoped>\n    .dataframe tbody tr th:only-of-type {\n        vertical-align: middle;\n    }\n\n    .dataframe tbody tr th {\n        vertical-align: top;\n    }\n\n    .dataframe thead th {\n        text-align: right;\n    }\n</style>\n<table border=\"1\" class=\"dataframe\">\n  <thead>\n    <tr style=\"text-align: right;\">\n      <th></th>\n      <th>F0</th>\n      <th>F1</th>\n      <th>F2</th>\n      <th>F3</th>\n      <th>F4</th>\n      <th>F5</th>\n      <th>F6</th>\n      <th>F7</th>\n      <th>F8</th>\n      <th>F9</th>\n      <th>...</th>\n      <th>F292</th>\n      <th>F293</th>\n      <th>F294</th>\n      <th>F295</th>\n      <th>F296</th>\n      <th>F297</th>\n      <th>F298</th>\n      <th>F299</th>\n      <th>number</th>\n      <th>label</th>\n    </tr>\n  </thead>\n  <tbody>\n    <tr>\n      <th>0</th>\n      <td>-0.016724</td>\n      <td>0.017616</td>\n      <td>0.009455</td>\n      <td>-0.013369</td>\n      <td>0.017276</td>\n      <td>0.076201</td>\n      <td>0.014863</td>\n      <td>0.031501</td>\n      <td>-0.027082</td>\n      <td>0.349909</td>\n      <td>...</td>\n      <td>0.027879</td>\n      <td>-0.021417</td>\n      <td>-0.000200</td>\n      <td>-0.005095</td>\n      <td>-0.006116</td>\n      <td>-0.008217</td>\n      <td>-0.015635</td>\n      <td>0.018951</td>\n      <td>289</td>\n      <td>0</td>\n    </tr>\n    <tr>\n      <th>1</th>\n      <td>-0.058125</td>\n      <td>0.009000</td>\n      <td>0.011841</td>\n      <td>-0.012871</td>\n      <td>0.055241</td>\n      <td>0.062717</td>\n      <td>0.029732</td>\n      <td>-0.027903</td>\n      <td>-0.049152</td>\n      <td>0.414287</td>\n      <td>...</td>\n      <td>-0.016553</td>\n      <td>-0.012303</td>\n      <td>0.000886</td>\n      <td>0.011415</td>\n      <td>0.000866</td>\n      <td>-0.011235</td>\n      <td>-0.028773</td>\n      <td>0.014173</td>\n      <td>504</td>\n      <td>0</td>\n    </tr>\n    <tr>\n      <th>2</th>\n      <td>0.000008</td>\n      <td>0.030201</td>\n      <td>-0.010074</td>\n      <td>-0.028357</td>\n      <td>0.013431</td>\n      <td>0.055704</td>\n      <td>0.027906</td>\n      <td>0.017172</td>\n      <td>-0.062071</td>\n      <td>0.361386</td>\n      <td>...</td>\n      <td>0.002865</td>\n      <td>-0.020125</td>\n      <td>0.004039</td>\n      <td>0.034927</td>\n      <td>-0.006673</td>\n      <td>-0.027432</td>\n      <td>0.001973</td>\n      <td>-0.019890</td>\n      <td>262</td>\n      <td>0</td>\n    </tr>\n    <tr>\n      <th>3</th>\n      <td>0.023368</td>\n      <td>0.074310</td>\n      <td>0.004460</td>\n      <td>-0.041999</td>\n      <td>0.041976</td>\n      <td>0.022968</td>\n      <td>0.044264</td>\n      <td>0.077894</td>\n      <td>-0.065665</td>\n      <td>0.312161</td>\n      <td>...</td>\n      <td>-0.000737</td>\n      <td>-0.029549</td>\n      <td>-0.004705</td>\n      <td>0.038683</td>\n      <td>0.020206</td>\n      <td>-0.012884</td>\n      <td>-0.010022</td>\n      <td>-0.024235</td>\n      <td>276</td>\n      <td>0</td>\n    </tr>\n    <tr>\n      <th>4</th>\n      <td>-0.014248</td>\n      <td>0.029315</td>\n      <td>0.000213</td>\n      <td>-0.018357</td>\n      <td>0.036656</td>\n      <td>0.043824</td>\n      <td>0.034683</td>\n      <td>-0.010164</td>\n      <td>-0.040589</td>\n      <td>0.398027</td>\n      <td>...</td>\n      <td>-0.002552</td>\n      <td>-0.018372</td>\n      <td>0.010154</td>\n      <td>0.023136</td>\n      <td>-0.005387</td>\n      <td>-0.023447</td>\n      <td>-0.008050</td>\n      <td>-0.025579</td>\n      <td>510</td>\n      <td>0</td>\n    </tr>\n  </tbody>\n</table>\n<p>5 rows × 302 columns</p>\n</div>"
          },
          "metadata": {},
          "execution_count": 2
        }
      ]
    },
    {
      "cell_type": "code",
      "metadata": {
        "id": "eYkT5XkFuhvY",
        "colab": {
          "base_uri": "https://localhost:8080/"
        },
        "outputId": "ecd38d65-43f5-402c-9a99-46157c420096"
      },
      "source": [
        "psychological_features = pd.read_csv(os.path.join(data_path.DATA_PATH, 'train', 'psychological_features.csv'), index_col=0)\n",
        "psychological_features.head()"
      ],
      "execution_count": 3,
      "outputs": [
        {
          "output_type": "execute_result",
          "data": {
            "text/plain": [
              "   PSY_F36  PSY_F37  PSY_F38  PSY_F39  PSY_F47  PSY_F48  number  label\n",
              "0       25       16        0        0        0        0     289      0\n",
              "1        2        5        0        1        0        2     504      0\n",
              "2       19       16        0        0        0        0     262      0\n",
              "3        7        9        0        0        0        0     276      0\n",
              "4       33       44        0        4        0        0     510      0"
            ],
            "text/html": "<div>\n<style scoped>\n    .dataframe tbody tr th:only-of-type {\n        vertical-align: middle;\n    }\n\n    .dataframe tbody tr th {\n        vertical-align: top;\n    }\n\n    .dataframe thead th {\n        text-align: right;\n    }\n</style>\n<table border=\"1\" class=\"dataframe\">\n  <thead>\n    <tr style=\"text-align: right;\">\n      <th></th>\n      <th>PSY_F36</th>\n      <th>PSY_F37</th>\n      <th>PSY_F38</th>\n      <th>PSY_F39</th>\n      <th>PSY_F47</th>\n      <th>PSY_F48</th>\n      <th>number</th>\n      <th>label</th>\n    </tr>\n  </thead>\n  <tbody>\n    <tr>\n      <th>0</th>\n      <td>25</td>\n      <td>16</td>\n      <td>0</td>\n      <td>0</td>\n      <td>0</td>\n      <td>0</td>\n      <td>289</td>\n      <td>0</td>\n    </tr>\n    <tr>\n      <th>1</th>\n      <td>2</td>\n      <td>5</td>\n      <td>0</td>\n      <td>1</td>\n      <td>0</td>\n      <td>2</td>\n      <td>504</td>\n      <td>0</td>\n    </tr>\n    <tr>\n      <th>2</th>\n      <td>19</td>\n      <td>16</td>\n      <td>0</td>\n      <td>0</td>\n      <td>0</td>\n      <td>0</td>\n      <td>262</td>\n      <td>0</td>\n    </tr>\n    <tr>\n      <th>3</th>\n      <td>7</td>\n      <td>9</td>\n      <td>0</td>\n      <td>0</td>\n      <td>0</td>\n      <td>0</td>\n      <td>276</td>\n      <td>0</td>\n    </tr>\n    <tr>\n      <th>4</th>\n      <td>33</td>\n      <td>44</td>\n      <td>0</td>\n      <td>4</td>\n      <td>0</td>\n      <td>0</td>\n      <td>510</td>\n      <td>0</td>\n    </tr>\n  </tbody>\n</table>\n</div>"
          },
          "metadata": {},
          "execution_count": 3
        }
      ]
    },
    {
      "cell_type": "code",
      "metadata": {
        "id": "iEQ4Io_0uhjM",
        "colab": {
          "base_uri": "https://localhost:8080/"
        },
        "outputId": "c2c907c2-500a-47a3-e9fd-1abd0679a38f"
      },
      "source": [
        "structural_features = pd.read_csv(os.path.join(data_path.DATA_PATH, 'train', 'structural_features.csv'), index_col=0)\n",
        "structural_features.head()"
      ],
      "execution_count": 4,
      "outputs": [
        {
          "output_type": "execute_result",
          "data": {
            "text/plain": [
              "   STR_F25  STR_F26  STR_F27  STR_F28  STR_F29  number  label\n",
              "0        1        1     55.0      0.0    122.5     289      0\n",
              "1        0        1     18.0      0.0     92.0     504      0\n",
              "2        1        1     53.0      0.0    117.5     262      0\n",
              "3        0        1     20.0      0.0     80.0     276      0\n",
              "4        1       10     14.3      0.0    276.5     510      0"
            ],
            "text/html": "<div>\n<style scoped>\n    .dataframe tbody tr th:only-of-type {\n        vertical-align: middle;\n    }\n\n    .dataframe tbody tr th {\n        vertical-align: top;\n    }\n\n    .dataframe thead th {\n        text-align: right;\n    }\n</style>\n<table border=\"1\" class=\"dataframe\">\n  <thead>\n    <tr style=\"text-align: right;\">\n      <th></th>\n      <th>STR_F25</th>\n      <th>STR_F26</th>\n      <th>STR_F27</th>\n      <th>STR_F28</th>\n      <th>STR_F29</th>\n      <th>number</th>\n      <th>label</th>\n    </tr>\n  </thead>\n  <tbody>\n    <tr>\n      <th>0</th>\n      <td>1</td>\n      <td>1</td>\n      <td>55.0</td>\n      <td>0.0</td>\n      <td>122.5</td>\n      <td>289</td>\n      <td>0</td>\n    </tr>\n    <tr>\n      <th>1</th>\n      <td>0</td>\n      <td>1</td>\n      <td>18.0</td>\n      <td>0.0</td>\n      <td>92.0</td>\n      <td>504</td>\n      <td>0</td>\n    </tr>\n    <tr>\n      <th>2</th>\n      <td>1</td>\n      <td>1</td>\n      <td>53.0</td>\n      <td>0.0</td>\n      <td>117.5</td>\n      <td>262</td>\n      <td>0</td>\n    </tr>\n    <tr>\n      <th>3</th>\n      <td>0</td>\n      <td>1</td>\n      <td>20.0</td>\n      <td>0.0</td>\n      <td>80.0</td>\n      <td>276</td>\n      <td>0</td>\n    </tr>\n    <tr>\n      <th>4</th>\n      <td>1</td>\n      <td>10</td>\n      <td>14.3</td>\n      <td>0.0</td>\n      <td>276.5</td>\n      <td>510</td>\n      <td>0</td>\n    </tr>\n  </tbody>\n</table>\n</div>"
          },
          "metadata": {},
          "execution_count": 4
        }
      ]
    },
    {
      "cell_type": "code",
      "metadata": {
        "id": "HFxxsom_uhV1",
        "colab": {
          "base_uri": "https://localhost:8080/"
        },
        "outputId": "09e431d1-4ccd-4c43-d4d0-b2462a304d9f"
      },
      "source": [
        "syntactics_features = pd.read_csv(os.path.join(data_path.DATA_PATH, 'train', 'syntactics_features.csv'), index_col=0)\n",
        "syntactics_features.head()"
      ],
      "execution_count": 5,
      "outputs": [
        {
          "output_type": "execute_result",
          "data": {
            "text/plain": [
              "   SYN_F18   SYN_F19  SYN_F20  SYN_F21  SYN_F22   SYN_F23   SYN_F24  number  \\\n",
              "0      0.0  0.000000      0.0      0.0      0.0  0.000000  0.000000     289   \n",
              "1      0.0  0.000000      0.0      0.0      0.0  0.000000  0.000000     504   \n",
              "2      0.0  0.000000      0.0      0.0      0.0  0.012766  0.004255     262   \n",
              "3      0.0  0.000000      0.0      0.0      0.0  0.000000  0.000000     276   \n",
              "4      0.0  0.018083      0.0      0.0      0.0  0.000000  0.000000     510   \n",
              "\n",
              "   label  \n",
              "0      0  \n",
              "1      0  \n",
              "2      0  \n",
              "3      0  \n",
              "4      0  "
            ],
            "text/html": "<div>\n<style scoped>\n    .dataframe tbody tr th:only-of-type {\n        vertical-align: middle;\n    }\n\n    .dataframe tbody tr th {\n        vertical-align: top;\n    }\n\n    .dataframe thead th {\n        text-align: right;\n    }\n</style>\n<table border=\"1\" class=\"dataframe\">\n  <thead>\n    <tr style=\"text-align: right;\">\n      <th></th>\n      <th>SYN_F18</th>\n      <th>SYN_F19</th>\n      <th>SYN_F20</th>\n      <th>SYN_F21</th>\n      <th>SYN_F22</th>\n      <th>SYN_F23</th>\n      <th>SYN_F24</th>\n      <th>number</th>\n      <th>label</th>\n    </tr>\n  </thead>\n  <tbody>\n    <tr>\n      <th>0</th>\n      <td>0.0</td>\n      <td>0.000000</td>\n      <td>0.0</td>\n      <td>0.0</td>\n      <td>0.0</td>\n      <td>0.000000</td>\n      <td>0.000000</td>\n      <td>289</td>\n      <td>0</td>\n    </tr>\n    <tr>\n      <th>1</th>\n      <td>0.0</td>\n      <td>0.000000</td>\n      <td>0.0</td>\n      <td>0.0</td>\n      <td>0.0</td>\n      <td>0.000000</td>\n      <td>0.000000</td>\n      <td>504</td>\n      <td>0</td>\n    </tr>\n    <tr>\n      <th>2</th>\n      <td>0.0</td>\n      <td>0.000000</td>\n      <td>0.0</td>\n      <td>0.0</td>\n      <td>0.0</td>\n      <td>0.012766</td>\n      <td>0.004255</td>\n      <td>262</td>\n      <td>0</td>\n    </tr>\n    <tr>\n      <th>3</th>\n      <td>0.0</td>\n      <td>0.000000</td>\n      <td>0.0</td>\n      <td>0.0</td>\n      <td>0.0</td>\n      <td>0.000000</td>\n      <td>0.000000</td>\n      <td>276</td>\n      <td>0</td>\n    </tr>\n    <tr>\n      <th>4</th>\n      <td>0.0</td>\n      <td>0.018083</td>\n      <td>0.0</td>\n      <td>0.0</td>\n      <td>0.0</td>\n      <td>0.000000</td>\n      <td>0.000000</td>\n      <td>510</td>\n      <td>0</td>\n    </tr>\n  </tbody>\n</table>\n</div>"
          },
          "metadata": {},
          "execution_count": 5
        }
      ]
    },
    {
      "cell_type": "code",
      "metadata": {
        "id": "DJ7985WsuhKI",
        "colab": {
          "base_uri": "https://localhost:8080/"
        },
        "outputId": "df723fe3-d45d-4f3d-8048-4d9ef497996b"
      },
      "source": [
        "text_dependent_features = pd.read_csv(os.path.join(data_path.DATA_PATH, 'train', 'text_dependent_features.csv'), index_col=0)\n",
        "text_dependent_features.head()"
      ],
      "execution_count": 6,
      "outputs": [
        {
          "output_type": "execute_result",
          "data": {
            "text/plain": [
              "   TD_F1     TD_F2  TD_F49  TD_F3     TD_F4  TD_F5     TD_F6  number  label\n",
              "0    245  0.102041      25      1  0.179592    0.0  0.012245     289      0\n",
              "1     92  0.217391      20      2  0.163043    0.0  0.000000     504      0\n",
              "2    235  0.110638      26      3  0.195745    0.0  0.012766     262      0\n",
              "3     80  0.250000      20      1  0.212500    0.0  0.000000     276      0\n",
              "4    553  0.048825      27     16  0.249548    0.0  0.018083     510      0"
            ],
            "text/html": "<div>\n<style scoped>\n    .dataframe tbody tr th:only-of-type {\n        vertical-align: middle;\n    }\n\n    .dataframe tbody tr th {\n        vertical-align: top;\n    }\n\n    .dataframe thead th {\n        text-align: right;\n    }\n</style>\n<table border=\"1\" class=\"dataframe\">\n  <thead>\n    <tr style=\"text-align: right;\">\n      <th></th>\n      <th>TD_F1</th>\n      <th>TD_F2</th>\n      <th>TD_F49</th>\n      <th>TD_F3</th>\n      <th>TD_F4</th>\n      <th>TD_F5</th>\n      <th>TD_F6</th>\n      <th>number</th>\n      <th>label</th>\n    </tr>\n  </thead>\n  <tbody>\n    <tr>\n      <th>0</th>\n      <td>245</td>\n      <td>0.102041</td>\n      <td>25</td>\n      <td>1</td>\n      <td>0.179592</td>\n      <td>0.0</td>\n      <td>0.012245</td>\n      <td>289</td>\n      <td>0</td>\n    </tr>\n    <tr>\n      <th>1</th>\n      <td>92</td>\n      <td>0.217391</td>\n      <td>20</td>\n      <td>2</td>\n      <td>0.163043</td>\n      <td>0.0</td>\n      <td>0.000000</td>\n      <td>504</td>\n      <td>0</td>\n    </tr>\n    <tr>\n      <th>2</th>\n      <td>235</td>\n      <td>0.110638</td>\n      <td>26</td>\n      <td>3</td>\n      <td>0.195745</td>\n      <td>0.0</td>\n      <td>0.012766</td>\n      <td>262</td>\n      <td>0</td>\n    </tr>\n    <tr>\n      <th>3</th>\n      <td>80</td>\n      <td>0.250000</td>\n      <td>20</td>\n      <td>1</td>\n      <td>0.212500</td>\n      <td>0.0</td>\n      <td>0.000000</td>\n      <td>276</td>\n      <td>0</td>\n    </tr>\n    <tr>\n      <th>4</th>\n      <td>553</td>\n      <td>0.048825</td>\n      <td>27</td>\n      <td>16</td>\n      <td>0.249548</td>\n      <td>0.0</td>\n      <td>0.018083</td>\n      <td>510</td>\n      <td>0</td>\n    </tr>\n  </tbody>\n</table>\n</div>"
          },
          "metadata": {},
          "execution_count": 6
        }
      ]
    },
    {
      "cell_type": "code",
      "metadata": {
        "id": "XQj5pdk2ug9M",
        "colab": {
          "base_uri": "https://localhost:8080/"
        },
        "outputId": "cea3f98f-9fcb-4952-899d-3478bb1ef9a8"
      },
      "source": [
        "word_dependent_features = pd.read_csv(os.path.join(data_path.DATA_PATH, 'train', 'word_dependent_features.csv'), index_col=0)\n",
        "word_dependent_features.head()"
      ],
      "execution_count": 7,
      "outputs": [
        {
          "output_type": "execute_result",
          "data": {
            "text/plain": [
              "   WD_F7     WD_F8     WD_F9    WD_F10    WD_F11  WD_F12  WD_F13      WD_F14  \\\n",
              "0     55  4.454545  0.763636  0.600000  0.400000      33      12  119.008264   \n",
              "1     18  5.111111  0.888889  0.611111  0.388889      14       4  123.456790   \n",
              "2     53  4.433962  0.830189  0.660377  0.339623      37      10   78.319687   \n",
              "3     20  4.000000  0.950000  0.800000  0.200000      18       2   50.000000   \n",
              "4    143  3.867133  0.601399  0.608392  0.391608      66      16  165.289256   \n",
              "\n",
              "     WD_F15    WD_F16       WD_F17    WD_F50  number  label  \n",
              "0  0.012121  0.285714  1870.088820  3.635431     289      0  \n",
              "1  0.013072  0.250000  2312.297406  2.736339     504      0  \n",
              "2  0.007983  0.227273  2495.612060  3.715138     262      0  \n",
              "3  0.005263  0.105263  5691.891320  2.926418     276      0  \n",
              "4  0.016645  0.186047  2134.023191  4.147394     510      0  "
            ],
            "text/html": "<div>\n<style scoped>\n    .dataframe tbody tr th:only-of-type {\n        vertical-align: middle;\n    }\n\n    .dataframe tbody tr th {\n        vertical-align: top;\n    }\n\n    .dataframe thead th {\n        text-align: right;\n    }\n</style>\n<table border=\"1\" class=\"dataframe\">\n  <thead>\n    <tr style=\"text-align: right;\">\n      <th></th>\n      <th>WD_F7</th>\n      <th>WD_F8</th>\n      <th>WD_F9</th>\n      <th>WD_F10</th>\n      <th>WD_F11</th>\n      <th>WD_F12</th>\n      <th>WD_F13</th>\n      <th>WD_F14</th>\n      <th>WD_F15</th>\n      <th>WD_F16</th>\n      <th>WD_F17</th>\n      <th>WD_F50</th>\n      <th>number</th>\n      <th>label</th>\n    </tr>\n  </thead>\n  <tbody>\n    <tr>\n      <th>0</th>\n      <td>55</td>\n      <td>4.454545</td>\n      <td>0.763636</td>\n      <td>0.600000</td>\n      <td>0.400000</td>\n      <td>33</td>\n      <td>12</td>\n      <td>119.008264</td>\n      <td>0.012121</td>\n      <td>0.285714</td>\n      <td>1870.088820</td>\n      <td>3.635431</td>\n      <td>289</td>\n      <td>0</td>\n    </tr>\n    <tr>\n      <th>1</th>\n      <td>18</td>\n      <td>5.111111</td>\n      <td>0.888889</td>\n      <td>0.611111</td>\n      <td>0.388889</td>\n      <td>14</td>\n      <td>4</td>\n      <td>123.456790</td>\n      <td>0.013072</td>\n      <td>0.250000</td>\n      <td>2312.297406</td>\n      <td>2.736339</td>\n      <td>504</td>\n      <td>0</td>\n    </tr>\n    <tr>\n      <th>2</th>\n      <td>53</td>\n      <td>4.433962</td>\n      <td>0.830189</td>\n      <td>0.660377</td>\n      <td>0.339623</td>\n      <td>37</td>\n      <td>10</td>\n      <td>78.319687</td>\n      <td>0.007983</td>\n      <td>0.227273</td>\n      <td>2495.612060</td>\n      <td>3.715138</td>\n      <td>262</td>\n      <td>0</td>\n    </tr>\n    <tr>\n      <th>3</th>\n      <td>20</td>\n      <td>4.000000</td>\n      <td>0.950000</td>\n      <td>0.800000</td>\n      <td>0.200000</td>\n      <td>18</td>\n      <td>2</td>\n      <td>50.000000</td>\n      <td>0.005263</td>\n      <td>0.105263</td>\n      <td>5691.891320</td>\n      <td>2.926418</td>\n      <td>276</td>\n      <td>0</td>\n    </tr>\n    <tr>\n      <th>4</th>\n      <td>143</td>\n      <td>3.867133</td>\n      <td>0.601399</td>\n      <td>0.608392</td>\n      <td>0.391608</td>\n      <td>66</td>\n      <td>16</td>\n      <td>165.289256</td>\n      <td>0.016645</td>\n      <td>0.186047</td>\n      <td>2134.023191</td>\n      <td>4.147394</td>\n      <td>510</td>\n      <td>0</td>\n    </tr>\n  </tbody>\n</table>\n</div>"
          },
          "metadata": {},
          "execution_count": 7
        }
      ]
    },
    {
      "cell_type": "code",
      "execution_count": 8,
      "metadata": {},
      "outputs": [
        {
          "output_type": "execute_result",
          "data": {
            "text/plain": [
              "   GRM_F30  GRM_F31  GRM_F32  GRM_F33  GRM_F34  GRM_F35  GRM_F40  GRM_F41  \\\n",
              "0        6        2       16        0        3        6        0        3   \n",
              "1        1        1        8        0        1        1        1        3   \n",
              "2        2        2        9        0        4        5        6        0   \n",
              "3        1        0        3        1        2        0        2        1   \n",
              "4        9        6       36        0       17        7        7        7   \n",
              "\n",
              "   GRM_F42  GRM_F51  number  label  \n",
              "0        1        0     289      0  \n",
              "1        1        1     504      0  \n",
              "2        1        1     262      0  \n",
              "3        1        0     276      0  \n",
              "4        5        7     510      0  "
            ],
            "text/html": "<div>\n<style scoped>\n    .dataframe tbody tr th:only-of-type {\n        vertical-align: middle;\n    }\n\n    .dataframe tbody tr th {\n        vertical-align: top;\n    }\n\n    .dataframe thead th {\n        text-align: right;\n    }\n</style>\n<table border=\"1\" class=\"dataframe\">\n  <thead>\n    <tr style=\"text-align: right;\">\n      <th></th>\n      <th>GRM_F30</th>\n      <th>GRM_F31</th>\n      <th>GRM_F32</th>\n      <th>GRM_F33</th>\n      <th>GRM_F34</th>\n      <th>GRM_F35</th>\n      <th>GRM_F40</th>\n      <th>GRM_F41</th>\n      <th>GRM_F42</th>\n      <th>GRM_F51</th>\n      <th>number</th>\n      <th>label</th>\n    </tr>\n  </thead>\n  <tbody>\n    <tr>\n      <th>0</th>\n      <td>6</td>\n      <td>2</td>\n      <td>16</td>\n      <td>0</td>\n      <td>3</td>\n      <td>6</td>\n      <td>0</td>\n      <td>3</td>\n      <td>1</td>\n      <td>0</td>\n      <td>289</td>\n      <td>0</td>\n    </tr>\n    <tr>\n      <th>1</th>\n      <td>1</td>\n      <td>1</td>\n      <td>8</td>\n      <td>0</td>\n      <td>1</td>\n      <td>1</td>\n      <td>1</td>\n      <td>3</td>\n      <td>1</td>\n      <td>1</td>\n      <td>504</td>\n      <td>0</td>\n    </tr>\n    <tr>\n      <th>2</th>\n      <td>2</td>\n      <td>2</td>\n      <td>9</td>\n      <td>0</td>\n      <td>4</td>\n      <td>5</td>\n      <td>6</td>\n      <td>0</td>\n      <td>1</td>\n      <td>1</td>\n      <td>262</td>\n      <td>0</td>\n    </tr>\n    <tr>\n      <th>3</th>\n      <td>1</td>\n      <td>0</td>\n      <td>3</td>\n      <td>1</td>\n      <td>2</td>\n      <td>0</td>\n      <td>2</td>\n      <td>1</td>\n      <td>1</td>\n      <td>0</td>\n      <td>276</td>\n      <td>0</td>\n    </tr>\n    <tr>\n      <th>4</th>\n      <td>9</td>\n      <td>6</td>\n      <td>36</td>\n      <td>0</td>\n      <td>17</td>\n      <td>7</td>\n      <td>7</td>\n      <td>7</td>\n      <td>5</td>\n      <td>7</td>\n      <td>510</td>\n      <td>0</td>\n    </tr>\n  </tbody>\n</table>\n</div>"
          },
          "metadata": {},
          "execution_count": 8
        }
      ],
      "source": [
        "grammatical_features = pd.read_csv(os.path.join(data_path.DATA_PATH, 'train', 'grammatical_features.csv'), index_col=0)\n",
        "grammatical_features.head()"
      ]
    },
    {
      "cell_type": "markdown",
      "metadata": {
        "id": "J4vPK8xEteD7"
      },
      "source": [
        "## Generate Train Features"
      ]
    },
    {
      "cell_type": "code",
      "metadata": {
        "id": "QsgXtzLjteD7",
        "colab": {
          "base_uri": "https://localhost:8080/"
        },
        "outputId": "b7cd4aa7-6eb1-4b6a-a1c4-6d3dd7e12059"
      },
      "source": [
        "features_list = [embedding_features, psychological_features, structural_features, syntactics_features, text_dependent_features, word_dependent_features, grammatical_features]\n",
        "\n",
        "features = features_list.pop()\n",
        "for feature in features_list:\n",
        "  features = pd.merge(features, feature, left_on=['label', 'number'], right_on=['label', 'number'])\n",
        "\n",
        "print(features.shape)\n",
        "features.head()"
      ],
      "execution_count": 9,
      "outputs": [
        {
          "output_type": "stream",
          "name": "stdout",
          "text": [
            "(2000, 349)\n"
          ]
        },
        {
          "output_type": "execute_result",
          "data": {
            "text/plain": [
              "   GRM_F30  GRM_F31  GRM_F32  GRM_F33  GRM_F34  GRM_F35  GRM_F40  GRM_F41  \\\n",
              "0        6        2       16        0        3        6        0        3   \n",
              "1        1        1        8        0        1        1        1        3   \n",
              "2        2        2        9        0        4        5        6        0   \n",
              "3        1        0        3        1        2        0        2        1   \n",
              "4        9        6       36        0       17        7        7        7   \n",
              "\n",
              "   GRM_F42  GRM_F51  ...     WD_F9    WD_F10    WD_F11  WD_F12  WD_F13  \\\n",
              "0        1        0  ...  0.763636  0.600000  0.400000      33      12   \n",
              "1        1        1  ...  0.888889  0.611111  0.388889      14       4   \n",
              "2        1        1  ...  0.830189  0.660377  0.339623      37      10   \n",
              "3        1        0  ...  0.950000  0.800000  0.200000      18       2   \n",
              "4        5        7  ...  0.601399  0.608392  0.391608      66      16   \n",
              "\n",
              "       WD_F14    WD_F15    WD_F16       WD_F17    WD_F50  \n",
              "0  119.008264  0.012121  0.285714  1870.088820  3.635431  \n",
              "1  123.456790  0.013072  0.250000  2312.297406  2.736339  \n",
              "2   78.319687  0.007983  0.227273  2495.612060  3.715138  \n",
              "3   50.000000  0.005263  0.105263  5691.891320  2.926418  \n",
              "4  165.289256  0.016645  0.186047  2134.023191  4.147394  \n",
              "\n",
              "[5 rows x 349 columns]"
            ],
            "text/html": "<div>\n<style scoped>\n    .dataframe tbody tr th:only-of-type {\n        vertical-align: middle;\n    }\n\n    .dataframe tbody tr th {\n        vertical-align: top;\n    }\n\n    .dataframe thead th {\n        text-align: right;\n    }\n</style>\n<table border=\"1\" class=\"dataframe\">\n  <thead>\n    <tr style=\"text-align: right;\">\n      <th></th>\n      <th>GRM_F30</th>\n      <th>GRM_F31</th>\n      <th>GRM_F32</th>\n      <th>GRM_F33</th>\n      <th>GRM_F34</th>\n      <th>GRM_F35</th>\n      <th>GRM_F40</th>\n      <th>GRM_F41</th>\n      <th>GRM_F42</th>\n      <th>GRM_F51</th>\n      <th>...</th>\n      <th>WD_F9</th>\n      <th>WD_F10</th>\n      <th>WD_F11</th>\n      <th>WD_F12</th>\n      <th>WD_F13</th>\n      <th>WD_F14</th>\n      <th>WD_F15</th>\n      <th>WD_F16</th>\n      <th>WD_F17</th>\n      <th>WD_F50</th>\n    </tr>\n  </thead>\n  <tbody>\n    <tr>\n      <th>0</th>\n      <td>6</td>\n      <td>2</td>\n      <td>16</td>\n      <td>0</td>\n      <td>3</td>\n      <td>6</td>\n      <td>0</td>\n      <td>3</td>\n      <td>1</td>\n      <td>0</td>\n      <td>...</td>\n      <td>0.763636</td>\n      <td>0.600000</td>\n      <td>0.400000</td>\n      <td>33</td>\n      <td>12</td>\n      <td>119.008264</td>\n      <td>0.012121</td>\n      <td>0.285714</td>\n      <td>1870.088820</td>\n      <td>3.635431</td>\n    </tr>\n    <tr>\n      <th>1</th>\n      <td>1</td>\n      <td>1</td>\n      <td>8</td>\n      <td>0</td>\n      <td>1</td>\n      <td>1</td>\n      <td>1</td>\n      <td>3</td>\n      <td>1</td>\n      <td>1</td>\n      <td>...</td>\n      <td>0.888889</td>\n      <td>0.611111</td>\n      <td>0.388889</td>\n      <td>14</td>\n      <td>4</td>\n      <td>123.456790</td>\n      <td>0.013072</td>\n      <td>0.250000</td>\n      <td>2312.297406</td>\n      <td>2.736339</td>\n    </tr>\n    <tr>\n      <th>2</th>\n      <td>2</td>\n      <td>2</td>\n      <td>9</td>\n      <td>0</td>\n      <td>4</td>\n      <td>5</td>\n      <td>6</td>\n      <td>0</td>\n      <td>1</td>\n      <td>1</td>\n      <td>...</td>\n      <td>0.830189</td>\n      <td>0.660377</td>\n      <td>0.339623</td>\n      <td>37</td>\n      <td>10</td>\n      <td>78.319687</td>\n      <td>0.007983</td>\n      <td>0.227273</td>\n      <td>2495.612060</td>\n      <td>3.715138</td>\n    </tr>\n    <tr>\n      <th>3</th>\n      <td>1</td>\n      <td>0</td>\n      <td>3</td>\n      <td>1</td>\n      <td>2</td>\n      <td>0</td>\n      <td>2</td>\n      <td>1</td>\n      <td>1</td>\n      <td>0</td>\n      <td>...</td>\n      <td>0.950000</td>\n      <td>0.800000</td>\n      <td>0.200000</td>\n      <td>18</td>\n      <td>2</td>\n      <td>50.000000</td>\n      <td>0.005263</td>\n      <td>0.105263</td>\n      <td>5691.891320</td>\n      <td>2.926418</td>\n    </tr>\n    <tr>\n      <th>4</th>\n      <td>9</td>\n      <td>6</td>\n      <td>36</td>\n      <td>0</td>\n      <td>17</td>\n      <td>7</td>\n      <td>7</td>\n      <td>7</td>\n      <td>5</td>\n      <td>7</td>\n      <td>...</td>\n      <td>0.601399</td>\n      <td>0.608392</td>\n      <td>0.391608</td>\n      <td>66</td>\n      <td>16</td>\n      <td>165.289256</td>\n      <td>0.016645</td>\n      <td>0.186047</td>\n      <td>2134.023191</td>\n      <td>4.147394</td>\n    </tr>\n  </tbody>\n</table>\n<p>5 rows × 349 columns</p>\n</div>"
          },
          "metadata": {},
          "execution_count": 9
        }
      ]
    },
    {
      "cell_type": "markdown",
      "metadata": {
        "id": "3kJV92-uteD8"
      },
      "source": [
        "## Split X, y"
      ]
    },
    {
      "cell_type": "code",
      "metadata": {
        "id": "uP-X8UteteD8"
      },
      "source": [
        "y = features['label']\n",
        "X = features.drop(['label', 'number'], axis=1)"
      ],
      "execution_count": 47,
      "outputs": []
    },
    {
      "cell_type": "markdown",
      "metadata": {
        "id": "D6JT56jzteD8"
      },
      "source": [
        "## Normalize"
      ]
    },
    {
      "cell_type": "code",
      "metadata": {
        "id": "E85P-1s1teD8"
      },
      "source": [
        "scaler = StandardScaler()\n",
        "X = pd.DataFrame(scaler.fit_transform(X), columns=X.columns)"
      ],
      "execution_count": 48,
      "outputs": []
    },
    {
      "cell_type": "markdown",
      "metadata": {
        "id": "Lg1epwHjteD-"
      },
      "source": [
        "## Feature Importance"
      ]
    },
    {
      "cell_type": "code",
      "metadata": {
        "id": "3wETqZ_TteD-"
      },
      "source": [
        "classifier = Classifier('Random Forest', n_estimator=300)\n",
        "classifier.fit(X, y)\n",
        "feature_importance = classifier.model.feature_importances_"
      ],
      "execution_count": 12,
      "outputs": []
    },
    {
      "cell_type": "code",
      "metadata": {
        "id": "ea5sVQJoteD_",
        "colab": {
          "base_uri": "https://localhost:8080/",
          "height": 879
        },
        "outputId": "c73f0c76-2287-41e9-8800-fbd65d5cd8af"
      },
      "source": [
        "utils.plot_feature_importance(feature_importance, X)"
      ],
      "execution_count": 13,
      "outputs": [
        {
          "output_type": "display_data",
          "data": {
            "text/plain": "<Figure size 720x1440 with 1 Axes>",
            "image/svg+xml": "<?xml version=\"1.0\" encoding=\"utf-8\" standalone=\"no\"?>\n<!DOCTYPE svg PUBLIC \"-//W3C//DTD SVG 1.1//EN\"\n  \"http://www.w3.org/Graphics/SVG/1.1/DTD/svg11.dtd\">\n<svg height=\"1133.39625pt\" version=\"1.1\" viewBox=\"0 0 626.201563 1133.39625\" width=\"626.201563pt\" xmlns=\"http://www.w3.org/2000/svg\" xmlns:xlink=\"http://www.w3.org/1999/xlink\">\n <metadata>\n  <rdf:RDF xmlns:cc=\"http://creativecommons.org/ns#\" xmlns:dc=\"http://purl.org/dc/elements/1.1/\" xmlns:rdf=\"http://www.w3.org/1999/02/22-rdf-syntax-ns#\">\n   <cc:Work>\n    <dc:type rdf:resource=\"http://purl.org/dc/dcmitype/StillImage\"/>\n    <dc:date>2021-04-03T23:33:53.878193</dc:date>\n    <dc:format>image/svg+xml</dc:format>\n    <dc:creator>\n     <cc:Agent>\n      <dc:title>Matplotlib v3.4.0, https://matplotlib.org/</dc:title>\n     </cc:Agent>\n    </dc:creator>\n   </cc:Work>\n  </rdf:RDF>\n </metadata>\n <defs>\n  <style type=\"text/css\">*{stroke-linecap:butt;stroke-linejoin:round;}</style>\n </defs>\n <g id=\"figure_1\">\n  <g id=\"patch_1\">\n   <path d=\"M 0 1133.39625 \nL 626.201563 1133.39625 \nL 626.201563 0 \nL 0 0 \nz\n\" style=\"fill:none;\"/>\n  </g>\n  <g id=\"axes_1\">\n   <g id=\"patch_2\">\n    <path d=\"M 61.001562 1109.518125 \nL 619.001562 1109.518125 \nL 619.001562 22.318125 \nL 61.001562 22.318125 \nz\n\" style=\"fill:#ffffff;\"/>\n   </g>\n   <g id=\"patch_3\">\n    <path clip-path=\"url(#p3b29e8a878)\" d=\"M 61.001562 1107.643642 \nL 61.001562 1107.643642 \nL 61.001562 1105.144332 \nL 61.001562 1105.144332 \nz\n\" style=\"fill:#ff0000;\"/>\n   </g>\n   <g id=\"patch_4\">\n    <path clip-path=\"url(#p3b29e8a878)\" d=\"M 61.001562 1104.519504 \nL 61.001562 1104.519504 \nL 61.001562 1102.020194 \nL 61.001562 1102.020194 \nz\n\" style=\"fill:#ff0000;\"/>\n   </g>\n   <g id=\"patch_5\">\n    <path clip-path=\"url(#p3b29e8a878)\" d=\"M 61.001562 1101.395366 \nL 61.001562 1101.395366 \nL 61.001562 1098.896056 \nL 61.001562 1098.896056 \nz\n\" style=\"fill:#ff0000;\"/>\n   </g>\n   <g id=\"patch_6\">\n    <path clip-path=\"url(#p3b29e8a878)\" d=\"M 61.001562 1098.271228 \nL 61.001562 1098.271228 \nL 61.001562 1095.771918 \nL 61.001562 1095.771918 \nz\n\" style=\"fill:#ff0000;\"/>\n   </g>\n   <g id=\"patch_7\">\n    <path clip-path=\"url(#p3b29e8a878)\" d=\"M 61.001562 1095.147091 \nL 61.001562 1095.147091 \nL 61.001562 1092.64778 \nL 61.001562 1092.64778 \nz\n\" style=\"fill:#ff0000;\"/>\n   </g>\n   <g id=\"patch_8\">\n    <path clip-path=\"url(#p3b29e8a878)\" d=\"M 61.001562 1092.022953 \nL 61.001562 1092.022953 \nL 61.001562 1089.523642 \nL 61.001562 1089.523642 \nz\n\" style=\"fill:#ff0000;\"/>\n   </g>\n   <g id=\"patch_9\">\n    <path clip-path=\"url(#p3b29e8a878)\" d=\"M 61.001562 1088.898815 \nL 61.001562 1088.898815 \nL 61.001562 1086.399504 \nL 61.001562 1086.399504 \nz\n\" style=\"fill:#ff0000;\"/>\n   </g>\n   <g id=\"patch_10\">\n    <path clip-path=\"url(#p3b29e8a878)\" d=\"M 61.001562 1085.774677 \nL 61.001562 1085.774677 \nL 61.001562 1083.275366 \nL 61.001562 1083.275366 \nz\n\" style=\"fill:#ff0000;\"/>\n   </g>\n   <g id=\"patch_11\">\n    <path clip-path=\"url(#p3b29e8a878)\" d=\"M 61.001562 1082.650539 \nL 61.001562 1082.650539 \nL 61.001562 1080.151228 \nL 61.001562 1080.151228 \nz\n\" style=\"fill:#ff0000;\"/>\n   </g>\n   <g id=\"patch_12\">\n    <path clip-path=\"url(#p3b29e8a878)\" d=\"M 61.001562 1079.526401 \nL 61.001562 1079.526401 \nL 61.001562 1077.027091 \nL 61.001562 1077.027091 \nz\n\" style=\"fill:#ff0000;\"/>\n   </g>\n   <g id=\"patch_13\">\n    <path clip-path=\"url(#p3b29e8a878)\" d=\"M 61.001562 1076.402263 \nL 61.001562 1076.402263 \nL 61.001562 1073.902953 \nL 61.001562 1073.902953 \nz\n\" style=\"fill:#ff0000;\"/>\n   </g>\n   <g id=\"patch_14\">\n    <path clip-path=\"url(#p3b29e8a878)\" d=\"M 61.001562 1073.278125 \nL 61.001562 1073.278125 \nL 61.001562 1070.778815 \nL 61.001562 1070.778815 \nz\n\" style=\"fill:#ff0000;\"/>\n   </g>\n   <g id=\"patch_15\">\n    <path clip-path=\"url(#p3b29e8a878)\" d=\"M 61.001562 1070.153987 \nL 61.001562 1070.153987 \nL 61.001562 1067.654677 \nL 61.001562 1067.654677 \nz\n\" style=\"fill:#ff0000;\"/>\n   </g>\n   <g id=\"patch_16\">\n    <path clip-path=\"url(#p3b29e8a878)\" d=\"M 61.001562 1067.029849 \nL 61.001562 1067.029849 \nL 61.001562 1064.530539 \nL 61.001562 1064.530539 \nz\n\" style=\"fill:#ff0000;\"/>\n   </g>\n   <g id=\"patch_17\">\n    <path clip-path=\"url(#p3b29e8a878)\" d=\"M 61.001562 1063.905711 \nL 61.001562 1063.905711 \nL 61.001562 1061.406401 \nL 61.001562 1061.406401 \nz\n\" style=\"fill:#ff0000;\"/>\n   </g>\n   <g id=\"patch_18\">\n    <path clip-path=\"url(#p3b29e8a878)\" d=\"M 61.001562 1060.781573 \nL 61.001562 1060.781573 \nL 61.001562 1058.282263 \nL 61.001562 1058.282263 \nz\n\" style=\"fill:#ff0000;\"/>\n   </g>\n   <g id=\"patch_19\">\n    <path clip-path=\"url(#p3b29e8a878)\" d=\"M 61.001562 1057.657435 \nL 61.001562 1057.657435 \nL 61.001562 1055.158125 \nL 61.001562 1055.158125 \nz\n\" style=\"fill:#ff0000;\"/>\n   </g>\n   <g id=\"patch_20\">\n    <path clip-path=\"url(#p3b29e8a878)\" d=\"M 61.001562 1054.533297 \nL 61.001562 1054.533297 \nL 61.001562 1052.033987 \nL 61.001562 1052.033987 \nz\n\" style=\"fill:#ff0000;\"/>\n   </g>\n   <g id=\"patch_21\">\n    <path clip-path=\"url(#p3b29e8a878)\" d=\"M 61.001562 1051.409159 \nL 61.001562 1051.409159 \nL 61.001562 1048.909849 \nL 61.001562 1048.909849 \nz\n\" style=\"fill:#ff0000;\"/>\n   </g>\n   <g id=\"patch_22\">\n    <path clip-path=\"url(#p3b29e8a878)\" d=\"M 61.001562 1048.285022 \nL 61.001562 1048.285022 \nL 61.001562 1045.785711 \nL 61.001562 1045.785711 \nz\n\" style=\"fill:#ff0000;\"/>\n   </g>\n   <g id=\"patch_23\">\n    <path clip-path=\"url(#p3b29e8a878)\" d=\"M 61.001562 1045.160884 \nL 61.001562 1045.160884 \nL 61.001562 1042.661573 \nL 61.001562 1042.661573 \nz\n\" style=\"fill:#ff0000;\"/>\n   </g>\n   <g id=\"patch_24\">\n    <path clip-path=\"url(#p3b29e8a878)\" d=\"M 61.001562 1042.036746 \nL 61.001562 1042.036746 \nL 61.001562 1039.537435 \nL 61.001562 1039.537435 \nz\n\" style=\"fill:#ff0000;\"/>\n   </g>\n   <g id=\"patch_25\">\n    <path clip-path=\"url(#p3b29e8a878)\" d=\"M 61.001562 1038.912608 \nL 61.001562 1038.912608 \nL 61.001562 1036.413297 \nL 61.001562 1036.413297 \nz\n\" style=\"fill:#ff0000;\"/>\n   </g>\n   <g id=\"patch_26\">\n    <path clip-path=\"url(#p3b29e8a878)\" d=\"M 61.001562 1035.78847 \nL 61.001562 1035.78847 \nL 61.001562 1033.289159 \nL 61.001562 1033.289159 \nz\n\" style=\"fill:#ff0000;\"/>\n   </g>\n   <g id=\"patch_27\">\n    <path clip-path=\"url(#p3b29e8a878)\" d=\"M 61.001562 1032.664332 \nL 61.001562 1032.664332 \nL 61.001562 1030.165022 \nL 61.001562 1030.165022 \nz\n\" style=\"fill:#ff0000;\"/>\n   </g>\n   <g id=\"patch_28\">\n    <path clip-path=\"url(#p3b29e8a878)\" d=\"M 61.001562 1029.540194 \nL 61.001562 1029.540194 \nL 61.001562 1027.040884 \nL 61.001562 1027.040884 \nz\n\" style=\"fill:#ff0000;\"/>\n   </g>\n   <g id=\"patch_29\">\n    <path clip-path=\"url(#p3b29e8a878)\" d=\"M 61.001562 1026.416056 \nL 61.001562 1026.416056 \nL 61.001562 1023.916746 \nL 61.001562 1023.916746 \nz\n\" style=\"fill:#ff0000;\"/>\n   </g>\n   <g id=\"patch_30\">\n    <path clip-path=\"url(#p3b29e8a878)\" d=\"M 61.001562 1023.291918 \nL 61.001562 1023.291918 \nL 61.001562 1020.792608 \nL 61.001562 1020.792608 \nz\n\" style=\"fill:#ff0000;\"/>\n   </g>\n   <g id=\"patch_31\">\n    <path clip-path=\"url(#p3b29e8a878)\" d=\"M 61.001562 1020.16778 \nL 61.001562 1020.16778 \nL 61.001562 1017.66847 \nL 61.001562 1017.66847 \nz\n\" style=\"fill:#ff0000;\"/>\n   </g>\n   <g id=\"patch_32\">\n    <path clip-path=\"url(#p3b29e8a878)\" d=\"M 61.001562 1017.043642 \nL 61.001562 1017.043642 \nL 61.001562 1014.544332 \nL 61.001562 1014.544332 \nz\n\" style=\"fill:#ff0000;\"/>\n   </g>\n   <g id=\"patch_33\">\n    <path clip-path=\"url(#p3b29e8a878)\" d=\"M 61.001562 1013.919504 \nL 61.001562 1013.919504 \nL 61.001562 1011.420194 \nL 61.001562 1011.420194 \nz\n\" style=\"fill:#ff0000;\"/>\n   </g>\n   <g id=\"patch_34\">\n    <path clip-path=\"url(#p3b29e8a878)\" d=\"M 61.001562 1010.795366 \nL 61.001562 1010.795366 \nL 61.001562 1008.296056 \nL 61.001562 1008.296056 \nz\n\" style=\"fill:#ff0000;\"/>\n   </g>\n   <g id=\"patch_35\">\n    <path clip-path=\"url(#p3b29e8a878)\" d=\"M 61.001562 1007.671228 \nL 61.001562 1007.671228 \nL 61.001562 1005.171918 \nL 61.001562 1005.171918 \nz\n\" style=\"fill:#ff0000;\"/>\n   </g>\n   <g id=\"patch_36\">\n    <path clip-path=\"url(#p3b29e8a878)\" d=\"M 61.001562 1004.547091 \nL 61.001562 1004.547091 \nL 61.001562 1002.04778 \nL 61.001562 1002.04778 \nz\n\" style=\"fill:#ff0000;\"/>\n   </g>\n   <g id=\"patch_37\">\n    <path clip-path=\"url(#p3b29e8a878)\" d=\"M 61.001562 1001.422953 \nL 61.001562 1001.422953 \nL 61.001562 998.923642 \nL 61.001562 998.923642 \nz\n\" style=\"fill:#ff0000;\"/>\n   </g>\n   <g id=\"patch_38\">\n    <path clip-path=\"url(#p3b29e8a878)\" d=\"M 61.001562 998.298815 \nL 61.001562 998.298815 \nL 61.001562 995.799504 \nL 61.001562 995.799504 \nz\n\" style=\"fill:#ff0000;\"/>\n   </g>\n   <g id=\"patch_39\">\n    <path clip-path=\"url(#p3b29e8a878)\" d=\"M 61.001562 995.174677 \nL 61.001562 995.174677 \nL 61.001562 992.675366 \nL 61.001562 992.675366 \nz\n\" style=\"fill:#ff0000;\"/>\n   </g>\n   <g id=\"patch_40\">\n    <path clip-path=\"url(#p3b29e8a878)\" d=\"M 61.001562 992.050539 \nL 61.001562 992.050539 \nL 61.001562 989.551228 \nL 61.001562 989.551228 \nz\n\" style=\"fill:#ff0000;\"/>\n   </g>\n   <g id=\"patch_41\">\n    <path clip-path=\"url(#p3b29e8a878)\" d=\"M 61.001562 988.926401 \nL 61.001562 988.926401 \nL 61.001562 986.427091 \nL 61.001562 986.427091 \nz\n\" style=\"fill:#ff0000;\"/>\n   </g>\n   <g id=\"patch_42\">\n    <path clip-path=\"url(#p3b29e8a878)\" d=\"M 61.001562 985.802263 \nL 61.001562 985.802263 \nL 61.001562 983.302953 \nL 61.001562 983.302953 \nz\n\" style=\"fill:#ff0000;\"/>\n   </g>\n   <g id=\"patch_43\">\n    <path clip-path=\"url(#p3b29e8a878)\" d=\"M 61.001562 982.678125 \nL 61.001562 982.678125 \nL 61.001562 980.178815 \nL 61.001562 980.178815 \nz\n\" style=\"fill:#ff0000;\"/>\n   </g>\n   <g id=\"patch_44\">\n    <path clip-path=\"url(#p3b29e8a878)\" d=\"M 61.001562 979.553987 \nL 61.001562 979.553987 \nL 61.001562 977.054677 \nL 61.001562 977.054677 \nz\n\" style=\"fill:#ff0000;\"/>\n   </g>\n   <g id=\"patch_45\">\n    <path clip-path=\"url(#p3b29e8a878)\" d=\"M 61.001562 976.429849 \nL 61.001562 976.429849 \nL 61.001562 973.930539 \nL 61.001562 973.930539 \nz\n\" style=\"fill:#ff0000;\"/>\n   </g>\n   <g id=\"patch_46\">\n    <path clip-path=\"url(#p3b29e8a878)\" d=\"M 61.001562 973.305711 \nL 61.001562 973.305711 \nL 61.001562 970.806401 \nL 61.001562 970.806401 \nz\n\" style=\"fill:#ff0000;\"/>\n   </g>\n   <g id=\"patch_47\">\n    <path clip-path=\"url(#p3b29e8a878)\" d=\"M 61.001562 970.181573 \nL 61.001562 970.181573 \nL 61.001562 967.682263 \nL 61.001562 967.682263 \nz\n\" style=\"fill:#ff0000;\"/>\n   </g>\n   <g id=\"patch_48\">\n    <path clip-path=\"url(#p3b29e8a878)\" d=\"M 61.001562 967.057435 \nL 61.001562 967.057435 \nL 61.001562 964.558125 \nL 61.001562 964.558125 \nz\n\" style=\"fill:#ff0000;\"/>\n   </g>\n   <g id=\"patch_49\">\n    <path clip-path=\"url(#p3b29e8a878)\" d=\"M 61.001562 963.933297 \nL 61.001562 963.933297 \nL 61.001562 961.433987 \nL 61.001562 961.433987 \nz\n\" style=\"fill:#ff0000;\"/>\n   </g>\n   <g id=\"patch_50\">\n    <path clip-path=\"url(#p3b29e8a878)\" d=\"M 61.001562 960.809159 \nL 61.001562 960.809159 \nL 61.001562 958.309849 \nL 61.001562 958.309849 \nz\n\" style=\"fill:#ff0000;\"/>\n   </g>\n   <g id=\"patch_51\">\n    <path clip-path=\"url(#p3b29e8a878)\" d=\"M 61.001562 957.685022 \nL 61.001562 957.685022 \nL 61.001562 955.185711 \nL 61.001562 955.185711 \nz\n\" style=\"fill:#ff0000;\"/>\n   </g>\n   <g id=\"patch_52\">\n    <path clip-path=\"url(#p3b29e8a878)\" d=\"M 61.001562 954.560884 \nL 61.001562 954.560884 \nL 61.001562 952.061573 \nL 61.001562 952.061573 \nz\n\" style=\"fill:#ff0000;\"/>\n   </g>\n   <g id=\"patch_53\">\n    <path clip-path=\"url(#p3b29e8a878)\" d=\"M 61.001562 951.436746 \nL 61.001562 951.436746 \nL 61.001562 948.937435 \nL 61.001562 948.937435 \nz\n\" style=\"fill:#ff0000;\"/>\n   </g>\n   <g id=\"patch_54\">\n    <path clip-path=\"url(#p3b29e8a878)\" d=\"M 61.001562 948.312608 \nL 61.001562 948.312608 \nL 61.001562 945.813297 \nL 61.001562 945.813297 \nz\n\" style=\"fill:#ff0000;\"/>\n   </g>\n   <g id=\"patch_55\">\n    <path clip-path=\"url(#p3b29e8a878)\" d=\"M 61.001562 945.18847 \nL 61.001562 945.18847 \nL 61.001562 942.689159 \nL 61.001562 942.689159 \nz\n\" style=\"fill:#ff0000;\"/>\n   </g>\n   <g id=\"patch_56\">\n    <path clip-path=\"url(#p3b29e8a878)\" d=\"M 61.001562 942.064332 \nL 61.001562 942.064332 \nL 61.001562 939.565022 \nL 61.001562 939.565022 \nz\n\" style=\"fill:#ff0000;\"/>\n   </g>\n   <g id=\"patch_57\">\n    <path clip-path=\"url(#p3b29e8a878)\" d=\"M 61.001562 938.940194 \nL 61.001562 938.940194 \nL 61.001562 936.440884 \nL 61.001562 936.440884 \nz\n\" style=\"fill:#ff0000;\"/>\n   </g>\n   <g id=\"patch_58\">\n    <path clip-path=\"url(#p3b29e8a878)\" d=\"M 61.001562 935.816056 \nL 61.001562 935.816056 \nL 61.001562 933.316746 \nL 61.001562 933.316746 \nz\n\" style=\"fill:#ff0000;\"/>\n   </g>\n   <g id=\"patch_59\">\n    <path clip-path=\"url(#p3b29e8a878)\" d=\"M 61.001562 932.691918 \nL 61.001562 932.691918 \nL 61.001562 930.192608 \nL 61.001562 930.192608 \nz\n\" style=\"fill:#ff0000;\"/>\n   </g>\n   <g id=\"patch_60\">\n    <path clip-path=\"url(#p3b29e8a878)\" d=\"M 61.001562 929.56778 \nL 61.001562 929.56778 \nL 61.001562 927.06847 \nL 61.001562 927.06847 \nz\n\" style=\"fill:#ff0000;\"/>\n   </g>\n   <g id=\"patch_61\">\n    <path clip-path=\"url(#p3b29e8a878)\" d=\"M 61.001562 926.443642 \nL 61.001562 926.443642 \nL 61.001562 923.944332 \nL 61.001562 923.944332 \nz\n\" style=\"fill:#ff0000;\"/>\n   </g>\n   <g id=\"patch_62\">\n    <path clip-path=\"url(#p3b29e8a878)\" d=\"M 61.001562 923.319504 \nL 61.001562 923.319504 \nL 61.001562 920.820194 \nL 61.001562 920.820194 \nz\n\" style=\"fill:#ff0000;\"/>\n   </g>\n   <g id=\"patch_63\">\n    <path clip-path=\"url(#p3b29e8a878)\" d=\"M 61.001562 920.195366 \nL 61.001562 920.195366 \nL 61.001562 917.696056 \nL 61.001562 917.696056 \nz\n\" style=\"fill:#ff0000;\"/>\n   </g>\n   <g id=\"patch_64\">\n    <path clip-path=\"url(#p3b29e8a878)\" d=\"M 61.001562 917.071228 \nL 61.001562 917.071228 \nL 61.001562 914.571918 \nL 61.001562 914.571918 \nz\n\" style=\"fill:#ff0000;\"/>\n   </g>\n   <g id=\"patch_65\">\n    <path clip-path=\"url(#p3b29e8a878)\" d=\"M 61.001562 913.947091 \nL 61.001562 913.947091 \nL 61.001562 911.44778 \nL 61.001562 911.44778 \nz\n\" style=\"fill:#ff0000;\"/>\n   </g>\n   <g id=\"patch_66\">\n    <path clip-path=\"url(#p3b29e8a878)\" d=\"M 61.001562 910.822953 \nL 61.001562 910.822953 \nL 61.001562 908.323642 \nL 61.001562 908.323642 \nz\n\" style=\"fill:#ff0000;\"/>\n   </g>\n   <g id=\"patch_67\">\n    <path clip-path=\"url(#p3b29e8a878)\" d=\"M 61.001562 907.698815 \nL 61.001562 907.698815 \nL 61.001562 905.199504 \nL 61.001562 905.199504 \nz\n\" style=\"fill:#ff0000;\"/>\n   </g>\n   <g id=\"patch_68\">\n    <path clip-path=\"url(#p3b29e8a878)\" d=\"M 61.001562 904.574677 \nL 61.001562 904.574677 \nL 61.001562 902.075366 \nL 61.001562 902.075366 \nz\n\" style=\"fill:#ff0000;\"/>\n   </g>\n   <g id=\"patch_69\">\n    <path clip-path=\"url(#p3b29e8a878)\" d=\"M 61.001562 901.450539 \nL 61.001562 901.450539 \nL 61.001562 898.951228 \nL 61.001562 898.951228 \nz\n\" style=\"fill:#ff0000;\"/>\n   </g>\n   <g id=\"patch_70\">\n    <path clip-path=\"url(#p3b29e8a878)\" d=\"M 61.001562 898.326401 \nL 61.001562 898.326401 \nL 61.001562 895.827091 \nL 61.001562 895.827091 \nz\n\" style=\"fill:#ff0000;\"/>\n   </g>\n   <g id=\"patch_71\">\n    <path clip-path=\"url(#p3b29e8a878)\" d=\"M 61.001562 895.202263 \nL 61.001562 895.202263 \nL 61.001562 892.702953 \nL 61.001562 892.702953 \nz\n\" style=\"fill:#ff0000;\"/>\n   </g>\n   <g id=\"patch_72\">\n    <path clip-path=\"url(#p3b29e8a878)\" d=\"M 61.001562 892.078125 \nL 61.001562 892.078125 \nL 61.001562 889.578815 \nL 61.001562 889.578815 \nz\n\" style=\"fill:#ff0000;\"/>\n   </g>\n   <g id=\"patch_73\">\n    <path clip-path=\"url(#p3b29e8a878)\" d=\"M 61.001562 888.953987 \nL 61.001562 888.953987 \nL 61.001562 886.454677 \nL 61.001562 886.454677 \nz\n\" style=\"fill:#ff0000;\"/>\n   </g>\n   <g id=\"patch_74\">\n    <path clip-path=\"url(#p3b29e8a878)\" d=\"M 61.001562 885.829849 \nL 61.001562 885.829849 \nL 61.001562 883.330539 \nL 61.001562 883.330539 \nz\n\" style=\"fill:#ff0000;\"/>\n   </g>\n   <g id=\"patch_75\">\n    <path clip-path=\"url(#p3b29e8a878)\" d=\"M 61.001562 882.705711 \nL 61.001562 882.705711 \nL 61.001562 880.206401 \nL 61.001562 880.206401 \nz\n\" style=\"fill:#ff0000;\"/>\n   </g>\n   <g id=\"patch_76\">\n    <path clip-path=\"url(#p3b29e8a878)\" d=\"M 61.001562 879.581573 \nL 61.001562 879.581573 \nL 61.001562 877.082263 \nL 61.001562 877.082263 \nz\n\" style=\"fill:#ff0000;\"/>\n   </g>\n   <g id=\"patch_77\">\n    <path clip-path=\"url(#p3b29e8a878)\" d=\"M 61.001562 876.457435 \nL 61.001562 876.457435 \nL 61.001562 873.958125 \nL 61.001562 873.958125 \nz\n\" style=\"fill:#ff0000;\"/>\n   </g>\n   <g id=\"patch_78\">\n    <path clip-path=\"url(#p3b29e8a878)\" d=\"M 61.001562 873.333297 \nL 61.001562 873.333297 \nL 61.001562 870.833987 \nL 61.001562 870.833987 \nz\n\" style=\"fill:#ff0000;\"/>\n   </g>\n   <g id=\"patch_79\">\n    <path clip-path=\"url(#p3b29e8a878)\" d=\"M 61.001562 870.209159 \nL 61.001562 870.209159 \nL 61.001562 867.709849 \nL 61.001562 867.709849 \nz\n\" style=\"fill:#ff0000;\"/>\n   </g>\n   <g id=\"patch_80\">\n    <path clip-path=\"url(#p3b29e8a878)\" d=\"M 61.001562 867.085022 \nL 61.001562 867.085022 \nL 61.001562 864.585711 \nL 61.001562 864.585711 \nz\n\" style=\"fill:#ff0000;\"/>\n   </g>\n   <g id=\"patch_81\">\n    <path clip-path=\"url(#p3b29e8a878)\" d=\"M 61.001562 863.960884 \nL 61.001562 863.960884 \nL 61.001562 861.461573 \nL 61.001562 861.461573 \nz\n\" style=\"fill:#ff0000;\"/>\n   </g>\n   <g id=\"patch_82\">\n    <path clip-path=\"url(#p3b29e8a878)\" d=\"M 61.001562 860.836746 \nL 61.001562 860.836746 \nL 61.001562 858.337435 \nL 61.001562 858.337435 \nz\n\" style=\"fill:#ff0000;\"/>\n   </g>\n   <g id=\"patch_83\">\n    <path clip-path=\"url(#p3b29e8a878)\" d=\"M 61.001562 857.712608 \nL 61.001562 857.712608 \nL 61.001562 855.213297 \nL 61.001562 855.213297 \nz\n\" style=\"fill:#ff0000;\"/>\n   </g>\n   <g id=\"patch_84\">\n    <path clip-path=\"url(#p3b29e8a878)\" d=\"M 61.001562 854.58847 \nL 61.001562 854.58847 \nL 61.001562 852.089159 \nL 61.001562 852.089159 \nz\n\" style=\"fill:#ff0000;\"/>\n   </g>\n   <g id=\"patch_85\">\n    <path clip-path=\"url(#p3b29e8a878)\" d=\"M 61.001562 851.464332 \nL 61.001562 851.464332 \nL 61.001562 848.965022 \nL 61.001562 848.965022 \nz\n\" style=\"fill:#ff0000;\"/>\n   </g>\n   <g id=\"patch_86\">\n    <path clip-path=\"url(#p3b29e8a878)\" d=\"M 61.001562 848.340194 \nL 61.001562 848.340194 \nL 61.001562 845.840884 \nL 61.001562 845.840884 \nz\n\" style=\"fill:#ff0000;\"/>\n   </g>\n   <g id=\"patch_87\">\n    <path clip-path=\"url(#p3b29e8a878)\" d=\"M 61.001562 845.216056 \nL 61.001562 845.216056 \nL 61.001562 842.716746 \nL 61.001562 842.716746 \nz\n\" style=\"fill:#ff0000;\"/>\n   </g>\n   <g id=\"patch_88\">\n    <path clip-path=\"url(#p3b29e8a878)\" d=\"M 61.001562 842.091918 \nL 61.001562 842.091918 \nL 61.001562 839.592608 \nL 61.001562 839.592608 \nz\n\" style=\"fill:#ff0000;\"/>\n   </g>\n   <g id=\"patch_89\">\n    <path clip-path=\"url(#p3b29e8a878)\" d=\"M 61.001562 838.96778 \nL 61.001562 838.96778 \nL 61.001562 836.46847 \nL 61.001562 836.46847 \nz\n\" style=\"fill:#ff0000;\"/>\n   </g>\n   <g id=\"patch_90\">\n    <path clip-path=\"url(#p3b29e8a878)\" d=\"M 61.001562 835.843642 \nL 61.001562 835.843642 \nL 61.001562 833.344332 \nL 61.001562 833.344332 \nz\n\" style=\"fill:#ff0000;\"/>\n   </g>\n   <g id=\"patch_91\">\n    <path clip-path=\"url(#p3b29e8a878)\" d=\"M 61.001562 832.719504 \nL 61.001562 832.719504 \nL 61.001562 830.220194 \nL 61.001562 830.220194 \nz\n\" style=\"fill:#ff0000;\"/>\n   </g>\n   <g id=\"patch_92\">\n    <path clip-path=\"url(#p3b29e8a878)\" d=\"M 61.001562 829.595366 \nL 63.192716 829.595366 \nL 63.192716 827.096056 \nL 61.001562 827.096056 \nz\n\" style=\"fill:#ff0000;\"/>\n   </g>\n   <g id=\"patch_93\">\n    <path clip-path=\"url(#p3b29e8a878)\" d=\"M 61.001562 826.471228 \nL 64.627719 826.471228 \nL 64.627719 823.971918 \nL 61.001562 823.971918 \nz\n\" style=\"fill:#ff0000;\"/>\n   </g>\n   <g id=\"patch_94\">\n    <path clip-path=\"url(#p3b29e8a878)\" d=\"M 61.001562 823.347091 \nL 64.917575 823.347091 \nL 64.917575 820.84778 \nL 61.001562 820.84778 \nz\n\" style=\"fill:#ff0000;\"/>\n   </g>\n   <g id=\"patch_95\">\n    <path clip-path=\"url(#p3b29e8a878)\" d=\"M 61.001562 820.222953 \nL 65.612653 820.222953 \nL 65.612653 817.723642 \nL 61.001562 817.723642 \nz\n\" style=\"fill:#ff0000;\"/>\n   </g>\n   <g id=\"patch_96\">\n    <path clip-path=\"url(#p3b29e8a878)\" d=\"M 61.001562 817.098815 \nL 67.499421 817.098815 \nL 67.499421 814.599504 \nL 61.001562 814.599504 \nz\n\" style=\"fill:#ff0000;\"/>\n   </g>\n   <g id=\"patch_97\">\n    <path clip-path=\"url(#p3b29e8a878)\" d=\"M 61.001562 813.974677 \nL 67.809377 813.974677 \nL 67.809377 811.475366 \nL 61.001562 811.475366 \nz\n\" style=\"fill:#ff0000;\"/>\n   </g>\n   <g id=\"patch_98\">\n    <path clip-path=\"url(#p3b29e8a878)\" d=\"M 61.001562 810.850539 \nL 68.072894 810.850539 \nL 68.072894 808.351228 \nL 61.001562 808.351228 \nz\n\" style=\"fill:#ff0000;\"/>\n   </g>\n   <g id=\"patch_99\">\n    <path clip-path=\"url(#p3b29e8a878)\" d=\"M 61.001562 807.726401 \nL 68.653646 807.726401 \nL 68.653646 805.227091 \nL 61.001562 805.227091 \nz\n\" style=\"fill:#ff0000;\"/>\n   </g>\n   <g id=\"patch_100\">\n    <path clip-path=\"url(#p3b29e8a878)\" d=\"M 61.001562 804.602263 \nL 68.994411 804.602263 \nL 68.994411 802.102953 \nL 61.001562 802.102953 \nz\n\" style=\"fill:#ff0000;\"/>\n   </g>\n   <g id=\"patch_101\">\n    <path clip-path=\"url(#p3b29e8a878)\" d=\"M 61.001562 801.478125 \nL 69.200673 801.478125 \nL 69.200673 798.978815 \nL 61.001562 798.978815 \nz\n\" style=\"fill:#ff0000;\"/>\n   </g>\n   <g id=\"patch_102\">\n    <path clip-path=\"url(#p3b29e8a878)\" d=\"M 61.001562 798.353987 \nL 69.520661 798.353987 \nL 69.520661 795.854677 \nL 61.001562 795.854677 \nz\n\" style=\"fill:#ff0000;\"/>\n   </g>\n   <g id=\"patch_103\">\n    <path clip-path=\"url(#p3b29e8a878)\" d=\"M 61.001562 795.229849 \nL 70.311577 795.229849 \nL 70.311577 792.730539 \nL 61.001562 792.730539 \nz\n\" style=\"fill:#ff0000;\"/>\n   </g>\n   <g id=\"patch_104\">\n    <path clip-path=\"url(#p3b29e8a878)\" d=\"M 61.001562 792.105711 \nL 70.634451 792.105711 \nL 70.634451 789.606401 \nL 61.001562 789.606401 \nz\n\" style=\"fill:#ff0000;\"/>\n   </g>\n   <g id=\"patch_105\">\n    <path clip-path=\"url(#p3b29e8a878)\" d=\"M 61.001562 788.981573 \nL 71.078718 788.981573 \nL 71.078718 786.482263 \nL 61.001562 786.482263 \nz\n\" style=\"fill:#ff0000;\"/>\n   </g>\n   <g id=\"patch_106\">\n    <path clip-path=\"url(#p3b29e8a878)\" d=\"M 61.001562 785.857435 \nL 71.289715 785.857435 \nL 71.289715 783.358125 \nL 61.001562 783.358125 \nz\n\" style=\"fill:#ff0000;\"/>\n   </g>\n   <g id=\"patch_107\">\n    <path clip-path=\"url(#p3b29e8a878)\" d=\"M 61.001562 782.733297 \nL 72.361037 782.733297 \nL 72.361037 780.233987 \nL 61.001562 780.233987 \nz\n\" style=\"fill:#ff0000;\"/>\n   </g>\n   <g id=\"patch_108\">\n    <path clip-path=\"url(#p3b29e8a878)\" d=\"M 61.001562 779.609159 \nL 72.608047 779.609159 \nL 72.608047 777.109849 \nL 61.001562 777.109849 \nz\n\" style=\"fill:#ff0000;\"/>\n   </g>\n   <g id=\"patch_109\">\n    <path clip-path=\"url(#p3b29e8a878)\" d=\"M 61.001562 776.485022 \nL 72.630173 776.485022 \nL 72.630173 773.985711 \nL 61.001562 773.985711 \nz\n\" style=\"fill:#ff0000;\"/>\n   </g>\n   <g id=\"patch_110\">\n    <path clip-path=\"url(#p3b29e8a878)\" d=\"M 61.001562 773.360884 \nL 72.760121 773.360884 \nL 72.760121 770.861573 \nL 61.001562 770.861573 \nz\n\" style=\"fill:#ff0000;\"/>\n   </g>\n   <g id=\"patch_111\">\n    <path clip-path=\"url(#p3b29e8a878)\" d=\"M 61.001562 770.236746 \nL 73.038132 770.236746 \nL 73.038132 767.737435 \nL 61.001562 767.737435 \nz\n\" style=\"fill:#ff0000;\"/>\n   </g>\n   <g id=\"patch_112\">\n    <path clip-path=\"url(#p3b29e8a878)\" d=\"M 61.001562 767.112608 \nL 73.25961 767.112608 \nL 73.25961 764.613297 \nL 61.001562 764.613297 \nz\n\" style=\"fill:#ff0000;\"/>\n   </g>\n   <g id=\"patch_113\">\n    <path clip-path=\"url(#p3b29e8a878)\" d=\"M 61.001562 763.98847 \nL 73.483121 763.98847 \nL 73.483121 761.489159 \nL 61.001562 761.489159 \nz\n\" style=\"fill:#ff0000;\"/>\n   </g>\n   <g id=\"patch_114\">\n    <path clip-path=\"url(#p3b29e8a878)\" d=\"M 61.001562 760.864332 \nL 73.543892 760.864332 \nL 73.543892 758.365022 \nL 61.001562 758.365022 \nz\n\" style=\"fill:#ff0000;\"/>\n   </g>\n   <g id=\"patch_115\">\n    <path clip-path=\"url(#p3b29e8a878)\" d=\"M 61.001562 757.740194 \nL 73.622336 757.740194 \nL 73.622336 755.240884 \nL 61.001562 755.240884 \nz\n\" style=\"fill:#ff0000;\"/>\n   </g>\n   <g id=\"patch_116\">\n    <path clip-path=\"url(#p3b29e8a878)\" d=\"M 61.001562 754.616056 \nL 73.649903 754.616056 \nL 73.649903 752.116746 \nL 61.001562 752.116746 \nz\n\" style=\"fill:#ff0000;\"/>\n   </g>\n   <g id=\"patch_117\">\n    <path clip-path=\"url(#p3b29e8a878)\" d=\"M 61.001562 751.491918 \nL 73.760779 751.491918 \nL 73.760779 748.992608 \nL 61.001562 748.992608 \nz\n\" style=\"fill:#ff0000;\"/>\n   </g>\n   <g id=\"patch_118\">\n    <path clip-path=\"url(#p3b29e8a878)\" d=\"M 61.001562 748.36778 \nL 73.779945 748.36778 \nL 73.779945 745.86847 \nL 61.001562 745.86847 \nz\n\" style=\"fill:#ff0000;\"/>\n   </g>\n   <g id=\"patch_119\">\n    <path clip-path=\"url(#p3b29e8a878)\" d=\"M 61.001562 745.243642 \nL 73.927875 745.243642 \nL 73.927875 742.744332 \nL 61.001562 742.744332 \nz\n\" style=\"fill:#ff0000;\"/>\n   </g>\n   <g id=\"patch_120\">\n    <path clip-path=\"url(#p3b29e8a878)\" d=\"M 61.001562 742.119504 \nL 74.330696 742.119504 \nL 74.330696 739.620194 \nL 61.001562 739.620194 \nz\n\" style=\"fill:#ff0000;\"/>\n   </g>\n   <g id=\"patch_121\">\n    <path clip-path=\"url(#p3b29e8a878)\" d=\"M 61.001562 738.995366 \nL 74.902324 738.995366 \nL 74.902324 736.496056 \nL 61.001562 736.496056 \nz\n\" style=\"fill:#ff0000;\"/>\n   </g>\n   <g id=\"patch_122\">\n    <path clip-path=\"url(#p3b29e8a878)\" d=\"M 61.001562 735.871228 \nL 75.05975 735.871228 \nL 75.05975 733.371918 \nL 61.001562 733.371918 \nz\n\" style=\"fill:#ff0000;\"/>\n   </g>\n   <g id=\"patch_123\">\n    <path clip-path=\"url(#p3b29e8a878)\" d=\"M 61.001562 732.747091 \nL 75.359766 732.747091 \nL 75.359766 730.24778 \nL 61.001562 730.24778 \nz\n\" style=\"fill:#ff0000;\"/>\n   </g>\n   <g id=\"patch_124\">\n    <path clip-path=\"url(#p3b29e8a878)\" d=\"M 61.001562 729.622953 \nL 75.491121 729.622953 \nL 75.491121 727.123642 \nL 61.001562 727.123642 \nz\n\" style=\"fill:#ff0000;\"/>\n   </g>\n   <g id=\"patch_125\">\n    <path clip-path=\"url(#p3b29e8a878)\" d=\"M 61.001562 726.498815 \nL 75.568818 726.498815 \nL 75.568818 723.999504 \nL 61.001562 723.999504 \nz\n\" style=\"fill:#ff0000;\"/>\n   </g>\n   <g id=\"patch_126\">\n    <path clip-path=\"url(#p3b29e8a878)\" d=\"M 61.001562 723.374677 \nL 76.009919 723.374677 \nL 76.009919 720.875366 \nL 61.001562 720.875366 \nz\n\" style=\"fill:#ff0000;\"/>\n   </g>\n   <g id=\"patch_127\">\n    <path clip-path=\"url(#p3b29e8a878)\" d=\"M 61.001562 720.250539 \nL 76.10457 720.250539 \nL 76.10457 717.751228 \nL 61.001562 717.751228 \nz\n\" style=\"fill:#ff0000;\"/>\n   </g>\n   <g id=\"patch_128\">\n    <path clip-path=\"url(#p3b29e8a878)\" d=\"M 61.001562 717.126401 \nL 76.216377 717.126401 \nL 76.216377 714.627091 \nL 61.001562 714.627091 \nz\n\" style=\"fill:#ff0000;\"/>\n   </g>\n   <g id=\"patch_129\">\n    <path clip-path=\"url(#p3b29e8a878)\" d=\"M 61.001562 714.002263 \nL 76.266139 714.002263 \nL 76.266139 711.502953 \nL 61.001562 711.502953 \nz\n\" style=\"fill:#ff0000;\"/>\n   </g>\n   <g id=\"patch_130\">\n    <path clip-path=\"url(#p3b29e8a878)\" d=\"M 61.001562 710.878125 \nL 76.342381 710.878125 \nL 76.342381 708.378815 \nL 61.001562 708.378815 \nz\n\" style=\"fill:#ff0000;\"/>\n   </g>\n   <g id=\"patch_131\">\n    <path clip-path=\"url(#p3b29e8a878)\" d=\"M 61.001562 707.753987 \nL 76.355556 707.753987 \nL 76.355556 705.254677 \nL 61.001562 705.254677 \nz\n\" style=\"fill:#ff0000;\"/>\n   </g>\n   <g id=\"patch_132\">\n    <path clip-path=\"url(#p3b29e8a878)\" d=\"M 61.001562 704.629849 \nL 76.38436 704.629849 \nL 76.38436 702.130539 \nL 61.001562 702.130539 \nz\n\" style=\"fill:#ff0000;\"/>\n   </g>\n   <g id=\"patch_133\">\n    <path clip-path=\"url(#p3b29e8a878)\" d=\"M 61.001562 701.505711 \nL 76.757629 701.505711 \nL 76.757629 699.006401 \nL 61.001562 699.006401 \nz\n\" style=\"fill:#ff0000;\"/>\n   </g>\n   <g id=\"patch_134\">\n    <path clip-path=\"url(#p3b29e8a878)\" d=\"M 61.001562 698.381573 \nL 76.909208 698.381573 \nL 76.909208 695.882263 \nL 61.001562 695.882263 \nz\n\" style=\"fill:#ff0000;\"/>\n   </g>\n   <g id=\"patch_135\">\n    <path clip-path=\"url(#p3b29e8a878)\" d=\"M 61.001562 695.257435 \nL 77.444303 695.257435 \nL 77.444303 692.758125 \nL 61.001562 692.758125 \nz\n\" style=\"fill:#ff0000;\"/>\n   </g>\n   <g id=\"patch_136\">\n    <path clip-path=\"url(#p3b29e8a878)\" d=\"M 61.001562 692.133297 \nL 77.684759 692.133297 \nL 77.684759 689.633987 \nL 61.001562 689.633987 \nz\n\" style=\"fill:#ff0000;\"/>\n   </g>\n   <g id=\"patch_137\">\n    <path clip-path=\"url(#p3b29e8a878)\" d=\"M 61.001562 689.009159 \nL 77.772674 689.009159 \nL 77.772674 686.509849 \nL 61.001562 686.509849 \nz\n\" style=\"fill:#ff0000;\"/>\n   </g>\n   <g id=\"patch_138\">\n    <path clip-path=\"url(#p3b29e8a878)\" d=\"M 61.001562 685.885022 \nL 77.895741 685.885022 \nL 77.895741 683.385711 \nL 61.001562 683.385711 \nz\n\" style=\"fill:#ff0000;\"/>\n   </g>\n   <g id=\"patch_139\">\n    <path clip-path=\"url(#p3b29e8a878)\" d=\"M 61.001562 682.760884 \nL 77.925628 682.760884 \nL 77.925628 680.261573 \nL 61.001562 680.261573 \nz\n\" style=\"fill:#ff0000;\"/>\n   </g>\n   <g id=\"patch_140\">\n    <path clip-path=\"url(#p3b29e8a878)\" d=\"M 61.001562 679.636746 \nL 78.293894 679.636746 \nL 78.293894 677.137435 \nL 61.001562 677.137435 \nz\n\" style=\"fill:#ff0000;\"/>\n   </g>\n   <g id=\"patch_141\">\n    <path clip-path=\"url(#p3b29e8a878)\" d=\"M 61.001562 676.512608 \nL 78.438574 676.512608 \nL 78.438574 674.013297 \nL 61.001562 674.013297 \nz\n\" style=\"fill:#ff0000;\"/>\n   </g>\n   <g id=\"patch_142\">\n    <path clip-path=\"url(#p3b29e8a878)\" d=\"M 61.001562 673.38847 \nL 78.57848 673.38847 \nL 78.57848 670.889159 \nL 61.001562 670.889159 \nz\n\" style=\"fill:#ff0000;\"/>\n   </g>\n   <g id=\"patch_143\">\n    <path clip-path=\"url(#p3b29e8a878)\" d=\"M 61.001562 670.264332 \nL 78.871325 670.264332 \nL 78.871325 667.765022 \nL 61.001562 667.765022 \nz\n\" style=\"fill:#ff0000;\"/>\n   </g>\n   <g id=\"patch_144\">\n    <path clip-path=\"url(#p3b29e8a878)\" d=\"M 61.001562 667.140194 \nL 79.14909 667.140194 \nL 79.14909 664.640884 \nL 61.001562 664.640884 \nz\n\" style=\"fill:#ff0000;\"/>\n   </g>\n   <g id=\"patch_145\">\n    <path clip-path=\"url(#p3b29e8a878)\" d=\"M 61.001562 664.016056 \nL 79.16435 664.016056 \nL 79.16435 661.516746 \nL 61.001562 661.516746 \nz\n\" style=\"fill:#ff0000;\"/>\n   </g>\n   <g id=\"patch_146\">\n    <path clip-path=\"url(#p3b29e8a878)\" d=\"M 61.001562 660.891918 \nL 79.341335 660.891918 \nL 79.341335 658.392608 \nL 61.001562 658.392608 \nz\n\" style=\"fill:#ff0000;\"/>\n   </g>\n   <g id=\"patch_147\">\n    <path clip-path=\"url(#p3b29e8a878)\" d=\"M 61.001562 657.76778 \nL 79.450597 657.76778 \nL 79.450597 655.26847 \nL 61.001562 655.26847 \nz\n\" style=\"fill:#ff0000;\"/>\n   </g>\n   <g id=\"patch_148\">\n    <path clip-path=\"url(#p3b29e8a878)\" d=\"M 61.001562 654.643642 \nL 79.582556 654.643642 \nL 79.582556 652.144332 \nL 61.001562 652.144332 \nz\n\" style=\"fill:#ff0000;\"/>\n   </g>\n   <g id=\"patch_149\">\n    <path clip-path=\"url(#p3b29e8a878)\" d=\"M 61.001562 651.519504 \nL 79.672429 651.519504 \nL 79.672429 649.020194 \nL 61.001562 649.020194 \nz\n\" style=\"fill:#ff0000;\"/>\n   </g>\n   <g id=\"patch_150\">\n    <path clip-path=\"url(#p3b29e8a878)\" d=\"M 61.001562 648.395366 \nL 79.986743 648.395366 \nL 79.986743 645.896056 \nL 61.001562 645.896056 \nz\n\" style=\"fill:#ff0000;\"/>\n   </g>\n   <g id=\"patch_151\">\n    <path clip-path=\"url(#p3b29e8a878)\" d=\"M 61.001562 645.271228 \nL 80.034567 645.271228 \nL 80.034567 642.771918 \nL 61.001562 642.771918 \nz\n\" style=\"fill:#ff0000;\"/>\n   </g>\n   <g id=\"patch_152\">\n    <path clip-path=\"url(#p3b29e8a878)\" d=\"M 61.001562 642.147091 \nL 80.188669 642.147091 \nL 80.188669 639.64778 \nL 61.001562 639.64778 \nz\n\" style=\"fill:#ff0000;\"/>\n   </g>\n   <g id=\"patch_153\">\n    <path clip-path=\"url(#p3b29e8a878)\" d=\"M 61.001562 639.022953 \nL 80.367684 639.022953 \nL 80.367684 636.523642 \nL 61.001562 636.523642 \nz\n\" style=\"fill:#ff0000;\"/>\n   </g>\n   <g id=\"patch_154\">\n    <path clip-path=\"url(#p3b29e8a878)\" d=\"M 61.001562 635.898815 \nL 80.488831 635.898815 \nL 80.488831 633.399504 \nL 61.001562 633.399504 \nz\n\" style=\"fill:#ff0000;\"/>\n   </g>\n   <g id=\"patch_155\">\n    <path clip-path=\"url(#p3b29e8a878)\" d=\"M 61.001562 632.774677 \nL 80.576995 632.774677 \nL 80.576995 630.275366 \nL 61.001562 630.275366 \nz\n\" style=\"fill:#ff0000;\"/>\n   </g>\n   <g id=\"patch_156\">\n    <path clip-path=\"url(#p3b29e8a878)\" d=\"M 61.001562 629.650539 \nL 80.671381 629.650539 \nL 80.671381 627.151228 \nL 61.001562 627.151228 \nz\n\" style=\"fill:#ff0000;\"/>\n   </g>\n   <g id=\"patch_157\">\n    <path clip-path=\"url(#p3b29e8a878)\" d=\"M 61.001562 626.526401 \nL 80.703546 626.526401 \nL 80.703546 624.027091 \nL 61.001562 624.027091 \nz\n\" style=\"fill:#ff0000;\"/>\n   </g>\n   <g id=\"patch_158\">\n    <path clip-path=\"url(#p3b29e8a878)\" d=\"M 61.001562 623.402263 \nL 80.922635 623.402263 \nL 80.922635 620.902953 \nL 61.001562 620.902953 \nz\n\" style=\"fill:#ff0000;\"/>\n   </g>\n   <g id=\"patch_159\">\n    <path clip-path=\"url(#p3b29e8a878)\" d=\"M 61.001562 620.278125 \nL 81.091783 620.278125 \nL 81.091783 617.778815 \nL 61.001562 617.778815 \nz\n\" style=\"fill:#ff0000;\"/>\n   </g>\n   <g id=\"patch_160\">\n    <path clip-path=\"url(#p3b29e8a878)\" d=\"M 61.001562 617.153987 \nL 81.478601 617.153987 \nL 81.478601 614.654677 \nL 61.001562 614.654677 \nz\n\" style=\"fill:#ff0000;\"/>\n   </g>\n   <g id=\"patch_161\">\n    <path clip-path=\"url(#p3b29e8a878)\" d=\"M 61.001562 614.029849 \nL 81.890672 614.029849 \nL 81.890672 611.530539 \nL 61.001562 611.530539 \nz\n\" style=\"fill:#ff0000;\"/>\n   </g>\n   <g id=\"patch_162\">\n    <path clip-path=\"url(#p3b29e8a878)\" d=\"M 61.001562 610.905711 \nL 81.993897 610.905711 \nL 81.993897 608.406401 \nL 61.001562 608.406401 \nz\n\" style=\"fill:#ff0000;\"/>\n   </g>\n   <g id=\"patch_163\">\n    <path clip-path=\"url(#p3b29e8a878)\" d=\"M 61.001562 607.781573 \nL 82.008495 607.781573 \nL 82.008495 605.282263 \nL 61.001562 605.282263 \nz\n\" style=\"fill:#ff0000;\"/>\n   </g>\n   <g id=\"patch_164\">\n    <path clip-path=\"url(#p3b29e8a878)\" d=\"M 61.001562 604.657435 \nL 82.103977 604.657435 \nL 82.103977 602.158125 \nL 61.001562 602.158125 \nz\n\" style=\"fill:#ff0000;\"/>\n   </g>\n   <g id=\"patch_165\">\n    <path clip-path=\"url(#p3b29e8a878)\" d=\"M 61.001562 601.533297 \nL 82.125214 601.533297 \nL 82.125214 599.033987 \nL 61.001562 599.033987 \nz\n\" style=\"fill:#ff0000;\"/>\n   </g>\n   <g id=\"patch_166\">\n    <path clip-path=\"url(#p3b29e8a878)\" d=\"M 61.001562 598.409159 \nL 82.149235 598.409159 \nL 82.149235 595.909849 \nL 61.001562 595.909849 \nz\n\" style=\"fill:#ff0000;\"/>\n   </g>\n   <g id=\"patch_167\">\n    <path clip-path=\"url(#p3b29e8a878)\" d=\"M 61.001562 595.285022 \nL 82.149498 595.285022 \nL 82.149498 592.785711 \nL 61.001562 592.785711 \nz\n\" style=\"fill:#ff0000;\"/>\n   </g>\n   <g id=\"patch_168\">\n    <path clip-path=\"url(#p3b29e8a878)\" d=\"M 61.001562 592.160884 \nL 82.460504 592.160884 \nL 82.460504 589.661573 \nL 61.001562 589.661573 \nz\n\" style=\"fill:#ff0000;\"/>\n   </g>\n   <g id=\"patch_169\">\n    <path clip-path=\"url(#p3b29e8a878)\" d=\"M 61.001562 589.036746 \nL 82.751104 589.036746 \nL 82.751104 586.537435 \nL 61.001562 586.537435 \nz\n\" style=\"fill:#ff0000;\"/>\n   </g>\n   <g id=\"patch_170\">\n    <path clip-path=\"url(#p3b29e8a878)\" d=\"M 61.001562 585.912608 \nL 82.844638 585.912608 \nL 82.844638 583.413297 \nL 61.001562 583.413297 \nz\n\" style=\"fill:#ff0000;\"/>\n   </g>\n   <g id=\"patch_171\">\n    <path clip-path=\"url(#p3b29e8a878)\" d=\"M 61.001562 582.78847 \nL 83.444954 582.78847 \nL 83.444954 580.289159 \nL 61.001562 580.289159 \nz\n\" style=\"fill:#ff0000;\"/>\n   </g>\n   <g id=\"patch_172\">\n    <path clip-path=\"url(#p3b29e8a878)\" d=\"M 61.001562 579.664332 \nL 83.677419 579.664332 \nL 83.677419 577.165022 \nL 61.001562 577.165022 \nz\n\" style=\"fill:#ff0000;\"/>\n   </g>\n   <g id=\"patch_173\">\n    <path clip-path=\"url(#p3b29e8a878)\" d=\"M 61.001562 576.540194 \nL 83.68951 576.540194 \nL 83.68951 574.040884 \nL 61.001562 574.040884 \nz\n\" style=\"fill:#ff0000;\"/>\n   </g>\n   <g id=\"patch_174\">\n    <path clip-path=\"url(#p3b29e8a878)\" d=\"M 61.001562 573.416056 \nL 84.396107 573.416056 \nL 84.396107 570.916746 \nL 61.001562 570.916746 \nz\n\" style=\"fill:#ff0000;\"/>\n   </g>\n   <g id=\"patch_175\">\n    <path clip-path=\"url(#p3b29e8a878)\" d=\"M 61.001562 570.291918 \nL 84.465501 570.291918 \nL 84.465501 567.792608 \nL 61.001562 567.792608 \nz\n\" style=\"fill:#ff0000;\"/>\n   </g>\n   <g id=\"patch_176\">\n    <path clip-path=\"url(#p3b29e8a878)\" d=\"M 61.001562 567.16778 \nL 84.936285 567.16778 \nL 84.936285 564.66847 \nL 61.001562 564.66847 \nz\n\" style=\"fill:#ff0000;\"/>\n   </g>\n   <g id=\"patch_177\">\n    <path clip-path=\"url(#p3b29e8a878)\" d=\"M 61.001562 564.043642 \nL 85.074843 564.043642 \nL 85.074843 561.544332 \nL 61.001562 561.544332 \nz\n\" style=\"fill:#ff0000;\"/>\n   </g>\n   <g id=\"patch_178\">\n    <path clip-path=\"url(#p3b29e8a878)\" d=\"M 61.001562 560.919504 \nL 85.171711 560.919504 \nL 85.171711 558.420194 \nL 61.001562 558.420194 \nz\n\" style=\"fill:#ff0000;\"/>\n   </g>\n   <g id=\"patch_179\">\n    <path clip-path=\"url(#p3b29e8a878)\" d=\"M 61.001562 557.795366 \nL 85.196146 557.795366 \nL 85.196146 555.296056 \nL 61.001562 555.296056 \nz\n\" style=\"fill:#ff0000;\"/>\n   </g>\n   <g id=\"patch_180\">\n    <path clip-path=\"url(#p3b29e8a878)\" d=\"M 61.001562 554.671228 \nL 85.333575 554.671228 \nL 85.333575 552.171918 \nL 61.001562 552.171918 \nz\n\" style=\"fill:#ff0000;\"/>\n   </g>\n   <g id=\"patch_181\">\n    <path clip-path=\"url(#p3b29e8a878)\" d=\"M 61.001562 551.547091 \nL 86.09224 551.547091 \nL 86.09224 549.04778 \nL 61.001562 549.04778 \nz\n\" style=\"fill:#ff0000;\"/>\n   </g>\n   <g id=\"patch_182\">\n    <path clip-path=\"url(#p3b29e8a878)\" d=\"M 61.001562 548.422953 \nL 86.153937 548.422953 \nL 86.153937 545.923642 \nL 61.001562 545.923642 \nz\n\" style=\"fill:#ff0000;\"/>\n   </g>\n   <g id=\"patch_183\">\n    <path clip-path=\"url(#p3b29e8a878)\" d=\"M 61.001562 545.298815 \nL 86.754683 545.298815 \nL 86.754683 542.799504 \nL 61.001562 542.799504 \nz\n\" style=\"fill:#ff0000;\"/>\n   </g>\n   <g id=\"patch_184\">\n    <path clip-path=\"url(#p3b29e8a878)\" d=\"M 61.001562 542.174677 \nL 87.403536 542.174677 \nL 87.403536 539.675366 \nL 61.001562 539.675366 \nz\n\" style=\"fill:#ff0000;\"/>\n   </g>\n   <g id=\"patch_185\">\n    <path clip-path=\"url(#p3b29e8a878)\" d=\"M 61.001562 539.050539 \nL 87.568403 539.050539 \nL 87.568403 536.551228 \nL 61.001562 536.551228 \nz\n\" style=\"fill:#ff0000;\"/>\n   </g>\n   <g id=\"patch_186\">\n    <path clip-path=\"url(#p3b29e8a878)\" d=\"M 61.001562 535.926401 \nL 88.109975 535.926401 \nL 88.109975 533.427091 \nL 61.001562 533.427091 \nz\n\" style=\"fill:#ff0000;\"/>\n   </g>\n   <g id=\"patch_187\">\n    <path clip-path=\"url(#p3b29e8a878)\" d=\"M 61.001562 532.802263 \nL 88.247443 532.802263 \nL 88.247443 530.302953 \nL 61.001562 530.302953 \nz\n\" style=\"fill:#ff0000;\"/>\n   </g>\n   <g id=\"patch_188\">\n    <path clip-path=\"url(#p3b29e8a878)\" d=\"M 61.001562 529.678125 \nL 88.736482 529.678125 \nL 88.736482 527.178815 \nL 61.001562 527.178815 \nz\n\" style=\"fill:#ff0000;\"/>\n   </g>\n   <g id=\"patch_189\">\n    <path clip-path=\"url(#p3b29e8a878)\" d=\"M 61.001562 526.553987 \nL 88.881776 526.553987 \nL 88.881776 524.054677 \nL 61.001562 524.054677 \nz\n\" style=\"fill:#ff0000;\"/>\n   </g>\n   <g id=\"patch_190\">\n    <path clip-path=\"url(#p3b29e8a878)\" d=\"M 61.001562 523.429849 \nL 89.321772 523.429849 \nL 89.321772 520.930539 \nL 61.001562 520.930539 \nz\n\" style=\"fill:#ff0000;\"/>\n   </g>\n   <g id=\"patch_191\">\n    <path clip-path=\"url(#p3b29e8a878)\" d=\"M 61.001562 520.305711 \nL 89.411515 520.305711 \nL 89.411515 517.806401 \nL 61.001562 517.806401 \nz\n\" style=\"fill:#ff0000;\"/>\n   </g>\n   <g id=\"patch_192\">\n    <path clip-path=\"url(#p3b29e8a878)\" d=\"M 61.001562 517.181573 \nL 89.968167 517.181573 \nL 89.968167 514.682263 \nL 61.001562 514.682263 \nz\n\" style=\"fill:#ff0000;\"/>\n   </g>\n   <g id=\"patch_193\">\n    <path clip-path=\"url(#p3b29e8a878)\" d=\"M 61.001562 514.057435 \nL 90.208366 514.057435 \nL 90.208366 511.558125 \nL 61.001562 511.558125 \nz\n\" style=\"fill:#ff0000;\"/>\n   </g>\n   <g id=\"patch_194\">\n    <path clip-path=\"url(#p3b29e8a878)\" d=\"M 61.001562 510.933297 \nL 90.260263 510.933297 \nL 90.260263 508.433987 \nL 61.001562 508.433987 \nz\n\" style=\"fill:#ff0000;\"/>\n   </g>\n   <g id=\"patch_195\">\n    <path clip-path=\"url(#p3b29e8a878)\" d=\"M 61.001562 507.809159 \nL 90.305291 507.809159 \nL 90.305291 505.309849 \nL 61.001562 505.309849 \nz\n\" style=\"fill:#ff0000;\"/>\n   </g>\n   <g id=\"patch_196\">\n    <path clip-path=\"url(#p3b29e8a878)\" d=\"M 61.001562 504.685022 \nL 90.412721 504.685022 \nL 90.412721 502.185711 \nL 61.001562 502.185711 \nz\n\" style=\"fill:#ff0000;\"/>\n   </g>\n   <g id=\"patch_197\">\n    <path clip-path=\"url(#p3b29e8a878)\" d=\"M 61.001562 501.560884 \nL 90.815362 501.560884 \nL 90.815362 499.061573 \nL 61.001562 499.061573 \nz\n\" style=\"fill:#ff0000;\"/>\n   </g>\n   <g id=\"patch_198\">\n    <path clip-path=\"url(#p3b29e8a878)\" d=\"M 61.001562 498.436746 \nL 90.950013 498.436746 \nL 90.950013 495.937435 \nL 61.001562 495.937435 \nz\n\" style=\"fill:#ff0000;\"/>\n   </g>\n   <g id=\"patch_199\">\n    <path clip-path=\"url(#p3b29e8a878)\" d=\"M 61.001562 495.312608 \nL 91.025772 495.312608 \nL 91.025772 492.813297 \nL 61.001562 492.813297 \nz\n\" style=\"fill:#ff0000;\"/>\n   </g>\n   <g id=\"patch_200\">\n    <path clip-path=\"url(#p3b29e8a878)\" d=\"M 61.001562 492.18847 \nL 91.292939 492.18847 \nL 91.292939 489.689159 \nL 61.001562 489.689159 \nz\n\" style=\"fill:#ff0000;\"/>\n   </g>\n   <g id=\"patch_201\">\n    <path clip-path=\"url(#p3b29e8a878)\" d=\"M 61.001562 489.064332 \nL 91.87276 489.064332 \nL 91.87276 486.565022 \nL 61.001562 486.565022 \nz\n\" style=\"fill:#ff0000;\"/>\n   </g>\n   <g id=\"patch_202\">\n    <path clip-path=\"url(#p3b29e8a878)\" d=\"M 61.001562 485.940194 \nL 92.299559 485.940194 \nL 92.299559 483.440884 \nL 61.001562 483.440884 \nz\n\" style=\"fill:#ff0000;\"/>\n   </g>\n   <g id=\"patch_203\">\n    <path clip-path=\"url(#p3b29e8a878)\" d=\"M 61.001562 482.816056 \nL 92.568027 482.816056 \nL 92.568027 480.316746 \nL 61.001562 480.316746 \nz\n\" style=\"fill:#ff0000;\"/>\n   </g>\n   <g id=\"patch_204\">\n    <path clip-path=\"url(#p3b29e8a878)\" d=\"M 61.001562 479.691918 \nL 92.617548 479.691918 \nL 92.617548 477.192608 \nL 61.001562 477.192608 \nz\n\" style=\"fill:#ff0000;\"/>\n   </g>\n   <g id=\"patch_205\">\n    <path clip-path=\"url(#p3b29e8a878)\" d=\"M 61.001562 476.56778 \nL 92.714064 476.56778 \nL 92.714064 474.06847 \nL 61.001562 474.06847 \nz\n\" style=\"fill:#ff0000;\"/>\n   </g>\n   <g id=\"patch_206\">\n    <path clip-path=\"url(#p3b29e8a878)\" d=\"M 61.001562 473.443642 \nL 92.814414 473.443642 \nL 92.814414 470.944332 \nL 61.001562 470.944332 \nz\n\" style=\"fill:#ff0000;\"/>\n   </g>\n   <g id=\"patch_207\">\n    <path clip-path=\"url(#p3b29e8a878)\" d=\"M 61.001562 470.319504 \nL 92.815752 470.319504 \nL 92.815752 467.820194 \nL 61.001562 467.820194 \nz\n\" style=\"fill:#ff0000;\"/>\n   </g>\n   <g id=\"patch_208\">\n    <path clip-path=\"url(#p3b29e8a878)\" d=\"M 61.001562 467.195366 \nL 93.140512 467.195366 \nL 93.140512 464.696056 \nL 61.001562 464.696056 \nz\n\" style=\"fill:#ff0000;\"/>\n   </g>\n   <g id=\"patch_209\">\n    <path clip-path=\"url(#p3b29e8a878)\" d=\"M 61.001562 464.071228 \nL 93.414709 464.071228 \nL 93.414709 461.571918 \nL 61.001562 461.571918 \nz\n\" style=\"fill:#ff0000;\"/>\n   </g>\n   <g id=\"patch_210\">\n    <path clip-path=\"url(#p3b29e8a878)\" d=\"M 61.001562 460.947091 \nL 93.452247 460.947091 \nL 93.452247 458.44778 \nL 61.001562 458.44778 \nz\n\" style=\"fill:#ff0000;\"/>\n   </g>\n   <g id=\"patch_211\">\n    <path clip-path=\"url(#p3b29e8a878)\" d=\"M 61.001562 457.822953 \nL 94.590181 457.822953 \nL 94.590181 455.323642 \nL 61.001562 455.323642 \nz\n\" style=\"fill:#ff0000;\"/>\n   </g>\n   <g id=\"patch_212\">\n    <path clip-path=\"url(#p3b29e8a878)\" d=\"M 61.001562 454.698815 \nL 95.326673 454.698815 \nL 95.326673 452.199504 \nL 61.001562 452.199504 \nz\n\" style=\"fill:#ff0000;\"/>\n   </g>\n   <g id=\"patch_213\">\n    <path clip-path=\"url(#p3b29e8a878)\" d=\"M 61.001562 451.574677 \nL 96.031416 451.574677 \nL 96.031416 449.075366 \nL 61.001562 449.075366 \nz\n\" style=\"fill:#ff0000;\"/>\n   </g>\n   <g id=\"patch_214\">\n    <path clip-path=\"url(#p3b29e8a878)\" d=\"M 61.001562 448.450539 \nL 96.1965 448.450539 \nL 96.1965 445.951228 \nL 61.001562 445.951228 \nz\n\" style=\"fill:#ff0000;\"/>\n   </g>\n   <g id=\"patch_215\">\n    <path clip-path=\"url(#p3b29e8a878)\" d=\"M 61.001562 445.326401 \nL 96.33483 445.326401 \nL 96.33483 442.827091 \nL 61.001562 442.827091 \nz\n\" style=\"fill:#ff0000;\"/>\n   </g>\n   <g id=\"patch_216\">\n    <path clip-path=\"url(#p3b29e8a878)\" d=\"M 61.001562 442.202263 \nL 96.409046 442.202263 \nL 96.409046 439.702953 \nL 61.001562 439.702953 \nz\n\" style=\"fill:#ff0000;\"/>\n   </g>\n   <g id=\"patch_217\">\n    <path clip-path=\"url(#p3b29e8a878)\" d=\"M 61.001562 439.078125 \nL 96.977089 439.078125 \nL 96.977089 436.578815 \nL 61.001562 436.578815 \nz\n\" style=\"fill:#ff0000;\"/>\n   </g>\n   <g id=\"patch_218\">\n    <path clip-path=\"url(#p3b29e8a878)\" d=\"M 61.001562 435.953987 \nL 97.00123 435.953987 \nL 97.00123 433.454677 \nL 61.001562 433.454677 \nz\n\" style=\"fill:#ff0000;\"/>\n   </g>\n   <g id=\"patch_219\">\n    <path clip-path=\"url(#p3b29e8a878)\" d=\"M 61.001562 432.829849 \nL 97.07778 432.829849 \nL 97.07778 430.330539 \nL 61.001562 430.330539 \nz\n\" style=\"fill:#ff0000;\"/>\n   </g>\n   <g id=\"patch_220\">\n    <path clip-path=\"url(#p3b29e8a878)\" d=\"M 61.001562 429.705711 \nL 97.546445 429.705711 \nL 97.546445 427.206401 \nL 61.001562 427.206401 \nz\n\" style=\"fill:#ff0000;\"/>\n   </g>\n   <g id=\"patch_221\">\n    <path clip-path=\"url(#p3b29e8a878)\" d=\"M 61.001562 426.581573 \nL 97.850606 426.581573 \nL 97.850606 424.082263 \nL 61.001562 424.082263 \nz\n\" style=\"fill:#ff0000;\"/>\n   </g>\n   <g id=\"patch_222\">\n    <path clip-path=\"url(#p3b29e8a878)\" d=\"M 61.001562 423.457435 \nL 98.457534 423.457435 \nL 98.457534 420.958125 \nL 61.001562 420.958125 \nz\n\" style=\"fill:#ff0000;\"/>\n   </g>\n   <g id=\"patch_223\">\n    <path clip-path=\"url(#p3b29e8a878)\" d=\"M 61.001562 420.333297 \nL 99.468674 420.333297 \nL 99.468674 417.833987 \nL 61.001562 417.833987 \nz\n\" style=\"fill:#ff0000;\"/>\n   </g>\n   <g id=\"patch_224\">\n    <path clip-path=\"url(#p3b29e8a878)\" d=\"M 61.001562 417.209159 \nL 99.631565 417.209159 \nL 99.631565 414.709849 \nL 61.001562 414.709849 \nz\n\" style=\"fill:#ff0000;\"/>\n   </g>\n   <g id=\"patch_225\">\n    <path clip-path=\"url(#p3b29e8a878)\" d=\"M 61.001562 414.085022 \nL 99.768842 414.085022 \nL 99.768842 411.585711 \nL 61.001562 411.585711 \nz\n\" style=\"fill:#ff0000;\"/>\n   </g>\n   <g id=\"patch_226\">\n    <path clip-path=\"url(#p3b29e8a878)\" d=\"M 61.001562 410.960884 \nL 100.042916 410.960884 \nL 100.042916 408.461573 \nL 61.001562 408.461573 \nz\n\" style=\"fill:#ff0000;\"/>\n   </g>\n   <g id=\"patch_227\">\n    <path clip-path=\"url(#p3b29e8a878)\" d=\"M 61.001562 407.836746 \nL 100.458175 407.836746 \nL 100.458175 405.337435 \nL 61.001562 405.337435 \nz\n\" style=\"fill:#ff0000;\"/>\n   </g>\n   <g id=\"patch_228\">\n    <path clip-path=\"url(#p3b29e8a878)\" d=\"M 61.001562 404.712608 \nL 100.632397 404.712608 \nL 100.632397 402.213297 \nL 61.001562 402.213297 \nz\n\" style=\"fill:#ff0000;\"/>\n   </g>\n   <g id=\"patch_229\">\n    <path clip-path=\"url(#p3b29e8a878)\" d=\"M 61.001562 401.58847 \nL 100.865751 401.58847 \nL 100.865751 399.089159 \nL 61.001562 399.089159 \nz\n\" style=\"fill:#ff0000;\"/>\n   </g>\n   <g id=\"patch_230\">\n    <path clip-path=\"url(#p3b29e8a878)\" d=\"M 61.001562 398.464332 \nL 100.895897 398.464332 \nL 100.895897 395.965022 \nL 61.001562 395.965022 \nz\n\" style=\"fill:#ff0000;\"/>\n   </g>\n   <g id=\"patch_231\">\n    <path clip-path=\"url(#p3b29e8a878)\" d=\"M 61.001562 395.340194 \nL 100.962637 395.340194 \nL 100.962637 392.840884 \nL 61.001562 392.840884 \nz\n\" style=\"fill:#ff0000;\"/>\n   </g>\n   <g id=\"patch_232\">\n    <path clip-path=\"url(#p3b29e8a878)\" d=\"M 61.001562 392.216056 \nL 101.520552 392.216056 \nL 101.520552 389.716746 \nL 61.001562 389.716746 \nz\n\" style=\"fill:#ff0000;\"/>\n   </g>\n   <g id=\"patch_233\">\n    <path clip-path=\"url(#p3b29e8a878)\" d=\"M 61.001562 389.091918 \nL 101.542913 389.091918 \nL 101.542913 386.592608 \nL 61.001562 386.592608 \nz\n\" style=\"fill:#ff0000;\"/>\n   </g>\n   <g id=\"patch_234\">\n    <path clip-path=\"url(#p3b29e8a878)\" d=\"M 61.001562 385.96778 \nL 101.792241 385.96778 \nL 101.792241 383.46847 \nL 61.001562 383.46847 \nz\n\" style=\"fill:#ff0000;\"/>\n   </g>\n   <g id=\"patch_235\">\n    <path clip-path=\"url(#p3b29e8a878)\" d=\"M 61.001562 382.843642 \nL 101.858174 382.843642 \nL 101.858174 380.344332 \nL 61.001562 380.344332 \nz\n\" style=\"fill:#ff0000;\"/>\n   </g>\n   <g id=\"patch_236\">\n    <path clip-path=\"url(#p3b29e8a878)\" d=\"M 61.001562 379.719504 \nL 102.431552 379.719504 \nL 102.431552 377.220194 \nL 61.001562 377.220194 \nz\n\" style=\"fill:#ff0000;\"/>\n   </g>\n   <g id=\"patch_237\">\n    <path clip-path=\"url(#p3b29e8a878)\" d=\"M 61.001562 376.595366 \nL 103.219054 376.595366 \nL 103.219054 374.096056 \nL 61.001562 374.096056 \nz\n\" style=\"fill:#ff0000;\"/>\n   </g>\n   <g id=\"patch_238\">\n    <path clip-path=\"url(#p3b29e8a878)\" d=\"M 61.001562 373.471228 \nL 103.245026 373.471228 \nL 103.245026 370.971918 \nL 61.001562 370.971918 \nz\n\" style=\"fill:#ff0000;\"/>\n   </g>\n   <g id=\"patch_239\">\n    <path clip-path=\"url(#p3b29e8a878)\" d=\"M 61.001562 370.347091 \nL 103.475173 370.347091 \nL 103.475173 367.84778 \nL 61.001562 367.84778 \nz\n\" style=\"fill:#ff0000;\"/>\n   </g>\n   <g id=\"patch_240\">\n    <path clip-path=\"url(#p3b29e8a878)\" d=\"M 61.001562 367.222953 \nL 103.71757 367.222953 \nL 103.71757 364.723642 \nL 61.001562 364.723642 \nz\n\" style=\"fill:#ff0000;\"/>\n   </g>\n   <g id=\"patch_241\">\n    <path clip-path=\"url(#p3b29e8a878)\" d=\"M 61.001562 364.098815 \nL 104.868879 364.098815 \nL 104.868879 361.599504 \nL 61.001562 361.599504 \nz\n\" style=\"fill:#ff0000;\"/>\n   </g>\n   <g id=\"patch_242\">\n    <path clip-path=\"url(#p3b29e8a878)\" d=\"M 61.001562 360.974677 \nL 104.925762 360.974677 \nL 104.925762 358.475366 \nL 61.001562 358.475366 \nz\n\" style=\"fill:#ff0000;\"/>\n   </g>\n   <g id=\"patch_243\">\n    <path clip-path=\"url(#p3b29e8a878)\" d=\"M 61.001562 357.850539 \nL 105.365317 357.850539 \nL 105.365317 355.351228 \nL 61.001562 355.351228 \nz\n\" style=\"fill:#ff0000;\"/>\n   </g>\n   <g id=\"patch_244\">\n    <path clip-path=\"url(#p3b29e8a878)\" d=\"M 61.001562 354.726401 \nL 105.443576 354.726401 \nL 105.443576 352.227091 \nL 61.001562 352.227091 \nz\n\" style=\"fill:#ff0000;\"/>\n   </g>\n   <g id=\"patch_245\">\n    <path clip-path=\"url(#p3b29e8a878)\" d=\"M 61.001562 351.602263 \nL 105.932608 351.602263 \nL 105.932608 349.102953 \nL 61.001562 349.102953 \nz\n\" style=\"fill:#ff0000;\"/>\n   </g>\n   <g id=\"patch_246\">\n    <path clip-path=\"url(#p3b29e8a878)\" d=\"M 61.001562 348.478125 \nL 106.126234 348.478125 \nL 106.126234 345.978815 \nL 61.001562 345.978815 \nz\n\" style=\"fill:#ff0000;\"/>\n   </g>\n   <g id=\"patch_247\">\n    <path clip-path=\"url(#p3b29e8a878)\" d=\"M 61.001562 345.353987 \nL 107.659372 345.353987 \nL 107.659372 342.854677 \nL 61.001562 342.854677 \nz\n\" style=\"fill:#ff0000;\"/>\n   </g>\n   <g id=\"patch_248\">\n    <path clip-path=\"url(#p3b29e8a878)\" d=\"M 61.001562 342.229849 \nL 108.014574 342.229849 \nL 108.014574 339.730539 \nL 61.001562 339.730539 \nz\n\" style=\"fill:#ff0000;\"/>\n   </g>\n   <g id=\"patch_249\">\n    <path clip-path=\"url(#p3b29e8a878)\" d=\"M 61.001562 339.105711 \nL 108.066541 339.105711 \nL 108.066541 336.606401 \nL 61.001562 336.606401 \nz\n\" style=\"fill:#ff0000;\"/>\n   </g>\n   <g id=\"patch_250\">\n    <path clip-path=\"url(#p3b29e8a878)\" d=\"M 61.001562 335.981573 \nL 108.290698 335.981573 \nL 108.290698 333.482263 \nL 61.001562 333.482263 \nz\n\" style=\"fill:#ff0000;\"/>\n   </g>\n   <g id=\"patch_251\">\n    <path clip-path=\"url(#p3b29e8a878)\" d=\"M 61.001562 332.857435 \nL 108.800185 332.857435 \nL 108.800185 330.358125 \nL 61.001562 330.358125 \nz\n\" style=\"fill:#ff0000;\"/>\n   </g>\n   <g id=\"patch_252\">\n    <path clip-path=\"url(#p3b29e8a878)\" d=\"M 61.001562 329.733297 \nL 110.218752 329.733297 \nL 110.218752 327.233987 \nL 61.001562 327.233987 \nz\n\" style=\"fill:#ff0000;\"/>\n   </g>\n   <g id=\"patch_253\">\n    <path clip-path=\"url(#p3b29e8a878)\" d=\"M 61.001562 326.609159 \nL 110.575208 326.609159 \nL 110.575208 324.109849 \nL 61.001562 324.109849 \nz\n\" style=\"fill:#ff0000;\"/>\n   </g>\n   <g id=\"patch_254\">\n    <path clip-path=\"url(#p3b29e8a878)\" d=\"M 61.001562 323.485022 \nL 111.407704 323.485022 \nL 111.407704 320.985711 \nL 61.001562 320.985711 \nz\n\" style=\"fill:#ff0000;\"/>\n   </g>\n   <g id=\"patch_255\">\n    <path clip-path=\"url(#p3b29e8a878)\" d=\"M 61.001562 320.360884 \nL 111.874645 320.360884 \nL 111.874645 317.861573 \nL 61.001562 317.861573 \nz\n\" style=\"fill:#ff0000;\"/>\n   </g>\n   <g id=\"patch_256\">\n    <path clip-path=\"url(#p3b29e8a878)\" d=\"M 61.001562 317.236746 \nL 112.537637 317.236746 \nL 112.537637 314.737435 \nL 61.001562 314.737435 \nz\n\" style=\"fill:#ff0000;\"/>\n   </g>\n   <g id=\"patch_257\">\n    <path clip-path=\"url(#p3b29e8a878)\" d=\"M 61.001562 314.112608 \nL 113.412613 314.112608 \nL 113.412613 311.613297 \nL 61.001562 311.613297 \nz\n\" style=\"fill:#ff0000;\"/>\n   </g>\n   <g id=\"patch_258\">\n    <path clip-path=\"url(#p3b29e8a878)\" d=\"M 61.001562 310.98847 \nL 113.644994 310.98847 \nL 113.644994 308.489159 \nL 61.001562 308.489159 \nz\n\" style=\"fill:#ff0000;\"/>\n   </g>\n   <g id=\"patch_259\">\n    <path clip-path=\"url(#p3b29e8a878)\" d=\"M 61.001562 307.864332 \nL 113.816124 307.864332 \nL 113.816124 305.365022 \nL 61.001562 305.365022 \nz\n\" style=\"fill:#ff0000;\"/>\n   </g>\n   <g id=\"patch_260\">\n    <path clip-path=\"url(#p3b29e8a878)\" d=\"M 61.001562 304.740194 \nL 114.269008 304.740194 \nL 114.269008 302.240884 \nL 61.001562 302.240884 \nz\n\" style=\"fill:#ff0000;\"/>\n   </g>\n   <g id=\"patch_261\">\n    <path clip-path=\"url(#p3b29e8a878)\" d=\"M 61.001562 301.616056 \nL 115.031787 301.616056 \nL 115.031787 299.116746 \nL 61.001562 299.116746 \nz\n\" style=\"fill:#ff0000;\"/>\n   </g>\n   <g id=\"patch_262\">\n    <path clip-path=\"url(#p3b29e8a878)\" d=\"M 61.001562 298.491918 \nL 115.317743 298.491918 \nL 115.317743 295.992608 \nL 61.001562 295.992608 \nz\n\" style=\"fill:#ff0000;\"/>\n   </g>\n   <g id=\"patch_263\">\n    <path clip-path=\"url(#p3b29e8a878)\" d=\"M 61.001562 295.36778 \nL 115.340138 295.36778 \nL 115.340138 292.86847 \nL 61.001562 292.86847 \nz\n\" style=\"fill:#ff0000;\"/>\n   </g>\n   <g id=\"patch_264\">\n    <path clip-path=\"url(#p3b29e8a878)\" d=\"M 61.001562 292.243642 \nL 116.149898 292.243642 \nL 116.149898 289.744332 \nL 61.001562 289.744332 \nz\n\" style=\"fill:#ff0000;\"/>\n   </g>\n   <g id=\"patch_265\">\n    <path clip-path=\"url(#p3b29e8a878)\" d=\"M 61.001562 289.119504 \nL 116.421331 289.119504 \nL 116.421331 286.620194 \nL 61.001562 286.620194 \nz\n\" style=\"fill:#ff0000;\"/>\n   </g>\n   <g id=\"patch_266\">\n    <path clip-path=\"url(#p3b29e8a878)\" d=\"M 61.001562 285.995366 \nL 116.592759 285.995366 \nL 116.592759 283.496056 \nL 61.001562 283.496056 \nz\n\" style=\"fill:#ff0000;\"/>\n   </g>\n   <g id=\"patch_267\">\n    <path clip-path=\"url(#p3b29e8a878)\" d=\"M 61.001562 282.871228 \nL 116.93476 282.871228 \nL 116.93476 280.371918 \nL 61.001562 280.371918 \nz\n\" style=\"fill:#ff0000;\"/>\n   </g>\n   <g id=\"patch_268\">\n    <path clip-path=\"url(#p3b29e8a878)\" d=\"M 61.001562 279.747091 \nL 117.467362 279.747091 \nL 117.467362 277.24778 \nL 61.001562 277.24778 \nz\n\" style=\"fill:#ff0000;\"/>\n   </g>\n   <g id=\"patch_269\">\n    <path clip-path=\"url(#p3b29e8a878)\" d=\"M 61.001562 276.622953 \nL 118.344182 276.622953 \nL 118.344182 274.123642 \nL 61.001562 274.123642 \nz\n\" style=\"fill:#ff0000;\"/>\n   </g>\n   <g id=\"patch_270\">\n    <path clip-path=\"url(#p3b29e8a878)\" d=\"M 61.001562 273.498815 \nL 118.660524 273.498815 \nL 118.660524 270.999504 \nL 61.001562 270.999504 \nz\n\" style=\"fill:#ff0000;\"/>\n   </g>\n   <g id=\"patch_271\">\n    <path clip-path=\"url(#p3b29e8a878)\" d=\"M 61.001562 270.374677 \nL 118.689362 270.374677 \nL 118.689362 267.875366 \nL 61.001562 267.875366 \nz\n\" style=\"fill:#ff0000;\"/>\n   </g>\n   <g id=\"patch_272\">\n    <path clip-path=\"url(#p3b29e8a878)\" d=\"M 61.001562 267.250539 \nL 120.742346 267.250539 \nL 120.742346 264.751228 \nL 61.001562 264.751228 \nz\n\" style=\"fill:#ff0000;\"/>\n   </g>\n   <g id=\"patch_273\">\n    <path clip-path=\"url(#p3b29e8a878)\" d=\"M 61.001562 264.126401 \nL 122.209215 264.126401 \nL 122.209215 261.627091 \nL 61.001562 261.627091 \nz\n\" style=\"fill:#ff0000;\"/>\n   </g>\n   <g id=\"patch_274\">\n    <path clip-path=\"url(#p3b29e8a878)\" d=\"M 61.001562 261.002263 \nL 122.365637 261.002263 \nL 122.365637 258.502953 \nL 61.001562 258.502953 \nz\n\" style=\"fill:#ff0000;\"/>\n   </g>\n   <g id=\"patch_275\">\n    <path clip-path=\"url(#p3b29e8a878)\" d=\"M 61.001562 257.878125 \nL 122.418979 257.878125 \nL 122.418979 255.378815 \nL 61.001562 255.378815 \nz\n\" style=\"fill:#ff0000;\"/>\n   </g>\n   <g id=\"patch_276\">\n    <path clip-path=\"url(#p3b29e8a878)\" d=\"M 61.001562 254.753987 \nL 122.454858 254.753987 \nL 122.454858 252.254677 \nL 61.001562 252.254677 \nz\n\" style=\"fill:#ff0000;\"/>\n   </g>\n   <g id=\"patch_277\">\n    <path clip-path=\"url(#p3b29e8a878)\" d=\"M 61.001562 251.629849 \nL 123.080371 251.629849 \nL 123.080371 249.130539 \nL 61.001562 249.130539 \nz\n\" style=\"fill:#ff0000;\"/>\n   </g>\n   <g id=\"patch_278\">\n    <path clip-path=\"url(#p3b29e8a878)\" d=\"M 61.001562 248.505711 \nL 123.393599 248.505711 \nL 123.393599 246.006401 \nL 61.001562 246.006401 \nz\n\" style=\"fill:#ff0000;\"/>\n   </g>\n   <g id=\"patch_279\">\n    <path clip-path=\"url(#p3b29e8a878)\" d=\"M 61.001562 245.381573 \nL 123.614873 245.381573 \nL 123.614873 242.882263 \nL 61.001562 242.882263 \nz\n\" style=\"fill:#ff0000;\"/>\n   </g>\n   <g id=\"patch_280\">\n    <path clip-path=\"url(#p3b29e8a878)\" d=\"M 61.001562 242.257435 \nL 124.632971 242.257435 \nL 124.632971 239.758125 \nL 61.001562 239.758125 \nz\n\" style=\"fill:#ff0000;\"/>\n   </g>\n   <g id=\"patch_281\">\n    <path clip-path=\"url(#p3b29e8a878)\" d=\"M 61.001562 239.133297 \nL 124.685496 239.133297 \nL 124.685496 236.633987 \nL 61.001562 236.633987 \nz\n\" style=\"fill:#ff0000;\"/>\n   </g>\n   <g id=\"patch_282\">\n    <path clip-path=\"url(#p3b29e8a878)\" d=\"M 61.001562 236.009159 \nL 125.113725 236.009159 \nL 125.113725 233.509849 \nL 61.001562 233.509849 \nz\n\" style=\"fill:#ff0000;\"/>\n   </g>\n   <g id=\"patch_283\">\n    <path clip-path=\"url(#p3b29e8a878)\" d=\"M 61.001562 232.885022 \nL 126.38234 232.885022 \nL 126.38234 230.385711 \nL 61.001562 230.385711 \nz\n\" style=\"fill:#ff0000;\"/>\n   </g>\n   <g id=\"patch_284\">\n    <path clip-path=\"url(#p3b29e8a878)\" d=\"M 61.001562 229.760884 \nL 126.756232 229.760884 \nL 126.756232 227.261573 \nL 61.001562 227.261573 \nz\n\" style=\"fill:#ff0000;\"/>\n   </g>\n   <g id=\"patch_285\">\n    <path clip-path=\"url(#p3b29e8a878)\" d=\"M 61.001562 226.636746 \nL 126.998334 226.636746 \nL 126.998334 224.137435 \nL 61.001562 224.137435 \nz\n\" style=\"fill:#ff0000;\"/>\n   </g>\n   <g id=\"patch_286\">\n    <path clip-path=\"url(#p3b29e8a878)\" d=\"M 61.001562 223.512608 \nL 128.214816 223.512608 \nL 128.214816 221.013297 \nL 61.001562 221.013297 \nz\n\" style=\"fill:#ff0000;\"/>\n   </g>\n   <g id=\"patch_287\">\n    <path clip-path=\"url(#p3b29e8a878)\" d=\"M 61.001562 220.38847 \nL 128.740381 220.38847 \nL 128.740381 217.889159 \nL 61.001562 217.889159 \nz\n\" style=\"fill:#ff0000;\"/>\n   </g>\n   <g id=\"patch_288\">\n    <path clip-path=\"url(#p3b29e8a878)\" d=\"M 61.001562 217.264332 \nL 130.087549 217.264332 \nL 130.087549 214.765022 \nL 61.001562 214.765022 \nz\n\" style=\"fill:#ff0000;\"/>\n   </g>\n   <g id=\"patch_289\">\n    <path clip-path=\"url(#p3b29e8a878)\" d=\"M 61.001562 214.140194 \nL 131.379764 214.140194 \nL 131.379764 211.640884 \nL 61.001562 211.640884 \nz\n\" style=\"fill:#ff0000;\"/>\n   </g>\n   <g id=\"patch_290\">\n    <path clip-path=\"url(#p3b29e8a878)\" d=\"M 61.001562 211.016056 \nL 132.034022 211.016056 \nL 132.034022 208.516746 \nL 61.001562 208.516746 \nz\n\" style=\"fill:#ff0000;\"/>\n   </g>\n   <g id=\"patch_291\">\n    <path clip-path=\"url(#p3b29e8a878)\" d=\"M 61.001562 207.891918 \nL 133.144968 207.891918 \nL 133.144968 205.392608 \nL 61.001562 205.392608 \nz\n\" style=\"fill:#ff0000;\"/>\n   </g>\n   <g id=\"patch_292\">\n    <path clip-path=\"url(#p3b29e8a878)\" d=\"M 61.001562 204.76778 \nL 136.345757 204.76778 \nL 136.345757 202.26847 \nL 61.001562 202.26847 \nz\n\" style=\"fill:#ff0000;\"/>\n   </g>\n   <g id=\"patch_293\">\n    <path clip-path=\"url(#p3b29e8a878)\" d=\"M 61.001562 201.643642 \nL 138.147429 201.643642 \nL 138.147429 199.144332 \nL 61.001562 199.144332 \nz\n\" style=\"fill:#ff0000;\"/>\n   </g>\n   <g id=\"patch_294\">\n    <path clip-path=\"url(#p3b29e8a878)\" d=\"M 61.001562 198.519504 \nL 138.238935 198.519504 \nL 138.238935 196.020194 \nL 61.001562 196.020194 \nz\n\" style=\"fill:#ff0000;\"/>\n   </g>\n   <g id=\"patch_295\">\n    <path clip-path=\"url(#p3b29e8a878)\" d=\"M 61.001562 195.395366 \nL 140.659292 195.395366 \nL 140.659292 192.896056 \nL 61.001562 192.896056 \nz\n\" style=\"fill:#ff0000;\"/>\n   </g>\n   <g id=\"patch_296\">\n    <path clip-path=\"url(#p3b29e8a878)\" d=\"M 61.001562 192.271228 \nL 142.182647 192.271228 \nL 142.182647 189.771918 \nL 61.001562 189.771918 \nz\n\" style=\"fill:#ff0000;\"/>\n   </g>\n   <g id=\"patch_297\">\n    <path clip-path=\"url(#p3b29e8a878)\" d=\"M 61.001562 189.147091 \nL 142.429315 189.147091 \nL 142.429315 186.64778 \nL 61.001562 186.64778 \nz\n\" style=\"fill:#ff0000;\"/>\n   </g>\n   <g id=\"patch_298\">\n    <path clip-path=\"url(#p3b29e8a878)\" d=\"M 61.001562 186.022953 \nL 143.775023 186.022953 \nL 143.775023 183.523642 \nL 61.001562 183.523642 \nz\n\" style=\"fill:#ff0000;\"/>\n   </g>\n   <g id=\"patch_299\">\n    <path clip-path=\"url(#p3b29e8a878)\" d=\"M 61.001562 182.898815 \nL 145.264577 182.898815 \nL 145.264577 180.399504 \nL 61.001562 180.399504 \nz\n\" style=\"fill:#ff0000;\"/>\n   </g>\n   <g id=\"patch_300\">\n    <path clip-path=\"url(#p3b29e8a878)\" d=\"M 61.001562 179.774677 \nL 145.312252 179.774677 \nL 145.312252 177.275366 \nL 61.001562 177.275366 \nz\n\" style=\"fill:#ff0000;\"/>\n   </g>\n   <g id=\"patch_301\">\n    <path clip-path=\"url(#p3b29e8a878)\" d=\"M 61.001562 176.650539 \nL 145.937598 176.650539 \nL 145.937598 174.151228 \nL 61.001562 174.151228 \nz\n\" style=\"fill:#ff0000;\"/>\n   </g>\n   <g id=\"patch_302\">\n    <path clip-path=\"url(#p3b29e8a878)\" d=\"M 61.001562 173.526401 \nL 148.250759 173.526401 \nL 148.250759 171.027091 \nL 61.001562 171.027091 \nz\n\" style=\"fill:#ff0000;\"/>\n   </g>\n   <g id=\"patch_303\">\n    <path clip-path=\"url(#p3b29e8a878)\" d=\"M 61.001562 170.402263 \nL 148.618031 170.402263 \nL 148.618031 167.902953 \nL 61.001562 167.902953 \nz\n\" style=\"fill:#ff0000;\"/>\n   </g>\n   <g id=\"patch_304\">\n    <path clip-path=\"url(#p3b29e8a878)\" d=\"M 61.001562 167.278125 \nL 149.176699 167.278125 \nL 149.176699 164.778815 \nL 61.001562 164.778815 \nz\n\" style=\"fill:#ff0000;\"/>\n   </g>\n   <g id=\"patch_305\">\n    <path clip-path=\"url(#p3b29e8a878)\" d=\"M 61.001562 164.153987 \nL 150.919614 164.153987 \nL 150.919614 161.654677 \nL 61.001562 161.654677 \nz\n\" style=\"fill:#ff0000;\"/>\n   </g>\n   <g id=\"patch_306\">\n    <path clip-path=\"url(#p3b29e8a878)\" d=\"M 61.001562 161.029849 \nL 152.821414 161.029849 \nL 152.821414 158.530539 \nL 61.001562 158.530539 \nz\n\" style=\"fill:#ff0000;\"/>\n   </g>\n   <g id=\"patch_307\">\n    <path clip-path=\"url(#p3b29e8a878)\" d=\"M 61.001562 157.905711 \nL 153.849138 157.905711 \nL 153.849138 155.406401 \nL 61.001562 155.406401 \nz\n\" style=\"fill:#ff0000;\"/>\n   </g>\n   <g id=\"patch_308\">\n    <path clip-path=\"url(#p3b29e8a878)\" d=\"M 61.001562 154.781573 \nL 154.352777 154.781573 \nL 154.352777 152.282263 \nL 61.001562 152.282263 \nz\n\" style=\"fill:#ff0000;\"/>\n   </g>\n   <g id=\"patch_309\">\n    <path clip-path=\"url(#p3b29e8a878)\" d=\"M 61.001562 151.657435 \nL 158.001055 151.657435 \nL 158.001055 149.158125 \nL 61.001562 149.158125 \nz\n\" style=\"fill:#ff0000;\"/>\n   </g>\n   <g id=\"patch_310\">\n    <path clip-path=\"url(#p3b29e8a878)\" d=\"M 61.001562 148.533297 \nL 161.426247 148.533297 \nL 161.426247 146.033987 \nL 61.001562 146.033987 \nz\n\" style=\"fill:#ff0000;\"/>\n   </g>\n   <g id=\"patch_311\">\n    <path clip-path=\"url(#p3b29e8a878)\" d=\"M 61.001562 145.409159 \nL 161.751462 145.409159 \nL 161.751462 142.909849 \nL 61.001562 142.909849 \nz\n\" style=\"fill:#ff0000;\"/>\n   </g>\n   <g id=\"patch_312\">\n    <path clip-path=\"url(#p3b29e8a878)\" d=\"M 61.001562 142.285022 \nL 166.088367 142.285022 \nL 166.088367 139.785711 \nL 61.001562 139.785711 \nz\n\" style=\"fill:#ff0000;\"/>\n   </g>\n   <g id=\"patch_313\">\n    <path clip-path=\"url(#p3b29e8a878)\" d=\"M 61.001562 139.160884 \nL 166.640047 139.160884 \nL 166.640047 136.661573 \nL 61.001562 136.661573 \nz\n\" style=\"fill:#ff0000;\"/>\n   </g>\n   <g id=\"patch_314\">\n    <path clip-path=\"url(#p3b29e8a878)\" d=\"M 61.001562 136.036746 \nL 166.898083 136.036746 \nL 166.898083 133.537435 \nL 61.001562 133.537435 \nz\n\" style=\"fill:#ff0000;\"/>\n   </g>\n   <g id=\"patch_315\">\n    <path clip-path=\"url(#p3b29e8a878)\" d=\"M 61.001562 132.912608 \nL 169.835764 132.912608 \nL 169.835764 130.413297 \nL 61.001562 130.413297 \nz\n\" style=\"fill:#ff0000;\"/>\n   </g>\n   <g id=\"patch_316\">\n    <path clip-path=\"url(#p3b29e8a878)\" d=\"M 61.001562 129.78847 \nL 172.076095 129.78847 \nL 172.076095 127.289159 \nL 61.001562 127.289159 \nz\n\" style=\"fill:#ff0000;\"/>\n   </g>\n   <g id=\"patch_317\">\n    <path clip-path=\"url(#p3b29e8a878)\" d=\"M 61.001562 126.664332 \nL 175.353557 126.664332 \nL 175.353557 124.165022 \nL 61.001562 124.165022 \nz\n\" style=\"fill:#ff0000;\"/>\n   </g>\n   <g id=\"patch_318\">\n    <path clip-path=\"url(#p3b29e8a878)\" d=\"M 61.001562 123.540194 \nL 176.931429 123.540194 \nL 176.931429 121.040884 \nL 61.001562 121.040884 \nz\n\" style=\"fill:#ff0000;\"/>\n   </g>\n   <g id=\"patch_319\">\n    <path clip-path=\"url(#p3b29e8a878)\" d=\"M 61.001562 120.416056 \nL 177.808285 120.416056 \nL 177.808285 117.916746 \nL 61.001562 117.916746 \nz\n\" style=\"fill:#ff0000;\"/>\n   </g>\n   <g id=\"patch_320\">\n    <path clip-path=\"url(#p3b29e8a878)\" d=\"M 61.001562 117.291918 \nL 180.574214 117.291918 \nL 180.574214 114.792608 \nL 61.001562 114.792608 \nz\n\" style=\"fill:#ff0000;\"/>\n   </g>\n   <g id=\"patch_321\">\n    <path clip-path=\"url(#p3b29e8a878)\" d=\"M 61.001562 114.16778 \nL 180.982713 114.16778 \nL 180.982713 111.66847 \nL 61.001562 111.66847 \nz\n\" style=\"fill:#ff0000;\"/>\n   </g>\n   <g id=\"patch_322\">\n    <path clip-path=\"url(#p3b29e8a878)\" d=\"M 61.001562 111.043642 \nL 181.057174 111.043642 \nL 181.057174 108.544332 \nL 61.001562 108.544332 \nz\n\" style=\"fill:#ff0000;\"/>\n   </g>\n   <g id=\"patch_323\">\n    <path clip-path=\"url(#p3b29e8a878)\" d=\"M 61.001562 107.919504 \nL 186.254136 107.919504 \nL 186.254136 105.420194 \nL 61.001562 105.420194 \nz\n\" style=\"fill:#ff0000;\"/>\n   </g>\n   <g id=\"patch_324\">\n    <path clip-path=\"url(#p3b29e8a878)\" d=\"M 61.001562 104.795366 \nL 187.112195 104.795366 \nL 187.112195 102.296056 \nL 61.001562 102.296056 \nz\n\" style=\"fill:#ff0000;\"/>\n   </g>\n   <g id=\"patch_325\">\n    <path clip-path=\"url(#p3b29e8a878)\" d=\"M 61.001562 101.671228 \nL 188.194263 101.671228 \nL 188.194263 99.171918 \nL 61.001562 99.171918 \nz\n\" style=\"fill:#ff0000;\"/>\n   </g>\n   <g id=\"patch_326\">\n    <path clip-path=\"url(#p3b29e8a878)\" d=\"M 61.001562 98.547091 \nL 189.544111 98.547091 \nL 189.544111 96.04778 \nL 61.001562 96.04778 \nz\n\" style=\"fill:#ff0000;\"/>\n   </g>\n   <g id=\"patch_327\">\n    <path clip-path=\"url(#p3b29e8a878)\" d=\"M 61.001562 95.422953 \nL 191.165261 95.422953 \nL 191.165261 92.923642 \nL 61.001562 92.923642 \nz\n\" style=\"fill:#ff0000;\"/>\n   </g>\n   <g id=\"patch_328\">\n    <path clip-path=\"url(#p3b29e8a878)\" d=\"M 61.001562 92.298815 \nL 192.508658 92.298815 \nL 192.508658 89.799504 \nL 61.001562 89.799504 \nz\n\" style=\"fill:#ff0000;\"/>\n   </g>\n   <g id=\"patch_329\">\n    <path clip-path=\"url(#p3b29e8a878)\" d=\"M 61.001562 89.174677 \nL 199.203171 89.174677 \nL 199.203171 86.675366 \nL 61.001562 86.675366 \nz\n\" style=\"fill:#ff0000;\"/>\n   </g>\n   <g id=\"patch_330\">\n    <path clip-path=\"url(#p3b29e8a878)\" d=\"M 61.001562 86.050539 \nL 205.84741 86.050539 \nL 205.84741 83.551228 \nL 61.001562 83.551228 \nz\n\" style=\"fill:#ff0000;\"/>\n   </g>\n   <g id=\"patch_331\">\n    <path clip-path=\"url(#p3b29e8a878)\" d=\"M 61.001562 82.926401 \nL 206.443124 82.926401 \nL 206.443124 80.427091 \nL 61.001562 80.427091 \nz\n\" style=\"fill:#ff0000;\"/>\n   </g>\n   <g id=\"patch_332\">\n    <path clip-path=\"url(#p3b29e8a878)\" d=\"M 61.001562 79.802263 \nL 210.247575 79.802263 \nL 210.247575 77.302953 \nL 61.001562 77.302953 \nz\n\" style=\"fill:#ff0000;\"/>\n   </g>\n   <g id=\"patch_333\">\n    <path clip-path=\"url(#p3b29e8a878)\" d=\"M 61.001562 76.678125 \nL 215.049207 76.678125 \nL 215.049207 74.178815 \nL 61.001562 74.178815 \nz\n\" style=\"fill:#ff0000;\"/>\n   </g>\n   <g id=\"patch_334\">\n    <path clip-path=\"url(#p3b29e8a878)\" d=\"M 61.001562 73.553987 \nL 226.302823 73.553987 \nL 226.302823 71.054677 \nL 61.001562 71.054677 \nz\n\" style=\"fill:#ff0000;\"/>\n   </g>\n   <g id=\"patch_335\">\n    <path clip-path=\"url(#p3b29e8a878)\" d=\"M 61.001562 70.429849 \nL 227.66264 70.429849 \nL 227.66264 67.930539 \nL 61.001562 67.930539 \nz\n\" style=\"fill:#ff0000;\"/>\n   </g>\n   <g id=\"patch_336\">\n    <path clip-path=\"url(#p3b29e8a878)\" d=\"M 61.001562 67.305711 \nL 249.273171 67.305711 \nL 249.273171 64.806401 \nL 61.001562 64.806401 \nz\n\" style=\"fill:#ff0000;\"/>\n   </g>\n   <g id=\"patch_337\">\n    <path clip-path=\"url(#p3b29e8a878)\" d=\"M 61.001562 64.181573 \nL 257.27527 64.181573 \nL 257.27527 61.682263 \nL 61.001562 61.682263 \nz\n\" style=\"fill:#ff0000;\"/>\n   </g>\n   <g id=\"patch_338\">\n    <path clip-path=\"url(#p3b29e8a878)\" d=\"M 61.001562 61.057435 \nL 257.283896 61.057435 \nL 257.283896 58.558125 \nL 61.001562 58.558125 \nz\n\" style=\"fill:#ff0000;\"/>\n   </g>\n   <g id=\"patch_339\">\n    <path clip-path=\"url(#p3b29e8a878)\" d=\"M 61.001562 57.933297 \nL 278.441279 57.933297 \nL 278.441279 55.433987 \nL 61.001562 55.433987 \nz\n\" style=\"fill:#ff0000;\"/>\n   </g>\n   <g id=\"patch_340\">\n    <path clip-path=\"url(#p3b29e8a878)\" d=\"M 61.001562 54.809159 \nL 284.732149 54.809159 \nL 284.732149 52.309849 \nL 61.001562 52.309849 \nz\n\" style=\"fill:#ff0000;\"/>\n   </g>\n   <g id=\"patch_341\">\n    <path clip-path=\"url(#p3b29e8a878)\" d=\"M 61.001562 51.685022 \nL 294.505168 51.685022 \nL 294.505168 49.185711 \nL 61.001562 49.185711 \nz\n\" style=\"fill:#ff0000;\"/>\n   </g>\n   <g id=\"patch_342\">\n    <path clip-path=\"url(#p3b29e8a878)\" d=\"M 61.001562 48.560884 \nL 309.820627 48.560884 \nL 309.820627 46.061573 \nL 61.001562 46.061573 \nz\n\" style=\"fill:#ff0000;\"/>\n   </g>\n   <g id=\"patch_343\">\n    <path clip-path=\"url(#p3b29e8a878)\" d=\"M 61.001562 45.436746 \nL 310.023171 45.436746 \nL 310.023171 42.937435 \nL 61.001562 42.937435 \nz\n\" style=\"fill:#ff0000;\"/>\n   </g>\n   <g id=\"patch_344\">\n    <path clip-path=\"url(#p3b29e8a878)\" d=\"M 61.001562 42.312608 \nL 316.952543 42.312608 \nL 316.952543 39.813297 \nL 61.001562 39.813297 \nz\n\" style=\"fill:#ff0000;\"/>\n   </g>\n   <g id=\"patch_345\">\n    <path clip-path=\"url(#p3b29e8a878)\" d=\"M 61.001562 39.18847 \nL 323.705614 39.18847 \nL 323.705614 36.689159 \nL 61.001562 36.689159 \nz\n\" style=\"fill:#ff0000;\"/>\n   </g>\n   <g id=\"patch_346\">\n    <path clip-path=\"url(#p3b29e8a878)\" d=\"M 61.001562 36.064332 \nL 324.043577 36.064332 \nL 324.043577 33.565022 \nL 61.001562 33.565022 \nz\n\" style=\"fill:#ff0000;\"/>\n   </g>\n   <g id=\"patch_347\">\n    <path clip-path=\"url(#p3b29e8a878)\" d=\"M 61.001562 32.940194 \nL 325.515102 32.940194 \nL 325.515102 30.440884 \nL 61.001562 30.440884 \nz\n\" style=\"fill:#ff0000;\"/>\n   </g>\n   <g id=\"patch_348\">\n    <path clip-path=\"url(#p3b29e8a878)\" d=\"M 61.001562 29.816056 \nL 454.481411 29.816056 \nL 454.481411 27.316746 \nL 61.001562 27.316746 \nz\n\" style=\"fill:#ff0000;\"/>\n   </g>\n   <g id=\"patch_349\">\n    <path clip-path=\"url(#p3b29e8a878)\" d=\"M 61.001562 26.691918 \nL 592.430134 26.691918 \nL 592.430134 24.192608 \nL 61.001562 24.192608 \nz\n\" style=\"fill:#ff0000;\"/>\n   </g>\n   <g id=\"matplotlib.axis_1\">\n    <g id=\"xtick_1\">\n     <g id=\"line2d_1\">\n      <defs>\n       <path d=\"M 0 0 \nL 0 3.5 \n\" id=\"mf2cf110d82\" style=\"stroke:#000000;stroke-width:0.8;\"/>\n      </defs>\n      <g>\n       <use style=\"stroke:#000000;stroke-width:0.8;\" x=\"61.001562\" xlink:href=\"#mf2cf110d82\" y=\"1109.518125\"/>\n      </g>\n     </g>\n     <g id=\"text_1\">\n      <!-- 0.000 -->\n      <g transform=\"translate(46.6875 1124.116563)scale(0.1 -0.1)\">\n       <defs>\n        <path d=\"M 2034 4250 \nQ 1547 4250 1301 3770 \nQ 1056 3291 1056 2328 \nQ 1056 1369 1301 889 \nQ 1547 409 2034 409 \nQ 2525 409 2770 889 \nQ 3016 1369 3016 2328 \nQ 3016 3291 2770 3770 \nQ 2525 4250 2034 4250 \nz\nM 2034 4750 \nQ 2819 4750 3233 4129 \nQ 3647 3509 3647 2328 \nQ 3647 1150 3233 529 \nQ 2819 -91 2034 -91 \nQ 1250 -91 836 529 \nQ 422 1150 422 2328 \nQ 422 3509 836 4129 \nQ 1250 4750 2034 4750 \nz\n\" id=\"DejaVuSans-30\" transform=\"scale(0.015625)\"/>\n        <path d=\"M 684 794 \nL 1344 794 \nL 1344 0 \nL 684 0 \nL 684 794 \nz\n\" id=\"DejaVuSans-2e\" transform=\"scale(0.015625)\"/>\n       </defs>\n       <use xlink:href=\"#DejaVuSans-30\"/>\n       <use x=\"63.623047\" xlink:href=\"#DejaVuSans-2e\"/>\n       <use x=\"95.410156\" xlink:href=\"#DejaVuSans-30\"/>\n       <use x=\"159.033203\" xlink:href=\"#DejaVuSans-30\"/>\n       <use x=\"222.65625\" xlink:href=\"#DejaVuSans-30\"/>\n      </g>\n     </g>\n    </g>\n    <g id=\"xtick_2\">\n     <g id=\"line2d_2\">\n      <g>\n       <use style=\"stroke:#000000;stroke-width:0.8;\" x=\"135.333912\" xlink:href=\"#mf2cf110d82\" y=\"1109.518125\"/>\n      </g>\n     </g>\n     <g id=\"text_2\">\n      <!-- 0.005 -->\n      <g transform=\"translate(121.01985 1124.116563)scale(0.1 -0.1)\">\n       <defs>\n        <path d=\"M 691 4666 \nL 3169 4666 \nL 3169 4134 \nL 1269 4134 \nL 1269 2991 \nQ 1406 3038 1543 3061 \nQ 1681 3084 1819 3084 \nQ 2600 3084 3056 2656 \nQ 3513 2228 3513 1497 \nQ 3513 744 3044 326 \nQ 2575 -91 1722 -91 \nQ 1428 -91 1123 -41 \nQ 819 9 494 109 \nL 494 744 \nQ 775 591 1075 516 \nQ 1375 441 1709 441 \nQ 2250 441 2565 725 \nQ 2881 1009 2881 1497 \nQ 2881 1984 2565 2268 \nQ 2250 2553 1709 2553 \nQ 1456 2553 1204 2497 \nQ 953 2441 691 2322 \nL 691 4666 \nz\n\" id=\"DejaVuSans-35\" transform=\"scale(0.015625)\"/>\n       </defs>\n       <use xlink:href=\"#DejaVuSans-30\"/>\n       <use x=\"63.623047\" xlink:href=\"#DejaVuSans-2e\"/>\n       <use x=\"95.410156\" xlink:href=\"#DejaVuSans-30\"/>\n       <use x=\"159.033203\" xlink:href=\"#DejaVuSans-30\"/>\n       <use x=\"222.65625\" xlink:href=\"#DejaVuSans-35\"/>\n      </g>\n     </g>\n    </g>\n    <g id=\"xtick_3\">\n     <g id=\"line2d_3\">\n      <g>\n       <use style=\"stroke:#000000;stroke-width:0.8;\" x=\"209.666262\" xlink:href=\"#mf2cf110d82\" y=\"1109.518125\"/>\n      </g>\n     </g>\n     <g id=\"text_3\">\n      <!-- 0.010 -->\n      <g transform=\"translate(195.3522 1124.116563)scale(0.1 -0.1)\">\n       <defs>\n        <path d=\"M 794 531 \nL 1825 531 \nL 1825 4091 \nL 703 3866 \nL 703 4441 \nL 1819 4666 \nL 2450 4666 \nL 2450 531 \nL 3481 531 \nL 3481 0 \nL 794 0 \nL 794 531 \nz\n\" id=\"DejaVuSans-31\" transform=\"scale(0.015625)\"/>\n       </defs>\n       <use xlink:href=\"#DejaVuSans-30\"/>\n       <use x=\"63.623047\" xlink:href=\"#DejaVuSans-2e\"/>\n       <use x=\"95.410156\" xlink:href=\"#DejaVuSans-30\"/>\n       <use x=\"159.033203\" xlink:href=\"#DejaVuSans-31\"/>\n       <use x=\"222.65625\" xlink:href=\"#DejaVuSans-30\"/>\n      </g>\n     </g>\n    </g>\n    <g id=\"xtick_4\">\n     <g id=\"line2d_4\">\n      <g>\n       <use style=\"stroke:#000000;stroke-width:0.8;\" x=\"283.998612\" xlink:href=\"#mf2cf110d82\" y=\"1109.518125\"/>\n      </g>\n     </g>\n     <g id=\"text_4\">\n      <!-- 0.015 -->\n      <g transform=\"translate(269.68455 1124.116563)scale(0.1 -0.1)\">\n       <use xlink:href=\"#DejaVuSans-30\"/>\n       <use x=\"63.623047\" xlink:href=\"#DejaVuSans-2e\"/>\n       <use x=\"95.410156\" xlink:href=\"#DejaVuSans-30\"/>\n       <use x=\"159.033203\" xlink:href=\"#DejaVuSans-31\"/>\n       <use x=\"222.65625\" xlink:href=\"#DejaVuSans-35\"/>\n      </g>\n     </g>\n    </g>\n    <g id=\"xtick_5\">\n     <g id=\"line2d_5\">\n      <g>\n       <use style=\"stroke:#000000;stroke-width:0.8;\" x=\"358.330962\" xlink:href=\"#mf2cf110d82\" y=\"1109.518125\"/>\n      </g>\n     </g>\n     <g id=\"text_5\">\n      <!-- 0.020 -->\n      <g transform=\"translate(344.0169 1124.116563)scale(0.1 -0.1)\">\n       <defs>\n        <path d=\"M 1228 531 \nL 3431 531 \nL 3431 0 \nL 469 0 \nL 469 531 \nQ 828 903 1448 1529 \nQ 2069 2156 2228 2338 \nQ 2531 2678 2651 2914 \nQ 2772 3150 2772 3378 \nQ 2772 3750 2511 3984 \nQ 2250 4219 1831 4219 \nQ 1534 4219 1204 4116 \nQ 875 4013 500 3803 \nL 500 4441 \nQ 881 4594 1212 4672 \nQ 1544 4750 1819 4750 \nQ 2544 4750 2975 4387 \nQ 3406 4025 3406 3419 \nQ 3406 3131 3298 2873 \nQ 3191 2616 2906 2266 \nQ 2828 2175 2409 1742 \nQ 1991 1309 1228 531 \nz\n\" id=\"DejaVuSans-32\" transform=\"scale(0.015625)\"/>\n       </defs>\n       <use xlink:href=\"#DejaVuSans-30\"/>\n       <use x=\"63.623047\" xlink:href=\"#DejaVuSans-2e\"/>\n       <use x=\"95.410156\" xlink:href=\"#DejaVuSans-30\"/>\n       <use x=\"159.033203\" xlink:href=\"#DejaVuSans-32\"/>\n       <use x=\"222.65625\" xlink:href=\"#DejaVuSans-30\"/>\n      </g>\n     </g>\n    </g>\n    <g id=\"xtick_6\">\n     <g id=\"line2d_6\">\n      <g>\n       <use style=\"stroke:#000000;stroke-width:0.8;\" x=\"432.663312\" xlink:href=\"#mf2cf110d82\" y=\"1109.518125\"/>\n      </g>\n     </g>\n     <g id=\"text_6\">\n      <!-- 0.025 -->\n      <g transform=\"translate(418.34925 1124.116563)scale(0.1 -0.1)\">\n       <use xlink:href=\"#DejaVuSans-30\"/>\n       <use x=\"63.623047\" xlink:href=\"#DejaVuSans-2e\"/>\n       <use x=\"95.410156\" xlink:href=\"#DejaVuSans-30\"/>\n       <use x=\"159.033203\" xlink:href=\"#DejaVuSans-32\"/>\n       <use x=\"222.65625\" xlink:href=\"#DejaVuSans-35\"/>\n      </g>\n     </g>\n    </g>\n    <g id=\"xtick_7\">\n     <g id=\"line2d_7\">\n      <g>\n       <use style=\"stroke:#000000;stroke-width:0.8;\" x=\"506.995662\" xlink:href=\"#mf2cf110d82\" y=\"1109.518125\"/>\n      </g>\n     </g>\n     <g id=\"text_7\">\n      <!-- 0.030 -->\n      <g transform=\"translate(492.6816 1124.116563)scale(0.1 -0.1)\">\n       <defs>\n        <path d=\"M 2597 2516 \nQ 3050 2419 3304 2112 \nQ 3559 1806 3559 1356 \nQ 3559 666 3084 287 \nQ 2609 -91 1734 -91 \nQ 1441 -91 1130 -33 \nQ 819 25 488 141 \nL 488 750 \nQ 750 597 1062 519 \nQ 1375 441 1716 441 \nQ 2309 441 2620 675 \nQ 2931 909 2931 1356 \nQ 2931 1769 2642 2001 \nQ 2353 2234 1838 2234 \nL 1294 2234 \nL 1294 2753 \nL 1863 2753 \nQ 2328 2753 2575 2939 \nQ 2822 3125 2822 3475 \nQ 2822 3834 2567 4026 \nQ 2313 4219 1838 4219 \nQ 1578 4219 1281 4162 \nQ 984 4106 628 3988 \nL 628 4550 \nQ 988 4650 1302 4700 \nQ 1616 4750 1894 4750 \nQ 2613 4750 3031 4423 \nQ 3450 4097 3450 3541 \nQ 3450 3153 3228 2886 \nQ 3006 2619 2597 2516 \nz\n\" id=\"DejaVuSans-33\" transform=\"scale(0.015625)\"/>\n       </defs>\n       <use xlink:href=\"#DejaVuSans-30\"/>\n       <use x=\"63.623047\" xlink:href=\"#DejaVuSans-2e\"/>\n       <use x=\"95.410156\" xlink:href=\"#DejaVuSans-30\"/>\n       <use x=\"159.033203\" xlink:href=\"#DejaVuSans-33\"/>\n       <use x=\"222.65625\" xlink:href=\"#DejaVuSans-30\"/>\n      </g>\n     </g>\n    </g>\n    <g id=\"xtick_8\">\n     <g id=\"line2d_8\">\n      <g>\n       <use style=\"stroke:#000000;stroke-width:0.8;\" x=\"581.328012\" xlink:href=\"#mf2cf110d82\" y=\"1109.518125\"/>\n      </g>\n     </g>\n     <g id=\"text_8\">\n      <!-- 0.035 -->\n      <g transform=\"translate(567.01395 1124.116563)scale(0.1 -0.1)\">\n       <use xlink:href=\"#DejaVuSans-30\"/>\n       <use x=\"63.623047\" xlink:href=\"#DejaVuSans-2e\"/>\n       <use x=\"95.410156\" xlink:href=\"#DejaVuSans-30\"/>\n       <use x=\"159.033203\" xlink:href=\"#DejaVuSans-33\"/>\n       <use x=\"222.65625\" xlink:href=\"#DejaVuSans-35\"/>\n      </g>\n     </g>\n    </g>\n   </g>\n   <g id=\"matplotlib.axis_2\">\n    <g id=\"ytick_1\">\n     <g id=\"line2d_9\">\n      <defs>\n       <path d=\"M 0 0 \nL -3.5 0 \n\" id=\"m86e9d2eb80\" style=\"stroke:#000000;stroke-width:0.8;\"/>\n      </defs>\n      <g>\n       <use style=\"stroke:#000000;stroke-width:0.8;\" x=\"61.001562\" xlink:href=\"#m86e9d2eb80\" y=\"1106.393987\"/>\n      </g>\n     </g>\n     <g id=\"text_9\">\n      <!-- GRM_F30 -->\n      <g transform=\"translate(7.2 1110.104925)scale(0.1 -0.1)\">\n       <defs>\n        <path d=\"M 3809 666 \nL 3809 1919 \nL 2778 1919 \nL 2778 2438 \nL 4434 2438 \nL 4434 434 \nQ 4069 175 3628 42 \nQ 3188 -91 2688 -91 \nQ 1594 -91 976 548 \nQ 359 1188 359 2328 \nQ 359 3472 976 4111 \nQ 1594 4750 2688 4750 \nQ 3144 4750 3555 4637 \nQ 3966 4525 4313 4306 \nL 4313 3634 \nQ 3963 3931 3569 4081 \nQ 3175 4231 2741 4231 \nQ 1884 4231 1454 3753 \nQ 1025 3275 1025 2328 \nQ 1025 1384 1454 906 \nQ 1884 428 2741 428 \nQ 3075 428 3337 486 \nQ 3600 544 3809 666 \nz\n\" id=\"DejaVuSans-47\" transform=\"scale(0.015625)\"/>\n        <path d=\"M 2841 2188 \nQ 3044 2119 3236 1894 \nQ 3428 1669 3622 1275 \nL 4263 0 \nL 3584 0 \nL 2988 1197 \nQ 2756 1666 2539 1819 \nQ 2322 1972 1947 1972 \nL 1259 1972 \nL 1259 0 \nL 628 0 \nL 628 4666 \nL 2053 4666 \nQ 2853 4666 3247 4331 \nQ 3641 3997 3641 3322 \nQ 3641 2881 3436 2590 \nQ 3231 2300 2841 2188 \nz\nM 1259 4147 \nL 1259 2491 \nL 2053 2491 \nQ 2509 2491 2742 2702 \nQ 2975 2913 2975 3322 \nQ 2975 3731 2742 3939 \nQ 2509 4147 2053 4147 \nL 1259 4147 \nz\n\" id=\"DejaVuSans-52\" transform=\"scale(0.015625)\"/>\n        <path d=\"M 628 4666 \nL 1569 4666 \nL 2759 1491 \nL 3956 4666 \nL 4897 4666 \nL 4897 0 \nL 4281 0 \nL 4281 4097 \nL 3078 897 \nL 2444 897 \nL 1241 4097 \nL 1241 0 \nL 628 0 \nL 628 4666 \nz\n\" id=\"DejaVuSans-4d\" transform=\"scale(0.015625)\"/>\n        <path d=\"M 3263 -1063 \nL 3263 -1509 \nL -63 -1509 \nL -63 -1063 \nL 3263 -1063 \nz\n\" id=\"DejaVuSans-5f\" transform=\"scale(0.015625)\"/>\n        <path d=\"M 628 4666 \nL 3309 4666 \nL 3309 4134 \nL 1259 4134 \nL 1259 2759 \nL 3109 2759 \nL 3109 2228 \nL 1259 2228 \nL 1259 0 \nL 628 0 \nL 628 4666 \nz\n\" id=\"DejaVuSans-46\" transform=\"scale(0.015625)\"/>\n       </defs>\n       <use xlink:href=\"#DejaVuSans-47\"/>\n       <use x=\"77.490234\" xlink:href=\"#DejaVuSans-52\"/>\n       <use x=\"146.972656\" xlink:href=\"#DejaVuSans-4d\"/>\n       <use x=\"233.251953\" xlink:href=\"#DejaVuSans-5f\"/>\n       <use x=\"283.251953\" xlink:href=\"#DejaVuSans-46\"/>\n       <use x=\"340.771484\" xlink:href=\"#DejaVuSans-33\"/>\n       <use x=\"404.394531\" xlink:href=\"#DejaVuSans-30\"/>\n      </g>\n     </g>\n    </g>\n    <g id=\"ytick_2\">\n     <g id=\"line2d_10\">\n      <g>\n       <use style=\"stroke:#000000;stroke-width:0.8;\" x=\"61.001562\" xlink:href=\"#m86e9d2eb80\" y=\"1103.269849\"/>\n      </g>\n     </g>\n     <g id=\"text_10\">\n      <!-- F171 -->\n      <g transform=\"translate(29.1625 1107.069068)scale(0.1 -0.1)\">\n       <defs>\n        <path d=\"M 525 4666 \nL 3525 4666 \nL 3525 4397 \nL 1831 0 \nL 1172 0 \nL 2766 4134 \nL 525 4134 \nL 525 4666 \nz\n\" id=\"DejaVuSans-37\" transform=\"scale(0.015625)\"/>\n       </defs>\n       <use xlink:href=\"#DejaVuSans-46\"/>\n       <use x=\"57.519531\" xlink:href=\"#DejaVuSans-31\"/>\n       <use x=\"121.142578\" xlink:href=\"#DejaVuSans-37\"/>\n       <use x=\"184.765625\" xlink:href=\"#DejaVuSans-31\"/>\n      </g>\n     </g>\n    </g>\n    <g id=\"ytick_3\">\n     <g id=\"line2d_11\">\n      <g>\n       <use style=\"stroke:#000000;stroke-width:0.8;\" x=\"61.001562\" xlink:href=\"#m86e9d2eb80\" y=\"1100.145711\"/>\n      </g>\n     </g>\n     <g id=\"text_11\">\n      <!-- F174 -->\n      <g transform=\"translate(29.1625 1103.94493)scale(0.1 -0.1)\">\n       <defs>\n        <path d=\"M 2419 4116 \nL 825 1625 \nL 2419 1625 \nL 2419 4116 \nz\nM 2253 4666 \nL 3047 4666 \nL 3047 1625 \nL 3713 1625 \nL 3713 1100 \nL 3047 1100 \nL 3047 0 \nL 2419 0 \nL 2419 1100 \nL 313 1100 \nL 313 1709 \nL 2253 4666 \nz\n\" id=\"DejaVuSans-34\" transform=\"scale(0.015625)\"/>\n       </defs>\n       <use xlink:href=\"#DejaVuSans-46\"/>\n       <use x=\"57.519531\" xlink:href=\"#DejaVuSans-31\"/>\n       <use x=\"121.142578\" xlink:href=\"#DejaVuSans-37\"/>\n       <use x=\"184.765625\" xlink:href=\"#DejaVuSans-34\"/>\n      </g>\n     </g>\n    </g>\n    <g id=\"ytick_4\">\n     <g id=\"line2d_12\">\n      <g>\n       <use style=\"stroke:#000000;stroke-width:0.8;\" x=\"61.001562\" xlink:href=\"#m86e9d2eb80\" y=\"1097.021573\"/>\n      </g>\n     </g>\n     <g id=\"text_12\">\n      <!-- F177 -->\n      <g transform=\"translate(29.1625 1100.820792)scale(0.1 -0.1)\">\n       <use xlink:href=\"#DejaVuSans-46\"/>\n       <use x=\"57.519531\" xlink:href=\"#DejaVuSans-31\"/>\n       <use x=\"121.142578\" xlink:href=\"#DejaVuSans-37\"/>\n       <use x=\"184.765625\" xlink:href=\"#DejaVuSans-37\"/>\n      </g>\n     </g>\n    </g>\n    <g id=\"ytick_5\">\n     <g id=\"line2d_13\">\n      <g>\n       <use style=\"stroke:#000000;stroke-width:0.8;\" x=\"61.001562\" xlink:href=\"#m86e9d2eb80\" y=\"1093.897435\"/>\n      </g>\n     </g>\n     <g id=\"text_13\">\n      <!-- F179 -->\n      <g transform=\"translate(29.1625 1097.696654)scale(0.1 -0.1)\">\n       <defs>\n        <path d=\"M 703 97 \nL 703 672 \nQ 941 559 1184 500 \nQ 1428 441 1663 441 \nQ 2288 441 2617 861 \nQ 2947 1281 2994 2138 \nQ 2813 1869 2534 1725 \nQ 2256 1581 1919 1581 \nQ 1219 1581 811 2004 \nQ 403 2428 403 3163 \nQ 403 3881 828 4315 \nQ 1253 4750 1959 4750 \nQ 2769 4750 3195 4129 \nQ 3622 3509 3622 2328 \nQ 3622 1225 3098 567 \nQ 2575 -91 1691 -91 \nQ 1453 -91 1209 -44 \nQ 966 3 703 97 \nz\nM 1959 2075 \nQ 2384 2075 2632 2365 \nQ 2881 2656 2881 3163 \nQ 2881 3666 2632 3958 \nQ 2384 4250 1959 4250 \nQ 1534 4250 1286 3958 \nQ 1038 3666 1038 3163 \nQ 1038 2656 1286 2365 \nQ 1534 2075 1959 2075 \nz\n\" id=\"DejaVuSans-39\" transform=\"scale(0.015625)\"/>\n       </defs>\n       <use xlink:href=\"#DejaVuSans-46\"/>\n       <use x=\"57.519531\" xlink:href=\"#DejaVuSans-31\"/>\n       <use x=\"121.142578\" xlink:href=\"#DejaVuSans-37\"/>\n       <use x=\"184.765625\" xlink:href=\"#DejaVuSans-39\"/>\n      </g>\n     </g>\n    </g>\n    <g id=\"ytick_6\">\n     <g id=\"line2d_14\">\n      <g>\n       <use style=\"stroke:#000000;stroke-width:0.8;\" x=\"61.001562\" xlink:href=\"#m86e9d2eb80\" y=\"1090.773297\"/>\n      </g>\n     </g>\n     <g id=\"text_14\">\n      <!-- F182 -->\n      <g transform=\"translate(29.1625 1094.572516)scale(0.1 -0.1)\">\n       <defs>\n        <path d=\"M 2034 2216 \nQ 1584 2216 1326 1975 \nQ 1069 1734 1069 1313 \nQ 1069 891 1326 650 \nQ 1584 409 2034 409 \nQ 2484 409 2743 651 \nQ 3003 894 3003 1313 \nQ 3003 1734 2745 1975 \nQ 2488 2216 2034 2216 \nz\nM 1403 2484 \nQ 997 2584 770 2862 \nQ 544 3141 544 3541 \nQ 544 4100 942 4425 \nQ 1341 4750 2034 4750 \nQ 2731 4750 3128 4425 \nQ 3525 4100 3525 3541 \nQ 3525 3141 3298 2862 \nQ 3072 2584 2669 2484 \nQ 3125 2378 3379 2068 \nQ 3634 1759 3634 1313 \nQ 3634 634 3220 271 \nQ 2806 -91 2034 -91 \nQ 1263 -91 848 271 \nQ 434 634 434 1313 \nQ 434 1759 690 2068 \nQ 947 2378 1403 2484 \nz\nM 1172 3481 \nQ 1172 3119 1398 2916 \nQ 1625 2713 2034 2713 \nQ 2441 2713 2670 2916 \nQ 2900 3119 2900 3481 \nQ 2900 3844 2670 4047 \nQ 2441 4250 2034 4250 \nQ 1625 4250 1398 4047 \nQ 1172 3844 1172 3481 \nz\n\" id=\"DejaVuSans-38\" transform=\"scale(0.015625)\"/>\n       </defs>\n       <use xlink:href=\"#DejaVuSans-46\"/>\n       <use x=\"57.519531\" xlink:href=\"#DejaVuSans-31\"/>\n       <use x=\"121.142578\" xlink:href=\"#DejaVuSans-38\"/>\n       <use x=\"184.765625\" xlink:href=\"#DejaVuSans-32\"/>\n      </g>\n     </g>\n    </g>\n    <g id=\"ytick_7\">\n     <g id=\"line2d_15\">\n      <g>\n       <use style=\"stroke:#000000;stroke-width:0.8;\" x=\"61.001562\" xlink:href=\"#m86e9d2eb80\" y=\"1087.649159\"/>\n      </g>\n     </g>\n     <g id=\"text_15\">\n      <!-- F183 -->\n      <g transform=\"translate(29.1625 1091.448378)scale(0.1 -0.1)\">\n       <use xlink:href=\"#DejaVuSans-46\"/>\n       <use x=\"57.519531\" xlink:href=\"#DejaVuSans-31\"/>\n       <use x=\"121.142578\" xlink:href=\"#DejaVuSans-38\"/>\n       <use x=\"184.765625\" xlink:href=\"#DejaVuSans-33\"/>\n      </g>\n     </g>\n    </g>\n    <g id=\"ytick_8\">\n     <g id=\"line2d_16\">\n      <g>\n       <use style=\"stroke:#000000;stroke-width:0.8;\" x=\"61.001562\" xlink:href=\"#m86e9d2eb80\" y=\"1084.525022\"/>\n      </g>\n     </g>\n     <g id=\"text_16\">\n      <!-- F170 -->\n      <g transform=\"translate(29.1625 1088.32424)scale(0.1 -0.1)\">\n       <use xlink:href=\"#DejaVuSans-46\"/>\n       <use x=\"57.519531\" xlink:href=\"#DejaVuSans-31\"/>\n       <use x=\"121.142578\" xlink:href=\"#DejaVuSans-37\"/>\n       <use x=\"184.765625\" xlink:href=\"#DejaVuSans-30\"/>\n      </g>\n     </g>\n    </g>\n    <g id=\"ytick_9\">\n     <g id=\"line2d_17\">\n      <g>\n       <use style=\"stroke:#000000;stroke-width:0.8;\" x=\"61.001562\" xlink:href=\"#m86e9d2eb80\" y=\"1081.400884\"/>\n      </g>\n     </g>\n     <g id=\"text_17\">\n      <!-- F184 -->\n      <g transform=\"translate(29.1625 1085.200102)scale(0.1 -0.1)\">\n       <use xlink:href=\"#DejaVuSans-46\"/>\n       <use x=\"57.519531\" xlink:href=\"#DejaVuSans-31\"/>\n       <use x=\"121.142578\" xlink:href=\"#DejaVuSans-38\"/>\n       <use x=\"184.765625\" xlink:href=\"#DejaVuSans-34\"/>\n      </g>\n     </g>\n    </g>\n    <g id=\"ytick_10\">\n     <g id=\"line2d_18\">\n      <g>\n       <use style=\"stroke:#000000;stroke-width:0.8;\" x=\"61.001562\" xlink:href=\"#m86e9d2eb80\" y=\"1078.276746\"/>\n      </g>\n     </g>\n     <g id=\"text_18\">\n      <!-- F195 -->\n      <g transform=\"translate(29.1625 1082.075964)scale(0.1 -0.1)\">\n       <use xlink:href=\"#DejaVuSans-46\"/>\n       <use x=\"57.519531\" xlink:href=\"#DejaVuSans-31\"/>\n       <use x=\"121.142578\" xlink:href=\"#DejaVuSans-39\"/>\n       <use x=\"184.765625\" xlink:href=\"#DejaVuSans-35\"/>\n      </g>\n     </g>\n    </g>\n    <g id=\"ytick_11\">\n     <g id=\"line2d_19\">\n      <g>\n       <use style=\"stroke:#000000;stroke-width:0.8;\" x=\"61.001562\" xlink:href=\"#m86e9d2eb80\" y=\"1075.152608\"/>\n      </g>\n     </g>\n     <g id=\"text_19\">\n      <!-- F201 -->\n      <g transform=\"translate(29.1625 1078.951827)scale(0.1 -0.1)\">\n       <use xlink:href=\"#DejaVuSans-46\"/>\n       <use x=\"57.519531\" xlink:href=\"#DejaVuSans-32\"/>\n       <use x=\"121.142578\" xlink:href=\"#DejaVuSans-30\"/>\n       <use x=\"184.765625\" xlink:href=\"#DejaVuSans-31\"/>\n      </g>\n     </g>\n    </g>\n    <g id=\"ytick_12\">\n     <g id=\"line2d_20\">\n      <g>\n       <use style=\"stroke:#000000;stroke-width:0.8;\" x=\"61.001562\" xlink:href=\"#m86e9d2eb80\" y=\"1072.02847\"/>\n      </g>\n     </g>\n     <g id=\"text_20\">\n      <!-- F202 -->\n      <g transform=\"translate(29.1625 1075.827689)scale(0.1 -0.1)\">\n       <use xlink:href=\"#DejaVuSans-46\"/>\n       <use x=\"57.519531\" xlink:href=\"#DejaVuSans-32\"/>\n       <use x=\"121.142578\" xlink:href=\"#DejaVuSans-30\"/>\n       <use x=\"184.765625\" xlink:href=\"#DejaVuSans-32\"/>\n      </g>\n     </g>\n    </g>\n    <g id=\"ytick_13\">\n     <g id=\"line2d_21\">\n      <g>\n       <use style=\"stroke:#000000;stroke-width:0.8;\" x=\"61.001562\" xlink:href=\"#m86e9d2eb80\" y=\"1068.904332\"/>\n      </g>\n     </g>\n     <g id=\"text_21\">\n      <!-- F203 -->\n      <g transform=\"translate(29.1625 1072.703551)scale(0.1 -0.1)\">\n       <use xlink:href=\"#DejaVuSans-46\"/>\n       <use x=\"57.519531\" xlink:href=\"#DejaVuSans-32\"/>\n       <use x=\"121.142578\" xlink:href=\"#DejaVuSans-30\"/>\n       <use x=\"184.765625\" xlink:href=\"#DejaVuSans-33\"/>\n      </g>\n     </g>\n    </g>\n    <g id=\"ytick_14\">\n     <g id=\"line2d_22\">\n      <g>\n       <use style=\"stroke:#000000;stroke-width:0.8;\" x=\"61.001562\" xlink:href=\"#m86e9d2eb80\" y=\"1065.780194\"/>\n      </g>\n     </g>\n     <g id=\"text_22\">\n      <!-- F204 -->\n      <g transform=\"translate(29.1625 1069.579413)scale(0.1 -0.1)\">\n       <use xlink:href=\"#DejaVuSans-46\"/>\n       <use x=\"57.519531\" xlink:href=\"#DejaVuSans-32\"/>\n       <use x=\"121.142578\" xlink:href=\"#DejaVuSans-30\"/>\n       <use x=\"184.765625\" xlink:href=\"#DejaVuSans-34\"/>\n      </g>\n     </g>\n    </g>\n    <g id=\"ytick_15\">\n     <g id=\"line2d_23\">\n      <g>\n       <use style=\"stroke:#000000;stroke-width:0.8;\" x=\"61.001562\" xlink:href=\"#m86e9d2eb80\" y=\"1062.656056\"/>\n      </g>\n     </g>\n     <g id=\"text_23\">\n      <!-- F212 -->\n      <g transform=\"translate(29.1625 1066.455275)scale(0.1 -0.1)\">\n       <use xlink:href=\"#DejaVuSans-46\"/>\n       <use x=\"57.519531\" xlink:href=\"#DejaVuSans-32\"/>\n       <use x=\"121.142578\" xlink:href=\"#DejaVuSans-31\"/>\n       <use x=\"184.765625\" xlink:href=\"#DejaVuSans-32\"/>\n      </g>\n     </g>\n    </g>\n    <g id=\"ytick_16\">\n     <g id=\"line2d_24\">\n      <g>\n       <use style=\"stroke:#000000;stroke-width:0.8;\" x=\"61.001562\" xlink:href=\"#m86e9d2eb80\" y=\"1059.531918\"/>\n      </g>\n     </g>\n     <g id=\"text_24\">\n      <!-- F186 -->\n      <g transform=\"translate(29.1625 1063.331137)scale(0.1 -0.1)\">\n       <defs>\n        <path d=\"M 2113 2584 \nQ 1688 2584 1439 2293 \nQ 1191 2003 1191 1497 \nQ 1191 994 1439 701 \nQ 1688 409 2113 409 \nQ 2538 409 2786 701 \nQ 3034 994 3034 1497 \nQ 3034 2003 2786 2293 \nQ 2538 2584 2113 2584 \nz\nM 3366 4563 \nL 3366 3988 \nQ 3128 4100 2886 4159 \nQ 2644 4219 2406 4219 \nQ 1781 4219 1451 3797 \nQ 1122 3375 1075 2522 \nQ 1259 2794 1537 2939 \nQ 1816 3084 2150 3084 \nQ 2853 3084 3261 2657 \nQ 3669 2231 3669 1497 \nQ 3669 778 3244 343 \nQ 2819 -91 2113 -91 \nQ 1303 -91 875 529 \nQ 447 1150 447 2328 \nQ 447 3434 972 4092 \nQ 1497 4750 2381 4750 \nQ 2619 4750 2861 4703 \nQ 3103 4656 3366 4563 \nz\n\" id=\"DejaVuSans-36\" transform=\"scale(0.015625)\"/>\n       </defs>\n       <use xlink:href=\"#DejaVuSans-46\"/>\n       <use x=\"57.519531\" xlink:href=\"#DejaVuSans-31\"/>\n       <use x=\"121.142578\" xlink:href=\"#DejaVuSans-38\"/>\n       <use x=\"184.765625\" xlink:href=\"#DejaVuSans-36\"/>\n      </g>\n     </g>\n    </g>\n    <g id=\"ytick_17\">\n     <g id=\"line2d_25\">\n      <g>\n       <use style=\"stroke:#000000;stroke-width:0.8;\" x=\"61.001562\" xlink:href=\"#m86e9d2eb80\" y=\"1056.40778\"/>\n      </g>\n     </g>\n     <g id=\"text_25\">\n      <!-- F168 -->\n      <g transform=\"translate(29.1625 1060.206999)scale(0.1 -0.1)\">\n       <use xlink:href=\"#DejaVuSans-46\"/>\n       <use x=\"57.519531\" xlink:href=\"#DejaVuSans-31\"/>\n       <use x=\"121.142578\" xlink:href=\"#DejaVuSans-36\"/>\n       <use x=\"184.765625\" xlink:href=\"#DejaVuSans-38\"/>\n      </g>\n     </g>\n    </g>\n    <g id=\"ytick_18\">\n     <g id=\"line2d_26\">\n      <g>\n       <use style=\"stroke:#000000;stroke-width:0.8;\" x=\"61.001562\" xlink:href=\"#m86e9d2eb80\" y=\"1053.283642\"/>\n      </g>\n     </g>\n     <g id=\"text_26\">\n      <!-- WD_F17 -->\n      <g transform=\"translate(12.9375 1056.943798)scale(0.1 -0.1)\">\n       <defs>\n        <path d=\"M 213 4666 \nL 850 4666 \nL 1831 722 \nL 2809 4666 \nL 3519 4666 \nL 4500 722 \nL 5478 4666 \nL 6119 4666 \nL 4947 0 \nL 4153 0 \nL 3169 4050 \nL 2175 0 \nL 1381 0 \nL 213 4666 \nz\n\" id=\"DejaVuSans-57\" transform=\"scale(0.015625)\"/>\n        <path d=\"M 1259 4147 \nL 1259 519 \nL 2022 519 \nQ 2988 519 3436 956 \nQ 3884 1394 3884 2338 \nQ 3884 3275 3436 3711 \nQ 2988 4147 2022 4147 \nL 1259 4147 \nz\nM 628 4666 \nL 1925 4666 \nQ 3281 4666 3915 4102 \nQ 4550 3538 4550 2338 \nQ 4550 1131 3912 565 \nQ 3275 0 1925 0 \nL 628 0 \nL 628 4666 \nz\n\" id=\"DejaVuSans-44\" transform=\"scale(0.015625)\"/>\n       </defs>\n       <use xlink:href=\"#DejaVuSans-57\"/>\n       <use x=\"98.876953\" xlink:href=\"#DejaVuSans-44\"/>\n       <use x=\"175.878906\" xlink:href=\"#DejaVuSans-5f\"/>\n       <use x=\"225.878906\" xlink:href=\"#DejaVuSans-46\"/>\n       <use x=\"283.398438\" xlink:href=\"#DejaVuSans-31\"/>\n       <use x=\"347.021484\" xlink:href=\"#DejaVuSans-37\"/>\n      </g>\n     </g>\n    </g>\n    <g id=\"ytick_19\">\n     <g id=\"line2d_27\">\n      <g>\n       <use style=\"stroke:#000000;stroke-width:0.8;\" x=\"61.001562\" xlink:href=\"#m86e9d2eb80\" y=\"1050.159504\"/>\n      </g>\n     </g>\n     <g id=\"text_27\">\n      <!-- F161 -->\n      <g transform=\"translate(29.1625 1053.958723)scale(0.1 -0.1)\">\n       <use xlink:href=\"#DejaVuSans-46\"/>\n       <use x=\"57.519531\" xlink:href=\"#DejaVuSans-31\"/>\n       <use x=\"121.142578\" xlink:href=\"#DejaVuSans-36\"/>\n       <use x=\"184.765625\" xlink:href=\"#DejaVuSans-31\"/>\n      </g>\n     </g>\n    </g>\n    <g id=\"ytick_20\">\n     <g id=\"line2d_28\">\n      <g>\n       <use style=\"stroke:#000000;stroke-width:0.8;\" x=\"61.001562\" xlink:href=\"#m86e9d2eb80\" y=\"1047.035366\"/>\n      </g>\n     </g>\n     <g id=\"text_28\">\n      <!-- F75 -->\n      <g transform=\"translate(35.525 1050.834585)scale(0.1 -0.1)\">\n       <use xlink:href=\"#DejaVuSans-46\"/>\n       <use x=\"57.519531\" xlink:href=\"#DejaVuSans-37\"/>\n       <use x=\"121.142578\" xlink:href=\"#DejaVuSans-35\"/>\n      </g>\n     </g>\n    </g>\n    <g id=\"ytick_21\">\n     <g id=\"line2d_29\">\n      <g>\n       <use style=\"stroke:#000000;stroke-width:0.8;\" x=\"61.001562\" xlink:href=\"#m86e9d2eb80\" y=\"1043.911228\"/>\n      </g>\n     </g>\n     <g id=\"text_29\">\n      <!-- F76 -->\n      <g transform=\"translate(35.525 1047.710447)scale(0.1 -0.1)\">\n       <use xlink:href=\"#DejaVuSans-46\"/>\n       <use x=\"57.519531\" xlink:href=\"#DejaVuSans-37\"/>\n       <use x=\"121.142578\" xlink:href=\"#DejaVuSans-36\"/>\n      </g>\n     </g>\n    </g>\n    <g id=\"ytick_22\">\n     <g id=\"line2d_30\">\n      <g>\n       <use style=\"stroke:#000000;stroke-width:0.8;\" x=\"61.001562\" xlink:href=\"#m86e9d2eb80\" y=\"1040.787091\"/>\n      </g>\n     </g>\n     <g id=\"text_30\">\n      <!-- F85 -->\n      <g transform=\"translate(35.525 1044.586309)scale(0.1 -0.1)\">\n       <use xlink:href=\"#DejaVuSans-46\"/>\n       <use x=\"57.519531\" xlink:href=\"#DejaVuSans-38\"/>\n       <use x=\"121.142578\" xlink:href=\"#DejaVuSans-35\"/>\n      </g>\n     </g>\n    </g>\n    <g id=\"ytick_23\">\n     <g id=\"line2d_31\">\n      <g>\n       <use style=\"stroke:#000000;stroke-width:0.8;\" x=\"61.001562\" xlink:href=\"#m86e9d2eb80\" y=\"1037.662953\"/>\n      </g>\n     </g>\n     <g id=\"text_31\">\n      <!-- F91 -->\n      <g transform=\"translate(35.525 1041.462171)scale(0.1 -0.1)\">\n       <use xlink:href=\"#DejaVuSans-46\"/>\n       <use x=\"57.519531\" xlink:href=\"#DejaVuSans-39\"/>\n       <use x=\"121.142578\" xlink:href=\"#DejaVuSans-31\"/>\n      </g>\n     </g>\n    </g>\n    <g id=\"ytick_24\">\n     <g id=\"line2d_32\">\n      <g>\n       <use style=\"stroke:#000000;stroke-width:0.8;\" x=\"61.001562\" xlink:href=\"#m86e9d2eb80\" y=\"1034.538815\"/>\n      </g>\n     </g>\n     <g id=\"text_32\">\n      <!-- F92 -->\n      <g transform=\"translate(35.525 1038.338033)scale(0.1 -0.1)\">\n       <use xlink:href=\"#DejaVuSans-46\"/>\n       <use x=\"57.519531\" xlink:href=\"#DejaVuSans-39\"/>\n       <use x=\"121.142578\" xlink:href=\"#DejaVuSans-32\"/>\n      </g>\n     </g>\n    </g>\n    <g id=\"ytick_25\">\n     <g id=\"line2d_33\">\n      <g>\n       <use style=\"stroke:#000000;stroke-width:0.8;\" x=\"61.001562\" xlink:href=\"#m86e9d2eb80\" y=\"1031.414677\"/>\n      </g>\n     </g>\n     <g id=\"text_33\">\n      <!-- F108 -->\n      <g transform=\"translate(29.1625 1035.213895)scale(0.1 -0.1)\">\n       <use xlink:href=\"#DejaVuSans-46\"/>\n       <use x=\"57.519531\" xlink:href=\"#DejaVuSans-31\"/>\n       <use x=\"121.142578\" xlink:href=\"#DejaVuSans-30\"/>\n       <use x=\"184.765625\" xlink:href=\"#DejaVuSans-38\"/>\n      </g>\n     </g>\n    </g>\n    <g id=\"ytick_26\">\n     <g id=\"line2d_34\">\n      <g>\n       <use style=\"stroke:#000000;stroke-width:0.8;\" x=\"61.001562\" xlink:href=\"#m86e9d2eb80\" y=\"1028.290539\"/>\n      </g>\n     </g>\n     <g id=\"text_34\">\n      <!-- F109 -->\n      <g transform=\"translate(29.1625 1032.089758)scale(0.1 -0.1)\">\n       <use xlink:href=\"#DejaVuSans-46\"/>\n       <use x=\"57.519531\" xlink:href=\"#DejaVuSans-31\"/>\n       <use x=\"121.142578\" xlink:href=\"#DejaVuSans-30\"/>\n       <use x=\"184.765625\" xlink:href=\"#DejaVuSans-39\"/>\n      </g>\n     </g>\n    </g>\n    <g id=\"ytick_27\">\n     <g id=\"line2d_35\">\n      <g>\n       <use style=\"stroke:#000000;stroke-width:0.8;\" x=\"61.001562\" xlink:href=\"#m86e9d2eb80\" y=\"1025.166401\"/>\n      </g>\n     </g>\n     <g id=\"text_35\">\n      <!-- F116 -->\n      <g transform=\"translate(29.1625 1028.96562)scale(0.1 -0.1)\">\n       <use xlink:href=\"#DejaVuSans-46\"/>\n       <use x=\"57.519531\" xlink:href=\"#DejaVuSans-31\"/>\n       <use x=\"121.142578\" xlink:href=\"#DejaVuSans-31\"/>\n       <use x=\"184.765625\" xlink:href=\"#DejaVuSans-36\"/>\n      </g>\n     </g>\n    </g>\n    <g id=\"ytick_28\">\n     <g id=\"line2d_36\">\n      <g>\n       <use style=\"stroke:#000000;stroke-width:0.8;\" x=\"61.001562\" xlink:href=\"#m86e9d2eb80\" y=\"1022.042263\"/>\n      </g>\n     </g>\n     <g id=\"text_36\">\n      <!-- F118 -->\n      <g transform=\"translate(29.1625 1025.841482)scale(0.1 -0.1)\">\n       <use xlink:href=\"#DejaVuSans-46\"/>\n       <use x=\"57.519531\" xlink:href=\"#DejaVuSans-31\"/>\n       <use x=\"121.142578\" xlink:href=\"#DejaVuSans-31\"/>\n       <use x=\"184.765625\" xlink:href=\"#DejaVuSans-38\"/>\n      </g>\n     </g>\n    </g>\n    <g id=\"ytick_29\">\n     <g id=\"line2d_37\">\n      <g>\n       <use style=\"stroke:#000000;stroke-width:0.8;\" x=\"61.001562\" xlink:href=\"#m86e9d2eb80\" y=\"1018.918125\"/>\n      </g>\n     </g>\n     <g id=\"text_37\">\n      <!-- F121 -->\n      <g transform=\"translate(29.1625 1022.717344)scale(0.1 -0.1)\">\n       <use xlink:href=\"#DejaVuSans-46\"/>\n       <use x=\"57.519531\" xlink:href=\"#DejaVuSans-31\"/>\n       <use x=\"121.142578\" xlink:href=\"#DejaVuSans-32\"/>\n       <use x=\"184.765625\" xlink:href=\"#DejaVuSans-31\"/>\n      </g>\n     </g>\n    </g>\n    <g id=\"ytick_30\">\n     <g id=\"line2d_38\">\n      <g>\n       <use style=\"stroke:#000000;stroke-width:0.8;\" x=\"61.001562\" xlink:href=\"#m86e9d2eb80\" y=\"1015.793987\"/>\n      </g>\n     </g>\n     <g id=\"text_38\">\n      <!-- F128 -->\n      <g transform=\"translate(29.1625 1019.593206)scale(0.1 -0.1)\">\n       <use xlink:href=\"#DejaVuSans-46\"/>\n       <use x=\"57.519531\" xlink:href=\"#DejaVuSans-31\"/>\n       <use x=\"121.142578\" xlink:href=\"#DejaVuSans-32\"/>\n       <use x=\"184.765625\" xlink:href=\"#DejaVuSans-38\"/>\n      </g>\n     </g>\n    </g>\n    <g id=\"ytick_31\">\n     <g id=\"line2d_39\">\n      <g>\n       <use style=\"stroke:#000000;stroke-width:0.8;\" x=\"61.001562\" xlink:href=\"#m86e9d2eb80\" y=\"1012.669849\"/>\n      </g>\n     </g>\n     <g id=\"text_39\">\n      <!-- F138 -->\n      <g transform=\"translate(29.1625 1016.469068)scale(0.1 -0.1)\">\n       <use xlink:href=\"#DejaVuSans-46\"/>\n       <use x=\"57.519531\" xlink:href=\"#DejaVuSans-31\"/>\n       <use x=\"121.142578\" xlink:href=\"#DejaVuSans-33\"/>\n       <use x=\"184.765625\" xlink:href=\"#DejaVuSans-38\"/>\n      </g>\n     </g>\n    </g>\n    <g id=\"ytick_32\">\n     <g id=\"line2d_40\">\n      <g>\n       <use style=\"stroke:#000000;stroke-width:0.8;\" x=\"61.001562\" xlink:href=\"#m86e9d2eb80\" y=\"1009.545711\"/>\n      </g>\n     </g>\n     <g id=\"text_40\">\n      <!-- F141 -->\n      <g transform=\"translate(29.1625 1013.34493)scale(0.1 -0.1)\">\n       <use xlink:href=\"#DejaVuSans-46\"/>\n       <use x=\"57.519531\" xlink:href=\"#DejaVuSans-31\"/>\n       <use x=\"121.142578\" xlink:href=\"#DejaVuSans-34\"/>\n       <use x=\"184.765625\" xlink:href=\"#DejaVuSans-31\"/>\n      </g>\n     </g>\n    </g>\n    <g id=\"ytick_33\">\n     <g id=\"line2d_41\">\n      <g>\n       <use style=\"stroke:#000000;stroke-width:0.8;\" x=\"61.001562\" xlink:href=\"#m86e9d2eb80\" y=\"1006.421573\"/>\n      </g>\n     </g>\n     <g id=\"text_41\">\n      <!-- F145 -->\n      <g transform=\"translate(29.1625 1010.220792)scale(0.1 -0.1)\">\n       <use xlink:href=\"#DejaVuSans-46\"/>\n       <use x=\"57.519531\" xlink:href=\"#DejaVuSans-31\"/>\n       <use x=\"121.142578\" xlink:href=\"#DejaVuSans-34\"/>\n       <use x=\"184.765625\" xlink:href=\"#DejaVuSans-35\"/>\n      </g>\n     </g>\n    </g>\n    <g id=\"ytick_34\">\n     <g id=\"line2d_42\">\n      <g>\n       <use style=\"stroke:#000000;stroke-width:0.8;\" x=\"61.001562\" xlink:href=\"#m86e9d2eb80\" y=\"1003.297435\"/>\n      </g>\n     </g>\n     <g id=\"text_42\">\n      <!-- F156 -->\n      <g transform=\"translate(29.1625 1007.096654)scale(0.1 -0.1)\">\n       <use xlink:href=\"#DejaVuSans-46\"/>\n       <use x=\"57.519531\" xlink:href=\"#DejaVuSans-31\"/>\n       <use x=\"121.142578\" xlink:href=\"#DejaVuSans-35\"/>\n       <use x=\"184.765625\" xlink:href=\"#DejaVuSans-36\"/>\n      </g>\n     </g>\n    </g>\n    <g id=\"ytick_35\">\n     <g id=\"line2d_43\">\n      <g>\n       <use style=\"stroke:#000000;stroke-width:0.8;\" x=\"61.001562\" xlink:href=\"#m86e9d2eb80\" y=\"1000.173297\"/>\n      </g>\n     </g>\n     <g id=\"text_43\">\n      <!-- F216 -->\n      <g transform=\"translate(29.1625 1003.972516)scale(0.1 -0.1)\">\n       <use xlink:href=\"#DejaVuSans-46\"/>\n       <use x=\"57.519531\" xlink:href=\"#DejaVuSans-32\"/>\n       <use x=\"121.142578\" xlink:href=\"#DejaVuSans-31\"/>\n       <use x=\"184.765625\" xlink:href=\"#DejaVuSans-36\"/>\n      </g>\n     </g>\n    </g>\n    <g id=\"ytick_36\">\n     <g id=\"line2d_44\">\n      <g>\n       <use style=\"stroke:#000000;stroke-width:0.8;\" x=\"61.001562\" xlink:href=\"#m86e9d2eb80\" y=\"997.049159\"/>\n      </g>\n     </g>\n     <g id=\"text_44\">\n      <!-- F73 -->\n      <g transform=\"translate(35.525 1000.848378)scale(0.1 -0.1)\">\n       <use xlink:href=\"#DejaVuSans-46\"/>\n       <use x=\"57.519531\" xlink:href=\"#DejaVuSans-37\"/>\n       <use x=\"121.142578\" xlink:href=\"#DejaVuSans-33\"/>\n      </g>\n     </g>\n    </g>\n    <g id=\"ytick_37\">\n     <g id=\"line2d_45\">\n      <g>\n       <use style=\"stroke:#000000;stroke-width:0.8;\" x=\"61.001562\" xlink:href=\"#m86e9d2eb80\" y=\"993.925022\"/>\n      </g>\n     </g>\n     <g id=\"text_45\">\n      <!-- F219 -->\n      <g transform=\"translate(29.1625 997.72424)scale(0.1 -0.1)\">\n       <use xlink:href=\"#DejaVuSans-46\"/>\n       <use x=\"57.519531\" xlink:href=\"#DejaVuSans-32\"/>\n       <use x=\"121.142578\" xlink:href=\"#DejaVuSans-31\"/>\n       <use x=\"184.765625\" xlink:href=\"#DejaVuSans-39\"/>\n      </g>\n     </g>\n    </g>\n    <g id=\"ytick_38\">\n     <g id=\"line2d_46\">\n      <g>\n       <use style=\"stroke:#000000;stroke-width:0.8;\" x=\"61.001562\" xlink:href=\"#m86e9d2eb80\" y=\"990.800884\"/>\n      </g>\n     </g>\n     <g id=\"text_46\">\n      <!-- F222 -->\n      <g transform=\"translate(29.1625 994.600102)scale(0.1 -0.1)\">\n       <use xlink:href=\"#DejaVuSans-46\"/>\n       <use x=\"57.519531\" xlink:href=\"#DejaVuSans-32\"/>\n       <use x=\"121.142578\" xlink:href=\"#DejaVuSans-32\"/>\n       <use x=\"184.765625\" xlink:href=\"#DejaVuSans-32\"/>\n      </g>\n     </g>\n    </g>\n    <g id=\"ytick_39\">\n     <g id=\"line2d_47\">\n      <g>\n       <use style=\"stroke:#000000;stroke-width:0.8;\" x=\"61.001562\" xlink:href=\"#m86e9d2eb80\" y=\"987.676746\"/>\n      </g>\n     </g>\n     <g id=\"text_47\">\n      <!-- PSY_F47 -->\n      <g transform=\"translate(12.039062 991.387683)scale(0.1 -0.1)\">\n       <defs>\n        <path d=\"M 1259 4147 \nL 1259 2394 \nL 2053 2394 \nQ 2494 2394 2734 2622 \nQ 2975 2850 2975 3272 \nQ 2975 3691 2734 3919 \nQ 2494 4147 2053 4147 \nL 1259 4147 \nz\nM 628 4666 \nL 2053 4666 \nQ 2838 4666 3239 4311 \nQ 3641 3956 3641 3272 \nQ 3641 2581 3239 2228 \nQ 2838 1875 2053 1875 \nL 1259 1875 \nL 1259 0 \nL 628 0 \nL 628 4666 \nz\n\" id=\"DejaVuSans-50\" transform=\"scale(0.015625)\"/>\n        <path d=\"M 3425 4513 \nL 3425 3897 \nQ 3066 4069 2747 4153 \nQ 2428 4238 2131 4238 \nQ 1616 4238 1336 4038 \nQ 1056 3838 1056 3469 \nQ 1056 3159 1242 3001 \nQ 1428 2844 1947 2747 \nL 2328 2669 \nQ 3034 2534 3370 2195 \nQ 3706 1856 3706 1288 \nQ 3706 609 3251 259 \nQ 2797 -91 1919 -91 \nQ 1588 -91 1214 -16 \nQ 841 59 441 206 \nL 441 856 \nQ 825 641 1194 531 \nQ 1563 422 1919 422 \nQ 2459 422 2753 634 \nQ 3047 847 3047 1241 \nQ 3047 1584 2836 1778 \nQ 2625 1972 2144 2069 \nL 1759 2144 \nQ 1053 2284 737 2584 \nQ 422 2884 422 3419 \nQ 422 4038 858 4394 \nQ 1294 4750 2059 4750 \nQ 2388 4750 2728 4690 \nQ 3069 4631 3425 4513 \nz\n\" id=\"DejaVuSans-53\" transform=\"scale(0.015625)\"/>\n        <path d=\"M -13 4666 \nL 666 4666 \nL 1959 2747 \nL 3244 4666 \nL 3922 4666 \nL 2272 2222 \nL 2272 0 \nL 1638 0 \nL 1638 2222 \nL -13 4666 \nz\n\" id=\"DejaVuSans-59\" transform=\"scale(0.015625)\"/>\n       </defs>\n       <use xlink:href=\"#DejaVuSans-50\"/>\n       <use x=\"60.302734\" xlink:href=\"#DejaVuSans-53\"/>\n       <use x=\"123.779297\" xlink:href=\"#DejaVuSans-59\"/>\n       <use x=\"184.863281\" xlink:href=\"#DejaVuSans-5f\"/>\n       <use x=\"234.863281\" xlink:href=\"#DejaVuSans-46\"/>\n       <use x=\"292.382812\" xlink:href=\"#DejaVuSans-34\"/>\n       <use x=\"356.005859\" xlink:href=\"#DejaVuSans-37\"/>\n      </g>\n     </g>\n    </g>\n    <g id=\"ytick_40\">\n     <g id=\"line2d_48\">\n      <g>\n       <use style=\"stroke:#000000;stroke-width:0.8;\" x=\"61.001562\" xlink:href=\"#m86e9d2eb80\" y=\"984.552608\"/>\n      </g>\n     </g>\n     <g id=\"text_48\">\n      <!-- PSY_F48 -->\n      <g transform=\"translate(12.039062 988.263545)scale(0.1 -0.1)\">\n       <use xlink:href=\"#DejaVuSans-50\"/>\n       <use x=\"60.302734\" xlink:href=\"#DejaVuSans-53\"/>\n       <use x=\"123.779297\" xlink:href=\"#DejaVuSans-59\"/>\n       <use x=\"184.863281\" xlink:href=\"#DejaVuSans-5f\"/>\n       <use x=\"234.863281\" xlink:href=\"#DejaVuSans-46\"/>\n       <use x=\"292.382812\" xlink:href=\"#DejaVuSans-34\"/>\n       <use x=\"356.005859\" xlink:href=\"#DejaVuSans-38\"/>\n      </g>\n     </g>\n    </g>\n    <g id=\"ytick_41\">\n     <g id=\"line2d_49\">\n      <g>\n       <use style=\"stroke:#000000;stroke-width:0.8;\" x=\"61.001562\" xlink:href=\"#m86e9d2eb80\" y=\"981.42847\"/>\n      </g>\n     </g>\n     <g id=\"text_49\">\n      <!-- STR_F26 -->\n      <g transform=\"translate(11.120312 985.139407)scale(0.1 -0.1)\">\n       <defs>\n        <path d=\"M -19 4666 \nL 3928 4666 \nL 3928 4134 \nL 2272 4134 \nL 2272 0 \nL 1638 0 \nL 1638 4134 \nL -19 4134 \nL -19 4666 \nz\n\" id=\"DejaVuSans-54\" transform=\"scale(0.015625)\"/>\n       </defs>\n       <use xlink:href=\"#DejaVuSans-53\"/>\n       <use x=\"63.476562\" xlink:href=\"#DejaVuSans-54\"/>\n       <use x=\"124.560547\" xlink:href=\"#DejaVuSans-52\"/>\n       <use x=\"194.042969\" xlink:href=\"#DejaVuSans-5f\"/>\n       <use x=\"244.042969\" xlink:href=\"#DejaVuSans-46\"/>\n       <use x=\"301.5625\" xlink:href=\"#DejaVuSans-32\"/>\n       <use x=\"365.185547\" xlink:href=\"#DejaVuSans-36\"/>\n      </g>\n     </g>\n    </g>\n    <g id=\"ytick_42\">\n     <g id=\"line2d_50\">\n      <g>\n       <use style=\"stroke:#000000;stroke-width:0.8;\" x=\"61.001562\" xlink:href=\"#m86e9d2eb80\" y=\"978.304332\"/>\n      </g>\n     </g>\n     <g id=\"text_50\">\n      <!-- SYN_F19 -->\n      <g transform=\"translate(10.5875 982.015269)scale(0.1 -0.1)\">\n       <defs>\n        <path d=\"M 628 4666 \nL 1478 4666 \nL 3547 763 \nL 3547 4666 \nL 4159 4666 \nL 4159 0 \nL 3309 0 \nL 1241 3903 \nL 1241 0 \nL 628 0 \nL 628 4666 \nz\n\" id=\"DejaVuSans-4e\" transform=\"scale(0.015625)\"/>\n       </defs>\n       <use xlink:href=\"#DejaVuSans-53\"/>\n       <use x=\"63.476562\" xlink:href=\"#DejaVuSans-59\"/>\n       <use x=\"124.560547\" xlink:href=\"#DejaVuSans-4e\"/>\n       <use x=\"199.365234\" xlink:href=\"#DejaVuSans-5f\"/>\n       <use x=\"249.365234\" xlink:href=\"#DejaVuSans-46\"/>\n       <use x=\"306.884766\" xlink:href=\"#DejaVuSans-31\"/>\n       <use x=\"370.507812\" xlink:href=\"#DejaVuSans-39\"/>\n      </g>\n     </g>\n    </g>\n    <g id=\"ytick_43\">\n     <g id=\"line2d_51\">\n      <g>\n       <use style=\"stroke:#000000;stroke-width:0.8;\" x=\"61.001562\" xlink:href=\"#m86e9d2eb80\" y=\"975.180194\"/>\n      </g>\n     </g>\n     <g id=\"text_51\">\n      <!-- SYN_F21 -->\n      <g transform=\"translate(10.5875 978.891131)scale(0.1 -0.1)\">\n       <use xlink:href=\"#DejaVuSans-53\"/>\n       <use x=\"63.476562\" xlink:href=\"#DejaVuSans-59\"/>\n       <use x=\"124.560547\" xlink:href=\"#DejaVuSans-4e\"/>\n       <use x=\"199.365234\" xlink:href=\"#DejaVuSans-5f\"/>\n       <use x=\"249.365234\" xlink:href=\"#DejaVuSans-46\"/>\n       <use x=\"306.884766\" xlink:href=\"#DejaVuSans-32\"/>\n       <use x=\"370.507812\" xlink:href=\"#DejaVuSans-31\"/>\n      </g>\n     </g>\n    </g>\n    <g id=\"ytick_44\">\n     <g id=\"line2d_52\">\n      <g>\n       <use style=\"stroke:#000000;stroke-width:0.8;\" x=\"61.001562\" xlink:href=\"#m86e9d2eb80\" y=\"972.056056\"/>\n      </g>\n     </g>\n     <g id=\"text_52\">\n      <!-- SYN_F22 -->\n      <g transform=\"translate(10.5875 975.766994)scale(0.1 -0.1)\">\n       <use xlink:href=\"#DejaVuSans-53\"/>\n       <use x=\"63.476562\" xlink:href=\"#DejaVuSans-59\"/>\n       <use x=\"124.560547\" xlink:href=\"#DejaVuSans-4e\"/>\n       <use x=\"199.365234\" xlink:href=\"#DejaVuSans-5f\"/>\n       <use x=\"249.365234\" xlink:href=\"#DejaVuSans-46\"/>\n       <use x=\"306.884766\" xlink:href=\"#DejaVuSans-32\"/>\n       <use x=\"370.507812\" xlink:href=\"#DejaVuSans-32\"/>\n      </g>\n     </g>\n    </g>\n    <g id=\"ytick_45\">\n     <g id=\"line2d_53\">\n      <g>\n       <use style=\"stroke:#000000;stroke-width:0.8;\" x=\"61.001562\" xlink:href=\"#m86e9d2eb80\" y=\"968.931918\"/>\n      </g>\n     </g>\n     <g id=\"text_53\">\n      <!-- PSY_F38 -->\n      <g transform=\"translate(12.039062 972.642856)scale(0.1 -0.1)\">\n       <use xlink:href=\"#DejaVuSans-50\"/>\n       <use x=\"60.302734\" xlink:href=\"#DejaVuSans-53\"/>\n       <use x=\"123.779297\" xlink:href=\"#DejaVuSans-59\"/>\n       <use x=\"184.863281\" xlink:href=\"#DejaVuSans-5f\"/>\n       <use x=\"234.863281\" xlink:href=\"#DejaVuSans-46\"/>\n       <use x=\"292.382812\" xlink:href=\"#DejaVuSans-33\"/>\n       <use x=\"356.005859\" xlink:href=\"#DejaVuSans-38\"/>\n      </g>\n     </g>\n    </g>\n    <g id=\"ytick_46\">\n     <g id=\"line2d_54\">\n      <g>\n       <use style=\"stroke:#000000;stroke-width:0.8;\" x=\"61.001562\" xlink:href=\"#m86e9d2eb80\" y=\"965.80778\"/>\n      </g>\n     </g>\n     <g id=\"text_54\">\n      <!-- SYN_F23 -->\n      <g transform=\"translate(10.5875 969.518718)scale(0.1 -0.1)\">\n       <use xlink:href=\"#DejaVuSans-53\"/>\n       <use x=\"63.476562\" xlink:href=\"#DejaVuSans-59\"/>\n       <use x=\"124.560547\" xlink:href=\"#DejaVuSans-4e\"/>\n       <use x=\"199.365234\" xlink:href=\"#DejaVuSans-5f\"/>\n       <use x=\"249.365234\" xlink:href=\"#DejaVuSans-46\"/>\n       <use x=\"306.884766\" xlink:href=\"#DejaVuSans-32\"/>\n       <use x=\"370.507812\" xlink:href=\"#DejaVuSans-33\"/>\n      </g>\n     </g>\n    </g>\n    <g id=\"ytick_47\">\n     <g id=\"line2d_55\">\n      <g>\n       <use style=\"stroke:#000000;stroke-width:0.8;\" x=\"61.001562\" xlink:href=\"#m86e9d2eb80\" y=\"962.683642\"/>\n      </g>\n     </g>\n     <g id=\"text_55\">\n      <!-- TD_F5 -->\n      <g transform=\"translate(23.079687 966.343798)scale(0.1 -0.1)\">\n       <use xlink:href=\"#DejaVuSans-54\"/>\n       <use x=\"61.083984\" xlink:href=\"#DejaVuSans-44\"/>\n       <use x=\"138.085938\" xlink:href=\"#DejaVuSans-5f\"/>\n       <use x=\"188.085938\" xlink:href=\"#DejaVuSans-46\"/>\n       <use x=\"245.605469\" xlink:href=\"#DejaVuSans-35\"/>\n      </g>\n     </g>\n    </g>\n    <g id=\"ytick_48\">\n     <g id=\"line2d_56\">\n      <g>\n       <use style=\"stroke:#000000;stroke-width:0.8;\" x=\"61.001562\" xlink:href=\"#m86e9d2eb80\" y=\"959.559504\"/>\n      </g>\n     </g>\n     <g id=\"text_56\">\n      <!-- TD_F6 -->\n      <g transform=\"translate(23.079687 963.270442)scale(0.1 -0.1)\">\n       <use xlink:href=\"#DejaVuSans-54\"/>\n       <use x=\"61.083984\" xlink:href=\"#DejaVuSans-44\"/>\n       <use x=\"138.085938\" xlink:href=\"#DejaVuSans-5f\"/>\n       <use x=\"188.085938\" xlink:href=\"#DejaVuSans-46\"/>\n       <use x=\"245.605469\" xlink:href=\"#DejaVuSans-36\"/>\n      </g>\n     </g>\n    </g>\n    <g id=\"ytick_49\">\n     <g id=\"line2d_57\">\n      <g>\n       <use style=\"stroke:#000000;stroke-width:0.8;\" x=\"61.001562\" xlink:href=\"#m86e9d2eb80\" y=\"956.435366\"/>\n      </g>\n     </g>\n     <g id=\"text_57\">\n      <!-- WD_F7 -->\n      <g transform=\"translate(19.3 960.095523)scale(0.1 -0.1)\">\n       <use xlink:href=\"#DejaVuSans-57\"/>\n       <use x=\"98.876953\" xlink:href=\"#DejaVuSans-44\"/>\n       <use x=\"175.878906\" xlink:href=\"#DejaVuSans-5f\"/>\n       <use x=\"225.878906\" xlink:href=\"#DejaVuSans-46\"/>\n       <use x=\"283.398438\" xlink:href=\"#DejaVuSans-37\"/>\n      </g>\n     </g>\n    </g>\n    <g id=\"ytick_50\">\n     <g id=\"line2d_58\">\n      <g>\n       <use style=\"stroke:#000000;stroke-width:0.8;\" x=\"61.001562\" xlink:href=\"#m86e9d2eb80\" y=\"953.311228\"/>\n      </g>\n     </g>\n     <g id=\"text_58\">\n      <!-- WD_F8 -->\n      <g transform=\"translate(19.3 957.022166)scale(0.1 -0.1)\">\n       <use xlink:href=\"#DejaVuSans-57\"/>\n       <use x=\"98.876953\" xlink:href=\"#DejaVuSans-44\"/>\n       <use x=\"175.878906\" xlink:href=\"#DejaVuSans-5f\"/>\n       <use x=\"225.878906\" xlink:href=\"#DejaVuSans-46\"/>\n       <use x=\"283.398438\" xlink:href=\"#DejaVuSans-38\"/>\n      </g>\n     </g>\n    </g>\n    <g id=\"ytick_51\">\n     <g id=\"line2d_59\">\n      <g>\n       <use style=\"stroke:#000000;stroke-width:0.8;\" x=\"61.001562\" xlink:href=\"#m86e9d2eb80\" y=\"950.187091\"/>\n      </g>\n     </g>\n     <g id=\"text_59\">\n      <!-- WD_F11 -->\n      <g transform=\"translate(12.9375 953.847247)scale(0.1 -0.1)\">\n       <use xlink:href=\"#DejaVuSans-57\"/>\n       <use x=\"98.876953\" xlink:href=\"#DejaVuSans-44\"/>\n       <use x=\"175.878906\" xlink:href=\"#DejaVuSans-5f\"/>\n       <use x=\"225.878906\" xlink:href=\"#DejaVuSans-46\"/>\n       <use x=\"283.398438\" xlink:href=\"#DejaVuSans-31\"/>\n       <use x=\"347.021484\" xlink:href=\"#DejaVuSans-31\"/>\n      </g>\n     </g>\n    </g>\n    <g id=\"ytick_52\">\n     <g id=\"line2d_60\">\n      <g>\n       <use style=\"stroke:#000000;stroke-width:0.8;\" x=\"61.001562\" xlink:href=\"#m86e9d2eb80\" y=\"947.062953\"/>\n      </g>\n     </g>\n     <g id=\"text_60\">\n      <!-- WD_F16 -->\n      <g transform=\"translate(12.9375 950.77389)scale(0.1 -0.1)\">\n       <use xlink:href=\"#DejaVuSans-57\"/>\n       <use x=\"98.876953\" xlink:href=\"#DejaVuSans-44\"/>\n       <use x=\"175.878906\" xlink:href=\"#DejaVuSans-5f\"/>\n       <use x=\"225.878906\" xlink:href=\"#DejaVuSans-46\"/>\n       <use x=\"283.398438\" xlink:href=\"#DejaVuSans-31\"/>\n       <use x=\"347.021484\" xlink:href=\"#DejaVuSans-36\"/>\n      </g>\n     </g>\n    </g>\n    <g id=\"ytick_53\">\n     <g id=\"line2d_61\">\n      <g>\n       <use style=\"stroke:#000000;stroke-width:0.8;\" x=\"61.001562\" xlink:href=\"#m86e9d2eb80\" y=\"943.938815\"/>\n      </g>\n     </g>\n     <g id=\"text_61\">\n      <!-- SYN_F24 -->\n      <g transform=\"translate(10.5875 947.649752)scale(0.1 -0.1)\">\n       <use xlink:href=\"#DejaVuSans-53\"/>\n       <use x=\"63.476562\" xlink:href=\"#DejaVuSans-59\"/>\n       <use x=\"124.560547\" xlink:href=\"#DejaVuSans-4e\"/>\n       <use x=\"199.365234\" xlink:href=\"#DejaVuSans-5f\"/>\n       <use x=\"249.365234\" xlink:href=\"#DejaVuSans-46\"/>\n       <use x=\"306.884766\" xlink:href=\"#DejaVuSans-32\"/>\n       <use x=\"370.507812\" xlink:href=\"#DejaVuSans-34\"/>\n      </g>\n     </g>\n    </g>\n    <g id=\"ytick_54\">\n     <g id=\"line2d_62\">\n      <g>\n       <use style=\"stroke:#000000;stroke-width:0.8;\" x=\"61.001562\" xlink:href=\"#m86e9d2eb80\" y=\"940.814677\"/>\n      </g>\n     </g>\n     <g id=\"text_62\">\n      <!-- PSY_F36 -->\n      <g transform=\"translate(12.039062 944.525614)scale(0.1 -0.1)\">\n       <use xlink:href=\"#DejaVuSans-50\"/>\n       <use x=\"60.302734\" xlink:href=\"#DejaVuSans-53\"/>\n       <use x=\"123.779297\" xlink:href=\"#DejaVuSans-59\"/>\n       <use x=\"184.863281\" xlink:href=\"#DejaVuSans-5f\"/>\n       <use x=\"234.863281\" xlink:href=\"#DejaVuSans-46\"/>\n       <use x=\"292.382812\" xlink:href=\"#DejaVuSans-33\"/>\n       <use x=\"356.005859\" xlink:href=\"#DejaVuSans-36\"/>\n      </g>\n     </g>\n    </g>\n    <g id=\"ytick_55\">\n     <g id=\"line2d_63\">\n      <g>\n       <use style=\"stroke:#000000;stroke-width:0.8;\" x=\"61.001562\" xlink:href=\"#m86e9d2eb80\" y=\"937.690539\"/>\n      </g>\n     </g>\n     <g id=\"text_63\">\n      <!-- F299 -->\n      <g transform=\"translate(29.1625 941.489758)scale(0.1 -0.1)\">\n       <use xlink:href=\"#DejaVuSans-46\"/>\n       <use x=\"57.519531\" xlink:href=\"#DejaVuSans-32\"/>\n       <use x=\"121.142578\" xlink:href=\"#DejaVuSans-39\"/>\n       <use x=\"184.765625\" xlink:href=\"#DejaVuSans-39\"/>\n      </g>\n     </g>\n    </g>\n    <g id=\"ytick_56\">\n     <g id=\"line2d_64\">\n      <g>\n       <use style=\"stroke:#000000;stroke-width:0.8;\" x=\"61.001562\" xlink:href=\"#m86e9d2eb80\" y=\"934.566401\"/>\n      </g>\n     </g>\n     <g id=\"text_64\">\n      <!-- F296 -->\n      <g transform=\"translate(29.1625 938.36562)scale(0.1 -0.1)\">\n       <use xlink:href=\"#DejaVuSans-46\"/>\n       <use x=\"57.519531\" xlink:href=\"#DejaVuSans-32\"/>\n       <use x=\"121.142578\" xlink:href=\"#DejaVuSans-39\"/>\n       <use x=\"184.765625\" xlink:href=\"#DejaVuSans-36\"/>\n      </g>\n     </g>\n    </g>\n    <g id=\"ytick_57\">\n     <g id=\"line2d_65\">\n      <g>\n       <use style=\"stroke:#000000;stroke-width:0.8;\" x=\"61.001562\" xlink:href=\"#m86e9d2eb80\" y=\"931.442263\"/>\n      </g>\n     </g>\n     <g id=\"text_65\">\n      <!-- F224 -->\n      <g transform=\"translate(29.1625 935.241482)scale(0.1 -0.1)\">\n       <use xlink:href=\"#DejaVuSans-46\"/>\n       <use x=\"57.519531\" xlink:href=\"#DejaVuSans-32\"/>\n       <use x=\"121.142578\" xlink:href=\"#DejaVuSans-32\"/>\n       <use x=\"184.765625\" xlink:href=\"#DejaVuSans-34\"/>\n      </g>\n     </g>\n    </g>\n    <g id=\"ytick_58\">\n     <g id=\"line2d_66\">\n      <g>\n       <use style=\"stroke:#000000;stroke-width:0.8;\" x=\"61.001562\" xlink:href=\"#m86e9d2eb80\" y=\"928.318125\"/>\n      </g>\n     </g>\n     <g id=\"text_66\">\n      <!-- F232 -->\n      <g transform=\"translate(29.1625 932.117344)scale(0.1 -0.1)\">\n       <use xlink:href=\"#DejaVuSans-46\"/>\n       <use x=\"57.519531\" xlink:href=\"#DejaVuSans-32\"/>\n       <use x=\"121.142578\" xlink:href=\"#DejaVuSans-33\"/>\n       <use x=\"184.765625\" xlink:href=\"#DejaVuSans-32\"/>\n      </g>\n     </g>\n    </g>\n    <g id=\"ytick_59\">\n     <g id=\"line2d_67\">\n      <g>\n       <use style=\"stroke:#000000;stroke-width:0.8;\" x=\"61.001562\" xlink:href=\"#m86e9d2eb80\" y=\"925.193987\"/>\n      </g>\n     </g>\n     <g id=\"text_67\">\n      <!-- F234 -->\n      <g transform=\"translate(29.1625 928.993206)scale(0.1 -0.1)\">\n       <use xlink:href=\"#DejaVuSans-46\"/>\n       <use x=\"57.519531\" xlink:href=\"#DejaVuSans-32\"/>\n       <use x=\"121.142578\" xlink:href=\"#DejaVuSans-33\"/>\n       <use x=\"184.765625\" xlink:href=\"#DejaVuSans-34\"/>\n      </g>\n     </g>\n    </g>\n    <g id=\"ytick_60\">\n     <g id=\"line2d_68\">\n      <g>\n       <use style=\"stroke:#000000;stroke-width:0.8;\" x=\"61.001562\" xlink:href=\"#m86e9d2eb80\" y=\"922.069849\"/>\n      </g>\n     </g>\n     <g id=\"text_68\">\n      <!-- F236 -->\n      <g transform=\"translate(29.1625 925.869068)scale(0.1 -0.1)\">\n       <use xlink:href=\"#DejaVuSans-46\"/>\n       <use x=\"57.519531\" xlink:href=\"#DejaVuSans-32\"/>\n       <use x=\"121.142578\" xlink:href=\"#DejaVuSans-33\"/>\n       <use x=\"184.765625\" xlink:href=\"#DejaVuSans-36\"/>\n      </g>\n     </g>\n    </g>\n    <g id=\"ytick_61\">\n     <g id=\"line2d_69\">\n      <g>\n       <use style=\"stroke:#000000;stroke-width:0.8;\" x=\"61.001562\" xlink:href=\"#m86e9d2eb80\" y=\"918.945711\"/>\n      </g>\n     </g>\n     <g id=\"text_69\">\n      <!-- F238 -->\n      <g transform=\"translate(29.1625 922.74493)scale(0.1 -0.1)\">\n       <use xlink:href=\"#DejaVuSans-46\"/>\n       <use x=\"57.519531\" xlink:href=\"#DejaVuSans-32\"/>\n       <use x=\"121.142578\" xlink:href=\"#DejaVuSans-33\"/>\n       <use x=\"184.765625\" xlink:href=\"#DejaVuSans-38\"/>\n      </g>\n     </g>\n    </g>\n    <g id=\"ytick_62\">\n     <g id=\"line2d_70\">\n      <g>\n       <use style=\"stroke:#000000;stroke-width:0.8;\" x=\"61.001562\" xlink:href=\"#m86e9d2eb80\" y=\"915.821573\"/>\n      </g>\n     </g>\n     <g id=\"text_70\">\n      <!-- F243 -->\n      <g transform=\"translate(29.1625 919.620792)scale(0.1 -0.1)\">\n       <use xlink:href=\"#DejaVuSans-46\"/>\n       <use x=\"57.519531\" xlink:href=\"#DejaVuSans-32\"/>\n       <use x=\"121.142578\" xlink:href=\"#DejaVuSans-34\"/>\n       <use x=\"184.765625\" xlink:href=\"#DejaVuSans-33\"/>\n      </g>\n     </g>\n    </g>\n    <g id=\"ytick_63\">\n     <g id=\"line2d_71\">\n      <g>\n       <use style=\"stroke:#000000;stroke-width:0.8;\" x=\"61.001562\" xlink:href=\"#m86e9d2eb80\" y=\"912.697435\"/>\n      </g>\n     </g>\n     <g id=\"text_71\">\n      <!-- F249 -->\n      <g transform=\"translate(29.1625 916.496654)scale(0.1 -0.1)\">\n       <use xlink:href=\"#DejaVuSans-46\"/>\n       <use x=\"57.519531\" xlink:href=\"#DejaVuSans-32\"/>\n       <use x=\"121.142578\" xlink:href=\"#DejaVuSans-34\"/>\n       <use x=\"184.765625\" xlink:href=\"#DejaVuSans-39\"/>\n      </g>\n     </g>\n    </g>\n    <g id=\"ytick_64\">\n     <g id=\"line2d_72\">\n      <g>\n       <use style=\"stroke:#000000;stroke-width:0.8;\" x=\"61.001562\" xlink:href=\"#m86e9d2eb80\" y=\"909.573297\"/>\n      </g>\n     </g>\n     <g id=\"text_72\">\n      <!-- F254 -->\n      <g transform=\"translate(29.1625 913.372516)scale(0.1 -0.1)\">\n       <use xlink:href=\"#DejaVuSans-46\"/>\n       <use x=\"57.519531\" xlink:href=\"#DejaVuSans-32\"/>\n       <use x=\"121.142578\" xlink:href=\"#DejaVuSans-35\"/>\n       <use x=\"184.765625\" xlink:href=\"#DejaVuSans-34\"/>\n      </g>\n     </g>\n    </g>\n    <g id=\"ytick_65\">\n     <g id=\"line2d_73\">\n      <g>\n       <use style=\"stroke:#000000;stroke-width:0.8;\" x=\"61.001562\" xlink:href=\"#m86e9d2eb80\" y=\"906.449159\"/>\n      </g>\n     </g>\n     <g id=\"text_73\">\n      <!-- F262 -->\n      <g transform=\"translate(29.1625 910.248378)scale(0.1 -0.1)\">\n       <use xlink:href=\"#DejaVuSans-46\"/>\n       <use x=\"57.519531\" xlink:href=\"#DejaVuSans-32\"/>\n       <use x=\"121.142578\" xlink:href=\"#DejaVuSans-36\"/>\n       <use x=\"184.765625\" xlink:href=\"#DejaVuSans-32\"/>\n      </g>\n     </g>\n    </g>\n    <g id=\"ytick_66\">\n     <g id=\"line2d_74\">\n      <g>\n       <use style=\"stroke:#000000;stroke-width:0.8;\" x=\"61.001562\" xlink:href=\"#m86e9d2eb80\" y=\"903.325022\"/>\n      </g>\n     </g>\n     <g id=\"text_74\">\n      <!-- F263 -->\n      <g transform=\"translate(29.1625 907.12424)scale(0.1 -0.1)\">\n       <use xlink:href=\"#DejaVuSans-46\"/>\n       <use x=\"57.519531\" xlink:href=\"#DejaVuSans-32\"/>\n       <use x=\"121.142578\" xlink:href=\"#DejaVuSans-36\"/>\n       <use x=\"184.765625\" xlink:href=\"#DejaVuSans-33\"/>\n      </g>\n     </g>\n    </g>\n    <g id=\"ytick_67\">\n     <g id=\"line2d_75\">\n      <g>\n       <use style=\"stroke:#000000;stroke-width:0.8;\" x=\"61.001562\" xlink:href=\"#m86e9d2eb80\" y=\"900.200884\"/>\n      </g>\n     </g>\n     <g id=\"text_75\">\n      <!-- F269 -->\n      <g transform=\"translate(29.1625 904.000102)scale(0.1 -0.1)\">\n       <use xlink:href=\"#DejaVuSans-46\"/>\n       <use x=\"57.519531\" xlink:href=\"#DejaVuSans-32\"/>\n       <use x=\"121.142578\" xlink:href=\"#DejaVuSans-36\"/>\n       <use x=\"184.765625\" xlink:href=\"#DejaVuSans-39\"/>\n      </g>\n     </g>\n    </g>\n    <g id=\"ytick_68\">\n     <g id=\"line2d_76\">\n      <g>\n       <use style=\"stroke:#000000;stroke-width:0.8;\" x=\"61.001562\" xlink:href=\"#m86e9d2eb80\" y=\"897.076746\"/>\n      </g>\n     </g>\n     <g id=\"text_76\">\n      <!-- F274 -->\n      <g transform=\"translate(29.1625 900.875964)scale(0.1 -0.1)\">\n       <use xlink:href=\"#DejaVuSans-46\"/>\n       <use x=\"57.519531\" xlink:href=\"#DejaVuSans-32\"/>\n       <use x=\"121.142578\" xlink:href=\"#DejaVuSans-37\"/>\n       <use x=\"184.765625\" xlink:href=\"#DejaVuSans-34\"/>\n      </g>\n     </g>\n    </g>\n    <g id=\"ytick_69\">\n     <g id=\"line2d_77\">\n      <g>\n       <use style=\"stroke:#000000;stroke-width:0.8;\" x=\"61.001562\" xlink:href=\"#m86e9d2eb80\" y=\"893.952608\"/>\n      </g>\n     </g>\n     <g id=\"text_77\">\n      <!-- F277 -->\n      <g transform=\"translate(29.1625 897.751827)scale(0.1 -0.1)\">\n       <use xlink:href=\"#DejaVuSans-46\"/>\n       <use x=\"57.519531\" xlink:href=\"#DejaVuSans-32\"/>\n       <use x=\"121.142578\" xlink:href=\"#DejaVuSans-37\"/>\n       <use x=\"184.765625\" xlink:href=\"#DejaVuSans-37\"/>\n      </g>\n     </g>\n    </g>\n    <g id=\"ytick_70\">\n     <g id=\"line2d_78\">\n      <g>\n       <use style=\"stroke:#000000;stroke-width:0.8;\" x=\"61.001562\" xlink:href=\"#m86e9d2eb80\" y=\"890.82847\"/>\n      </g>\n     </g>\n     <g id=\"text_78\">\n      <!-- F288 -->\n      <g transform=\"translate(29.1625 894.627689)scale(0.1 -0.1)\">\n       <use xlink:href=\"#DejaVuSans-46\"/>\n       <use x=\"57.519531\" xlink:href=\"#DejaVuSans-32\"/>\n       <use x=\"121.142578\" xlink:href=\"#DejaVuSans-38\"/>\n       <use x=\"184.765625\" xlink:href=\"#DejaVuSans-38\"/>\n      </g>\n     </g>\n    </g>\n    <g id=\"ytick_71\">\n     <g id=\"line2d_79\">\n      <g>\n       <use style=\"stroke:#000000;stroke-width:0.8;\" x=\"61.001562\" xlink:href=\"#m86e9d2eb80\" y=\"887.704332\"/>\n      </g>\n     </g>\n     <g id=\"text_79\">\n      <!-- F289 -->\n      <g transform=\"translate(29.1625 891.503551)scale(0.1 -0.1)\">\n       <use xlink:href=\"#DejaVuSans-46\"/>\n       <use x=\"57.519531\" xlink:href=\"#DejaVuSans-32\"/>\n       <use x=\"121.142578\" xlink:href=\"#DejaVuSans-38\"/>\n       <use x=\"184.765625\" xlink:href=\"#DejaVuSans-39\"/>\n      </g>\n     </g>\n    </g>\n    <g id=\"ytick_72\">\n     <g id=\"line2d_80\">\n      <g>\n       <use style=\"stroke:#000000;stroke-width:0.8;\" x=\"61.001562\" xlink:href=\"#m86e9d2eb80\" y=\"884.580194\"/>\n      </g>\n     </g>\n     <g id=\"text_80\">\n      <!-- F221 -->\n      <g transform=\"translate(29.1625 888.379413)scale(0.1 -0.1)\">\n       <use xlink:href=\"#DejaVuSans-46\"/>\n       <use x=\"57.519531\" xlink:href=\"#DejaVuSans-32\"/>\n       <use x=\"121.142578\" xlink:href=\"#DejaVuSans-32\"/>\n       <use x=\"184.765625\" xlink:href=\"#DejaVuSans-31\"/>\n      </g>\n     </g>\n    </g>\n    <g id=\"ytick_73\">\n     <g id=\"line2d_81\">\n      <g>\n       <use style=\"stroke:#000000;stroke-width:0.8;\" x=\"61.001562\" xlink:href=\"#m86e9d2eb80\" y=\"881.456056\"/>\n      </g>\n     </g>\n     <g id=\"text_81\">\n      <!-- F67 -->\n      <g transform=\"translate(35.525 885.255275)scale(0.1 -0.1)\">\n       <use xlink:href=\"#DejaVuSans-46\"/>\n       <use x=\"57.519531\" xlink:href=\"#DejaVuSans-36\"/>\n       <use x=\"121.142578\" xlink:href=\"#DejaVuSans-37\"/>\n      </g>\n     </g>\n    </g>\n    <g id=\"ytick_74\">\n     <g id=\"line2d_82\">\n      <g>\n       <use style=\"stroke:#000000;stroke-width:0.8;\" x=\"61.001562\" xlink:href=\"#m86e9d2eb80\" y=\"878.331918\"/>\n      </g>\n     </g>\n     <g id=\"text_82\">\n      <!-- F163 -->\n      <g transform=\"translate(29.1625 882.131137)scale(0.1 -0.1)\">\n       <use xlink:href=\"#DejaVuSans-46\"/>\n       <use x=\"57.519531\" xlink:href=\"#DejaVuSans-31\"/>\n       <use x=\"121.142578\" xlink:href=\"#DejaVuSans-36\"/>\n       <use x=\"184.765625\" xlink:href=\"#DejaVuSans-33\"/>\n      </g>\n     </g>\n    </g>\n    <g id=\"ytick_75\">\n     <g id=\"line2d_83\">\n      <g>\n       <use style=\"stroke:#000000;stroke-width:0.8;\" x=\"61.001562\" xlink:href=\"#m86e9d2eb80\" y=\"875.20778\"/>\n      </g>\n     </g>\n     <g id=\"text_83\">\n      <!-- GRM_F34 -->\n      <g transform=\"translate(7.2 878.918718)scale(0.1 -0.1)\">\n       <use xlink:href=\"#DejaVuSans-47\"/>\n       <use x=\"77.490234\" xlink:href=\"#DejaVuSans-52\"/>\n       <use x=\"146.972656\" xlink:href=\"#DejaVuSans-4d\"/>\n       <use x=\"233.251953\" xlink:href=\"#DejaVuSans-5f\"/>\n       <use x=\"283.251953\" xlink:href=\"#DejaVuSans-46\"/>\n       <use x=\"340.771484\" xlink:href=\"#DejaVuSans-33\"/>\n       <use x=\"404.394531\" xlink:href=\"#DejaVuSans-34\"/>\n      </g>\n     </g>\n    </g>\n    <g id=\"ytick_76\">\n     <g id=\"line2d_84\">\n      <g>\n       <use style=\"stroke:#000000;stroke-width:0.8;\" x=\"61.001562\" xlink:href=\"#m86e9d2eb80\" y=\"872.083642\"/>\n      </g>\n     </g>\n     <g id=\"text_84\">\n      <!-- F1 -->\n      <g transform=\"translate(41.8875 875.882861)scale(0.1 -0.1)\">\n       <use xlink:href=\"#DejaVuSans-46\"/>\n       <use x=\"57.519531\" xlink:href=\"#DejaVuSans-31\"/>\n      </g>\n     </g>\n    </g>\n    <g id=\"ytick_77\">\n     <g id=\"line2d_85\">\n      <g>\n       <use style=\"stroke:#000000;stroke-width:0.8;\" x=\"61.001562\" xlink:href=\"#m86e9d2eb80\" y=\"868.959504\"/>\n      </g>\n     </g>\n     <g id=\"text_85\">\n      <!-- F9 -->\n      <g transform=\"translate(41.8875 872.758723)scale(0.1 -0.1)\">\n       <use xlink:href=\"#DejaVuSans-46\"/>\n       <use x=\"57.519531\" xlink:href=\"#DejaVuSans-39\"/>\n      </g>\n     </g>\n    </g>\n    <g id=\"ytick_78\">\n     <g id=\"line2d_86\">\n      <g>\n       <use style=\"stroke:#000000;stroke-width:0.8;\" x=\"61.001562\" xlink:href=\"#m86e9d2eb80\" y=\"865.835366\"/>\n      </g>\n     </g>\n     <g id=\"text_86\">\n      <!-- GRM_F51 -->\n      <g transform=\"translate(7.2 869.546304)scale(0.1 -0.1)\">\n       <use xlink:href=\"#DejaVuSans-47\"/>\n       <use x=\"77.490234\" xlink:href=\"#DejaVuSans-52\"/>\n       <use x=\"146.972656\" xlink:href=\"#DejaVuSans-4d\"/>\n       <use x=\"233.251953\" xlink:href=\"#DejaVuSans-5f\"/>\n       <use x=\"283.251953\" xlink:href=\"#DejaVuSans-46\"/>\n       <use x=\"340.771484\" xlink:href=\"#DejaVuSans-35\"/>\n       <use x=\"404.394531\" xlink:href=\"#DejaVuSans-31\"/>\n      </g>\n     </g>\n    </g>\n    <g id=\"ytick_79\">\n     <g id=\"line2d_87\">\n      <g>\n       <use style=\"stroke:#000000;stroke-width:0.8;\" x=\"61.001562\" xlink:href=\"#m86e9d2eb80\" y=\"862.711228\"/>\n      </g>\n     </g>\n     <g id=\"text_87\">\n      <!-- GRM_F42 -->\n      <g transform=\"translate(7.2 866.422166)scale(0.1 -0.1)\">\n       <use xlink:href=\"#DejaVuSans-47\"/>\n       <use x=\"77.490234\" xlink:href=\"#DejaVuSans-52\"/>\n       <use x=\"146.972656\" xlink:href=\"#DejaVuSans-4d\"/>\n       <use x=\"233.251953\" xlink:href=\"#DejaVuSans-5f\"/>\n       <use x=\"283.251953\" xlink:href=\"#DejaVuSans-46\"/>\n       <use x=\"340.771484\" xlink:href=\"#DejaVuSans-34\"/>\n       <use x=\"404.394531\" xlink:href=\"#DejaVuSans-32\"/>\n      </g>\n     </g>\n    </g>\n    <g id=\"ytick_80\">\n     <g id=\"line2d_88\">\n      <g>\n       <use style=\"stroke:#000000;stroke-width:0.8;\" x=\"61.001562\" xlink:href=\"#m86e9d2eb80\" y=\"859.587091\"/>\n      </g>\n     </g>\n     <g id=\"text_88\">\n      <!-- F63 -->\n      <g transform=\"translate(35.525 863.386309)scale(0.1 -0.1)\">\n       <use xlink:href=\"#DejaVuSans-46\"/>\n       <use x=\"57.519531\" xlink:href=\"#DejaVuSans-36\"/>\n       <use x=\"121.142578\" xlink:href=\"#DejaVuSans-33\"/>\n      </g>\n     </g>\n    </g>\n    <g id=\"ytick_81\">\n     <g id=\"line2d_89\">\n      <g>\n       <use style=\"stroke:#000000;stroke-width:0.8;\" x=\"61.001562\" xlink:href=\"#m86e9d2eb80\" y=\"856.462953\"/>\n      </g>\n     </g>\n     <g id=\"text_89\">\n      <!-- F48 -->\n      <g transform=\"translate(35.525 860.262171)scale(0.1 -0.1)\">\n       <use xlink:href=\"#DejaVuSans-46\"/>\n       <use x=\"57.519531\" xlink:href=\"#DejaVuSans-34\"/>\n       <use x=\"121.142578\" xlink:href=\"#DejaVuSans-38\"/>\n      </g>\n     </g>\n    </g>\n    <g id=\"ytick_82\">\n     <g id=\"line2d_90\">\n      <g>\n       <use style=\"stroke:#000000;stroke-width:0.8;\" x=\"61.001562\" xlink:href=\"#m86e9d2eb80\" y=\"853.338815\"/>\n      </g>\n     </g>\n     <g id=\"text_90\">\n      <!-- F58 -->\n      <g transform=\"translate(35.525 857.138033)scale(0.1 -0.1)\">\n       <use xlink:href=\"#DejaVuSans-46\"/>\n       <use x=\"57.519531\" xlink:href=\"#DejaVuSans-35\"/>\n       <use x=\"121.142578\" xlink:href=\"#DejaVuSans-38\"/>\n      </g>\n     </g>\n    </g>\n    <g id=\"ytick_83\">\n     <g id=\"line2d_91\">\n      <g>\n       <use style=\"stroke:#000000;stroke-width:0.8;\" x=\"61.001562\" xlink:href=\"#m86e9d2eb80\" y=\"850.214677\"/>\n      </g>\n     </g>\n     <g id=\"text_91\">\n      <!-- F28 -->\n      <g transform=\"translate(35.525 854.013895)scale(0.1 -0.1)\">\n       <use xlink:href=\"#DejaVuSans-46\"/>\n       <use x=\"57.519531\" xlink:href=\"#DejaVuSans-32\"/>\n       <use x=\"121.142578\" xlink:href=\"#DejaVuSans-38\"/>\n      </g>\n     </g>\n    </g>\n    <g id=\"ytick_84\">\n     <g id=\"line2d_92\">\n      <g>\n       <use style=\"stroke:#000000;stroke-width:0.8;\" x=\"61.001562\" xlink:href=\"#m86e9d2eb80\" y=\"847.090539\"/>\n      </g>\n     </g>\n     <g id=\"text_92\">\n      <!-- F18 -->\n      <g transform=\"translate(35.525 850.889758)scale(0.1 -0.1)\">\n       <use xlink:href=\"#DejaVuSans-46\"/>\n       <use x=\"57.519531\" xlink:href=\"#DejaVuSans-31\"/>\n       <use x=\"121.142578\" xlink:href=\"#DejaVuSans-38\"/>\n      </g>\n     </g>\n    </g>\n    <g id=\"ytick_85\">\n     <g id=\"line2d_93\">\n      <g>\n       <use style=\"stroke:#000000;stroke-width:0.8;\" x=\"61.001562\" xlink:href=\"#m86e9d2eb80\" y=\"843.966401\"/>\n      </g>\n     </g>\n     <g id=\"text_93\">\n      <!-- F60 -->\n      <g transform=\"translate(35.525 847.76562)scale(0.1 -0.1)\">\n       <use xlink:href=\"#DejaVuSans-46\"/>\n       <use x=\"57.519531\" xlink:href=\"#DejaVuSans-36\"/>\n       <use x=\"121.142578\" xlink:href=\"#DejaVuSans-30\"/>\n      </g>\n     </g>\n    </g>\n    <g id=\"ytick_86\">\n     <g id=\"line2d_94\">\n      <g>\n       <use style=\"stroke:#000000;stroke-width:0.8;\" x=\"61.001562\" xlink:href=\"#m86e9d2eb80\" y=\"840.842263\"/>\n      </g>\n     </g>\n     <g id=\"text_94\">\n      <!-- F4 -->\n      <g transform=\"translate(41.8875 844.641482)scale(0.1 -0.1)\">\n       <use xlink:href=\"#DejaVuSans-46\"/>\n       <use x=\"57.519531\" xlink:href=\"#DejaVuSans-34\"/>\n      </g>\n     </g>\n    </g>\n    <g id=\"ytick_87\">\n     <g id=\"line2d_95\">\n      <g>\n       <use style=\"stroke:#000000;stroke-width:0.8;\" x=\"61.001562\" xlink:href=\"#m86e9d2eb80\" y=\"837.718125\"/>\n      </g>\n     </g>\n     <g id=\"text_95\">\n      <!-- F61 -->\n      <g transform=\"translate(35.525 841.517344)scale(0.1 -0.1)\">\n       <use xlink:href=\"#DejaVuSans-46\"/>\n       <use x=\"57.519531\" xlink:href=\"#DejaVuSans-36\"/>\n       <use x=\"121.142578\" xlink:href=\"#DejaVuSans-31\"/>\n      </g>\n     </g>\n    </g>\n    <g id=\"ytick_88\">\n     <g id=\"line2d_96\">\n      <g>\n       <use style=\"stroke:#000000;stroke-width:0.8;\" x=\"61.001562\" xlink:href=\"#m86e9d2eb80\" y=\"834.593987\"/>\n      </g>\n     </g>\n     <g id=\"text_96\">\n      <!-- F25 -->\n      <g transform=\"translate(35.525 838.393206)scale(0.1 -0.1)\">\n       <use xlink:href=\"#DejaVuSans-46\"/>\n       <use x=\"57.519531\" xlink:href=\"#DejaVuSans-32\"/>\n       <use x=\"121.142578\" xlink:href=\"#DejaVuSans-35\"/>\n      </g>\n     </g>\n    </g>\n    <g id=\"ytick_89\">\n     <g id=\"line2d_97\">\n      <g>\n       <use style=\"stroke:#000000;stroke-width:0.8;\" x=\"61.001562\" xlink:href=\"#m86e9d2eb80\" y=\"831.469849\"/>\n      </g>\n     </g>\n     <g id=\"text_97\">\n      <!-- GRM_F32 -->\n      <g transform=\"translate(7.2 835.180787)scale(0.1 -0.1)\">\n       <use xlink:href=\"#DejaVuSans-47\"/>\n       <use x=\"77.490234\" xlink:href=\"#DejaVuSans-52\"/>\n       <use x=\"146.972656\" xlink:href=\"#DejaVuSans-4d\"/>\n       <use x=\"233.251953\" xlink:href=\"#DejaVuSans-5f\"/>\n       <use x=\"283.251953\" xlink:href=\"#DejaVuSans-46\"/>\n       <use x=\"340.771484\" xlink:href=\"#DejaVuSans-33\"/>\n       <use x=\"404.394531\" xlink:href=\"#DejaVuSans-32\"/>\n      </g>\n     </g>\n    </g>\n    <g id=\"ytick_90\">\n     <g id=\"line2d_98\">\n      <g>\n       <use style=\"stroke:#000000;stroke-width:0.8;\" x=\"61.001562\" xlink:href=\"#m86e9d2eb80\" y=\"828.345711\"/>\n      </g>\n     </g>\n     <g id=\"text_98\">\n      <!-- GRM_F31 -->\n      <g transform=\"translate(7.2 832.056649)scale(0.1 -0.1)\">\n       <use xlink:href=\"#DejaVuSans-47\"/>\n       <use x=\"77.490234\" xlink:href=\"#DejaVuSans-52\"/>\n       <use x=\"146.972656\" xlink:href=\"#DejaVuSans-4d\"/>\n       <use x=\"233.251953\" xlink:href=\"#DejaVuSans-5f\"/>\n       <use x=\"283.251953\" xlink:href=\"#DejaVuSans-46\"/>\n       <use x=\"340.771484\" xlink:href=\"#DejaVuSans-33\"/>\n       <use x=\"404.394531\" xlink:href=\"#DejaVuSans-31\"/>\n      </g>\n     </g>\n    </g>\n    <g id=\"ytick_91\">\n     <g id=\"line2d_99\">\n      <g>\n       <use style=\"stroke:#000000;stroke-width:0.8;\" x=\"61.001562\" xlink:href=\"#m86e9d2eb80\" y=\"825.221573\"/>\n      </g>\n     </g>\n     <g id=\"text_99\">\n      <!-- F211 -->\n      <g transform=\"translate(29.1625 829.020792)scale(0.1 -0.1)\">\n       <use xlink:href=\"#DejaVuSans-46\"/>\n       <use x=\"57.519531\" xlink:href=\"#DejaVuSans-32\"/>\n       <use x=\"121.142578\" xlink:href=\"#DejaVuSans-31\"/>\n       <use x=\"184.765625\" xlink:href=\"#DejaVuSans-31\"/>\n      </g>\n     </g>\n    </g>\n    <g id=\"ytick_92\">\n     <g id=\"line2d_100\">\n      <g>\n       <use style=\"stroke:#000000;stroke-width:0.8;\" x=\"61.001562\" xlink:href=\"#m86e9d2eb80\" y=\"822.097435\"/>\n      </g>\n     </g>\n     <g id=\"text_100\">\n      <!-- F282 -->\n      <g transform=\"translate(29.1625 825.896654)scale(0.1 -0.1)\">\n       <use xlink:href=\"#DejaVuSans-46\"/>\n       <use x=\"57.519531\" xlink:href=\"#DejaVuSans-32\"/>\n       <use x=\"121.142578\" xlink:href=\"#DejaVuSans-38\"/>\n       <use x=\"184.765625\" xlink:href=\"#DejaVuSans-32\"/>\n      </g>\n     </g>\n    </g>\n    <g id=\"ytick_93\">\n     <g id=\"line2d_101\">\n      <g>\n       <use style=\"stroke:#000000;stroke-width:0.8;\" x=\"61.001562\" xlink:href=\"#m86e9d2eb80\" y=\"818.973297\"/>\n      </g>\n     </g>\n     <g id=\"text_101\">\n      <!-- F65 -->\n      <g transform=\"translate(35.525 822.772516)scale(0.1 -0.1)\">\n       <use xlink:href=\"#DejaVuSans-46\"/>\n       <use x=\"57.519531\" xlink:href=\"#DejaVuSans-36\"/>\n       <use x=\"121.142578\" xlink:href=\"#DejaVuSans-35\"/>\n      </g>\n     </g>\n    </g>\n    <g id=\"ytick_94\">\n     <g id=\"line2d_102\">\n      <g>\n       <use style=\"stroke:#000000;stroke-width:0.8;\" x=\"61.001562\" xlink:href=\"#m86e9d2eb80\" y=\"815.849159\"/>\n      </g>\n     </g>\n     <g id=\"text_102\">\n      <!-- F281 -->\n      <g transform=\"translate(29.1625 819.648378)scale(0.1 -0.1)\">\n       <use xlink:href=\"#DejaVuSans-46\"/>\n       <use x=\"57.519531\" xlink:href=\"#DejaVuSans-32\"/>\n       <use x=\"121.142578\" xlink:href=\"#DejaVuSans-38\"/>\n       <use x=\"184.765625\" xlink:href=\"#DejaVuSans-31\"/>\n      </g>\n     </g>\n    </g>\n    <g id=\"ytick_95\">\n     <g id=\"line2d_103\">\n      <g>\n       <use style=\"stroke:#000000;stroke-width:0.8;\" x=\"61.001562\" xlink:href=\"#m86e9d2eb80\" y=\"812.725022\"/>\n      </g>\n     </g>\n     <g id=\"text_103\">\n      <!-- F272 -->\n      <g transform=\"translate(29.1625 816.52424)scale(0.1 -0.1)\">\n       <use xlink:href=\"#DejaVuSans-46\"/>\n       <use x=\"57.519531\" xlink:href=\"#DejaVuSans-32\"/>\n       <use x=\"121.142578\" xlink:href=\"#DejaVuSans-37\"/>\n       <use x=\"184.765625\" xlink:href=\"#DejaVuSans-32\"/>\n      </g>\n     </g>\n    </g>\n    <g id=\"ytick_96\">\n     <g id=\"line2d_104\">\n      <g>\n       <use style=\"stroke:#000000;stroke-width:0.8;\" x=\"61.001562\" xlink:href=\"#m86e9d2eb80\" y=\"809.600884\"/>\n      </g>\n     </g>\n     <g id=\"text_104\">\n      <!-- F166 -->\n      <g transform=\"translate(29.1625 813.400102)scale(0.1 -0.1)\">\n       <use xlink:href=\"#DejaVuSans-46\"/>\n       <use x=\"57.519531\" xlink:href=\"#DejaVuSans-31\"/>\n       <use x=\"121.142578\" xlink:href=\"#DejaVuSans-36\"/>\n       <use x=\"184.765625\" xlink:href=\"#DejaVuSans-36\"/>\n      </g>\n     </g>\n    </g>\n    <g id=\"ytick_97\">\n     <g id=\"line2d_105\">\n      <g>\n       <use style=\"stroke:#000000;stroke-width:0.8;\" x=\"61.001562\" xlink:href=\"#m86e9d2eb80\" y=\"806.476746\"/>\n      </g>\n     </g>\n     <g id=\"text_105\">\n      <!-- F245 -->\n      <g transform=\"translate(29.1625 810.275964)scale(0.1 -0.1)\">\n       <use xlink:href=\"#DejaVuSans-46\"/>\n       <use x=\"57.519531\" xlink:href=\"#DejaVuSans-32\"/>\n       <use x=\"121.142578\" xlink:href=\"#DejaVuSans-34\"/>\n       <use x=\"184.765625\" xlink:href=\"#DejaVuSans-35\"/>\n      </g>\n     </g>\n    </g>\n    <g id=\"ytick_98\">\n     <g id=\"line2d_106\">\n      <g>\n       <use style=\"stroke:#000000;stroke-width:0.8;\" x=\"61.001562\" xlink:href=\"#m86e9d2eb80\" y=\"803.352608\"/>\n      </g>\n     </g>\n     <g id=\"text_106\">\n      <!-- F38 -->\n      <g transform=\"translate(35.525 807.151827)scale(0.1 -0.1)\">\n       <use xlink:href=\"#DejaVuSans-46\"/>\n       <use x=\"57.519531\" xlink:href=\"#DejaVuSans-33\"/>\n       <use x=\"121.142578\" xlink:href=\"#DejaVuSans-38\"/>\n      </g>\n     </g>\n    </g>\n    <g id=\"ytick_99\">\n     <g id=\"line2d_107\">\n      <g>\n       <use style=\"stroke:#000000;stroke-width:0.8;\" x=\"61.001562\" xlink:href=\"#m86e9d2eb80\" y=\"800.22847\"/>\n      </g>\n     </g>\n     <g id=\"text_107\">\n      <!-- F246 -->\n      <g transform=\"translate(29.1625 804.027689)scale(0.1 -0.1)\">\n       <use xlink:href=\"#DejaVuSans-46\"/>\n       <use x=\"57.519531\" xlink:href=\"#DejaVuSans-32\"/>\n       <use x=\"121.142578\" xlink:href=\"#DejaVuSans-34\"/>\n       <use x=\"184.765625\" xlink:href=\"#DejaVuSans-36\"/>\n      </g>\n     </g>\n    </g>\n    <g id=\"ytick_100\">\n     <g id=\"line2d_108\">\n      <g>\n       <use style=\"stroke:#000000;stroke-width:0.8;\" x=\"61.001562\" xlink:href=\"#m86e9d2eb80\" y=\"797.104332\"/>\n      </g>\n     </g>\n     <g id=\"text_108\">\n      <!-- F227 -->\n      <g transform=\"translate(29.1625 800.903551)scale(0.1 -0.1)\">\n       <use xlink:href=\"#DejaVuSans-46\"/>\n       <use x=\"57.519531\" xlink:href=\"#DejaVuSans-32\"/>\n       <use x=\"121.142578\" xlink:href=\"#DejaVuSans-32\"/>\n       <use x=\"184.765625\" xlink:href=\"#DejaVuSans-37\"/>\n      </g>\n     </g>\n    </g>\n    <g id=\"ytick_101\">\n     <g id=\"line2d_109\">\n      <g>\n       <use style=\"stroke:#000000;stroke-width:0.8;\" x=\"61.001562\" xlink:href=\"#m86e9d2eb80\" y=\"793.980194\"/>\n      </g>\n     </g>\n     <g id=\"text_109\">\n      <!-- F139 -->\n      <g transform=\"translate(29.1625 797.779413)scale(0.1 -0.1)\">\n       <use xlink:href=\"#DejaVuSans-46\"/>\n       <use x=\"57.519531\" xlink:href=\"#DejaVuSans-31\"/>\n       <use x=\"121.142578\" xlink:href=\"#DejaVuSans-33\"/>\n       <use x=\"184.765625\" xlink:href=\"#DejaVuSans-39\"/>\n      </g>\n     </g>\n    </g>\n    <g id=\"ytick_102\">\n     <g id=\"line2d_110\">\n      <g>\n       <use style=\"stroke:#000000;stroke-width:0.8;\" x=\"61.001562\" xlink:href=\"#m86e9d2eb80\" y=\"790.856056\"/>\n      </g>\n     </g>\n     <g id=\"text_110\">\n      <!-- WD_F13 -->\n      <g transform=\"translate(12.9375 794.566994)scale(0.1 -0.1)\">\n       <use xlink:href=\"#DejaVuSans-57\"/>\n       <use x=\"98.876953\" xlink:href=\"#DejaVuSans-44\"/>\n       <use x=\"175.878906\" xlink:href=\"#DejaVuSans-5f\"/>\n       <use x=\"225.878906\" xlink:href=\"#DejaVuSans-46\"/>\n       <use x=\"283.398438\" xlink:href=\"#DejaVuSans-31\"/>\n       <use x=\"347.021484\" xlink:href=\"#DejaVuSans-33\"/>\n      </g>\n     </g>\n    </g>\n    <g id=\"ytick_103\">\n     <g id=\"line2d_111\">\n      <g>\n       <use style=\"stroke:#000000;stroke-width:0.8;\" x=\"61.001562\" xlink:href=\"#m86e9d2eb80\" y=\"787.731918\"/>\n      </g>\n     </g>\n     <g id=\"text_111\">\n      <!-- F134 -->\n      <g transform=\"translate(29.1625 791.531137)scale(0.1 -0.1)\">\n       <use xlink:href=\"#DejaVuSans-46\"/>\n       <use x=\"57.519531\" xlink:href=\"#DejaVuSans-31\"/>\n       <use x=\"121.142578\" xlink:href=\"#DejaVuSans-33\"/>\n       <use x=\"184.765625\" xlink:href=\"#DejaVuSans-34\"/>\n      </g>\n     </g>\n    </g>\n    <g id=\"ytick_104\">\n     <g id=\"line2d_112\">\n      <g>\n       <use style=\"stroke:#000000;stroke-width:0.8;\" x=\"61.001562\" xlink:href=\"#m86e9d2eb80\" y=\"784.60778\"/>\n      </g>\n     </g>\n     <g id=\"text_112\">\n      <!-- F176 -->\n      <g transform=\"translate(29.1625 788.406999)scale(0.1 -0.1)\">\n       <use xlink:href=\"#DejaVuSans-46\"/>\n       <use x=\"57.519531\" xlink:href=\"#DejaVuSans-31\"/>\n       <use x=\"121.142578\" xlink:href=\"#DejaVuSans-37\"/>\n       <use x=\"184.765625\" xlink:href=\"#DejaVuSans-36\"/>\n      </g>\n     </g>\n    </g>\n    <g id=\"ytick_105\">\n     <g id=\"line2d_113\">\n      <g>\n       <use style=\"stroke:#000000;stroke-width:0.8;\" x=\"61.001562\" xlink:href=\"#m86e9d2eb80\" y=\"781.483642\"/>\n      </g>\n     </g>\n     <g id=\"text_113\">\n      <!-- F20 -->\n      <g transform=\"translate(35.525 785.282861)scale(0.1 -0.1)\">\n       <use xlink:href=\"#DejaVuSans-46\"/>\n       <use x=\"57.519531\" xlink:href=\"#DejaVuSans-32\"/>\n       <use x=\"121.142578\" xlink:href=\"#DejaVuSans-30\"/>\n      </g>\n     </g>\n    </g>\n    <g id=\"ytick_106\">\n     <g id=\"line2d_114\">\n      <g>\n       <use style=\"stroke:#000000;stroke-width:0.8;\" x=\"61.001562\" xlink:href=\"#m86e9d2eb80\" y=\"778.359504\"/>\n      </g>\n     </g>\n     <g id=\"text_114\">\n      <!-- F101 -->\n      <g transform=\"translate(29.1625 782.158723)scale(0.1 -0.1)\">\n       <use xlink:href=\"#DejaVuSans-46\"/>\n       <use x=\"57.519531\" xlink:href=\"#DejaVuSans-31\"/>\n       <use x=\"121.142578\" xlink:href=\"#DejaVuSans-30\"/>\n       <use x=\"184.765625\" xlink:href=\"#DejaVuSans-31\"/>\n      </g>\n     </g>\n    </g>\n    <g id=\"ytick_107\">\n     <g id=\"line2d_115\">\n      <g>\n       <use style=\"stroke:#000000;stroke-width:0.8;\" x=\"61.001562\" xlink:href=\"#m86e9d2eb80\" y=\"775.235366\"/>\n      </g>\n     </g>\n     <g id=\"text_115\">\n      <!-- F169 -->\n      <g transform=\"translate(29.1625 779.034585)scale(0.1 -0.1)\">\n       <use xlink:href=\"#DejaVuSans-46\"/>\n       <use x=\"57.519531\" xlink:href=\"#DejaVuSans-31\"/>\n       <use x=\"121.142578\" xlink:href=\"#DejaVuSans-36\"/>\n       <use x=\"184.765625\" xlink:href=\"#DejaVuSans-39\"/>\n      </g>\n     </g>\n    </g>\n    <g id=\"ytick_108\">\n     <g id=\"line2d_116\">\n      <g>\n       <use style=\"stroke:#000000;stroke-width:0.8;\" x=\"61.001562\" xlink:href=\"#m86e9d2eb80\" y=\"772.111228\"/>\n      </g>\n     </g>\n     <g id=\"text_116\">\n      <!-- F209 -->\n      <g transform=\"translate(29.1625 775.910447)scale(0.1 -0.1)\">\n       <use xlink:href=\"#DejaVuSans-46\"/>\n       <use x=\"57.519531\" xlink:href=\"#DejaVuSans-32\"/>\n       <use x=\"121.142578\" xlink:href=\"#DejaVuSans-30\"/>\n       <use x=\"184.765625\" xlink:href=\"#DejaVuSans-39\"/>\n      </g>\n     </g>\n    </g>\n    <g id=\"ytick_109\">\n     <g id=\"line2d_117\">\n      <g>\n       <use style=\"stroke:#000000;stroke-width:0.8;\" x=\"61.001562\" xlink:href=\"#m86e9d2eb80\" y=\"768.987091\"/>\n      </g>\n     </g>\n     <g id=\"text_117\">\n      <!-- F77 -->\n      <g transform=\"translate(35.525 772.786309)scale(0.1 -0.1)\">\n       <use xlink:href=\"#DejaVuSans-46\"/>\n       <use x=\"57.519531\" xlink:href=\"#DejaVuSans-37\"/>\n       <use x=\"121.142578\" xlink:href=\"#DejaVuSans-37\"/>\n      </g>\n     </g>\n    </g>\n    <g id=\"ytick_110\">\n     <g id=\"line2d_118\">\n      <g>\n       <use style=\"stroke:#000000;stroke-width:0.8;\" x=\"61.001562\" xlink:href=\"#m86e9d2eb80\" y=\"765.862953\"/>\n      </g>\n     </g>\n     <g id=\"text_118\">\n      <!-- F8 -->\n      <g transform=\"translate(41.8875 769.662171)scale(0.1 -0.1)\">\n       <use xlink:href=\"#DejaVuSans-46\"/>\n       <use x=\"57.519531\" xlink:href=\"#DejaVuSans-38\"/>\n      </g>\n     </g>\n    </g>\n    <g id=\"ytick_111\">\n     <g id=\"line2d_119\">\n      <g>\n       <use style=\"stroke:#000000;stroke-width:0.8;\" x=\"61.001562\" xlink:href=\"#m86e9d2eb80\" y=\"762.738815\"/>\n      </g>\n     </g>\n     <g id=\"text_119\">\n      <!-- F270 -->\n      <g transform=\"translate(29.1625 766.538033)scale(0.1 -0.1)\">\n       <use xlink:href=\"#DejaVuSans-46\"/>\n       <use x=\"57.519531\" xlink:href=\"#DejaVuSans-32\"/>\n       <use x=\"121.142578\" xlink:href=\"#DejaVuSans-37\"/>\n       <use x=\"184.765625\" xlink:href=\"#DejaVuSans-30\"/>\n      </g>\n     </g>\n    </g>\n    <g id=\"ytick_112\">\n     <g id=\"line2d_120\">\n      <g>\n       <use style=\"stroke:#000000;stroke-width:0.8;\" x=\"61.001562\" xlink:href=\"#m86e9d2eb80\" y=\"759.614677\"/>\n      </g>\n     </g>\n     <g id=\"text_120\">\n      <!-- F66 -->\n      <g transform=\"translate(35.525 763.413895)scale(0.1 -0.1)\">\n       <use xlink:href=\"#DejaVuSans-46\"/>\n       <use x=\"57.519531\" xlink:href=\"#DejaVuSans-36\"/>\n       <use x=\"121.142578\" xlink:href=\"#DejaVuSans-36\"/>\n      </g>\n     </g>\n    </g>\n    <g id=\"ytick_113\">\n     <g id=\"line2d_121\">\n      <g>\n       <use style=\"stroke:#000000;stroke-width:0.8;\" x=\"61.001562\" xlink:href=\"#m86e9d2eb80\" y=\"756.490539\"/>\n      </g>\n     </g>\n     <g id=\"text_121\">\n      <!-- F247 -->\n      <g transform=\"translate(29.1625 760.289758)scale(0.1 -0.1)\">\n       <use xlink:href=\"#DejaVuSans-46\"/>\n       <use x=\"57.519531\" xlink:href=\"#DejaVuSans-32\"/>\n       <use x=\"121.142578\" xlink:href=\"#DejaVuSans-34\"/>\n       <use x=\"184.765625\" xlink:href=\"#DejaVuSans-37\"/>\n      </g>\n     </g>\n    </g>\n    <g id=\"ytick_114\">\n     <g id=\"line2d_122\">\n      <g>\n       <use style=\"stroke:#000000;stroke-width:0.8;\" x=\"61.001562\" xlink:href=\"#m86e9d2eb80\" y=\"753.366401\"/>\n      </g>\n     </g>\n     <g id=\"text_122\">\n      <!-- F190 -->\n      <g transform=\"translate(29.1625 757.16562)scale(0.1 -0.1)\">\n       <use xlink:href=\"#DejaVuSans-46\"/>\n       <use x=\"57.519531\" xlink:href=\"#DejaVuSans-31\"/>\n       <use x=\"121.142578\" xlink:href=\"#DejaVuSans-39\"/>\n       <use x=\"184.765625\" xlink:href=\"#DejaVuSans-30\"/>\n      </g>\n     </g>\n    </g>\n    <g id=\"ytick_115\">\n     <g id=\"line2d_123\">\n      <g>\n       <use style=\"stroke:#000000;stroke-width:0.8;\" x=\"61.001562\" xlink:href=\"#m86e9d2eb80\" y=\"750.242263\"/>\n      </g>\n     </g>\n     <g id=\"text_123\">\n      <!-- SYN_F18 -->\n      <g transform=\"translate(10.5875 753.9532)scale(0.1 -0.1)\">\n       <use xlink:href=\"#DejaVuSans-53\"/>\n       <use x=\"63.476562\" xlink:href=\"#DejaVuSans-59\"/>\n       <use x=\"124.560547\" xlink:href=\"#DejaVuSans-4e\"/>\n       <use x=\"199.365234\" xlink:href=\"#DejaVuSans-5f\"/>\n       <use x=\"249.365234\" xlink:href=\"#DejaVuSans-46\"/>\n       <use x=\"306.884766\" xlink:href=\"#DejaVuSans-31\"/>\n       <use x=\"370.507812\" xlink:href=\"#DejaVuSans-38\"/>\n      </g>\n     </g>\n    </g>\n    <g id=\"ytick_116\">\n     <g id=\"line2d_124\">\n      <g>\n       <use style=\"stroke:#000000;stroke-width:0.8;\" x=\"61.001562\" xlink:href=\"#m86e9d2eb80\" y=\"747.118125\"/>\n      </g>\n     </g>\n     <g id=\"text_124\">\n      <!-- WD_F12 -->\n      <g transform=\"translate(12.9375 750.829063)scale(0.1 -0.1)\">\n       <use xlink:href=\"#DejaVuSans-57\"/>\n       <use x=\"98.876953\" xlink:href=\"#DejaVuSans-44\"/>\n       <use x=\"175.878906\" xlink:href=\"#DejaVuSans-5f\"/>\n       <use x=\"225.878906\" xlink:href=\"#DejaVuSans-46\"/>\n       <use x=\"283.398438\" xlink:href=\"#DejaVuSans-31\"/>\n       <use x=\"347.021484\" xlink:href=\"#DejaVuSans-32\"/>\n      </g>\n     </g>\n    </g>\n    <g id=\"ytick_117\">\n     <g id=\"line2d_125\">\n      <g>\n       <use style=\"stroke:#000000;stroke-width:0.8;\" x=\"61.001562\" xlink:href=\"#m86e9d2eb80\" y=\"743.993987\"/>\n      </g>\n     </g>\n     <g id=\"text_125\">\n      <!-- F194 -->\n      <g transform=\"translate(29.1625 747.793206)scale(0.1 -0.1)\">\n       <use xlink:href=\"#DejaVuSans-46\"/>\n       <use x=\"57.519531\" xlink:href=\"#DejaVuSans-31\"/>\n       <use x=\"121.142578\" xlink:href=\"#DejaVuSans-39\"/>\n       <use x=\"184.765625\" xlink:href=\"#DejaVuSans-34\"/>\n      </g>\n     </g>\n    </g>\n    <g id=\"ytick_118\">\n     <g id=\"line2d_126\">\n      <g>\n       <use style=\"stroke:#000000;stroke-width:0.8;\" x=\"61.001562\" xlink:href=\"#m86e9d2eb80\" y=\"740.869849\"/>\n      </g>\n     </g>\n     <g id=\"text_126\">\n      <!-- F93 -->\n      <g transform=\"translate(35.525 744.669068)scale(0.1 -0.1)\">\n       <use xlink:href=\"#DejaVuSans-46\"/>\n       <use x=\"57.519531\" xlink:href=\"#DejaVuSans-39\"/>\n       <use x=\"121.142578\" xlink:href=\"#DejaVuSans-33\"/>\n      </g>\n     </g>\n    </g>\n    <g id=\"ytick_119\">\n     <g id=\"line2d_127\">\n      <g>\n       <use style=\"stroke:#000000;stroke-width:0.8;\" x=\"61.001562\" xlink:href=\"#m86e9d2eb80\" y=\"737.745711\"/>\n      </g>\n     </g>\n     <g id=\"text_127\">\n      <!-- F250 -->\n      <g transform=\"translate(29.1625 741.54493)scale(0.1 -0.1)\">\n       <use xlink:href=\"#DejaVuSans-46\"/>\n       <use x=\"57.519531\" xlink:href=\"#DejaVuSans-32\"/>\n       <use x=\"121.142578\" xlink:href=\"#DejaVuSans-35\"/>\n       <use x=\"184.765625\" xlink:href=\"#DejaVuSans-30\"/>\n      </g>\n     </g>\n    </g>\n    <g id=\"ytick_120\">\n     <g id=\"line2d_128\">\n      <g>\n       <use style=\"stroke:#000000;stroke-width:0.8;\" x=\"61.001562\" xlink:href=\"#m86e9d2eb80\" y=\"734.621573\"/>\n      </g>\n     </g>\n     <g id=\"text_128\">\n      <!-- TD_F49 -->\n      <g transform=\"translate(16.717187 738.332511)scale(0.1 -0.1)\">\n       <use xlink:href=\"#DejaVuSans-54\"/>\n       <use x=\"61.083984\" xlink:href=\"#DejaVuSans-44\"/>\n       <use x=\"138.085938\" xlink:href=\"#DejaVuSans-5f\"/>\n       <use x=\"188.085938\" xlink:href=\"#DejaVuSans-46\"/>\n       <use x=\"245.605469\" xlink:href=\"#DejaVuSans-34\"/>\n       <use x=\"309.228516\" xlink:href=\"#DejaVuSans-39\"/>\n      </g>\n     </g>\n    </g>\n    <g id=\"ytick_121\">\n     <g id=\"line2d_129\">\n      <g>\n       <use style=\"stroke:#000000;stroke-width:0.8;\" x=\"61.001562\" xlink:href=\"#m86e9d2eb80\" y=\"731.497435\"/>\n      </g>\n     </g>\n     <g id=\"text_129\">\n      <!-- F107 -->\n      <g transform=\"translate(29.1625 735.296654)scale(0.1 -0.1)\">\n       <use xlink:href=\"#DejaVuSans-46\"/>\n       <use x=\"57.519531\" xlink:href=\"#DejaVuSans-31\"/>\n       <use x=\"121.142578\" xlink:href=\"#DejaVuSans-30\"/>\n       <use x=\"184.765625\" xlink:href=\"#DejaVuSans-37\"/>\n      </g>\n     </g>\n    </g>\n    <g id=\"ytick_122\">\n     <g id=\"line2d_130\">\n      <g>\n       <use style=\"stroke:#000000;stroke-width:0.8;\" x=\"61.001562\" xlink:href=\"#m86e9d2eb80\" y=\"728.373297\"/>\n      </g>\n     </g>\n     <g id=\"text_130\">\n      <!-- F24 -->\n      <g transform=\"translate(35.525 732.172516)scale(0.1 -0.1)\">\n       <use xlink:href=\"#DejaVuSans-46\"/>\n       <use x=\"57.519531\" xlink:href=\"#DejaVuSans-32\"/>\n       <use x=\"121.142578\" xlink:href=\"#DejaVuSans-34\"/>\n      </g>\n     </g>\n    </g>\n    <g id=\"ytick_123\">\n     <g id=\"line2d_131\">\n      <g>\n       <use style=\"stroke:#000000;stroke-width:0.8;\" x=\"61.001562\" xlink:href=\"#m86e9d2eb80\" y=\"725.249159\"/>\n      </g>\n     </g>\n     <g id=\"text_131\">\n      <!-- F157 -->\n      <g transform=\"translate(29.1625 729.048378)scale(0.1 -0.1)\">\n       <use xlink:href=\"#DejaVuSans-46\"/>\n       <use x=\"57.519531\" xlink:href=\"#DejaVuSans-31\"/>\n       <use x=\"121.142578\" xlink:href=\"#DejaVuSans-35\"/>\n       <use x=\"184.765625\" xlink:href=\"#DejaVuSans-37\"/>\n      </g>\n     </g>\n    </g>\n    <g id=\"ytick_124\">\n     <g id=\"line2d_132\">\n      <g>\n       <use style=\"stroke:#000000;stroke-width:0.8;\" x=\"61.001562\" xlink:href=\"#m86e9d2eb80\" y=\"722.125022\"/>\n      </g>\n     </g>\n     <g id=\"text_132\">\n      <!-- F113 -->\n      <g transform=\"translate(29.1625 725.92424)scale(0.1 -0.1)\">\n       <use xlink:href=\"#DejaVuSans-46\"/>\n       <use x=\"57.519531\" xlink:href=\"#DejaVuSans-31\"/>\n       <use x=\"121.142578\" xlink:href=\"#DejaVuSans-31\"/>\n       <use x=\"184.765625\" xlink:href=\"#DejaVuSans-33\"/>\n      </g>\n     </g>\n    </g>\n    <g id=\"ytick_125\">\n     <g id=\"line2d_133\">\n      <g>\n       <use style=\"stroke:#000000;stroke-width:0.8;\" x=\"61.001562\" xlink:href=\"#m86e9d2eb80\" y=\"719.000884\"/>\n      </g>\n     </g>\n     <g id=\"text_133\">\n      <!-- F143 -->\n      <g transform=\"translate(29.1625 722.800102)scale(0.1 -0.1)\">\n       <use xlink:href=\"#DejaVuSans-46\"/>\n       <use x=\"57.519531\" xlink:href=\"#DejaVuSans-31\"/>\n       <use x=\"121.142578\" xlink:href=\"#DejaVuSans-34\"/>\n       <use x=\"184.765625\" xlink:href=\"#DejaVuSans-33\"/>\n      </g>\n     </g>\n    </g>\n    <g id=\"ytick_126\">\n     <g id=\"line2d_134\">\n      <g>\n       <use style=\"stroke:#000000;stroke-width:0.8;\" x=\"61.001562\" xlink:href=\"#m86e9d2eb80\" y=\"715.876746\"/>\n      </g>\n     </g>\n     <g id=\"text_134\">\n      <!-- F167 -->\n      <g transform=\"translate(29.1625 719.675964)scale(0.1 -0.1)\">\n       <use xlink:href=\"#DejaVuSans-46\"/>\n       <use x=\"57.519531\" xlink:href=\"#DejaVuSans-31\"/>\n       <use x=\"121.142578\" xlink:href=\"#DejaVuSans-36\"/>\n       <use x=\"184.765625\" xlink:href=\"#DejaVuSans-37\"/>\n      </g>\n     </g>\n    </g>\n    <g id=\"ytick_127\">\n     <g id=\"line2d_135\">\n      <g>\n       <use style=\"stroke:#000000;stroke-width:0.8;\" x=\"61.001562\" xlink:href=\"#m86e9d2eb80\" y=\"712.752608\"/>\n      </g>\n     </g>\n     <g id=\"text_135\">\n      <!-- GRM_F40 -->\n      <g transform=\"translate(7.2 716.463545)scale(0.1 -0.1)\">\n       <use xlink:href=\"#DejaVuSans-47\"/>\n       <use x=\"77.490234\" xlink:href=\"#DejaVuSans-52\"/>\n       <use x=\"146.972656\" xlink:href=\"#DejaVuSans-4d\"/>\n       <use x=\"233.251953\" xlink:href=\"#DejaVuSans-5f\"/>\n       <use x=\"283.251953\" xlink:href=\"#DejaVuSans-46\"/>\n       <use x=\"340.771484\" xlink:href=\"#DejaVuSans-34\"/>\n       <use x=\"404.394531\" xlink:href=\"#DejaVuSans-30\"/>\n      </g>\n     </g>\n    </g>\n    <g id=\"ytick_128\">\n     <g id=\"line2d_136\">\n      <g>\n       <use style=\"stroke:#000000;stroke-width:0.8;\" x=\"61.001562\" xlink:href=\"#m86e9d2eb80\" y=\"709.62847\"/>\n      </g>\n     </g>\n     <g id=\"text_136\">\n      <!-- F124 -->\n      <g transform=\"translate(29.1625 713.427689)scale(0.1 -0.1)\">\n       <use xlink:href=\"#DejaVuSans-46\"/>\n       <use x=\"57.519531\" xlink:href=\"#DejaVuSans-31\"/>\n       <use x=\"121.142578\" xlink:href=\"#DejaVuSans-32\"/>\n       <use x=\"184.765625\" xlink:href=\"#DejaVuSans-34\"/>\n      </g>\n     </g>\n    </g>\n    <g id=\"ytick_129\">\n     <g id=\"line2d_137\">\n      <g>\n       <use style=\"stroke:#000000;stroke-width:0.8;\" x=\"61.001562\" xlink:href=\"#m86e9d2eb80\" y=\"706.504332\"/>\n      </g>\n     </g>\n     <g id=\"text_137\">\n      <!-- F140 -->\n      <g transform=\"translate(29.1625 710.303551)scale(0.1 -0.1)\">\n       <use xlink:href=\"#DejaVuSans-46\"/>\n       <use x=\"57.519531\" xlink:href=\"#DejaVuSans-31\"/>\n       <use x=\"121.142578\" xlink:href=\"#DejaVuSans-34\"/>\n       <use x=\"184.765625\" xlink:href=\"#DejaVuSans-30\"/>\n      </g>\n     </g>\n    </g>\n    <g id=\"ytick_130\">\n     <g id=\"line2d_138\">\n      <g>\n       <use style=\"stroke:#000000;stroke-width:0.8;\" x=\"61.001562\" xlink:href=\"#m86e9d2eb80\" y=\"703.380194\"/>\n      </g>\n     </g>\n     <g id=\"text_138\">\n      <!-- F144 -->\n      <g transform=\"translate(29.1625 707.179413)scale(0.1 -0.1)\">\n       <use xlink:href=\"#DejaVuSans-46\"/>\n       <use x=\"57.519531\" xlink:href=\"#DejaVuSans-31\"/>\n       <use x=\"121.142578\" xlink:href=\"#DejaVuSans-34\"/>\n       <use x=\"184.765625\" xlink:href=\"#DejaVuSans-34\"/>\n      </g>\n     </g>\n    </g>\n    <g id=\"ytick_131\">\n     <g id=\"line2d_139\">\n      <g>\n       <use style=\"stroke:#000000;stroke-width:0.8;\" x=\"61.001562\" xlink:href=\"#m86e9d2eb80\" y=\"700.256056\"/>\n      </g>\n     </g>\n     <g id=\"text_139\">\n      <!-- F86 -->\n      <g transform=\"translate(35.525 704.055275)scale(0.1 -0.1)\">\n       <use xlink:href=\"#DejaVuSans-46\"/>\n       <use x=\"57.519531\" xlink:href=\"#DejaVuSans-38\"/>\n       <use x=\"121.142578\" xlink:href=\"#DejaVuSans-36\"/>\n      </g>\n     </g>\n    </g>\n    <g id=\"ytick_132\">\n     <g id=\"line2d_140\">\n      <g>\n       <use style=\"stroke:#000000;stroke-width:0.8;\" x=\"61.001562\" xlink:href=\"#m86e9d2eb80\" y=\"697.131918\"/>\n      </g>\n     </g>\n     <g id=\"text_140\">\n      <!-- F133 -->\n      <g transform=\"translate(29.1625 700.931137)scale(0.1 -0.1)\">\n       <use xlink:href=\"#DejaVuSans-46\"/>\n       <use x=\"57.519531\" xlink:href=\"#DejaVuSans-31\"/>\n       <use x=\"121.142578\" xlink:href=\"#DejaVuSans-33\"/>\n       <use x=\"184.765625\" xlink:href=\"#DejaVuSans-33\"/>\n      </g>\n     </g>\n    </g>\n    <g id=\"ytick_133\">\n     <g id=\"line2d_141\">\n      <g>\n       <use style=\"stroke:#000000;stroke-width:0.8;\" x=\"61.001562\" xlink:href=\"#m86e9d2eb80\" y=\"694.00778\"/>\n      </g>\n     </g>\n     <g id=\"text_141\">\n      <!-- GRM_F33 -->\n      <g transform=\"translate(7.2 697.718718)scale(0.1 -0.1)\">\n       <use xlink:href=\"#DejaVuSans-47\"/>\n       <use x=\"77.490234\" xlink:href=\"#DejaVuSans-52\"/>\n       <use x=\"146.972656\" xlink:href=\"#DejaVuSans-4d\"/>\n       <use x=\"233.251953\" xlink:href=\"#DejaVuSans-5f\"/>\n       <use x=\"283.251953\" xlink:href=\"#DejaVuSans-46\"/>\n       <use x=\"340.771484\" xlink:href=\"#DejaVuSans-33\"/>\n       <use x=\"404.394531\" xlink:href=\"#DejaVuSans-33\"/>\n      </g>\n     </g>\n    </g>\n    <g id=\"ytick_134\">\n     <g id=\"line2d_142\">\n      <g>\n       <use style=\"stroke:#000000;stroke-width:0.8;\" x=\"61.001562\" xlink:href=\"#m86e9d2eb80\" y=\"690.883642\"/>\n      </g>\n     </g>\n     <g id=\"text_142\">\n      <!-- F297 -->\n      <g transform=\"translate(29.1625 694.682861)scale(0.1 -0.1)\">\n       <use xlink:href=\"#DejaVuSans-46\"/>\n       <use x=\"57.519531\" xlink:href=\"#DejaVuSans-32\"/>\n       <use x=\"121.142578\" xlink:href=\"#DejaVuSans-39\"/>\n       <use x=\"184.765625\" xlink:href=\"#DejaVuSans-37\"/>\n      </g>\n     </g>\n    </g>\n    <g id=\"ytick_135\">\n     <g id=\"line2d_143\">\n      <g>\n       <use style=\"stroke:#000000;stroke-width:0.8;\" x=\"61.001562\" xlink:href=\"#m86e9d2eb80\" y=\"687.759504\"/>\n      </g>\n     </g>\n     <g id=\"text_143\">\n      <!-- F33 -->\n      <g transform=\"translate(35.525 691.558723)scale(0.1 -0.1)\">\n       <use xlink:href=\"#DejaVuSans-46\"/>\n       <use x=\"57.519531\" xlink:href=\"#DejaVuSans-33\"/>\n       <use x=\"121.142578\" xlink:href=\"#DejaVuSans-33\"/>\n      </g>\n     </g>\n    </g>\n    <g id=\"ytick_136\">\n     <g id=\"line2d_144\">\n      <g>\n       <use style=\"stroke:#000000;stroke-width:0.8;\" x=\"61.001562\" xlink:href=\"#m86e9d2eb80\" y=\"684.635366\"/>\n      </g>\n     </g>\n     <g id=\"text_144\">\n      <!-- F96 -->\n      <g transform=\"translate(35.525 688.434585)scale(0.1 -0.1)\">\n       <use xlink:href=\"#DejaVuSans-46\"/>\n       <use x=\"57.519531\" xlink:href=\"#DejaVuSans-39\"/>\n       <use x=\"121.142578\" xlink:href=\"#DejaVuSans-36\"/>\n      </g>\n     </g>\n    </g>\n    <g id=\"ytick_137\">\n     <g id=\"line2d_145\">\n      <g>\n       <use style=\"stroke:#000000;stroke-width:0.8;\" x=\"61.001562\" xlink:href=\"#m86e9d2eb80\" y=\"681.511228\"/>\n      </g>\n     </g>\n     <g id=\"text_145\">\n      <!-- F150 -->\n      <g transform=\"translate(29.1625 685.310447)scale(0.1 -0.1)\">\n       <use xlink:href=\"#DejaVuSans-46\"/>\n       <use x=\"57.519531\" xlink:href=\"#DejaVuSans-31\"/>\n       <use x=\"121.142578\" xlink:href=\"#DejaVuSans-35\"/>\n       <use x=\"184.765625\" xlink:href=\"#DejaVuSans-30\"/>\n      </g>\n     </g>\n    </g>\n    <g id=\"ytick_138\">\n     <g id=\"line2d_146\">\n      <g>\n       <use style=\"stroke:#000000;stroke-width:0.8;\" x=\"61.001562\" xlink:href=\"#m86e9d2eb80\" y=\"678.387091\"/>\n      </g>\n     </g>\n     <g id=\"text_146\">\n      <!-- F252 -->\n      <g transform=\"translate(29.1625 682.186309)scale(0.1 -0.1)\">\n       <use xlink:href=\"#DejaVuSans-46\"/>\n       <use x=\"57.519531\" xlink:href=\"#DejaVuSans-32\"/>\n       <use x=\"121.142578\" xlink:href=\"#DejaVuSans-35\"/>\n       <use x=\"184.765625\" xlink:href=\"#DejaVuSans-32\"/>\n      </g>\n     </g>\n    </g>\n    <g id=\"ytick_139\">\n     <g id=\"line2d_147\">\n      <g>\n       <use style=\"stroke:#000000;stroke-width:0.8;\" x=\"61.001562\" xlink:href=\"#m86e9d2eb80\" y=\"675.262953\"/>\n      </g>\n     </g>\n     <g id=\"text_147\">\n      <!-- F266 -->\n      <g transform=\"translate(29.1625 679.062171)scale(0.1 -0.1)\">\n       <use xlink:href=\"#DejaVuSans-46\"/>\n       <use x=\"57.519531\" xlink:href=\"#DejaVuSans-32\"/>\n       <use x=\"121.142578\" xlink:href=\"#DejaVuSans-36\"/>\n       <use x=\"184.765625\" xlink:href=\"#DejaVuSans-36\"/>\n      </g>\n     </g>\n    </g>\n    <g id=\"ytick_140\">\n     <g id=\"line2d_148\">\n      <g>\n       <use style=\"stroke:#000000;stroke-width:0.8;\" x=\"61.001562\" xlink:href=\"#m86e9d2eb80\" y=\"672.138815\"/>\n      </g>\n     </g>\n     <g id=\"text_148\">\n      <!-- F119 -->\n      <g transform=\"translate(29.1625 675.938033)scale(0.1 -0.1)\">\n       <use xlink:href=\"#DejaVuSans-46\"/>\n       <use x=\"57.519531\" xlink:href=\"#DejaVuSans-31\"/>\n       <use x=\"121.142578\" xlink:href=\"#DejaVuSans-31\"/>\n       <use x=\"184.765625\" xlink:href=\"#DejaVuSans-39\"/>\n      </g>\n     </g>\n    </g>\n    <g id=\"ytick_141\">\n     <g id=\"line2d_149\">\n      <g>\n       <use style=\"stroke:#000000;stroke-width:0.8;\" x=\"61.001562\" xlink:href=\"#m86e9d2eb80\" y=\"669.014677\"/>\n      </g>\n     </g>\n     <g id=\"text_149\">\n      <!-- F129 -->\n      <g transform=\"translate(29.1625 672.813895)scale(0.1 -0.1)\">\n       <use xlink:href=\"#DejaVuSans-46\"/>\n       <use x=\"57.519531\" xlink:href=\"#DejaVuSans-31\"/>\n       <use x=\"121.142578\" xlink:href=\"#DejaVuSans-32\"/>\n       <use x=\"184.765625\" xlink:href=\"#DejaVuSans-39\"/>\n      </g>\n     </g>\n    </g>\n    <g id=\"ytick_142\">\n     <g id=\"line2d_150\">\n      <g>\n       <use style=\"stroke:#000000;stroke-width:0.8;\" x=\"61.001562\" xlink:href=\"#m86e9d2eb80\" y=\"665.890539\"/>\n      </g>\n     </g>\n     <g id=\"text_150\">\n      <!-- F132 -->\n      <g transform=\"translate(29.1625 669.689758)scale(0.1 -0.1)\">\n       <use xlink:href=\"#DejaVuSans-46\"/>\n       <use x=\"57.519531\" xlink:href=\"#DejaVuSans-31\"/>\n       <use x=\"121.142578\" xlink:href=\"#DejaVuSans-33\"/>\n       <use x=\"184.765625\" xlink:href=\"#DejaVuSans-32\"/>\n      </g>\n     </g>\n    </g>\n    <g id=\"ytick_143\">\n     <g id=\"line2d_151\">\n      <g>\n       <use style=\"stroke:#000000;stroke-width:0.8;\" x=\"61.001562\" xlink:href=\"#m86e9d2eb80\" y=\"662.766401\"/>\n      </g>\n     </g>\n     <g id=\"text_151\">\n      <!-- F298 -->\n      <g transform=\"translate(29.1625 666.56562)scale(0.1 -0.1)\">\n       <use xlink:href=\"#DejaVuSans-46\"/>\n       <use x=\"57.519531\" xlink:href=\"#DejaVuSans-32\"/>\n       <use x=\"121.142578\" xlink:href=\"#DejaVuSans-39\"/>\n       <use x=\"184.765625\" xlink:href=\"#DejaVuSans-38\"/>\n      </g>\n     </g>\n    </g>\n    <g id=\"ytick_144\">\n     <g id=\"line2d_152\">\n      <g>\n       <use style=\"stroke:#000000;stroke-width:0.8;\" x=\"61.001562\" xlink:href=\"#m86e9d2eb80\" y=\"659.642263\"/>\n      </g>\n     </g>\n     <g id=\"text_152\">\n      <!-- F78 -->\n      <g transform=\"translate(35.525 663.441482)scale(0.1 -0.1)\">\n       <use xlink:href=\"#DejaVuSans-46\"/>\n       <use x=\"57.519531\" xlink:href=\"#DejaVuSans-37\"/>\n       <use x=\"121.142578\" xlink:href=\"#DejaVuSans-38\"/>\n      </g>\n     </g>\n    </g>\n    <g id=\"ytick_145\">\n     <g id=\"line2d_153\">\n      <g>\n       <use style=\"stroke:#000000;stroke-width:0.8;\" x=\"61.001562\" xlink:href=\"#m86e9d2eb80\" y=\"656.518125\"/>\n      </g>\n     </g>\n     <g id=\"text_153\">\n      <!-- F228 -->\n      <g transform=\"translate(29.1625 660.317344)scale(0.1 -0.1)\">\n       <use xlink:href=\"#DejaVuSans-46\"/>\n       <use x=\"57.519531\" xlink:href=\"#DejaVuSans-32\"/>\n       <use x=\"121.142578\" xlink:href=\"#DejaVuSans-32\"/>\n       <use x=\"184.765625\" xlink:href=\"#DejaVuSans-38\"/>\n      </g>\n     </g>\n    </g>\n    <g id=\"ytick_146\">\n     <g id=\"line2d_154\">\n      <g>\n       <use style=\"stroke:#000000;stroke-width:0.8;\" x=\"61.001562\" xlink:href=\"#m86e9d2eb80\" y=\"653.393987\"/>\n      </g>\n     </g>\n     <g id=\"text_154\">\n      <!-- F287 -->\n      <g transform=\"translate(29.1625 657.193206)scale(0.1 -0.1)\">\n       <use xlink:href=\"#DejaVuSans-46\"/>\n       <use x=\"57.519531\" xlink:href=\"#DejaVuSans-32\"/>\n       <use x=\"121.142578\" xlink:href=\"#DejaVuSans-38\"/>\n       <use x=\"184.765625\" xlink:href=\"#DejaVuSans-37\"/>\n      </g>\n     </g>\n    </g>\n    <g id=\"ytick_147\">\n     <g id=\"line2d_155\">\n      <g>\n       <use style=\"stroke:#000000;stroke-width:0.8;\" x=\"61.001562\" xlink:href=\"#m86e9d2eb80\" y=\"650.269849\"/>\n      </g>\n     </g>\n     <g id=\"text_155\">\n      <!-- TD_F1 -->\n      <g transform=\"translate(23.079687 653.930005)scale(0.1 -0.1)\">\n       <use xlink:href=\"#DejaVuSans-54\"/>\n       <use x=\"61.083984\" xlink:href=\"#DejaVuSans-44\"/>\n       <use x=\"138.085938\" xlink:href=\"#DejaVuSans-5f\"/>\n       <use x=\"188.085938\" xlink:href=\"#DejaVuSans-46\"/>\n       <use x=\"245.605469\" xlink:href=\"#DejaVuSans-31\"/>\n      </g>\n     </g>\n    </g>\n    <g id=\"ytick_148\">\n     <g id=\"line2d_156\">\n      <g>\n       <use style=\"stroke:#000000;stroke-width:0.8;\" x=\"61.001562\" xlink:href=\"#m86e9d2eb80\" y=\"647.145711\"/>\n      </g>\n     </g>\n     <g id=\"text_156\">\n      <!-- F72 -->\n      <g transform=\"translate(35.525 650.94493)scale(0.1 -0.1)\">\n       <use xlink:href=\"#DejaVuSans-46\"/>\n       <use x=\"57.519531\" xlink:href=\"#DejaVuSans-37\"/>\n       <use x=\"121.142578\" xlink:href=\"#DejaVuSans-32\"/>\n      </g>\n     </g>\n    </g>\n    <g id=\"ytick_149\">\n     <g id=\"line2d_157\">\n      <g>\n       <use style=\"stroke:#000000;stroke-width:0.8;\" x=\"61.001562\" xlink:href=\"#m86e9d2eb80\" y=\"644.021573\"/>\n      </g>\n     </g>\n     <g id=\"text_157\">\n      <!-- F149 -->\n      <g transform=\"translate(29.1625 647.820792)scale(0.1 -0.1)\">\n       <use xlink:href=\"#DejaVuSans-46\"/>\n       <use x=\"57.519531\" xlink:href=\"#DejaVuSans-31\"/>\n       <use x=\"121.142578\" xlink:href=\"#DejaVuSans-34\"/>\n       <use x=\"184.765625\" xlink:href=\"#DejaVuSans-39\"/>\n      </g>\n     </g>\n    </g>\n    <g id=\"ytick_150\">\n     <g id=\"line2d_158\">\n      <g>\n       <use style=\"stroke:#000000;stroke-width:0.8;\" x=\"61.001562\" xlink:href=\"#m86e9d2eb80\" y=\"640.897435\"/>\n      </g>\n     </g>\n     <g id=\"text_158\">\n      <!-- GRM_F35 -->\n      <g transform=\"translate(7.2 644.608373)scale(0.1 -0.1)\">\n       <use xlink:href=\"#DejaVuSans-47\"/>\n       <use x=\"77.490234\" xlink:href=\"#DejaVuSans-52\"/>\n       <use x=\"146.972656\" xlink:href=\"#DejaVuSans-4d\"/>\n       <use x=\"233.251953\" xlink:href=\"#DejaVuSans-5f\"/>\n       <use x=\"283.251953\" xlink:href=\"#DejaVuSans-46\"/>\n       <use x=\"340.771484\" xlink:href=\"#DejaVuSans-33\"/>\n       <use x=\"404.394531\" xlink:href=\"#DejaVuSans-35\"/>\n      </g>\n     </g>\n    </g>\n    <g id=\"ytick_151\">\n     <g id=\"line2d_159\">\n      <g>\n       <use style=\"stroke:#000000;stroke-width:0.8;\" x=\"61.001562\" xlink:href=\"#m86e9d2eb80\" y=\"637.773297\"/>\n      </g>\n     </g>\n     <g id=\"text_159\">\n      <!-- WD_F14 -->\n      <g transform=\"translate(12.9375 641.433454)scale(0.1 -0.1)\">\n       <use xlink:href=\"#DejaVuSans-57\"/>\n       <use x=\"98.876953\" xlink:href=\"#DejaVuSans-44\"/>\n       <use x=\"175.878906\" xlink:href=\"#DejaVuSans-5f\"/>\n       <use x=\"225.878906\" xlink:href=\"#DejaVuSans-46\"/>\n       <use x=\"283.398438\" xlink:href=\"#DejaVuSans-31\"/>\n       <use x=\"347.021484\" xlink:href=\"#DejaVuSans-34\"/>\n      </g>\n     </g>\n    </g>\n    <g id=\"ytick_152\">\n     <g id=\"line2d_160\">\n      <g>\n       <use style=\"stroke:#000000;stroke-width:0.8;\" x=\"61.001562\" xlink:href=\"#m86e9d2eb80\" y=\"634.649159\"/>\n      </g>\n     </g>\n     <g id=\"text_160\">\n      <!-- F127 -->\n      <g transform=\"translate(29.1625 638.448378)scale(0.1 -0.1)\">\n       <use xlink:href=\"#DejaVuSans-46\"/>\n       <use x=\"57.519531\" xlink:href=\"#DejaVuSans-31\"/>\n       <use x=\"121.142578\" xlink:href=\"#DejaVuSans-32\"/>\n       <use x=\"184.765625\" xlink:href=\"#DejaVuSans-37\"/>\n      </g>\n     </g>\n    </g>\n    <g id=\"ytick_153\">\n     <g id=\"line2d_161\">\n      <g>\n       <use style=\"stroke:#000000;stroke-width:0.8;\" x=\"61.001562\" xlink:href=\"#m86e9d2eb80\" y=\"631.525022\"/>\n      </g>\n     </g>\n     <g id=\"text_161\">\n      <!-- F112 -->\n      <g transform=\"translate(29.1625 635.32424)scale(0.1 -0.1)\">\n       <use xlink:href=\"#DejaVuSans-46\"/>\n       <use x=\"57.519531\" xlink:href=\"#DejaVuSans-31\"/>\n       <use x=\"121.142578\" xlink:href=\"#DejaVuSans-31\"/>\n       <use x=\"184.765625\" xlink:href=\"#DejaVuSans-32\"/>\n      </g>\n     </g>\n    </g>\n    <g id=\"ytick_154\">\n     <g id=\"line2d_162\">\n      <g>\n       <use style=\"stroke:#000000;stroke-width:0.8;\" x=\"61.001562\" xlink:href=\"#m86e9d2eb80\" y=\"628.400884\"/>\n      </g>\n     </g>\n     <g id=\"text_162\">\n      <!-- F122 -->\n      <g transform=\"translate(29.1625 632.200102)scale(0.1 -0.1)\">\n       <use xlink:href=\"#DejaVuSans-46\"/>\n       <use x=\"57.519531\" xlink:href=\"#DejaVuSans-31\"/>\n       <use x=\"121.142578\" xlink:href=\"#DejaVuSans-32\"/>\n       <use x=\"184.765625\" xlink:href=\"#DejaVuSans-32\"/>\n      </g>\n     </g>\n    </g>\n    <g id=\"ytick_155\">\n     <g id=\"line2d_163\">\n      <g>\n       <use style=\"stroke:#000000;stroke-width:0.8;\" x=\"61.001562\" xlink:href=\"#m86e9d2eb80\" y=\"625.276746\"/>\n      </g>\n     </g>\n     <g id=\"text_163\">\n      <!-- F213 -->\n      <g transform=\"translate(29.1625 629.075964)scale(0.1 -0.1)\">\n       <use xlink:href=\"#DejaVuSans-46\"/>\n       <use x=\"57.519531\" xlink:href=\"#DejaVuSans-32\"/>\n       <use x=\"121.142578\" xlink:href=\"#DejaVuSans-31\"/>\n       <use x=\"184.765625\" xlink:href=\"#DejaVuSans-33\"/>\n      </g>\n     </g>\n    </g>\n    <g id=\"ytick_156\">\n     <g id=\"line2d_164\">\n      <g>\n       <use style=\"stroke:#000000;stroke-width:0.8;\" x=\"61.001562\" xlink:href=\"#m86e9d2eb80\" y=\"622.152608\"/>\n      </g>\n     </g>\n     <g id=\"text_164\">\n      <!-- F295 -->\n      <g transform=\"translate(29.1625 625.951827)scale(0.1 -0.1)\">\n       <use xlink:href=\"#DejaVuSans-46\"/>\n       <use x=\"57.519531\" xlink:href=\"#DejaVuSans-32\"/>\n       <use x=\"121.142578\" xlink:href=\"#DejaVuSans-39\"/>\n       <use x=\"184.765625\" xlink:href=\"#DejaVuSans-35\"/>\n      </g>\n     </g>\n    </g>\n    <g id=\"ytick_157\">\n     <g id=\"line2d_165\">\n      <g>\n       <use style=\"stroke:#000000;stroke-width:0.8;\" x=\"61.001562\" xlink:href=\"#m86e9d2eb80\" y=\"619.02847\"/>\n      </g>\n     </g>\n     <g id=\"text_165\">\n      <!-- F164 -->\n      <g transform=\"translate(29.1625 622.827689)scale(0.1 -0.1)\">\n       <use xlink:href=\"#DejaVuSans-46\"/>\n       <use x=\"57.519531\" xlink:href=\"#DejaVuSans-31\"/>\n       <use x=\"121.142578\" xlink:href=\"#DejaVuSans-36\"/>\n       <use x=\"184.765625\" xlink:href=\"#DejaVuSans-34\"/>\n      </g>\n     </g>\n    </g>\n    <g id=\"ytick_158\">\n     <g id=\"line2d_166\">\n      <g>\n       <use style=\"stroke:#000000;stroke-width:0.8;\" x=\"61.001562\" xlink:href=\"#m86e9d2eb80\" y=\"615.904332\"/>\n      </g>\n     </g>\n     <g id=\"text_166\">\n      <!-- F261 -->\n      <g transform=\"translate(29.1625 619.703551)scale(0.1 -0.1)\">\n       <use xlink:href=\"#DejaVuSans-46\"/>\n       <use x=\"57.519531\" xlink:href=\"#DejaVuSans-32\"/>\n       <use x=\"121.142578\" xlink:href=\"#DejaVuSans-36\"/>\n       <use x=\"184.765625\" xlink:href=\"#DejaVuSans-31\"/>\n      </g>\n     </g>\n    </g>\n    <g id=\"ytick_159\">\n     <g id=\"line2d_167\">\n      <g>\n       <use style=\"stroke:#000000;stroke-width:0.8;\" x=\"61.001562\" xlink:href=\"#m86e9d2eb80\" y=\"612.780194\"/>\n      </g>\n     </g>\n     <g id=\"text_167\">\n      <!-- F94 -->\n      <g transform=\"translate(35.525 616.579413)scale(0.1 -0.1)\">\n       <use xlink:href=\"#DejaVuSans-46\"/>\n       <use x=\"57.519531\" xlink:href=\"#DejaVuSans-39\"/>\n       <use x=\"121.142578\" xlink:href=\"#DejaVuSans-34\"/>\n      </g>\n     </g>\n    </g>\n    <g id=\"ytick_160\">\n     <g id=\"line2d_168\">\n      <g>\n       <use style=\"stroke:#000000;stroke-width:0.8;\" x=\"61.001562\" xlink:href=\"#m86e9d2eb80\" y=\"609.656056\"/>\n      </g>\n     </g>\n     <g id=\"text_168\">\n      <!-- F293 -->\n      <g transform=\"translate(29.1625 613.455275)scale(0.1 -0.1)\">\n       <use xlink:href=\"#DejaVuSans-46\"/>\n       <use x=\"57.519531\" xlink:href=\"#DejaVuSans-32\"/>\n       <use x=\"121.142578\" xlink:href=\"#DejaVuSans-39\"/>\n       <use x=\"184.765625\" xlink:href=\"#DejaVuSans-33\"/>\n      </g>\n     </g>\n    </g>\n    <g id=\"ytick_161\">\n     <g id=\"line2d_169\">\n      <g>\n       <use style=\"stroke:#000000;stroke-width:0.8;\" x=\"61.001562\" xlink:href=\"#m86e9d2eb80\" y=\"606.531918\"/>\n      </g>\n     </g>\n     <g id=\"text_169\">\n      <!-- F88 -->\n      <g transform=\"translate(35.525 610.331137)scale(0.1 -0.1)\">\n       <use xlink:href=\"#DejaVuSans-46\"/>\n       <use x=\"57.519531\" xlink:href=\"#DejaVuSans-38\"/>\n       <use x=\"121.142578\" xlink:href=\"#DejaVuSans-38\"/>\n      </g>\n     </g>\n    </g>\n    <g id=\"ytick_162\">\n     <g id=\"line2d_170\">\n      <g>\n       <use style=\"stroke:#000000;stroke-width:0.8;\" x=\"61.001562\" xlink:href=\"#m86e9d2eb80\" y=\"603.40778\"/>\n      </g>\n     </g>\n     <g id=\"text_170\">\n      <!-- F21 -->\n      <g transform=\"translate(35.525 607.206999)scale(0.1 -0.1)\">\n       <use xlink:href=\"#DejaVuSans-46\"/>\n       <use x=\"57.519531\" xlink:href=\"#DejaVuSans-32\"/>\n       <use x=\"121.142578\" xlink:href=\"#DejaVuSans-31\"/>\n      </g>\n     </g>\n    </g>\n    <g id=\"ytick_163\">\n     <g id=\"line2d_171\">\n      <g>\n       <use style=\"stroke:#000000;stroke-width:0.8;\" x=\"61.001562\" xlink:href=\"#m86e9d2eb80\" y=\"600.283642\"/>\n      </g>\n     </g>\n     <g id=\"text_171\">\n      <!-- F197 -->\n      <g transform=\"translate(29.1625 604.082861)scale(0.1 -0.1)\">\n       <use xlink:href=\"#DejaVuSans-46\"/>\n       <use x=\"57.519531\" xlink:href=\"#DejaVuSans-31\"/>\n       <use x=\"121.142578\" xlink:href=\"#DejaVuSans-39\"/>\n       <use x=\"184.765625\" xlink:href=\"#DejaVuSans-37\"/>\n      </g>\n     </g>\n    </g>\n    <g id=\"ytick_164\">\n     <g id=\"line2d_172\">\n      <g>\n       <use style=\"stroke:#000000;stroke-width:0.8;\" x=\"61.001562\" xlink:href=\"#m86e9d2eb80\" y=\"597.159504\"/>\n      </g>\n     </g>\n     <g id=\"text_172\">\n      <!-- F0 -->\n      <g transform=\"translate(41.8875 600.958723)scale(0.1 -0.1)\">\n       <use xlink:href=\"#DejaVuSans-46\"/>\n       <use x=\"57.519531\" xlink:href=\"#DejaVuSans-30\"/>\n      </g>\n     </g>\n    </g>\n    <g id=\"ytick_165\">\n     <g id=\"line2d_173\">\n      <g>\n       <use style=\"stroke:#000000;stroke-width:0.8;\" x=\"61.001562\" xlink:href=\"#m86e9d2eb80\" y=\"594.035366\"/>\n      </g>\n     </g>\n     <g id=\"text_173\">\n      <!-- F241 -->\n      <g transform=\"translate(29.1625 597.834585)scale(0.1 -0.1)\">\n       <use xlink:href=\"#DejaVuSans-46\"/>\n       <use x=\"57.519531\" xlink:href=\"#DejaVuSans-32\"/>\n       <use x=\"121.142578\" xlink:href=\"#DejaVuSans-34\"/>\n       <use x=\"184.765625\" xlink:href=\"#DejaVuSans-31\"/>\n      </g>\n     </g>\n    </g>\n    <g id=\"ytick_166\">\n     <g id=\"line2d_174\">\n      <g>\n       <use style=\"stroke:#000000;stroke-width:0.8;\" x=\"61.001562\" xlink:href=\"#m86e9d2eb80\" y=\"590.911228\"/>\n      </g>\n     </g>\n     <g id=\"text_174\">\n      <!-- F55 -->\n      <g transform=\"translate(35.525 594.710447)scale(0.1 -0.1)\">\n       <use xlink:href=\"#DejaVuSans-46\"/>\n       <use x=\"57.519531\" xlink:href=\"#DejaVuSans-35\"/>\n       <use x=\"121.142578\" xlink:href=\"#DejaVuSans-35\"/>\n      </g>\n     </g>\n    </g>\n    <g id=\"ytick_167\">\n     <g id=\"line2d_175\">\n      <g>\n       <use style=\"stroke:#000000;stroke-width:0.8;\" x=\"61.001562\" xlink:href=\"#m86e9d2eb80\" y=\"587.787091\"/>\n      </g>\n     </g>\n     <g id=\"text_175\">\n      <!-- F14 -->\n      <g transform=\"translate(35.525 591.586309)scale(0.1 -0.1)\">\n       <use xlink:href=\"#DejaVuSans-46\"/>\n       <use x=\"57.519531\" xlink:href=\"#DejaVuSans-31\"/>\n       <use x=\"121.142578\" xlink:href=\"#DejaVuSans-34\"/>\n      </g>\n     </g>\n    </g>\n    <g id=\"ytick_168\">\n     <g id=\"line2d_176\">\n      <g>\n       <use style=\"stroke:#000000;stroke-width:0.8;\" x=\"61.001562\" xlink:href=\"#m86e9d2eb80\" y=\"584.662953\"/>\n      </g>\n     </g>\n     <g id=\"text_176\">\n      <!-- F104 -->\n      <g transform=\"translate(29.1625 588.462171)scale(0.1 -0.1)\">\n       <use xlink:href=\"#DejaVuSans-46\"/>\n       <use x=\"57.519531\" xlink:href=\"#DejaVuSans-31\"/>\n       <use x=\"121.142578\" xlink:href=\"#DejaVuSans-30\"/>\n       <use x=\"184.765625\" xlink:href=\"#DejaVuSans-34\"/>\n      </g>\n     </g>\n    </g>\n    <g id=\"ytick_169\">\n     <g id=\"line2d_177\">\n      <g>\n       <use style=\"stroke:#000000;stroke-width:0.8;\" x=\"61.001562\" xlink:href=\"#m86e9d2eb80\" y=\"581.538815\"/>\n      </g>\n     </g>\n     <g id=\"text_177\">\n      <!-- PSY_F37 -->\n      <g transform=\"translate(12.039062 585.249752)scale(0.1 -0.1)\">\n       <use xlink:href=\"#DejaVuSans-50\"/>\n       <use x=\"60.302734\" xlink:href=\"#DejaVuSans-53\"/>\n       <use x=\"123.779297\" xlink:href=\"#DejaVuSans-59\"/>\n       <use x=\"184.863281\" xlink:href=\"#DejaVuSans-5f\"/>\n       <use x=\"234.863281\" xlink:href=\"#DejaVuSans-46\"/>\n       <use x=\"292.382812\" xlink:href=\"#DejaVuSans-33\"/>\n       <use x=\"356.005859\" xlink:href=\"#DejaVuSans-37\"/>\n      </g>\n     </g>\n    </g>\n    <g id=\"ytick_170\">\n     <g id=\"line2d_178\">\n      <g>\n       <use style=\"stroke:#000000;stroke-width:0.8;\" x=\"61.001562\" xlink:href=\"#m86e9d2eb80\" y=\"578.414677\"/>\n      </g>\n     </g>\n     <g id=\"text_178\">\n      <!-- PSY_F39 -->\n      <g transform=\"translate(12.039062 582.125614)scale(0.1 -0.1)\">\n       <use xlink:href=\"#DejaVuSans-50\"/>\n       <use x=\"60.302734\" xlink:href=\"#DejaVuSans-53\"/>\n       <use x=\"123.779297\" xlink:href=\"#DejaVuSans-59\"/>\n       <use x=\"184.863281\" xlink:href=\"#DejaVuSans-5f\"/>\n       <use x=\"234.863281\" xlink:href=\"#DejaVuSans-46\"/>\n       <use x=\"292.382812\" xlink:href=\"#DejaVuSans-33\"/>\n       <use x=\"356.005859\" xlink:href=\"#DejaVuSans-39\"/>\n      </g>\n     </g>\n    </g>\n    <g id=\"ytick_171\">\n     <g id=\"line2d_179\">\n      <g>\n       <use style=\"stroke:#000000;stroke-width:0.8;\" x=\"61.001562\" xlink:href=\"#m86e9d2eb80\" y=\"575.290539\"/>\n      </g>\n     </g>\n     <g id=\"text_179\">\n      <!-- F273 -->\n      <g transform=\"translate(29.1625 579.089758)scale(0.1 -0.1)\">\n       <use xlink:href=\"#DejaVuSans-46\"/>\n       <use x=\"57.519531\" xlink:href=\"#DejaVuSans-32\"/>\n       <use x=\"121.142578\" xlink:href=\"#DejaVuSans-37\"/>\n       <use x=\"184.765625\" xlink:href=\"#DejaVuSans-33\"/>\n      </g>\n     </g>\n    </g>\n    <g id=\"ytick_172\">\n     <g id=\"line2d_180\">\n      <g>\n       <use style=\"stroke:#000000;stroke-width:0.8;\" x=\"61.001562\" xlink:href=\"#m86e9d2eb80\" y=\"572.166401\"/>\n      </g>\n     </g>\n     <g id=\"text_180\">\n      <!-- F17 -->\n      <g transform=\"translate(35.525 575.96562)scale(0.1 -0.1)\">\n       <use xlink:href=\"#DejaVuSans-46\"/>\n       <use x=\"57.519531\" xlink:href=\"#DejaVuSans-31\"/>\n       <use x=\"121.142578\" xlink:href=\"#DejaVuSans-37\"/>\n      </g>\n     </g>\n    </g>\n    <g id=\"ytick_173\">\n     <g id=\"line2d_181\">\n      <g>\n       <use style=\"stroke:#000000;stroke-width:0.8;\" x=\"61.001562\" xlink:href=\"#m86e9d2eb80\" y=\"569.042263\"/>\n      </g>\n     </g>\n     <g id=\"text_181\">\n      <!-- F189 -->\n      <g transform=\"translate(29.1625 572.841482)scale(0.1 -0.1)\">\n       <use xlink:href=\"#DejaVuSans-46\"/>\n       <use x=\"57.519531\" xlink:href=\"#DejaVuSans-31\"/>\n       <use x=\"121.142578\" xlink:href=\"#DejaVuSans-38\"/>\n       <use x=\"184.765625\" xlink:href=\"#DejaVuSans-39\"/>\n      </g>\n     </g>\n    </g>\n    <g id=\"ytick_174\">\n     <g id=\"line2d_182\">\n      <g>\n       <use style=\"stroke:#000000;stroke-width:0.8;\" x=\"61.001562\" xlink:href=\"#m86e9d2eb80\" y=\"565.918125\"/>\n      </g>\n     </g>\n     <g id=\"text_182\">\n      <!-- F185 -->\n      <g transform=\"translate(29.1625 569.717344)scale(0.1 -0.1)\">\n       <use xlink:href=\"#DejaVuSans-46\"/>\n       <use x=\"57.519531\" xlink:href=\"#DejaVuSans-31\"/>\n       <use x=\"121.142578\" xlink:href=\"#DejaVuSans-38\"/>\n       <use x=\"184.765625\" xlink:href=\"#DejaVuSans-35\"/>\n      </g>\n     </g>\n    </g>\n    <g id=\"ytick_175\">\n     <g id=\"line2d_183\">\n      <g>\n       <use style=\"stroke:#000000;stroke-width:0.8;\" x=\"61.001562\" xlink:href=\"#m86e9d2eb80\" y=\"562.793987\"/>\n      </g>\n     </g>\n     <g id=\"text_183\">\n      <!-- F3 -->\n      <g transform=\"translate(41.8875 566.593206)scale(0.1 -0.1)\">\n       <use xlink:href=\"#DejaVuSans-46\"/>\n       <use x=\"57.519531\" xlink:href=\"#DejaVuSans-33\"/>\n      </g>\n     </g>\n    </g>\n    <g id=\"ytick_176\">\n     <g id=\"line2d_184\">\n      <g>\n       <use style=\"stroke:#000000;stroke-width:0.8;\" x=\"61.001562\" xlink:href=\"#m86e9d2eb80\" y=\"559.669849\"/>\n      </g>\n     </g>\n     <g id=\"text_184\">\n      <!-- F226 -->\n      <g transform=\"translate(29.1625 563.469068)scale(0.1 -0.1)\">\n       <use xlink:href=\"#DejaVuSans-46\"/>\n       <use x=\"57.519531\" xlink:href=\"#DejaVuSans-32\"/>\n       <use x=\"121.142578\" xlink:href=\"#DejaVuSans-32\"/>\n       <use x=\"184.765625\" xlink:href=\"#DejaVuSans-36\"/>\n      </g>\n     </g>\n    </g>\n    <g id=\"ytick_177\">\n     <g id=\"line2d_185\">\n      <g>\n       <use style=\"stroke:#000000;stroke-width:0.8;\" x=\"61.001562\" xlink:href=\"#m86e9d2eb80\" y=\"556.545711\"/>\n      </g>\n     </g>\n     <g id=\"text_185\">\n      <!-- TD_F3 -->\n      <g transform=\"translate(23.079687 560.256649)scale(0.1 -0.1)\">\n       <use xlink:href=\"#DejaVuSans-54\"/>\n       <use x=\"61.083984\" xlink:href=\"#DejaVuSans-44\"/>\n       <use x=\"138.085938\" xlink:href=\"#DejaVuSans-5f\"/>\n       <use x=\"188.085938\" xlink:href=\"#DejaVuSans-46\"/>\n       <use x=\"245.605469\" xlink:href=\"#DejaVuSans-33\"/>\n      </g>\n     </g>\n    </g>\n    <g id=\"ytick_178\">\n     <g id=\"line2d_186\">\n      <g>\n       <use style=\"stroke:#000000;stroke-width:0.8;\" x=\"61.001562\" xlink:href=\"#m86e9d2eb80\" y=\"553.421573\"/>\n      </g>\n     </g>\n     <g id=\"text_186\">\n      <!-- F290 -->\n      <g transform=\"translate(29.1625 557.220792)scale(0.1 -0.1)\">\n       <use xlink:href=\"#DejaVuSans-46\"/>\n       <use x=\"57.519531\" xlink:href=\"#DejaVuSans-32\"/>\n       <use x=\"121.142578\" xlink:href=\"#DejaVuSans-39\"/>\n       <use x=\"184.765625\" xlink:href=\"#DejaVuSans-30\"/>\n      </g>\n     </g>\n    </g>\n    <g id=\"ytick_179\">\n     <g id=\"line2d_187\">\n      <g>\n       <use style=\"stroke:#000000;stroke-width:0.8;\" x=\"61.001562\" xlink:href=\"#m86e9d2eb80\" y=\"550.297435\"/>\n      </g>\n     </g>\n     <g id=\"text_187\">\n      <!-- WD_F10 -->\n      <g transform=\"translate(12.9375 554.008373)scale(0.1 -0.1)\">\n       <use xlink:href=\"#DejaVuSans-57\"/>\n       <use x=\"98.876953\" xlink:href=\"#DejaVuSans-44\"/>\n       <use x=\"175.878906\" xlink:href=\"#DejaVuSans-5f\"/>\n       <use x=\"225.878906\" xlink:href=\"#DejaVuSans-46\"/>\n       <use x=\"283.398438\" xlink:href=\"#DejaVuSans-31\"/>\n       <use x=\"347.021484\" xlink:href=\"#DejaVuSans-30\"/>\n      </g>\n     </g>\n    </g>\n    <g id=\"ytick_180\">\n     <g id=\"line2d_188\">\n      <g>\n       <use style=\"stroke:#000000;stroke-width:0.8;\" x=\"61.001562\" xlink:href=\"#m86e9d2eb80\" y=\"547.173297\"/>\n      </g>\n     </g>\n     <g id=\"text_188\">\n      <!-- F80 -->\n      <g transform=\"translate(35.525 550.972516)scale(0.1 -0.1)\">\n       <use xlink:href=\"#DejaVuSans-46\"/>\n       <use x=\"57.519531\" xlink:href=\"#DejaVuSans-38\"/>\n       <use x=\"121.142578\" xlink:href=\"#DejaVuSans-30\"/>\n      </g>\n     </g>\n    </g>\n    <g id=\"ytick_181\">\n     <g id=\"line2d_189\">\n      <g>\n       <use style=\"stroke:#000000;stroke-width:0.8;\" x=\"61.001562\" xlink:href=\"#m86e9d2eb80\" y=\"544.049159\"/>\n      </g>\n     </g>\n     <g id=\"text_189\">\n      <!-- WD_F9 -->\n      <g transform=\"translate(19.3 547.760097)scale(0.1 -0.1)\">\n       <use xlink:href=\"#DejaVuSans-57\"/>\n       <use x=\"98.876953\" xlink:href=\"#DejaVuSans-44\"/>\n       <use x=\"175.878906\" xlink:href=\"#DejaVuSans-5f\"/>\n       <use x=\"225.878906\" xlink:href=\"#DejaVuSans-46\"/>\n       <use x=\"283.398438\" xlink:href=\"#DejaVuSans-39\"/>\n      </g>\n     </g>\n    </g>\n    <g id=\"ytick_182\">\n     <g id=\"line2d_190\">\n      <g>\n       <use style=\"stroke:#000000;stroke-width:0.8;\" x=\"61.001562\" xlink:href=\"#m86e9d2eb80\" y=\"540.925022\"/>\n      </g>\n     </g>\n     <g id=\"text_190\">\n      <!-- F70 -->\n      <g transform=\"translate(35.525 544.72424)scale(0.1 -0.1)\">\n       <use xlink:href=\"#DejaVuSans-46\"/>\n       <use x=\"57.519531\" xlink:href=\"#DejaVuSans-37\"/>\n       <use x=\"121.142578\" xlink:href=\"#DejaVuSans-30\"/>\n      </g>\n     </g>\n    </g>\n    <g id=\"ytick_183\">\n     <g id=\"line2d_191\">\n      <g>\n       <use style=\"stroke:#000000;stroke-width:0.8;\" x=\"61.001562\" xlink:href=\"#m86e9d2eb80\" y=\"537.800884\"/>\n      </g>\n     </g>\n     <g id=\"text_191\">\n      <!-- F230 -->\n      <g transform=\"translate(29.1625 541.600102)scale(0.1 -0.1)\">\n       <use xlink:href=\"#DejaVuSans-46\"/>\n       <use x=\"57.519531\" xlink:href=\"#DejaVuSans-32\"/>\n       <use x=\"121.142578\" xlink:href=\"#DejaVuSans-33\"/>\n       <use x=\"184.765625\" xlink:href=\"#DejaVuSans-30\"/>\n      </g>\n     </g>\n    </g>\n    <g id=\"ytick_184\">\n     <g id=\"line2d_192\">\n      <g>\n       <use style=\"stroke:#000000;stroke-width:0.8;\" x=\"61.001562\" xlink:href=\"#m86e9d2eb80\" y=\"534.676746\"/>\n      </g>\n     </g>\n     <g id=\"text_192\">\n      <!-- F239 -->\n      <g transform=\"translate(29.1625 538.475964)scale(0.1 -0.1)\">\n       <use xlink:href=\"#DejaVuSans-46\"/>\n       <use x=\"57.519531\" xlink:href=\"#DejaVuSans-32\"/>\n       <use x=\"121.142578\" xlink:href=\"#DejaVuSans-33\"/>\n       <use x=\"184.765625\" xlink:href=\"#DejaVuSans-39\"/>\n      </g>\n     </g>\n    </g>\n    <g id=\"ytick_185\">\n     <g id=\"line2d_193\">\n      <g>\n       <use style=\"stroke:#000000;stroke-width:0.8;\" x=\"61.001562\" xlink:href=\"#m86e9d2eb80\" y=\"531.552608\"/>\n      </g>\n     </g>\n     <g id=\"text_193\">\n      <!-- F206 -->\n      <g transform=\"translate(29.1625 535.351827)scale(0.1 -0.1)\">\n       <use xlink:href=\"#DejaVuSans-46\"/>\n       <use x=\"57.519531\" xlink:href=\"#DejaVuSans-32\"/>\n       <use x=\"121.142578\" xlink:href=\"#DejaVuSans-30\"/>\n       <use x=\"184.765625\" xlink:href=\"#DejaVuSans-36\"/>\n      </g>\n     </g>\n    </g>\n    <g id=\"ytick_186\">\n     <g id=\"line2d_194\">\n      <g>\n       <use style=\"stroke:#000000;stroke-width:0.8;\" x=\"61.001562\" xlink:href=\"#m86e9d2eb80\" y=\"528.42847\"/>\n      </g>\n     </g>\n     <g id=\"text_194\">\n      <!-- F178 -->\n      <g transform=\"translate(29.1625 532.227689)scale(0.1 -0.1)\">\n       <use xlink:href=\"#DejaVuSans-46\"/>\n       <use x=\"57.519531\" xlink:href=\"#DejaVuSans-31\"/>\n       <use x=\"121.142578\" xlink:href=\"#DejaVuSans-37\"/>\n       <use x=\"184.765625\" xlink:href=\"#DejaVuSans-38\"/>\n      </g>\n     </g>\n    </g>\n    <g id=\"ytick_187\">\n     <g id=\"line2d_195\">\n      <g>\n       <use style=\"stroke:#000000;stroke-width:0.8;\" x=\"61.001562\" xlink:href=\"#m86e9d2eb80\" y=\"525.304332\"/>\n      </g>\n     </g>\n     <g id=\"text_195\">\n      <!-- F40 -->\n      <g transform=\"translate(35.525 529.103551)scale(0.1 -0.1)\">\n       <use xlink:href=\"#DejaVuSans-46\"/>\n       <use x=\"57.519531\" xlink:href=\"#DejaVuSans-34\"/>\n       <use x=\"121.142578\" xlink:href=\"#DejaVuSans-30\"/>\n      </g>\n     </g>\n    </g>\n    <g id=\"ytick_188\">\n     <g id=\"line2d_196\">\n      <g>\n       <use style=\"stroke:#000000;stroke-width:0.8;\" x=\"61.001562\" xlink:href=\"#m86e9d2eb80\" y=\"522.180194\"/>\n      </g>\n     </g>\n     <g id=\"text_196\">\n      <!-- F253 -->\n      <g transform=\"translate(29.1625 525.979413)scale(0.1 -0.1)\">\n       <use xlink:href=\"#DejaVuSans-46\"/>\n       <use x=\"57.519531\" xlink:href=\"#DejaVuSans-32\"/>\n       <use x=\"121.142578\" xlink:href=\"#DejaVuSans-35\"/>\n       <use x=\"184.765625\" xlink:href=\"#DejaVuSans-33\"/>\n      </g>\n     </g>\n    </g>\n    <g id=\"ytick_189\">\n     <g id=\"line2d_197\">\n      <g>\n       <use style=\"stroke:#000000;stroke-width:0.8;\" x=\"61.001562\" xlink:href=\"#m86e9d2eb80\" y=\"519.056056\"/>\n      </g>\n     </g>\n     <g id=\"text_197\">\n      <!-- F217 -->\n      <g transform=\"translate(29.1625 522.855275)scale(0.1 -0.1)\">\n       <use xlink:href=\"#DejaVuSans-46\"/>\n       <use x=\"57.519531\" xlink:href=\"#DejaVuSans-32\"/>\n       <use x=\"121.142578\" xlink:href=\"#DejaVuSans-31\"/>\n       <use x=\"184.765625\" xlink:href=\"#DejaVuSans-37\"/>\n      </g>\n     </g>\n    </g>\n    <g id=\"ytick_190\">\n     <g id=\"line2d_198\">\n      <g>\n       <use style=\"stroke:#000000;stroke-width:0.8;\" x=\"61.001562\" xlink:href=\"#m86e9d2eb80\" y=\"515.931918\"/>\n      </g>\n     </g>\n     <g id=\"text_198\">\n      <!-- F137 -->\n      <g transform=\"translate(29.1625 519.731137)scale(0.1 -0.1)\">\n       <use xlink:href=\"#DejaVuSans-46\"/>\n       <use x=\"57.519531\" xlink:href=\"#DejaVuSans-31\"/>\n       <use x=\"121.142578\" xlink:href=\"#DejaVuSans-33\"/>\n       <use x=\"184.765625\" xlink:href=\"#DejaVuSans-37\"/>\n      </g>\n     </g>\n    </g>\n    <g id=\"ytick_191\">\n     <g id=\"line2d_199\">\n      <g>\n       <use style=\"stroke:#000000;stroke-width:0.8;\" x=\"61.001562\" xlink:href=\"#m86e9d2eb80\" y=\"512.80778\"/>\n      </g>\n     </g>\n     <g id=\"text_199\">\n      <!-- F276 -->\n      <g transform=\"translate(29.1625 516.606999)scale(0.1 -0.1)\">\n       <use xlink:href=\"#DejaVuSans-46\"/>\n       <use x=\"57.519531\" xlink:href=\"#DejaVuSans-32\"/>\n       <use x=\"121.142578\" xlink:href=\"#DejaVuSans-37\"/>\n       <use x=\"184.765625\" xlink:href=\"#DejaVuSans-36\"/>\n      </g>\n     </g>\n    </g>\n    <g id=\"ytick_192\">\n     <g id=\"line2d_200\">\n      <g>\n       <use style=\"stroke:#000000;stroke-width:0.8;\" x=\"61.001562\" xlink:href=\"#m86e9d2eb80\" y=\"509.683642\"/>\n      </g>\n     </g>\n     <g id=\"text_200\">\n      <!-- F29 -->\n      <g transform=\"translate(35.525 513.482861)scale(0.1 -0.1)\">\n       <use xlink:href=\"#DejaVuSans-46\"/>\n       <use x=\"57.519531\" xlink:href=\"#DejaVuSans-32\"/>\n       <use x=\"121.142578\" xlink:href=\"#DejaVuSans-39\"/>\n      </g>\n     </g>\n    </g>\n    <g id=\"ytick_193\">\n     <g id=\"line2d_201\">\n      <g>\n       <use style=\"stroke:#000000;stroke-width:0.8;\" x=\"61.001562\" xlink:href=\"#m86e9d2eb80\" y=\"506.559504\"/>\n      </g>\n     </g>\n     <g id=\"text_201\">\n      <!-- F285 -->\n      <g transform=\"translate(29.1625 510.358723)scale(0.1 -0.1)\">\n       <use xlink:href=\"#DejaVuSans-46\"/>\n       <use x=\"57.519531\" xlink:href=\"#DejaVuSans-32\"/>\n       <use x=\"121.142578\" xlink:href=\"#DejaVuSans-38\"/>\n       <use x=\"184.765625\" xlink:href=\"#DejaVuSans-35\"/>\n      </g>\n     </g>\n    </g>\n    <g id=\"ytick_194\">\n     <g id=\"line2d_202\">\n      <g>\n       <use style=\"stroke:#000000;stroke-width:0.8;\" x=\"61.001562\" xlink:href=\"#m86e9d2eb80\" y=\"503.435366\"/>\n      </g>\n     </g>\n     <g id=\"text_202\">\n      <!-- F279 -->\n      <g transform=\"translate(29.1625 507.234585)scale(0.1 -0.1)\">\n       <use xlink:href=\"#DejaVuSans-46\"/>\n       <use x=\"57.519531\" xlink:href=\"#DejaVuSans-32\"/>\n       <use x=\"121.142578\" xlink:href=\"#DejaVuSans-37\"/>\n       <use x=\"184.765625\" xlink:href=\"#DejaVuSans-39\"/>\n      </g>\n     </g>\n    </g>\n    <g id=\"ytick_195\">\n     <g id=\"line2d_203\">\n      <g>\n       <use style=\"stroke:#000000;stroke-width:0.8;\" x=\"61.001562\" xlink:href=\"#m86e9d2eb80\" y=\"500.311228\"/>\n      </g>\n     </g>\n     <g id=\"text_203\">\n      <!-- F210 -->\n      <g transform=\"translate(29.1625 504.110447)scale(0.1 -0.1)\">\n       <use xlink:href=\"#DejaVuSans-46\"/>\n       <use x=\"57.519531\" xlink:href=\"#DejaVuSans-32\"/>\n       <use x=\"121.142578\" xlink:href=\"#DejaVuSans-31\"/>\n       <use x=\"184.765625\" xlink:href=\"#DejaVuSans-30\"/>\n      </g>\n     </g>\n    </g>\n    <g id=\"ytick_196\">\n     <g id=\"line2d_204\">\n      <g>\n       <use style=\"stroke:#000000;stroke-width:0.8;\" x=\"61.001562\" xlink:href=\"#m86e9d2eb80\" y=\"497.187091\"/>\n      </g>\n     </g>\n     <g id=\"text_204\">\n      <!-- GRM_F41 -->\n      <g transform=\"translate(7.2 500.898028)scale(0.1 -0.1)\">\n       <use xlink:href=\"#DejaVuSans-47\"/>\n       <use x=\"77.490234\" xlink:href=\"#DejaVuSans-52\"/>\n       <use x=\"146.972656\" xlink:href=\"#DejaVuSans-4d\"/>\n       <use x=\"233.251953\" xlink:href=\"#DejaVuSans-5f\"/>\n       <use x=\"283.251953\" xlink:href=\"#DejaVuSans-46\"/>\n       <use x=\"340.771484\" xlink:href=\"#DejaVuSans-34\"/>\n       <use x=\"404.394531\" xlink:href=\"#DejaVuSans-31\"/>\n      </g>\n     </g>\n    </g>\n    <g id=\"ytick_197\">\n     <g id=\"line2d_205\">\n      <g>\n       <use style=\"stroke:#000000;stroke-width:0.8;\" x=\"61.001562\" xlink:href=\"#m86e9d2eb80\" y=\"494.062953\"/>\n      </g>\n     </g>\n     <g id=\"text_205\">\n      <!-- F215 -->\n      <g transform=\"translate(29.1625 497.862171)scale(0.1 -0.1)\">\n       <use xlink:href=\"#DejaVuSans-46\"/>\n       <use x=\"57.519531\" xlink:href=\"#DejaVuSans-32\"/>\n       <use x=\"121.142578\" xlink:href=\"#DejaVuSans-31\"/>\n       <use x=\"184.765625\" xlink:href=\"#DejaVuSans-35\"/>\n      </g>\n     </g>\n    </g>\n    <g id=\"ytick_198\">\n     <g id=\"line2d_206\">\n      <g>\n       <use style=\"stroke:#000000;stroke-width:0.8;\" x=\"61.001562\" xlink:href=\"#m86e9d2eb80\" y=\"490.938815\"/>\n      </g>\n     </g>\n     <g id=\"text_206\">\n      <!-- F32 -->\n      <g transform=\"translate(35.525 494.738033)scale(0.1 -0.1)\">\n       <use xlink:href=\"#DejaVuSans-46\"/>\n       <use x=\"57.519531\" xlink:href=\"#DejaVuSans-33\"/>\n       <use x=\"121.142578\" xlink:href=\"#DejaVuSans-32\"/>\n      </g>\n     </g>\n    </g>\n    <g id=\"ytick_199\">\n     <g id=\"line2d_207\">\n      <g>\n       <use style=\"stroke:#000000;stroke-width:0.8;\" x=\"61.001562\" xlink:href=\"#m86e9d2eb80\" y=\"487.814677\"/>\n      </g>\n     </g>\n     <g id=\"text_207\">\n      <!-- F50 -->\n      <g transform=\"translate(35.525 491.613895)scale(0.1 -0.1)\">\n       <use xlink:href=\"#DejaVuSans-46\"/>\n       <use x=\"57.519531\" xlink:href=\"#DejaVuSans-35\"/>\n       <use x=\"121.142578\" xlink:href=\"#DejaVuSans-30\"/>\n      </g>\n     </g>\n    </g>\n    <g id=\"ytick_200\">\n     <g id=\"line2d_208\">\n      <g>\n       <use style=\"stroke:#000000;stroke-width:0.8;\" x=\"61.001562\" xlink:href=\"#m86e9d2eb80\" y=\"484.690539\"/>\n      </g>\n     </g>\n     <g id=\"text_208\">\n      <!-- F256 -->\n      <g transform=\"translate(29.1625 488.489758)scale(0.1 -0.1)\">\n       <use xlink:href=\"#DejaVuSans-46\"/>\n       <use x=\"57.519531\" xlink:href=\"#DejaVuSans-32\"/>\n       <use x=\"121.142578\" xlink:href=\"#DejaVuSans-35\"/>\n       <use x=\"184.765625\" xlink:href=\"#DejaVuSans-36\"/>\n      </g>\n     </g>\n    </g>\n    <g id=\"ytick_201\">\n     <g id=\"line2d_209\">\n      <g>\n       <use style=\"stroke:#000000;stroke-width:0.8;\" x=\"61.001562\" xlink:href=\"#m86e9d2eb80\" y=\"481.566401\"/>\n      </g>\n     </g>\n     <g id=\"text_209\">\n      <!-- F257 -->\n      <g transform=\"translate(29.1625 485.36562)scale(0.1 -0.1)\">\n       <use xlink:href=\"#DejaVuSans-46\"/>\n       <use x=\"57.519531\" xlink:href=\"#DejaVuSans-32\"/>\n       <use x=\"121.142578\" xlink:href=\"#DejaVuSans-35\"/>\n       <use x=\"184.765625\" xlink:href=\"#DejaVuSans-37\"/>\n      </g>\n     </g>\n    </g>\n    <g id=\"ytick_202\">\n     <g id=\"line2d_210\">\n      <g>\n       <use style=\"stroke:#000000;stroke-width:0.8;\" x=\"61.001562\" xlink:href=\"#m86e9d2eb80\" y=\"478.442263\"/>\n      </g>\n     </g>\n     <g id=\"text_210\">\n      <!-- F45 -->\n      <g transform=\"translate(35.525 482.241482)scale(0.1 -0.1)\">\n       <use xlink:href=\"#DejaVuSans-46\"/>\n       <use x=\"57.519531\" xlink:href=\"#DejaVuSans-34\"/>\n       <use x=\"121.142578\" xlink:href=\"#DejaVuSans-35\"/>\n      </g>\n     </g>\n    </g>\n    <g id=\"ytick_203\">\n     <g id=\"line2d_211\">\n      <g>\n       <use style=\"stroke:#000000;stroke-width:0.8;\" x=\"61.001562\" xlink:href=\"#m86e9d2eb80\" y=\"475.318125\"/>\n      </g>\n     </g>\n     <g id=\"text_211\">\n      <!-- F34 -->\n      <g transform=\"translate(35.525 479.117344)scale(0.1 -0.1)\">\n       <use xlink:href=\"#DejaVuSans-46\"/>\n       <use x=\"57.519531\" xlink:href=\"#DejaVuSans-33\"/>\n       <use x=\"121.142578\" xlink:href=\"#DejaVuSans-34\"/>\n      </g>\n     </g>\n    </g>\n    <g id=\"ytick_204\">\n     <g id=\"line2d_212\">\n      <g>\n       <use style=\"stroke:#000000;stroke-width:0.8;\" x=\"61.001562\" xlink:href=\"#m86e9d2eb80\" y=\"472.193987\"/>\n      </g>\n     </g>\n     <g id=\"text_212\">\n      <!-- F53 -->\n      <g transform=\"translate(35.525 475.993206)scale(0.1 -0.1)\">\n       <use xlink:href=\"#DejaVuSans-46\"/>\n       <use x=\"57.519531\" xlink:href=\"#DejaVuSans-35\"/>\n       <use x=\"121.142578\" xlink:href=\"#DejaVuSans-33\"/>\n      </g>\n     </g>\n    </g>\n    <g id=\"ytick_205\">\n     <g id=\"line2d_213\">\n      <g>\n       <use style=\"stroke:#000000;stroke-width:0.8;\" x=\"61.001562\" xlink:href=\"#m86e9d2eb80\" y=\"469.069849\"/>\n      </g>\n     </g>\n     <g id=\"text_213\">\n      <!-- F260 -->\n      <g transform=\"translate(29.1625 472.869068)scale(0.1 -0.1)\">\n       <use xlink:href=\"#DejaVuSans-46\"/>\n       <use x=\"57.519531\" xlink:href=\"#DejaVuSans-32\"/>\n       <use x=\"121.142578\" xlink:href=\"#DejaVuSans-36\"/>\n       <use x=\"184.765625\" xlink:href=\"#DejaVuSans-30\"/>\n      </g>\n     </g>\n    </g>\n    <g id=\"ytick_206\">\n     <g id=\"line2d_214\">\n      <g>\n       <use style=\"stroke:#000000;stroke-width:0.8;\" x=\"61.001562\" xlink:href=\"#m86e9d2eb80\" y=\"465.945711\"/>\n      </g>\n     </g>\n     <g id=\"text_214\">\n      <!-- F64 -->\n      <g transform=\"translate(35.525 469.74493)scale(0.1 -0.1)\">\n       <use xlink:href=\"#DejaVuSans-46\"/>\n       <use x=\"57.519531\" xlink:href=\"#DejaVuSans-36\"/>\n       <use x=\"121.142578\" xlink:href=\"#DejaVuSans-34\"/>\n      </g>\n     </g>\n    </g>\n    <g id=\"ytick_207\">\n     <g id=\"line2d_215\">\n      <g>\n       <use style=\"stroke:#000000;stroke-width:0.8;\" x=\"61.001562\" xlink:href=\"#m86e9d2eb80\" y=\"462.821573\"/>\n      </g>\n     </g>\n     <g id=\"text_215\">\n      <!-- F49 -->\n      <g transform=\"translate(35.525 466.620792)scale(0.1 -0.1)\">\n       <use xlink:href=\"#DejaVuSans-46\"/>\n       <use x=\"57.519531\" xlink:href=\"#DejaVuSans-34\"/>\n       <use x=\"121.142578\" xlink:href=\"#DejaVuSans-39\"/>\n      </g>\n     </g>\n    </g>\n    <g id=\"ytick_208\">\n     <g id=\"line2d_216\">\n      <g>\n       <use style=\"stroke:#000000;stroke-width:0.8;\" x=\"61.001562\" xlink:href=\"#m86e9d2eb80\" y=\"459.697435\"/>\n      </g>\n     </g>\n     <g id=\"text_216\">\n      <!-- F59 -->\n      <g transform=\"translate(35.525 463.496654)scale(0.1 -0.1)\">\n       <use xlink:href=\"#DejaVuSans-46\"/>\n       <use x=\"57.519531\" xlink:href=\"#DejaVuSans-35\"/>\n       <use x=\"121.142578\" xlink:href=\"#DejaVuSans-39\"/>\n      </g>\n     </g>\n    </g>\n    <g id=\"ytick_209\">\n     <g id=\"line2d_217\">\n      <g>\n       <use style=\"stroke:#000000;stroke-width:0.8;\" x=\"61.001562\" xlink:href=\"#m86e9d2eb80\" y=\"456.573297\"/>\n      </g>\n     </g>\n     <g id=\"text_217\">\n      <!-- WD_F50 -->\n      <g transform=\"translate(12.9375 460.284235)scale(0.1 -0.1)\">\n       <use xlink:href=\"#DejaVuSans-57\"/>\n       <use x=\"98.876953\" xlink:href=\"#DejaVuSans-44\"/>\n       <use x=\"175.878906\" xlink:href=\"#DejaVuSans-5f\"/>\n       <use x=\"225.878906\" xlink:href=\"#DejaVuSans-46\"/>\n       <use x=\"283.398438\" xlink:href=\"#DejaVuSans-35\"/>\n       <use x=\"347.021484\" xlink:href=\"#DejaVuSans-30\"/>\n      </g>\n     </g>\n    </g>\n    <g id=\"ytick_210\">\n     <g id=\"line2d_218\">\n      <g>\n       <use style=\"stroke:#000000;stroke-width:0.8;\" x=\"61.001562\" xlink:href=\"#m86e9d2eb80\" y=\"453.449159\"/>\n      </g>\n     </g>\n     <g id=\"text_218\">\n      <!-- F5 -->\n      <g transform=\"translate(41.8875 457.248378)scale(0.1 -0.1)\">\n       <use xlink:href=\"#DejaVuSans-46\"/>\n       <use x=\"57.519531\" xlink:href=\"#DejaVuSans-35\"/>\n      </g>\n     </g>\n    </g>\n    <g id=\"ytick_211\">\n     <g id=\"line2d_219\">\n      <g>\n       <use style=\"stroke:#000000;stroke-width:0.8;\" x=\"61.001562\" xlink:href=\"#m86e9d2eb80\" y=\"450.325022\"/>\n      </g>\n     </g>\n     <g id=\"text_219\">\n      <!-- F47 -->\n      <g transform=\"translate(35.525 454.12424)scale(0.1 -0.1)\">\n       <use xlink:href=\"#DejaVuSans-46\"/>\n       <use x=\"57.519531\" xlink:href=\"#DejaVuSans-34\"/>\n       <use x=\"121.142578\" xlink:href=\"#DejaVuSans-37\"/>\n      </g>\n     </g>\n    </g>\n    <g id=\"ytick_212\">\n     <g id=\"line2d_220\">\n      <g>\n       <use style=\"stroke:#000000;stroke-width:0.8;\" x=\"61.001562\" xlink:href=\"#m86e9d2eb80\" y=\"447.200884\"/>\n      </g>\n     </g>\n     <g id=\"text_220\">\n      <!-- STR_F27 -->\n      <g transform=\"translate(11.120312 450.911821)scale(0.1 -0.1)\">\n       <use xlink:href=\"#DejaVuSans-53\"/>\n       <use x=\"63.476562\" xlink:href=\"#DejaVuSans-54\"/>\n       <use x=\"124.560547\" xlink:href=\"#DejaVuSans-52\"/>\n       <use x=\"194.042969\" xlink:href=\"#DejaVuSans-5f\"/>\n       <use x=\"244.042969\" xlink:href=\"#DejaVuSans-46\"/>\n       <use x=\"301.5625\" xlink:href=\"#DejaVuSans-32\"/>\n       <use x=\"365.185547\" xlink:href=\"#DejaVuSans-37\"/>\n      </g>\n     </g>\n    </g>\n    <g id=\"ytick_213\">\n     <g id=\"line2d_221\">\n      <g>\n       <use style=\"stroke:#000000;stroke-width:0.8;\" x=\"61.001562\" xlink:href=\"#m86e9d2eb80\" y=\"444.076746\"/>\n      </g>\n     </g>\n     <g id=\"text_221\">\n      <!-- F131 -->\n      <g transform=\"translate(29.1625 447.875964)scale(0.1 -0.1)\">\n       <use xlink:href=\"#DejaVuSans-46\"/>\n       <use x=\"57.519531\" xlink:href=\"#DejaVuSans-31\"/>\n       <use x=\"121.142578\" xlink:href=\"#DejaVuSans-33\"/>\n       <use x=\"184.765625\" xlink:href=\"#DejaVuSans-31\"/>\n      </g>\n     </g>\n    </g>\n    <g id=\"ytick_214\">\n     <g id=\"line2d_222\">\n      <g>\n       <use style=\"stroke:#000000;stroke-width:0.8;\" x=\"61.001562\" xlink:href=\"#m86e9d2eb80\" y=\"440.952608\"/>\n      </g>\n     </g>\n     <g id=\"text_222\">\n      <!-- F89 -->\n      <g transform=\"translate(35.525 444.751827)scale(0.1 -0.1)\">\n       <use xlink:href=\"#DejaVuSans-46\"/>\n       <use x=\"57.519531\" xlink:href=\"#DejaVuSans-38\"/>\n       <use x=\"121.142578\" xlink:href=\"#DejaVuSans-39\"/>\n      </g>\n     </g>\n    </g>\n    <g id=\"ytick_215\">\n     <g id=\"line2d_223\">\n      <g>\n       <use style=\"stroke:#000000;stroke-width:0.8;\" x=\"61.001562\" xlink:href=\"#m86e9d2eb80\" y=\"437.82847\"/>\n      </g>\n     </g>\n     <g id=\"text_223\">\n      <!-- F214 -->\n      <g transform=\"translate(29.1625 441.627689)scale(0.1 -0.1)\">\n       <use xlink:href=\"#DejaVuSans-46\"/>\n       <use x=\"57.519531\" xlink:href=\"#DejaVuSans-32\"/>\n       <use x=\"121.142578\" xlink:href=\"#DejaVuSans-31\"/>\n       <use x=\"184.765625\" xlink:href=\"#DejaVuSans-34\"/>\n      </g>\n     </g>\n    </g>\n    <g id=\"ytick_216\">\n     <g id=\"line2d_224\">\n      <g>\n       <use style=\"stroke:#000000;stroke-width:0.8;\" x=\"61.001562\" xlink:href=\"#m86e9d2eb80\" y=\"434.704332\"/>\n      </g>\n     </g>\n     <g id=\"text_224\">\n      <!-- F225 -->\n      <g transform=\"translate(29.1625 438.503551)scale(0.1 -0.1)\">\n       <use xlink:href=\"#DejaVuSans-46\"/>\n       <use x=\"57.519531\" xlink:href=\"#DejaVuSans-32\"/>\n       <use x=\"121.142578\" xlink:href=\"#DejaVuSans-32\"/>\n       <use x=\"184.765625\" xlink:href=\"#DejaVuSans-35\"/>\n      </g>\n     </g>\n    </g>\n    <g id=\"ytick_217\">\n     <g id=\"line2d_225\">\n      <g>\n       <use style=\"stroke:#000000;stroke-width:0.8;\" x=\"61.001562\" xlink:href=\"#m86e9d2eb80\" y=\"431.580194\"/>\n      </g>\n     </g>\n     <g id=\"text_225\">\n      <!-- F95 -->\n      <g transform=\"translate(35.525 435.379413)scale(0.1 -0.1)\">\n       <use xlink:href=\"#DejaVuSans-46\"/>\n       <use x=\"57.519531\" xlink:href=\"#DejaVuSans-39\"/>\n       <use x=\"121.142578\" xlink:href=\"#DejaVuSans-35\"/>\n      </g>\n     </g>\n    </g>\n    <g id=\"ytick_218\">\n     <g id=\"line2d_226\">\n      <g>\n       <use style=\"stroke:#000000;stroke-width:0.8;\" x=\"61.001562\" xlink:href=\"#m86e9d2eb80\" y=\"428.456056\"/>\n      </g>\n     </g>\n     <g id=\"text_226\">\n      <!-- F83 -->\n      <g transform=\"translate(35.525 432.255275)scale(0.1 -0.1)\">\n       <use xlink:href=\"#DejaVuSans-46\"/>\n       <use x=\"57.519531\" xlink:href=\"#DejaVuSans-38\"/>\n       <use x=\"121.142578\" xlink:href=\"#DejaVuSans-33\"/>\n      </g>\n     </g>\n    </g>\n    <g id=\"ytick_219\">\n     <g id=\"line2d_227\">\n      <g>\n       <use style=\"stroke:#000000;stroke-width:0.8;\" x=\"61.001562\" xlink:href=\"#m86e9d2eb80\" y=\"425.331918\"/>\n      </g>\n     </g>\n     <g id=\"text_227\">\n      <!-- F223 -->\n      <g transform=\"translate(29.1625 429.131137)scale(0.1 -0.1)\">\n       <use xlink:href=\"#DejaVuSans-46\"/>\n       <use x=\"57.519531\" xlink:href=\"#DejaVuSans-32\"/>\n       <use x=\"121.142578\" xlink:href=\"#DejaVuSans-32\"/>\n       <use x=\"184.765625\" xlink:href=\"#DejaVuSans-33\"/>\n      </g>\n     </g>\n    </g>\n    <g id=\"ytick_220\">\n     <g id=\"line2d_228\">\n      <g>\n       <use style=\"stroke:#000000;stroke-width:0.8;\" x=\"61.001562\" xlink:href=\"#m86e9d2eb80\" y=\"422.20778\"/>\n      </g>\n     </g>\n     <g id=\"text_228\">\n      <!-- TD_F2 -->\n      <g transform=\"translate(23.079687 425.918718)scale(0.1 -0.1)\">\n       <use xlink:href=\"#DejaVuSans-54\"/>\n       <use x=\"61.083984\" xlink:href=\"#DejaVuSans-44\"/>\n       <use x=\"138.085938\" xlink:href=\"#DejaVuSans-5f\"/>\n       <use x=\"188.085938\" xlink:href=\"#DejaVuSans-46\"/>\n       <use x=\"245.605469\" xlink:href=\"#DejaVuSans-32\"/>\n      </g>\n     </g>\n    </g>\n    <g id=\"ytick_221\">\n     <g id=\"line2d_229\">\n      <g>\n       <use style=\"stroke:#000000;stroke-width:0.8;\" x=\"61.001562\" xlink:href=\"#m86e9d2eb80\" y=\"419.083642\"/>\n      </g>\n     </g>\n     <g id=\"text_229\">\n      <!-- F13 -->\n      <g transform=\"translate(35.525 422.882861)scale(0.1 -0.1)\">\n       <use xlink:href=\"#DejaVuSans-46\"/>\n       <use x=\"57.519531\" xlink:href=\"#DejaVuSans-31\"/>\n       <use x=\"121.142578\" xlink:href=\"#DejaVuSans-33\"/>\n      </g>\n     </g>\n    </g>\n    <g id=\"ytick_222\">\n     <g id=\"line2d_230\">\n      <g>\n       <use style=\"stroke:#000000;stroke-width:0.8;\" x=\"61.001562\" xlink:href=\"#m86e9d2eb80\" y=\"415.959504\"/>\n      </g>\n     </g>\n     <g id=\"text_230\">\n      <!-- F268 -->\n      <g transform=\"translate(29.1625 419.758723)scale(0.1 -0.1)\">\n       <use xlink:href=\"#DejaVuSans-46\"/>\n       <use x=\"57.519531\" xlink:href=\"#DejaVuSans-32\"/>\n       <use x=\"121.142578\" xlink:href=\"#DejaVuSans-36\"/>\n       <use x=\"184.765625\" xlink:href=\"#DejaVuSans-38\"/>\n      </g>\n     </g>\n    </g>\n    <g id=\"ytick_223\">\n     <g id=\"line2d_231\">\n      <g>\n       <use style=\"stroke:#000000;stroke-width:0.8;\" x=\"61.001562\" xlink:href=\"#m86e9d2eb80\" y=\"412.835366\"/>\n      </g>\n     </g>\n     <g id=\"text_231\">\n      <!-- F248 -->\n      <g transform=\"translate(29.1625 416.634585)scale(0.1 -0.1)\">\n       <use xlink:href=\"#DejaVuSans-46\"/>\n       <use x=\"57.519531\" xlink:href=\"#DejaVuSans-32\"/>\n       <use x=\"121.142578\" xlink:href=\"#DejaVuSans-34\"/>\n       <use x=\"184.765625\" xlink:href=\"#DejaVuSans-38\"/>\n      </g>\n     </g>\n    </g>\n    <g id=\"ytick_224\">\n     <g id=\"line2d_232\">\n      <g>\n       <use style=\"stroke:#000000;stroke-width:0.8;\" x=\"61.001562\" xlink:href=\"#m86e9d2eb80\" y=\"409.711228\"/>\n      </g>\n     </g>\n     <g id=\"text_232\">\n      <!-- F233 -->\n      <g transform=\"translate(29.1625 413.510447)scale(0.1 -0.1)\">\n       <use xlink:href=\"#DejaVuSans-46\"/>\n       <use x=\"57.519531\" xlink:href=\"#DejaVuSans-32\"/>\n       <use x=\"121.142578\" xlink:href=\"#DejaVuSans-33\"/>\n       <use x=\"184.765625\" xlink:href=\"#DejaVuSans-33\"/>\n      </g>\n     </g>\n    </g>\n    <g id=\"ytick_225\">\n     <g id=\"line2d_233\">\n      <g>\n       <use style=\"stroke:#000000;stroke-width:0.8;\" x=\"61.001562\" xlink:href=\"#m86e9d2eb80\" y=\"406.587091\"/>\n      </g>\n     </g>\n     <g id=\"text_233\">\n      <!-- F56 -->\n      <g transform=\"translate(35.525 410.386309)scale(0.1 -0.1)\">\n       <use xlink:href=\"#DejaVuSans-46\"/>\n       <use x=\"57.519531\" xlink:href=\"#DejaVuSans-35\"/>\n       <use x=\"121.142578\" xlink:href=\"#DejaVuSans-36\"/>\n      </g>\n     </g>\n    </g>\n    <g id=\"ytick_226\">\n     <g id=\"line2d_234\">\n      <g>\n       <use style=\"stroke:#000000;stroke-width:0.8;\" x=\"61.001562\" xlink:href=\"#m86e9d2eb80\" y=\"403.462953\"/>\n      </g>\n     </g>\n     <g id=\"text_234\">\n      <!-- F240 -->\n      <g transform=\"translate(29.1625 407.262171)scale(0.1 -0.1)\">\n       <use xlink:href=\"#DejaVuSans-46\"/>\n       <use x=\"57.519531\" xlink:href=\"#DejaVuSans-32\"/>\n       <use x=\"121.142578\" xlink:href=\"#DejaVuSans-34\"/>\n       <use x=\"184.765625\" xlink:href=\"#DejaVuSans-30\"/>\n      </g>\n     </g>\n    </g>\n    <g id=\"ytick_227\">\n     <g id=\"line2d_235\">\n      <g>\n       <use style=\"stroke:#000000;stroke-width:0.8;\" x=\"61.001562\" xlink:href=\"#m86e9d2eb80\" y=\"400.338815\"/>\n      </g>\n     </g>\n     <g id=\"text_235\">\n      <!-- F229 -->\n      <g transform=\"translate(29.1625 404.138033)scale(0.1 -0.1)\">\n       <use xlink:href=\"#DejaVuSans-46\"/>\n       <use x=\"57.519531\" xlink:href=\"#DejaVuSans-32\"/>\n       <use x=\"121.142578\" xlink:href=\"#DejaVuSans-32\"/>\n       <use x=\"184.765625\" xlink:href=\"#DejaVuSans-39\"/>\n      </g>\n     </g>\n    </g>\n    <g id=\"ytick_228\">\n     <g id=\"line2d_236\">\n      <g>\n       <use style=\"stroke:#000000;stroke-width:0.8;\" x=\"61.001562\" xlink:href=\"#m86e9d2eb80\" y=\"397.214677\"/>\n      </g>\n     </g>\n     <g id=\"text_236\">\n      <!-- F41 -->\n      <g transform=\"translate(35.525 401.013895)scale(0.1 -0.1)\">\n       <use xlink:href=\"#DejaVuSans-46\"/>\n       <use x=\"57.519531\" xlink:href=\"#DejaVuSans-34\"/>\n       <use x=\"121.142578\" xlink:href=\"#DejaVuSans-31\"/>\n      </g>\n     </g>\n    </g>\n    <g id=\"ytick_229\">\n     <g id=\"line2d_237\">\n      <g>\n       <use style=\"stroke:#000000;stroke-width:0.8;\" x=\"61.001562\" xlink:href=\"#m86e9d2eb80\" y=\"394.090539\"/>\n      </g>\n     </g>\n     <g id=\"text_237\">\n      <!-- F57 -->\n      <g transform=\"translate(35.525 397.889758)scale(0.1 -0.1)\">\n       <use xlink:href=\"#DejaVuSans-46\"/>\n       <use x=\"57.519531\" xlink:href=\"#DejaVuSans-35\"/>\n       <use x=\"121.142578\" xlink:href=\"#DejaVuSans-37\"/>\n      </g>\n     </g>\n    </g>\n    <g id=\"ytick_230\">\n     <g id=\"line2d_238\">\n      <g>\n       <use style=\"stroke:#000000;stroke-width:0.8;\" x=\"61.001562\" xlink:href=\"#m86e9d2eb80\" y=\"390.966401\"/>\n      </g>\n     </g>\n     <g id=\"text_238\">\n      <!-- F151 -->\n      <g transform=\"translate(29.1625 394.76562)scale(0.1 -0.1)\">\n       <use xlink:href=\"#DejaVuSans-46\"/>\n       <use x=\"57.519531\" xlink:href=\"#DejaVuSans-31\"/>\n       <use x=\"121.142578\" xlink:href=\"#DejaVuSans-35\"/>\n       <use x=\"184.765625\" xlink:href=\"#DejaVuSans-31\"/>\n      </g>\n     </g>\n    </g>\n    <g id=\"ytick_231\">\n     <g id=\"line2d_239\">\n      <g>\n       <use style=\"stroke:#000000;stroke-width:0.8;\" x=\"61.001562\" xlink:href=\"#m86e9d2eb80\" y=\"387.842263\"/>\n      </g>\n     </g>\n     <g id=\"text_239\">\n      <!-- F82 -->\n      <g transform=\"translate(35.525 391.641482)scale(0.1 -0.1)\">\n       <use xlink:href=\"#DejaVuSans-46\"/>\n       <use x=\"57.519531\" xlink:href=\"#DejaVuSans-38\"/>\n       <use x=\"121.142578\" xlink:href=\"#DejaVuSans-32\"/>\n      </g>\n     </g>\n    </g>\n    <g id=\"ytick_232\">\n     <g id=\"line2d_240\">\n      <g>\n       <use style=\"stroke:#000000;stroke-width:0.8;\" x=\"61.001562\" xlink:href=\"#m86e9d2eb80\" y=\"384.718125\"/>\n      </g>\n     </g>\n     <g id=\"text_240\">\n      <!-- F15 -->\n      <g transform=\"translate(35.525 388.517344)scale(0.1 -0.1)\">\n       <use xlink:href=\"#DejaVuSans-46\"/>\n       <use x=\"57.519531\" xlink:href=\"#DejaVuSans-31\"/>\n       <use x=\"121.142578\" xlink:href=\"#DejaVuSans-35\"/>\n      </g>\n     </g>\n    </g>\n    <g id=\"ytick_233\">\n     <g id=\"line2d_241\">\n      <g>\n       <use style=\"stroke:#000000;stroke-width:0.8;\" x=\"61.001562\" xlink:href=\"#m86e9d2eb80\" y=\"381.593987\"/>\n      </g>\n     </g>\n     <g id=\"text_241\">\n      <!-- F12 -->\n      <g transform=\"translate(35.525 385.393206)scale(0.1 -0.1)\">\n       <use xlink:href=\"#DejaVuSans-46\"/>\n       <use x=\"57.519531\" xlink:href=\"#DejaVuSans-31\"/>\n       <use x=\"121.142578\" xlink:href=\"#DejaVuSans-32\"/>\n      </g>\n     </g>\n    </g>\n    <g id=\"ytick_234\">\n     <g id=\"line2d_242\">\n      <g>\n       <use style=\"stroke:#000000;stroke-width:0.8;\" x=\"61.001562\" xlink:href=\"#m86e9d2eb80\" y=\"378.469849\"/>\n      </g>\n     </g>\n     <g id=\"text_242\">\n      <!-- F27 -->\n      <g transform=\"translate(35.525 382.269068)scale(0.1 -0.1)\">\n       <use xlink:href=\"#DejaVuSans-46\"/>\n       <use x=\"57.519531\" xlink:href=\"#DejaVuSans-32\"/>\n       <use x=\"121.142578\" xlink:href=\"#DejaVuSans-37\"/>\n      </g>\n     </g>\n    </g>\n    <g id=\"ytick_235\">\n     <g id=\"line2d_243\">\n      <g>\n       <use style=\"stroke:#000000;stroke-width:0.8;\" x=\"61.001562\" xlink:href=\"#m86e9d2eb80\" y=\"375.345711\"/>\n      </g>\n     </g>\n     <g id=\"text_243\">\n      <!-- F265 -->\n      <g transform=\"translate(29.1625 379.14493)scale(0.1 -0.1)\">\n       <use xlink:href=\"#DejaVuSans-46\"/>\n       <use x=\"57.519531\" xlink:href=\"#DejaVuSans-32\"/>\n       <use x=\"121.142578\" xlink:href=\"#DejaVuSans-36\"/>\n       <use x=\"184.765625\" xlink:href=\"#DejaVuSans-35\"/>\n      </g>\n     </g>\n    </g>\n    <g id=\"ytick_236\">\n     <g id=\"line2d_244\">\n      <g>\n       <use style=\"stroke:#000000;stroke-width:0.8;\" x=\"61.001562\" xlink:href=\"#m86e9d2eb80\" y=\"372.221573\"/>\n      </g>\n     </g>\n     <g id=\"text_244\">\n      <!-- F286 -->\n      <g transform=\"translate(29.1625 376.020792)scale(0.1 -0.1)\">\n       <use xlink:href=\"#DejaVuSans-46\"/>\n       <use x=\"57.519531\" xlink:href=\"#DejaVuSans-32\"/>\n       <use x=\"121.142578\" xlink:href=\"#DejaVuSans-38\"/>\n       <use x=\"184.765625\" xlink:href=\"#DejaVuSans-36\"/>\n      </g>\n     </g>\n    </g>\n    <g id=\"ytick_237\">\n     <g id=\"line2d_245\">\n      <g>\n       <use style=\"stroke:#000000;stroke-width:0.8;\" x=\"61.001562\" xlink:href=\"#m86e9d2eb80\" y=\"369.097435\"/>\n      </g>\n     </g>\n     <g id=\"text_245\">\n      <!-- F98 -->\n      <g transform=\"translate(35.525 372.896654)scale(0.1 -0.1)\">\n       <use xlink:href=\"#DejaVuSans-46\"/>\n       <use x=\"57.519531\" xlink:href=\"#DejaVuSans-39\"/>\n       <use x=\"121.142578\" xlink:href=\"#DejaVuSans-38\"/>\n      </g>\n     </g>\n    </g>\n    <g id=\"ytick_238\">\n     <g id=\"line2d_246\">\n      <g>\n       <use style=\"stroke:#000000;stroke-width:0.8;\" x=\"61.001562\" xlink:href=\"#m86e9d2eb80\" y=\"365.973297\"/>\n      </g>\n     </g>\n     <g id=\"text_246\">\n      <!-- WD_F15 -->\n      <g transform=\"translate(12.9375 369.633454)scale(0.1 -0.1)\">\n       <use xlink:href=\"#DejaVuSans-57\"/>\n       <use x=\"98.876953\" xlink:href=\"#DejaVuSans-44\"/>\n       <use x=\"175.878906\" xlink:href=\"#DejaVuSans-5f\"/>\n       <use x=\"225.878906\" xlink:href=\"#DejaVuSans-46\"/>\n       <use x=\"283.398438\" xlink:href=\"#DejaVuSans-31\"/>\n       <use x=\"347.021484\" xlink:href=\"#DejaVuSans-35\"/>\n      </g>\n     </g>\n    </g>\n    <g id=\"ytick_239\">\n     <g id=\"line2d_247\">\n      <g>\n       <use style=\"stroke:#000000;stroke-width:0.8;\" x=\"61.001562\" xlink:href=\"#m86e9d2eb80\" y=\"362.849159\"/>\n      </g>\n     </g>\n     <g id=\"text_247\">\n      <!-- F264 -->\n      <g transform=\"translate(29.1625 366.648378)scale(0.1 -0.1)\">\n       <use xlink:href=\"#DejaVuSans-46\"/>\n       <use x=\"57.519531\" xlink:href=\"#DejaVuSans-32\"/>\n       <use x=\"121.142578\" xlink:href=\"#DejaVuSans-36\"/>\n       <use x=\"184.765625\" xlink:href=\"#DejaVuSans-34\"/>\n      </g>\n     </g>\n    </g>\n    <g id=\"ytick_240\">\n     <g id=\"line2d_248\">\n      <g>\n       <use style=\"stroke:#000000;stroke-width:0.8;\" x=\"61.001562\" xlink:href=\"#m86e9d2eb80\" y=\"359.725022\"/>\n      </g>\n     </g>\n     <g id=\"text_248\">\n      <!-- F147 -->\n      <g transform=\"translate(29.1625 363.52424)scale(0.1 -0.1)\">\n       <use xlink:href=\"#DejaVuSans-46\"/>\n       <use x=\"57.519531\" xlink:href=\"#DejaVuSans-31\"/>\n       <use x=\"121.142578\" xlink:href=\"#DejaVuSans-34\"/>\n       <use x=\"184.765625\" xlink:href=\"#DejaVuSans-37\"/>\n      </g>\n     </g>\n    </g>\n    <g id=\"ytick_241\">\n     <g id=\"line2d_249\">\n      <g>\n       <use style=\"stroke:#000000;stroke-width:0.8;\" x=\"61.001562\" xlink:href=\"#m86e9d2eb80\" y=\"356.600884\"/>\n      </g>\n     </g>\n     <g id=\"text_249\">\n      <!-- F193 -->\n      <g transform=\"translate(29.1625 360.400102)scale(0.1 -0.1)\">\n       <use xlink:href=\"#DejaVuSans-46\"/>\n       <use x=\"57.519531\" xlink:href=\"#DejaVuSans-31\"/>\n       <use x=\"121.142578\" xlink:href=\"#DejaVuSans-39\"/>\n       <use x=\"184.765625\" xlink:href=\"#DejaVuSans-33\"/>\n      </g>\n     </g>\n    </g>\n    <g id=\"ytick_242\">\n     <g id=\"line2d_250\">\n      <g>\n       <use style=\"stroke:#000000;stroke-width:0.8;\" x=\"61.001562\" xlink:href=\"#m86e9d2eb80\" y=\"353.476746\"/>\n      </g>\n     </g>\n     <g id=\"text_250\">\n      <!-- F258 -->\n      <g transform=\"translate(29.1625 357.275964)scale(0.1 -0.1)\">\n       <use xlink:href=\"#DejaVuSans-46\"/>\n       <use x=\"57.519531\" xlink:href=\"#DejaVuSans-32\"/>\n       <use x=\"121.142578\" xlink:href=\"#DejaVuSans-35\"/>\n       <use x=\"184.765625\" xlink:href=\"#DejaVuSans-38\"/>\n      </g>\n     </g>\n    </g>\n    <g id=\"ytick_243\">\n     <g id=\"line2d_251\">\n      <g>\n       <use style=\"stroke:#000000;stroke-width:0.8;\" x=\"61.001562\" xlink:href=\"#m86e9d2eb80\" y=\"350.352608\"/>\n      </g>\n     </g>\n     <g id=\"text_251\">\n      <!-- F100 -->\n      <g transform=\"translate(29.1625 354.151827)scale(0.1 -0.1)\">\n       <use xlink:href=\"#DejaVuSans-46\"/>\n       <use x=\"57.519531\" xlink:href=\"#DejaVuSans-31\"/>\n       <use x=\"121.142578\" xlink:href=\"#DejaVuSans-30\"/>\n       <use x=\"184.765625\" xlink:href=\"#DejaVuSans-30\"/>\n      </g>\n     </g>\n    </g>\n    <g id=\"ytick_244\">\n     <g id=\"line2d_252\">\n      <g>\n       <use style=\"stroke:#000000;stroke-width:0.8;\" x=\"61.001562\" xlink:href=\"#m86e9d2eb80\" y=\"347.22847\"/>\n      </g>\n     </g>\n     <g id=\"text_252\">\n      <!-- F68 -->\n      <g transform=\"translate(35.525 351.027689)scale(0.1 -0.1)\">\n       <use xlink:href=\"#DejaVuSans-46\"/>\n       <use x=\"57.519531\" xlink:href=\"#DejaVuSans-36\"/>\n       <use x=\"121.142578\" xlink:href=\"#DejaVuSans-38\"/>\n      </g>\n     </g>\n    </g>\n    <g id=\"ytick_245\">\n     <g id=\"line2d_253\">\n      <g>\n       <use style=\"stroke:#000000;stroke-width:0.8;\" x=\"61.001562\" xlink:href=\"#m86e9d2eb80\" y=\"344.104332\"/>\n      </g>\n     </g>\n     <g id=\"text_253\">\n      <!-- F173 -->\n      <g transform=\"translate(29.1625 347.903551)scale(0.1 -0.1)\">\n       <use xlink:href=\"#DejaVuSans-46\"/>\n       <use x=\"57.519531\" xlink:href=\"#DejaVuSans-31\"/>\n       <use x=\"121.142578\" xlink:href=\"#DejaVuSans-37\"/>\n       <use x=\"184.765625\" xlink:href=\"#DejaVuSans-33\"/>\n      </g>\n     </g>\n    </g>\n    <g id=\"ytick_246\">\n     <g id=\"line2d_254\">\n      <g>\n       <use style=\"stroke:#000000;stroke-width:0.8;\" x=\"61.001562\" xlink:href=\"#m86e9d2eb80\" y=\"340.980194\"/>\n      </g>\n     </g>\n     <g id=\"text_254\">\n      <!-- F37 -->\n      <g transform=\"translate(35.525 344.779413)scale(0.1 -0.1)\">\n       <use xlink:href=\"#DejaVuSans-46\"/>\n       <use x=\"57.519531\" xlink:href=\"#DejaVuSans-33\"/>\n       <use x=\"121.142578\" xlink:href=\"#DejaVuSans-37\"/>\n      </g>\n     </g>\n    </g>\n    <g id=\"ytick_247\">\n     <g id=\"line2d_255\">\n      <g>\n       <use style=\"stroke:#000000;stroke-width:0.8;\" x=\"61.001562\" xlink:href=\"#m86e9d2eb80\" y=\"337.856056\"/>\n      </g>\n     </g>\n     <g id=\"text_255\">\n      <!-- F81 -->\n      <g transform=\"translate(35.525 341.655275)scale(0.1 -0.1)\">\n       <use xlink:href=\"#DejaVuSans-46\"/>\n       <use x=\"57.519531\" xlink:href=\"#DejaVuSans-38\"/>\n       <use x=\"121.142578\" xlink:href=\"#DejaVuSans-31\"/>\n      </g>\n     </g>\n    </g>\n    <g id=\"ytick_248\">\n     <g id=\"line2d_256\">\n      <g>\n       <use style=\"stroke:#000000;stroke-width:0.8;\" x=\"61.001562\" xlink:href=\"#m86e9d2eb80\" y=\"334.731918\"/>\n      </g>\n     </g>\n     <g id=\"text_256\">\n      <!-- F90 -->\n      <g transform=\"translate(35.525 338.531137)scale(0.1 -0.1)\">\n       <use xlink:href=\"#DejaVuSans-46\"/>\n       <use x=\"57.519531\" xlink:href=\"#DejaVuSans-39\"/>\n       <use x=\"121.142578\" xlink:href=\"#DejaVuSans-30\"/>\n      </g>\n     </g>\n    </g>\n    <g id=\"ytick_249\">\n     <g id=\"line2d_257\">\n      <g>\n       <use style=\"stroke:#000000;stroke-width:0.8;\" x=\"61.001562\" xlink:href=\"#m86e9d2eb80\" y=\"331.60778\"/>\n      </g>\n     </g>\n     <g id=\"text_257\">\n      <!-- F105 -->\n      <g transform=\"translate(29.1625 335.406999)scale(0.1 -0.1)\">\n       <use xlink:href=\"#DejaVuSans-46\"/>\n       <use x=\"57.519531\" xlink:href=\"#DejaVuSans-31\"/>\n       <use x=\"121.142578\" xlink:href=\"#DejaVuSans-30\"/>\n       <use x=\"184.765625\" xlink:href=\"#DejaVuSans-35\"/>\n      </g>\n     </g>\n    </g>\n    <g id=\"ytick_250\">\n     <g id=\"line2d_258\">\n      <g>\n       <use style=\"stroke:#000000;stroke-width:0.8;\" x=\"61.001562\" xlink:href=\"#m86e9d2eb80\" y=\"328.483642\"/>\n      </g>\n     </g>\n     <g id=\"text_258\">\n      <!-- F97 -->\n      <g transform=\"translate(35.525 332.282861)scale(0.1 -0.1)\">\n       <use xlink:href=\"#DejaVuSans-46\"/>\n       <use x=\"57.519531\" xlink:href=\"#DejaVuSans-39\"/>\n       <use x=\"121.142578\" xlink:href=\"#DejaVuSans-37\"/>\n      </g>\n     </g>\n    </g>\n    <g id=\"ytick_251\">\n     <g id=\"line2d_259\">\n      <g>\n       <use style=\"stroke:#000000;stroke-width:0.8;\" x=\"61.001562\" xlink:href=\"#m86e9d2eb80\" y=\"325.359504\"/>\n      </g>\n     </g>\n     <g id=\"text_259\">\n      <!-- SYN_F20 -->\n      <g transform=\"translate(10.5875 329.070442)scale(0.1 -0.1)\">\n       <use xlink:href=\"#DejaVuSans-53\"/>\n       <use x=\"63.476562\" xlink:href=\"#DejaVuSans-59\"/>\n       <use x=\"124.560547\" xlink:href=\"#DejaVuSans-4e\"/>\n       <use x=\"199.365234\" xlink:href=\"#DejaVuSans-5f\"/>\n       <use x=\"249.365234\" xlink:href=\"#DejaVuSans-46\"/>\n       <use x=\"306.884766\" xlink:href=\"#DejaVuSans-32\"/>\n       <use x=\"370.507812\" xlink:href=\"#DejaVuSans-30\"/>\n      </g>\n     </g>\n    </g>\n    <g id=\"ytick_252\">\n     <g id=\"line2d_260\">\n      <g>\n       <use style=\"stroke:#000000;stroke-width:0.8;\" x=\"61.001562\" xlink:href=\"#m86e9d2eb80\" y=\"322.235366\"/>\n      </g>\n     </g>\n     <g id=\"text_260\">\n      <!-- F19 -->\n      <g transform=\"translate(35.525 326.034585)scale(0.1 -0.1)\">\n       <use xlink:href=\"#DejaVuSans-46\"/>\n       <use x=\"57.519531\" xlink:href=\"#DejaVuSans-31\"/>\n       <use x=\"121.142578\" xlink:href=\"#DejaVuSans-39\"/>\n      </g>\n     </g>\n    </g>\n    <g id=\"ytick_253\">\n     <g id=\"line2d_261\">\n      <g>\n       <use style=\"stroke:#000000;stroke-width:0.8;\" x=\"61.001562\" xlink:href=\"#m86e9d2eb80\" y=\"319.111228\"/>\n      </g>\n     </g>\n     <g id=\"text_261\">\n      <!-- F218 -->\n      <g transform=\"translate(29.1625 322.910447)scale(0.1 -0.1)\">\n       <use xlink:href=\"#DejaVuSans-46\"/>\n       <use x=\"57.519531\" xlink:href=\"#DejaVuSans-32\"/>\n       <use x=\"121.142578\" xlink:href=\"#DejaVuSans-31\"/>\n       <use x=\"184.765625\" xlink:href=\"#DejaVuSans-38\"/>\n      </g>\n     </g>\n    </g>\n    <g id=\"ytick_254\">\n     <g id=\"line2d_262\">\n      <g>\n       <use style=\"stroke:#000000;stroke-width:0.8;\" x=\"61.001562\" xlink:href=\"#m86e9d2eb80\" y=\"315.987091\"/>\n      </g>\n     </g>\n     <g id=\"text_262\">\n      <!-- F52 -->\n      <g transform=\"translate(35.525 319.786309)scale(0.1 -0.1)\">\n       <use xlink:href=\"#DejaVuSans-46\"/>\n       <use x=\"57.519531\" xlink:href=\"#DejaVuSans-35\"/>\n       <use x=\"121.142578\" xlink:href=\"#DejaVuSans-32\"/>\n      </g>\n     </g>\n    </g>\n    <g id=\"ytick_255\">\n     <g id=\"line2d_263\">\n      <g>\n       <use style=\"stroke:#000000;stroke-width:0.8;\" x=\"61.001562\" xlink:href=\"#m86e9d2eb80\" y=\"312.862953\"/>\n      </g>\n     </g>\n     <g id=\"text_263\">\n      <!-- F198 -->\n      <g transform=\"translate(29.1625 316.662171)scale(0.1 -0.1)\">\n       <use xlink:href=\"#DejaVuSans-46\"/>\n       <use x=\"57.519531\" xlink:href=\"#DejaVuSans-31\"/>\n       <use x=\"121.142578\" xlink:href=\"#DejaVuSans-39\"/>\n       <use x=\"184.765625\" xlink:href=\"#DejaVuSans-38\"/>\n      </g>\n     </g>\n    </g>\n    <g id=\"ytick_256\">\n     <g id=\"line2d_264\">\n      <g>\n       <use style=\"stroke:#000000;stroke-width:0.8;\" x=\"61.001562\" xlink:href=\"#m86e9d2eb80\" y=\"309.738815\"/>\n      </g>\n     </g>\n     <g id=\"text_264\">\n      <!-- F155 -->\n      <g transform=\"translate(29.1625 313.538033)scale(0.1 -0.1)\">\n       <use xlink:href=\"#DejaVuSans-46\"/>\n       <use x=\"57.519531\" xlink:href=\"#DejaVuSans-31\"/>\n       <use x=\"121.142578\" xlink:href=\"#DejaVuSans-35\"/>\n       <use x=\"184.765625\" xlink:href=\"#DejaVuSans-35\"/>\n      </g>\n     </g>\n    </g>\n    <g id=\"ytick_257\">\n     <g id=\"line2d_265\">\n      <g>\n       <use style=\"stroke:#000000;stroke-width:0.8;\" x=\"61.001562\" xlink:href=\"#m86e9d2eb80\" y=\"306.614677\"/>\n      </g>\n     </g>\n     <g id=\"text_265\">\n      <!-- F42 -->\n      <g transform=\"translate(35.525 310.413895)scale(0.1 -0.1)\">\n       <use xlink:href=\"#DejaVuSans-46\"/>\n       <use x=\"57.519531\" xlink:href=\"#DejaVuSans-34\"/>\n       <use x=\"121.142578\" xlink:href=\"#DejaVuSans-32\"/>\n      </g>\n     </g>\n    </g>\n    <g id=\"ytick_258\">\n     <g id=\"line2d_266\">\n      <g>\n       <use style=\"stroke:#000000;stroke-width:0.8;\" x=\"61.001562\" xlink:href=\"#m86e9d2eb80\" y=\"303.490539\"/>\n      </g>\n     </g>\n     <g id=\"text_266\">\n      <!-- F291 -->\n      <g transform=\"translate(29.1625 307.289758)scale(0.1 -0.1)\">\n       <use xlink:href=\"#DejaVuSans-46\"/>\n       <use x=\"57.519531\" xlink:href=\"#DejaVuSans-32\"/>\n       <use x=\"121.142578\" xlink:href=\"#DejaVuSans-39\"/>\n       <use x=\"184.765625\" xlink:href=\"#DejaVuSans-31\"/>\n      </g>\n     </g>\n    </g>\n    <g id=\"ytick_259\">\n     <g id=\"line2d_267\">\n      <g>\n       <use style=\"stroke:#000000;stroke-width:0.8;\" x=\"61.001562\" xlink:href=\"#m86e9d2eb80\" y=\"300.366401\"/>\n      </g>\n     </g>\n     <g id=\"text_267\">\n      <!-- F152 -->\n      <g transform=\"translate(29.1625 304.16562)scale(0.1 -0.1)\">\n       <use xlink:href=\"#DejaVuSans-46\"/>\n       <use x=\"57.519531\" xlink:href=\"#DejaVuSans-31\"/>\n       <use x=\"121.142578\" xlink:href=\"#DejaVuSans-35\"/>\n       <use x=\"184.765625\" xlink:href=\"#DejaVuSans-32\"/>\n      </g>\n     </g>\n    </g>\n    <g id=\"ytick_260\">\n     <g id=\"line2d_268\">\n      <g>\n       <use style=\"stroke:#000000;stroke-width:0.8;\" x=\"61.001562\" xlink:href=\"#m86e9d2eb80\" y=\"297.242263\"/>\n      </g>\n     </g>\n     <g id=\"text_268\">\n      <!-- F175 -->\n      <g transform=\"translate(29.1625 301.041482)scale(0.1 -0.1)\">\n       <use xlink:href=\"#DejaVuSans-46\"/>\n       <use x=\"57.519531\" xlink:href=\"#DejaVuSans-31\"/>\n       <use x=\"121.142578\" xlink:href=\"#DejaVuSans-37\"/>\n       <use x=\"184.765625\" xlink:href=\"#DejaVuSans-35\"/>\n      </g>\n     </g>\n    </g>\n    <g id=\"ytick_261\">\n     <g id=\"line2d_269\">\n      <g>\n       <use style=\"stroke:#000000;stroke-width:0.8;\" x=\"61.001562\" xlink:href=\"#m86e9d2eb80\" y=\"294.118125\"/>\n      </g>\n     </g>\n     <g id=\"text_269\">\n      <!-- F191 -->\n      <g transform=\"translate(29.1625 297.917344)scale(0.1 -0.1)\">\n       <use xlink:href=\"#DejaVuSans-46\"/>\n       <use x=\"57.519531\" xlink:href=\"#DejaVuSans-31\"/>\n       <use x=\"121.142578\" xlink:href=\"#DejaVuSans-39\"/>\n       <use x=\"184.765625\" xlink:href=\"#DejaVuSans-31\"/>\n      </g>\n     </g>\n    </g>\n    <g id=\"ytick_262\">\n     <g id=\"line2d_270\">\n      <g>\n       <use style=\"stroke:#000000;stroke-width:0.8;\" x=\"61.001562\" xlink:href=\"#m86e9d2eb80\" y=\"290.993987\"/>\n      </g>\n     </g>\n     <g id=\"text_270\">\n      <!-- F207 -->\n      <g transform=\"translate(29.1625 294.793206)scale(0.1 -0.1)\">\n       <use xlink:href=\"#DejaVuSans-46\"/>\n       <use x=\"57.519531\" xlink:href=\"#DejaVuSans-32\"/>\n       <use x=\"121.142578\" xlink:href=\"#DejaVuSans-30\"/>\n       <use x=\"184.765625\" xlink:href=\"#DejaVuSans-37\"/>\n      </g>\n     </g>\n    </g>\n    <g id=\"ytick_263\">\n     <g id=\"line2d_271\">\n      <g>\n       <use style=\"stroke:#000000;stroke-width:0.8;\" x=\"61.001562\" xlink:href=\"#m86e9d2eb80\" y=\"287.869849\"/>\n      </g>\n     </g>\n     <g id=\"text_271\">\n      <!-- F278 -->\n      <g transform=\"translate(29.1625 291.669068)scale(0.1 -0.1)\">\n       <use xlink:href=\"#DejaVuSans-46\"/>\n       <use x=\"57.519531\" xlink:href=\"#DejaVuSans-32\"/>\n       <use x=\"121.142578\" xlink:href=\"#DejaVuSans-37\"/>\n       <use x=\"184.765625\" xlink:href=\"#DejaVuSans-38\"/>\n      </g>\n     </g>\n    </g>\n    <g id=\"ytick_264\">\n     <g id=\"line2d_272\">\n      <g>\n       <use style=\"stroke:#000000;stroke-width:0.8;\" x=\"61.001562\" xlink:href=\"#m86e9d2eb80\" y=\"284.745711\"/>\n      </g>\n     </g>\n     <g id=\"text_272\">\n      <!-- F192 -->\n      <g transform=\"translate(29.1625 288.54493)scale(0.1 -0.1)\">\n       <use xlink:href=\"#DejaVuSans-46\"/>\n       <use x=\"57.519531\" xlink:href=\"#DejaVuSans-31\"/>\n       <use x=\"121.142578\" xlink:href=\"#DejaVuSans-39\"/>\n       <use x=\"184.765625\" xlink:href=\"#DejaVuSans-32\"/>\n      </g>\n     </g>\n    </g>\n    <g id=\"ytick_265\">\n     <g id=\"line2d_273\">\n      <g>\n       <use style=\"stroke:#000000;stroke-width:0.8;\" x=\"61.001562\" xlink:href=\"#m86e9d2eb80\" y=\"281.621573\"/>\n      </g>\n     </g>\n     <g id=\"text_273\">\n      <!-- F237 -->\n      <g transform=\"translate(29.1625 285.420792)scale(0.1 -0.1)\">\n       <use xlink:href=\"#DejaVuSans-46\"/>\n       <use x=\"57.519531\" xlink:href=\"#DejaVuSans-32\"/>\n       <use x=\"121.142578\" xlink:href=\"#DejaVuSans-33\"/>\n       <use x=\"184.765625\" xlink:href=\"#DejaVuSans-37\"/>\n      </g>\n     </g>\n    </g>\n    <g id=\"ytick_266\">\n     <g id=\"line2d_274\">\n      <g>\n       <use style=\"stroke:#000000;stroke-width:0.8;\" x=\"61.001562\" xlink:href=\"#m86e9d2eb80\" y=\"278.497435\"/>\n      </g>\n     </g>\n     <g id=\"text_274\">\n      <!-- F69 -->\n      <g transform=\"translate(35.525 282.296654)scale(0.1 -0.1)\">\n       <use xlink:href=\"#DejaVuSans-46\"/>\n       <use x=\"57.519531\" xlink:href=\"#DejaVuSans-36\"/>\n       <use x=\"121.142578\" xlink:href=\"#DejaVuSans-39\"/>\n      </g>\n     </g>\n    </g>\n    <g id=\"ytick_267\">\n     <g id=\"line2d_275\">\n      <g>\n       <use style=\"stroke:#000000;stroke-width:0.8;\" x=\"61.001562\" xlink:href=\"#m86e9d2eb80\" y=\"275.373297\"/>\n      </g>\n     </g>\n     <g id=\"text_275\">\n      <!-- F205 -->\n      <g transform=\"translate(29.1625 279.172516)scale(0.1 -0.1)\">\n       <use xlink:href=\"#DejaVuSans-46\"/>\n       <use x=\"57.519531\" xlink:href=\"#DejaVuSans-32\"/>\n       <use x=\"121.142578\" xlink:href=\"#DejaVuSans-30\"/>\n       <use x=\"184.765625\" xlink:href=\"#DejaVuSans-35\"/>\n      </g>\n     </g>\n    </g>\n    <g id=\"ytick_268\">\n     <g id=\"line2d_276\">\n      <g>\n       <use style=\"stroke:#000000;stroke-width:0.8;\" x=\"61.001562\" xlink:href=\"#m86e9d2eb80\" y=\"272.249159\"/>\n      </g>\n     </g>\n     <g id=\"text_276\">\n      <!-- F208 -->\n      <g transform=\"translate(29.1625 276.048378)scale(0.1 -0.1)\">\n       <use xlink:href=\"#DejaVuSans-46\"/>\n       <use x=\"57.519531\" xlink:href=\"#DejaVuSans-32\"/>\n       <use x=\"121.142578\" xlink:href=\"#DejaVuSans-30\"/>\n       <use x=\"184.765625\" xlink:href=\"#DejaVuSans-38\"/>\n      </g>\n     </g>\n    </g>\n    <g id=\"ytick_269\">\n     <g id=\"line2d_277\">\n      <g>\n       <use style=\"stroke:#000000;stroke-width:0.8;\" x=\"61.001562\" xlink:href=\"#m86e9d2eb80\" y=\"269.125022\"/>\n      </g>\n     </g>\n     <g id=\"text_277\">\n      <!-- F2 -->\n      <g transform=\"translate(41.8875 272.92424)scale(0.1 -0.1)\">\n       <use xlink:href=\"#DejaVuSans-46\"/>\n       <use x=\"57.519531\" xlink:href=\"#DejaVuSans-32\"/>\n      </g>\n     </g>\n    </g>\n    <g id=\"ytick_270\">\n     <g id=\"line2d_278\">\n      <g>\n       <use style=\"stroke:#000000;stroke-width:0.8;\" x=\"61.001562\" xlink:href=\"#m86e9d2eb80\" y=\"266.000884\"/>\n      </g>\n     </g>\n     <g id=\"text_278\">\n      <!-- F284 -->\n      <g transform=\"translate(29.1625 269.800102)scale(0.1 -0.1)\">\n       <use xlink:href=\"#DejaVuSans-46\"/>\n       <use x=\"57.519531\" xlink:href=\"#DejaVuSans-32\"/>\n       <use x=\"121.142578\" xlink:href=\"#DejaVuSans-38\"/>\n       <use x=\"184.765625\" xlink:href=\"#DejaVuSans-34\"/>\n      </g>\n     </g>\n    </g>\n    <g id=\"ytick_271\">\n     <g id=\"line2d_279\">\n      <g>\n       <use style=\"stroke:#000000;stroke-width:0.8;\" x=\"61.001562\" xlink:href=\"#m86e9d2eb80\" y=\"262.876746\"/>\n      </g>\n     </g>\n     <g id=\"text_279\">\n      <!-- F87 -->\n      <g transform=\"translate(35.525 266.675964)scale(0.1 -0.1)\">\n       <use xlink:href=\"#DejaVuSans-46\"/>\n       <use x=\"57.519531\" xlink:href=\"#DejaVuSans-38\"/>\n       <use x=\"121.142578\" xlink:href=\"#DejaVuSans-37\"/>\n      </g>\n     </g>\n    </g>\n    <g id=\"ytick_272\">\n     <g id=\"line2d_280\">\n      <g>\n       <use style=\"stroke:#000000;stroke-width:0.8;\" x=\"61.001562\" xlink:href=\"#m86e9d2eb80\" y=\"259.752608\"/>\n      </g>\n     </g>\n     <g id=\"text_280\">\n      <!-- F135 -->\n      <g transform=\"translate(29.1625 263.551827)scale(0.1 -0.1)\">\n       <use xlink:href=\"#DejaVuSans-46\"/>\n       <use x=\"57.519531\" xlink:href=\"#DejaVuSans-31\"/>\n       <use x=\"121.142578\" xlink:href=\"#DejaVuSans-33\"/>\n       <use x=\"184.765625\" xlink:href=\"#DejaVuSans-35\"/>\n      </g>\n     </g>\n    </g>\n    <g id=\"ytick_273\">\n     <g id=\"line2d_281\">\n      <g>\n       <use style=\"stroke:#000000;stroke-width:0.8;\" x=\"61.001562\" xlink:href=\"#m86e9d2eb80\" y=\"256.62847\"/>\n      </g>\n     </g>\n     <g id=\"text_281\">\n      <!-- F153 -->\n      <g transform=\"translate(29.1625 260.427689)scale(0.1 -0.1)\">\n       <use xlink:href=\"#DejaVuSans-46\"/>\n       <use x=\"57.519531\" xlink:href=\"#DejaVuSans-31\"/>\n       <use x=\"121.142578\" xlink:href=\"#DejaVuSans-35\"/>\n       <use x=\"184.765625\" xlink:href=\"#DejaVuSans-33\"/>\n      </g>\n     </g>\n    </g>\n    <g id=\"ytick_274\">\n     <g id=\"line2d_282\">\n      <g>\n       <use style=\"stroke:#000000;stroke-width:0.8;\" x=\"61.001562\" xlink:href=\"#m86e9d2eb80\" y=\"253.504332\"/>\n      </g>\n     </g>\n     <g id=\"text_282\">\n      <!-- F142 -->\n      <g transform=\"translate(29.1625 257.303551)scale(0.1 -0.1)\">\n       <use xlink:href=\"#DejaVuSans-46\"/>\n       <use x=\"57.519531\" xlink:href=\"#DejaVuSans-31\"/>\n       <use x=\"121.142578\" xlink:href=\"#DejaVuSans-34\"/>\n       <use x=\"184.765625\" xlink:href=\"#DejaVuSans-32\"/>\n      </g>\n     </g>\n    </g>\n    <g id=\"ytick_275\">\n     <g id=\"line2d_283\">\n      <g>\n       <use style=\"stroke:#000000;stroke-width:0.8;\" x=\"61.001562\" xlink:href=\"#m86e9d2eb80\" y=\"250.380194\"/>\n      </g>\n     </g>\n     <g id=\"text_283\">\n      <!-- F62 -->\n      <g transform=\"translate(35.525 254.179413)scale(0.1 -0.1)\">\n       <use xlink:href=\"#DejaVuSans-46\"/>\n       <use x=\"57.519531\" xlink:href=\"#DejaVuSans-36\"/>\n       <use x=\"121.142578\" xlink:href=\"#DejaVuSans-32\"/>\n      </g>\n     </g>\n    </g>\n    <g id=\"ytick_276\">\n     <g id=\"line2d_284\">\n      <g>\n       <use style=\"stroke:#000000;stroke-width:0.8;\" x=\"61.001562\" xlink:href=\"#m86e9d2eb80\" y=\"247.256056\"/>\n      </g>\n     </g>\n     <g id=\"text_284\">\n      <!-- F79 -->\n      <g transform=\"translate(35.525 251.055275)scale(0.1 -0.1)\">\n       <use xlink:href=\"#DejaVuSans-46\"/>\n       <use x=\"57.519531\" xlink:href=\"#DejaVuSans-37\"/>\n       <use x=\"121.142578\" xlink:href=\"#DejaVuSans-39\"/>\n      </g>\n     </g>\n    </g>\n    <g id=\"ytick_277\">\n     <g id=\"line2d_285\">\n      <g>\n       <use style=\"stroke:#000000;stroke-width:0.8;\" x=\"61.001562\" xlink:href=\"#m86e9d2eb80\" y=\"244.131918\"/>\n      </g>\n     </g>\n     <g id=\"text_285\">\n      <!-- F43 -->\n      <g transform=\"translate(35.525 247.931137)scale(0.1 -0.1)\">\n       <use xlink:href=\"#DejaVuSans-46\"/>\n       <use x=\"57.519531\" xlink:href=\"#DejaVuSans-34\"/>\n       <use x=\"121.142578\" xlink:href=\"#DejaVuSans-33\"/>\n      </g>\n     </g>\n    </g>\n    <g id=\"ytick_278\">\n     <g id=\"line2d_286\">\n      <g>\n       <use style=\"stroke:#000000;stroke-width:0.8;\" x=\"61.001562\" xlink:href=\"#m86e9d2eb80\" y=\"241.00778\"/>\n      </g>\n     </g>\n     <g id=\"text_286\">\n      <!-- F11 -->\n      <g transform=\"translate(35.525 244.806999)scale(0.1 -0.1)\">\n       <use xlink:href=\"#DejaVuSans-46\"/>\n       <use x=\"57.519531\" xlink:href=\"#DejaVuSans-31\"/>\n       <use x=\"121.142578\" xlink:href=\"#DejaVuSans-31\"/>\n      </g>\n     </g>\n    </g>\n    <g id=\"ytick_279\">\n     <g id=\"line2d_287\">\n      <g>\n       <use style=\"stroke:#000000;stroke-width:0.8;\" x=\"61.001562\" xlink:href=\"#m86e9d2eb80\" y=\"237.883642\"/>\n      </g>\n     </g>\n     <g id=\"text_287\">\n      <!-- F31 -->\n      <g transform=\"translate(35.525 241.682861)scale(0.1 -0.1)\">\n       <use xlink:href=\"#DejaVuSans-46\"/>\n       <use x=\"57.519531\" xlink:href=\"#DejaVuSans-33\"/>\n       <use x=\"121.142578\" xlink:href=\"#DejaVuSans-31\"/>\n      </g>\n     </g>\n    </g>\n    <g id=\"ytick_280\">\n     <g id=\"line2d_288\">\n      <g>\n       <use style=\"stroke:#000000;stroke-width:0.8;\" x=\"61.001562\" xlink:href=\"#m86e9d2eb80\" y=\"234.759504\"/>\n      </g>\n     </g>\n     <g id=\"text_288\">\n      <!-- F146 -->\n      <g transform=\"translate(29.1625 238.558723)scale(0.1 -0.1)\">\n       <use xlink:href=\"#DejaVuSans-46\"/>\n       <use x=\"57.519531\" xlink:href=\"#DejaVuSans-31\"/>\n       <use x=\"121.142578\" xlink:href=\"#DejaVuSans-34\"/>\n       <use x=\"184.765625\" xlink:href=\"#DejaVuSans-36\"/>\n      </g>\n     </g>\n    </g>\n    <g id=\"ytick_281\">\n     <g id=\"line2d_289\">\n      <g>\n       <use style=\"stroke:#000000;stroke-width:0.8;\" x=\"61.001562\" xlink:href=\"#m86e9d2eb80\" y=\"231.635366\"/>\n      </g>\n     </g>\n     <g id=\"text_289\">\n      <!-- F114 -->\n      <g transform=\"translate(29.1625 235.434585)scale(0.1 -0.1)\">\n       <use xlink:href=\"#DejaVuSans-46\"/>\n       <use x=\"57.519531\" xlink:href=\"#DejaVuSans-31\"/>\n       <use x=\"121.142578\" xlink:href=\"#DejaVuSans-31\"/>\n       <use x=\"184.765625\" xlink:href=\"#DejaVuSans-34\"/>\n      </g>\n     </g>\n    </g>\n    <g id=\"ytick_282\">\n     <g id=\"line2d_290\">\n      <g>\n       <use style=\"stroke:#000000;stroke-width:0.8;\" x=\"61.001562\" xlink:href=\"#m86e9d2eb80\" y=\"228.511228\"/>\n      </g>\n     </g>\n     <g id=\"text_290\">\n      <!-- F99 -->\n      <g transform=\"translate(35.525 232.310447)scale(0.1 -0.1)\">\n       <use xlink:href=\"#DejaVuSans-46\"/>\n       <use x=\"57.519531\" xlink:href=\"#DejaVuSans-39\"/>\n       <use x=\"121.142578\" xlink:href=\"#DejaVuSans-39\"/>\n      </g>\n     </g>\n    </g>\n    <g id=\"ytick_283\">\n     <g id=\"line2d_291\">\n      <g>\n       <use style=\"stroke:#000000;stroke-width:0.8;\" x=\"61.001562\" xlink:href=\"#m86e9d2eb80\" y=\"225.387091\"/>\n      </g>\n     </g>\n     <g id=\"text_291\">\n      <!-- F39 -->\n      <g transform=\"translate(35.525 229.186309)scale(0.1 -0.1)\">\n       <use xlink:href=\"#DejaVuSans-46\"/>\n       <use x=\"57.519531\" xlink:href=\"#DejaVuSans-33\"/>\n       <use x=\"121.142578\" xlink:href=\"#DejaVuSans-39\"/>\n      </g>\n     </g>\n    </g>\n    <g id=\"ytick_284\">\n     <g id=\"line2d_292\">\n      <g>\n       <use style=\"stroke:#000000;stroke-width:0.8;\" x=\"61.001562\" xlink:href=\"#m86e9d2eb80\" y=\"222.262953\"/>\n      </g>\n     </g>\n     <g id=\"text_292\">\n      <!-- F120 -->\n      <g transform=\"translate(29.1625 226.062171)scale(0.1 -0.1)\">\n       <use xlink:href=\"#DejaVuSans-46\"/>\n       <use x=\"57.519531\" xlink:href=\"#DejaVuSans-31\"/>\n       <use x=\"121.142578\" xlink:href=\"#DejaVuSans-32\"/>\n       <use x=\"184.765625\" xlink:href=\"#DejaVuSans-30\"/>\n      </g>\n     </g>\n    </g>\n    <g id=\"ytick_285\">\n     <g id=\"line2d_293\">\n      <g>\n       <use style=\"stroke:#000000;stroke-width:0.8;\" x=\"61.001562\" xlink:href=\"#m86e9d2eb80\" y=\"219.138815\"/>\n      </g>\n     </g>\n     <g id=\"text_293\">\n      <!-- F10 -->\n      <g transform=\"translate(35.525 222.938033)scale(0.1 -0.1)\">\n       <use xlink:href=\"#DejaVuSans-46\"/>\n       <use x=\"57.519531\" xlink:href=\"#DejaVuSans-31\"/>\n       <use x=\"121.142578\" xlink:href=\"#DejaVuSans-30\"/>\n      </g>\n     </g>\n    </g>\n    <g id=\"ytick_286\">\n     <g id=\"line2d_294\">\n      <g>\n       <use style=\"stroke:#000000;stroke-width:0.8;\" x=\"61.001562\" xlink:href=\"#m86e9d2eb80\" y=\"216.014677\"/>\n      </g>\n     </g>\n     <g id=\"text_294\">\n      <!-- F16 -->\n      <g transform=\"translate(35.525 219.813895)scale(0.1 -0.1)\">\n       <use xlink:href=\"#DejaVuSans-46\"/>\n       <use x=\"57.519531\" xlink:href=\"#DejaVuSans-31\"/>\n       <use x=\"121.142578\" xlink:href=\"#DejaVuSans-36\"/>\n      </g>\n     </g>\n    </g>\n    <g id=\"ytick_287\">\n     <g id=\"line2d_295\">\n      <g>\n       <use style=\"stroke:#000000;stroke-width:0.8;\" x=\"61.001562\" xlink:href=\"#m86e9d2eb80\" y=\"212.890539\"/>\n      </g>\n     </g>\n     <g id=\"text_295\">\n      <!-- F148 -->\n      <g transform=\"translate(29.1625 216.689758)scale(0.1 -0.1)\">\n       <use xlink:href=\"#DejaVuSans-46\"/>\n       <use x=\"57.519531\" xlink:href=\"#DejaVuSans-31\"/>\n       <use x=\"121.142578\" xlink:href=\"#DejaVuSans-34\"/>\n       <use x=\"184.765625\" xlink:href=\"#DejaVuSans-38\"/>\n      </g>\n     </g>\n    </g>\n    <g id=\"ytick_288\">\n     <g id=\"line2d_296\">\n      <g>\n       <use style=\"stroke:#000000;stroke-width:0.8;\" x=\"61.001562\" xlink:href=\"#m86e9d2eb80\" y=\"209.766401\"/>\n      </g>\n     </g>\n     <g id=\"text_296\">\n      <!-- F200 -->\n      <g transform=\"translate(29.1625 213.56562)scale(0.1 -0.1)\">\n       <use xlink:href=\"#DejaVuSans-46\"/>\n       <use x=\"57.519531\" xlink:href=\"#DejaVuSans-32\"/>\n       <use x=\"121.142578\" xlink:href=\"#DejaVuSans-30\"/>\n       <use x=\"184.765625\" xlink:href=\"#DejaVuSans-30\"/>\n      </g>\n     </g>\n    </g>\n    <g id=\"ytick_289\">\n     <g id=\"line2d_297\">\n      <g>\n       <use style=\"stroke:#000000;stroke-width:0.8;\" x=\"61.001562\" xlink:href=\"#m86e9d2eb80\" y=\"206.642263\"/>\n      </g>\n     </g>\n     <g id=\"text_297\">\n      <!-- F84 -->\n      <g transform=\"translate(35.525 210.441482)scale(0.1 -0.1)\">\n       <use xlink:href=\"#DejaVuSans-46\"/>\n       <use x=\"57.519531\" xlink:href=\"#DejaVuSans-38\"/>\n       <use x=\"121.142578\" xlink:href=\"#DejaVuSans-34\"/>\n      </g>\n     </g>\n    </g>\n    <g id=\"ytick_290\">\n     <g id=\"line2d_298\">\n      <g>\n       <use style=\"stroke:#000000;stroke-width:0.8;\" x=\"61.001562\" xlink:href=\"#m86e9d2eb80\" y=\"203.518125\"/>\n      </g>\n     </g>\n     <g id=\"text_298\">\n      <!-- TD_F4 -->\n      <g transform=\"translate(23.079687 207.178281)scale(0.1 -0.1)\">\n       <use xlink:href=\"#DejaVuSans-54\"/>\n       <use x=\"61.083984\" xlink:href=\"#DejaVuSans-44\"/>\n       <use x=\"138.085938\" xlink:href=\"#DejaVuSans-5f\"/>\n       <use x=\"188.085938\" xlink:href=\"#DejaVuSans-46\"/>\n       <use x=\"245.605469\" xlink:href=\"#DejaVuSans-34\"/>\n      </g>\n     </g>\n    </g>\n    <g id=\"ytick_291\">\n     <g id=\"line2d_299\">\n      <g>\n       <use style=\"stroke:#000000;stroke-width:0.8;\" x=\"61.001562\" xlink:href=\"#m86e9d2eb80\" y=\"200.393987\"/>\n      </g>\n     </g>\n     <g id=\"text_299\">\n      <!-- F44 -->\n      <g transform=\"translate(35.525 204.193206)scale(0.1 -0.1)\">\n       <use xlink:href=\"#DejaVuSans-46\"/>\n       <use x=\"57.519531\" xlink:href=\"#DejaVuSans-34\"/>\n       <use x=\"121.142578\" xlink:href=\"#DejaVuSans-34\"/>\n      </g>\n     </g>\n    </g>\n    <g id=\"ytick_292\">\n     <g id=\"line2d_300\">\n      <g>\n       <use style=\"stroke:#000000;stroke-width:0.8;\" x=\"61.001562\" xlink:href=\"#m86e9d2eb80\" y=\"197.269849\"/>\n      </g>\n     </g>\n     <g id=\"text_300\">\n      <!-- F125 -->\n      <g transform=\"translate(29.1625 201.069068)scale(0.1 -0.1)\">\n       <use xlink:href=\"#DejaVuSans-46\"/>\n       <use x=\"57.519531\" xlink:href=\"#DejaVuSans-31\"/>\n       <use x=\"121.142578\" xlink:href=\"#DejaVuSans-32\"/>\n       <use x=\"184.765625\" xlink:href=\"#DejaVuSans-35\"/>\n      </g>\n     </g>\n    </g>\n    <g id=\"ytick_293\">\n     <g id=\"line2d_301\">\n      <g>\n       <use style=\"stroke:#000000;stroke-width:0.8;\" x=\"61.001562\" xlink:href=\"#m86e9d2eb80\" y=\"194.145711\"/>\n      </g>\n     </g>\n     <g id=\"text_301\">\n      <!-- F102 -->\n      <g transform=\"translate(29.1625 197.94493)scale(0.1 -0.1)\">\n       <use xlink:href=\"#DejaVuSans-46\"/>\n       <use x=\"57.519531\" xlink:href=\"#DejaVuSans-31\"/>\n       <use x=\"121.142578\" xlink:href=\"#DejaVuSans-30\"/>\n       <use x=\"184.765625\" xlink:href=\"#DejaVuSans-32\"/>\n      </g>\n     </g>\n    </g>\n    <g id=\"ytick_294\">\n     <g id=\"line2d_302\">\n      <g>\n       <use style=\"stroke:#000000;stroke-width:0.8;\" x=\"61.001562\" xlink:href=\"#m86e9d2eb80\" y=\"191.021573\"/>\n      </g>\n     </g>\n     <g id=\"text_302\">\n      <!-- F126 -->\n      <g transform=\"translate(29.1625 194.820792)scale(0.1 -0.1)\">\n       <use xlink:href=\"#DejaVuSans-46\"/>\n       <use x=\"57.519531\" xlink:href=\"#DejaVuSans-31\"/>\n       <use x=\"121.142578\" xlink:href=\"#DejaVuSans-32\"/>\n       <use x=\"184.765625\" xlink:href=\"#DejaVuSans-36\"/>\n      </g>\n     </g>\n    </g>\n    <g id=\"ytick_295\">\n     <g id=\"line2d_303\">\n      <g>\n       <use style=\"stroke:#000000;stroke-width:0.8;\" x=\"61.001562\" xlink:href=\"#m86e9d2eb80\" y=\"187.897435\"/>\n      </g>\n     </g>\n     <g id=\"text_303\">\n      <!-- F280 -->\n      <g transform=\"translate(29.1625 191.696654)scale(0.1 -0.1)\">\n       <use xlink:href=\"#DejaVuSans-46\"/>\n       <use x=\"57.519531\" xlink:href=\"#DejaVuSans-32\"/>\n       <use x=\"121.142578\" xlink:href=\"#DejaVuSans-38\"/>\n       <use x=\"184.765625\" xlink:href=\"#DejaVuSans-30\"/>\n      </g>\n     </g>\n    </g>\n    <g id=\"ytick_296\">\n     <g id=\"line2d_304\">\n      <g>\n       <use style=\"stroke:#000000;stroke-width:0.8;\" x=\"61.001562\" xlink:href=\"#m86e9d2eb80\" y=\"184.773297\"/>\n      </g>\n     </g>\n     <g id=\"text_304\">\n      <!-- F35 -->\n      <g transform=\"translate(35.525 188.572516)scale(0.1 -0.1)\">\n       <use xlink:href=\"#DejaVuSans-46\"/>\n       <use x=\"57.519531\" xlink:href=\"#DejaVuSans-33\"/>\n       <use x=\"121.142578\" xlink:href=\"#DejaVuSans-35\"/>\n      </g>\n     </g>\n    </g>\n    <g id=\"ytick_297\">\n     <g id=\"line2d_305\">\n      <g>\n       <use style=\"stroke:#000000;stroke-width:0.8;\" x=\"61.001562\" xlink:href=\"#m86e9d2eb80\" y=\"181.649159\"/>\n      </g>\n     </g>\n     <g id=\"text_305\">\n      <!-- F71 -->\n      <g transform=\"translate(35.525 185.448378)scale(0.1 -0.1)\">\n       <use xlink:href=\"#DejaVuSans-46\"/>\n       <use x=\"57.519531\" xlink:href=\"#DejaVuSans-37\"/>\n       <use x=\"121.142578\" xlink:href=\"#DejaVuSans-31\"/>\n      </g>\n     </g>\n    </g>\n    <g id=\"ytick_298\">\n     <g id=\"line2d_306\">\n      <g>\n       <use style=\"stroke:#000000;stroke-width:0.8;\" x=\"61.001562\" xlink:href=\"#m86e9d2eb80\" y=\"178.525022\"/>\n      </g>\n     </g>\n     <g id=\"text_306\">\n      <!-- F23 -->\n      <g transform=\"translate(35.525 182.32424)scale(0.1 -0.1)\">\n       <use xlink:href=\"#DejaVuSans-46\"/>\n       <use x=\"57.519531\" xlink:href=\"#DejaVuSans-32\"/>\n       <use x=\"121.142578\" xlink:href=\"#DejaVuSans-33\"/>\n      </g>\n     </g>\n    </g>\n    <g id=\"ytick_299\">\n     <g id=\"line2d_307\">\n      <g>\n       <use style=\"stroke:#000000;stroke-width:0.8;\" x=\"61.001562\" xlink:href=\"#m86e9d2eb80\" y=\"175.400884\"/>\n      </g>\n     </g>\n     <g id=\"text_307\">\n      <!-- F159 -->\n      <g transform=\"translate(29.1625 179.200102)scale(0.1 -0.1)\">\n       <use xlink:href=\"#DejaVuSans-46\"/>\n       <use x=\"57.519531\" xlink:href=\"#DejaVuSans-31\"/>\n       <use x=\"121.142578\" xlink:href=\"#DejaVuSans-35\"/>\n       <use x=\"184.765625\" xlink:href=\"#DejaVuSans-39\"/>\n      </g>\n     </g>\n    </g>\n    <g id=\"ytick_300\">\n     <g id=\"line2d_308\">\n      <g>\n       <use style=\"stroke:#000000;stroke-width:0.8;\" x=\"61.001562\" xlink:href=\"#m86e9d2eb80\" y=\"172.276746\"/>\n      </g>\n     </g>\n     <g id=\"text_308\">\n      <!-- F136 -->\n      <g transform=\"translate(29.1625 176.075964)scale(0.1 -0.1)\">\n       <use xlink:href=\"#DejaVuSans-46\"/>\n       <use x=\"57.519531\" xlink:href=\"#DejaVuSans-31\"/>\n       <use x=\"121.142578\" xlink:href=\"#DejaVuSans-33\"/>\n       <use x=\"184.765625\" xlink:href=\"#DejaVuSans-36\"/>\n      </g>\n     </g>\n    </g>\n    <g id=\"ytick_301\">\n     <g id=\"line2d_309\">\n      <g>\n       <use style=\"stroke:#000000;stroke-width:0.8;\" x=\"61.001562\" xlink:href=\"#m86e9d2eb80\" y=\"169.152608\"/>\n      </g>\n     </g>\n     <g id=\"text_309\">\n      <!-- F158 -->\n      <g transform=\"translate(29.1625 172.951827)scale(0.1 -0.1)\">\n       <use xlink:href=\"#DejaVuSans-46\"/>\n       <use x=\"57.519531\" xlink:href=\"#DejaVuSans-31\"/>\n       <use x=\"121.142578\" xlink:href=\"#DejaVuSans-35\"/>\n       <use x=\"184.765625\" xlink:href=\"#DejaVuSans-38\"/>\n      </g>\n     </g>\n    </g>\n    <g id=\"ytick_302\">\n     <g id=\"line2d_310\">\n      <g>\n       <use style=\"stroke:#000000;stroke-width:0.8;\" x=\"61.001562\" xlink:href=\"#m86e9d2eb80\" y=\"166.02847\"/>\n      </g>\n     </g>\n     <g id=\"text_310\">\n      <!-- F110 -->\n      <g transform=\"translate(29.1625 169.827689)scale(0.1 -0.1)\">\n       <use xlink:href=\"#DejaVuSans-46\"/>\n       <use x=\"57.519531\" xlink:href=\"#DejaVuSans-31\"/>\n       <use x=\"121.142578\" xlink:href=\"#DejaVuSans-31\"/>\n       <use x=\"184.765625\" xlink:href=\"#DejaVuSans-30\"/>\n      </g>\n     </g>\n    </g>\n    <g id=\"ytick_303\">\n     <g id=\"line2d_311\">\n      <g>\n       <use style=\"stroke:#000000;stroke-width:0.8;\" x=\"61.001562\" xlink:href=\"#m86e9d2eb80\" y=\"162.904332\"/>\n      </g>\n     </g>\n     <g id=\"text_311\">\n      <!-- F7 -->\n      <g transform=\"translate(41.8875 166.703551)scale(0.1 -0.1)\">\n       <use xlink:href=\"#DejaVuSans-46\"/>\n       <use x=\"57.519531\" xlink:href=\"#DejaVuSans-37\"/>\n      </g>\n     </g>\n    </g>\n    <g id=\"ytick_304\">\n     <g id=\"line2d_312\">\n      <g>\n       <use style=\"stroke:#000000;stroke-width:0.8;\" x=\"61.001562\" xlink:href=\"#m86e9d2eb80\" y=\"159.780194\"/>\n      </g>\n     </g>\n     <g id=\"text_312\">\n      <!-- F117 -->\n      <g transform=\"translate(29.1625 163.579413)scale(0.1 -0.1)\">\n       <use xlink:href=\"#DejaVuSans-46\"/>\n       <use x=\"57.519531\" xlink:href=\"#DejaVuSans-31\"/>\n       <use x=\"121.142578\" xlink:href=\"#DejaVuSans-31\"/>\n       <use x=\"184.765625\" xlink:href=\"#DejaVuSans-37\"/>\n      </g>\n     </g>\n    </g>\n    <g id=\"ytick_305\">\n     <g id=\"line2d_313\">\n      <g>\n       <use style=\"stroke:#000000;stroke-width:0.8;\" x=\"61.001562\" xlink:href=\"#m86e9d2eb80\" y=\"156.656056\"/>\n      </g>\n     </g>\n     <g id=\"text_313\">\n      <!-- F220 -->\n      <g transform=\"translate(29.1625 160.455275)scale(0.1 -0.1)\">\n       <use xlink:href=\"#DejaVuSans-46\"/>\n       <use x=\"57.519531\" xlink:href=\"#DejaVuSans-32\"/>\n       <use x=\"121.142578\" xlink:href=\"#DejaVuSans-32\"/>\n       <use x=\"184.765625\" xlink:href=\"#DejaVuSans-30\"/>\n      </g>\n     </g>\n    </g>\n    <g id=\"ytick_306\">\n     <g id=\"line2d_314\">\n      <g>\n       <use style=\"stroke:#000000;stroke-width:0.8;\" x=\"61.001562\" xlink:href=\"#m86e9d2eb80\" y=\"153.531918\"/>\n      </g>\n     </g>\n     <g id=\"text_314\">\n      <!-- F30 -->\n      <g transform=\"translate(35.525 157.331137)scale(0.1 -0.1)\">\n       <use xlink:href=\"#DejaVuSans-46\"/>\n       <use x=\"57.519531\" xlink:href=\"#DejaVuSans-33\"/>\n       <use x=\"121.142578\" xlink:href=\"#DejaVuSans-30\"/>\n      </g>\n     </g>\n    </g>\n    <g id=\"ytick_307\">\n     <g id=\"line2d_315\">\n      <g>\n       <use style=\"stroke:#000000;stroke-width:0.8;\" x=\"61.001562\" xlink:href=\"#m86e9d2eb80\" y=\"150.40778\"/>\n      </g>\n     </g>\n     <g id=\"text_315\">\n      <!-- F6 -->\n      <g transform=\"translate(41.8875 154.206999)scale(0.1 -0.1)\">\n       <use xlink:href=\"#DejaVuSans-46\"/>\n       <use x=\"57.519531\" xlink:href=\"#DejaVuSans-36\"/>\n      </g>\n     </g>\n    </g>\n    <g id=\"ytick_308\">\n     <g id=\"line2d_316\">\n      <g>\n       <use style=\"stroke:#000000;stroke-width:0.8;\" x=\"61.001562\" xlink:href=\"#m86e9d2eb80\" y=\"147.283642\"/>\n      </g>\n     </g>\n     <g id=\"text_316\">\n      <!-- F106 -->\n      <g transform=\"translate(29.1625 151.082861)scale(0.1 -0.1)\">\n       <use xlink:href=\"#DejaVuSans-46\"/>\n       <use x=\"57.519531\" xlink:href=\"#DejaVuSans-31\"/>\n       <use x=\"121.142578\" xlink:href=\"#DejaVuSans-30\"/>\n       <use x=\"184.765625\" xlink:href=\"#DejaVuSans-36\"/>\n      </g>\n     </g>\n    </g>\n    <g id=\"ytick_309\">\n     <g id=\"line2d_317\">\n      <g>\n       <use style=\"stroke:#000000;stroke-width:0.8;\" x=\"61.001562\" xlink:href=\"#m86e9d2eb80\" y=\"144.159504\"/>\n      </g>\n     </g>\n     <g id=\"text_317\">\n      <!-- F154 -->\n      <g transform=\"translate(29.1625 147.958723)scale(0.1 -0.1)\">\n       <use xlink:href=\"#DejaVuSans-46\"/>\n       <use x=\"57.519531\" xlink:href=\"#DejaVuSans-31\"/>\n       <use x=\"121.142578\" xlink:href=\"#DejaVuSans-35\"/>\n       <use x=\"184.765625\" xlink:href=\"#DejaVuSans-34\"/>\n      </g>\n     </g>\n    </g>\n    <g id=\"ytick_310\">\n     <g id=\"line2d_318\">\n      <g>\n       <use style=\"stroke:#000000;stroke-width:0.8;\" x=\"61.001562\" xlink:href=\"#m86e9d2eb80\" y=\"141.035366\"/>\n      </g>\n     </g>\n     <g id=\"text_318\">\n      <!-- F188 -->\n      <g transform=\"translate(29.1625 144.834585)scale(0.1 -0.1)\">\n       <use xlink:href=\"#DejaVuSans-46\"/>\n       <use x=\"57.519531\" xlink:href=\"#DejaVuSans-31\"/>\n       <use x=\"121.142578\" xlink:href=\"#DejaVuSans-38\"/>\n       <use x=\"184.765625\" xlink:href=\"#DejaVuSans-38\"/>\n      </g>\n     </g>\n    </g>\n    <g id=\"ytick_311\">\n     <g id=\"line2d_319\">\n      <g>\n       <use style=\"stroke:#000000;stroke-width:0.8;\" x=\"61.001562\" xlink:href=\"#m86e9d2eb80\" y=\"137.911228\"/>\n      </g>\n     </g>\n     <g id=\"text_319\">\n      <!-- F180 -->\n      <g transform=\"translate(29.1625 141.710447)scale(0.1 -0.1)\">\n       <use xlink:href=\"#DejaVuSans-46\"/>\n       <use x=\"57.519531\" xlink:href=\"#DejaVuSans-31\"/>\n       <use x=\"121.142578\" xlink:href=\"#DejaVuSans-38\"/>\n       <use x=\"184.765625\" xlink:href=\"#DejaVuSans-30\"/>\n      </g>\n     </g>\n    </g>\n    <g id=\"ytick_312\">\n     <g id=\"line2d_320\">\n      <g>\n       <use style=\"stroke:#000000;stroke-width:0.8;\" x=\"61.001562\" xlink:href=\"#m86e9d2eb80\" y=\"134.787091\"/>\n      </g>\n     </g>\n     <g id=\"text_320\">\n      <!-- F111 -->\n      <g transform=\"translate(29.1625 138.586309)scale(0.1 -0.1)\">\n       <use xlink:href=\"#DejaVuSans-46\"/>\n       <use x=\"57.519531\" xlink:href=\"#DejaVuSans-31\"/>\n       <use x=\"121.142578\" xlink:href=\"#DejaVuSans-31\"/>\n       <use x=\"184.765625\" xlink:href=\"#DejaVuSans-31\"/>\n      </g>\n     </g>\n    </g>\n    <g id=\"ytick_313\">\n     <g id=\"line2d_321\">\n      <g>\n       <use style=\"stroke:#000000;stroke-width:0.8;\" x=\"61.001562\" xlink:href=\"#m86e9d2eb80\" y=\"131.662953\"/>\n      </g>\n     </g>\n     <g id=\"text_321\">\n      <!-- F259 -->\n      <g transform=\"translate(29.1625 135.462171)scale(0.1 -0.1)\">\n       <use xlink:href=\"#DejaVuSans-46\"/>\n       <use x=\"57.519531\" xlink:href=\"#DejaVuSans-32\"/>\n       <use x=\"121.142578\" xlink:href=\"#DejaVuSans-35\"/>\n       <use x=\"184.765625\" xlink:href=\"#DejaVuSans-39\"/>\n      </g>\n     </g>\n    </g>\n    <g id=\"ytick_314\">\n     <g id=\"line2d_322\">\n      <g>\n       <use style=\"stroke:#000000;stroke-width:0.8;\" x=\"61.001562\" xlink:href=\"#m86e9d2eb80\" y=\"128.538815\"/>\n      </g>\n     </g>\n     <g id=\"text_322\">\n      <!-- F36 -->\n      <g transform=\"translate(35.525 132.338033)scale(0.1 -0.1)\">\n       <use xlink:href=\"#DejaVuSans-46\"/>\n       <use x=\"57.519531\" xlink:href=\"#DejaVuSans-33\"/>\n       <use x=\"121.142578\" xlink:href=\"#DejaVuSans-36\"/>\n      </g>\n     </g>\n    </g>\n    <g id=\"ytick_315\">\n     <g id=\"line2d_323\">\n      <g>\n       <use style=\"stroke:#000000;stroke-width:0.8;\" x=\"61.001562\" xlink:href=\"#m86e9d2eb80\" y=\"125.414677\"/>\n      </g>\n     </g>\n     <g id=\"text_323\">\n      <!-- F165 -->\n      <g transform=\"translate(29.1625 129.213895)scale(0.1 -0.1)\">\n       <use xlink:href=\"#DejaVuSans-46\"/>\n       <use x=\"57.519531\" xlink:href=\"#DejaVuSans-31\"/>\n       <use x=\"121.142578\" xlink:href=\"#DejaVuSans-36\"/>\n       <use x=\"184.765625\" xlink:href=\"#DejaVuSans-35\"/>\n      </g>\n     </g>\n    </g>\n    <g id=\"ytick_316\">\n     <g id=\"line2d_324\">\n      <g>\n       <use style=\"stroke:#000000;stroke-width:0.8;\" x=\"61.001562\" xlink:href=\"#m86e9d2eb80\" y=\"122.290539\"/>\n      </g>\n     </g>\n     <g id=\"text_324\">\n      <!-- F74 -->\n      <g transform=\"translate(35.525 126.089758)scale(0.1 -0.1)\">\n       <use xlink:href=\"#DejaVuSans-46\"/>\n       <use x=\"57.519531\" xlink:href=\"#DejaVuSans-37\"/>\n       <use x=\"121.142578\" xlink:href=\"#DejaVuSans-34\"/>\n      </g>\n     </g>\n    </g>\n    <g id=\"ytick_317\">\n     <g id=\"line2d_325\">\n      <g>\n       <use style=\"stroke:#000000;stroke-width:0.8;\" x=\"61.001562\" xlink:href=\"#m86e9d2eb80\" y=\"119.166401\"/>\n      </g>\n     </g>\n     <g id=\"text_325\">\n      <!-- F196 -->\n      <g transform=\"translate(29.1625 122.96562)scale(0.1 -0.1)\">\n       <use xlink:href=\"#DejaVuSans-46\"/>\n       <use x=\"57.519531\" xlink:href=\"#DejaVuSans-31\"/>\n       <use x=\"121.142578\" xlink:href=\"#DejaVuSans-39\"/>\n       <use x=\"184.765625\" xlink:href=\"#DejaVuSans-36\"/>\n      </g>\n     </g>\n    </g>\n    <g id=\"ytick_318\">\n     <g id=\"line2d_326\">\n      <g>\n       <use style=\"stroke:#000000;stroke-width:0.8;\" x=\"61.001562\" xlink:href=\"#m86e9d2eb80\" y=\"116.042263\"/>\n      </g>\n     </g>\n     <g id=\"text_326\">\n      <!-- F46 -->\n      <g transform=\"translate(35.525 119.841482)scale(0.1 -0.1)\">\n       <use xlink:href=\"#DejaVuSans-46\"/>\n       <use x=\"57.519531\" xlink:href=\"#DejaVuSans-34\"/>\n       <use x=\"121.142578\" xlink:href=\"#DejaVuSans-36\"/>\n      </g>\n     </g>\n    </g>\n    <g id=\"ytick_319\">\n     <g id=\"line2d_327\">\n      <g>\n       <use style=\"stroke:#000000;stroke-width:0.8;\" x=\"61.001562\" xlink:href=\"#m86e9d2eb80\" y=\"112.918125\"/>\n      </g>\n     </g>\n     <g id=\"text_327\">\n      <!-- F275 -->\n      <g transform=\"translate(29.1625 116.717344)scale(0.1 -0.1)\">\n       <use xlink:href=\"#DejaVuSans-46\"/>\n       <use x=\"57.519531\" xlink:href=\"#DejaVuSans-32\"/>\n       <use x=\"121.142578\" xlink:href=\"#DejaVuSans-37\"/>\n       <use x=\"184.765625\" xlink:href=\"#DejaVuSans-35\"/>\n      </g>\n     </g>\n    </g>\n    <g id=\"ytick_320\">\n     <g id=\"line2d_328\">\n      <g>\n       <use style=\"stroke:#000000;stroke-width:0.8;\" x=\"61.001562\" xlink:href=\"#m86e9d2eb80\" y=\"109.793987\"/>\n      </g>\n     </g>\n     <g id=\"text_328\">\n      <!-- F26 -->\n      <g transform=\"translate(35.525 113.593206)scale(0.1 -0.1)\">\n       <use xlink:href=\"#DejaVuSans-46\"/>\n       <use x=\"57.519531\" xlink:href=\"#DejaVuSans-32\"/>\n       <use x=\"121.142578\" xlink:href=\"#DejaVuSans-36\"/>\n      </g>\n     </g>\n    </g>\n    <g id=\"ytick_321\">\n     <g id=\"line2d_329\">\n      <g>\n       <use style=\"stroke:#000000;stroke-width:0.8;\" x=\"61.001562\" xlink:href=\"#m86e9d2eb80\" y=\"106.669849\"/>\n      </g>\n     </g>\n     <g id=\"text_329\">\n      <!-- F162 -->\n      <g transform=\"translate(29.1625 110.469068)scale(0.1 -0.1)\">\n       <use xlink:href=\"#DejaVuSans-46\"/>\n       <use x=\"57.519531\" xlink:href=\"#DejaVuSans-31\"/>\n       <use x=\"121.142578\" xlink:href=\"#DejaVuSans-36\"/>\n       <use x=\"184.765625\" xlink:href=\"#DejaVuSans-32\"/>\n      </g>\n     </g>\n    </g>\n    <g id=\"ytick_322\">\n     <g id=\"line2d_330\">\n      <g>\n       <use style=\"stroke:#000000;stroke-width:0.8;\" x=\"61.001562\" xlink:href=\"#m86e9d2eb80\" y=\"103.545711\"/>\n      </g>\n     </g>\n     <g id=\"text_330\">\n      <!-- F251 -->\n      <g transform=\"translate(29.1625 107.34493)scale(0.1 -0.1)\">\n       <use xlink:href=\"#DejaVuSans-46\"/>\n       <use x=\"57.519531\" xlink:href=\"#DejaVuSans-32\"/>\n       <use x=\"121.142578\" xlink:href=\"#DejaVuSans-35\"/>\n       <use x=\"184.765625\" xlink:href=\"#DejaVuSans-31\"/>\n      </g>\n     </g>\n    </g>\n    <g id=\"ytick_323\">\n     <g id=\"line2d_331\">\n      <g>\n       <use style=\"stroke:#000000;stroke-width:0.8;\" x=\"61.001562\" xlink:href=\"#m86e9d2eb80\" y=\"100.421573\"/>\n      </g>\n     </g>\n     <g id=\"text_331\">\n      <!-- F231 -->\n      <g transform=\"translate(29.1625 104.220792)scale(0.1 -0.1)\">\n       <use xlink:href=\"#DejaVuSans-46\"/>\n       <use x=\"57.519531\" xlink:href=\"#DejaVuSans-32\"/>\n       <use x=\"121.142578\" xlink:href=\"#DejaVuSans-33\"/>\n       <use x=\"184.765625\" xlink:href=\"#DejaVuSans-31\"/>\n      </g>\n     </g>\n    </g>\n    <g id=\"ytick_324\">\n     <g id=\"line2d_332\">\n      <g>\n       <use style=\"stroke:#000000;stroke-width:0.8;\" x=\"61.001562\" xlink:href=\"#m86e9d2eb80\" y=\"97.297435\"/>\n      </g>\n     </g>\n     <g id=\"text_332\">\n      <!-- STR_F25 -->\n      <g transform=\"translate(11.120312 101.008373)scale(0.1 -0.1)\">\n       <use xlink:href=\"#DejaVuSans-53\"/>\n       <use x=\"63.476562\" xlink:href=\"#DejaVuSans-54\"/>\n       <use x=\"124.560547\" xlink:href=\"#DejaVuSans-52\"/>\n       <use x=\"194.042969\" xlink:href=\"#DejaVuSans-5f\"/>\n       <use x=\"244.042969\" xlink:href=\"#DejaVuSans-46\"/>\n       <use x=\"301.5625\" xlink:href=\"#DejaVuSans-32\"/>\n       <use x=\"365.185547\" xlink:href=\"#DejaVuSans-35\"/>\n      </g>\n     </g>\n    </g>\n    <g id=\"ytick_325\">\n     <g id=\"line2d_333\">\n      <g>\n       <use style=\"stroke:#000000;stroke-width:0.8;\" x=\"61.001562\" xlink:href=\"#m86e9d2eb80\" y=\"94.173297\"/>\n      </g>\n     </g>\n     <g id=\"text_333\">\n      <!-- F160 -->\n      <g transform=\"translate(29.1625 97.972516)scale(0.1 -0.1)\">\n       <use xlink:href=\"#DejaVuSans-46\"/>\n       <use x=\"57.519531\" xlink:href=\"#DejaVuSans-31\"/>\n       <use x=\"121.142578\" xlink:href=\"#DejaVuSans-36\"/>\n       <use x=\"184.765625\" xlink:href=\"#DejaVuSans-30\"/>\n      </g>\n     </g>\n    </g>\n    <g id=\"ytick_326\">\n     <g id=\"line2d_334\">\n      <g>\n       <use style=\"stroke:#000000;stroke-width:0.8;\" x=\"61.001562\" xlink:href=\"#m86e9d2eb80\" y=\"91.049159\"/>\n      </g>\n     </g>\n     <g id=\"text_334\">\n      <!-- F103 -->\n      <g transform=\"translate(29.1625 94.848378)scale(0.1 -0.1)\">\n       <use xlink:href=\"#DejaVuSans-46\"/>\n       <use x=\"57.519531\" xlink:href=\"#DejaVuSans-31\"/>\n       <use x=\"121.142578\" xlink:href=\"#DejaVuSans-30\"/>\n       <use x=\"184.765625\" xlink:href=\"#DejaVuSans-33\"/>\n      </g>\n     </g>\n    </g>\n    <g id=\"ytick_327\">\n     <g id=\"line2d_335\">\n      <g>\n       <use style=\"stroke:#000000;stroke-width:0.8;\" x=\"61.001562\" xlink:href=\"#m86e9d2eb80\" y=\"87.925022\"/>\n      </g>\n     </g>\n     <g id=\"text_335\">\n      <!-- F115 -->\n      <g transform=\"translate(29.1625 91.72424)scale(0.1 -0.1)\">\n       <use xlink:href=\"#DejaVuSans-46\"/>\n       <use x=\"57.519531\" xlink:href=\"#DejaVuSans-31\"/>\n       <use x=\"121.142578\" xlink:href=\"#DejaVuSans-31\"/>\n       <use x=\"184.765625\" xlink:href=\"#DejaVuSans-35\"/>\n      </g>\n     </g>\n    </g>\n    <g id=\"ytick_328\">\n     <g id=\"line2d_336\">\n      <g>\n       <use style=\"stroke:#000000;stroke-width:0.8;\" x=\"61.001562\" xlink:href=\"#m86e9d2eb80\" y=\"84.800884\"/>\n      </g>\n     </g>\n     <g id=\"text_336\">\n      <!-- F255 -->\n      <g transform=\"translate(29.1625 88.600102)scale(0.1 -0.1)\">\n       <use xlink:href=\"#DejaVuSans-46\"/>\n       <use x=\"57.519531\" xlink:href=\"#DejaVuSans-32\"/>\n       <use x=\"121.142578\" xlink:href=\"#DejaVuSans-35\"/>\n       <use x=\"184.765625\" xlink:href=\"#DejaVuSans-35\"/>\n      </g>\n     </g>\n    </g>\n    <g id=\"ytick_329\">\n     <g id=\"line2d_337\">\n      <g>\n       <use style=\"stroke:#000000;stroke-width:0.8;\" x=\"61.001562\" xlink:href=\"#m86e9d2eb80\" y=\"81.676746\"/>\n      </g>\n     </g>\n     <g id=\"text_337\">\n      <!-- F294 -->\n      <g transform=\"translate(29.1625 85.475964)scale(0.1 -0.1)\">\n       <use xlink:href=\"#DejaVuSans-46\"/>\n       <use x=\"57.519531\" xlink:href=\"#DejaVuSans-32\"/>\n       <use x=\"121.142578\" xlink:href=\"#DejaVuSans-39\"/>\n       <use x=\"184.765625\" xlink:href=\"#DejaVuSans-34\"/>\n      </g>\n     </g>\n    </g>\n    <g id=\"ytick_330\">\n     <g id=\"line2d_338\">\n      <g>\n       <use style=\"stroke:#000000;stroke-width:0.8;\" x=\"61.001562\" xlink:href=\"#m86e9d2eb80\" y=\"78.552608\"/>\n      </g>\n     </g>\n     <g id=\"text_338\">\n      <!-- F22 -->\n      <g transform=\"translate(35.525 82.351827)scale(0.1 -0.1)\">\n       <use xlink:href=\"#DejaVuSans-46\"/>\n       <use x=\"57.519531\" xlink:href=\"#DejaVuSans-32\"/>\n       <use x=\"121.142578\" xlink:href=\"#DejaVuSans-32\"/>\n      </g>\n     </g>\n    </g>\n    <g id=\"ytick_331\">\n     <g id=\"line2d_339\">\n      <g>\n       <use style=\"stroke:#000000;stroke-width:0.8;\" x=\"61.001562\" xlink:href=\"#m86e9d2eb80\" y=\"75.42847\"/>\n      </g>\n     </g>\n     <g id=\"text_339\">\n      <!-- F123 -->\n      <g transform=\"translate(29.1625 79.227689)scale(0.1 -0.1)\">\n       <use xlink:href=\"#DejaVuSans-46\"/>\n       <use x=\"57.519531\" xlink:href=\"#DejaVuSans-31\"/>\n       <use x=\"121.142578\" xlink:href=\"#DejaVuSans-32\"/>\n       <use x=\"184.765625\" xlink:href=\"#DejaVuSans-33\"/>\n      </g>\n     </g>\n    </g>\n    <g id=\"ytick_332\">\n     <g id=\"line2d_340\">\n      <g>\n       <use style=\"stroke:#000000;stroke-width:0.8;\" x=\"61.001562\" xlink:href=\"#m86e9d2eb80\" y=\"72.304332\"/>\n      </g>\n     </g>\n     <g id=\"text_340\">\n      <!-- F51 -->\n      <g transform=\"translate(35.525 76.103551)scale(0.1 -0.1)\">\n       <use xlink:href=\"#DejaVuSans-46\"/>\n       <use x=\"57.519531\" xlink:href=\"#DejaVuSans-35\"/>\n       <use x=\"121.142578\" xlink:href=\"#DejaVuSans-31\"/>\n      </g>\n     </g>\n    </g>\n    <g id=\"ytick_333\">\n     <g id=\"line2d_341\">\n      <g>\n       <use style=\"stroke:#000000;stroke-width:0.8;\" x=\"61.001562\" xlink:href=\"#m86e9d2eb80\" y=\"69.180194\"/>\n      </g>\n     </g>\n     <g id=\"text_341\">\n      <!-- F130 -->\n      <g transform=\"translate(29.1625 72.979413)scale(0.1 -0.1)\">\n       <use xlink:href=\"#DejaVuSans-46\"/>\n       <use x=\"57.519531\" xlink:href=\"#DejaVuSans-31\"/>\n       <use x=\"121.142578\" xlink:href=\"#DejaVuSans-33\"/>\n       <use x=\"184.765625\" xlink:href=\"#DejaVuSans-30\"/>\n      </g>\n     </g>\n    </g>\n    <g id=\"ytick_334\">\n     <g id=\"line2d_342\">\n      <g>\n       <use style=\"stroke:#000000;stroke-width:0.8;\" x=\"61.001562\" xlink:href=\"#m86e9d2eb80\" y=\"66.056056\"/>\n      </g>\n     </g>\n     <g id=\"text_342\">\n      <!-- F267 -->\n      <g transform=\"translate(29.1625 69.855275)scale(0.1 -0.1)\">\n       <use xlink:href=\"#DejaVuSans-46\"/>\n       <use x=\"57.519531\" xlink:href=\"#DejaVuSans-32\"/>\n       <use x=\"121.142578\" xlink:href=\"#DejaVuSans-36\"/>\n       <use x=\"184.765625\" xlink:href=\"#DejaVuSans-37\"/>\n      </g>\n     </g>\n    </g>\n    <g id=\"ytick_335\">\n     <g id=\"line2d_343\">\n      <g>\n       <use style=\"stroke:#000000;stroke-width:0.8;\" x=\"61.001562\" xlink:href=\"#m86e9d2eb80\" y=\"62.931918\"/>\n      </g>\n     </g>\n     <g id=\"text_343\">\n      <!-- F54 -->\n      <g transform=\"translate(35.525 66.731137)scale(0.1 -0.1)\">\n       <use xlink:href=\"#DejaVuSans-46\"/>\n       <use x=\"57.519531\" xlink:href=\"#DejaVuSans-35\"/>\n       <use x=\"121.142578\" xlink:href=\"#DejaVuSans-34\"/>\n      </g>\n     </g>\n    </g>\n    <g id=\"ytick_336\">\n     <g id=\"line2d_344\">\n      <g>\n       <use style=\"stroke:#000000;stroke-width:0.8;\" x=\"61.001562\" xlink:href=\"#m86e9d2eb80\" y=\"59.80778\"/>\n      </g>\n     </g>\n     <g id=\"text_344\">\n      <!-- F181 -->\n      <g transform=\"translate(29.1625 63.606999)scale(0.1 -0.1)\">\n       <use xlink:href=\"#DejaVuSans-46\"/>\n       <use x=\"57.519531\" xlink:href=\"#DejaVuSans-31\"/>\n       <use x=\"121.142578\" xlink:href=\"#DejaVuSans-38\"/>\n       <use x=\"184.765625\" xlink:href=\"#DejaVuSans-31\"/>\n      </g>\n     </g>\n    </g>\n    <g id=\"ytick_337\">\n     <g id=\"line2d_345\">\n      <g>\n       <use style=\"stroke:#000000;stroke-width:0.8;\" x=\"61.001562\" xlink:href=\"#m86e9d2eb80\" y=\"56.683642\"/>\n      </g>\n     </g>\n     <g id=\"text_345\">\n      <!-- STR_F29 -->\n      <g transform=\"translate(11.120312 60.39458)scale(0.1 -0.1)\">\n       <use xlink:href=\"#DejaVuSans-53\"/>\n       <use x=\"63.476562\" xlink:href=\"#DejaVuSans-54\"/>\n       <use x=\"124.560547\" xlink:href=\"#DejaVuSans-52\"/>\n       <use x=\"194.042969\" xlink:href=\"#DejaVuSans-5f\"/>\n       <use x=\"244.042969\" xlink:href=\"#DejaVuSans-46\"/>\n       <use x=\"301.5625\" xlink:href=\"#DejaVuSans-32\"/>\n       <use x=\"365.185547\" xlink:href=\"#DejaVuSans-39\"/>\n      </g>\n     </g>\n    </g>\n    <g id=\"ytick_338\">\n     <g id=\"line2d_346\">\n      <g>\n       <use style=\"stroke:#000000;stroke-width:0.8;\" x=\"61.001562\" xlink:href=\"#m86e9d2eb80\" y=\"53.559504\"/>\n      </g>\n     </g>\n     <g id=\"text_346\">\n      <!-- F244 -->\n      <g transform=\"translate(29.1625 57.358723)scale(0.1 -0.1)\">\n       <use xlink:href=\"#DejaVuSans-46\"/>\n       <use x=\"57.519531\" xlink:href=\"#DejaVuSans-32\"/>\n       <use x=\"121.142578\" xlink:href=\"#DejaVuSans-34\"/>\n       <use x=\"184.765625\" xlink:href=\"#DejaVuSans-34\"/>\n      </g>\n     </g>\n    </g>\n    <g id=\"ytick_339\">\n     <g id=\"line2d_347\">\n      <g>\n       <use style=\"stroke:#000000;stroke-width:0.8;\" x=\"61.001562\" xlink:href=\"#m86e9d2eb80\" y=\"50.435366\"/>\n      </g>\n     </g>\n     <g id=\"text_347\">\n      <!-- STR_F28 -->\n      <g transform=\"translate(11.120312 54.146304)scale(0.1 -0.1)\">\n       <use xlink:href=\"#DejaVuSans-53\"/>\n       <use x=\"63.476562\" xlink:href=\"#DejaVuSans-54\"/>\n       <use x=\"124.560547\" xlink:href=\"#DejaVuSans-52\"/>\n       <use x=\"194.042969\" xlink:href=\"#DejaVuSans-5f\"/>\n       <use x=\"244.042969\" xlink:href=\"#DejaVuSans-46\"/>\n       <use x=\"301.5625\" xlink:href=\"#DejaVuSans-32\"/>\n       <use x=\"365.185547\" xlink:href=\"#DejaVuSans-38\"/>\n      </g>\n     </g>\n    </g>\n    <g id=\"ytick_340\">\n     <g id=\"line2d_348\">\n      <g>\n       <use style=\"stroke:#000000;stroke-width:0.8;\" x=\"61.001562\" xlink:href=\"#m86e9d2eb80\" y=\"47.311228\"/>\n      </g>\n     </g>\n     <g id=\"text_348\">\n      <!-- F242 -->\n      <g transform=\"translate(29.1625 51.110447)scale(0.1 -0.1)\">\n       <use xlink:href=\"#DejaVuSans-46\"/>\n       <use x=\"57.519531\" xlink:href=\"#DejaVuSans-32\"/>\n       <use x=\"121.142578\" xlink:href=\"#DejaVuSans-34\"/>\n       <use x=\"184.765625\" xlink:href=\"#DejaVuSans-32\"/>\n      </g>\n     </g>\n    </g>\n    <g id=\"ytick_341\">\n     <g id=\"line2d_349\">\n      <g>\n       <use style=\"stroke:#000000;stroke-width:0.8;\" x=\"61.001562\" xlink:href=\"#m86e9d2eb80\" y=\"44.187091\"/>\n      </g>\n     </g>\n     <g id=\"text_349\">\n      <!-- F292 -->\n      <g transform=\"translate(29.1625 47.986309)scale(0.1 -0.1)\">\n       <use xlink:href=\"#DejaVuSans-46\"/>\n       <use x=\"57.519531\" xlink:href=\"#DejaVuSans-32\"/>\n       <use x=\"121.142578\" xlink:href=\"#DejaVuSans-39\"/>\n       <use x=\"184.765625\" xlink:href=\"#DejaVuSans-32\"/>\n      </g>\n     </g>\n    </g>\n    <g id=\"ytick_342\">\n     <g id=\"line2d_350\">\n      <g>\n       <use style=\"stroke:#000000;stroke-width:0.8;\" x=\"61.001562\" xlink:href=\"#m86e9d2eb80\" y=\"41.062953\"/>\n      </g>\n     </g>\n     <g id=\"text_350\">\n      <!-- F283 -->\n      <g transform=\"translate(29.1625 44.862171)scale(0.1 -0.1)\">\n       <use xlink:href=\"#DejaVuSans-46\"/>\n       <use x=\"57.519531\" xlink:href=\"#DejaVuSans-32\"/>\n       <use x=\"121.142578\" xlink:href=\"#DejaVuSans-38\"/>\n       <use x=\"184.765625\" xlink:href=\"#DejaVuSans-33\"/>\n      </g>\n     </g>\n    </g>\n    <g id=\"ytick_343\">\n     <g id=\"line2d_351\">\n      <g>\n       <use style=\"stroke:#000000;stroke-width:0.8;\" x=\"61.001562\" xlink:href=\"#m86e9d2eb80\" y=\"37.938815\"/>\n      </g>\n     </g>\n     <g id=\"text_351\">\n      <!-- F199 -->\n      <g transform=\"translate(29.1625 41.738033)scale(0.1 -0.1)\">\n       <use xlink:href=\"#DejaVuSans-46\"/>\n       <use x=\"57.519531\" xlink:href=\"#DejaVuSans-31\"/>\n       <use x=\"121.142578\" xlink:href=\"#DejaVuSans-39\"/>\n       <use x=\"184.765625\" xlink:href=\"#DejaVuSans-39\"/>\n      </g>\n     </g>\n    </g>\n    <g id=\"ytick_344\">\n     <g id=\"line2d_352\">\n      <g>\n       <use style=\"stroke:#000000;stroke-width:0.8;\" x=\"61.001562\" xlink:href=\"#m86e9d2eb80\" y=\"34.814677\"/>\n      </g>\n     </g>\n     <g id=\"text_352\">\n      <!-- F235 -->\n      <g transform=\"translate(29.1625 38.613895)scale(0.1 -0.1)\">\n       <use xlink:href=\"#DejaVuSans-46\"/>\n       <use x=\"57.519531\" xlink:href=\"#DejaVuSans-32\"/>\n       <use x=\"121.142578\" xlink:href=\"#DejaVuSans-33\"/>\n       <use x=\"184.765625\" xlink:href=\"#DejaVuSans-35\"/>\n      </g>\n     </g>\n    </g>\n    <g id=\"ytick_345\">\n     <g id=\"line2d_353\">\n      <g>\n       <use style=\"stroke:#000000;stroke-width:0.8;\" x=\"61.001562\" xlink:href=\"#m86e9d2eb80\" y=\"31.690539\"/>\n      </g>\n     </g>\n     <g id=\"text_353\">\n      <!-- F187 -->\n      <g transform=\"translate(29.1625 35.489758)scale(0.1 -0.1)\">\n       <use xlink:href=\"#DejaVuSans-46\"/>\n       <use x=\"57.519531\" xlink:href=\"#DejaVuSans-31\"/>\n       <use x=\"121.142578\" xlink:href=\"#DejaVuSans-38\"/>\n       <use x=\"184.765625\" xlink:href=\"#DejaVuSans-37\"/>\n      </g>\n     </g>\n    </g>\n    <g id=\"ytick_346\">\n     <g id=\"line2d_354\">\n      <g>\n       <use style=\"stroke:#000000;stroke-width:0.8;\" x=\"61.001562\" xlink:href=\"#m86e9d2eb80\" y=\"28.566401\"/>\n      </g>\n     </g>\n     <g id=\"text_354\">\n      <!-- F271 -->\n      <g transform=\"translate(29.1625 32.36562)scale(0.1 -0.1)\">\n       <use xlink:href=\"#DejaVuSans-46\"/>\n       <use x=\"57.519531\" xlink:href=\"#DejaVuSans-32\"/>\n       <use x=\"121.142578\" xlink:href=\"#DejaVuSans-37\"/>\n       <use x=\"184.765625\" xlink:href=\"#DejaVuSans-31\"/>\n      </g>\n     </g>\n    </g>\n    <g id=\"ytick_347\">\n     <g id=\"line2d_355\">\n      <g>\n       <use style=\"stroke:#000000;stroke-width:0.8;\" x=\"61.001562\" xlink:href=\"#m86e9d2eb80\" y=\"25.442263\"/>\n      </g>\n     </g>\n     <g id=\"text_355\">\n      <!-- F172 -->\n      <g transform=\"translate(29.1625 29.241482)scale(0.1 -0.1)\">\n       <use xlink:href=\"#DejaVuSans-46\"/>\n       <use x=\"57.519531\" xlink:href=\"#DejaVuSans-31\"/>\n       <use x=\"121.142578\" xlink:href=\"#DejaVuSans-37\"/>\n       <use x=\"184.765625\" xlink:href=\"#DejaVuSans-32\"/>\n      </g>\n     </g>\n    </g>\n   </g>\n   <g id=\"patch_350\">\n    <path d=\"M 61.001562 1109.518125 \nL 61.001562 22.318125 \n\" style=\"fill:none;stroke:#000000;stroke-linecap:square;stroke-linejoin:miter;stroke-width:0.8;\"/>\n   </g>\n   <g id=\"patch_351\">\n    <path d=\"M 619.001562 1109.518125 \nL 619.001562 22.318125 \n\" style=\"fill:none;stroke:#000000;stroke-linecap:square;stroke-linejoin:miter;stroke-width:0.8;\"/>\n   </g>\n   <g id=\"patch_352\">\n    <path d=\"M 61.001562 1109.518125 \nL 619.001562 1109.518125 \n\" style=\"fill:none;stroke:#000000;stroke-linecap:square;stroke-linejoin:miter;stroke-width:0.8;\"/>\n   </g>\n   <g id=\"patch_353\">\n    <path d=\"M 61.001562 22.318125 \nL 619.001562 22.318125 \n\" style=\"fill:none;stroke:#000000;stroke-linecap:square;stroke-linejoin:miter;stroke-width:0.8;\"/>\n   </g>\n   <g id=\"text_356\">\n    <!-- Feature importances -->\n    <g transform=\"translate(278.020625 16.318125)scale(0.12 -0.12)\">\n     <defs>\n      <path d=\"M 3597 1894 \nL 3597 1613 \nL 953 1613 \nQ 991 1019 1311 708 \nQ 1631 397 2203 397 \nQ 2534 397 2845 478 \nQ 3156 559 3463 722 \nL 3463 178 \nQ 3153 47 2828 -22 \nQ 2503 -91 2169 -91 \nQ 1331 -91 842 396 \nQ 353 884 353 1716 \nQ 353 2575 817 3079 \nQ 1281 3584 2069 3584 \nQ 2775 3584 3186 3129 \nQ 3597 2675 3597 1894 \nz\nM 3022 2063 \nQ 3016 2534 2758 2815 \nQ 2500 3097 2075 3097 \nQ 1594 3097 1305 2825 \nQ 1016 2553 972 2059 \nL 3022 2063 \nz\n\" id=\"DejaVuSans-65\" transform=\"scale(0.015625)\"/>\n      <path d=\"M 2194 1759 \nQ 1497 1759 1228 1600 \nQ 959 1441 959 1056 \nQ 959 750 1161 570 \nQ 1363 391 1709 391 \nQ 2188 391 2477 730 \nQ 2766 1069 2766 1631 \nL 2766 1759 \nL 2194 1759 \nz\nM 3341 1997 \nL 3341 0 \nL 2766 0 \nL 2766 531 \nQ 2569 213 2275 61 \nQ 1981 -91 1556 -91 \nQ 1019 -91 701 211 \nQ 384 513 384 1019 \nQ 384 1609 779 1909 \nQ 1175 2209 1959 2209 \nL 2766 2209 \nL 2766 2266 \nQ 2766 2663 2505 2880 \nQ 2244 3097 1772 3097 \nQ 1472 3097 1187 3025 \nQ 903 2953 641 2809 \nL 641 3341 \nQ 956 3463 1253 3523 \nQ 1550 3584 1831 3584 \nQ 2591 3584 2966 3190 \nQ 3341 2797 3341 1997 \nz\n\" id=\"DejaVuSans-61\" transform=\"scale(0.015625)\"/>\n      <path d=\"M 1172 4494 \nL 1172 3500 \nL 2356 3500 \nL 2356 3053 \nL 1172 3053 \nL 1172 1153 \nQ 1172 725 1289 603 \nQ 1406 481 1766 481 \nL 2356 481 \nL 2356 0 \nL 1766 0 \nQ 1100 0 847 248 \nQ 594 497 594 1153 \nL 594 3053 \nL 172 3053 \nL 172 3500 \nL 594 3500 \nL 594 4494 \nL 1172 4494 \nz\n\" id=\"DejaVuSans-74\" transform=\"scale(0.015625)\"/>\n      <path d=\"M 544 1381 \nL 544 3500 \nL 1119 3500 \nL 1119 1403 \nQ 1119 906 1312 657 \nQ 1506 409 1894 409 \nQ 2359 409 2629 706 \nQ 2900 1003 2900 1516 \nL 2900 3500 \nL 3475 3500 \nL 3475 0 \nL 2900 0 \nL 2900 538 \nQ 2691 219 2414 64 \nQ 2138 -91 1772 -91 \nQ 1169 -91 856 284 \nQ 544 659 544 1381 \nz\nM 1991 3584 \nL 1991 3584 \nz\n\" id=\"DejaVuSans-75\" transform=\"scale(0.015625)\"/>\n      <path d=\"M 2631 2963 \nQ 2534 3019 2420 3045 \nQ 2306 3072 2169 3072 \nQ 1681 3072 1420 2755 \nQ 1159 2438 1159 1844 \nL 1159 0 \nL 581 0 \nL 581 3500 \nL 1159 3500 \nL 1159 2956 \nQ 1341 3275 1631 3429 \nQ 1922 3584 2338 3584 \nQ 2397 3584 2469 3576 \nQ 2541 3569 2628 3553 \nL 2631 2963 \nz\n\" id=\"DejaVuSans-72\" transform=\"scale(0.015625)\"/>\n      <path id=\"DejaVuSans-20\" transform=\"scale(0.015625)\"/>\n      <path d=\"M 603 3500 \nL 1178 3500 \nL 1178 0 \nL 603 0 \nL 603 3500 \nz\nM 603 4863 \nL 1178 4863 \nL 1178 4134 \nL 603 4134 \nL 603 4863 \nz\n\" id=\"DejaVuSans-69\" transform=\"scale(0.015625)\"/>\n      <path d=\"M 3328 2828 \nQ 3544 3216 3844 3400 \nQ 4144 3584 4550 3584 \nQ 5097 3584 5394 3201 \nQ 5691 2819 5691 2113 \nL 5691 0 \nL 5113 0 \nL 5113 2094 \nQ 5113 2597 4934 2840 \nQ 4756 3084 4391 3084 \nQ 3944 3084 3684 2787 \nQ 3425 2491 3425 1978 \nL 3425 0 \nL 2847 0 \nL 2847 2094 \nQ 2847 2600 2669 2842 \nQ 2491 3084 2119 3084 \nQ 1678 3084 1418 2786 \nQ 1159 2488 1159 1978 \nL 1159 0 \nL 581 0 \nL 581 3500 \nL 1159 3500 \nL 1159 2956 \nQ 1356 3278 1631 3431 \nQ 1906 3584 2284 3584 \nQ 2666 3584 2933 3390 \nQ 3200 3197 3328 2828 \nz\n\" id=\"DejaVuSans-6d\" transform=\"scale(0.015625)\"/>\n      <path d=\"M 1159 525 \nL 1159 -1331 \nL 581 -1331 \nL 581 3500 \nL 1159 3500 \nL 1159 2969 \nQ 1341 3281 1617 3432 \nQ 1894 3584 2278 3584 \nQ 2916 3584 3314 3078 \nQ 3713 2572 3713 1747 \nQ 3713 922 3314 415 \nQ 2916 -91 2278 -91 \nQ 1894 -91 1617 61 \nQ 1341 213 1159 525 \nz\nM 3116 1747 \nQ 3116 2381 2855 2742 \nQ 2594 3103 2138 3103 \nQ 1681 3103 1420 2742 \nQ 1159 2381 1159 1747 \nQ 1159 1113 1420 752 \nQ 1681 391 2138 391 \nQ 2594 391 2855 752 \nQ 3116 1113 3116 1747 \nz\n\" id=\"DejaVuSans-70\" transform=\"scale(0.015625)\"/>\n      <path d=\"M 1959 3097 \nQ 1497 3097 1228 2736 \nQ 959 2375 959 1747 \nQ 959 1119 1226 758 \nQ 1494 397 1959 397 \nQ 2419 397 2687 759 \nQ 2956 1122 2956 1747 \nQ 2956 2369 2687 2733 \nQ 2419 3097 1959 3097 \nz\nM 1959 3584 \nQ 2709 3584 3137 3096 \nQ 3566 2609 3566 1747 \nQ 3566 888 3137 398 \nQ 2709 -91 1959 -91 \nQ 1206 -91 779 398 \nQ 353 888 353 1747 \nQ 353 2609 779 3096 \nQ 1206 3584 1959 3584 \nz\n\" id=\"DejaVuSans-6f\" transform=\"scale(0.015625)\"/>\n      <path d=\"M 3513 2113 \nL 3513 0 \nL 2938 0 \nL 2938 2094 \nQ 2938 2591 2744 2837 \nQ 2550 3084 2163 3084 \nQ 1697 3084 1428 2787 \nQ 1159 2491 1159 1978 \nL 1159 0 \nL 581 0 \nL 581 3500 \nL 1159 3500 \nL 1159 2956 \nQ 1366 3272 1645 3428 \nQ 1925 3584 2291 3584 \nQ 2894 3584 3203 3211 \nQ 3513 2838 3513 2113 \nz\n\" id=\"DejaVuSans-6e\" transform=\"scale(0.015625)\"/>\n      <path d=\"M 3122 3366 \nL 3122 2828 \nQ 2878 2963 2633 3030 \nQ 2388 3097 2138 3097 \nQ 1578 3097 1268 2742 \nQ 959 2388 959 1747 \nQ 959 1106 1268 751 \nQ 1578 397 2138 397 \nQ 2388 397 2633 464 \nQ 2878 531 3122 666 \nL 3122 134 \nQ 2881 22 2623 -34 \nQ 2366 -91 2075 -91 \nQ 1284 -91 818 406 \nQ 353 903 353 1747 \nQ 353 2603 823 3093 \nQ 1294 3584 2113 3584 \nQ 2378 3584 2631 3529 \nQ 2884 3475 3122 3366 \nz\n\" id=\"DejaVuSans-63\" transform=\"scale(0.015625)\"/>\n      <path d=\"M 2834 3397 \nL 2834 2853 \nQ 2591 2978 2328 3040 \nQ 2066 3103 1784 3103 \nQ 1356 3103 1142 2972 \nQ 928 2841 928 2578 \nQ 928 2378 1081 2264 \nQ 1234 2150 1697 2047 \nL 1894 2003 \nQ 2506 1872 2764 1633 \nQ 3022 1394 3022 966 \nQ 3022 478 2636 193 \nQ 2250 -91 1575 -91 \nQ 1294 -91 989 -36 \nQ 684 19 347 128 \nL 347 722 \nQ 666 556 975 473 \nQ 1284 391 1588 391 \nQ 1994 391 2212 530 \nQ 2431 669 2431 922 \nQ 2431 1156 2273 1281 \nQ 2116 1406 1581 1522 \nL 1381 1569 \nQ 847 1681 609 1914 \nQ 372 2147 372 2553 \nQ 372 3047 722 3315 \nQ 1072 3584 1716 3584 \nQ 2034 3584 2315 3537 \nQ 2597 3491 2834 3397 \nz\n\" id=\"DejaVuSans-73\" transform=\"scale(0.015625)\"/>\n     </defs>\n     <use xlink:href=\"#DejaVuSans-46\"/>\n     <use x=\"52.019531\" xlink:href=\"#DejaVuSans-65\"/>\n     <use x=\"113.542969\" xlink:href=\"#DejaVuSans-61\"/>\n     <use x=\"174.822266\" xlink:href=\"#DejaVuSans-74\"/>\n     <use x=\"214.03125\" xlink:href=\"#DejaVuSans-75\"/>\n     <use x=\"277.410156\" xlink:href=\"#DejaVuSans-72\"/>\n     <use x=\"316.273438\" xlink:href=\"#DejaVuSans-65\"/>\n     <use x=\"377.796875\" xlink:href=\"#DejaVuSans-20\"/>\n     <use x=\"409.583984\" xlink:href=\"#DejaVuSans-69\"/>\n     <use x=\"437.367188\" xlink:href=\"#DejaVuSans-6d\"/>\n     <use x=\"534.779297\" xlink:href=\"#DejaVuSans-70\"/>\n     <use x=\"598.255859\" xlink:href=\"#DejaVuSans-6f\"/>\n     <use x=\"659.4375\" xlink:href=\"#DejaVuSans-72\"/>\n     <use x=\"700.550781\" xlink:href=\"#DejaVuSans-74\"/>\n     <use x=\"739.759766\" xlink:href=\"#DejaVuSans-61\"/>\n     <use x=\"801.039062\" xlink:href=\"#DejaVuSans-6e\"/>\n     <use x=\"864.417969\" xlink:href=\"#DejaVuSans-63\"/>\n     <use x=\"919.398438\" xlink:href=\"#DejaVuSans-65\"/>\n     <use x=\"980.921875\" xlink:href=\"#DejaVuSans-73\"/>\n    </g>\n   </g>\n  </g>\n </g>\n <defs>\n  <clipPath id=\"p3b29e8a878\">\n   <rect height=\"1087.2\" width=\"558\" x=\"61.001562\" y=\"22.318125\"/>\n  </clipPath>\n </defs>\n</svg>\n",
            "image/png": "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\n"
          },
          "metadata": {
            "needs_background": "light"
          }
        }
      ]
    },
    {
      "cell_type": "code",
      "metadata": {
        "id": "g6tZp_nb6ExF"
      },
      "source": [
        "selected_features = feature_importance > 0.001"
      ],
      "execution_count": 49,
      "outputs": []
    },
    {
      "cell_type": "code",
      "metadata": {
        "id": "RNFyY0QG63j4",
        "colab": {
          "base_uri": "https://localhost:8080/"
        },
        "outputId": "a9de31f3-448e-4c42-fec6-47bf4b8116b8"
      },
      "source": [
        "X = X.T[selected_features].T\n",
        "print(X.shape)\n",
        "print(X.columns)"
      ],
      "execution_count": 50,
      "outputs": [
        {
          "output_type": "stream",
          "name": "stdout",
          "text": [
            "(2000, 224)\nIndex(['GRM_F33', 'GRM_F35', 'GRM_F40', 'GRM_F41', 'F0', 'F2', 'F3', 'F5',\n       'F6', 'F7',\n       ...\n       'SYN_F20', 'TD_F1', 'TD_F2', 'TD_F3', 'TD_F4', 'WD_F9', 'WD_F10',\n       'WD_F14', 'WD_F15', 'WD_F50'],\n      dtype='object', length=224)\n"
          ]
        }
      ]
    },
    {
      "cell_type": "markdown",
      "metadata": {
        "id": "S_pJyXr5teD8"
      },
      "source": [
        "## Classification"
      ]
    },
    {
      "cell_type": "markdown",
      "metadata": {
        "id": "HqoXmIoJree8"
      },
      "source": [
        "### We decide to use SVM as our final model due to better performance and less variation."
      ]
    },
    {
      "cell_type": "code",
      "metadata": {
        "id": "1Z6fhzXeteD9",
        "colab": {
          "base_uri": "https://localhost:8080/"
        },
        "outputId": "e3258b60-f067-44ec-e84a-7eaed7a18c47"
      },
      "source": [
        "classifier = Classifier('Random Forest', n_estimator=300, max_depth=10)\n",
        "classifier.train(X, y, n_folds=10)"
      ],
      "execution_count": 51,
      "outputs": [
        {
          "output_type": "stream",
          "name": "stdout",
          "text": [
            "| index     |    Fold1 |    Fold2 |    Fold3 |    Fold4 |    Fold5 |    Fold6 |    Fold7 |    Fold8 |    Fold9 |   Fold10 |     mean |\n|:----------|---------:|---------:|---------:|---------:|---------:|---------:|---------:|---------:|---------:|---------:|---------:|\n| precision | 0.652174 | 0.663366 | 0.557692 | 0.530612 | 0.633333 | 0.628866 | 0.602041 | 0.550459 | 0.591398 | 0.686047 | 0.609599 |\n| recall    | 0.594059 | 0.676768 | 0.563107 | 0.611765 | 0.553398 | 0.54955  | 0.621053 | 0.638298 | 0.632184 | 0.526786 | 0.596697 |\n| f1        | 0.621762 | 0.67     | 0.560386 | 0.568306 | 0.590674 | 0.586538 | 0.611399 | 0.591133 | 0.611111 | 0.59596  | 0.600727 |\n| accuracy  | 0.635    | 0.67     | 0.545    | 0.605    | 0.605    | 0.57     | 0.625    | 0.585    | 0.65     | 0.6      | 0.609    |\n"
          ]
        }
      ]
    },
    {
      "cell_type": "code",
      "metadata": {
        "id": "oC4fC4NuteD9",
        "colab": {
          "base_uri": "https://localhost:8080/"
        },
        "outputId": "517dc81f-6cdc-4e94-9047-aa03a36a9a54"
      },
      "source": [
        "classifier = Classifier('SVM' , kernel='rbf', gamma='scale')\n",
        "classifier.train(X, y, n_folds=10)"
      ],
      "execution_count": 52,
      "outputs": [
        {
          "output_type": "stream",
          "name": "stdout",
          "text": [
            "| index     |    Fold1 |    Fold2 |    Fold3 |    Fold4 |    Fold5 |    Fold6 |    Fold7 |    Fold8 |    Fold9 |   Fold10 |     mean |\n|:----------|---------:|---------:|---------:|---------:|---------:|---------:|---------:|---------:|---------:|---------:|---------:|\n| precision | 0.604396 | 0.630435 | 0.622449 | 0.494505 | 0.623762 | 0.666667 | 0.548387 | 0.581818 | 0.584906 | 0.67033  | 0.602765 |\n| recall    | 0.544554 | 0.585859 | 0.592233 | 0.529412 | 0.61165  | 0.576577 | 0.536842 | 0.680851 | 0.712644 | 0.544643 | 0.591526 |\n| f1        | 0.572917 | 0.60733  | 0.606965 | 0.511364 | 0.617647 | 0.618357 | 0.542553 | 0.627451 | 0.642487 | 0.600985 | 0.594806 |\n| accuracy  | 0.59     | 0.625    | 0.605    | 0.57     | 0.61     | 0.605    | 0.57     | 0.62     | 0.655    | 0.595    | 0.6045   |\n"
          ]
        }
      ]
    },
    {
      "cell_type": "code",
      "metadata": {
        "id": "Mrj6pdksteD9",
        "colab": {
          "base_uri": "https://localhost:8080/"
        },
        "outputId": "7f7a5120-3956-40df-dcec-e7c13f4e1605"
      },
      "source": [
        "classifier = Classifier('MLP', max_iter=1200 , hidden_layer_sizes=(32,4,), activation='relu', solver='adam')\n",
        "classifier.train(X, y, n_folds=10)"
      ],
      "execution_count": 53,
      "outputs": [
        {
          "output_type": "stream",
          "name": "stdout",
          "text": [
            "| index     |    Fold1 |    Fold2 |    Fold3 |    Fold4 |    Fold5 |    Fold6 |    Fold7 |    Fold8 |    Fold9 |   Fold10 |     mean |\n|:----------|---------:|---------:|---------:|---------:|---------:|---------:|---------:|---------:|---------:|---------:|---------:|\n| precision | 0.625    | 0.587629 | 0.553571 | 0.470588 | 0.610526 | 0.676768 | 0.546392 | 0.557522 | 0.559633 | 0.632653 | 0.582028 |\n| recall    | 0.594059 | 0.575758 | 0.601942 | 0.564706 | 0.563107 | 0.603604 | 0.557895 | 0.670213 | 0.701149 | 0.553571 | 0.5986   |\n| f1        | 0.609137 | 0.581633 | 0.576744 | 0.513369 | 0.585859 | 0.638095 | 0.552083 | 0.608696 | 0.622449 | 0.590476 | 0.587854 |\n| accuracy  | 0.615    | 0.59     | 0.545    | 0.545    | 0.59     | 0.62     | 0.57     | 0.595    | 0.63     | 0.57     | 0.587    |\n"
          ]
        }
      ]
>>>>>>> 0c51efe30d73d679b186eb47c6d84380d3c56426
    },
    "id": "hjBEjfOcteD3",
    "outputId": "1f601e44-7406-4776-d1ee-3dfda355ed6f"
   },
   "outputs": [
    {
<<<<<<< HEAD
     "name": "stdout",
     "output_type": "stream",
     "text": [
      "Mounted at /content/drive\n"
     ]
    }
   ],
   "source": [
    "from google.colab import drive\n",
    "drive.mount('/content/drive')\n",
    "%cd drive/MyDrive"
   ]
  },
  {
   "cell_type": "markdown",
   "metadata": {
    "id": "4nbo9p52teD4"
   },
   "source": [
    "### Clone Project from Github"
   ]
  },
  {
   "cell_type": "code",
   "execution_count": 1,
   "metadata": {
    "colab": {
     "base_uri": "https://localhost:8080/"
=======
      "cell_type": "code",
      "metadata": {
        "id": "A4VvPcPpteD-",
        "colab": {
          "base_uri": "https://localhost:8080/"
        },
        "outputId": "aaa3e23b-c76c-40ef-b359-e237324fdb42"
      },
      "source": [
        "classifier = Classifier('Naive Bayes')\n",
        "classifier.train(X, y, n_folds=10)"
      ],
      "execution_count": 54,
      "outputs": [
        {
          "output_type": "stream",
          "name": "stdout",
          "text": [
            "| index     |    Fold1 |    Fold2 |    Fold3 |    Fold4 |    Fold5 |    Fold6 |    Fold7 |    Fold8 |    Fold9 |   Fold10 |     mean |\n|:----------|---------:|---------:|---------:|---------:|---------:|---------:|---------:|---------:|---------:|---------:|---------:|\n| precision | 0.596774 | 0.603774 | 0.534884 | 0.404762 | 0.629032 | 0.692308 | 0.557692 | 0.583333 | 0.433962 | 0.653061 | 0.568958 |\n| recall    | 0.366337 | 0.323232 | 0.223301 | 0.2      | 0.378641 | 0.324324 | 0.305263 | 0.37234  | 0.264368 | 0.285714 | 0.304352 |\n| f1        | 0.453988 | 0.421053 | 0.315068 | 0.267717 | 0.472727 | 0.441718 | 0.394558 | 0.454545 | 0.328571 | 0.397516 | 0.394746 |\n| accuracy  | 0.555    | 0.56     | 0.5      | 0.535    | 0.565    | 0.545    | 0.555    | 0.58     | 0.53     | 0.515    | 0.544    |\n"
          ]
        }
      ]
>>>>>>> 0c51efe30d73d679b186eb47c6d84380d3c56426
    },
    "id": "mxsnvI1ZteD4",
    "outputId": "5a5ab475-b6eb-4c71-90b1-8b8aad06e5bc"
   },
   "outputs": [
    {
<<<<<<< HEAD
     "name": "stdout",
     "output_type": "stream",
     "text": [
      "Cloning into 'Persian-Gender-Recognition'...\n",
      "remote: Enumerating objects: 2180, done.\u001b[K\n",
      "remote: Counting objects: 100% (2180/2180), done.\u001b[K\n",
      "remote: Compressing objects: 100% (2098/2098), done.\u001b[K\n",
      "remote: Total 2180 (delta 110), reused 2115 (delta 55), pack-reused 0\u001b[K\n",
      "Receiving objects: 100% (2180/2180), 30.24 MiB | 20.88 MiB/s, done.\n",
      "Resolving deltas: 100% (110/110), done.\n"
     ]
    }
   ],
   "source": [
    "!git clone 'https://github.com/mirzanahal/Persian-Gender-Recognition'"
   ]
  },
  {
   "cell_type": "markdown",
   "metadata": {
    "id": "6AQPq2m7teD4"
   },
   "source": [
    "### Install Requirement"
   ]
  },
  {
   "cell_type": "code",
   "execution_count": 2,
   "metadata": {
    "colab": {
     "base_uri": "https://localhost:8080/",
     "height": 1000
=======
      "cell_type": "code",
      "metadata": {
        "id": "J5yNjy1zteD-",
        "colab": {
          "base_uri": "https://localhost:8080/"
        },
        "outputId": "960ba967-3547-451e-9269-7473e518072b"
      },
      "source": [
        "classifier = Classifier('Ada Boost', n_estimators= 120, learning_rate= 0.5)\n",
        "classifier.train(X, y, n_folds=10)"
      ],
      "execution_count": 55,
      "outputs": [
        {
          "output_type": "stream",
          "name": "stdout",
          "text": [
            "| index     |    Fold1 |    Fold2 |    Fold3 |    Fold4 |    Fold5 |    Fold6 |    Fold7 |    Fold8 |    Fold9 |   Fold10 |     mean |\n|:----------|---------:|---------:|---------:|---------:|---------:|---------:|---------:|---------:|---------:|---------:|---------:|\n| precision | 0.639535 | 0.614583 | 0.582524 | 0.574713 | 0.659794 | 0.650943 | 0.585859 | 0.613861 | 0.537736 | 0.698925 | 0.615847 |\n| recall    | 0.544554 | 0.59596  | 0.582524 | 0.588235 | 0.621359 | 0.621622 | 0.610526 | 0.659574 | 0.655172 | 0.580357 | 0.605988 |\n| f1        | 0.588235 | 0.605128 | 0.582524 | 0.581395 | 0.64     | 0.635945 | 0.597938 | 0.635897 | 0.590674 | 0.634146 | 0.609188 |\n| accuracy  | 0.615    | 0.615    | 0.57     | 0.64     | 0.64     | 0.605    | 0.61     | 0.645    | 0.605    | 0.625    | 0.617    |\n"
          ]
        }
      ]
>>>>>>> 0c51efe30d73d679b186eb47c6d84380d3c56426
    },
    "id": "fstL7IN1teD4",
    "outputId": "ef30d0c0-a94f-4b16-f396-8a61800d3cab"
   },
   "outputs": [
    {
<<<<<<< HEAD
     "name": "stdout",
     "output_type": "stream",
     "text": [
      "Collecting appnope==0.1.2\n",
      "  Downloading https://files.pythonhosted.org/packages/e4/fa/0c6c9786aa6927d12d100d322588e125e6ed466ab0a3d2d509ea18aeb56d/appnope-0.1.2-py2.py3-none-any.whl\n",
      "Requirement already satisfied: backcall==0.2.0 in /usr/local/lib/python3.7/dist-packages (from -r Persian-Gender-Recognition/requirement.txt (line 2)) (0.2.0)\n",
      "Requirement already satisfied: certifi==2020.12.5 in /usr/local/lib/python3.7/dist-packages (from -r Persian-Gender-Recognition/requirement.txt (line 3)) (2020.12.5)\n",
      "Collecting chardet==4.0.0\n",
      "\u001b[?25l  Downloading https://files.pythonhosted.org/packages/19/c7/fa589626997dd07bd87d9269342ccb74b1720384a4d739a1872bd84fbe68/chardet-4.0.0-py2.py3-none-any.whl (178kB)\n",
      "\r",
      "\u001b[K     |█▉                              | 10kB 21.4MB/s eta 0:00:01\r",
      "\u001b[K     |███▋                            | 20kB 27.0MB/s eta 0:00:01\r",
      "\u001b[K     |█████▌                          | 30kB 20.6MB/s eta 0:00:01\r",
      "\u001b[K     |███████▎                        | 40kB 18.7MB/s eta 0:00:01\r",
      "\u001b[K     |█████████▏                      | 51kB 20.1MB/s eta 0:00:01\r",
      "\u001b[K     |███████████                     | 61kB 15.5MB/s eta 0:00:01\r",
      "\u001b[K     |████████████▉                   | 71kB 15.7MB/s eta 0:00:01\r",
      "\u001b[K     |██████████████▋                 | 81kB 14.7MB/s eta 0:00:01\r",
      "\u001b[K     |████████████████▌               | 92kB 15.9MB/s eta 0:00:01\r",
      "\u001b[K     |██████████████████▎             | 102kB 13.4MB/s eta 0:00:01\r",
      "\u001b[K     |████████████████████▏           | 112kB 13.4MB/s eta 0:00:01\r",
      "\u001b[K     |██████████████████████          | 122kB 13.4MB/s eta 0:00:01\r",
      "\u001b[K     |███████████████████████▉        | 133kB 13.4MB/s eta 0:00:01\r",
      "\u001b[K     |█████████████████████████▋      | 143kB 13.4MB/s eta 0:00:01\r",
      "\u001b[K     |███████████████████████████▌    | 153kB 13.4MB/s eta 0:00:01\r",
      "\u001b[K     |█████████████████████████████▎  | 163kB 13.4MB/s eta 0:00:01\r",
      "\u001b[K     |███████████████████████████████▏| 174kB 13.4MB/s eta 0:00:01\r",
      "\u001b[K     |████████████████████████████████| 184kB 13.4MB/s \n",
      "\u001b[?25hRequirement already satisfied: cycler==0.10.0 in /usr/local/lib/python3.7/dist-packages (from -r Persian-Gender-Recognition/requirement.txt (line 5)) (0.10.0)\n",
      "Requirement already satisfied: decorator==4.4.2 in /usr/local/lib/python3.7/dist-packages (from -r Persian-Gender-Recognition/requirement.txt (line 6)) (4.4.2)\n",
      "Collecting fasttext==0.9.2\n",
      "\u001b[?25l  Downloading https://files.pythonhosted.org/packages/f8/85/e2b368ab6d3528827b147fdb814f8189acc981a4bc2f99ab894650e05c40/fasttext-0.9.2.tar.gz (68kB)\n",
      "\u001b[K     |████████████████████████████████| 71kB 6.8MB/s \n",
      "\u001b[?25hCollecting hazm==0.7.0\n",
      "\u001b[?25l  Downloading https://files.pythonhosted.org/packages/22/13/5a7074bc11d20dbbb46239349ac3f85f7edc148b4cf68e9b8c2f8263830c/hazm-0.7.0-py3-none-any.whl (316kB)\n",
      "\u001b[K     |████████████████████████████████| 317kB 51.0MB/s \n",
      "\u001b[?25hRequirement already satisfied: idna==2.10 in /usr/local/lib/python3.7/dist-packages (from -r Persian-Gender-Recognition/requirement.txt (line 9)) (2.10)\n",
      "Collecting ipykernel==5.5.0\n",
      "\u001b[?25l  Downloading https://files.pythonhosted.org/packages/56/95/3a670c8b2c2370bd8631c313f42e60983b3113ffec4035940592252bd6d5/ipykernel-5.5.0-py3-none-any.whl (120kB)\n",
      "\u001b[K     |████████████████████████████████| 122kB 43.8MB/s \n",
      "\u001b[?25hCollecting ipython==7.21.0\n",
      "\u001b[?25l  Downloading https://files.pythonhosted.org/packages/3b/43/6dbd0610550708fc418ad027fda97b5f415da9053749641654fdacfec93f/ipython-7.21.0-py3-none-any.whl (784kB)\n",
      "\u001b[K     |████████████████████████████████| 788kB 53.2MB/s \n",
      "\u001b[?25hRequirement already satisfied: ipython-genutils==0.2.0 in /usr/local/lib/python3.7/dist-packages (from -r Persian-Gender-Recognition/requirement.txt (line 12)) (0.2.0)\n",
      "Requirement already satisfied: jedi==0.18.0 in /usr/local/lib/python3.7/dist-packages (from -r Persian-Gender-Recognition/requirement.txt (line 13)) (0.18.0)\n",
      "Requirement already satisfied: joblib==1.0.1 in /usr/local/lib/python3.7/dist-packages (from -r Persian-Gender-Recognition/requirement.txt (line 14)) (1.0.1)\n",
      "Collecting jupyter-client==6.1.12\n",
      "\u001b[?25l  Downloading https://files.pythonhosted.org/packages/77/e8/c3cf72a32a697256608d5fa96360c431adec6e1c6709ba7f13f99ff5ee04/jupyter_client-6.1.12-py3-none-any.whl (112kB)\n",
      "\u001b[K     |████████████████████████████████| 122kB 46.8MB/s \n",
      "\u001b[?25hRequirement already satisfied: jupyter-core==4.7.1 in /usr/local/lib/python3.7/dist-packages (from -r Persian-Gender-Recognition/requirement.txt (line 16)) (4.7.1)\n",
      "Requirement already satisfied: kiwisolver==1.3.1 in /usr/local/lib/python3.7/dist-packages (from -r Persian-Gender-Recognition/requirement.txt (line 17)) (1.3.1)\n",
      "Collecting libwapiti==0.2.1\n",
      "\u001b[?25l  Downloading https://files.pythonhosted.org/packages/bc/0f/1c9b49bb49821b5856a64ea6fac8d96a619b9f291d1f06999ea98a32c89c/libwapiti-0.2.1.tar.gz (233kB)\n",
      "\u001b[K     |████████████████████████████████| 235kB 46.8MB/s \n",
      "\u001b[?25hCollecting matplotlib==3.4.0\n",
      "\u001b[?25l  Downloading https://files.pythonhosted.org/packages/83/ee/8d7e0149ecf95fae7e744c5a93f51a8c9f7a96c63691d10aed6d2c1d8735/matplotlib-3.4.0-cp37-cp37m-manylinux1_x86_64.whl (10.3MB)\n",
      "\u001b[K     |████████████████████████████████| 10.3MB 45.6MB/s \n",
      "\u001b[?25hCollecting nltk==3.3\n",
      "\u001b[?25l  Downloading https://files.pythonhosted.org/packages/50/09/3b1755d528ad9156ee7243d52aa5cd2b809ef053a0f31b53d92853dd653a/nltk-3.3.0.zip (1.4MB)\n",
      "\u001b[K     |████████████████████████████████| 1.4MB 52.0MB/s \n",
      "\u001b[?25hCollecting numpy==1.20.2\n",
      "\u001b[?25l  Downloading https://files.pythonhosted.org/packages/73/ef/8967d406f3f85018ceb5efab50431e901683188f1741ceb053efcab26c87/numpy-1.20.2-cp37-cp37m-manylinux2010_x86_64.whl (15.3MB)\n",
      "\u001b[K     |████████████████████████████████| 15.3MB 250kB/s \n",
      "\u001b[?25hCollecting pandas==1.2.3\n",
      "\u001b[?25l  Downloading https://files.pythonhosted.org/packages/f3/d4/3fe3b5bf9886912b64ef040040aec356fa48825e5a829a84c2667afdf952/pandas-1.2.3-cp37-cp37m-manylinux1_x86_64.whl (9.9MB)\n",
      "\u001b[K     |████████████████████████████████| 9.9MB 202kB/s \n",
      "\u001b[?25hRequirement already satisfied: parso==0.8.1 in /usr/local/lib/python3.7/dist-packages (from -r Persian-Gender-Recognition/requirement.txt (line 23)) (0.8.1)\n",
      "Requirement already satisfied: pexpect==4.8.0 in /usr/local/lib/python3.7/dist-packages (from -r Persian-Gender-Recognition/requirement.txt (line 24)) (4.8.0)\n",
      "Requirement already satisfied: pickleshare==0.7.5 in /usr/local/lib/python3.7/dist-packages (from -r Persian-Gender-Recognition/requirement.txt (line 25)) (0.7.5)\n",
      "Collecting Pillow==8.1.2\n",
      "\u001b[?25l  Downloading https://files.pythonhosted.org/packages/1f/6d/b719ae8e21660a6a962636896dc4b7d657ef451a3ab941516401846ac5cb/Pillow-8.1.2-cp37-cp37m-manylinux1_x86_64.whl (2.2MB)\n",
      "\u001b[K     |████████████████████████████████| 2.2MB 40.0MB/s \n",
      "\u001b[?25hCollecting prompt-toolkit==3.0.18\n",
      "\u001b[?25l  Downloading https://files.pythonhosted.org/packages/eb/e6/4b4ca4fa94462d4560ba2f4e62e62108ab07be2e16a92e594e43b12d3300/prompt_toolkit-3.0.18-py3-none-any.whl (367kB)\n",
      "\u001b[K     |████████████████████████████████| 368kB 38.5MB/s \n",
      "\u001b[?25hRequirement already satisfied: ptyprocess==0.7.0 in /usr/local/lib/python3.7/dist-packages (from -r Persian-Gender-Recognition/requirement.txt (line 28)) (0.7.0)\n",
      "Requirement already satisfied: pybind11==2.6.2 in /usr/local/lib/python3.7/dist-packages (from -r Persian-Gender-Recognition/requirement.txt (line 29)) (2.6.2)\n",
      "Collecting Pygments==2.8.1\n",
      "\u001b[?25l  Downloading https://files.pythonhosted.org/packages/3a/80/a52c0a7c5939737c6dca75a831e89658ecb6f590fb7752ac777d221937b9/Pygments-2.8.1-py3-none-any.whl (983kB)\n",
      "\u001b[K     |████████████████████████████████| 993kB 41.0MB/s \n",
      "\u001b[?25hRequirement already satisfied: pyparsing==2.4.7 in /usr/local/lib/python3.7/dist-packages (from -r Persian-Gender-Recognition/requirement.txt (line 31)) (2.4.7)\n",
      "Requirement already satisfied: python-dateutil==2.8.1 in /usr/local/lib/python3.7/dist-packages (from -r Persian-Gender-Recognition/requirement.txt (line 32)) (2.8.1)\n",
      "Collecting pytz==2021.1\n",
      "\u001b[?25l  Downloading https://files.pythonhosted.org/packages/70/94/784178ca5dd892a98f113cdd923372024dc04b8d40abe77ca76b5fb90ca6/pytz-2021.1-py2.py3-none-any.whl (510kB)\n",
      "\u001b[K     |████████████████████████████████| 512kB 43.2MB/s \n",
      "\u001b[?25hRequirement already satisfied: pyzmq==22.0.3 in /usr/local/lib/python3.7/dist-packages (from -r Persian-Gender-Recognition/requirement.txt (line 34)) (22.0.3)\n",
      "Collecting requests==2.25.1\n",
      "\u001b[?25l  Downloading https://files.pythonhosted.org/packages/29/c1/24814557f1d22c56d50280771a17307e6bf87b70727d975fd6b2ce6b014a/requests-2.25.1-py2.py3-none-any.whl (61kB)\n",
      "\u001b[K     |████████████████████████████████| 61kB 8.1MB/s \n",
      "\u001b[?25hCollecting scikit-learn==0.24.1\n",
      "\u001b[?25l  Downloading https://files.pythonhosted.org/packages/f3/74/eb899f41d55f957e2591cde5528e75871f817d9fb46d4732423ecaca736d/scikit_learn-0.24.1-cp37-cp37m-manylinux2010_x86_64.whl (22.3MB)\n",
      "\u001b[K     |████████████████████████████████| 22.3MB 1.4MB/s \n",
      "\u001b[?25hCollecting scipy==1.6.2\n",
      "\u001b[?25l  Downloading https://files.pythonhosted.org/packages/75/91/ee427c42957f8c4cbe477bf4f8b7f608e003a17941e509d1777e58648cb3/scipy-1.6.2-cp37-cp37m-manylinux1_x86_64.whl (27.4MB)\n",
      "\u001b[K     |████████████████████████████████| 27.4MB 163kB/s \n",
      "\u001b[?25hRequirement already satisfied: six==1.15.0 in /usr/local/lib/python3.7/dist-packages (from -r Persian-Gender-Recognition/requirement.txt (line 38)) (1.15.0)\n",
      "Requirement already satisfied: sklearn==0.0 in /usr/local/lib/python3.7/dist-packages (from -r Persian-Gender-Recognition/requirement.txt (line 39)) (0.0)\n",
      "Requirement already satisfied: tabulate==0.8.9 in /usr/local/lib/python3.7/dist-packages (from -r Persian-Gender-Recognition/requirement.txt (line 40)) (0.8.9)\n",
      "Collecting threadpoolctl==2.1.0\n",
      "  Downloading https://files.pythonhosted.org/packages/f7/12/ec3f2e203afa394a149911729357aa48affc59c20e2c1c8297a60f33f133/threadpoolctl-2.1.0-py3-none-any.whl\n",
      "Collecting tornado==6.1\n",
      "\u001b[?25l  Downloading https://files.pythonhosted.org/packages/91/a8/9c5902233fa3c2e6a889cbd164333ddda5009669f494e3fadbeee2c03af5/tornado-6.1-cp37-cp37m-manylinux2010_x86_64.whl (428kB)\n",
      "\u001b[K     |████████████████████████████████| 430kB 39.4MB/s \n",
      "\u001b[?25hCollecting tqdm==4.59.0\n",
      "\u001b[?25l  Downloading https://files.pythonhosted.org/packages/f8/3e/2730d0effc282960dbff3cf91599ad0d8f3faedc8e75720fdf224b31ab24/tqdm-4.59.0-py2.py3-none-any.whl (74kB)\n",
      "\u001b[K     |████████████████████████████████| 81kB 9.9MB/s \n",
      "\u001b[?25hRequirement already satisfied: traitlets==5.0.5 in /usr/local/lib/python3.7/dist-packages (from -r Persian-Gender-Recognition/requirement.txt (line 44)) (5.0.5)\n",
      "Collecting urllib3==1.26.4\n",
      "\u001b[?25l  Downloading https://files.pythonhosted.org/packages/09/c6/d3e3abe5b4f4f16cf0dfc9240ab7ce10c2baa0e268989a4e3ec19e90c84e/urllib3-1.26.4-py2.py3-none-any.whl (153kB)\n",
      "\u001b[K     |████████████████████████████████| 153kB 40.8MB/s \n",
      "\u001b[?25hRequirement already satisfied: wcwidth==0.2.5 in /usr/local/lib/python3.7/dist-packages (from -r Persian-Gender-Recognition/requirement.txt (line 46)) (0.2.5)\n",
      "Requirement already satisfied: setuptools>=0.7.0 in /usr/local/lib/python3.7/dist-packages (from fasttext==0.9.2->-r Persian-Gender-Recognition/requirement.txt (line 7)) (54.2.0)\n",
      "Building wheels for collected packages: fasttext, libwapiti, nltk\n",
      "  Building wheel for fasttext (setup.py) ... \u001b[?25l\u001b[?25hdone\n",
      "  Created wheel for fasttext: filename=fasttext-0.9.2-cp37-cp37m-linux_x86_64.whl size=3096339 sha256=8d0bed51ca4b03bad447ecf2ee57b7a040675c0d2d2c63a61791d4678d02fdbe\n",
      "  Stored in directory: /root/.cache/pip/wheels/98/ba/7f/b154944a1cf5a8cee91c154b75231136cc3a3321ab0e30f592\n",
      "  Building wheel for libwapiti (setup.py) ... \u001b[?25l\u001b[?25hdone\n",
      "  Created wheel for libwapiti: filename=libwapiti-0.2.1-cp37-cp37m-linux_x86_64.whl size=154236 sha256=a035c745d5cbe547d7e5a9e724d08975e52c635a064a9f545b1ec011f5726fe4\n",
      "  Stored in directory: /root/.cache/pip/wheels/66/15/54/4510dce8bb958b1cdd2c47425cbd1e1eecc0480ac9bb1fb9ab\n",
      "  Building wheel for nltk (setup.py) ... \u001b[?25l\u001b[?25hdone\n",
      "  Created wheel for nltk: filename=nltk-3.3-cp37-none-any.whl size=1394468 sha256=90d2f0bca78602ab646a6fbf7ee538fb1ab2592ce0d281275cf397525db7cdd1\n",
      "  Stored in directory: /root/.cache/pip/wheels/d1/ab/40/3bceea46922767e42986aef7606a600538ca80de6062dc266c\n",
      "Successfully built fasttext libwapiti nltk\n",
      "\u001b[31mERROR: tensorflow 2.4.1 has requirement numpy~=1.19.2, but you'll have numpy 1.20.2 which is incompatible.\u001b[0m\n",
      "\u001b[31mERROR: jupyter-console 5.2.0 has requirement prompt-toolkit<2.0.0,>=1.0.0, but you'll have prompt-toolkit 3.0.18 which is incompatible.\u001b[0m\n",
      "\u001b[31mERROR: google-colab 1.0.0 has requirement ipykernel~=4.10, but you'll have ipykernel 5.5.0 which is incompatible.\u001b[0m\n",
      "\u001b[31mERROR: google-colab 1.0.0 has requirement ipython~=5.5.0, but you'll have ipython 7.21.0 which is incompatible.\u001b[0m\n",
      "\u001b[31mERROR: google-colab 1.0.0 has requirement pandas~=1.1.0; python_version >= \"3.0\", but you'll have pandas 1.2.3 which is incompatible.\u001b[0m\n",
      "\u001b[31mERROR: google-colab 1.0.0 has requirement requests~=2.23.0, but you'll have requests 2.25.1 which is incompatible.\u001b[0m\n",
      "\u001b[31mERROR: google-colab 1.0.0 has requirement tornado~=5.1.0; python_version >= \"3.0\", but you'll have tornado 6.1 which is incompatible.\u001b[0m\n",
      "\u001b[31mERROR: datascience 0.10.6 has requirement folium==0.2.1, but you'll have folium 0.8.3 which is incompatible.\u001b[0m\n",
      "\u001b[31mERROR: albumentations 0.1.12 has requirement imgaug<0.2.7,>=0.2.5, but you'll have imgaug 0.2.9 which is incompatible.\u001b[0m\n",
      "Installing collected packages: appnope, chardet, numpy, fasttext, libwapiti, nltk, hazm, tornado, jupyter-client, prompt-toolkit, Pygments, ipython, ipykernel, Pillow, matplotlib, pytz, pandas, urllib3, requests, scipy, threadpoolctl, scikit-learn, tqdm\n",
      "  Found existing installation: chardet 3.0.4\n",
      "    Uninstalling chardet-3.0.4:\n",
      "      Successfully uninstalled chardet-3.0.4\n",
      "  Found existing installation: numpy 1.19.5\n",
      "    Uninstalling numpy-1.19.5:\n",
      "      Successfully uninstalled numpy-1.19.5\n",
      "  Found existing installation: nltk 3.2.5\n",
      "    Uninstalling nltk-3.2.5:\n",
      "      Successfully uninstalled nltk-3.2.5\n",
      "  Found existing installation: tornado 5.1.1\n",
      "    Uninstalling tornado-5.1.1:\n",
      "      Successfully uninstalled tornado-5.1.1\n",
      "  Found existing installation: jupyter-client 5.3.5\n",
      "    Uninstalling jupyter-client-5.3.5:\n",
      "      Successfully uninstalled jupyter-client-5.3.5\n",
      "  Found existing installation: prompt-toolkit 1.0.18\n",
      "    Uninstalling prompt-toolkit-1.0.18:\n",
      "      Successfully uninstalled prompt-toolkit-1.0.18\n",
      "  Found existing installation: Pygments 2.6.1\n",
      "    Uninstalling Pygments-2.6.1:\n",
      "      Successfully uninstalled Pygments-2.6.1\n",
      "  Found existing installation: ipython 5.5.0\n",
      "    Uninstalling ipython-5.5.0:\n",
      "      Successfully uninstalled ipython-5.5.0\n",
      "  Found existing installation: ipykernel 4.10.1\n",
      "    Uninstalling ipykernel-4.10.1:\n",
      "      Successfully uninstalled ipykernel-4.10.1\n",
      "  Found existing installation: Pillow 7.1.2\n",
      "    Uninstalling Pillow-7.1.2:\n",
      "      Successfully uninstalled Pillow-7.1.2\n",
      "  Found existing installation: matplotlib 3.2.2\n",
      "    Uninstalling matplotlib-3.2.2:\n",
      "      Successfully uninstalled matplotlib-3.2.2\n",
      "  Found existing installation: pytz 2018.9\n",
      "    Uninstalling pytz-2018.9:\n",
      "      Successfully uninstalled pytz-2018.9\n",
      "  Found existing installation: pandas 1.1.5\n",
      "    Uninstalling pandas-1.1.5:\n",
      "      Successfully uninstalled pandas-1.1.5\n",
      "  Found existing installation: urllib3 1.24.3\n",
      "    Uninstalling urllib3-1.24.3:\n",
      "      Successfully uninstalled urllib3-1.24.3\n",
      "  Found existing installation: requests 2.23.0\n",
      "    Uninstalling requests-2.23.0:\n",
      "      Successfully uninstalled requests-2.23.0\n",
      "  Found existing installation: scipy 1.4.1\n",
      "    Uninstalling scipy-1.4.1:\n",
      "      Successfully uninstalled scipy-1.4.1\n",
      "  Found existing installation: scikit-learn 0.22.2.post1\n",
      "    Uninstalling scikit-learn-0.22.2.post1:\n",
      "      Successfully uninstalled scikit-learn-0.22.2.post1\n",
      "  Found existing installation: tqdm 4.41.1\n",
      "    Uninstalling tqdm-4.41.1:\n",
      "      Successfully uninstalled tqdm-4.41.1\n",
      "Successfully installed Pillow-8.1.2 Pygments-2.8.1 appnope-0.1.2 chardet-4.0.0 fasttext-0.9.2 hazm-0.7.0 ipykernel-5.5.0 ipython-7.21.0 jupyter-client-6.1.12 libwapiti-0.2.1 matplotlib-3.4.0 nltk-3.3 numpy-1.20.2 pandas-1.2.3 prompt-toolkit-3.0.18 pytz-2021.1 requests-2.25.1 scikit-learn-0.24.1 scipy-1.6.2 threadpoolctl-2.1.0 tornado-6.1 tqdm-4.59.0 urllib3-1.26.4\n"
     ]
    },
    {
     "data": {
      "application/vnd.colab-display-data+json": {
       "pip_warning": {
        "packages": [
         "IPython",
         "PIL",
         "ipykernel",
         "jupyter_client",
         "matplotlib",
         "mpl_toolkits",
         "numpy",
         "pandas",
         "prompt_toolkit",
         "pygments",
         "pytz",
         "tornado"
        ]
       }
      }
     },
     "metadata": {
      "tags": []
     },
     "output_type": "display_data"
    }
   ],
   "source": [
    "!pip install -r Persian-Gender-Recognition/requirement.txt"
   ]
  },
  {
   "cell_type": "markdown",
   "metadata": {
    "id": "CapOzDT_teD5"
   },
   "source": [
    "### Set Directory"
   ]
  },
  {
   "cell_type": "code",
   "execution_count": 3,
   "metadata": {
    "colab": {
     "base_uri": "https://localhost:8080/"
=======
      "cell_type": "markdown",
      "metadata": {
        "id": "hz6Pg5jJO-V0"
      },
      "source": [
        "## Load Test Dataset"
      ]
    },
    {
      "cell_type": "code",
      "metadata": {
        "id": "nvHO2J7KO9GC",
        "outputId": "440c5637-3b69-477b-fad3-e95aefab6a39",
        "colab": {
          "base_uri": "https://localhost:8080/"
        }
      },
      "source": [
        "embedding_features_test = pd.read_csv(os.path.join(data_path.DATA_PATH, 'test', 'embedding_fasttext.csv'), index_col=0)\n",
        "embedding_features_test.head()"
      ],
      "execution_count": 56,
      "outputs": [
        {
          "output_type": "execute_result",
          "data": {
            "text/plain": [
              "         F0        F1        F2        F3        F4        F5        F6  \\\n",
              "0 -0.096663 -0.005718 -0.023596 -0.043770  0.045183  0.052883  0.031503   \n",
              "1 -0.029366  0.042274 -0.020876 -0.020548  0.016660  0.048140  0.022652   \n",
              "2 -0.033550  0.029519 -0.003604 -0.033160  0.044146  0.072253  0.022969   \n",
              "3 -0.023381  0.013995 -0.005057 -0.012071  0.052829  0.062844  0.035517   \n",
              "4 -0.010696  0.022952  0.000615 -0.013578  0.022903  0.049594  0.027033   \n",
              "\n",
              "         F7        F8        F9  ...      F292      F293      F294      F295  \\\n",
              "0  0.015052 -0.099338  0.508919  ... -0.002916 -0.088808  0.001066  0.070437   \n",
              "1  0.065674 -0.039919  0.313196  ...  0.005810  0.000277  0.010578  0.007308   \n",
              "2  0.029069 -0.052692  0.426592  ... -0.004936 -0.042481 -0.010211  0.034535   \n",
              "3  0.005210 -0.050807  0.423678  ... -0.019221 -0.020712 -0.004718  0.019631   \n",
              "4 -0.036066 -0.011750  0.412084  ... -0.028522 -0.017165  0.011075  0.009762   \n",
              "\n",
              "       F296      F297      F298      F299  number  label  \n",
              "0 -0.084635 -0.042275 -0.023861 -0.068833    1053      0  \n",
              "1  0.000829  0.004192  0.003890  0.013595    1047      0  \n",
              "2 -0.018241 -0.011269 -0.009725 -0.002662    1090      0  \n",
              "3 -0.005821 -0.020736 -0.019597 -0.020837    1084      0  \n",
              "4  0.015289 -0.015515 -0.013420  0.001759    1127      0  \n",
              "\n",
              "[5 rows x 302 columns]"
            ],
            "text/html": "<div>\n<style scoped>\n    .dataframe tbody tr th:only-of-type {\n        vertical-align: middle;\n    }\n\n    .dataframe tbody tr th {\n        vertical-align: top;\n    }\n\n    .dataframe thead th {\n        text-align: right;\n    }\n</style>\n<table border=\"1\" class=\"dataframe\">\n  <thead>\n    <tr style=\"text-align: right;\">\n      <th></th>\n      <th>F0</th>\n      <th>F1</th>\n      <th>F2</th>\n      <th>F3</th>\n      <th>F4</th>\n      <th>F5</th>\n      <th>F6</th>\n      <th>F7</th>\n      <th>F8</th>\n      <th>F9</th>\n      <th>...</th>\n      <th>F292</th>\n      <th>F293</th>\n      <th>F294</th>\n      <th>F295</th>\n      <th>F296</th>\n      <th>F297</th>\n      <th>F298</th>\n      <th>F299</th>\n      <th>number</th>\n      <th>label</th>\n    </tr>\n  </thead>\n  <tbody>\n    <tr>\n      <th>0</th>\n      <td>-0.096663</td>\n      <td>-0.005718</td>\n      <td>-0.023596</td>\n      <td>-0.043770</td>\n      <td>0.045183</td>\n      <td>0.052883</td>\n      <td>0.031503</td>\n      <td>0.015052</td>\n      <td>-0.099338</td>\n      <td>0.508919</td>\n      <td>...</td>\n      <td>-0.002916</td>\n      <td>-0.088808</td>\n      <td>0.001066</td>\n      <td>0.070437</td>\n      <td>-0.084635</td>\n      <td>-0.042275</td>\n      <td>-0.023861</td>\n      <td>-0.068833</td>\n      <td>1053</td>\n      <td>0</td>\n    </tr>\n    <tr>\n      <th>1</th>\n      <td>-0.029366</td>\n      <td>0.042274</td>\n      <td>-0.020876</td>\n      <td>-0.020548</td>\n      <td>0.016660</td>\n      <td>0.048140</td>\n      <td>0.022652</td>\n      <td>0.065674</td>\n      <td>-0.039919</td>\n      <td>0.313196</td>\n      <td>...</td>\n      <td>0.005810</td>\n      <td>0.000277</td>\n      <td>0.010578</td>\n      <td>0.007308</td>\n      <td>0.000829</td>\n      <td>0.004192</td>\n      <td>0.003890</td>\n      <td>0.013595</td>\n      <td>1047</td>\n      <td>0</td>\n    </tr>\n    <tr>\n      <th>2</th>\n      <td>-0.033550</td>\n      <td>0.029519</td>\n      <td>-0.003604</td>\n      <td>-0.033160</td>\n      <td>0.044146</td>\n      <td>0.072253</td>\n      <td>0.022969</td>\n      <td>0.029069</td>\n      <td>-0.052692</td>\n      <td>0.426592</td>\n      <td>...</td>\n      <td>-0.004936</td>\n      <td>-0.042481</td>\n      <td>-0.010211</td>\n      <td>0.034535</td>\n      <td>-0.018241</td>\n      <td>-0.011269</td>\n      <td>-0.009725</td>\n      <td>-0.002662</td>\n      <td>1090</td>\n      <td>0</td>\n    </tr>\n    <tr>\n      <th>3</th>\n      <td>-0.023381</td>\n      <td>0.013995</td>\n      <td>-0.005057</td>\n      <td>-0.012071</td>\n      <td>0.052829</td>\n      <td>0.062844</td>\n      <td>0.035517</td>\n      <td>0.005210</td>\n      <td>-0.050807</td>\n      <td>0.423678</td>\n      <td>...</td>\n      <td>-0.019221</td>\n      <td>-0.020712</td>\n      <td>-0.004718</td>\n      <td>0.019631</td>\n      <td>-0.005821</td>\n      <td>-0.020736</td>\n      <td>-0.019597</td>\n      <td>-0.020837</td>\n      <td>1084</td>\n      <td>0</td>\n    </tr>\n    <tr>\n      <th>4</th>\n      <td>-0.010696</td>\n      <td>0.022952</td>\n      <td>0.000615</td>\n      <td>-0.013578</td>\n      <td>0.022903</td>\n      <td>0.049594</td>\n      <td>0.027033</td>\n      <td>-0.036066</td>\n      <td>-0.011750</td>\n      <td>0.412084</td>\n      <td>...</td>\n      <td>-0.028522</td>\n      <td>-0.017165</td>\n      <td>0.011075</td>\n      <td>0.009762</td>\n      <td>0.015289</td>\n      <td>-0.015515</td>\n      <td>-0.013420</td>\n      <td>0.001759</td>\n      <td>1127</td>\n      <td>0</td>\n    </tr>\n  </tbody>\n</table>\n<p>5 rows × 302 columns</p>\n</div>"
          },
          "metadata": {},
          "execution_count": 56
        }
      ]
    },
    {
      "cell_type": "code",
      "metadata": {
        "id": "rvXnlW7LPcqk",
        "outputId": "619235ca-e7d8-4cf4-d119-4f1934cb045c",
        "colab": {
          "base_uri": "https://localhost:8080/"
        }
      },
      "source": [
        "psychological_features_test = pd.read_csv(os.path.join(data_path.DATA_PATH, 'test', 'psychological_features.csv'), index_col=0)\n",
        "psychological_features_test.head()"
      ],
      "execution_count": 57,
      "outputs": [
        {
          "output_type": "execute_result",
          "data": {
            "text/plain": [
              "   PSY_F36  PSY_F37  PSY_F38  PSY_F39  PSY_F47  PSY_F48  number  label\n",
              "0        1        2        0        2        0        1    1053      0\n",
              "1       20       43        0        0        0        1    1047      0\n",
              "2       20       68        0        6        0        3    1090      0\n",
              "3       48       59        0        2        0        0    1084      0\n",
              "4       38       79        2        6        0        0    1127      0"
            ],
            "text/html": "<div>\n<style scoped>\n    .dataframe tbody tr th:only-of-type {\n        vertical-align: middle;\n    }\n\n    .dataframe tbody tr th {\n        vertical-align: top;\n    }\n\n    .dataframe thead th {\n        text-align: right;\n    }\n</style>\n<table border=\"1\" class=\"dataframe\">\n  <thead>\n    <tr style=\"text-align: right;\">\n      <th></th>\n      <th>PSY_F36</th>\n      <th>PSY_F37</th>\n      <th>PSY_F38</th>\n      <th>PSY_F39</th>\n      <th>PSY_F47</th>\n      <th>PSY_F48</th>\n      <th>number</th>\n      <th>label</th>\n    </tr>\n  </thead>\n  <tbody>\n    <tr>\n      <th>0</th>\n      <td>1</td>\n      <td>2</td>\n      <td>0</td>\n      <td>2</td>\n      <td>0</td>\n      <td>1</td>\n      <td>1053</td>\n      <td>0</td>\n    </tr>\n    <tr>\n      <th>1</th>\n      <td>20</td>\n      <td>43</td>\n      <td>0</td>\n      <td>0</td>\n      <td>0</td>\n      <td>1</td>\n      <td>1047</td>\n      <td>0</td>\n    </tr>\n    <tr>\n      <th>2</th>\n      <td>20</td>\n      <td>68</td>\n      <td>0</td>\n      <td>6</td>\n      <td>0</td>\n      <td>3</td>\n      <td>1090</td>\n      <td>0</td>\n    </tr>\n    <tr>\n      <th>3</th>\n      <td>48</td>\n      <td>59</td>\n      <td>0</td>\n      <td>2</td>\n      <td>0</td>\n      <td>0</td>\n      <td>1084</td>\n      <td>0</td>\n    </tr>\n    <tr>\n      <th>4</th>\n      <td>38</td>\n      <td>79</td>\n      <td>2</td>\n      <td>6</td>\n      <td>0</td>\n      <td>0</td>\n      <td>1127</td>\n      <td>0</td>\n    </tr>\n  </tbody>\n</table>\n</div>"
          },
          "metadata": {},
          "execution_count": 57
        }
      ]
    },
    {
      "cell_type": "code",
      "metadata": {
        "id": "mQL_5F51PcK6",
        "outputId": "1ba6c9ec-e20a-49aa-e56d-b05ded9b0b3e",
        "colab": {
          "base_uri": "https://localhost:8080/"
        }
      },
      "source": [
        "structural_features_test = pd.read_csv(os.path.join(data_path.DATA_PATH, 'test', 'structural_features.csv'), index_col=0)\n",
        "structural_features_test.head()"
      ],
      "execution_count": 58,
      "outputs": [
        {
          "output_type": "execute_result",
          "data": {
            "text/plain": [
              "   STR_F25  STR_F26    STR_F27  STR_F28  STR_F29  number  label\n",
              "0        0        1  18.000000      0.0    65.00    1053      0\n",
              "1        0        2  25.500000      0.0   199.00    1047      0\n",
              "2        0        5  20.400000      0.0   424.00    1090      0\n",
              "3        1       11  13.818182      0.0   294.50    1084      0\n",
              "4        7        7  25.285714      0.0    93.75    1127      0"
            ],
            "text/html": "<div>\n<style scoped>\n    .dataframe tbody tr th:only-of-type {\n        vertical-align: middle;\n    }\n\n    .dataframe tbody tr th {\n        vertical-align: top;\n    }\n\n    .dataframe thead th {\n        text-align: right;\n    }\n</style>\n<table border=\"1\" class=\"dataframe\">\n  <thead>\n    <tr style=\"text-align: right;\">\n      <th></th>\n      <th>STR_F25</th>\n      <th>STR_F26</th>\n      <th>STR_F27</th>\n      <th>STR_F28</th>\n      <th>STR_F29</th>\n      <th>number</th>\n      <th>label</th>\n    </tr>\n  </thead>\n  <tbody>\n    <tr>\n      <th>0</th>\n      <td>0</td>\n      <td>1</td>\n      <td>18.000000</td>\n      <td>0.0</td>\n      <td>65.00</td>\n      <td>1053</td>\n      <td>0</td>\n    </tr>\n    <tr>\n      <th>1</th>\n      <td>0</td>\n      <td>2</td>\n      <td>25.500000</td>\n      <td>0.0</td>\n      <td>199.00</td>\n      <td>1047</td>\n      <td>0</td>\n    </tr>\n    <tr>\n      <th>2</th>\n      <td>0</td>\n      <td>5</td>\n      <td>20.400000</td>\n      <td>0.0</td>\n      <td>424.00</td>\n      <td>1090</td>\n      <td>0</td>\n    </tr>\n    <tr>\n      <th>3</th>\n      <td>1</td>\n      <td>11</td>\n      <td>13.818182</td>\n      <td>0.0</td>\n      <td>294.50</td>\n      <td>1084</td>\n      <td>0</td>\n    </tr>\n    <tr>\n      <th>4</th>\n      <td>7</td>\n      <td>7</td>\n      <td>25.285714</td>\n      <td>0.0</td>\n      <td>93.75</td>\n      <td>1127</td>\n      <td>0</td>\n    </tr>\n  </tbody>\n</table>\n</div>"
          },
          "metadata": {},
          "execution_count": 58
        }
      ]
    },
    {
      "cell_type": "code",
      "metadata": {
        "id": "OGfInw53Pb_G",
        "outputId": "b01c8003-9061-462a-dcb8-0b2e3b753ea0",
        "colab": {
          "base_uri": "https://localhost:8080/"
        }
      },
      "source": [
        "syntactics_features_test = pd.read_csv(os.path.join(data_path.DATA_PATH, 'test', 'syntactics_features.csv'), index_col=0)\n",
        "syntactics_features_test.head()"
      ],
      "execution_count": 59,
      "outputs": [
        {
          "output_type": "execute_result",
          "data": {
            "text/plain": [
              "    SYN_F18   SYN_F19  SYN_F20  SYN_F21   SYN_F22  SYN_F23  SYN_F24  number  \\\n",
              "0  0.000000  0.000000    0.000      0.0  0.030769      0.0      0.0    1053   \n",
              "1  0.000000  0.010050    0.000      0.0  0.010050      0.0      0.0    1047   \n",
              "2  0.007075  0.023585    0.000      0.0  0.000000      0.0      0.0    1090   \n",
              "3  0.010187  0.018676    0.000      0.0  0.000000      0.0      0.0    1084   \n",
              "4  0.002667  0.009333    0.004      0.0  0.000000      0.0      0.0    1127   \n",
              "\n",
              "   label  \n",
              "0      0  \n",
              "1      0  \n",
              "2      0  \n",
              "3      0  \n",
              "4      0  "
            ],
            "text/html": "<div>\n<style scoped>\n    .dataframe tbody tr th:only-of-type {\n        vertical-align: middle;\n    }\n\n    .dataframe tbody tr th {\n        vertical-align: top;\n    }\n\n    .dataframe thead th {\n        text-align: right;\n    }\n</style>\n<table border=\"1\" class=\"dataframe\">\n  <thead>\n    <tr style=\"text-align: right;\">\n      <th></th>\n      <th>SYN_F18</th>\n      <th>SYN_F19</th>\n      <th>SYN_F20</th>\n      <th>SYN_F21</th>\n      <th>SYN_F22</th>\n      <th>SYN_F23</th>\n      <th>SYN_F24</th>\n      <th>number</th>\n      <th>label</th>\n    </tr>\n  </thead>\n  <tbody>\n    <tr>\n      <th>0</th>\n      <td>0.000000</td>\n      <td>0.000000</td>\n      <td>0.000</td>\n      <td>0.0</td>\n      <td>0.030769</td>\n      <td>0.0</td>\n      <td>0.0</td>\n      <td>1053</td>\n      <td>0</td>\n    </tr>\n    <tr>\n      <th>1</th>\n      <td>0.000000</td>\n      <td>0.010050</td>\n      <td>0.000</td>\n      <td>0.0</td>\n      <td>0.010050</td>\n      <td>0.0</td>\n      <td>0.0</td>\n      <td>1047</td>\n      <td>0</td>\n    </tr>\n    <tr>\n      <th>2</th>\n      <td>0.007075</td>\n      <td>0.023585</td>\n      <td>0.000</td>\n      <td>0.0</td>\n      <td>0.000000</td>\n      <td>0.0</td>\n      <td>0.0</td>\n      <td>1090</td>\n      <td>0</td>\n    </tr>\n    <tr>\n      <th>3</th>\n      <td>0.010187</td>\n      <td>0.018676</td>\n      <td>0.000</td>\n      <td>0.0</td>\n      <td>0.000000</td>\n      <td>0.0</td>\n      <td>0.0</td>\n      <td>1084</td>\n      <td>0</td>\n    </tr>\n    <tr>\n      <th>4</th>\n      <td>0.002667</td>\n      <td>0.009333</td>\n      <td>0.004</td>\n      <td>0.0</td>\n      <td>0.000000</td>\n      <td>0.0</td>\n      <td>0.0</td>\n      <td>1127</td>\n      <td>0</td>\n    </tr>\n  </tbody>\n</table>\n</div>"
          },
          "metadata": {},
          "execution_count": 59
        }
      ]
    },
    {
      "cell_type": "code",
      "metadata": {
        "id": "MNaGzl1YPbqD",
        "outputId": "2e82f816-1abe-4372-a3c1-641e6b66ed18",
        "colab": {
          "base_uri": "https://localhost:8080/"
        }
      },
      "source": [
        "text_dependent_features_test = pd.read_csv(os.path.join(data_path.DATA_PATH, 'test', 'text_dependent_features.csv'), index_col=0)\n",
        "text_dependent_features_test.head()"
      ],
      "execution_count": 60,
      "outputs": [
        {
          "output_type": "execute_result",
          "data": {
            "text/plain": [
              "   TD_F1     TD_F2  TD_F49  TD_F3     TD_F4  TD_F5     TD_F6  number  label\n",
              "0     65  0.276923      18      1  0.215385    0.0  0.000000    1053      0\n",
              "1    199  0.125628      25      0  0.180905    0.0  0.030151    1047      0\n",
              "2    424  0.068396      29      7  0.214623    0.0  0.009434    1090      0\n",
              "3    589  0.047538      28      7  0.207131    0.0  0.018676    1084      0\n",
              "4    750  0.042667      32     16  0.181333    0.0  0.016000    1127      0"
            ],
            "text/html": "<div>\n<style scoped>\n    .dataframe tbody tr th:only-of-type {\n        vertical-align: middle;\n    }\n\n    .dataframe tbody tr th {\n        vertical-align: top;\n    }\n\n    .dataframe thead th {\n        text-align: right;\n    }\n</style>\n<table border=\"1\" class=\"dataframe\">\n  <thead>\n    <tr style=\"text-align: right;\">\n      <th></th>\n      <th>TD_F1</th>\n      <th>TD_F2</th>\n      <th>TD_F49</th>\n      <th>TD_F3</th>\n      <th>TD_F4</th>\n      <th>TD_F5</th>\n      <th>TD_F6</th>\n      <th>number</th>\n      <th>label</th>\n    </tr>\n  </thead>\n  <tbody>\n    <tr>\n      <th>0</th>\n      <td>65</td>\n      <td>0.276923</td>\n      <td>18</td>\n      <td>1</td>\n      <td>0.215385</td>\n      <td>0.0</td>\n      <td>0.000000</td>\n      <td>1053</td>\n      <td>0</td>\n    </tr>\n    <tr>\n      <th>1</th>\n      <td>199</td>\n      <td>0.125628</td>\n      <td>25</td>\n      <td>0</td>\n      <td>0.180905</td>\n      <td>0.0</td>\n      <td>0.030151</td>\n      <td>1047</td>\n      <td>0</td>\n    </tr>\n    <tr>\n      <th>2</th>\n      <td>424</td>\n      <td>0.068396</td>\n      <td>29</td>\n      <td>7</td>\n      <td>0.214623</td>\n      <td>0.0</td>\n      <td>0.009434</td>\n      <td>1090</td>\n      <td>0</td>\n    </tr>\n    <tr>\n      <th>3</th>\n      <td>589</td>\n      <td>0.047538</td>\n      <td>28</td>\n      <td>7</td>\n      <td>0.207131</td>\n      <td>0.0</td>\n      <td>0.018676</td>\n      <td>1084</td>\n      <td>0</td>\n    </tr>\n    <tr>\n      <th>4</th>\n      <td>750</td>\n      <td>0.042667</td>\n      <td>32</td>\n      <td>16</td>\n      <td>0.181333</td>\n      <td>0.0</td>\n      <td>0.016000</td>\n      <td>1127</td>\n      <td>0</td>\n    </tr>\n  </tbody>\n</table>\n</div>"
          },
          "metadata": {},
          "execution_count": 60
        }
      ]
    },
    {
      "cell_type": "code",
      "metadata": {
        "id": "hOaUr2ckP2cy",
        "outputId": "ac6f949c-30dd-4e69-e12d-39db12562b3d",
        "colab": {
          "base_uri": "https://localhost:8080/"
        }
      },
      "source": [
        "word_dependent_features_test = pd.read_csv(os.path.join(data_path.DATA_PATH, 'test', 'word_dependent_features.csv'), index_col=0)\n",
        "word_dependent_features_test.head()"
      ],
      "execution_count": 61,
      "outputs": [
        {
          "output_type": "execute_result",
          "data": {
            "text/plain": [
              "   WD_F7     WD_F8     WD_F9    WD_F10    WD_F11  WD_F12  WD_F13      WD_F14  \\\n",
              "0     18  3.611111  0.833333  0.500000  0.500000      13       2  246.913580   \n",
              "1     51  3.901961  0.745098  0.588235  0.411765      33       4  276.816609   \n",
              "2    102  4.156863  0.745098  0.598039  0.401961      61      22  105.728566   \n",
              "3    152  3.875000  0.611842  0.572368  0.427632      72      14  147.160665   \n",
              "4    177  4.237288  0.593220  0.576271  0.423729      72      32  104.695330   \n",
              "\n",
              "     WD_F15    WD_F16       WD_F17    WD_F50  number  label  \n",
              "0  0.026144  0.133333  2167.778818  2.630253    1053      0  \n",
              "1  0.028235  0.105263  2988.187481  3.422026    1047      0  \n",
              "2  0.010678  0.289474  2343.319559  4.168859    1090      0  \n",
              "3  0.014814  0.150538  2224.861374  4.239969    1084      0  \n",
              "4  0.010529  0.304762  1646.956733  4.417753    1127      0  "
            ],
            "text/html": "<div>\n<style scoped>\n    .dataframe tbody tr th:only-of-type {\n        vertical-align: middle;\n    }\n\n    .dataframe tbody tr th {\n        vertical-align: top;\n    }\n\n    .dataframe thead th {\n        text-align: right;\n    }\n</style>\n<table border=\"1\" class=\"dataframe\">\n  <thead>\n    <tr style=\"text-align: right;\">\n      <th></th>\n      <th>WD_F7</th>\n      <th>WD_F8</th>\n      <th>WD_F9</th>\n      <th>WD_F10</th>\n      <th>WD_F11</th>\n      <th>WD_F12</th>\n      <th>WD_F13</th>\n      <th>WD_F14</th>\n      <th>WD_F15</th>\n      <th>WD_F16</th>\n      <th>WD_F17</th>\n      <th>WD_F50</th>\n      <th>number</th>\n      <th>label</th>\n    </tr>\n  </thead>\n  <tbody>\n    <tr>\n      <th>0</th>\n      <td>18</td>\n      <td>3.611111</td>\n      <td>0.833333</td>\n      <td>0.500000</td>\n      <td>0.500000</td>\n      <td>13</td>\n      <td>2</td>\n      <td>246.913580</td>\n      <td>0.026144</td>\n      <td>0.133333</td>\n      <td>2167.778818</td>\n      <td>2.630253</td>\n      <td>1053</td>\n      <td>0</td>\n    </tr>\n    <tr>\n      <th>1</th>\n      <td>51</td>\n      <td>3.901961</td>\n      <td>0.745098</td>\n      <td>0.588235</td>\n      <td>0.411765</td>\n      <td>33</td>\n      <td>4</td>\n      <td>276.816609</td>\n      <td>0.028235</td>\n      <td>0.105263</td>\n      <td>2988.187481</td>\n      <td>3.422026</td>\n      <td>1047</td>\n      <td>0</td>\n    </tr>\n    <tr>\n      <th>2</th>\n      <td>102</td>\n      <td>4.156863</td>\n      <td>0.745098</td>\n      <td>0.598039</td>\n      <td>0.401961</td>\n      <td>61</td>\n      <td>22</td>\n      <td>105.728566</td>\n      <td>0.010678</td>\n      <td>0.289474</td>\n      <td>2343.319559</td>\n      <td>4.168859</td>\n      <td>1090</td>\n      <td>0</td>\n    </tr>\n    <tr>\n      <th>3</th>\n      <td>152</td>\n      <td>3.875000</td>\n      <td>0.611842</td>\n      <td>0.572368</td>\n      <td>0.427632</td>\n      <td>72</td>\n      <td>14</td>\n      <td>147.160665</td>\n      <td>0.014814</td>\n      <td>0.150538</td>\n      <td>2224.861374</td>\n      <td>4.239969</td>\n      <td>1084</td>\n      <td>0</td>\n    </tr>\n    <tr>\n      <th>4</th>\n      <td>177</td>\n      <td>4.237288</td>\n      <td>0.593220</td>\n      <td>0.576271</td>\n      <td>0.423729</td>\n      <td>72</td>\n      <td>32</td>\n      <td>104.695330</td>\n      <td>0.010529</td>\n      <td>0.304762</td>\n      <td>1646.956733</td>\n      <td>4.417753</td>\n      <td>1127</td>\n      <td>0</td>\n    </tr>\n  </tbody>\n</table>\n</div>"
          },
          "metadata": {},
          "execution_count": 61
        }
      ]
    },
    {
      "cell_type": "code",
      "execution_count": 62,
      "metadata": {},
      "outputs": [
        {
          "output_type": "execute_result",
          "data": {
            "text/plain": [
              "   GRM_F30  GRM_F31  GRM_F32  GRM_F33  GRM_F34  GRM_F35  GRM_F40  GRM_F41  \\\n",
              "0        1        1        3        0        2        1        0        3   \n",
              "1        2        6       12        0        3        2        1        6   \n",
              "2       11        4       40        0       16        8        5        5   \n",
              "3       15        5       49        0       10        7        9        9   \n",
              "4       10        7       73        1       20       14       13        9   \n",
              "\n",
              "   GRM_F42  GRM_F51  number  label  \n",
              "0        1        0    1053      0  \n",
              "1        1        0    1047      0  \n",
              "2        2        2    1090      0  \n",
              "3        8        2    1084      0  \n",
              "4        4        8    1127      0  "
            ],
            "text/html": "<div>\n<style scoped>\n    .dataframe tbody tr th:only-of-type {\n        vertical-align: middle;\n    }\n\n    .dataframe tbody tr th {\n        vertical-align: top;\n    }\n\n    .dataframe thead th {\n        text-align: right;\n    }\n</style>\n<table border=\"1\" class=\"dataframe\">\n  <thead>\n    <tr style=\"text-align: right;\">\n      <th></th>\n      <th>GRM_F30</th>\n      <th>GRM_F31</th>\n      <th>GRM_F32</th>\n      <th>GRM_F33</th>\n      <th>GRM_F34</th>\n      <th>GRM_F35</th>\n      <th>GRM_F40</th>\n      <th>GRM_F41</th>\n      <th>GRM_F42</th>\n      <th>GRM_F51</th>\n      <th>number</th>\n      <th>label</th>\n    </tr>\n  </thead>\n  <tbody>\n    <tr>\n      <th>0</th>\n      <td>1</td>\n      <td>1</td>\n      <td>3</td>\n      <td>0</td>\n      <td>2</td>\n      <td>1</td>\n      <td>0</td>\n      <td>3</td>\n      <td>1</td>\n      <td>0</td>\n      <td>1053</td>\n      <td>0</td>\n    </tr>\n    <tr>\n      <th>1</th>\n      <td>2</td>\n      <td>6</td>\n      <td>12</td>\n      <td>0</td>\n      <td>3</td>\n      <td>2</td>\n      <td>1</td>\n      <td>6</td>\n      <td>1</td>\n      <td>0</td>\n      <td>1047</td>\n      <td>0</td>\n    </tr>\n    <tr>\n      <th>2</th>\n      <td>11</td>\n      <td>4</td>\n      <td>40</td>\n      <td>0</td>\n      <td>16</td>\n      <td>8</td>\n      <td>5</td>\n      <td>5</td>\n      <td>2</td>\n      <td>2</td>\n      <td>1090</td>\n      <td>0</td>\n    </tr>\n    <tr>\n      <th>3</th>\n      <td>15</td>\n      <td>5</td>\n      <td>49</td>\n      <td>0</td>\n      <td>10</td>\n      <td>7</td>\n      <td>9</td>\n      <td>9</td>\n      <td>8</td>\n      <td>2</td>\n      <td>1084</td>\n      <td>0</td>\n    </tr>\n    <tr>\n      <th>4</th>\n      <td>10</td>\n      <td>7</td>\n      <td>73</td>\n      <td>1</td>\n      <td>20</td>\n      <td>14</td>\n      <td>13</td>\n      <td>9</td>\n      <td>4</td>\n      <td>8</td>\n      <td>1127</td>\n      <td>0</td>\n    </tr>\n  </tbody>\n</table>\n</div>"
          },
          "metadata": {},
          "execution_count": 62
        }
      ],
      "source": [
        "grammatical_features_test = pd.read_csv(os.path.join(data_path.DATA_PATH, 'test', 'grammatical_features.csv'), index_col=0)\n",
        "grammatical_features_test.head()"
      ]
    },
    {
      "cell_type": "markdown",
      "metadata": {
        "id": "-ofCvOioQL73"
      },
      "source": [
        "## Generate Test Features"
      ]
>>>>>>> 0c51efe30d73d679b186eb47c6d84380d3c56426
    },
    "id": "kVKhanHvteD5",
    "outputId": "bd1d6edb-3301-476e-ec9c-580492a349f4"
   },
   "outputs": [
    {
<<<<<<< HEAD
     "name": "stdout",
     "output_type": "stream",
     "text": [
      "/content/Persian-Gender-Recognition/code\n"
     ]
    }
   ],
   "source": [
    "%cd Persian-Gender-Recognition/code"
   ]
  },
  {
   "cell_type": "markdown",
   "metadata": {
    "id": "hn3UdMiXteD5"
   },
   "source": [
    "## Import "
   ]
  },
  {
   "cell_type": "code",
   "execution_count": 4,
   "metadata": {
    "id": "wvrw5CNwteD5"
   },
   "outputs": [],
   "source": [
    "import os\n",
    "import pandas as pd\n",
    "import numpy as np\n",
    "\n",
    "from sklearn.preprocessing import StandardScaler\n",
    "from os.path import isfile\n",
    "\n",
    "import config\n",
    "import utils\n",
    "import data_path\n",
    "import data_loader\n",
    "\n",
    "from classifier import Classifier\n",
    "from feature_generator import generate_features"
   ]
  },
  {
   "cell_type": "markdown",
   "metadata": {
    "id": "QwBp-4eLteD6"
   },
   "source": [
    "## Load Datasets"
   ]
  },
  {
   "cell_type": "code",
   "execution_count": 7,
   "metadata": {
    "colab": {
     "base_uri": "https://localhost:8080/"
=======
      "cell_type": "code",
      "metadata": {
        "id": "KFo9BmspQPpX",
        "outputId": "f5f81ec0-b0d2-4561-ea17-834898e4aa97",
        "colab": {
          "base_uri": "https://localhost:8080/"
        }
      },
      "source": [
        "features_list_test = [embedding_features_test, psychological_features_test, structural_features_test, \n",
        "                      syntactics_features_test, text_dependent_features_test, word_dependent_features_test, grammatical_features_test]\n",
        "features_test = features_list_test.pop()\n",
        "for feature_test in features_list_test:\n",
        "  features_test = pd.merge(features_test, feature_test, left_on=['label', 'number'], right_on=['label', 'number'])\n",
        "\n",
        "print(features_test.shape)\n",
        "features_test.head()"
      ],
      "execution_count": 63,
      "outputs": [
        {
          "output_type": "stream",
          "name": "stdout",
          "text": [
            "(378, 349)\n"
          ]
        },
        {
          "output_type": "execute_result",
          "data": {
            "text/plain": [
              "   GRM_F30  GRM_F31  GRM_F32  GRM_F33  GRM_F34  GRM_F35  GRM_F40  GRM_F41  \\\n",
              "0        1        1        3        0        2        1        0        3   \n",
              "1        2        6       12        0        3        2        1        6   \n",
              "2       11        4       40        0       16        8        5        5   \n",
              "3       15        5       49        0       10        7        9        9   \n",
              "4       10        7       73        1       20       14       13        9   \n",
              "\n",
              "   GRM_F42  GRM_F51  ...     WD_F9    WD_F10    WD_F11  WD_F12  WD_F13  \\\n",
              "0        1        0  ...  0.833333  0.500000  0.500000      13       2   \n",
              "1        1        0  ...  0.745098  0.588235  0.411765      33       4   \n",
              "2        2        2  ...  0.745098  0.598039  0.401961      61      22   \n",
              "3        8        2  ...  0.611842  0.572368  0.427632      72      14   \n",
              "4        4        8  ...  0.593220  0.576271  0.423729      72      32   \n",
              "\n",
              "       WD_F14    WD_F15    WD_F16       WD_F17    WD_F50  \n",
              "0  246.913580  0.026144  0.133333  2167.778818  2.630253  \n",
              "1  276.816609  0.028235  0.105263  2988.187481  3.422026  \n",
              "2  105.728566  0.010678  0.289474  2343.319559  4.168859  \n",
              "3  147.160665  0.014814  0.150538  2224.861374  4.239969  \n",
              "4  104.695330  0.010529  0.304762  1646.956733  4.417753  \n",
              "\n",
              "[5 rows x 349 columns]"
            ],
            "text/html": "<div>\n<style scoped>\n    .dataframe tbody tr th:only-of-type {\n        vertical-align: middle;\n    }\n\n    .dataframe tbody tr th {\n        vertical-align: top;\n    }\n\n    .dataframe thead th {\n        text-align: right;\n    }\n</style>\n<table border=\"1\" class=\"dataframe\">\n  <thead>\n    <tr style=\"text-align: right;\">\n      <th></th>\n      <th>GRM_F30</th>\n      <th>GRM_F31</th>\n      <th>GRM_F32</th>\n      <th>GRM_F33</th>\n      <th>GRM_F34</th>\n      <th>GRM_F35</th>\n      <th>GRM_F40</th>\n      <th>GRM_F41</th>\n      <th>GRM_F42</th>\n      <th>GRM_F51</th>\n      <th>...</th>\n      <th>WD_F9</th>\n      <th>WD_F10</th>\n      <th>WD_F11</th>\n      <th>WD_F12</th>\n      <th>WD_F13</th>\n      <th>WD_F14</th>\n      <th>WD_F15</th>\n      <th>WD_F16</th>\n      <th>WD_F17</th>\n      <th>WD_F50</th>\n    </tr>\n  </thead>\n  <tbody>\n    <tr>\n      <th>0</th>\n      <td>1</td>\n      <td>1</td>\n      <td>3</td>\n      <td>0</td>\n      <td>2</td>\n      <td>1</td>\n      <td>0</td>\n      <td>3</td>\n      <td>1</td>\n      <td>0</td>\n      <td>...</td>\n      <td>0.833333</td>\n      <td>0.500000</td>\n      <td>0.500000</td>\n      <td>13</td>\n      <td>2</td>\n      <td>246.913580</td>\n      <td>0.026144</td>\n      <td>0.133333</td>\n      <td>2167.778818</td>\n      <td>2.630253</td>\n    </tr>\n    <tr>\n      <th>1</th>\n      <td>2</td>\n      <td>6</td>\n      <td>12</td>\n      <td>0</td>\n      <td>3</td>\n      <td>2</td>\n      <td>1</td>\n      <td>6</td>\n      <td>1</td>\n      <td>0</td>\n      <td>...</td>\n      <td>0.745098</td>\n      <td>0.588235</td>\n      <td>0.411765</td>\n      <td>33</td>\n      <td>4</td>\n      <td>276.816609</td>\n      <td>0.028235</td>\n      <td>0.105263</td>\n      <td>2988.187481</td>\n      <td>3.422026</td>\n    </tr>\n    <tr>\n      <th>2</th>\n      <td>11</td>\n      <td>4</td>\n      <td>40</td>\n      <td>0</td>\n      <td>16</td>\n      <td>8</td>\n      <td>5</td>\n      <td>5</td>\n      <td>2</td>\n      <td>2</td>\n      <td>...</td>\n      <td>0.745098</td>\n      <td>0.598039</td>\n      <td>0.401961</td>\n      <td>61</td>\n      <td>22</td>\n      <td>105.728566</td>\n      <td>0.010678</td>\n      <td>0.289474</td>\n      <td>2343.319559</td>\n      <td>4.168859</td>\n    </tr>\n    <tr>\n      <th>3</th>\n      <td>15</td>\n      <td>5</td>\n      <td>49</td>\n      <td>0</td>\n      <td>10</td>\n      <td>7</td>\n      <td>9</td>\n      <td>9</td>\n      <td>8</td>\n      <td>2</td>\n      <td>...</td>\n      <td>0.611842</td>\n      <td>0.572368</td>\n      <td>0.427632</td>\n      <td>72</td>\n      <td>14</td>\n      <td>147.160665</td>\n      <td>0.014814</td>\n      <td>0.150538</td>\n      <td>2224.861374</td>\n      <td>4.239969</td>\n    </tr>\n    <tr>\n      <th>4</th>\n      <td>10</td>\n      <td>7</td>\n      <td>73</td>\n      <td>1</td>\n      <td>20</td>\n      <td>14</td>\n      <td>13</td>\n      <td>9</td>\n      <td>4</td>\n      <td>8</td>\n      <td>...</td>\n      <td>0.593220</td>\n      <td>0.576271</td>\n      <td>0.423729</td>\n      <td>72</td>\n      <td>32</td>\n      <td>104.695330</td>\n      <td>0.010529</td>\n      <td>0.304762</td>\n      <td>1646.956733</td>\n      <td>4.417753</td>\n    </tr>\n  </tbody>\n</table>\n<p>5 rows × 349 columns</p>\n</div>"
          },
          "metadata": {},
          "execution_count": 63
        }
      ]
    },
    {
      "cell_type": "markdown",
      "metadata": {
        "id": "iAsYbKmiQqng"
      },
      "source": [
        "## Split X, y"
      ]
    },
    {
      "cell_type": "code",
      "metadata": {
        "id": "RfFsT52iQvSM"
      },
      "source": [
        "y_test = features_test['label']\n",
        "X_test = features_test.drop(['label', 'number'], axis=1)"
      ],
      "execution_count": 64,
      "outputs": []
>>>>>>> 0c51efe30d73d679b186eb47c6d84380d3c56426
    },
    "id": "nzw5uNdpteD6",
    "outputId": "a3658fae-2962-4664-a20f-4f9db0912cd3"
   },
   "outputs": [
    {
<<<<<<< HEAD
     "name": "stdout",
     "output_type": "stream",
     "text": [
      "         F0        F1        F2        F3  ...      F298      F299  number  label\n",
      "0 -0.016724  0.017616  0.009455 -0.013369  ... -0.015635  0.018951     289      0\n",
      "1 -0.058125  0.009000  0.011841 -0.012871  ... -0.028773  0.014173     504      0\n",
      "2  0.000008  0.030201 -0.010074 -0.028357  ...  0.001973 -0.019890     262      0\n",
      "3  0.023368  0.074310  0.004460 -0.041999  ... -0.010022 -0.024235     276      0\n",
      "4 -0.014248  0.029315  0.000213 -0.018357  ... -0.008050 -0.025579     510      0\n",
      "\n",
      "[5 rows x 302 columns]\n"
     ]
    }
   ],
   "source": [
    "embedding_features = pd.read_csv(os.path.join(data_path.DATA_PATH, 'train', 'embedding_fasttext.csv'), index_col=0)\n",
    "print(embedding_features.head())"
   ]
  },
  {
   "cell_type": "code",
   "execution_count": 8,
   "metadata": {
    "colab": {
     "base_uri": "https://localhost:8080/"
=======
      "cell_type": "markdown",
      "metadata": {
        "id": "c80VGtLcQuRP"
      },
      "source": [
        "## Normalize\n",
        "\n"
      ]
    },
    {
      "cell_type": "code",
      "metadata": {
        "id": "uj78RAD0Q0V2"
      },
      "source": [
        "X_test = pd.DataFrame(scaler.transform(X_test), columns=X_test.columns)"
      ],
      "execution_count": 65,
      "outputs": []
    },
    {
      "cell_type": "markdown",
      "metadata": {
        "id": "aiXRpmTMVlgu"
      },
      "source": [
        "## Use Selected Features"
      ]
    },
    {
      "cell_type": "code",
      "metadata": {
        "id": "d5zSTnbHVmCW",
        "outputId": "93f81c1a-bf4e-4d91-ae62-ad642ba32484",
        "colab": {
          "base_uri": "https://localhost:8080/"
        }
      },
      "source": [
        "X_test = X_test.T[selected_features].T\n",
        "print(X_test.shape)\n",
        "print(X_test.columns)"
      ],
      "execution_count": 66,
      "outputs": [
        {
          "output_type": "stream",
          "name": "stdout",
          "text": [
            "(378, 224)\nIndex(['GRM_F33', 'GRM_F35', 'GRM_F40', 'GRM_F41', 'F0', 'F2', 'F3', 'F5',\n       'F6', 'F7',\n       ...\n       'SYN_F20', 'TD_F1', 'TD_F2', 'TD_F3', 'TD_F4', 'WD_F9', 'WD_F10',\n       'WD_F14', 'WD_F15', 'WD_F50'],\n      dtype='object', length=224)\n"
          ]
        }
      ]
    },
    {
      "cell_type": "markdown",
      "metadata": {
        "id": "sVpFqTNnWIK1"
      },
      "source": [
        "### Fit Model"
      ]
    },
    {
      "cell_type": "code",
      "metadata": {
        "id": "9Y9K1IgwWFDe",
        "outputId": "f4631e5a-4131-439b-e656-f2d45c3706ff",
        "colab": {
          "base_uri": "https://localhost:8080/"
        }
      },
      "source": [
        "classifier = Classifier('SVM' , kernel='rbf', gamma='scale')\n",
        "classifier.fit(X, y)"
      ],
      "execution_count": 100,
      "outputs": [
        {
          "output_type": "execute_result",
          "data": {
            "text/plain": [
              "array([[0.57895865, 0.42104135],\n",
              "       [0.67853527, 0.32146473],\n",
              "       [0.46373916, 0.53626084],\n",
              "       ...,\n",
              "       [0.39152873, 0.60847127],\n",
              "       [0.54731089, 0.45268911],\n",
              "       [0.29852855, 0.70147145]])"
            ]
          },
          "metadata": {},
          "execution_count": 100
        }
      ]
    },
    {
      "cell_type": "markdown",
      "metadata": {
        "id": "dhPNSdeDXC5Q"
      },
      "source": [
        "## Prediction on Testset"
      ]
    },
    {
      "cell_type": "code",
      "metadata": {
        "id": "wdkSYFYEW8jz",
        "outputId": "51027b79-1a0e-4345-c367-53f2cfd98ef0",
        "colab": {
          "base_uri": "https://localhost:8080/"
        }
      },
      "source": [
        "test_predictions = classifier.predict(X_test)\n",
        "test_prediction_labels = np.array(test_predictions[:,1] > 0.5, dtype=int)\n",
        "\n",
        "print(accuracy_score(y_test, test_prediction_labels))"
      ],
      "execution_count": 101,
      "outputs": [
        {
          "output_type": "stream",
          "name": "stdout",
          "text": [
            "0.6137566137566137\n"
          ]
        }
      ]
    },
    {
      "cell_type": "markdown",
      "metadata": {
        "id": "0NrrfSvvteD_"
      },
      "source": [
        "## Ensenble Method"
      ]
    },
    {
      "cell_type": "markdown",
      "metadata": {
        "id": "D4sDG0pgrLIT"
      },
      "source": [
        "## Explorary Idea: Use ensenble idea on all sklearn models and suggest label with maximum occurance."
      ]
    },
    {
      "cell_type": "code",
      "metadata": {
        "id": "k523GsbWteD_"
      },
      "source": [
        "svm = Classifier('SVM' , kernel='rbf', gamma='auto', probability=True)\n",
        "train_predictions_svm = svm.fit(X, y)"
      ],
      "execution_count": 69,
      "outputs": []
>>>>>>> 0c51efe30d73d679b186eb47c6d84380d3c56426
    },
    "id": "eYkT5XkFuhvY",
    "outputId": "536bf639-8211-4fe0-c2b8-e8425e16fd83"
   },
   "outputs": [
    {
<<<<<<< HEAD
     "name": "stdout",
     "output_type": "stream",
     "text": [
      "   PSY_F36  PSY_F37  PSY_F38  PSY_F39  PSY_F47  PSY_F48  number  label\n",
      "0       25       16        0        0        0        0     289      0\n",
      "1        2        5        0        1        0        2     504      0\n",
      "2       19       16        0        0        0        0     262      0\n",
      "3        7        9        0        0        0        0     276      0\n",
      "4       33       44        0        4        0        0     510      0\n"
     ]
    }
   ],
   "source": [
    "psychological_features = pd.read_csv(os.path.join(data_path.DATA_PATH, 'train', 'psychological_features.csv'), index_col=0)\n",
    "print(psychological_features.head())"
   ]
  },
  {
   "cell_type": "code",
   "execution_count": 9,
   "metadata": {
    "colab": {
     "base_uri": "https://localhost:8080/"
=======
      "cell_type": "code",
      "metadata": {
        "id": "SEejxFjbteEA"
      },
      "source": [
        "rf = Classifier('Random Forest', n_estimator=200, max_depth=10)\n",
        "train_predictions_rf = rf.fit(X, y)"
      ],
      "execution_count": 70,
      "outputs": []
>>>>>>> 0c51efe30d73d679b186eb47c6d84380d3c56426
    },
    "id": "iEQ4Io_0uhjM",
    "outputId": "fb20f21d-6729-4d44-99e3-96a5244f376e"
   },
   "outputs": [
    {
<<<<<<< HEAD
     "name": "stdout",
     "output_type": "stream",
     "text": [
      "   STR_F25  STR_F26  STR_F27  STR_F28  STR_F29  number  label\n",
      "0        1        1     55.0      0.0    122.5     289      0\n",
      "1        0        1     18.0      0.0     92.0     504      0\n",
      "2        1        1     53.0      0.0    117.5     262      0\n",
      "3        0        1     20.0      0.0     80.0     276      0\n",
      "4        1       10     14.3      0.0    276.5     510      0\n"
     ]
    }
   ],
   "source": [
    "structural_features = pd.read_csv(os.path.join(data_path.DATA_PATH, 'train', 'structural_features.csv'), index_col=0)\n",
    "print(structural_features.head())"
   ]
  },
  {
   "cell_type": "code",
   "execution_count": 10,
   "metadata": {
    "colab": {
     "base_uri": "https://localhost:8080/"
=======
      "cell_type": "code",
      "metadata": {
        "id": "5itbSJxYteEA"
      },
      "source": [
        "mlp = Classifier('MLP', max_iter=1200 , hidden_layer_sizes=(32, 4,), activation='relu', solver='adam')\n",
        "train_predictions_mlp = mlp.fit(X, y)"
      ],
      "execution_count": 71,
      "outputs": []
>>>>>>> 0c51efe30d73d679b186eb47c6d84380d3c56426
    },
    "id": "HFxxsom_uhV1",
    "outputId": "1eeaccd3-6d7f-4551-8d93-6596366aa4bc"
   },
   "outputs": [
    {
<<<<<<< HEAD
     "name": "stdout",
     "output_type": "stream",
     "text": [
      "   SYN_F18   SYN_F19  SYN_F20  SYN_F21  ...   SYN_F23   SYN_F24  number  label\n",
      "0      0.0  0.000000      0.0      0.0  ...  0.000000  0.000000     289      0\n",
      "1      0.0  0.000000      0.0      0.0  ...  0.000000  0.000000     504      0\n",
      "2      0.0  0.000000      0.0      0.0  ...  0.012766  0.004255     262      0\n",
      "3      0.0  0.000000      0.0      0.0  ...  0.000000  0.000000     276      0\n",
      "4      0.0  0.018083      0.0      0.0  ...  0.000000  0.000000     510      0\n",
      "\n",
      "[5 rows x 9 columns]\n"
     ]
    }
   ],
   "source": [
    "syntactics_features = pd.read_csv(os.path.join(data_path.DATA_PATH, 'train', 'syntactics_features.csv'), index_col=0)\n",
    "print(syntactics_features.head())"
   ]
  },
  {
   "cell_type": "code",
   "execution_count": 11,
   "metadata": {
    "colab": {
     "base_uri": "https://localhost:8080/"
=======
      "cell_type": "code",
      "metadata": {
        "id": "BOKWUBW2teEA"
      },
      "source": [
        "adaboost = Classifier('Ada Boost', n_estimators= 120, learning_rate= 0.5)\n",
        "train_predictions_adaboost = adaboost.fit(X, y)"
      ],
      "execution_count": 72,
      "outputs": []
>>>>>>> 0c51efe30d73d679b186eb47c6d84380d3c56426
    },
    "id": "DJ7985WsuhKI",
    "outputId": "8109135a-8c5d-4696-9119-4e7b2941fc56"
   },
   "outputs": [
    {
<<<<<<< HEAD
     "name": "stdout",
     "output_type": "stream",
     "text": [
      "   TD_F1     TD_F2  TD_F49  TD_F3     TD_F4  TD_F5     TD_F6  number  label\n",
      "0    245  0.102041      25      1  0.179592    0.0  0.012245     289      0\n",
      "1     92  0.217391      20      2  0.163043    0.0  0.000000     504      0\n",
      "2    235  0.110638      26      3  0.195745    0.0  0.012766     262      0\n",
      "3     80  0.250000      20      1  0.212500    0.0  0.000000     276      0\n",
      "4    553  0.048825      27     16  0.249548    0.0  0.018083     510      0\n"
     ]
    }
   ],
   "source": [
    "text_dependent_features = pd.read_csv(os.path.join(data_path.DATA_PATH, 'train', 'text_dependent_features.csv'), index_col=0)\n",
    "print(text_dependent_features.head())"
   ]
  },
  {
   "cell_type": "code",
   "execution_count": 12,
   "metadata": {
    "colab": {
     "base_uri": "https://localhost:8080/"
=======
      "cell_type": "code",
      "metadata": {
        "id": "edDTrcSOteEA"
      },
      "source": [
        "nb = Classifier('Naive Bayes')\n",
        "train_predictions_nb = nb.fit(X, y)"
      ],
      "execution_count": 73,
      "outputs": []
>>>>>>> 0c51efe30d73d679b186eb47c6d84380d3c56426
    },
    "id": "XQj5pdk2ug9M",
    "outputId": "1b951641-bf06-42d2-aad2-37b19c172e2c"
   },
   "outputs": [
    {
<<<<<<< HEAD
     "name": "stdout",
     "output_type": "stream",
     "text": [
      "   WD_F7     WD_F8     WD_F9    WD_F10  ...       WD_F17    WD_F50  number  label\n",
      "0     55  4.454545  0.763636  0.600000  ...  1870.088820  3.635431     289      0\n",
      "1     18  5.111111  0.888889  0.611111  ...  2312.297406  2.736339     504      0\n",
      "2     53  4.433962  0.830189  0.660377  ...  2495.612060  3.715138     262      0\n",
      "3     20  4.000000  0.950000  0.800000  ...  5691.891320  2.926418     276      0\n",
      "4    143  3.867133  0.601399  0.608392  ...  2134.023191  4.147394     510      0\n",
      "\n",
      "[5 rows x 14 columns]\n"
     ]
    }
   ],
   "source": [
    "word_dependent_features = pd.read_csv(os.path.join(data_path.DATA_PATH, 'train', 'word_dependent_features.csv'), index_col=0)\n",
    "print(word_dependent_features.head())"
   ]
  },
  {
   "cell_type": "markdown",
   "metadata": {
    "id": "J4vPK8xEteD7"
   },
   "source": [
    "## Generate Features"
   ]
  },
  {
   "cell_type": "code",
   "execution_count": 13,
   "metadata": {
    "colab": {
     "base_uri": "https://localhost:8080/"
=======
      "cell_type": "code",
      "metadata": {
        "id": "bAX2XE3OteEA"
      },
      "source": [
        "threshold = 0.5\n",
        "\n",
        "train_prediction_labels_svm = np.array(train_predictions_svm[:,1] > threshold, dtype=int)\n",
        "train_prediction_labels_rf = np.array(train_predictions_rf[:,1] > threshold, dtype=int)\n",
        "train_prediction_labels_mlp = np.array(train_predictions_mlp[:,1] > threshold, dtype=int)\n",
        "train_prediction_labels_ad = np.array(train_predictions_adaboost[:,1] > threshold, dtype=int)\n",
        "train_prediction_labels_nb = np.array(train_predictions_nb[:,1] > threshold, dtype=int)\n",
        "\n",
        "lsts = []\n",
        "for i in range(len(train_prediction_labels_svm)):\n",
        "    lsts.append(\n",
        "        [\n",
        "            train_prediction_labels_svm[i],\n",
        "            train_prediction_labels_rf[i],\n",
        "            # train_prediction_labels_mlp[i],\n",
        "            train_prediction_labels_ad[i],\n",
        "            # train_prediction_labels_nb[i]\n",
        "        ]\n",
        "    )\n",
        "\n",
        "y_train_pred = [ max(lst, key=lst.count) for lst in lsts]"
      ],
      "execution_count": 94,
      "outputs": []
>>>>>>> 0c51efe30d73d679b186eb47c6d84380d3c56426
    },
    "id": "QsgXtzLjteD7",
    "outputId": "59732992-b8ad-4eda-c05e-fd8f6559433b"
   },
   "outputs": [
    {
<<<<<<< HEAD
     "name": "stdout",
     "output_type": "stream",
     "text": [
      "   WD_F7     WD_F8     WD_F9    WD_F10  ...  TD_F3     TD_F4  TD_F5     TD_F6\n",
      "0     55  4.454545  0.763636  0.600000  ...      1  0.179592    0.0  0.012245\n",
      "1     18  5.111111  0.888889  0.611111  ...      2  0.163043    0.0  0.000000\n",
      "2     53  4.433962  0.830189  0.660377  ...      3  0.195745    0.0  0.012766\n",
      "3     20  4.000000  0.950000  0.800000  ...      1  0.212500    0.0  0.000000\n",
      "4    143  3.867133  0.601399  0.608392  ...     16  0.249548    0.0  0.018083\n",
      "\n",
      "[5 rows x 339 columns]\n",
      "(2000, 339)\n"
     ]
    }
   ],
   "source": [
    "features_list = [embedding_features, psychological_features, structural_features, syntactics_features, text_dependent_features, word_dependent_features]\n",
    "\n",
    "features = features_list.pop()\n",
    "for feature in features_list:\n",
    "  features = pd.merge(features, feature, left_on=['label', 'number'], right_on=['label', 'number'])\n",
    "\n",
    "print(features.head())\n",
    "print(features.shape)"
   ]
  },
  {
   "cell_type": "markdown",
   "metadata": {
    "id": "3kJV92-uteD8"
   },
   "source": [
    "## Split X, y "
   ]
  },
  {
   "cell_type": "code",
   "execution_count": 100,
   "metadata": {
    "id": "uP-X8UteteD8"
   },
   "outputs": [],
   "source": [
    "y = features['label']\n",
    "X = features.drop(['label', 'number'], axis=1)"
   ]
  },
  {
   "cell_type": "markdown",
   "metadata": {
    "id": "D6JT56jzteD8"
   },
   "source": [
    "## Normalize"
   ]
  },
  {
   "cell_type": "code",
   "execution_count": 101,
   "metadata": {
    "id": "E85P-1s1teD8"
   },
   "outputs": [],
   "source": [
    "scaler = StandardScaler()\n",
    "X = pd.DataFrame(scaler.fit_transform(X), columns=X.columns)"
   ]
  },
  {
   "cell_type": "markdown",
   "metadata": {
    "id": "Lg1epwHjteD-"
   },
   "source": [
    "## Feature Importance"
   ]
  },
  {
   "cell_type": "code",
   "execution_count": 103,
   "metadata": {
    "id": "3wETqZ_TteD-"
   },
   "outputs": [],
   "source": [
    "classifier = Classifier('Random Forest', n_estimator=300)\n",
    "classifier.fit(X, y)\n",
    "feature_importance = classifier.model.feature_importances_"
   ]
  },
  {
   "cell_type": "code",
   "execution_count": 73,
   "metadata": {
    "colab": {
     "base_uri": "https://localhost:8080/"
=======
      "cell_type": "code",
      "metadata": {
        "id": "lWd8bZRxteEA",
        "colab": {
          "base_uri": "https://localhost:8080/"
        },
        "outputId": "bdc74898-43b6-466a-d3fb-31d9e0ea079a"
      },
      "source": [
        "print(classification_report(y, y_train_pred))\n",
        "print(accuracy_score(y, y_train_pred))"
      ],
      "execution_count": 95,
      "outputs": [
        {
          "output_type": "stream",
          "name": "stdout",
          "text": [
            "              precision    recall  f1-score   support\n\n           0       0.87      0.91      0.89      1000\n           1       0.90      0.87      0.88      1000\n\n    accuracy                           0.89      2000\n   macro avg       0.89      0.89      0.89      2000\nweighted avg       0.89      0.89      0.89      2000\n\n0.8855\n"
          ]
        }
      ]
>>>>>>> 0c51efe30d73d679b186eb47c6d84380d3c56426
    },
    "id": "si03gmMg4bdL",
    "outputId": "713060e8-ca69-4bc7-fcb4-499ebb0f5b0d"
   },
   "outputs": [
    {
<<<<<<< HEAD
     "name": "stdout",
     "output_type": "stream",
     "text": [
      "Requirement already satisfied: matplotlib==3.1.3 in /usr/local/lib/python3.7/dist-packages (3.1.3)\n",
      "Requirement already satisfied: kiwisolver>=1.0.1 in /usr/local/lib/python3.7/dist-packages (from matplotlib==3.1.3) (1.3.1)\n",
      "Requirement already satisfied: numpy>=1.11 in /usr/local/lib/python3.7/dist-packages (from matplotlib==3.1.3) (1.20.2)\n",
      "Requirement already satisfied: python-dateutil>=2.1 in /usr/local/lib/python3.7/dist-packages (from matplotlib==3.1.3) (2.8.1)\n",
      "Requirement already satisfied: cycler>=0.10 in /usr/local/lib/python3.7/dist-packages (from matplotlib==3.1.3) (0.10.0)\n",
      "Requirement already satisfied: pyparsing!=2.0.4,!=2.1.2,!=2.1.6,>=2.0.1 in /usr/local/lib/python3.7/dist-packages (from matplotlib==3.1.3) (2.4.7)\n",
      "Requirement already satisfied: six>=1.5 in /usr/local/lib/python3.7/dist-packages (from python-dateutil>=2.1->matplotlib==3.1.3) (1.15.0)\n"
     ]
    }
   ],
   "source": [
    "pip install matplotlib==3.1.3"
   ]
  },
  {
   "cell_type": "code",
   "execution_count": 104,
   "metadata": {
    "colab": {
     "base_uri": "https://localhost:8080/",
     "height": 879
=======
      "cell_type": "code",
      "metadata": {
        "id": "lF5vifSXteEB"
      },
      "source": [
        "test_predictions_svm = rf.predict(X_test)\n",
        "test_predictions_rf = svm.predict(X_test)\n",
        "test_predictions_ad = adaboost.predict(X_test)\n",
        "test_predictions_nb = nb.predict(X_test)\n",
        "test_predictions_mlp = mlp.predict(X_test)\n",
        "\n",
        "test_prediction_labels_svm = np.array(test_predictions_svm[:,1] > threshold, dtype=int)\n",
        "test_prediction_labels_rf = np.array(test_predictions_rf[:,1] > threshold, dtype=int)\n",
        "test_prediction_labels_mlp = np.array(test_predictions_mlp[:,1] > threshold, dtype=int)\n",
        "test_prediction_labels_ad = np.array(test_predictions_ad[:,1] > threshold, dtype=int)\n",
        "test_prediction_labels_nb = np.array(test_predictions_nb[:,1] > threshold, dtype=int)\n",
        "\n",
        "lsts = []\n",
        "for i in range(len(test_prediction_labels_svm)):\n",
        "    lsts.append(\n",
        "        [\n",
        "            test_prediction_labels_svm[i],\n",
        "            test_prediction_labels_rf[i],\n",
        "            # test_prediction_labels_mlp[i],\n",
        "            test_prediction_labels_ad[i],\n",
        "            # test_prediction_labels_nb[i]\n",
        "        ]\n",
        "    )\n",
        "\n",
        "y_test_pred = [ max(lst, key=lst.count) for lst in lsts]"
      ],
      "execution_count": 90,
      "outputs": []
>>>>>>> 0c51efe30d73d679b186eb47c6d84380d3c56426
    },
    "id": "ea5sVQJoteD_",
    "outputId": "bcd4685b-d378-49eb-b6d7-5d7cdf42e395"
   },
   "outputs": [
    {
<<<<<<< HEAD
     "data": {
      "image/png": "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\n",
      "text/plain": [
       "<Figure size 720x1080 with 1 Axes>"
=======
      "cell_type": "code",
      "metadata": {
        "id": "jQtPypzQteEB",
        "colab": {
          "base_uri": "https://localhost:8080/"
        },
        "outputId": "44a8d25c-cd13-457d-d773-8c1135bc8430"
      },
      "source": [
        "print(classification_report(y_test, y_test_pred))\n",
        "print(accuracy_score(y_test, y_test_pred))"
      ],
      "execution_count": 91,
      "outputs": [
        {
          "output_type": "stream",
          "name": "stdout",
          "text": [
            "              precision    recall  f1-score   support\n\n           0       0.61      0.63      0.62       189\n           1       0.62      0.60      0.61       189\n\n    accuracy                           0.61       378\n   macro avg       0.61      0.61      0.61       378\nweighted avg       0.61      0.61      0.61       378\n\n0.6137566137566137\n"
          ]
        }
>>>>>>> 0c51efe30d73d679b186eb47c6d84380d3c56426
      ]
     },
     "metadata": {
      "needs_background": "light",
      "tags": []
     },
     "output_type": "display_data"
    }
   ],
   "source": [
    "utils.plot_feature_importance(feature_importance, X)"
   ]
  },
  {
   "cell_type": "code",
   "execution_count": 105,
   "metadata": {
    "id": "g6tZp_nb6ExF"
   },
   "outputs": [],
   "source": [
    "selected_features = feature_importance > 0.005"
   ]
  },
  {
   "cell_type": "code",
   "execution_count": 106,
   "metadata": {
    "colab": {
     "base_uri": "https://localhost:8080/"
    },
    "id": "RNFyY0QG63j4",
    "outputId": "0a0dc732-4f60-4e7f-ec52-1d6be9c80db9"
   },
   "outputs": [
    {
<<<<<<< HEAD
     "name": "stdout",
     "output_type": "stream",
     "text": [
      "(2000, 60)\n",
      "Index(['F0', 'F1', 'F6', 'F22', 'F23', 'F31', 'F35', 'F37', 'F39', 'F50',\n",
      "       'F51', 'F54', 'F56', 'F74', 'F102', 'F110', 'F115', 'F127', 'F130',\n",
      "       'F153', 'F158', 'F160', 'F162', 'F163', 'F172', 'F175', 'F180', 'F181',\n",
      "       'F187', 'F188', 'F196', 'F199', 'F205', 'F207', 'F208', 'F217', 'F228',\n",
      "       'F231', 'F235', 'F236', 'F240', 'F242', 'F244', 'F245', 'F255', 'F267',\n",
      "       'F271', 'F273', 'F280', 'F283', 'F284', 'F291', 'F292', 'F294',\n",
      "       'PSY_F37', 'STR_F25', 'STR_F29', 'SYN_F20', 'TD_F1', 'TD_F4'],\n",
      "      dtype='object')\n"
     ]
    }
   ],
   "source": [
    "X = X.T[selected_features].T\n",
    "print(X.shape)\n",
    "print(X.columns)"
   ]
  },
  {
   "cell_type": "markdown",
   "metadata": {
    "id": "S_pJyXr5teD8"
   },
   "source": [
    "## Classification"
   ]
  },
  {
   "cell_type": "markdown",
   "metadata": {
    "id": "HqoXmIoJree8"
   },
   "source": [
    "### We decide to use SVM as our final model due to better performance and less variation."
   ]
  },
  {
   "cell_type": "code",
   "execution_count": 107,
   "metadata": {
    "colab": {
     "base_uri": "https://localhost:8080/"
=======
      "cell_type": "code",
      "metadata": {
        "id": "u8hL7X1FteEC"
      },
      "source": [],
      "execution_count": null,
      "outputs": []
    },
    {
      "cell_type": "code",
      "metadata": {
        "id": "2feKHbB6teEC"
      },
      "source": [],
      "execution_count": null,
      "outputs": []
    },
    {
      "cell_type": "code",
      "metadata": {
        "id": "KOrQGpucteEC"
      },
      "source": [],
      "execution_count": null,
      "outputs": []
    },
    {
      "cell_type": "code",
      "metadata": {
        "id": "7JFEA39FteEC"
      },
      "source": [],
      "execution_count": null,
      "outputs": []
>>>>>>> 0c51efe30d73d679b186eb47c6d84380d3c56426
    },
    "id": "1Z6fhzXeteD9",
    "outputId": "7b1dac1c-b103-4f39-cc42-3066e575218c"
   },
   "outputs": [
    {
<<<<<<< HEAD
     "name": "stdout",
     "output_type": "stream",
     "text": [
      "| index     |    Fold1 |    Fold2 |    Fold3 |    Fold4 |    Fold5 |    Fold6 |    Fold7 |    Fold8 |    Fold9 |   Fold10 |     mean |\n",
      "|:----------|---------:|---------:|---------:|---------:|---------:|---------:|---------:|---------:|---------:|---------:|---------:|\n",
      "| precision | 0.623656 | 0.666667 | 0.586538 | 0.547368 | 0.655556 | 0.642857 | 0.61     | 0.584906 | 0.580952 | 0.694737 | 0.619324 |\n",
      "| recall    | 0.574257 | 0.686869 | 0.592233 | 0.611765 | 0.572816 | 0.567568 | 0.642105 | 0.659574 | 0.701149 | 0.589286 | 0.619762 |\n",
      "| f1        | 0.597938 | 0.676617 | 0.589372 | 0.577778 | 0.611399 | 0.602871 | 0.625641 | 0.62     | 0.635417 | 0.637681 | 0.617471 |\n",
      "| accuracy  | 0.61     | 0.675    | 0.575    | 0.62     | 0.625    | 0.585    | 0.635    | 0.62     | 0.65     | 0.625    | 0.622    |\n"
     ]
    }
   ],
   "source": [
    "classifier = Classifier('Random Forest', n_estimator=300, max_depth=10)\n",
    "classifier.train(X, y, n_folds=10)"
   ]
  },
  {
   "cell_type": "code",
   "execution_count": 108,
   "metadata": {
    "colab": {
     "base_uri": "https://localhost:8080/"
=======
      "cell_type": "code",
      "metadata": {
        "id": "PrFv-IghteEC"
      },
      "source": [],
      "execution_count": null,
      "outputs": []
>>>>>>> 0c51efe30d73d679b186eb47c6d84380d3c56426
    },
    "id": "oC4fC4NuteD9",
    "outputId": "77075dad-d570-487e-b8c5-4769b695a830"
   },
   "outputs": [
    {
<<<<<<< HEAD
     "name": "stdout",
     "output_type": "stream",
     "text": [
      "| index     |    Fold1 |    Fold2 |    Fold3 |    Fold4 |    Fold5 |    Fold6 |    Fold7 |    Fold8 |    Fold9 |   Fold10 |     mean |\n",
      "|:----------|---------:|---------:|---------:|---------:|---------:|---------:|---------:|---------:|---------:|---------:|---------:|\n",
      "| precision | 0.633333 | 0.659574 | 0.608247 | 0.5      | 0.643564 | 0.653061 | 0.618557 | 0.592593 | 0.548077 | 0.690722 | 0.614773 |\n",
      "| recall    | 0.564356 | 0.626263 | 0.572816 | 0.529412 | 0.631068 | 0.576577 | 0.631579 | 0.680851 | 0.655172 | 0.598214 | 0.606631 |\n",
      "| f1        | 0.596859 | 0.642487 | 0.59     | 0.514286 | 0.637255 | 0.61244  | 0.625    | 0.633663 | 0.596859 | 0.641148 | 0.609    |\n",
      "| accuracy  | 0.615    | 0.655    | 0.59     | 0.575    | 0.63     | 0.595    | 0.64     | 0.63     | 0.615    | 0.625    | 0.617    |\n"
     ]
    }
   ],
   "source": [
    "classifier = Classifier('SVM' , kernel='rbf', gamma='scale')\n",
    "classifier.train(X, y, n_folds=10)"
   ]
  },
  {
   "cell_type": "code",
   "execution_count": 109,
   "metadata": {
    "colab": {
     "base_uri": "https://localhost:8080/"
=======
      "cell_type": "code",
      "metadata": {
        "id": "ackGLlcFteEC"
      },
      "source": [],
      "execution_count": null,
      "outputs": []
>>>>>>> 0c51efe30d73d679b186eb47c6d84380d3c56426
    },
    "id": "Mrj6pdksteD9",
    "outputId": "84f05569-7cae-4c77-8f29-2c0104801ea1"
   },
   "outputs": [
    {
<<<<<<< HEAD
     "name": "stdout",
     "output_type": "stream",
     "text": [
      "| index     |    Fold1 |    Fold2 |    Fold3 |    Fold4 |    Fold5 |    Fold6 |    Fold7 |    Fold8 |    Fold9 |   Fold10 |     mean |\n",
      "|:----------|---------:|---------:|---------:|---------:|---------:|---------:|---------:|---------:|---------:|---------:|---------:|\n",
      "| precision | 0.555556 | 0.612903 | 0.613636 | 0.5      | 0.62766  | 0.663551 | 0.590909 | 0.565657 | 0.516484 | 0.618557 | 0.586491 |\n",
      "| recall    | 0.544554 | 0.575758 | 0.524272 | 0.670588 | 0.572816 | 0.63964  | 0.547368 | 0.595745 | 0.54023  | 0.535714 | 0.574668 |\n",
      "| f1        | 0.55     | 0.59375  | 0.565445 | 0.572864 | 0.598985 | 0.651376 | 0.568306 | 0.580311 | 0.52809  | 0.574163 | 0.578329 |\n",
      "| accuracy  | 0.55     | 0.61     | 0.585    | 0.575    | 0.605    | 0.62     | 0.605    | 0.595    | 0.58     | 0.555    | 0.588    |\n"
     ]
    }
   ],
   "source": [
    "classifier = Classifier('MLP', max_iter=1200 , hidden_layer_sizes=(32,4,), activation='relu', solver='adam')\n",
    "classifier.train(X, y, n_folds=10)"
   ]
  },
  {
   "cell_type": "code",
   "execution_count": 110,
   "metadata": {
    "colab": {
     "base_uri": "https://localhost:8080/"
=======
      "cell_type": "code",
      "metadata": {
        "id": "1EuoTcs8teEC"
      },
      "source": [],
      "execution_count": null,
      "outputs": []
>>>>>>> 0c51efe30d73d679b186eb47c6d84380d3c56426
    },
    "id": "A4VvPcPpteD-",
    "outputId": "3bbad194-8e1e-4266-e9b1-9798028e457c"
   },
   "outputs": [
    {
<<<<<<< HEAD
     "name": "stdout",
     "output_type": "stream",
     "text": [
      "| index     |    Fold1 |    Fold2 |    Fold3 |    Fold4 |    Fold5 |    Fold6 |    Fold7 |    Fold8 |    Fold9 |   Fold10 |     mean |\n",
      "|:----------|---------:|---------:|---------:|---------:|---------:|---------:|---------:|---------:|---------:|---------:|---------:|\n",
      "| precision | 0.615385 | 0.661017 | 0.531915 | 0.391304 | 0.728814 | 0.677419 | 0.603774 | 0.583333 | 0.40678  | 0.648148 | 0.584789 |\n",
      "| recall    | 0.39604  | 0.393939 | 0.242718 | 0.211765 | 0.417476 | 0.378378 | 0.336842 | 0.446809 | 0.275862 | 0.3125   | 0.341233 |\n",
      "| f1        | 0.481928 | 0.493671 | 0.333333 | 0.274809 | 0.530864 | 0.485549 | 0.432432 | 0.506024 | 0.328767 | 0.421687 | 0.428906 |\n",
      "| accuracy  | 0.57     | 0.6      | 0.5      | 0.525    | 0.62     | 0.555    | 0.58     | 0.59     | 0.51     | 0.52     | 0.557    |\n"
     ]
    }
   ],
   "source": [
    "classifier = Classifier('Naive Bayes')\n",
    "classifier.train(X, y, n_folds=10)"
   ]
  },
  {
   "cell_type": "code",
   "execution_count": 111,
   "metadata": {
    "colab": {
     "base_uri": "https://localhost:8080/"
=======
      "cell_type": "code",
      "metadata": {
        "id": "hT4gfxR7teED"
      },
      "source": [],
      "execution_count": null,
      "outputs": []
>>>>>>> 0c51efe30d73d679b186eb47c6d84380d3c56426
    },
    "id": "J5yNjy1zteD-",
    "outputId": "1ad63066-f48f-4bdf-b396-a85893fa1d45"
   },
   "outputs": [
    {
<<<<<<< HEAD
     "name": "stdout",
     "output_type": "stream",
     "text": [
      "| index     |    Fold1 |    Fold2 |    Fold3 |    Fold4 |    Fold5 |    Fold6 |    Fold7 |    Fold8 |    Fold9 |   Fold10 |     mean |\n",
      "|:----------|---------:|---------:|---------:|---------:|---------:|---------:|---------:|---------:|---------:|---------:|---------:|\n",
      "| precision | 0.627907 | 0.650485 | 0.596154 | 0.576471 | 0.601942 | 0.616071 | 0.568627 | 0.564356 | 0.536842 | 0.673684 | 0.601254 |\n",
      "| recall    | 0.534653 | 0.676768 | 0.601942 | 0.576471 | 0.601942 | 0.621622 | 0.610526 | 0.606383 | 0.586207 | 0.571429 | 0.598794 |\n",
      "| f1        | 0.57754  | 0.663366 | 0.599034 | 0.576471 | 0.601942 | 0.618834 | 0.588832 | 0.584615 | 0.56044  | 0.618357 | 0.598943 |\n",
      "| accuracy  | 0.605    | 0.66     | 0.585    | 0.64     | 0.59     | 0.575    | 0.595    | 0.595    | 0.6      | 0.605    | 0.605    |\n"
     ]
    }
   ],
   "source": [
    "classifier = Classifier('Ada Boost', n_estimators= 120, learning_rate= 0.5)\n",
    "classifier.train(X, y, n_folds=10)"
   ]
  },
  {
   "cell_type": "markdown",
   "metadata": {
    "id": "0NrrfSvvteD_"
   },
   "source": [
    "## Split Train and Test"
   ]
  },
  {
   "cell_type": "markdown",
   "metadata": {
    "id": "D4sDG0pgrLIT"
   },
   "source": [
    "## Explorary Idea: Use ensenble idea on all sklearn models and suggest label with maximum occurance."
   ]
  },
  {
   "cell_type": "code",
   "execution_count": 112,
   "metadata": {
    "id": "0AM1UR0EteD_"
   },
   "outputs": [],
   "source": [
    "from sklearn.model_selection import train_test_split\n",
    "\n",
    "X_train, X_test, y_train, y_test = train_test_split(X, y, test_size=0.2, random_state=2, shuffle=True)"
   ]
  },
  {
   "cell_type": "code",
   "execution_count": 113,
   "metadata": {
    "id": "k523GsbWteD_"
   },
   "outputs": [],
   "source": [
    "svm = Classifier('SVM' , kernel='rbf', gamma='auto', probability=True)\n",
    "train_predictions_svm = svm.fit(X_train, y_train)"
   ]
  },
  {
   "cell_type": "code",
   "execution_count": 114,
   "metadata": {
    "id": "SEejxFjbteEA"
   },
   "outputs": [],
   "source": [
    "rf = Classifier('Random Forest', n_estimator=200, max_depth=10)\n",
    "train_predictions_rf = rf.fit(X_train, y_train)"
   ]
  },
  {
   "cell_type": "code",
   "execution_count": 115,
   "metadata": {
    "id": "5itbSJxYteEA"
   },
   "outputs": [],
   "source": [
    "mlp = Classifier('MLP', max_iter=1200 , hidden_layer_sizes=(32, 4,), activation='relu', solver='adam')\n",
    "train_predictions_mlp = mlp.fit(X_train, y_train)"
   ]
  },
  {
   "cell_type": "code",
   "execution_count": 116,
   "metadata": {
    "id": "BOKWUBW2teEA"
   },
   "outputs": [],
   "source": [
    "adaboost = Classifier('Ada Boost', n_estimators= 120, learning_rate= 0.5)\n",
    "train_predictions_adaboost = adaboost.fit(X_train, y_train)"
   ]
  },
  {
   "cell_type": "code",
   "execution_count": 117,
   "metadata": {
    "id": "edDTrcSOteEA"
   },
   "outputs": [],
   "source": [
    "nb = Classifier('Naive Bayes')\n",
    "train_predictions_nb = nb.fit(X_train, y_train)"
   ]
  },
  {
   "cell_type": "code",
   "execution_count": 118,
   "metadata": {
    "id": "bAX2XE3OteEA"
   },
   "outputs": [],
   "source": [
    "threshold = 0.5\n",
    "\n",
    "train_prediction_labels_svm = np.array(train_predictions_svm[:,1] > threshold, dtype=int)\n",
    "train_prediction_labels_rf = np.array(train_predictions_rf[:,1] > threshold, dtype=int)\n",
    "train_prediction_labels_mlp = np.array(train_predictions_mlp[:,1] > threshold, dtype=int)\n",
    "train_prediction_labels_ad = np.array(train_predictions_adaboost[:,1] > threshold, dtype=int)\n",
    "train_prediction_labels_nb = np.array(train_predictions_nb[:,1] > threshold, dtype=int)\n",
    "\n",
    "lsts = []\n",
    "for i in range(len(train_prediction_labels_svm)):\n",
    "    lsts.append(\n",
    "        [\n",
    "            train_prediction_labels_svm[i],\n",
    "            train_prediction_labels_rf[i],\n",
    "            train_prediction_labels_mlp[i],\n",
    "            train_prediction_labels_ad[i],\n",
    "            train_prediction_labels_nb[i]\n",
    "        ]\n",
    "    )\n",
    "\n",
    "y_train_pred = [ max(lst, key=lst.count) for lst in lsts]"
   ]
  },
  {
   "cell_type": "code",
   "execution_count": 119,
   "metadata": {
    "colab": {
     "base_uri": "https://localhost:8080/"
=======
      "cell_type": "code",
      "metadata": {
        "id": "t0VXMgeTteED"
      },
      "source": [],
      "execution_count": null,
      "outputs": []
>>>>>>> 0c51efe30d73d679b186eb47c6d84380d3c56426
    },
    "id": "lWd8bZRxteEA",
    "outputId": "1e340d25-a52a-4c43-c47e-379b30abd51d"
   },
   "outputs": [
    {
<<<<<<< HEAD
     "name": "stdout",
     "output_type": "stream",
     "text": [
      "              precision    recall  f1-score   support\n",
      "\n",
      "           0       0.84      0.96      0.90       818\n",
      "           1       0.95      0.81      0.88       782\n",
      "\n",
      "    accuracy                           0.89      1600\n",
      "   macro avg       0.90      0.89      0.89      1600\n",
      "weighted avg       0.90      0.89      0.89      1600\n",
      "\n",
      "0.888125\n"
     ]
    }
   ],
   "source": [
    "from sklearn.metrics import classification_report, accuracy_score\n",
    "print(classification_report(y_train, y_train_pred))\n",
    "print(accuracy_score(y_train, y_train_pred))"
   ]
  },
  {
   "cell_type": "code",
   "execution_count": 120,
   "metadata": {
    "id": "lF5vifSXteEB"
   },
   "outputs": [],
   "source": [
    "test_predictions_svm = rf.predict(X_test)\n",
    "test_predictions_rf = svm.predict(X_test)\n",
    "test_predictions_ad = adaboost.predict(X_test)\n",
    "test_predictions_nb = nb.predict(X_test)\n",
    "test_predictions_mlp = mlp.predict(X_test)\n",
    "\n",
    "test_prediction_labels_svm = np.array(test_predictions_svm[:,1] > threshold, dtype=int)\n",
    "test_prediction_labels_rf = np.array(test_predictions_rf[:,1] > threshold, dtype=int)\n",
    "test_prediction_labels_mlp = np.array(test_predictions_mlp[:,1] > threshold, dtype=int)\n",
    "test_prediction_labels_ad = np.array(test_predictions_ad[:,1] > threshold, dtype=int)\n",
    "test_prediction_labels_nb = np.array(test_predictions_nb[:,1] > threshold, dtype=int)\n",
    "\n",
    "lsts = []\n",
    "for i in range(len(test_prediction_labels_svm)):\n",
    "    lsts.append(\n",
    "        [\n",
    "            test_prediction_labels_svm[i],\n",
    "            test_prediction_labels_rf[i],\n",
    "            test_prediction_labels_mlp[i],\n",
    "            test_prediction_labels_ad[i],\n",
    "            test_prediction_labels_nb[i]\n",
    "        ]\n",
    "    )\n",
    "\n",
    "y_test_pred = [ max(lst, key=lst.count) for lst in lsts]"
   ]
  },
  {
   "cell_type": "code",
   "execution_count": 121,
   "metadata": {
    "colab": {
     "base_uri": "https://localhost:8080/"
=======
      "cell_type": "code",
      "metadata": {
        "id": "lsURbYDLteED"
      },
      "source": [],
      "execution_count": null,
      "outputs": []
>>>>>>> 0c51efe30d73d679b186eb47c6d84380d3c56426
    },
    "id": "jQtPypzQteEB",
    "outputId": "231d790a-a21c-4a0c-c10d-c64797963fd4"
   },
   "outputs": [
    {
<<<<<<< HEAD
     "name": "stdout",
     "output_type": "stream",
     "text": [
      "              precision    recall  f1-score   support\n",
      "\n",
      "           0       0.55      0.71      0.62       182\n",
      "           1       0.68      0.52      0.59       218\n",
      "\n",
      "    accuracy                           0.61       400\n",
      "   macro avg       0.62      0.62      0.61       400\n",
      "weighted avg       0.62      0.61      0.61       400\n",
      "\n",
      "0.6075\n"
     ]
=======
      "cell_type": "code",
      "metadata": {
        "id": "qGlArY9BteEF"
      },
      "source": [],
      "execution_count": null,
      "outputs": []
>>>>>>> 0c51efe30d73d679b186eb47c6d84380d3c56426
    }
   ],
   "source": [
    "print(classification_report(y_test, y_test_pred))\n",
    "print(accuracy_score(y_test, y_test_pred))"
   ]
  },
  {
   "cell_type": "code",
   "execution_count": 121,
   "metadata": {
    "id": "uNxkHGM2teEB"
   },
   "outputs": [],
   "source": []
  },
  {
   "cell_type": "code",
   "execution_count": 91,
   "metadata": {
    "id": "Z7spGfC_teEC"
   },
   "outputs": [],
   "source": []
  },
  {
   "cell_type": "code",
   "execution_count": null,
   "metadata": {
    "id": "u8hL7X1FteEC"
   },
   "outputs": [],
   "source": []
  },
  {
   "cell_type": "code",
   "execution_count": null,
   "metadata": {
    "id": "2feKHbB6teEC"
   },
   "outputs": [],
   "source": []
  },
  {
   "cell_type": "code",
   "execution_count": null,
   "metadata": {
    "id": "KOrQGpucteEC"
   },
   "outputs": [],
   "source": []
  },
  {
   "cell_type": "code",
   "execution_count": null,
   "metadata": {
    "id": "7JFEA39FteEC"
   },
   "outputs": [],
   "source": []
  },
  {
   "cell_type": "code",
   "execution_count": null,
   "metadata": {
    "id": "PrFv-IghteEC"
   },
   "outputs": [],
   "source": []
  },
  {
   "cell_type": "code",
   "execution_count": null,
   "metadata": {
    "id": "ackGLlcFteEC"
   },
   "outputs": [],
   "source": []
  },
  {
   "cell_type": "code",
   "execution_count": null,
   "metadata": {
    "id": "1EuoTcs8teEC"
   },
   "outputs": [],
   "source": []
  },
  {
   "cell_type": "code",
   "execution_count": null,
   "metadata": {
    "id": "hT4gfxR7teED"
   },
   "outputs": [],
   "source": []
  },
  {
   "cell_type": "code",
   "execution_count": null,
   "metadata": {
    "id": "t0VXMgeTteED"
   },
   "outputs": [],
   "source": []
  },
  {
   "cell_type": "code",
   "execution_count": null,
   "metadata": {
    "id": "lsURbYDLteED"
   },
   "outputs": [],
   "source": []
  },
  {
   "cell_type": "code",
   "execution_count": null,
   "metadata": {
    "id": "qGlArY9BteEF"
   },
   "outputs": [],
   "source": []
  }
 ],
 "metadata": {
  "colab": {
   "name": "gender_recognition.ipynb",
   "provenance": []
  },
  "kernelspec": {
   "display_name": "Python 3",
   "language": "python",
   "name": "python3"
  },
  "language_info": {
   "codemirror_mode": {
    "name": "ipython",
    "version": 3
   },
   "file_extension": ".py",
   "mimetype": "text/x-python",
   "name": "python",
   "nbconvert_exporter": "python",
   "pygments_lexer": "ipython3",
   "version": "3.8.5"
  }
 },
 "nbformat": 4,
 "nbformat_minor": 1
}
