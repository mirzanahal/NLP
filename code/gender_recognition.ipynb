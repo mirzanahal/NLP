{
  "nbformat": 4,
  "nbformat_minor": 0,
  "metadata": {
    "kernelspec": {
      "display_name": "Python 3",
      "language": "python",
      "name": "python3"
    },
    "language_info": {
      "codemirror_mode": {
        "name": "ipython",
        "version": 3
      },
      "file_extension": ".py",
      "mimetype": "text/x-python",
      "name": "python",
      "nbconvert_exporter": "python",
      "pygments_lexer": "ipython3",
      "version": "3.8.5-final"
    },
    "colab": {
      "name": "gender_recognition.ipynb",
      "provenance": []
    }
  },
  "cells": [
    {
      "cell_type": "markdown",
      "metadata": {
        "id": "XJO9r_BjteDx"
      },
      "source": [
        "# NLP (HW1)\n",
        "## Persian Gender Recognition\n",
        "## Authors: Nahal Mirzaie, Tahere Talaie\n",
        "### Spring 1400"
      ]
    },
    {
      "cell_type": "markdown",
      "metadata": {
        "id": "DhAVD-TFteD3"
      },
      "source": [
        "## Connect to Google Drive"
      ]
    },
    {
      "cell_type": "code",
      "metadata": {
        "id": "hjBEjfOcteD3",
        "colab": {
          "base_uri": "https://localhost:8080/"
        },
        "outputId": "1f601e44-7406-4776-d1ee-3dfda355ed6f"
      },
      "source": [
        "from google.colab import drive\n",
        "drive.mount('/content/drive')\n",
        "%cd drive/MyDrive"
      ],
      "execution_count": null,
      "outputs": [
        {
          "output_type": "stream",
          "text": [
            "Mounted at /content/drive\n"
          ],
          "name": "stdout"
        }
      ]
    },
    {
      "cell_type": "markdown",
      "metadata": {
        "id": "4nbo9p52teD4"
      },
      "source": [
        "### Clone Project from Github"
      ]
    },
    {
      "cell_type": "code",
      "metadata": {
        "id": "mxsnvI1ZteD4",
        "colab": {
          "base_uri": "https://localhost:8080/"
        },
        "outputId": "5a5ab475-b6eb-4c71-90b1-8b8aad06e5bc"
      },
      "source": [
        "!git clone 'https://github.com/mirzanahal/Persian-Gender-Recognition'"
      ],
      "execution_count": 1,
      "outputs": [
        {
          "output_type": "stream",
          "text": [
            "Cloning into 'Persian-Gender-Recognition'...\n",
            "remote: Enumerating objects: 2180, done.\u001b[K\n",
            "remote: Counting objects: 100% (2180/2180), done.\u001b[K\n",
            "remote: Compressing objects: 100% (2098/2098), done.\u001b[K\n",
            "remote: Total 2180 (delta 110), reused 2115 (delta 55), pack-reused 0\u001b[K\n",
            "Receiving objects: 100% (2180/2180), 30.24 MiB | 20.88 MiB/s, done.\n",
            "Resolving deltas: 100% (110/110), done.\n"
          ],
          "name": "stdout"
        }
      ]
    },
    {
      "cell_type": "markdown",
      "metadata": {
        "id": "6AQPq2m7teD4"
      },
      "source": [
        "### Install Requirement"
      ]
    },
    {
      "cell_type": "code",
      "metadata": {
        "id": "fstL7IN1teD4",
        "colab": {
          "base_uri": "https://localhost:8080/",
          "height": 1000
        },
        "outputId": "ef30d0c0-a94f-4b16-f396-8a61800d3cab"
      },
      "source": [
        "!pip install -r Persian-Gender-Recognition/requirement.txt"
      ],
      "execution_count": 2,
      "outputs": [
        {
          "output_type": "stream",
          "text": [
            "Collecting appnope==0.1.2\n",
            "  Downloading https://files.pythonhosted.org/packages/e4/fa/0c6c9786aa6927d12d100d322588e125e6ed466ab0a3d2d509ea18aeb56d/appnope-0.1.2-py2.py3-none-any.whl\n",
            "Requirement already satisfied: backcall==0.2.0 in /usr/local/lib/python3.7/dist-packages (from -r Persian-Gender-Recognition/requirement.txt (line 2)) (0.2.0)\n",
            "Requirement already satisfied: certifi==2020.12.5 in /usr/local/lib/python3.7/dist-packages (from -r Persian-Gender-Recognition/requirement.txt (line 3)) (2020.12.5)\n",
            "Collecting chardet==4.0.0\n",
            "\u001b[?25l  Downloading https://files.pythonhosted.org/packages/19/c7/fa589626997dd07bd87d9269342ccb74b1720384a4d739a1872bd84fbe68/chardet-4.0.0-py2.py3-none-any.whl (178kB)\n",
            "\r\u001b[K     |█▉                              | 10kB 21.4MB/s eta 0:00:01\r\u001b[K     |███▋                            | 20kB 27.0MB/s eta 0:00:01\r\u001b[K     |█████▌                          | 30kB 20.6MB/s eta 0:00:01\r\u001b[K     |███████▎                        | 40kB 18.7MB/s eta 0:00:01\r\u001b[K     |█████████▏                      | 51kB 20.1MB/s eta 0:00:01\r\u001b[K     |███████████                     | 61kB 15.5MB/s eta 0:00:01\r\u001b[K     |████████████▉                   | 71kB 15.7MB/s eta 0:00:01\r\u001b[K     |██████████████▋                 | 81kB 14.7MB/s eta 0:00:01\r\u001b[K     |████████████████▌               | 92kB 15.9MB/s eta 0:00:01\r\u001b[K     |██████████████████▎             | 102kB 13.4MB/s eta 0:00:01\r\u001b[K     |████████████████████▏           | 112kB 13.4MB/s eta 0:00:01\r\u001b[K     |██████████████████████          | 122kB 13.4MB/s eta 0:00:01\r\u001b[K     |███████████████████████▉        | 133kB 13.4MB/s eta 0:00:01\r\u001b[K     |█████████████████████████▋      | 143kB 13.4MB/s eta 0:00:01\r\u001b[K     |███████████████████████████▌    | 153kB 13.4MB/s eta 0:00:01\r\u001b[K     |█████████████████████████████▎  | 163kB 13.4MB/s eta 0:00:01\r\u001b[K     |███████████████████████████████▏| 174kB 13.4MB/s eta 0:00:01\r\u001b[K     |████████████████████████████████| 184kB 13.4MB/s \n",
            "\u001b[?25hRequirement already satisfied: cycler==0.10.0 in /usr/local/lib/python3.7/dist-packages (from -r Persian-Gender-Recognition/requirement.txt (line 5)) (0.10.0)\n",
            "Requirement already satisfied: decorator==4.4.2 in /usr/local/lib/python3.7/dist-packages (from -r Persian-Gender-Recognition/requirement.txt (line 6)) (4.4.2)\n",
            "Collecting fasttext==0.9.2\n",
            "\u001b[?25l  Downloading https://files.pythonhosted.org/packages/f8/85/e2b368ab6d3528827b147fdb814f8189acc981a4bc2f99ab894650e05c40/fasttext-0.9.2.tar.gz (68kB)\n",
            "\u001b[K     |████████████████████████████████| 71kB 6.8MB/s \n",
            "\u001b[?25hCollecting hazm==0.7.0\n",
            "\u001b[?25l  Downloading https://files.pythonhosted.org/packages/22/13/5a7074bc11d20dbbb46239349ac3f85f7edc148b4cf68e9b8c2f8263830c/hazm-0.7.0-py3-none-any.whl (316kB)\n",
            "\u001b[K     |████████████████████████████████| 317kB 51.0MB/s \n",
            "\u001b[?25hRequirement already satisfied: idna==2.10 in /usr/local/lib/python3.7/dist-packages (from -r Persian-Gender-Recognition/requirement.txt (line 9)) (2.10)\n",
            "Collecting ipykernel==5.5.0\n",
            "\u001b[?25l  Downloading https://files.pythonhosted.org/packages/56/95/3a670c8b2c2370bd8631c313f42e60983b3113ffec4035940592252bd6d5/ipykernel-5.5.0-py3-none-any.whl (120kB)\n",
            "\u001b[K     |████████████████████████████████| 122kB 43.8MB/s \n",
            "\u001b[?25hCollecting ipython==7.21.0\n",
            "\u001b[?25l  Downloading https://files.pythonhosted.org/packages/3b/43/6dbd0610550708fc418ad027fda97b5f415da9053749641654fdacfec93f/ipython-7.21.0-py3-none-any.whl (784kB)\n",
            "\u001b[K     |████████████████████████████████| 788kB 53.2MB/s \n",
            "\u001b[?25hRequirement already satisfied: ipython-genutils==0.2.0 in /usr/local/lib/python3.7/dist-packages (from -r Persian-Gender-Recognition/requirement.txt (line 12)) (0.2.0)\n",
            "Requirement already satisfied: jedi==0.18.0 in /usr/local/lib/python3.7/dist-packages (from -r Persian-Gender-Recognition/requirement.txt (line 13)) (0.18.0)\n",
            "Requirement already satisfied: joblib==1.0.1 in /usr/local/lib/python3.7/dist-packages (from -r Persian-Gender-Recognition/requirement.txt (line 14)) (1.0.1)\n",
            "Collecting jupyter-client==6.1.12\n",
            "\u001b[?25l  Downloading https://files.pythonhosted.org/packages/77/e8/c3cf72a32a697256608d5fa96360c431adec6e1c6709ba7f13f99ff5ee04/jupyter_client-6.1.12-py3-none-any.whl (112kB)\n",
            "\u001b[K     |████████████████████████████████| 122kB 46.8MB/s \n",
            "\u001b[?25hRequirement already satisfied: jupyter-core==4.7.1 in /usr/local/lib/python3.7/dist-packages (from -r Persian-Gender-Recognition/requirement.txt (line 16)) (4.7.1)\n",
            "Requirement already satisfied: kiwisolver==1.3.1 in /usr/local/lib/python3.7/dist-packages (from -r Persian-Gender-Recognition/requirement.txt (line 17)) (1.3.1)\n",
            "Collecting libwapiti==0.2.1\n",
            "\u001b[?25l  Downloading https://files.pythonhosted.org/packages/bc/0f/1c9b49bb49821b5856a64ea6fac8d96a619b9f291d1f06999ea98a32c89c/libwapiti-0.2.1.tar.gz (233kB)\n",
            "\u001b[K     |████████████████████████████████| 235kB 46.8MB/s \n",
            "\u001b[?25hCollecting matplotlib==3.4.0\n",
            "\u001b[?25l  Downloading https://files.pythonhosted.org/packages/83/ee/8d7e0149ecf95fae7e744c5a93f51a8c9f7a96c63691d10aed6d2c1d8735/matplotlib-3.4.0-cp37-cp37m-manylinux1_x86_64.whl (10.3MB)\n",
            "\u001b[K     |████████████████████████████████| 10.3MB 45.6MB/s \n",
            "\u001b[?25hCollecting nltk==3.3\n",
            "\u001b[?25l  Downloading https://files.pythonhosted.org/packages/50/09/3b1755d528ad9156ee7243d52aa5cd2b809ef053a0f31b53d92853dd653a/nltk-3.3.0.zip (1.4MB)\n",
            "\u001b[K     |████████████████████████████████| 1.4MB 52.0MB/s \n",
            "\u001b[?25hCollecting numpy==1.20.2\n",
            "\u001b[?25l  Downloading https://files.pythonhosted.org/packages/73/ef/8967d406f3f85018ceb5efab50431e901683188f1741ceb053efcab26c87/numpy-1.20.2-cp37-cp37m-manylinux2010_x86_64.whl (15.3MB)\n",
            "\u001b[K     |████████████████████████████████| 15.3MB 250kB/s \n",
            "\u001b[?25hCollecting pandas==1.2.3\n",
            "\u001b[?25l  Downloading https://files.pythonhosted.org/packages/f3/d4/3fe3b5bf9886912b64ef040040aec356fa48825e5a829a84c2667afdf952/pandas-1.2.3-cp37-cp37m-manylinux1_x86_64.whl (9.9MB)\n",
            "\u001b[K     |████████████████████████████████| 9.9MB 202kB/s \n",
            "\u001b[?25hRequirement already satisfied: parso==0.8.1 in /usr/local/lib/python3.7/dist-packages (from -r Persian-Gender-Recognition/requirement.txt (line 23)) (0.8.1)\n",
            "Requirement already satisfied: pexpect==4.8.0 in /usr/local/lib/python3.7/dist-packages (from -r Persian-Gender-Recognition/requirement.txt (line 24)) (4.8.0)\n",
            "Requirement already satisfied: pickleshare==0.7.5 in /usr/local/lib/python3.7/dist-packages (from -r Persian-Gender-Recognition/requirement.txt (line 25)) (0.7.5)\n",
            "Collecting Pillow==8.1.2\n",
            "\u001b[?25l  Downloading https://files.pythonhosted.org/packages/1f/6d/b719ae8e21660a6a962636896dc4b7d657ef451a3ab941516401846ac5cb/Pillow-8.1.2-cp37-cp37m-manylinux1_x86_64.whl (2.2MB)\n",
            "\u001b[K     |████████████████████████████████| 2.2MB 40.0MB/s \n",
            "\u001b[?25hCollecting prompt-toolkit==3.0.18\n",
            "\u001b[?25l  Downloading https://files.pythonhosted.org/packages/eb/e6/4b4ca4fa94462d4560ba2f4e62e62108ab07be2e16a92e594e43b12d3300/prompt_toolkit-3.0.18-py3-none-any.whl (367kB)\n",
            "\u001b[K     |████████████████████████████████| 368kB 38.5MB/s \n",
            "\u001b[?25hRequirement already satisfied: ptyprocess==0.7.0 in /usr/local/lib/python3.7/dist-packages (from -r Persian-Gender-Recognition/requirement.txt (line 28)) (0.7.0)\n",
            "Requirement already satisfied: pybind11==2.6.2 in /usr/local/lib/python3.7/dist-packages (from -r Persian-Gender-Recognition/requirement.txt (line 29)) (2.6.2)\n",
            "Collecting Pygments==2.8.1\n",
            "\u001b[?25l  Downloading https://files.pythonhosted.org/packages/3a/80/a52c0a7c5939737c6dca75a831e89658ecb6f590fb7752ac777d221937b9/Pygments-2.8.1-py3-none-any.whl (983kB)\n",
            "\u001b[K     |████████████████████████████████| 993kB 41.0MB/s \n",
            "\u001b[?25hRequirement already satisfied: pyparsing==2.4.7 in /usr/local/lib/python3.7/dist-packages (from -r Persian-Gender-Recognition/requirement.txt (line 31)) (2.4.7)\n",
            "Requirement already satisfied: python-dateutil==2.8.1 in /usr/local/lib/python3.7/dist-packages (from -r Persian-Gender-Recognition/requirement.txt (line 32)) (2.8.1)\n",
            "Collecting pytz==2021.1\n",
            "\u001b[?25l  Downloading https://files.pythonhosted.org/packages/70/94/784178ca5dd892a98f113cdd923372024dc04b8d40abe77ca76b5fb90ca6/pytz-2021.1-py2.py3-none-any.whl (510kB)\n",
            "\u001b[K     |████████████████████████████████| 512kB 43.2MB/s \n",
            "\u001b[?25hRequirement already satisfied: pyzmq==22.0.3 in /usr/local/lib/python3.7/dist-packages (from -r Persian-Gender-Recognition/requirement.txt (line 34)) (22.0.3)\n",
            "Collecting requests==2.25.1\n",
            "\u001b[?25l  Downloading https://files.pythonhosted.org/packages/29/c1/24814557f1d22c56d50280771a17307e6bf87b70727d975fd6b2ce6b014a/requests-2.25.1-py2.py3-none-any.whl (61kB)\n",
            "\u001b[K     |████████████████████████████████| 61kB 8.1MB/s \n",
            "\u001b[?25hCollecting scikit-learn==0.24.1\n",
            "\u001b[?25l  Downloading https://files.pythonhosted.org/packages/f3/74/eb899f41d55f957e2591cde5528e75871f817d9fb46d4732423ecaca736d/scikit_learn-0.24.1-cp37-cp37m-manylinux2010_x86_64.whl (22.3MB)\n",
            "\u001b[K     |████████████████████████████████| 22.3MB 1.4MB/s \n",
            "\u001b[?25hCollecting scipy==1.6.2\n",
            "\u001b[?25l  Downloading https://files.pythonhosted.org/packages/75/91/ee427c42957f8c4cbe477bf4f8b7f608e003a17941e509d1777e58648cb3/scipy-1.6.2-cp37-cp37m-manylinux1_x86_64.whl (27.4MB)\n",
            "\u001b[K     |████████████████████████████████| 27.4MB 163kB/s \n",
            "\u001b[?25hRequirement already satisfied: six==1.15.0 in /usr/local/lib/python3.7/dist-packages (from -r Persian-Gender-Recognition/requirement.txt (line 38)) (1.15.0)\n",
            "Requirement already satisfied: sklearn==0.0 in /usr/local/lib/python3.7/dist-packages (from -r Persian-Gender-Recognition/requirement.txt (line 39)) (0.0)\n",
            "Requirement already satisfied: tabulate==0.8.9 in /usr/local/lib/python3.7/dist-packages (from -r Persian-Gender-Recognition/requirement.txt (line 40)) (0.8.9)\n",
            "Collecting threadpoolctl==2.1.0\n",
            "  Downloading https://files.pythonhosted.org/packages/f7/12/ec3f2e203afa394a149911729357aa48affc59c20e2c1c8297a60f33f133/threadpoolctl-2.1.0-py3-none-any.whl\n",
            "Collecting tornado==6.1\n",
            "\u001b[?25l  Downloading https://files.pythonhosted.org/packages/91/a8/9c5902233fa3c2e6a889cbd164333ddda5009669f494e3fadbeee2c03af5/tornado-6.1-cp37-cp37m-manylinux2010_x86_64.whl (428kB)\n",
            "\u001b[K     |████████████████████████████████| 430kB 39.4MB/s \n",
            "\u001b[?25hCollecting tqdm==4.59.0\n",
            "\u001b[?25l  Downloading https://files.pythonhosted.org/packages/f8/3e/2730d0effc282960dbff3cf91599ad0d8f3faedc8e75720fdf224b31ab24/tqdm-4.59.0-py2.py3-none-any.whl (74kB)\n",
            "\u001b[K     |████████████████████████████████| 81kB 9.9MB/s \n",
            "\u001b[?25hRequirement already satisfied: traitlets==5.0.5 in /usr/local/lib/python3.7/dist-packages (from -r Persian-Gender-Recognition/requirement.txt (line 44)) (5.0.5)\n",
            "Collecting urllib3==1.26.4\n",
            "\u001b[?25l  Downloading https://files.pythonhosted.org/packages/09/c6/d3e3abe5b4f4f16cf0dfc9240ab7ce10c2baa0e268989a4e3ec19e90c84e/urllib3-1.26.4-py2.py3-none-any.whl (153kB)\n",
            "\u001b[K     |████████████████████████████████| 153kB 40.8MB/s \n",
            "\u001b[?25hRequirement already satisfied: wcwidth==0.2.5 in /usr/local/lib/python3.7/dist-packages (from -r Persian-Gender-Recognition/requirement.txt (line 46)) (0.2.5)\n",
            "Requirement already satisfied: setuptools>=0.7.0 in /usr/local/lib/python3.7/dist-packages (from fasttext==0.9.2->-r Persian-Gender-Recognition/requirement.txt (line 7)) (54.2.0)\n",
            "Building wheels for collected packages: fasttext, libwapiti, nltk\n",
            "  Building wheel for fasttext (setup.py) ... \u001b[?25l\u001b[?25hdone\n",
            "  Created wheel for fasttext: filename=fasttext-0.9.2-cp37-cp37m-linux_x86_64.whl size=3096339 sha256=8d0bed51ca4b03bad447ecf2ee57b7a040675c0d2d2c63a61791d4678d02fdbe\n",
            "  Stored in directory: /root/.cache/pip/wheels/98/ba/7f/b154944a1cf5a8cee91c154b75231136cc3a3321ab0e30f592\n",
            "  Building wheel for libwapiti (setup.py) ... \u001b[?25l\u001b[?25hdone\n",
            "  Created wheel for libwapiti: filename=libwapiti-0.2.1-cp37-cp37m-linux_x86_64.whl size=154236 sha256=a035c745d5cbe547d7e5a9e724d08975e52c635a064a9f545b1ec011f5726fe4\n",
            "  Stored in directory: /root/.cache/pip/wheels/66/15/54/4510dce8bb958b1cdd2c47425cbd1e1eecc0480ac9bb1fb9ab\n",
            "  Building wheel for nltk (setup.py) ... \u001b[?25l\u001b[?25hdone\n",
            "  Created wheel for nltk: filename=nltk-3.3-cp37-none-any.whl size=1394468 sha256=90d2f0bca78602ab646a6fbf7ee538fb1ab2592ce0d281275cf397525db7cdd1\n",
            "  Stored in directory: /root/.cache/pip/wheels/d1/ab/40/3bceea46922767e42986aef7606a600538ca80de6062dc266c\n",
            "Successfully built fasttext libwapiti nltk\n",
            "\u001b[31mERROR: tensorflow 2.4.1 has requirement numpy~=1.19.2, but you'll have numpy 1.20.2 which is incompatible.\u001b[0m\n",
            "\u001b[31mERROR: jupyter-console 5.2.0 has requirement prompt-toolkit<2.0.0,>=1.0.0, but you'll have prompt-toolkit 3.0.18 which is incompatible.\u001b[0m\n",
            "\u001b[31mERROR: google-colab 1.0.0 has requirement ipykernel~=4.10, but you'll have ipykernel 5.5.0 which is incompatible.\u001b[0m\n",
            "\u001b[31mERROR: google-colab 1.0.0 has requirement ipython~=5.5.0, but you'll have ipython 7.21.0 which is incompatible.\u001b[0m\n",
            "\u001b[31mERROR: google-colab 1.0.0 has requirement pandas~=1.1.0; python_version >= \"3.0\", but you'll have pandas 1.2.3 which is incompatible.\u001b[0m\n",
            "\u001b[31mERROR: google-colab 1.0.0 has requirement requests~=2.23.0, but you'll have requests 2.25.1 which is incompatible.\u001b[0m\n",
            "\u001b[31mERROR: google-colab 1.0.0 has requirement tornado~=5.1.0; python_version >= \"3.0\", but you'll have tornado 6.1 which is incompatible.\u001b[0m\n",
            "\u001b[31mERROR: datascience 0.10.6 has requirement folium==0.2.1, but you'll have folium 0.8.3 which is incompatible.\u001b[0m\n",
            "\u001b[31mERROR: albumentations 0.1.12 has requirement imgaug<0.2.7,>=0.2.5, but you'll have imgaug 0.2.9 which is incompatible.\u001b[0m\n",
            "Installing collected packages: appnope, chardet, numpy, fasttext, libwapiti, nltk, hazm, tornado, jupyter-client, prompt-toolkit, Pygments, ipython, ipykernel, Pillow, matplotlib, pytz, pandas, urllib3, requests, scipy, threadpoolctl, scikit-learn, tqdm\n",
            "  Found existing installation: chardet 3.0.4\n",
            "    Uninstalling chardet-3.0.4:\n",
            "      Successfully uninstalled chardet-3.0.4\n",
            "  Found existing installation: numpy 1.19.5\n",
            "    Uninstalling numpy-1.19.5:\n",
            "      Successfully uninstalled numpy-1.19.5\n",
            "  Found existing installation: nltk 3.2.5\n",
            "    Uninstalling nltk-3.2.5:\n",
            "      Successfully uninstalled nltk-3.2.5\n",
            "  Found existing installation: tornado 5.1.1\n",
            "    Uninstalling tornado-5.1.1:\n",
            "      Successfully uninstalled tornado-5.1.1\n",
            "  Found existing installation: jupyter-client 5.3.5\n",
            "    Uninstalling jupyter-client-5.3.5:\n",
            "      Successfully uninstalled jupyter-client-5.3.5\n",
            "  Found existing installation: prompt-toolkit 1.0.18\n",
            "    Uninstalling prompt-toolkit-1.0.18:\n",
            "      Successfully uninstalled prompt-toolkit-1.0.18\n",
            "  Found existing installation: Pygments 2.6.1\n",
            "    Uninstalling Pygments-2.6.1:\n",
            "      Successfully uninstalled Pygments-2.6.1\n",
            "  Found existing installation: ipython 5.5.0\n",
            "    Uninstalling ipython-5.5.0:\n",
            "      Successfully uninstalled ipython-5.5.0\n",
            "  Found existing installation: ipykernel 4.10.1\n",
            "    Uninstalling ipykernel-4.10.1:\n",
            "      Successfully uninstalled ipykernel-4.10.1\n",
            "  Found existing installation: Pillow 7.1.2\n",
            "    Uninstalling Pillow-7.1.2:\n",
            "      Successfully uninstalled Pillow-7.1.2\n",
            "  Found existing installation: matplotlib 3.2.2\n",
            "    Uninstalling matplotlib-3.2.2:\n",
            "      Successfully uninstalled matplotlib-3.2.2\n",
            "  Found existing installation: pytz 2018.9\n",
            "    Uninstalling pytz-2018.9:\n",
            "      Successfully uninstalled pytz-2018.9\n",
            "  Found existing installation: pandas 1.1.5\n",
            "    Uninstalling pandas-1.1.5:\n",
            "      Successfully uninstalled pandas-1.1.5\n",
            "  Found existing installation: urllib3 1.24.3\n",
            "    Uninstalling urllib3-1.24.3:\n",
            "      Successfully uninstalled urllib3-1.24.3\n",
            "  Found existing installation: requests 2.23.0\n",
            "    Uninstalling requests-2.23.0:\n",
            "      Successfully uninstalled requests-2.23.0\n",
            "  Found existing installation: scipy 1.4.1\n",
            "    Uninstalling scipy-1.4.1:\n",
            "      Successfully uninstalled scipy-1.4.1\n",
            "  Found existing installation: scikit-learn 0.22.2.post1\n",
            "    Uninstalling scikit-learn-0.22.2.post1:\n",
            "      Successfully uninstalled scikit-learn-0.22.2.post1\n",
            "  Found existing installation: tqdm 4.41.1\n",
            "    Uninstalling tqdm-4.41.1:\n",
            "      Successfully uninstalled tqdm-4.41.1\n",
            "Successfully installed Pillow-8.1.2 Pygments-2.8.1 appnope-0.1.2 chardet-4.0.0 fasttext-0.9.2 hazm-0.7.0 ipykernel-5.5.0 ipython-7.21.0 jupyter-client-6.1.12 libwapiti-0.2.1 matplotlib-3.4.0 nltk-3.3 numpy-1.20.2 pandas-1.2.3 prompt-toolkit-3.0.18 pytz-2021.1 requests-2.25.1 scikit-learn-0.24.1 scipy-1.6.2 threadpoolctl-2.1.0 tornado-6.1 tqdm-4.59.0 urllib3-1.26.4\n"
          ],
          "name": "stdout"
        },
        {
          "output_type": "display_data",
          "data": {
            "application/vnd.colab-display-data+json": {
              "pip_warning": {
                "packages": [
                  "IPython",
                  "PIL",
                  "ipykernel",
                  "jupyter_client",
                  "matplotlib",
                  "mpl_toolkits",
                  "numpy",
                  "pandas",
                  "prompt_toolkit",
                  "pygments",
                  "pytz",
                  "tornado"
                ]
              }
            }
          },
          "metadata": {
            "tags": []
          }
        }
      ]
    },
    {
      "cell_type": "markdown",
      "metadata": {
        "id": "CapOzDT_teD5"
      },
      "source": [
        "### Set Directory"
      ]
    },
    {
      "cell_type": "code",
      "metadata": {
        "id": "kVKhanHvteD5",
        "colab": {
          "base_uri": "https://localhost:8080/"
        },
        "outputId": "bd1d6edb-3301-476e-ec9c-580492a349f4"
      },
      "source": [
        "%cd Persian-Gender-Recognition/code"
      ],
      "execution_count": 3,
      "outputs": [
        {
          "output_type": "stream",
          "text": [
            "/content/Persian-Gender-Recognition/code\n"
          ],
          "name": "stdout"
        }
      ]
    },
    {
      "cell_type": "markdown",
      "metadata": {
        "id": "hn3UdMiXteD5"
      },
      "source": [
        "## Import "
      ]
    },
    {
      "cell_type": "code",
      "metadata": {
        "id": "wvrw5CNwteD5"
      },
      "source": [
        "import os\n",
        "import pandas as pd\n",
        "import numpy as np\n",
        "\n",
        "from sklearn.preprocessing import StandardScaler\n",
        "from os.path import isfile\n",
        "\n",
        "import config\n",
        "import utils\n",
        "import data_path\n",
        "import data_loader\n",
        "\n",
        "from classifier import Classifier\n",
        "from feature_generator import generate_features"
      ],
      "execution_count": 4,
      "outputs": []
    },
    {
      "cell_type": "markdown",
      "metadata": {
        "id": "QwBp-4eLteD6"
      },
      "source": [
        "## Load Datasets"
      ]
    },
    {
      "cell_type": "code",
      "metadata": {
        "id": "nzw5uNdpteD6",
        "colab": {
          "base_uri": "https://localhost:8080/"
        },
        "outputId": "a3658fae-2962-4664-a20f-4f9db0912cd3"
      },
      "source": [
        "embedding_features = pd.read_csv(os.path.join(data_path.DATA_PATH, 'train', 'embedding_fasttext.csv'), index_col=0)\n",
        "print(embedding_features.head())"
      ],
      "execution_count": 7,
      "outputs": [
        {
          "output_type": "stream",
          "text": [
            "         F0        F1        F2        F3  ...      F298      F299  number  label\n",
            "0 -0.016724  0.017616  0.009455 -0.013369  ... -0.015635  0.018951     289      0\n",
            "1 -0.058125  0.009000  0.011841 -0.012871  ... -0.028773  0.014173     504      0\n",
            "2  0.000008  0.030201 -0.010074 -0.028357  ...  0.001973 -0.019890     262      0\n",
            "3  0.023368  0.074310  0.004460 -0.041999  ... -0.010022 -0.024235     276      0\n",
            "4 -0.014248  0.029315  0.000213 -0.018357  ... -0.008050 -0.025579     510      0\n",
            "\n",
            "[5 rows x 302 columns]\n"
          ],
          "name": "stdout"
        }
      ]
    },
    {
      "cell_type": "code",
      "metadata": {
        "id": "eYkT5XkFuhvY",
        "colab": {
          "base_uri": "https://localhost:8080/"
        },
        "outputId": "536bf639-8211-4fe0-c2b8-e8425e16fd83"
      },
      "source": [
        "psychological_features = pd.read_csv(os.path.join(data_path.DATA_PATH, 'train', 'psychological_features.csv'), index_col=0)\n",
        "print(psychological_features.head())"
      ],
      "execution_count": 8,
      "outputs": [
        {
          "output_type": "stream",
          "text": [
            "   PSY_F36  PSY_F37  PSY_F38  PSY_F39  PSY_F47  PSY_F48  number  label\n",
            "0       25       16        0        0        0        0     289      0\n",
            "1        2        5        0        1        0        2     504      0\n",
            "2       19       16        0        0        0        0     262      0\n",
            "3        7        9        0        0        0        0     276      0\n",
            "4       33       44        0        4        0        0     510      0\n"
          ],
          "name": "stdout"
        }
      ]
    },
    {
      "cell_type": "code",
      "metadata": {
        "id": "iEQ4Io_0uhjM",
        "colab": {
          "base_uri": "https://localhost:8080/"
        },
        "outputId": "fb20f21d-6729-4d44-99e3-96a5244f376e"
      },
      "source": [
        "structural_features = pd.read_csv(os.path.join(data_path.DATA_PATH, 'train', 'structural_features.csv'), index_col=0)\n",
        "print(structural_features.head())"
      ],
      "execution_count": 9,
      "outputs": [
        {
          "output_type": "stream",
          "text": [
            "   STR_F25  STR_F26  STR_F27  STR_F28  STR_F29  number  label\n",
            "0        1        1     55.0      0.0    122.5     289      0\n",
            "1        0        1     18.0      0.0     92.0     504      0\n",
            "2        1        1     53.0      0.0    117.5     262      0\n",
            "3        0        1     20.0      0.0     80.0     276      0\n",
            "4        1       10     14.3      0.0    276.5     510      0\n"
          ],
          "name": "stdout"
        }
      ]
    },
    {
      "cell_type": "code",
      "metadata": {
        "id": "HFxxsom_uhV1",
        "colab": {
          "base_uri": "https://localhost:8080/"
        },
        "outputId": "1eeaccd3-6d7f-4551-8d93-6596366aa4bc"
      },
      "source": [
        "syntactics_features = pd.read_csv(os.path.join(data_path.DATA_PATH, 'train', 'syntactics_features.csv'), index_col=0)\n",
        "print(syntactics_features.head())"
      ],
      "execution_count": 10,
      "outputs": [
        {
          "output_type": "stream",
          "text": [
            "   SYN_F18   SYN_F19  SYN_F20  SYN_F21  ...   SYN_F23   SYN_F24  number  label\n",
            "0      0.0  0.000000      0.0      0.0  ...  0.000000  0.000000     289      0\n",
            "1      0.0  0.000000      0.0      0.0  ...  0.000000  0.000000     504      0\n",
            "2      0.0  0.000000      0.0      0.0  ...  0.012766  0.004255     262      0\n",
            "3      0.0  0.000000      0.0      0.0  ...  0.000000  0.000000     276      0\n",
            "4      0.0  0.018083      0.0      0.0  ...  0.000000  0.000000     510      0\n",
            "\n",
            "[5 rows x 9 columns]\n"
          ],
          "name": "stdout"
        }
      ]
    },
    {
      "cell_type": "code",
      "metadata": {
        "id": "DJ7985WsuhKI",
        "colab": {
          "base_uri": "https://localhost:8080/"
        },
        "outputId": "8109135a-8c5d-4696-9119-4e7b2941fc56"
      },
      "source": [
        "text_dependent_features = pd.read_csv(os.path.join(data_path.DATA_PATH, 'train', 'text_dependent_features.csv'), index_col=0)\n",
        "print(text_dependent_features.head())"
      ],
      "execution_count": 11,
      "outputs": [
        {
          "output_type": "stream",
          "text": [
            "   TD_F1     TD_F2  TD_F49  TD_F3     TD_F4  TD_F5     TD_F6  number  label\n",
            "0    245  0.102041      25      1  0.179592    0.0  0.012245     289      0\n",
            "1     92  0.217391      20      2  0.163043    0.0  0.000000     504      0\n",
            "2    235  0.110638      26      3  0.195745    0.0  0.012766     262      0\n",
            "3     80  0.250000      20      1  0.212500    0.0  0.000000     276      0\n",
            "4    553  0.048825      27     16  0.249548    0.0  0.018083     510      0\n"
          ],
          "name": "stdout"
        }
      ]
    },
    {
      "cell_type": "code",
      "metadata": {
        "id": "XQj5pdk2ug9M",
        "colab": {
          "base_uri": "https://localhost:8080/"
        },
        "outputId": "1b951641-bf06-42d2-aad2-37b19c172e2c"
      },
      "source": [
        "word_dependent_features = pd.read_csv(os.path.join(data_path.DATA_PATH, 'train', 'word_dependent_features.csv'), index_col=0)\n",
        "print(word_dependent_features.head())"
      ],
      "execution_count": 12,
      "outputs": [
        {
          "output_type": "stream",
          "text": [
            "   WD_F7     WD_F8     WD_F9    WD_F10  ...       WD_F17    WD_F50  number  label\n",
            "0     55  4.454545  0.763636  0.600000  ...  1870.088820  3.635431     289      0\n",
            "1     18  5.111111  0.888889  0.611111  ...  2312.297406  2.736339     504      0\n",
            "2     53  4.433962  0.830189  0.660377  ...  2495.612060  3.715138     262      0\n",
            "3     20  4.000000  0.950000  0.800000  ...  5691.891320  2.926418     276      0\n",
            "4    143  3.867133  0.601399  0.608392  ...  2134.023191  4.147394     510      0\n",
            "\n",
            "[5 rows x 14 columns]\n"
          ],
          "name": "stdout"
        }
      ]
    },
    {
      "cell_type": "markdown",
      "metadata": {
        "id": "J4vPK8xEteD7"
      },
      "source": [
        "## Generate Features"
      ]
    },
    {
      "cell_type": "code",
      "metadata": {
        "id": "QsgXtzLjteD7",
        "colab": {
          "base_uri": "https://localhost:8080/"
        },
        "outputId": "59732992-b8ad-4eda-c05e-fd8f6559433b"
      },
      "source": [
        "features_list = [embedding_features, psychological_features, structural_features, syntactics_features, text_dependent_features, word_dependent_features]\n",
        "\n",
        "features = features_list.pop()\n",
        "for feature in features_list:\n",
        "  features = pd.merge(features, feature, left_on=['label', 'number'], right_on=['label', 'number'])\n",
        "\n",
        "print(features.head())\n",
        "print(features.shape)"
      ],
      "execution_count": 13,
      "outputs": [
        {
          "output_type": "stream",
          "text": [
            "   WD_F7     WD_F8     WD_F9    WD_F10  ...  TD_F3     TD_F4  TD_F5     TD_F6\n",
            "0     55  4.454545  0.763636  0.600000  ...      1  0.179592    0.0  0.012245\n",
            "1     18  5.111111  0.888889  0.611111  ...      2  0.163043    0.0  0.000000\n",
            "2     53  4.433962  0.830189  0.660377  ...      3  0.195745    0.0  0.012766\n",
            "3     20  4.000000  0.950000  0.800000  ...      1  0.212500    0.0  0.000000\n",
            "4    143  3.867133  0.601399  0.608392  ...     16  0.249548    0.0  0.018083\n",
            "\n",
            "[5 rows x 339 columns]\n",
            "(2000, 339)\n"
          ],
          "name": "stdout"
        }
      ]
    },
    {
      "cell_type": "markdown",
      "metadata": {
        "id": "3kJV92-uteD8"
      },
      "source": [
        "## Split X, y "
      ]
    },
    {
      "cell_type": "code",
      "metadata": {
        "id": "uP-X8UteteD8"
      },
      "source": [
        "y = features['label']\n",
        "X = features.drop(['label', 'number'], axis=1)"
      ],
      "execution_count": 100,
      "outputs": []
    },
    {
      "cell_type": "markdown",
      "metadata": {
        "id": "D6JT56jzteD8"
      },
      "source": [
        "## Normalize"
      ]
    },
    {
      "cell_type": "code",
      "metadata": {
        "id": "E85P-1s1teD8"
      },
      "source": [
        "scaler = StandardScaler()\n",
        "X = pd.DataFrame(scaler.fit_transform(X), columns=X.columns)"
      ],
      "execution_count": 101,
      "outputs": []
    },
    {
      "cell_type": "markdown",
      "metadata": {
        "id": "Lg1epwHjteD-"
      },
      "source": [
        "## Feature Importance"
      ]
    },
    {
      "cell_type": "code",
      "metadata": {
        "id": "3wETqZ_TteD-"
      },
      "source": [
        "classifier = Classifier('Random Forest', n_estimator=300)\n",
        "classifier.fit(X, y)\n",
        "feature_importance = classifier.model.feature_importances_"
      ],
      "execution_count": 103,
      "outputs": []
    },
    {
      "cell_type": "code",
      "metadata": {
        "id": "si03gmMg4bdL",
        "colab": {
          "base_uri": "https://localhost:8080/"
        },
        "outputId": "713060e8-ca69-4bc7-fcb4-499ebb0f5b0d"
      },
      "source": [
        "pip install matplotlib==3.1.3"
      ],
      "execution_count": 73,
      "outputs": [
        {
          "output_type": "stream",
          "text": [
            "Requirement already satisfied: matplotlib==3.1.3 in /usr/local/lib/python3.7/dist-packages (3.1.3)\n",
            "Requirement already satisfied: kiwisolver>=1.0.1 in /usr/local/lib/python3.7/dist-packages (from matplotlib==3.1.3) (1.3.1)\n",
            "Requirement already satisfied: numpy>=1.11 in /usr/local/lib/python3.7/dist-packages (from matplotlib==3.1.3) (1.20.2)\n",
            "Requirement already satisfied: python-dateutil>=2.1 in /usr/local/lib/python3.7/dist-packages (from matplotlib==3.1.3) (2.8.1)\n",
            "Requirement already satisfied: cycler>=0.10 in /usr/local/lib/python3.7/dist-packages (from matplotlib==3.1.3) (0.10.0)\n",
            "Requirement already satisfied: pyparsing!=2.0.4,!=2.1.2,!=2.1.6,>=2.0.1 in /usr/local/lib/python3.7/dist-packages (from matplotlib==3.1.3) (2.4.7)\n",
            "Requirement already satisfied: six>=1.5 in /usr/local/lib/python3.7/dist-packages (from python-dateutil>=2.1->matplotlib==3.1.3) (1.15.0)\n"
          ],
          "name": "stdout"
        }
      ]
    },
    {
      "cell_type": "code",
      "metadata": {
        "id": "ea5sVQJoteD_",
        "colab": {
          "base_uri": "https://localhost:8080/",
          "height": 879
        },
        "outputId": "bcd4685b-d378-49eb-b6d7-5d7cdf42e395"
      },
      "source": [
        "utils.plot_feature_importance(feature_importance, X)"
      ],
      "execution_count": 104,
      "outputs": [
        {
          "output_type": "display_data",
          "data": {
            "image/png": "[encoded data removed]",
            "text/plain": [
              "<Figure size 720x1080 with 1 Axes>"
            ]
          },
          "metadata": {
            "tags": [],
            "needs_background": "light"
          }
        }
      ]
    },
    {
      "cell_type": "code",
      "metadata": {
        "id": "g6tZp_nb6ExF"
      },
      "source": [
        "selected_features = feature_importance > 0.005"
      ],
      "execution_count": 105,
      "outputs": []
    },
    {
      "cell_type": "code",
      "metadata": {
        "id": "RNFyY0QG63j4",
        "outputId": "0a0dc732-4f60-4e7f-ec52-1d6be9c80db9",
        "colab": {
          "base_uri": "https://localhost:8080/"
        }
      },
      "source": [
        "X = X.T[selected_features].T\n",
        "print(X.shape)\n",
        "print(X.columns)"
      ],
      "execution_count": 106,
      "outputs": [
        {
          "output_type": "stream",
          "text": [
            "(2000, 60)\n",
            "Index(['F0', 'F1', 'F6', 'F22', 'F23', 'F31', 'F35', 'F37', 'F39', 'F50',\n",
            "       'F51', 'F54', 'F56', 'F74', 'F102', 'F110', 'F115', 'F127', 'F130',\n",
            "       'F153', 'F158', 'F160', 'F162', 'F163', 'F172', 'F175', 'F180', 'F181',\n",
            "       'F187', 'F188', 'F196', 'F199', 'F205', 'F207', 'F208', 'F217', 'F228',\n",
            "       'F231', 'F235', 'F236', 'F240', 'F242', 'F244', 'F245', 'F255', 'F267',\n",
            "       'F271', 'F273', 'F280', 'F283', 'F284', 'F291', 'F292', 'F294',\n",
            "       'PSY_F37', 'STR_F25', 'STR_F29', 'SYN_F20', 'TD_F1', 'TD_F4'],\n",
            "      dtype='object')\n"
          ],
          "name": "stdout"
        }
      ]
    },
    {
      "cell_type": "markdown",
      "metadata": {
        "id": "S_pJyXr5teD8"
      },
      "source": [
        "## Classification"
      ]
    },
    {
      "cell_type": "markdown",
      "metadata": {
        "id": "HqoXmIoJree8"
      },
      "source": [
        "### We decide to use SVM as our final model due to better performance and less variation."
      ]
    },
    {
      "cell_type": "code",
      "metadata": {
        "id": "1Z6fhzXeteD9",
        "colab": {
          "base_uri": "https://localhost:8080/"
        },
        "outputId": "7b1dac1c-b103-4f39-cc42-3066e575218c"
      },
      "source": [
        "classifier = Classifier('Random Forest', n_estimator=300, max_depth=10)\n",
        "classifier.train(X, y, n_folds=10)"
      ],
      "execution_count": 107,
      "outputs": [
        {
          "output_type": "stream",
          "text": [
            "| index     |    Fold1 |    Fold2 |    Fold3 |    Fold4 |    Fold5 |    Fold6 |    Fold7 |    Fold8 |    Fold9 |   Fold10 |     mean |\n",
            "|:----------|---------:|---------:|---------:|---------:|---------:|---------:|---------:|---------:|---------:|---------:|---------:|\n",
            "| precision | 0.623656 | 0.666667 | 0.586538 | 0.547368 | 0.655556 | 0.642857 | 0.61     | 0.584906 | 0.580952 | 0.694737 | 0.619324 |\n",
            "| recall    | 0.574257 | 0.686869 | 0.592233 | 0.611765 | 0.572816 | 0.567568 | 0.642105 | 0.659574 | 0.701149 | 0.589286 | 0.619762 |\n",
            "| f1        | 0.597938 | 0.676617 | 0.589372 | 0.577778 | 0.611399 | 0.602871 | 0.625641 | 0.62     | 0.635417 | 0.637681 | 0.617471 |\n",
            "| accuracy  | 0.61     | 0.675    | 0.575    | 0.62     | 0.625    | 0.585    | 0.635    | 0.62     | 0.65     | 0.625    | 0.622    |\n"
          ],
          "name": "stdout"
        }
      ]
    },
    {
      "cell_type": "code",
      "metadata": {
        "id": "oC4fC4NuteD9",
        "colab": {
          "base_uri": "https://localhost:8080/"
        },
        "outputId": "77075dad-d570-487e-b8c5-4769b695a830"
      },
      "source": [
        "classifier = Classifier('SVM' , kernel='rbf', gamma='scale')\n",
        "classifier.train(X, y, n_folds=10)"
      ],
      "execution_count": 108,
      "outputs": [
        {
          "output_type": "stream",
          "text": [
            "| index     |    Fold1 |    Fold2 |    Fold3 |    Fold4 |    Fold5 |    Fold6 |    Fold7 |    Fold8 |    Fold9 |   Fold10 |     mean |\n",
            "|:----------|---------:|---------:|---------:|---------:|---------:|---------:|---------:|---------:|---------:|---------:|---------:|\n",
            "| precision | 0.633333 | 0.659574 | 0.608247 | 0.5      | 0.643564 | 0.653061 | 0.618557 | 0.592593 | 0.548077 | 0.690722 | 0.614773 |\n",
            "| recall    | 0.564356 | 0.626263 | 0.572816 | 0.529412 | 0.631068 | 0.576577 | 0.631579 | 0.680851 | 0.655172 | 0.598214 | 0.606631 |\n",
            "| f1        | 0.596859 | 0.642487 | 0.59     | 0.514286 | 0.637255 | 0.61244  | 0.625    | 0.633663 | 0.596859 | 0.641148 | 0.609    |\n",
            "| accuracy  | 0.615    | 0.655    | 0.59     | 0.575    | 0.63     | 0.595    | 0.64     | 0.63     | 0.615    | 0.625    | 0.617    |\n"
          ],
          "name": "stdout"
        }
      ]
    },
    {
      "cell_type": "code",
      "metadata": {
        "id": "Mrj6pdksteD9",
        "colab": {
          "base_uri": "https://localhost:8080/"
        },
        "outputId": "84f05569-7cae-4c77-8f29-2c0104801ea1"
      },
      "source": [
        "classifier = Classifier('MLP', max_iter=1200 , hidden_layer_sizes=(32,4,), activation='relu', solver='adam')\n",
        "classifier.train(X, y, n_folds=10)"
      ],
      "execution_count": 109,
      "outputs": [
        {
          "output_type": "stream",
          "text": [
            "| index     |    Fold1 |    Fold2 |    Fold3 |    Fold4 |    Fold5 |    Fold6 |    Fold7 |    Fold8 |    Fold9 |   Fold10 |     mean |\n",
            "|:----------|---------:|---------:|---------:|---------:|---------:|---------:|---------:|---------:|---------:|---------:|---------:|\n",
            "| precision | 0.555556 | 0.612903 | 0.613636 | 0.5      | 0.62766  | 0.663551 | 0.590909 | 0.565657 | 0.516484 | 0.618557 | 0.586491 |\n",
            "| recall    | 0.544554 | 0.575758 | 0.524272 | 0.670588 | 0.572816 | 0.63964  | 0.547368 | 0.595745 | 0.54023  | 0.535714 | 0.574668 |\n",
            "| f1        | 0.55     | 0.59375  | 0.565445 | 0.572864 | 0.598985 | 0.651376 | 0.568306 | 0.580311 | 0.52809  | 0.574163 | 0.578329 |\n",
            "| accuracy  | 0.55     | 0.61     | 0.585    | 0.575    | 0.605    | 0.62     | 0.605    | 0.595    | 0.58     | 0.555    | 0.588    |\n"
          ],
          "name": "stdout"
        }
      ]
    },
    {
      "cell_type": "code",
      "metadata": {
        "id": "A4VvPcPpteD-",
        "colab": {
          "base_uri": "https://localhost:8080/"
        },
        "outputId": "3bbad194-8e1e-4266-e9b1-9798028e457c"
      },
      "source": [
        "classifier = Classifier('Naive Bayes')\n",
        "classifier.train(X, y, n_folds=10)"
      ],
      "execution_count": 110,
      "outputs": [
        {
          "output_type": "stream",
          "text": [
            "| index     |    Fold1 |    Fold2 |    Fold3 |    Fold4 |    Fold5 |    Fold6 |    Fold7 |    Fold8 |    Fold9 |   Fold10 |     mean |\n",
            "|:----------|---------:|---------:|---------:|---------:|---------:|---------:|---------:|---------:|---------:|---------:|---------:|\n",
            "| precision | 0.615385 | 0.661017 | 0.531915 | 0.391304 | 0.728814 | 0.677419 | 0.603774 | 0.583333 | 0.40678  | 0.648148 | 0.584789 |\n",
            "| recall    | 0.39604  | 0.393939 | 0.242718 | 0.211765 | 0.417476 | 0.378378 | 0.336842 | 0.446809 | 0.275862 | 0.3125   | 0.341233 |\n",
            "| f1        | 0.481928 | 0.493671 | 0.333333 | 0.274809 | 0.530864 | 0.485549 | 0.432432 | 0.506024 | 0.328767 | 0.421687 | 0.428906 |\n",
            "| accuracy  | 0.57     | 0.6      | 0.5      | 0.525    | 0.62     | 0.555    | 0.58     | 0.59     | 0.51     | 0.52     | 0.557    |\n"
          ],
          "name": "stdout"
        }
      ]
    },
    {
      "cell_type": "code",
      "metadata": {
        "id": "J5yNjy1zteD-",
        "colab": {
          "base_uri": "https://localhost:8080/"
        },
        "outputId": "1ad63066-f48f-4bdf-b396-a85893fa1d45"
      },
      "source": [
        "classifier = Classifier('Ada Boost', n_estimators= 120, learning_rate= 0.5)\n",
        "classifier.train(X, y, n_folds=10)"
      ],
      "execution_count": 111,
      "outputs": [
        {
          "output_type": "stream",
          "text": [
            "| index     |    Fold1 |    Fold2 |    Fold3 |    Fold4 |    Fold5 |    Fold6 |    Fold7 |    Fold8 |    Fold9 |   Fold10 |     mean |\n",
            "|:----------|---------:|---------:|---------:|---------:|---------:|---------:|---------:|---------:|---------:|---------:|---------:|\n",
            "| precision | 0.627907 | 0.650485 | 0.596154 | 0.576471 | 0.601942 | 0.616071 | 0.568627 | 0.564356 | 0.536842 | 0.673684 | 0.601254 |\n",
            "| recall    | 0.534653 | 0.676768 | 0.601942 | 0.576471 | 0.601942 | 0.621622 | 0.610526 | 0.606383 | 0.586207 | 0.571429 | 0.598794 |\n",
            "| f1        | 0.57754  | 0.663366 | 0.599034 | 0.576471 | 0.601942 | 0.618834 | 0.588832 | 0.584615 | 0.56044  | 0.618357 | 0.598943 |\n",
            "| accuracy  | 0.605    | 0.66     | 0.585    | 0.64     | 0.59     | 0.575    | 0.595    | 0.595    | 0.6      | 0.605    | 0.605    |\n"
          ],
          "name": "stdout"
        }
      ]
    },
    {
      "cell_type": "markdown",
      "metadata": {
        "id": "0NrrfSvvteD_"
      },
      "source": [
        "## Split Train and Test"
      ]
    },
    {
      "cell_type": "markdown",
      "metadata": {
        "id": "D4sDG0pgrLIT"
      },
      "source": [
        "## Explorary Idea: Use ensenble idea on all sklearn models and suggest label with maximum occurance."
      ]
    },
    {
      "cell_type": "code",
      "metadata": {
        "id": "0AM1UR0EteD_"
      },
      "source": [
        "from sklearn.model_selection import train_test_split\n",
        "\n",
        "X_train, X_test, y_train, y_test = train_test_split(X, y, test_size=0.2, random_state=2, shuffle=True)"
      ],
      "execution_count": 112,
      "outputs": []
    },
    {
      "cell_type": "code",
      "metadata": {
        "id": "k523GsbWteD_"
      },
      "source": [
        "svm = Classifier('SVM' , kernel='rbf', gamma='auto', probability=True)\n",
        "train_predictions_svm = svm.fit(X_train, y_train)"
      ],
      "execution_count": 113,
      "outputs": []
    },
    {
      "cell_type": "code",
      "metadata": {
        "id": "SEejxFjbteEA"
      },
      "source": [
        "rf = Classifier('Random Forest', n_estimator=200, max_depth=10)\n",
        "train_predictions_rf = rf.fit(X_train, y_train)"
      ],
      "execution_count": 114,
      "outputs": []
    },
    {
      "cell_type": "code",
      "metadata": {
        "id": "5itbSJxYteEA"
      },
      "source": [
        "mlp = Classifier('MLP', max_iter=1200 , hidden_layer_sizes=(32, 4,), activation='relu', solver='adam')\n",
        "train_predictions_mlp = mlp.fit(X_train, y_train)"
      ],
      "execution_count": 115,
      "outputs": []
    },
    {
      "cell_type": "code",
      "metadata": {
        "id": "BOKWUBW2teEA"
      },
      "source": [
        "adaboost = Classifier('Ada Boost', n_estimators= 120, learning_rate= 0.5)\n",
        "train_predictions_adaboost = adaboost.fit(X_train, y_train)"
      ],
      "execution_count": 116,
      "outputs": []
    },
    {
      "cell_type": "code",
      "metadata": {
        "id": "edDTrcSOteEA"
      },
      "source": [
        "nb = Classifier('Naive Bayes')\n",
        "train_predictions_nb = nb.fit(X_train, y_train)"
      ],
      "execution_count": 117,
      "outputs": []
    },
    {
      "cell_type": "code",
      "metadata": {
        "id": "bAX2XE3OteEA"
      },
      "source": [
        "threshold = 0.5\n",
        "\n",
        "train_prediction_labels_svm = np.array(train_predictions_svm[:,1] > threshold, dtype=int)\n",
        "train_prediction_labels_rf = np.array(train_predictions_rf[:,1] > threshold, dtype=int)\n",
        "train_prediction_labels_mlp = np.array(train_predictions_mlp[:,1] > threshold, dtype=int)\n",
        "train_prediction_labels_ad = np.array(train_predictions_adaboost[:,1] > threshold, dtype=int)\n",
        "train_prediction_labels_nb = np.array(train_predictions_nb[:,1] > threshold, dtype=int)\n",
        "\n",
        "lsts = []\n",
        "for i in range(len(train_prediction_labels_svm)):\n",
        "    lsts.append(\n",
        "        [\n",
        "            train_prediction_labels_svm[i],\n",
        "            train_prediction_labels_rf[i],\n",
        "            train_prediction_labels_mlp[i],\n",
        "            train_prediction_labels_ad[i],\n",
        "            train_prediction_labels_nb[i]\n",
        "        ]\n",
        "    )\n",
        "\n",
        "y_train_pred = [ max(lst, key=lst.count) for lst in lsts]"
      ],
      "execution_count": 118,
      "outputs": []
    },
    {
      "cell_type": "code",
      "metadata": {
        "id": "lWd8bZRxteEA",
        "colab": {
          "base_uri": "https://localhost:8080/"
        },
        "outputId": "1e340d25-a52a-4c43-c47e-379b30abd51d"
      },
      "source": [
        "from sklearn.metrics import classification_report, accuracy_score\n",
        "print(classification_report(y_train, y_train_pred))\n",
        "print(accuracy_score(y_train, y_train_pred))"
      ],
      "execution_count": 119,
      "outputs": [
        {
          "output_type": "stream",
          "text": [
            "              precision    recall  f1-score   support\n",
            "\n",
            "           0       0.84      0.96      0.90       818\n",
            "           1       0.95      0.81      0.88       782\n",
            "\n",
            "    accuracy                           0.89      1600\n",
            "   macro avg       0.90      0.89      0.89      1600\n",
            "weighted avg       0.90      0.89      0.89      1600\n",
            "\n",
            "0.888125\n"
          ],
          "name": "stdout"
        }
      ]
    },
    {
      "cell_type": "code",
      "metadata": {
        "id": "lF5vifSXteEB"
      },
      "source": [
        "test_predictions_svm = rf.predict(X_test)\n",
        "test_predictions_rf = svm.predict(X_test)\n",
        "test_predictions_ad = adaboost.predict(X_test)\n",
        "test_predictions_nb = nb.predict(X_test)\n",
        "test_predictions_mlp = mlp.predict(X_test)\n",
        "\n",
        "test_prediction_labels_svm = np.array(test_predictions_svm[:,1] > threshold, dtype=int)\n",
        "test_prediction_labels_rf = np.array(test_predictions_rf[:,1] > threshold, dtype=int)\n",
        "test_prediction_labels_mlp = np.array(test_predictions_mlp[:,1] > threshold, dtype=int)\n",
        "test_prediction_labels_ad = np.array(test_predictions_ad[:,1] > threshold, dtype=int)\n",
        "test_prediction_labels_nb = np.array(test_predictions_nb[:,1] > threshold, dtype=int)\n",
        "\n",
        "lsts = []\n",
        "for i in range(len(test_prediction_labels_svm)):\n",
        "    lsts.append(\n",
        "        [\n",
        "            test_prediction_labels_svm[i],\n",
        "            test_prediction_labels_rf[i],\n",
        "            test_prediction_labels_mlp[i],\n",
        "            test_prediction_labels_ad[i],\n",
        "            test_prediction_labels_nb[i]\n",
        "        ]\n",
        "    )\n",
        "\n",
        "y_test_pred = [ max(lst, key=lst.count) for lst in lsts]"
      ],
      "execution_count": 120,
      "outputs": []
    },
    {
      "cell_type": "code",
      "metadata": {
        "id": "jQtPypzQteEB",
        "colab": {
          "base_uri": "https://localhost:8080/"
        },
        "outputId": "231d790a-a21c-4a0c-c10d-c64797963fd4"
      },
      "source": [
        "print(classification_report(y_test, y_test_pred))\n",
        "print(accuracy_score(y_test, y_test_pred))"
      ],
      "execution_count": 121,
      "outputs": [
        {
          "output_type": "stream",
          "text": [
            "              precision    recall  f1-score   support\n",
            "\n",
            "           0       0.55      0.71      0.62       182\n",
            "           1       0.68      0.52      0.59       218\n",
            "\n",
            "    accuracy                           0.61       400\n",
            "   macro avg       0.62      0.62      0.61       400\n",
            "weighted avg       0.62      0.61      0.61       400\n",
            "\n",
            "0.6075\n"
          ],
          "name": "stdout"
        }
      ]
    },
    {
      "cell_type": "code",
      "metadata": {
        "id": "uNxkHGM2teEB"
      },
      "source": [
        ""
      ],
      "execution_count": 121,
      "outputs": []
    },
    {
      "cell_type": "code",
      "metadata": {
        "id": "Z7spGfC_teEC"
      },
      "source": [
        ""
      ],
      "execution_count": 91,
      "outputs": []
    },
    {
      "cell_type": "code",
      "metadata": {
        "id": "u8hL7X1FteEC"
      },
      "source": [
        ""
      ],
      "execution_count": null,
      "outputs": []
    },
    {
      "cell_type": "code",
      "metadata": {
        "id": "2feKHbB6teEC"
      },
      "source": [
        ""
      ],
      "execution_count": null,
      "outputs": []
    },
    {
      "cell_type": "code",
      "metadata": {
        "id": "KOrQGpucteEC"
      },
      "source": [
        ""
      ],
      "execution_count": null,
      "outputs": []
    },
    {
      "cell_type": "code",
      "metadata": {
        "id": "7JFEA39FteEC"
      },
      "source": [
        ""
      ],
      "execution_count": null,
      "outputs": []
    },
    {
      "cell_type": "code",
      "metadata": {
        "id": "PrFv-IghteEC"
      },
      "source": [
        ""
      ],
      "execution_count": null,
      "outputs": []
    },
    {
      "cell_type": "code",
      "metadata": {
        "id": "ackGLlcFteEC"
      },
      "source": [
        ""
      ],
      "execution_count": null,
      "outputs": []
    },
    {
      "cell_type": "code",
      "metadata": {
        "id": "1EuoTcs8teEC"
      },
      "source": [
        ""
      ],
      "execution_count": null,
      "outputs": []
    },
    {
      "cell_type": "code",
      "metadata": {
        "id": "hT4gfxR7teED"
      },
      "source": [
        ""
      ],
      "execution_count": null,
      "outputs": []
    },
    {
      "cell_type": "code",
      "metadata": {
        "id": "t0VXMgeTteED"
      },
      "source": [
        ""
      ],
      "execution_count": null,
      "outputs": []
    },
    {
      "cell_type": "code",
      "metadata": {
        "id": "lsURbYDLteED"
      },
      "source": [
        ""
      ],
      "execution_count": null,
      "outputs": []
    },
    {
      "cell_type": "code",
      "metadata": {
        "id": "qGlArY9BteEF"
      },
      "source": [
        ""
      ],
      "execution_count": null,
      "outputs": []
    }
  ]
}