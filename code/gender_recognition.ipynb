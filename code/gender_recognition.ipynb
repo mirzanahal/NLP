{
  "nbformat": 4,
  "nbformat_minor": 0,
  "metadata": {
    "kernelspec": {
      "display_name": "Python 3",
      "language": "python",
      "name": "python3"
    },
    "language_info": {
      "codemirror_mode": {
        "name": "ipython",
        "version": 3
      },
      "file_extension": ".py",
      "mimetype": "text/x-python",
      "name": "python",
      "nbconvert_exporter": "python",
      "pygments_lexer": "ipython3",
      "version": "3.8.5-final"
    },
    "colab": {
      "name": "gender_recognition.ipynb",
      "provenance": []
    }
  },
  "cells": [
    {
      "cell_type": "markdown",
      "metadata": {
        "id": "XJO9r_BjteDx"
      },
      "source": [
        "# NLP (HW1)\n",
        "## Persian Gender Recognition\n",
        "## Authors: Nahal Mirzaie, Tahere Talaie\n",
        "### Spring 1400"
      ]
    },
    {
      "cell_type": "markdown",
      "metadata": {
        "id": "DhAVD-TFteD3"
      },
      "source": [
        "## Connect to Google Drive"
      ]
    },
    {
      "cell_type": "code",
      "metadata": {
        "id": "hjBEjfOcteD3",
        "outputId": "1f601e44-7406-4776-d1ee-3dfda355ed6f",
        "colab": {
          "base_uri": "https://localhost:8080/"
        }
      },
      "source": [
        "from google.colab import drive\n",
        "drive.mount('/content/drive')"
      ],
      "execution_count": 1,
      "outputs": [
        {
          "output_type": "stream",
          "text": [
            "Mounted at /content/drive\n"
          ],
          "name": "stdout"
        }
      ]
    },
    {
      "cell_type": "markdown",
      "metadata": {
        "id": "4nbo9p52teD4"
      },
      "source": [
        "### Clone Project from Github"
      ]
    },
    {
      "cell_type": "code",
      "metadata": {
        "id": "mxsnvI1ZteD4",
        "outputId": "27487a4b-d582-467d-9431-dba093aa2af4",
        "colab": {
          "base_uri": "https://localhost:8080/"
        }
      },
      "source": [
        "%cd drive/MyDrive\n",
        "\n",
        "!git clone 'https://github.com/mirzanahal/Persian-Gender-Recognition'"
      ],
      "execution_count": 2,
      "outputs": [
        {
          "output_type": "stream",
          "text": [
            "/content/drive/MyDrive\n",
            "Cloning into 'Persian-Gender-Recognition'...\n",
            "remote: Enumerating objects: 2103, done.\u001b[K\n",
            "remote: Counting objects: 100% (2103/2103), done.\u001b[K\n",
            "remote: Compressing objects: 100% (2048/2048), done.\u001b[K\n",
            "remote: Total 2103 (delta 58), reused 2070 (delta 31), pack-reused 0\u001b[K\n",
            "Receiving objects: 100% (2103/2103), 24.85 MiB | 10.31 MiB/s, done.\n",
            "Resolving deltas: 100% (58/58), done.\n",
            "Checking out files: 100% (2042/2042), done.\n"
          ],
          "name": "stdout"
        }
      ]
    },
    {
      "cell_type": "markdown",
      "metadata": {
        "id": "6AQPq2m7teD4"
      },
      "source": [
        "### Install Requirement"
      ]
    },
    {
      "cell_type": "code",
      "metadata": {
        "id": "fstL7IN1teD4",
        "outputId": "49c6e5dd-75c7-45d2-9c98-1cc9170d9be1",
        "colab": {
          "base_uri": "https://localhost:8080/",
          "height": 1000
        }
      },
      "source": [
        "!pip install -r Persian-Gender-Recognition/requirement.txt"
      ],
      "execution_count": 3,
      "outputs": [
        {
          "output_type": "stream",
          "text": [
            "Collecting appnope==0.1.2\n",
            "  Downloading https://files.pythonhosted.org/packages/e4/fa/0c6c9786aa6927d12d100d322588e125e6ed466ab0a3d2d509ea18aeb56d/appnope-0.1.2-py2.py3-none-any.whl\n",
            "Requirement already satisfied: backcall==0.2.0 in /usr/local/lib/python3.7/dist-packages (from -r Persian-Gender-Recognition/requirement.txt (line 2)) (0.2.0)\n",
            "Requirement already satisfied: certifi==2020.12.5 in /usr/local/lib/python3.7/dist-packages (from -r Persian-Gender-Recognition/requirement.txt (line 3)) (2020.12.5)\n",
            "Collecting chardet==4.0.0\n",
            "\u001b[?25l  Downloading https://files.pythonhosted.org/packages/19/c7/fa589626997dd07bd87d9269342ccb74b1720384a4d739a1872bd84fbe68/chardet-4.0.0-py2.py3-none-any.whl (178kB)\n",
            "\u001b[K     |████████████████████████████████| 184kB 7.6MB/s \n",
            "\u001b[?25hRequirement already satisfied: cycler==0.10.0 in /usr/local/lib/python3.7/dist-packages (from -r Persian-Gender-Recognition/requirement.txt (line 5)) (0.10.0)\n",
            "Requirement already satisfied: decorator==4.4.2 in /usr/local/lib/python3.7/dist-packages (from -r Persian-Gender-Recognition/requirement.txt (line 6)) (4.4.2)\n",
            "Collecting hazm==0.7.0\n",
            "\u001b[?25l  Downloading https://files.pythonhosted.org/packages/22/13/5a7074bc11d20dbbb46239349ac3f85f7edc148b4cf68e9b8c2f8263830c/hazm-0.7.0-py3-none-any.whl (316kB)\n",
            "\u001b[K     |████████████████████████████████| 317kB 14.2MB/s \n",
            "\u001b[?25hRequirement already satisfied: idna==2.10 in /usr/local/lib/python3.7/dist-packages (from -r Persian-Gender-Recognition/requirement.txt (line 8)) (2.10)\n",
            "Collecting ipykernel==5.5.0\n",
            "\u001b[?25l  Downloading https://files.pythonhosted.org/packages/56/95/3a670c8b2c2370bd8631c313f42e60983b3113ffec4035940592252bd6d5/ipykernel-5.5.0-py3-none-any.whl (120kB)\n",
            "\u001b[K     |████████████████████████████████| 122kB 13.4MB/s \n",
            "\u001b[?25hCollecting ipython==7.21.0\n",
            "\u001b[?25l  Downloading https://files.pythonhosted.org/packages/3b/43/6dbd0610550708fc418ad027fda97b5f415da9053749641654fdacfec93f/ipython-7.21.0-py3-none-any.whl (784kB)\n",
            "\u001b[K     |████████████████████████████████| 788kB 13.4MB/s \n",
            "\u001b[?25hRequirement already satisfied: ipython-genutils==0.2.0 in /usr/local/lib/python3.7/dist-packages (from -r Persian-Gender-Recognition/requirement.txt (line 11)) (0.2.0)\n",
            "Requirement already satisfied: jedi==0.18.0 in /usr/local/lib/python3.7/dist-packages (from -r Persian-Gender-Recognition/requirement.txt (line 12)) (0.18.0)\n",
            "Requirement already satisfied: joblib==1.0.1 in /usr/local/lib/python3.7/dist-packages (from -r Persian-Gender-Recognition/requirement.txt (line 13)) (1.0.1)\n",
            "Collecting jupyter-client==6.1.12\n",
            "\u001b[?25l  Downloading https://files.pythonhosted.org/packages/77/e8/c3cf72a32a697256608d5fa96360c431adec6e1c6709ba7f13f99ff5ee04/jupyter_client-6.1.12-py3-none-any.whl (112kB)\n",
            "\u001b[K     |████████████████████████████████| 122kB 29.2MB/s \n",
            "\u001b[?25hRequirement already satisfied: jupyter-core==4.7.1 in /usr/local/lib/python3.7/dist-packages (from -r Persian-Gender-Recognition/requirement.txt (line 15)) (4.7.1)\n",
            "Requirement already satisfied: kiwisolver==1.3.1 in /usr/local/lib/python3.7/dist-packages (from -r Persian-Gender-Recognition/requirement.txt (line 16)) (1.3.1)\n",
            "Collecting libwapiti==0.2.1\n",
            "\u001b[?25l  Downloading https://files.pythonhosted.org/packages/bc/0f/1c9b49bb49821b5856a64ea6fac8d96a619b9f291d1f06999ea98a32c89c/libwapiti-0.2.1.tar.gz (233kB)\n",
            "\u001b[K     |████████████████████████████████| 235kB 24.1MB/s \n",
            "\u001b[?25hCollecting matplotlib==3.4.0\n",
            "\u001b[?25l  Downloading https://files.pythonhosted.org/packages/83/ee/8d7e0149ecf95fae7e744c5a93f51a8c9f7a96c63691d10aed6d2c1d8735/matplotlib-3.4.0-cp37-cp37m-manylinux1_x86_64.whl (10.3MB)\n",
            "\u001b[K     |████████████████████████████████| 10.3MB 31.3MB/s \n",
            "\u001b[?25hCollecting nltk==3.3\n",
            "\u001b[?25l  Downloading https://files.pythonhosted.org/packages/50/09/3b1755d528ad9156ee7243d52aa5cd2b809ef053a0f31b53d92853dd653a/nltk-3.3.0.zip (1.4MB)\n",
            "\u001b[K     |████████████████████████████████| 1.4MB 27.3MB/s \n",
            "\u001b[?25hCollecting numpy==1.20.2\n",
            "\u001b[?25l  Downloading https://files.pythonhosted.org/packages/73/ef/8967d406f3f85018ceb5efab50431e901683188f1741ceb053efcab26c87/numpy-1.20.2-cp37-cp37m-manylinux2010_x86_64.whl (15.3MB)\n",
            "\u001b[K     |████████████████████████████████| 15.3MB 338kB/s \n",
            "\u001b[?25hCollecting pandas==1.2.3\n",
            "\u001b[?25l  Downloading https://files.pythonhosted.org/packages/f3/d4/3fe3b5bf9886912b64ef040040aec356fa48825e5a829a84c2667afdf952/pandas-1.2.3-cp37-cp37m-manylinux1_x86_64.whl (9.9MB)\n",
            "\u001b[K     |████████████████████████████████| 9.9MB 50.3MB/s \n",
            "\u001b[?25hRequirement already satisfied: parso==0.8.1 in /usr/local/lib/python3.7/dist-packages (from -r Persian-Gender-Recognition/requirement.txt (line 22)) (0.8.1)\n",
            "Requirement already satisfied: pexpect==4.8.0 in /usr/local/lib/python3.7/dist-packages (from -r Persian-Gender-Recognition/requirement.txt (line 23)) (4.8.0)\n",
            "Requirement already satisfied: pickleshare==0.7.5 in /usr/local/lib/python3.7/dist-packages (from -r Persian-Gender-Recognition/requirement.txt (line 24)) (0.7.5)\n",
            "Collecting Pillow==8.1.2\n",
            "\u001b[?25l  Downloading https://files.pythonhosted.org/packages/1f/6d/b719ae8e21660a6a962636896dc4b7d657ef451a3ab941516401846ac5cb/Pillow-8.1.2-cp37-cp37m-manylinux1_x86_64.whl (2.2MB)\n",
            "\u001b[K     |████████████████████████████████| 2.2MB 29.0MB/s \n",
            "\u001b[?25hCollecting prompt-toolkit==3.0.18\n",
            "\u001b[?25l  Downloading https://files.pythonhosted.org/packages/eb/e6/4b4ca4fa94462d4560ba2f4e62e62108ab07be2e16a92e594e43b12d3300/prompt_toolkit-3.0.18-py3-none-any.whl (367kB)\n",
            "\u001b[K     |████████████████████████████████| 368kB 52.8MB/s \n",
            "\u001b[?25hRequirement already satisfied: ptyprocess==0.7.0 in /usr/local/lib/python3.7/dist-packages (from -r Persian-Gender-Recognition/requirement.txt (line 27)) (0.7.0)\n",
            "Collecting Pygments==2.8.1\n",
            "\u001b[?25l  Downloading https://files.pythonhosted.org/packages/3a/80/a52c0a7c5939737c6dca75a831e89658ecb6f590fb7752ac777d221937b9/Pygments-2.8.1-py3-none-any.whl (983kB)\n",
            "\u001b[K     |████████████████████████████████| 993kB 47.6MB/s \n",
            "\u001b[?25hRequirement already satisfied: pyparsing==2.4.7 in /usr/local/lib/python3.7/dist-packages (from -r Persian-Gender-Recognition/requirement.txt (line 29)) (2.4.7)\n",
            "Requirement already satisfied: python-dateutil==2.8.1 in /usr/local/lib/python3.7/dist-packages (from -r Persian-Gender-Recognition/requirement.txt (line 30)) (2.8.1)\n",
            "Collecting pytz==2021.1\n",
            "\u001b[?25l  Downloading https://files.pythonhosted.org/packages/70/94/784178ca5dd892a98f113cdd923372024dc04b8d40abe77ca76b5fb90ca6/pytz-2021.1-py2.py3-none-any.whl (510kB)\n",
            "\u001b[K     |████████████████████████████████| 512kB 39.8MB/s \n",
            "\u001b[?25hRequirement already satisfied: pyzmq==22.0.3 in /usr/local/lib/python3.7/dist-packages (from -r Persian-Gender-Recognition/requirement.txt (line 32)) (22.0.3)\n",
            "Collecting requests==2.25.1\n",
            "\u001b[?25l  Downloading https://files.pythonhosted.org/packages/29/c1/24814557f1d22c56d50280771a17307e6bf87b70727d975fd6b2ce6b014a/requests-2.25.1-py2.py3-none-any.whl (61kB)\n",
            "\u001b[K     |████████████████████████████████| 61kB 7.7MB/s \n",
            "\u001b[?25hCollecting scikit-learn==0.24.1\n",
            "\u001b[?25l  Downloading https://files.pythonhosted.org/packages/f3/74/eb899f41d55f957e2591cde5528e75871f817d9fb46d4732423ecaca736d/scikit_learn-0.24.1-cp37-cp37m-manylinux2010_x86_64.whl (22.3MB)\n",
            "\u001b[K     |████████████████████████████████| 22.3MB 1.9MB/s \n",
            "\u001b[?25hCollecting scipy==1.6.2\n",
            "\u001b[?25l  Downloading https://files.pythonhosted.org/packages/75/91/ee427c42957f8c4cbe477bf4f8b7f608e003a17941e509d1777e58648cb3/scipy-1.6.2-cp37-cp37m-manylinux1_x86_64.whl (27.4MB)\n",
            "\u001b[K     |████████████████████████████████| 27.4MB 147kB/s \n",
            "\u001b[?25hRequirement already satisfied: six==1.15.0 in /usr/local/lib/python3.7/dist-packages (from -r Persian-Gender-Recognition/requirement.txt (line 36)) (1.15.0)\n",
            "Requirement already satisfied: sklearn==0.0 in /usr/local/lib/python3.7/dist-packages (from -r Persian-Gender-Recognition/requirement.txt (line 37)) (0.0)\n",
            "Requirement already satisfied: tabulate==0.8.9 in /usr/local/lib/python3.7/dist-packages (from -r Persian-Gender-Recognition/requirement.txt (line 38)) (0.8.9)\n",
            "Collecting threadpoolctl==2.1.0\n",
            "  Downloading https://files.pythonhosted.org/packages/f7/12/ec3f2e203afa394a149911729357aa48affc59c20e2c1c8297a60f33f133/threadpoolctl-2.1.0-py3-none-any.whl\n",
            "Collecting tornado==6.1\n",
            "\u001b[?25l  Downloading https://files.pythonhosted.org/packages/91/a8/9c5902233fa3c2e6a889cbd164333ddda5009669f494e3fadbeee2c03af5/tornado-6.1-cp37-cp37m-manylinux2010_x86_64.whl (428kB)\n",
            "\u001b[K     |████████████████████████████████| 430kB 51.9MB/s \n",
            "\u001b[?25hRequirement already satisfied: traitlets==5.0.5 in /usr/local/lib/python3.7/dist-packages (from -r Persian-Gender-Recognition/requirement.txt (line 41)) (5.0.5)\n",
            "Collecting urllib3==1.26.4\n",
            "\u001b[?25l  Downloading https://files.pythonhosted.org/packages/09/c6/d3e3abe5b4f4f16cf0dfc9240ab7ce10c2baa0e268989a4e3ec19e90c84e/urllib3-1.26.4-py2.py3-none-any.whl (153kB)\n",
            "\u001b[K     |████████████████████████████████| 153kB 47.9MB/s \n",
            "\u001b[?25hRequirement already satisfied: wcwidth==0.2.5 in /usr/local/lib/python3.7/dist-packages (from -r Persian-Gender-Recognition/requirement.txt (line 43)) (0.2.5)\n",
            "Requirement already satisfied: setuptools>=18.5 in /usr/local/lib/python3.7/dist-packages (from ipython==7.21.0->-r Persian-Gender-Recognition/requirement.txt (line 10)) (54.2.0)\n",
            "Building wheels for collected packages: libwapiti, nltk\n",
            "  Building wheel for libwapiti (setup.py) ... \u001b[?25l\u001b[?25hdone\n",
            "  Created wheel for libwapiti: filename=libwapiti-0.2.1-cp37-cp37m-linux_x86_64.whl size=154308 sha256=815044ee6005f09bf47bc13ae1d0c4d53a5f4a7d60af853a169162c1bea50adf\n",
            "  Stored in directory: /root/.cache/pip/wheels/66/15/54/4510dce8bb958b1cdd2c47425cbd1e1eecc0480ac9bb1fb9ab\n",
            "  Building wheel for nltk (setup.py) ... \u001b[?25l\u001b[?25hdone\n",
            "  Created wheel for nltk: filename=nltk-3.3-cp37-none-any.whl size=1394471 sha256=1feb56169a3343b153bfdaf90c9bced1df5a5e94630912870ab3b8ab109b9718\n",
            "  Stored in directory: /root/.cache/pip/wheels/d1/ab/40/3bceea46922767e42986aef7606a600538ca80de6062dc266c\n",
            "Successfully built libwapiti nltk\n",
            "\u001b[31mERROR: tensorflow 2.4.1 has requirement numpy~=1.19.2, but you'll have numpy 1.20.2 which is incompatible.\u001b[0m\n",
            "\u001b[31mERROR: jupyter-console 5.2.0 has requirement prompt-toolkit<2.0.0,>=1.0.0, but you'll have prompt-toolkit 3.0.18 which is incompatible.\u001b[0m\n",
            "\u001b[31mERROR: google-colab 1.0.0 has requirement ipykernel~=4.10, but you'll have ipykernel 5.5.0 which is incompatible.\u001b[0m\n",
            "\u001b[31mERROR: google-colab 1.0.0 has requirement ipython~=5.5.0, but you'll have ipython 7.21.0 which is incompatible.\u001b[0m\n",
            "\u001b[31mERROR: google-colab 1.0.0 has requirement pandas~=1.1.0; python_version >= \"3.0\", but you'll have pandas 1.2.3 which is incompatible.\u001b[0m\n",
            "\u001b[31mERROR: google-colab 1.0.0 has requirement requests~=2.23.0, but you'll have requests 2.25.1 which is incompatible.\u001b[0m\n",
            "\u001b[31mERROR: google-colab 1.0.0 has requirement tornado~=5.1.0; python_version >= \"3.0\", but you'll have tornado 6.1 which is incompatible.\u001b[0m\n",
            "\u001b[31mERROR: datascience 0.10.6 has requirement folium==0.2.1, but you'll have folium 0.8.3 which is incompatible.\u001b[0m\n",
            "\u001b[31mERROR: albumentations 0.1.12 has requirement imgaug<0.2.7,>=0.2.5, but you'll have imgaug 0.2.9 which is incompatible.\u001b[0m\n",
            "Installing collected packages: appnope, chardet, nltk, libwapiti, hazm, tornado, jupyter-client, prompt-toolkit, Pygments, ipython, ipykernel, numpy, Pillow, matplotlib, pytz, pandas, urllib3, requests, threadpoolctl, scipy, scikit-learn\n",
            "  Found existing installation: chardet 3.0.4\n",
            "    Uninstalling chardet-3.0.4:\n",
            "      Successfully uninstalled chardet-3.0.4\n",
            "  Found existing installation: nltk 3.2.5\n",
            "    Uninstalling nltk-3.2.5:\n",
            "      Successfully uninstalled nltk-3.2.5\n",
            "  Found existing installation: tornado 5.1.1\n",
            "    Uninstalling tornado-5.1.1:\n",
            "      Successfully uninstalled tornado-5.1.1\n",
            "  Found existing installation: jupyter-client 5.3.5\n",
            "    Uninstalling jupyter-client-5.3.5:\n",
            "      Successfully uninstalled jupyter-client-5.3.5\n",
            "  Found existing installation: prompt-toolkit 1.0.18\n",
            "    Uninstalling prompt-toolkit-1.0.18:\n",
            "      Successfully uninstalled prompt-toolkit-1.0.18\n",
            "  Found existing installation: Pygments 2.6.1\n",
            "    Uninstalling Pygments-2.6.1:\n",
            "      Successfully uninstalled Pygments-2.6.1\n",
            "  Found existing installation: ipython 5.5.0\n",
            "    Uninstalling ipython-5.5.0:\n",
            "      Successfully uninstalled ipython-5.5.0\n",
            "  Found existing installation: ipykernel 4.10.1\n",
            "    Uninstalling ipykernel-4.10.1:\n",
            "      Successfully uninstalled ipykernel-4.10.1\n",
            "  Found existing installation: numpy 1.19.5\n",
            "    Uninstalling numpy-1.19.5:\n",
            "      Successfully uninstalled numpy-1.19.5\n",
            "  Found existing installation: Pillow 7.1.2\n",
            "    Uninstalling Pillow-7.1.2:\n",
            "      Successfully uninstalled Pillow-7.1.2\n",
            "  Found existing installation: matplotlib 3.2.2\n",
            "    Uninstalling matplotlib-3.2.2:\n",
            "      Successfully uninstalled matplotlib-3.2.2\n",
            "  Found existing installation: pytz 2018.9\n",
            "    Uninstalling pytz-2018.9:\n",
            "      Successfully uninstalled pytz-2018.9\n",
            "  Found existing installation: pandas 1.1.5\n",
            "    Uninstalling pandas-1.1.5:\n",
            "      Successfully uninstalled pandas-1.1.5\n",
            "  Found existing installation: urllib3 1.24.3\n",
            "    Uninstalling urllib3-1.24.3:\n",
            "      Successfully uninstalled urllib3-1.24.3\n",
            "  Found existing installation: requests 2.23.0\n",
            "    Uninstalling requests-2.23.0:\n",
            "      Successfully uninstalled requests-2.23.0\n",
            "  Found existing installation: scipy 1.4.1\n",
            "    Uninstalling scipy-1.4.1:\n",
            "      Successfully uninstalled scipy-1.4.1\n",
            "  Found existing installation: scikit-learn 0.22.2.post1\n",
            "    Uninstalling scikit-learn-0.22.2.post1:\n",
            "      Successfully uninstalled scikit-learn-0.22.2.post1\n",
            "Successfully installed Pillow-8.1.2 Pygments-2.8.1 appnope-0.1.2 chardet-4.0.0 hazm-0.7.0 ipykernel-5.5.0 ipython-7.21.0 jupyter-client-6.1.12 libwapiti-0.2.1 matplotlib-3.4.0 nltk-3.3 numpy-1.20.2 pandas-1.2.3 prompt-toolkit-3.0.18 pytz-2021.1 requests-2.25.1 scikit-learn-0.24.1 scipy-1.6.2 threadpoolctl-2.1.0 tornado-6.1 urllib3-1.26.4\n"
          ],
          "name": "stdout"
        },
        {
          "output_type": "display_data",
          "data": {
            "application/vnd.colab-display-data+json": {
              "pip_warning": {
                "packages": [
                  "IPython",
                  "PIL",
                  "ipykernel",
                  "jupyter_client",
                  "matplotlib",
                  "mpl_toolkits",
                  "numpy",
                  "pandas",
                  "prompt_toolkit",
                  "pygments",
                  "pytz",
                  "tornado"
                ]
              }
            }
          },
          "metadata": {
            "tags": []
          }
        }
      ]
    },
    {
      "cell_type": "markdown",
      "metadata": {
        "id": "CapOzDT_teD5"
      },
      "source": [
        "### Set Directory"
      ]
    },
    {
      "cell_type": "code",
      "metadata": {
        "id": "kVKhanHvteD5",
        "outputId": "a49346ca-f45e-4fa1-f976-a62a78cd8bb0",
        "colab": {
          "base_uri": "https://localhost:8080/"
        }
      },
      "source": [
        "%cd Persian-Gender-Recognition/code"
      ],
      "execution_count": 4,
      "outputs": [
        {
          "output_type": "stream",
          "text": [
            "/content/drive/My Drive/Persian-Gender-Recognition/code\n"
          ],
          "name": "stdout"
        }
      ]
    },
    {
      "cell_type": "markdown",
      "metadata": {
        "id": "hn3UdMiXteD5"
      },
      "source": [
        "## Import "
      ]
    },
    {
      "cell_type": "code",
      "metadata": {
        "id": "wvrw5CNwteD5"
      },
      "source": [
        "import os\n",
        "import pandas as pd\n",
        "import numpy as np\n",
        "\n",
        "from sklearn.preprocessing import StandardScaler\n",
        "from os.path import isfile\n",
        "\n",
        "import config\n",
        "import utils\n",
        "import data_path\n",
        "import data_loader\n",
        "\n",
        "from classifier import Classifier\n",
        "from feature_generator import generate_features"
      ],
      "execution_count": 5,
      "outputs": []
    },
    {
      "cell_type": "markdown",
      "metadata": {
        "id": "QwBp-4eLteD6"
      },
      "source": [
        "## Load Datasets"
      ]
    },
    {
      "cell_type": "code",
      "metadata": {
        "id": "nzw5uNdpteD6",
        "outputId": "e006c121-516f-421f-8ff2-934094da0d0b",
        "colab": {
          "base_uri": "https://localhost:8080/"
        }
      },
      "source": [
        "embedding_features = pd.read_csv(os.path.join(data_path.DATA_PATH, 'embedded_texts_gensim.csv'), index_col=0)\n",
        "print(embedding_features.head())"
      ],
      "execution_count": 10,
      "outputs": [
        {
          "output_type": "stream",
          "text": [
            "         F0        F1        F2        F3  ...       F48       F49  number  label\n",
            "0  0.024206 -0.030991  0.063560 -0.027825  ... -0.011071  0.107874     289      0\n",
            "1  0.015821 -0.058928 -0.138164 -0.130736  ... -0.124645  0.221547     504      0\n",
            "2  0.033087  0.003720 -0.037134 -0.168871  ... -0.105814  0.138139     262      0\n",
            "3 -0.023201 -0.061457  0.071226 -0.171489  ... -0.191763  0.125181     276      0\n",
            "4 -0.009515  0.020851  0.036604 -0.234346  ... -0.198262  0.174200     510      0\n",
            "\n",
            "[5 rows x 52 columns]\n"
          ],
          "name": "stdout"
        }
      ]
    },
    {
      "cell_type": "code",
      "metadata": {
        "id": "eYkT5XkFuhvY",
        "outputId": "6dcacc61-aba7-48a6-b752-93f5493e360e",
        "colab": {
          "base_uri": "https://localhost:8080/"
        }
      },
      "source": [
        "psychological_features = pd.read_csv(os.path.join(data_path.DATA_PATH, 'psychological_features.csv'), index_col=0)\n",
        "print(psychological_features.head())"
      ],
      "execution_count": 11,
      "outputs": [
        {
          "output_type": "stream",
          "text": [
            "   PSY_F36  PSY_F37  PSY_F38  PSY_F39  PSY_F47  PSY_F48  number  label\n",
            "0       25       16        0        0        0        0     289      0\n",
            "1        2        5        0        1        0        2     504      0\n",
            "2       19       16        0        0        0        0     262      0\n",
            "3        7        9        0        0        0        0     276      0\n",
            "4       33       44        0        4        0        0     510      0\n"
          ],
          "name": "stdout"
        }
      ]
    },
    {
      "cell_type": "code",
      "metadata": {
        "id": "iEQ4Io_0uhjM",
        "outputId": "2aa7c882-9d0a-45f0-df0f-69dfe5d48f54",
        "colab": {
          "base_uri": "https://localhost:8080/"
        }
      },
      "source": [
        "structural_features = pd.read_csv(os.path.join(data_path.DATA_PATH, 'structural_features.csv'), index_col=0)\n",
        "print(structural_features.head())"
      ],
      "execution_count": 12,
      "outputs": [
        {
          "output_type": "stream",
          "text": [
            "   STR_F25  STR_F26  STR_F27  STR_F28  STR_F29  number  label\n",
            "0        1        1     55.0      0.0    122.5     289      0\n",
            "1        0        1     18.0      0.0     92.0     504      0\n",
            "2        1        1     53.0      0.0    117.5     262      0\n",
            "3        0        1     20.0      0.0     80.0     276      0\n",
            "4        1       10     14.3      0.0    276.5     510      0\n"
          ],
          "name": "stdout"
        }
      ]
    },
    {
      "cell_type": "code",
      "metadata": {
        "id": "HFxxsom_uhV1",
        "outputId": "b170054b-777c-4c17-8cb8-1bc07d9afbb7",
        "colab": {
          "base_uri": "https://localhost:8080/"
        }
      },
      "source": [
        "syntactics_features = pd.read_csv(os.path.join(data_path.DATA_PATH, 'syntactics_features.csv'), index_col=0)\n",
        "print(syntactics_features.head())"
      ],
      "execution_count": 14,
      "outputs": [
        {
          "output_type": "stream",
          "text": [
            "   SYN_F18   SYN_F19  SYN_F20  SYN_F21  ...   SYN_F23   SYN_F24  number  label\n",
            "0      0.0  0.000000      0.0      0.0  ...  0.000000  0.000000     289      0\n",
            "1      0.0  0.000000      0.0      0.0  ...  0.000000  0.000000     504      0\n",
            "2      0.0  0.000000      0.0      0.0  ...  0.012766  0.004255     262      0\n",
            "3      0.0  0.000000      0.0      0.0  ...  0.000000  0.000000     276      0\n",
            "4      0.0  0.018083      0.0      0.0  ...  0.000000  0.000000     510      0\n",
            "\n",
            "[5 rows x 9 columns]\n"
          ],
          "name": "stdout"
        }
      ]
    },
    {
      "cell_type": "code",
      "metadata": {
        "id": "DJ7985WsuhKI",
        "outputId": "4ca3d38b-d600-42e1-efd4-ed3a0067b948",
        "colab": {
          "base_uri": "https://localhost:8080/"
        }
      },
      "source": [
        "text_dependent_features = pd.read_csv(os.path.join(data_path.DATA_PATH, 'text_dependent_features.csv'), index_col=0)\n",
        "print(text_dependent_features.head())"
      ],
      "execution_count": 15,
      "outputs": [
        {
          "output_type": "stream",
          "text": [
            "   TD_F1     TD_F2  TD_F49  TD_F3     TD_F4  TD_F5     TD_F6  number  label\n",
            "0    245  0.102041      25      1  0.179592    0.0  0.012245     289      0\n",
            "1     92  0.217391      20      2  0.163043    0.0  0.000000     504      0\n",
            "2    235  0.110638      26      3  0.195745    0.0  0.012766     262      0\n",
            "3     80  0.250000      20      1  0.212500    0.0  0.000000     276      0\n",
            "4    553  0.048825      27     16  0.249548    0.0  0.018083     510      0\n"
          ],
          "name": "stdout"
        }
      ]
    },
    {
      "cell_type": "code",
      "metadata": {
        "id": "XQj5pdk2ug9M",
        "outputId": "c3f3d0f1-87e0-46a5-ca42-780d191deb36",
        "colab": {
          "base_uri": "https://localhost:8080/"
        }
      },
      "source": [
        "word_dependent_features = pd.read_csv(os.path.join(data_path.DATA_PATH, 'word_dependent_features.csv'), index_col=0)\n",
        "print(word_dependent_features.head())"
      ],
      "execution_count": 16,
      "outputs": [
        {
          "output_type": "stream",
          "text": [
            "   WD_F7     WD_F8     WD_F9    WD_F10  ...       WD_F17    WD_F50  number  label\n",
            "0     55  4.454545  0.763636  0.600000  ...  1870.088820  3.635431     289      0\n",
            "1     18  5.111111  0.888889  0.611111  ...  2312.297406  2.736339     504      0\n",
            "2     53  4.433962  0.830189  0.660377  ...  2495.612060  3.715138     262      0\n",
            "3     20  4.000000  0.950000  0.800000  ...  5691.891320  2.926418     276      0\n",
            "4    143  3.867133  0.601399  0.608392  ...  2134.023191  4.147394     510      0\n",
            "\n",
            "[5 rows x 14 columns]\n"
          ],
          "name": "stdout"
        }
      ]
    },
    {
      "cell_type": "markdown",
      "metadata": {
        "id": "J4vPK8xEteD7"
      },
      "source": [
        "## Generate Features"
      ]
    },
    {
      "cell_type": "code",
      "metadata": {
        "id": "QsgXtzLjteD7",
        "outputId": "34162bb1-e7f8-4fa0-8c00-ba163418ae49",
        "colab": {
          "base_uri": "https://localhost:8080/"
        }
      },
      "source": [
        "features_list = [embedding_features, psychological_features, structural_features, syntactics_features, text_dependent_features, word_dependent_features]\n",
        "\n",
        "features = features_list.pop()\n",
        "for feature in features_list:\n",
        "  features = pd.merge(features, feature, left_on=['label', 'number'], right_on=['label', 'number'])\n",
        "\n",
        "print(features.head())\n",
        "print(features.shape)"
      ],
      "execution_count": 20,
      "outputs": [
        {
          "output_type": "stream",
          "text": [
            "   WD_F7     WD_F8     WD_F9    WD_F10  ...  TD_F3     TD_F4  TD_F5     TD_F6\n",
            "0     55  4.454545  0.763636  0.600000  ...      1  0.179592    0.0  0.012245\n",
            "1     18  5.111111  0.888889  0.611111  ...      2  0.163043    0.0  0.000000\n",
            "2     53  4.433962  0.830189  0.660377  ...      3  0.195745    0.0  0.012766\n",
            "3     20  4.000000  0.950000  0.800000  ...      1  0.212500    0.0  0.000000\n",
            "4    143  3.867133  0.601399  0.608392  ...     16  0.249548    0.0  0.018083\n",
            "\n",
            "[5 rows x 89 columns]\n",
            "(2000, 89)\n"
          ],
          "name": "stdout"
        }
      ]
    },
    {
      "cell_type": "markdown",
      "metadata": {
        "id": "3kJV92-uteD8"
      },
      "source": [
        "## Split X, y "
      ]
    },
    {
      "cell_type": "code",
      "metadata": {
        "id": "uP-X8UteteD8"
      },
      "source": [
        "y = features['label']\n",
        "X = features.drop(['label', 'number'], axis=1)"
      ],
      "execution_count": 21,
      "outputs": []
    },
    {
      "cell_type": "markdown",
      "metadata": {
        "id": "D6JT56jzteD8"
      },
      "source": [
        "## Normalize"
      ]
    },
    {
      "cell_type": "code",
      "metadata": {
        "id": "E85P-1s1teD8"
      },
      "source": [
        "\n",
        "# from sklearn.preprocessing import MinMaxScaler\n",
        "# scaler = MinMaxScaler()\n",
        "\n",
        "scaler = StandardScaler()\n",
        "X = pd.DataFrame(scaler.fit_transform(X), columns=X.columns)"
      ],
      "execution_count": 22,
      "outputs": []
    },
    {
      "cell_type": "markdown",
      "metadata": {
        "id": "Lg1epwHjteD-"
      },
      "source": [
        "## Feature Importance"
      ]
    },
    {
      "cell_type": "code",
      "metadata": {
        "id": "3wETqZ_TteD-"
      },
      "source": [
        "classifier = Classifier('Random Forest', n_estimator=200)\n",
        "classifier.fit(X, y)\n",
        "feature_importance = classifier.model.feature_importances_"
      ],
      "execution_count": 30,
      "outputs": []
    },
    {
      "cell_type": "code",
      "metadata": {
        "id": "si03gmMg4bdL",
        "outputId": "84e47c7c-10c2-44de-a836-c5aaf4248b5f",
        "colab": {
          "base_uri": "https://localhost:8080/",
          "height": 358
        }
      },
      "source": [
        "pip install matplotlib==3.1.3"
      ],
      "execution_count": 33,
      "outputs": [
        {
          "output_type": "stream",
          "text": [
            "Collecting matplotlib==3.1.3\n",
            "\u001b[?25l  Downloading https://files.pythonhosted.org/packages/4c/9b/35ab3469fd1509f7636a344940569ebfd33239673fd2318e80b4700a257c/matplotlib-3.1.3-cp37-cp37m-manylinux1_x86_64.whl (13.1MB)\n",
            "\u001b[K     |████████████████████████████████| 13.1MB 295kB/s \n",
            "\u001b[?25hRequirement already satisfied: pyparsing!=2.0.4,!=2.1.2,!=2.1.6,>=2.0.1 in /usr/local/lib/python3.7/dist-packages (from matplotlib==3.1.3) (2.4.7)\n",
            "Requirement already satisfied: kiwisolver>=1.0.1 in /usr/local/lib/python3.7/dist-packages (from matplotlib==3.1.3) (1.3.1)\n",
            "Requirement already satisfied: cycler>=0.10 in /usr/local/lib/python3.7/dist-packages (from matplotlib==3.1.3) (0.10.0)\n",
            "Requirement already satisfied: python-dateutil>=2.1 in /usr/local/lib/python3.7/dist-packages (from matplotlib==3.1.3) (2.8.1)\n",
            "Requirement already satisfied: numpy>=1.11 in /usr/local/lib/python3.7/dist-packages (from matplotlib==3.1.3) (1.20.2)\n",
            "Requirement already satisfied: six in /usr/local/lib/python3.7/dist-packages (from cycler>=0.10->matplotlib==3.1.3) (1.15.0)\n",
            "\u001b[31mERROR: albumentations 0.1.12 has requirement imgaug<0.2.7,>=0.2.5, but you'll have imgaug 0.2.9 which is incompatible.\u001b[0m\n",
            "Installing collected packages: matplotlib\n",
            "  Found existing installation: matplotlib 3.4.0\n",
            "    Uninstalling matplotlib-3.4.0:\n",
            "      Successfully uninstalled matplotlib-3.4.0\n",
            "Successfully installed matplotlib-3.1.3\n"
          ],
          "name": "stdout"
        },
        {
          "output_type": "display_data",
          "data": {
            "application/vnd.colab-display-data+json": {
              "pip_warning": {
                "packages": [
                  "matplotlib",
                  "mpl_toolkits"
                ]
              }
            }
          },
          "metadata": {
            "tags": []
          }
        }
      ]
    },
    {
      "cell_type": "code",
      "metadata": {
        "id": "ea5sVQJoteD_",
        "outputId": "dddf4a2c-4c60-486e-9a35-3220d3dc5ac9",
        "colab": {
          "base_uri": "https://localhost:8080/",
          "height": 879
        }
      },
      "source": [
        "utils.plot_feature_importance(feature_importance, X)"
      ],
      "execution_count": 34,
      "outputs": [
        {
          "output_type": "display_data",
          "data": {
            "image/png": "[encoded data removed]",
            "text/plain": [
              "<Figure size 720x1080 with 1 Axes>"
            ]
          },
          "metadata": {
            "tags": [],
            "needs_background": "light"
          }
        }
      ]
    },
    {
      "cell_type": "code",
      "metadata": {
        "id": "g6tZp_nb6ExF"
      },
      "source": [
        "selected_features = feature_importance > 0.01"
      ],
      "execution_count": 65,
      "outputs": []
    },
    {
      "cell_type": "code",
      "metadata": {
        "id": "RNFyY0QG63j4"
      },
      "source": [
        "X = X.T[selected_features].T\n",
        "print(X.shape)"
      ],
      "execution_count": 69,
      "outputs": []
    },
    {
      "cell_type": "markdown",
      "metadata": {
        "id": "S_pJyXr5teD8"
      },
      "source": [
        "## Classification"
      ]
    },
    {
      "cell_type": "code",
      "metadata": {
        "id": "1Z6fhzXeteD9",
        "outputId": "4107c795-a178-4648-d060-5503ac19d215",
        "colab": {
          "base_uri": "https://localhost:8080/"
        }
      },
      "source": [
        "classifier = Classifier('Random Forest', n_estimator=300, max_depth=10)\n",
        "classifier.train(X, y, n_folds=10)"
      ],
      "execution_count": 80,
      "outputs": [
        {
          "output_type": "stream",
          "text": [
            "| index     |    Fold1 |    Fold2 |    Fold3 |    Fold4 |    Fold5 |    Fold6 |    Fold7 |    Fold8 |    Fold9 |   Fold10 |     mean |\n",
            "|:----------|---------:|---------:|---------:|---------:|---------:|---------:|---------:|---------:|---------:|---------:|---------:|\n",
            "| precision | 0.533981 | 0.673267 | 0.602041 | 0.470588 | 0.625    | 0.611111 | 0.537634 | 0.567797 | 0.582524 | 0.712644 | 0.591659 |\n",
            "| recall    | 0.544554 | 0.686869 | 0.572816 | 0.564706 | 0.582524 | 0.594595 | 0.526316 | 0.712766 | 0.689655 | 0.553571 | 0.602837 |\n",
            "| f1        | 0.539216 | 0.68     | 0.587065 | 0.513369 | 0.603015 | 0.60274  | 0.531915 | 0.632075 | 0.631579 | 0.623116 | 0.594409 |\n",
            "| accuracy  | 0.53     | 0.68     | 0.585    | 0.545    | 0.605    | 0.565    | 0.56     | 0.61     | 0.65     | 0.625    | 0.5955   |\n"
          ],
          "name": "stdout"
        }
      ]
    },
    {
      "cell_type": "code",
      "metadata": {
        "id": "oC4fC4NuteD9",
        "outputId": "e94ae24a-9fce-4060-d95d-053aa269369f",
        "colab": {
          "base_uri": "https://localhost:8080/"
        }
      },
      "source": [
        "classifier = Classifier('SVM' , kernel='rbf', gamma='scale')\n",
        "classifier.train(X, y, n_folds=10)"
      ],
      "execution_count": 81,
      "outputs": [
        {
          "output_type": "stream",
          "text": [
            "| index     |    Fold1 |    Fold2 |    Fold3 |    Fold4 |    Fold5 |    Fold6 |    Fold7 |    Fold8 |    Fold9 |   Fold10 |     mean |\n",
            "|:----------|---------:|---------:|---------:|---------:|---------:|---------:|---------:|---------:|---------:|---------:|---------:|\n",
            "| precision | 0.57732  | 0.65625  | 0.610526 | 0.533981 | 0.655914 | 0.663366 | 0.565217 | 0.566038 | 0.56     | 0.674419 | 0.606303 |\n",
            "| recall    | 0.554455 | 0.636364 | 0.563107 | 0.647059 | 0.592233 | 0.603604 | 0.547368 | 0.638298 | 0.643678 | 0.517857 | 0.594402 |\n",
            "| f1        | 0.565657 | 0.646154 | 0.585859 | 0.585106 | 0.622449 | 0.632075 | 0.55615  | 0.6      | 0.59893  | 0.585859 | 0.597824 |\n",
            "| accuracy  | 0.57     | 0.655    | 0.59     | 0.61     | 0.63     | 0.61     | 0.585    | 0.6      | 0.625    | 0.59     | 0.6065   |\n"
          ],
          "name": "stdout"
        }
      ]
    },
    {
      "cell_type": "code",
      "metadata": {
        "id": "Mrj6pdksteD9",
        "outputId": "224f3958-1a63-4fef-b69f-ac89a13f3ac7",
        "colab": {
          "base_uri": "https://localhost:8080/"
        }
      },
      "source": [
        "classifier = Classifier('MLP', max_iter=1200 , hidden_layer_sizes=(32,4,), activation='relu', solver='adam')\n",
        "classifier.train(X, y, n_folds=10)"
      ],
      "execution_count": 82,
      "outputs": [
        {
          "output_type": "stream",
          "text": [
            "| index     |    Fold1 |    Fold2 |    Fold3 |    Fold4 |    Fold5 |    Fold6 |    Fold7 |    Fold8 |    Fold9 |   Fold10 |     mean |\n",
            "|:----------|---------:|---------:|---------:|---------:|---------:|---------:|---------:|---------:|---------:|---------:|---------:|\n",
            "| precision | 0.602151 | 0.528846 | 0.525773 | 0.520408 | 0.615385 | 0.586957 | 0.51     | 0.558824 | 0.5      | 0.625    | 0.557334 |\n",
            "| recall    | 0.554455 | 0.555556 | 0.495146 | 0.6      | 0.543689 | 0.486486 | 0.536842 | 0.606383 | 0.62069  | 0.580357 | 0.55796  |\n",
            "| f1        | 0.57732  | 0.541872 | 0.51     | 0.557377 | 0.57732  | 0.53202  | 0.523077 | 0.581633 | 0.553846 | 0.601852 | 0.555632 |\n",
            "| accuracy  | 0.59     | 0.535    | 0.51     | 0.595    | 0.59     | 0.525    | 0.535    | 0.59     | 0.565    | 0.57     | 0.5605   |\n"
          ],
          "name": "stdout"
        }
      ]
    },
    {
      "cell_type": "code",
      "metadata": {
        "id": "A4VvPcPpteD-",
        "outputId": "feade049-206d-41c3-806c-85722f029877",
        "colab": {
          "base_uri": "https://localhost:8080/"
        }
      },
      "source": [
        "classifier = Classifier('Naive Bayes')\n",
        "classifier.train(X, y, n_folds=10)"
      ],
      "execution_count": 83,
      "outputs": [
        {
          "output_type": "stream",
          "text": [
            "| index     |    Fold1 |    Fold2 |    Fold3 |    Fold4 |    Fold5 |    Fold6 |    Fold7 |    Fold8 |    Fold9 |   Fold10 |     mean |\n",
            "|:----------|---------:|---------:|---------:|---------:|---------:|---------:|---------:|---------:|---------:|---------:|---------:|\n",
            "| precision | 0.568182 | 0.635135 | 0.580645 | 0.515152 | 0.684211 | 0.625    | 0.611111 | 0.634146 | 0.54321  | 0.716216 | 0.611301 |\n",
            "| recall    | 0.49505  | 0.474747 | 0.349515 | 0.4      | 0.504854 | 0.540541 | 0.463158 | 0.553191 | 0.505747 | 0.473214 | 0.476002 |\n",
            "| f1        | 0.529101 | 0.543353 | 0.436364 | 0.450331 | 0.581006 | 0.57971  | 0.526946 | 0.590909 | 0.52381  | 0.569892 | 0.533142 |\n",
            "| accuracy  | 0.555    | 0.605    | 0.535    | 0.585    | 0.625    | 0.565    | 0.605    | 0.64     | 0.6      | 0.6      | 0.5915   |\n"
          ],
          "name": "stdout"
        }
      ]
    },
    {
      "cell_type": "code",
      "metadata": {
        "id": "J5yNjy1zteD-",
        "outputId": "7b0f2a6e-8622-4f23-8bda-e6a499b0e6a7",
        "colab": {
          "base_uri": "https://localhost:8080/"
        }
      },
      "source": [
        "classifier = Classifier('Ada Boost', n_estimators= 120, learning_rate= 0.5)\n",
        "classifier.train(X, y, n_folds=10)"
      ],
      "execution_count": 84,
      "outputs": [
        {
          "output_type": "stream",
          "text": [
            "| index     |    Fold1 |    Fold2 |    Fold3 |    Fold4 |    Fold5 |    Fold6 |    Fold7 |    Fold8 |    Fold9 |   Fold10 |     mean |\n",
            "|:----------|---------:|---------:|---------:|---------:|---------:|---------:|---------:|---------:|---------:|---------:|---------:|\n",
            "| precision | 0.541667 | 0.65625  | 0.565217 | 0.476636 | 0.612903 | 0.572816 | 0.523256 | 0.583333 | 0.505263 | 0.670455 | 0.57078  |\n",
            "| recall    | 0.514851 | 0.636364 | 0.504854 | 0.6      | 0.553398 | 0.531532 | 0.473684 | 0.670213 | 0.551724 | 0.526786 | 0.556341 |\n",
            "| f1        | 0.527919 | 0.646154 | 0.533333 | 0.53125  | 0.581633 | 0.551402 | 0.497238 | 0.623762 | 0.527473 | 0.59     | 0.561016 |\n",
            "| accuracy  | 0.535    | 0.655    | 0.545    | 0.55     | 0.59     | 0.52     | 0.545    | 0.62     | 0.57     | 0.59     | 0.572    |\n"
          ],
          "name": "stdout"
        }
      ]
    },
    {
      "cell_type": "markdown",
      "metadata": {
        "id": "0NrrfSvvteD_"
      },
      "source": [
        "## Split Train and Test"
      ]
    },
    {
      "cell_type": "code",
      "metadata": {
        "id": "0AM1UR0EteD_"
      },
      "source": [
        "from sklearn.model_selection import train_test_split\n",
        "\n",
        "X_train, X_test, y_train, y_test = train_test_split(X, y, test_size=0.2, random_state=2, shuffle=True)"
      ],
      "execution_count": 70,
      "outputs": []
    },
    {
      "cell_type": "code",
      "metadata": {
        "id": "k523GsbWteD_"
      },
      "source": [
        "svm = Classifier('SVM' , kernel='rbf', gamma='auto', probability=True)\n",
        "train_predictions_svm = svm.fit(X_train, y_train)"
      ],
      "execution_count": 71,
      "outputs": []
    },
    {
      "cell_type": "code",
      "metadata": {
        "id": "SEejxFjbteEA"
      },
      "source": [
        "rf = Classifier('Random Forest', n_estimator=200, max_depth=10)\n",
        "train_predictions_rf = rf.fit(X_train, y_train)"
      ],
      "execution_count": 72,
      "outputs": []
    },
    {
      "cell_type": "code",
      "metadata": {
        "id": "5itbSJxYteEA"
      },
      "source": [
        "mlp = Classifier('MLP', max_iter=1200 , hidden_layer_sizes=(32, 4,), activation='relu', solver='adam')\n",
        "train_predictions_mlp = mlp.fit(X_train, y_train)"
      ],
      "execution_count": 73,
      "outputs": []
    },
    {
      "cell_type": "code",
      "metadata": {
        "id": "BOKWUBW2teEA"
      },
      "source": [
        "adaboost = Classifier('Ada Boost', n_estimators= 120, learning_rate= 0.5)\n",
        "train_predictions_adaboost = adaboost.fit(X_train, y_train)"
      ],
      "execution_count": 74,
      "outputs": []
    },
    {
      "cell_type": "code",
      "metadata": {
        "id": "edDTrcSOteEA"
      },
      "source": [
        "nb = Classifier('Naive Bayes')\n",
        "train_predictions_nb = nb.fit(X_train, y_train)"
      ],
      "execution_count": 75,
      "outputs": []
    },
    {
      "cell_type": "code",
      "metadata": {
        "id": "bAX2XE3OteEA"
      },
      "source": [
        "threshold = 0.5\n",
        "\n",
        "train_prediction_labels_svm = np.array(train_predictions_svm[:,1] > threshold, dtype=int)\n",
        "train_prediction_labels_rf = np.array(train_predictions_rf[:,1] > threshold, dtype=int)\n",
        "train_prediction_labels_mlp = np.array(train_predictions_mlp[:,1] > threshold, dtype=int)\n",
        "train_prediction_labels_ad = np.array(train_predictions_adaboost[:,1] > threshold, dtype=int)\n",
        "train_prediction_labels_nb = np.array(train_predictions_nb[:,1] > threshold, dtype=int)\n",
        "\n",
        "lsts = []\n",
        "for i in range(len(train_prediction_labels_svm)):\n",
        "    lsts.append(\n",
        "        [\n",
        "            train_prediction_labels_svm[i],\n",
        "            train_prediction_labels_rf[i],\n",
        "            train_prediction_labels_mlp[i],\n",
        "            train_prediction_labels_ad[i],\n",
        "            # train_prediction_labels_nb[i]\n",
        "        ]\n",
        "    )\n",
        "\n",
        "y_train_pred = [ max(lst, key=lst.count) for lst in lsts]"
      ],
      "execution_count": 76,
      "outputs": []
    },
    {
      "cell_type": "code",
      "metadata": {
        "id": "lWd8bZRxteEA",
        "outputId": "82eef2b0-efc5-4412-f2b4-23de9d2f85cc",
        "colab": {
          "base_uri": "https://localhost:8080/"
        }
      },
      "source": [
        "from sklearn.metrics import classification_report, accuracy_score\n",
        "print(classification_report(y_train, y_train_pred))\n",
        "print(accuracy_score(y_train, y_train_pred))"
      ],
      "execution_count": 77,
      "outputs": [
        {
          "output_type": "stream",
          "text": [
            "              precision    recall  f1-score   support\n",
            "\n",
            "           0       0.82      0.86      0.84       818\n",
            "           1       0.85      0.81      0.83       782\n",
            "\n",
            "    accuracy                           0.83      1600\n",
            "   macro avg       0.84      0.83      0.83      1600\n",
            "weighted avg       0.83      0.83      0.83      1600\n",
            "\n",
            "0.834375\n"
          ],
          "name": "stdout"
        }
      ]
    },
    {
      "cell_type": "code",
      "metadata": {
        "id": "lF5vifSXteEB"
      },
      "source": [
        "test_predictions_svm = rf.predict(X_test)\n",
        "test_predictions_rf = svm.predict(X_test)\n",
        "test_predictions_ad = adaboost.predict(X_test)\n",
        "test_predictions_nb = nb.predict(X_test)\n",
        "test_predictions_mlp = mlp.predict(X_test)\n",
        "\n",
        "test_prediction_labels_svm = np.array(test_predictions_svm[:,1] > threshold, dtype=int)\n",
        "test_prediction_labels_rf = np.array(test_predictions_rf[:,1] > threshold, dtype=int)\n",
        "test_prediction_labels_mlp = np.array(test_predictions_mlp[:,1] > threshold, dtype=int)\n",
        "test_prediction_labels_ad = np.array(test_predictions_ad[:,1] > threshold, dtype=int)\n",
        "test_prediction_labels_nb = np.array(test_predictions_nb[:,1] > threshold, dtype=int)\n",
        "\n",
        "lsts = []\n",
        "for i in range(len(test_prediction_labels_svm)):\n",
        "    lsts.append(\n",
        "        [\n",
        "            test_prediction_labels_svm[i],\n",
        "            test_prediction_labels_rf[i],\n",
        "            test_prediction_labels_mlp[i],\n",
        "            test_prediction_labels_ad[i],\n",
        "            # test_prediction_labels_nb[i]\n",
        "        ]\n",
        "    )\n",
        "\n",
        "y_test_pred = [ max(lst, key=lst.count) for lst in lsts]"
      ],
      "execution_count": 78,
      "outputs": []
    },
    {
      "cell_type": "code",
      "metadata": {
        "id": "jQtPypzQteEB",
        "outputId": "4acaef41-a925-4be5-907f-c4bd1360a45f",
        "colab": {
          "base_uri": "https://localhost:8080/"
        }
      },
      "source": [
        "print(classification_report(y_test, y_test_pred))\n",
        "print(accuracy_score(y_test, y_test_pred))"
      ],
      "execution_count": 79,
      "outputs": [
        {
          "output_type": "stream",
          "text": [
            "              precision    recall  f1-score   support\n",
            "\n",
            "           0       0.51      0.62      0.56       182\n",
            "           1       0.61      0.50      0.55       218\n",
            "\n",
            "    accuracy                           0.56       400\n",
            "   macro avg       0.56      0.56      0.55       400\n",
            "weighted avg       0.56      0.56      0.55       400\n",
            "\n",
            "0.555\n"
          ],
          "name": "stdout"
        }
      ]
    },
    {
      "cell_type": "code",
      "metadata": {
        "id": "uNxkHGM2teEB"
      },
      "source": [
        ""
      ],
      "execution_count": 79,
      "outputs": []
    },
    {
      "cell_type": "code",
      "metadata": {
        "id": "Z7spGfC_teEC"
      },
      "source": [
        ""
      ],
      "execution_count": null,
      "outputs": []
    },
    {
      "cell_type": "code",
      "metadata": {
        "id": "u8hL7X1FteEC"
      },
      "source": [
        ""
      ],
      "execution_count": null,
      "outputs": []
    },
    {
      "cell_type": "code",
      "metadata": {
        "id": "2feKHbB6teEC"
      },
      "source": [
        ""
      ],
      "execution_count": null,
      "outputs": []
    },
    {
      "cell_type": "code",
      "metadata": {
        "id": "KOrQGpucteEC"
      },
      "source": [
        ""
      ],
      "execution_count": null,
      "outputs": []
    },
    {
      "cell_type": "code",
      "metadata": {
        "id": "7JFEA39FteEC"
      },
      "source": [
        ""
      ],
      "execution_count": null,
      "outputs": []
    },
    {
      "cell_type": "code",
      "metadata": {
        "id": "PrFv-IghteEC"
      },
      "source": [
        ""
      ],
      "execution_count": null,
      "outputs": []
    },
    {
      "cell_type": "code",
      "metadata": {
        "id": "ackGLlcFteEC"
      },
      "source": [
        ""
      ],
      "execution_count": null,
      "outputs": []
    },
    {
      "cell_type": "code",
      "metadata": {
        "id": "1EuoTcs8teEC"
      },
      "source": [
        ""
      ],
      "execution_count": null,
      "outputs": []
    },
    {
      "cell_type": "code",
      "metadata": {
        "id": "hT4gfxR7teED"
      },
      "source": [
        ""
      ],
      "execution_count": null,
      "outputs": []
    },
    {
      "cell_type": "code",
      "metadata": {
        "id": "t0VXMgeTteED"
      },
      "source": [
        ""
      ],
      "execution_count": null,
      "outputs": []
    },
    {
      "cell_type": "code",
      "metadata": {
        "id": "lsURbYDLteED"
      },
      "source": [
        ""
      ],
      "execution_count": null,
      "outputs": []
    },
    {
      "cell_type": "code",
      "metadata": {
        "id": "qGlArY9BteEF"
      },
      "source": [
        ""
      ],
      "execution_count": null,
      "outputs": []
    }
  ]
}