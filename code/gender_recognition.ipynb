{
 "cells": [
  {
   "cell_type": "markdown",
   "metadata": {},
   "source": [
    "# NLP (HW1)\n",
    "## Persian Gender Recognition\n",
    "## Authors: Nahal Mirzaie, Tahere Talaie\n",
    "### Spring 1400"
   ]
  },
  {
   "cell_type": "markdown",
   "metadata": {},
   "source": [
    "## Connect to Google Drive"
   ]
  },
  {
   "cell_type": "code",
   "execution_count": null,
   "metadata": {},
   "outputs": [],
   "source": [
    "from google.colab import drive\n",
    "drive.mount('/content/drive')"
   ]
  },
  {
   "cell_type": "markdown",
   "metadata": {},
   "source": [
    "### Clone Project from Github"
   ]
  },
  {
   "cell_type": "code",
   "execution_count": null,
   "metadata": {},
   "outputs": [],
   "source": [
    "%cd drive/MyDrive\n",
    "\n",
    "!git clone 'https://github.com/mirzanahal/Persian-Gender-Recognition'"
   ]
  },
  {
   "cell_type": "markdown",
   "metadata": {},
   "source": [
    "### Install Requirement"
   ]
  },
  {
   "cell_type": "code",
   "execution_count": null,
   "metadata": {},
   "outputs": [],
   "source": [
    "!pip install -r Persian-Gender-Recognition/requirement.txt"
   ]
  },
  {
   "cell_type": "markdown",
   "metadata": {},
   "source": [
    "### Set Directory"
   ]
  },
  {
   "cell_type": "code",
   "execution_count": null,
   "metadata": {},
   "outputs": [],
   "source": [
    "%cd Persian-Gender-Recognition/code"
   ]
  },
  {
   "cell_type": "markdown",
   "metadata": {},
   "source": [
    "## Import "
   ]
  },
  {
   "cell_type": "code",
   "execution_count": 1,
   "metadata": {},
   "outputs": [
    {
     "output_type": "error",
     "ename": "ModuleNotFoundError",
     "evalue": "No module named 'pandas'",
     "traceback": [
      "\u001b[0;31m---------------------------------------------------------------------------\u001b[0m",
      "\u001b[0;31mModuleNotFoundError\u001b[0m                       Traceback (most recent call last)",
      "\u001b[0;32m<ipython-input-1-2d677c3928f9>\u001b[0m in \u001b[0;36m<module>\u001b[0;34m\u001b[0m\n\u001b[1;32m      1\u001b[0m \u001b[0;32mimport\u001b[0m \u001b[0mos\u001b[0m\u001b[0;34m\u001b[0m\u001b[0;34m\u001b[0m\u001b[0m\n\u001b[0;32m----> 2\u001b[0;31m \u001b[0;32mimport\u001b[0m \u001b[0mpandas\u001b[0m \u001b[0;32mas\u001b[0m \u001b[0mpd\u001b[0m\u001b[0;34m\u001b[0m\u001b[0;34m\u001b[0m\u001b[0m\n\u001b[0m\u001b[1;32m      3\u001b[0m \u001b[0;32mimport\u001b[0m \u001b[0mnumpy\u001b[0m \u001b[0;32mas\u001b[0m \u001b[0mnp\u001b[0m\u001b[0;34m\u001b[0m\u001b[0;34m\u001b[0m\u001b[0m\n\u001b[1;32m      4\u001b[0m \u001b[0;34m\u001b[0m\u001b[0m\n\u001b[1;32m      5\u001b[0m \u001b[0;32mfrom\u001b[0m \u001b[0msklearn\u001b[0m\u001b[0;34m.\u001b[0m\u001b[0mpreprocessing\u001b[0m \u001b[0;32mimport\u001b[0m \u001b[0mStandardScaler\u001b[0m\u001b[0;34m\u001b[0m\u001b[0;34m\u001b[0m\u001b[0m\n",
      "\u001b[0;31mModuleNotFoundError\u001b[0m: No module named 'pandas'"
     ]
    }
   ],
   "source": [
    "import os\n",
    "import pandas as pd\n",
    "import numpy as np\n",
    "\n",
    "from sklearn.preprocessing import StandardScaler\n",
    "from os.path import isfile\n",
    "\n",
    "import config\n",
    "import utils\n",
    "import data_path\n",
    "import data_loader\n",
    "\n",
    "from classifier import Classifier\n",
    "from feature_generator import generate_features"
   ]
  },
  {
   "cell_type": "markdown",
   "metadata": {},
   "source": [
    "## Load Datasets"
   ]
  },
  {
   "cell_type": "code",
   "execution_count": 2,
   "metadata": {},
   "outputs": [],
   "source": [
    "embedding_features = pd.read_csv(os.path.join(data_path.))"
   ]
  },
  {
   "cell_type": "markdown",
   "metadata": {},
   "source": [
    "### Check if auxilary datasets are created"
   ]
  },
  {
   "cell_type": "code",
   "execution_count": 3,
   "metadata": {},
   "outputs": [],
   "source": [
    "if (not isfile(data_path.POSITIVE_WORDS_PATH)) or (not isfile(data_path.NEGATIVE_WORDS_PATH)):\n",
    "    utils.import_positive_negative_words_from(\n",
    "        path = data_path.EMOTION_LEXICON_WORDS_PATH,\n",
    "        positive_words_path = data_path.POSITIVE_WORDS_PATH, \n",
    "        negative_words_path = data_path.NEGATIVE_WORDS_PATH\n",
    "    )"
   ]
  },
  {
   "cell_type": "markdown",
   "metadata": {},
   "source": [
    "## Generate Features"
   ]
  },
  {
   "cell_type": "code",
   "execution_count": 44,
   "metadata": {},
   "outputs": [
    {
     "output_type": "execute_result",
     "data": {
      "text/plain": [
       "           F0        F1        F2        F3        F4        F5        F6  \\\n",
       "0    0.024206 -0.030991  0.063560 -0.027825 -0.142699 -0.063065  0.550191   \n",
       "1    0.015821 -0.058928 -0.138164 -0.130736 -0.210562 -0.077056  0.431778   \n",
       "2    0.033087  0.003720 -0.037134 -0.168871 -0.216493 -0.127261  0.465897   \n",
       "3   -0.023201 -0.061457  0.071226 -0.171489 -0.276112 -0.046305  0.653391   \n",
       "4   -0.009515  0.020851  0.036604 -0.234346 -0.191233 -0.120807  0.531214   \n",
       "..        ...       ...       ...       ...       ...       ...       ...   \n",
       "995  0.088987 -0.114888 -0.040703 -0.188127 -0.369964 -0.132450  0.460852   \n",
       "996 -0.056202  0.009285 -0.082109 -0.026082  0.011627 -0.043360  0.153051   \n",
       "997  0.052935  0.020912 -0.003834 -0.103795 -0.233529 -0.145466  0.330731   \n",
       "998 -0.026432 -0.062982  0.033476 -0.177968 -0.292577 -0.112179  0.471462   \n",
       "999  0.018369 -0.105529  0.035513 -0.258036 -0.253115  0.026580  0.511295   \n",
       "\n",
       "           F7        F8        F9  ...       F42       F43       F44  \\\n",
       "0    0.290295 -0.570920  0.007845  ...  0.015025  0.061401  0.755231   \n",
       "1    0.322096 -0.543762 -0.128959  ... -0.119066  0.055114  0.673321   \n",
       "2    0.302000 -0.562811 -0.038416  ...  0.031280  0.040302  0.750389   \n",
       "3    0.308303 -0.576830 -0.047969  ... -0.021774  0.110298  0.788425   \n",
       "4    0.405674 -0.623234 -0.042082  ... -0.095156  0.043985  0.735413   \n",
       "..        ...       ...       ...  ...       ...       ...       ...   \n",
       "995  0.510442 -0.492156 -0.137568  ... -0.017311  0.032971  0.790379   \n",
       "996  0.202540 -0.615147 -0.174317  ... -0.086618 -0.077725  0.745528   \n",
       "997  0.290801 -0.543016 -0.053961  ... -0.022735 -0.001817  0.625660   \n",
       "998  0.335003 -0.610127 -0.195858  ...  0.048597  0.066787  0.682924   \n",
       "999  0.346538 -0.633127 -0.114480  ... -0.085421  0.105615  0.733216   \n",
       "\n",
       "          F45       F46       F47       F48       F49  number  label  \n",
       "0    0.097895  0.140288 -0.203445 -0.011071  0.107874     289      0  \n",
       "1   -0.009909  0.348677 -0.278250 -0.124645  0.221547     504      0  \n",
       "2    0.078986  0.174397 -0.394942 -0.105814  0.138139     262      0  \n",
       "3    0.051916  0.147431 -0.375179 -0.191763  0.125181     276      0  \n",
       "4    0.027314  0.131712 -0.371022 -0.198262  0.174200     510      0  \n",
       "..        ...       ...       ...       ...       ...     ...    ...  \n",
       "995 -0.082957  0.259776 -0.312108 -0.203740  0.084736     247      1  \n",
       "996  0.034032  0.572675 -0.309184 -0.250097  0.316528     521      1  \n",
       "997  0.008426  0.189806 -0.308909 -0.137818  0.134111     509      1  \n",
       "998  0.133019  0.203664 -0.382289 -0.290352  0.202007     290      1  \n",
       "999  0.116470  0.253826 -0.378319 -0.292335  0.155904     284      1  \n",
       "\n",
       "[2000 rows x 52 columns]"
      ],
      "text/html": "<div>\n<style scoped>\n    .dataframe tbody tr th:only-of-type {\n        vertical-align: middle;\n    }\n\n    .dataframe tbody tr th {\n        vertical-align: top;\n    }\n\n    .dataframe thead th {\n        text-align: right;\n    }\n</style>\n<table border=\"1\" class=\"dataframe\">\n  <thead>\n    <tr style=\"text-align: right;\">\n      <th></th>\n      <th>F0</th>\n      <th>F1</th>\n      <th>F2</th>\n      <th>F3</th>\n      <th>F4</th>\n      <th>F5</th>\n      <th>F6</th>\n      <th>F7</th>\n      <th>F8</th>\n      <th>F9</th>\n      <th>...</th>\n      <th>F42</th>\n      <th>F43</th>\n      <th>F44</th>\n      <th>F45</th>\n      <th>F46</th>\n      <th>F47</th>\n      <th>F48</th>\n      <th>F49</th>\n      <th>number</th>\n      <th>label</th>\n    </tr>\n  </thead>\n  <tbody>\n    <tr>\n      <th>0</th>\n      <td>0.024206</td>\n      <td>-0.030991</td>\n      <td>0.063560</td>\n      <td>-0.027825</td>\n      <td>-0.142699</td>\n      <td>-0.063065</td>\n      <td>0.550191</td>\n      <td>0.290295</td>\n      <td>-0.570920</td>\n      <td>0.007845</td>\n      <td>...</td>\n      <td>0.015025</td>\n      <td>0.061401</td>\n      <td>0.755231</td>\n      <td>0.097895</td>\n      <td>0.140288</td>\n      <td>-0.203445</td>\n      <td>-0.011071</td>\n      <td>0.107874</td>\n      <td>289</td>\n      <td>0</td>\n    </tr>\n    <tr>\n      <th>1</th>\n      <td>0.015821</td>\n      <td>-0.058928</td>\n      <td>-0.138164</td>\n      <td>-0.130736</td>\n      <td>-0.210562</td>\n      <td>-0.077056</td>\n      <td>0.431778</td>\n      <td>0.322096</td>\n      <td>-0.543762</td>\n      <td>-0.128959</td>\n      <td>...</td>\n      <td>-0.119066</td>\n      <td>0.055114</td>\n      <td>0.673321</td>\n      <td>-0.009909</td>\n      <td>0.348677</td>\n      <td>-0.278250</td>\n      <td>-0.124645</td>\n      <td>0.221547</td>\n      <td>504</td>\n      <td>0</td>\n    </tr>\n    <tr>\n      <th>2</th>\n      <td>0.033087</td>\n      <td>0.003720</td>\n      <td>-0.037134</td>\n      <td>-0.168871</td>\n      <td>-0.216493</td>\n      <td>-0.127261</td>\n      <td>0.465897</td>\n      <td>0.302000</td>\n      <td>-0.562811</td>\n      <td>-0.038416</td>\n      <td>...</td>\n      <td>0.031280</td>\n      <td>0.040302</td>\n      <td>0.750389</td>\n      <td>0.078986</td>\n      <td>0.174397</td>\n      <td>-0.394942</td>\n      <td>-0.105814</td>\n      <td>0.138139</td>\n      <td>262</td>\n      <td>0</td>\n    </tr>\n    <tr>\n      <th>3</th>\n      <td>-0.023201</td>\n      <td>-0.061457</td>\n      <td>0.071226</td>\n      <td>-0.171489</td>\n      <td>-0.276112</td>\n      <td>-0.046305</td>\n      <td>0.653391</td>\n      <td>0.308303</td>\n      <td>-0.576830</td>\n      <td>-0.047969</td>\n      <td>...</td>\n      <td>-0.021774</td>\n      <td>0.110298</td>\n      <td>0.788425</td>\n      <td>0.051916</td>\n      <td>0.147431</td>\n      <td>-0.375179</td>\n      <td>-0.191763</td>\n      <td>0.125181</td>\n      <td>276</td>\n      <td>0</td>\n    </tr>\n    <tr>\n      <th>4</th>\n      <td>-0.009515</td>\n      <td>0.020851</td>\n      <td>0.036604</td>\n      <td>-0.234346</td>\n      <td>-0.191233</td>\n      <td>-0.120807</td>\n      <td>0.531214</td>\n      <td>0.405674</td>\n      <td>-0.623234</td>\n      <td>-0.042082</td>\n      <td>...</td>\n      <td>-0.095156</td>\n      <td>0.043985</td>\n      <td>0.735413</td>\n      <td>0.027314</td>\n      <td>0.131712</td>\n      <td>-0.371022</td>\n      <td>-0.198262</td>\n      <td>0.174200</td>\n      <td>510</td>\n      <td>0</td>\n    </tr>\n    <tr>\n      <th>...</th>\n      <td>...</td>\n      <td>...</td>\n      <td>...</td>\n      <td>...</td>\n      <td>...</td>\n      <td>...</td>\n      <td>...</td>\n      <td>...</td>\n      <td>...</td>\n      <td>...</td>\n      <td>...</td>\n      <td>...</td>\n      <td>...</td>\n      <td>...</td>\n      <td>...</td>\n      <td>...</td>\n      <td>...</td>\n      <td>...</td>\n      <td>...</td>\n      <td>...</td>\n      <td>...</td>\n    </tr>\n    <tr>\n      <th>995</th>\n      <td>0.088987</td>\n      <td>-0.114888</td>\n      <td>-0.040703</td>\n      <td>-0.188127</td>\n      <td>-0.369964</td>\n      <td>-0.132450</td>\n      <td>0.460852</td>\n      <td>0.510442</td>\n      <td>-0.492156</td>\n      <td>-0.137568</td>\n      <td>...</td>\n      <td>-0.017311</td>\n      <td>0.032971</td>\n      <td>0.790379</td>\n      <td>-0.082957</td>\n      <td>0.259776</td>\n      <td>-0.312108</td>\n      <td>-0.203740</td>\n      <td>0.084736</td>\n      <td>247</td>\n      <td>1</td>\n    </tr>\n    <tr>\n      <th>996</th>\n      <td>-0.056202</td>\n      <td>0.009285</td>\n      <td>-0.082109</td>\n      <td>-0.026082</td>\n      <td>0.011627</td>\n      <td>-0.043360</td>\n      <td>0.153051</td>\n      <td>0.202540</td>\n      <td>-0.615147</td>\n      <td>-0.174317</td>\n      <td>...</td>\n      <td>-0.086618</td>\n      <td>-0.077725</td>\n      <td>0.745528</td>\n      <td>0.034032</td>\n      <td>0.572675</td>\n      <td>-0.309184</td>\n      <td>-0.250097</td>\n      <td>0.316528</td>\n      <td>521</td>\n      <td>1</td>\n    </tr>\n    <tr>\n      <th>997</th>\n      <td>0.052935</td>\n      <td>0.020912</td>\n      <td>-0.003834</td>\n      <td>-0.103795</td>\n      <td>-0.233529</td>\n      <td>-0.145466</td>\n      <td>0.330731</td>\n      <td>0.290801</td>\n      <td>-0.543016</td>\n      <td>-0.053961</td>\n      <td>...</td>\n      <td>-0.022735</td>\n      <td>-0.001817</td>\n      <td>0.625660</td>\n      <td>0.008426</td>\n      <td>0.189806</td>\n      <td>-0.308909</td>\n      <td>-0.137818</td>\n      <td>0.134111</td>\n      <td>509</td>\n      <td>1</td>\n    </tr>\n    <tr>\n      <th>998</th>\n      <td>-0.026432</td>\n      <td>-0.062982</td>\n      <td>0.033476</td>\n      <td>-0.177968</td>\n      <td>-0.292577</td>\n      <td>-0.112179</td>\n      <td>0.471462</td>\n      <td>0.335003</td>\n      <td>-0.610127</td>\n      <td>-0.195858</td>\n      <td>...</td>\n      <td>0.048597</td>\n      <td>0.066787</td>\n      <td>0.682924</td>\n      <td>0.133019</td>\n      <td>0.203664</td>\n      <td>-0.382289</td>\n      <td>-0.290352</td>\n      <td>0.202007</td>\n      <td>290</td>\n      <td>1</td>\n    </tr>\n    <tr>\n      <th>999</th>\n      <td>0.018369</td>\n      <td>-0.105529</td>\n      <td>0.035513</td>\n      <td>-0.258036</td>\n      <td>-0.253115</td>\n      <td>0.026580</td>\n      <td>0.511295</td>\n      <td>0.346538</td>\n      <td>-0.633127</td>\n      <td>-0.114480</td>\n      <td>...</td>\n      <td>-0.085421</td>\n      <td>0.105615</td>\n      <td>0.733216</td>\n      <td>0.116470</td>\n      <td>0.253826</td>\n      <td>-0.378319</td>\n      <td>-0.292335</td>\n      <td>0.155904</td>\n      <td>284</td>\n      <td>1</td>\n    </tr>\n  </tbody>\n</table>\n<p>2000 rows × 52 columns</p>\n</div>"
     },
     "metadata": {},
     "execution_count": 44
    }
   ],
   "source": [
    "# features = (female_features.T).append(male_features.T)\n",
    "# features\n",
    "\n",
    "features = pd.read_csv('../data/embedded_texts_gensim.csv', index_col=0)\n",
    "features"
   ]
  },
  {
   "cell_type": "markdown",
   "metadata": {},
   "source": [
    "## Split X, y "
   ]
  },
  {
   "cell_type": "code",
   "execution_count": 45,
   "metadata": {},
   "outputs": [],
   "source": [
    "y = features['label']\n",
    "X = features.drop(['label', 'number'], axis=1)"
   ]
  },
  {
   "cell_type": "markdown",
   "metadata": {},
   "source": [
    "## Normalize"
   ]
  },
  {
   "cell_type": "code",
   "execution_count": 34,
   "metadata": {},
   "outputs": [],
   "source": [
    "\n",
    "# from sklearn.preprocessing import MinMaxScaler\n",
    "# scaler = MinMaxScaler()\n",
    "\n",
    "scaler = StandardScaler()\n",
    "X = pd.DataFrame(scaler.fit_transform(X), columns=X.columns)"
   ]
  },
  {
   "cell_type": "markdown",
   "metadata": {},
   "source": [
    "## Classification"
   ]
  },
  {
   "cell_type": "code",
   "execution_count": 35,
   "metadata": {},
   "outputs": [
    {
     "output_type": "stream",
     "name": "stdout",
     "text": [
      "| index     |    Fold1 |    Fold2 |    Fold3 |    Fold4 |    Fold5 |    Fold6 |    Fold7 |    Fold8 |    Fold9 |   Fold10 |     mean |\n|:----------|---------:|---------:|---------:|---------:|---------:|---------:|---------:|---------:|---------:|---------:|---------:|\n| precision | 0.56701  | 0.604167 | 0.591398 | 0.484848 | 0.635417 | 0.63     | 0.530612 | 0.523364 | 0.5      | 0.669903 | 0.573672 |\n| recall    | 0.544554 | 0.585859 | 0.533981 | 0.564706 | 0.592233 | 0.567568 | 0.547368 | 0.595745 | 0.62069  | 0.616071 | 0.576877 |\n| f1        | 0.555556 | 0.594872 | 0.561224 | 0.521739 | 0.613065 | 0.597156 | 0.53886  | 0.557214 | 0.553846 | 0.64186  | 0.573539 |\n| accuracy  | 0.56     | 0.605    | 0.57     | 0.56     | 0.615    | 0.575    | 0.555    | 0.555    | 0.565    | 0.615    | 0.5775   |\n"
     ]
    }
   ],
   "source": [
    "classifier = Classifier('Random Forest', n_estimator=200, max_depth=100)\n",
    "classifier.train(X, y, n_folds=10)"
   ]
  },
  {
   "cell_type": "code",
   "execution_count": 46,
   "metadata": {},
   "outputs": [
    {
     "output_type": "stream",
     "name": "stdout",
     "text": [
      "| index     |    Fold1 |    Fold2 |    Fold3 |    Fold4 |    Fold5 |    Fold6 |    Fold7 |    Fold8 |    Fold9 |   Fold10 |     mean |\n|:----------|---------:|---------:|---------:|---------:|---------:|---------:|---------:|---------:|---------:|---------:|---------:|\n| precision | 0.558559 | 0.622642 | 0.588235 | 0.483333 | 0.631579 | 0.606838 | 0.55     | 0.554688 | 0.523438 | 0.669903 | 0.578921 |\n| recall    | 0.613861 | 0.666667 | 0.582524 | 0.682353 | 0.582524 | 0.63964  | 0.694737 | 0.755319 | 0.770115 | 0.616071 | 0.660381 |\n| f1        | 0.584906 | 0.643902 | 0.585366 | 0.565854 | 0.606061 | 0.622807 | 0.613953 | 0.63964  | 0.623256 | 0.64186  | 0.61276  |\n| accuracy  | 0.56     | 0.635    | 0.575    | 0.555    | 0.61     | 0.57     | 0.585    | 0.6      | 0.595    | 0.615    | 0.59     |\n"
     ]
    }
   ],
   "source": [
    "classifier = Classifier('SVM' , kernel='rbf', gamma='scale')\n",
    "classifier.train(X, y, n_folds=10)"
   ]
  },
  {
   "cell_type": "code",
   "execution_count": 48,
   "metadata": {},
   "outputs": [
    {
     "output_type": "stream",
     "name": "stdout",
     "text": [
      "| index     |    Fold1 |    Fold2 |    Fold3 |    Fold4 |    Fold5 |    Fold6 |    Fold7 |    Fold8 |    Fold9 |   Fold10 |     mean |\n|:----------|---------:|---------:|---------:|---------:|---------:|---------:|---------:|---------:|---------:|---------:|---------:|\n| precision | 0.561905 | 0.617978 | 0.612903 | 0.5      | 0.62963  | 0.614035 | 0.555556 | 0.524272 | 0.505376 | 0.6125   | 0.573415 |\n| recall    | 0.584158 | 0.555556 | 0.553398 | 0.670588 | 0.495146 | 0.630631 | 0.578947 | 0.574468 | 0.54023  | 0.4375   | 0.562062 |\n| f1        | 0.572816 | 0.585106 | 0.581633 | 0.572864 | 0.554348 | 0.622222 | 0.56701  | 0.548223 | 0.522222 | 0.510417 | 0.563686 |\n| accuracy  | 0.56     | 0.61     | 0.59     | 0.575    | 0.59     | 0.575    | 0.58     | 0.555    | 0.57     | 0.53     | 0.5735   |\n"
     ]
    }
   ],
   "source": [
    "classifier = Classifier('MLP', max_iter=1200 , hidden_layer_sizes=(8,4,), activation='relu', solver='adam')\n",
    "classifier.train(X, y, n_folds=10)"
   ]
  },
  {
   "cell_type": "code",
   "execution_count": 38,
   "metadata": {},
   "outputs": [
    {
     "output_type": "stream",
     "name": "stdout",
     "text": [
      "| index     |    Fold1 |    Fold2 |    Fold3 |    Fold4 |    Fold5 |    Fold6 |    Fold7 |    Fold8 |    Fold9 |   Fold10 |     mean |\n|:----------|---------:|---------:|---------:|---------:|---------:|---------:|---------:|---------:|---------:|---------:|---------:|\n| precision | 0.577778 | 0.5875   | 0.606061 | 0.45     | 0.651685 | 0.584158 | 0.578313 | 0.573034 | 0.5625   | 0.628205 | 0.579923 |\n| recall    | 0.514851 | 0.474747 | 0.38835  | 0.423529 | 0.563107 | 0.531532 | 0.505263 | 0.542553 | 0.517241 | 0.4375   | 0.489867 |\n| f1        | 0.544503 | 0.52514  | 0.473373 | 0.436364 | 0.604167 | 0.556604 | 0.539326 | 0.557377 | 0.538922 | 0.515789 | 0.529156 |\n| accuracy  | 0.565    | 0.575    | 0.555    | 0.535    | 0.62     | 0.53     | 0.59     | 0.595    | 0.615    | 0.54     | 0.572    |\n"
     ]
    }
   ],
   "source": [
    "classifier = Classifier('Naive Bayes')\n",
    "classifier.train(X, y, n_folds=10)"
   ]
  },
  {
   "cell_type": "code",
   "execution_count": 39,
   "metadata": {},
   "outputs": [
    {
     "output_type": "stream",
     "name": "stdout",
     "text": [
      "| index     |    Fold1 |    Fold2 |    Fold3 |    Fold4 |    Fold5 |    Fold6 |    Fold7 |    Fold8 |    Fold9 |   Fold10 |     mean |\n|:----------|---------:|---------:|---------:|---------:|---------:|---------:|---------:|---------:|---------:|---------:|---------:|\n| precision | 0.510204 | 0.560748 | 0.557895 | 0.47619  | 0.602273 | 0.6      | 0.524752 | 0.544554 | 0.504673 | 0.62766  | 0.550895 |\n| recall    | 0.49505  | 0.606061 | 0.514563 | 0.588235 | 0.514563 | 0.594595 | 0.557895 | 0.585106 | 0.62069  | 0.526786 | 0.560354 |\n| f1        | 0.502513 | 0.582524 | 0.535354 | 0.526316 | 0.554974 | 0.597285 | 0.540816 | 0.564103 | 0.556701 | 0.572816 | 0.55334  |\n| accuracy  | 0.505    | 0.57     | 0.54     | 0.55     | 0.575    | 0.555    | 0.55     | 0.575    | 0.57     | 0.56     | 0.555    |\n"
     ]
    }
   ],
   "source": [
    "classifier = Classifier('Ada Boost', n_estimators= 120, learning_rate= 0.5)\n",
    "classifier.train(X, y, n_folds=10)"
   ]
  },
  {
   "cell_type": "markdown",
   "metadata": {},
   "source": [
    "## Feature Importance"
   ]
  },
  {
   "cell_type": "code",
   "execution_count": 34,
   "metadata": {},
   "outputs": [],
   "source": [
    "classifier = Classifier('Random Forest', n_estimator=200)\n",
    "classifier.fit(X, y)\n",
    "feature_importance = classifier.model.feature_importances_"
   ]
  },
  {
   "cell_type": "code",
   "execution_count": 35,
   "metadata": {},
   "outputs": [
    {
     "data": {
      "image/png": "[encoded data removed]",
      "text/plain": [
       "<Figure size 720x1080 with 1 Axes>"
      ]
     },
     "metadata": {
      "needs_background": "light"
     },
     "output_type": "display_data"
    }
   ],
   "source": [
    "utils.plot_feature_importance(feature_importance, X)"
   ]
  },
  {
   "cell_type": "code",
   "execution_count": 90,
   "metadata": {},
   "outputs": [],
   "source": [
    "features.to_csv ('../data/dataframe.csv', index = False, header=True)\n"
   ]
  },
  {
   "source": [
    "## Split Train and Test"
   ],
   "cell_type": "markdown",
   "metadata": {}
  },
  {
   "cell_type": "code",
   "execution_count": 75,
   "metadata": {},
   "outputs": [],
   "source": [
    "from sklearn.model_selection import train_test_split\n",
    "\n",
    "X_train, X_test, y_train, y_test = train_test_split(X, y, test_size=0.2, random_state=2, shuffle=True)"
   ]
  },
  {
   "cell_type": "code",
   "execution_count": 90,
   "metadata": {},
   "outputs": [],
   "source": [
    "svm = Classifier('SVM' , kernel='rbf', gamma='auto', probability=True)\n",
    "train_predictions_svm = svm.fit(X_train, y_train)"
   ]
  },
  {
   "cell_type": "code",
   "execution_count": 91,
   "metadata": {},
   "outputs": [],
   "source": [
    "rf = Classifier('Random Forest', n_estimator=200, max_depth=10)\n",
    "train_predictions_rf = rf.fit(X_train, y_train)"
   ]
  },
  {
   "cell_type": "code",
   "execution_count": 92,
   "metadata": {},
   "outputs": [],
   "source": [
    "mlp = Classifier('MLP', max_iter=1000 , hidden_layer_sizes=(4,8,), activation='relu', solver='adam')\n",
    "train_predictions_mlp = mlp.fit(X_train, y_train)"
   ]
  },
  {
   "cell_type": "code",
   "execution_count": 93,
   "metadata": {},
   "outputs": [],
   "source": [
    "adaboost = Classifier('Ada Boost', n_estimators= 120, learning_rate= 0.5)\n",
    "train_predictions_adaboost = adaboost.fit(X_train, y_train)"
   ]
  },
  {
   "cell_type": "code",
   "execution_count": 94,
   "metadata": {},
   "outputs": [],
   "source": [
    "nb = Classifier('Naive Bayes')\n",
    "train_predictions_nb = nb.fit(X_train, y_train)"
   ]
  },
  {
   "cell_type": "code",
   "execution_count": 103,
   "metadata": {},
   "outputs": [],
   "source": [
    "threshold = 0.5\n",
    "\n",
    "train_prediction_labels_svm = np.array(train_predictions_svm[:,1] > threshold, dtype=int)\n",
    "train_prediction_labels_rf = np.array(train_predictions_rf[:,1] > threshold, dtype=int)\n",
    "train_prediction_labels_mlp = np.array(train_predictions_mlp[:,1] > threshold, dtype=int)\n",
    "train_prediction_labels_ad = np.array(train_predictions_adaboost[:,1] > threshold, dtype=int)\n",
    "train_prediction_labels_nb = np.array(train_predictions_nb[:,1] > threshold, dtype=int)\n",
    "\n",
    "lsts = []\n",
    "for i in range(len(train_prediction_labels_svm)):\n",
    "    lsts.append(\n",
    "        [\n",
    "            train_prediction_labels_svm[i],\n",
    "            train_prediction_labels_rf[i],\n",
    "            train_prediction_labels_mlp[i],\n",
    "            train_prediction_labels_ad[i],\n",
    "            train_prediction_labels_nb[i]\n",
    "        ]\n",
    "    )\n",
    "\n",
    "y_train_pred = [ max(lst, key=lst.count) for lst in lsts]"
   ]
  },
  {
   "cell_type": "code",
   "execution_count": 104,
   "metadata": {},
   "outputs": [
    {
     "output_type": "stream",
     "name": "stdout",
     "text": [
      "              precision    recall  f1-score   support\n\n         0.0       0.74      0.87      0.80       818\n         1.0       0.83      0.68      0.75       782\n\n    accuracy                           0.77      1600\n   macro avg       0.78      0.77      0.77      1600\nweighted avg       0.78      0.77      0.77      1600\n\n0.774375\n"
     ]
    }
   ],
   "source": [
    "from sklearn.metrics import classification_report, accuracy_score\n",
    "print(classification_report(y_train, y_train_pred))\n",
    "print(accuracy_score(y_train, y_train_pred))"
   ]
  },
  {
   "cell_type": "code",
   "execution_count": 143,
   "metadata": {},
   "outputs": [],
   "source": [
    "test_predictions_svm = rf.predict(X_test)\n",
    "test_predictions_rf = svm.predict(X_test)\n",
    "test_predictions_ad = adaboost.predict(X_test)\n",
    "test_predictions_nb = nb.predict(X_test)\n",
    "test_predictions_mlp = mlp.predict(X_test)\n",
    "\n",
    "test_prediction_labels_svm = np.array(test_predictions_svm[:,1] > threshold, dtype=int)\n",
    "test_prediction_labels_rf = np.array(test_predictions_rf[:,1] > threshold, dtype=int)\n",
    "test_prediction_labels_mlp = np.array(test_predictions_mlp[:,1] > threshold, dtype=int)\n",
    "test_prediction_labels_ad = np.array(test_predictions_ad[:,1] > threshold, dtype=int)\n",
    "test_prediction_labels_nb = np.array(test_predictions_nb[:,1] > threshold, dtype=int)\n",
    "\n",
    "lsts = []\n",
    "for i in range(len(test_prediction_labels_svm)):\n",
    "    lsts.append(\n",
    "        [\n",
    "            # test_prediction_labels_svm[i],\n",
    "            # test_prediction_labels_rf[i],\n",
    "            test_prediction_labels_mlp[i],\n",
    "            # test_prediction_labels_ad[i],\n",
    "            # test_prediction_labels_nb[i]\n",
    "        ]\n",
    "    )\n",
    "\n",
    "y_test_pred = [ max(lst, key=lst.count) for lst in lsts]"
   ]
  },
  {
   "cell_type": "code",
   "execution_count": 144,
   "metadata": {},
   "outputs": [
    {
     "output_type": "stream",
     "name": "stdout",
     "text": [
      "              precision    recall  f1-score   support\n\n         0.0       0.52      0.62      0.57       182\n         1.0       0.62      0.53      0.57       218\n\n    accuracy                           0.57       400\n   macro avg       0.57      0.57      0.57       400\nweighted avg       0.58      0.57      0.57       400\n\n0.57\n"
     ]
    }
   ],
   "source": [
    "print(classification_report(y_test, y_test_pred))\n",
    "print(accuracy_score(y_test, y_test_pred))"
   ]
  },
  {
   "cell_type": "code",
   "execution_count": 145,
   "metadata": {},
   "outputs": [
    {
     "output_type": "stream",
     "name": "stdout",
     "text": [
      "| index     |    Fold1 |    Fold2 |    Fold3 |    Fold4 |    Fold5 |    Fold6 |    Fold7 |    Fold8 |    Fold9 |   Fold10 |     mean |\n|:----------|---------:|---------:|---------:|---------:|---------:|---------:|---------:|---------:|---------:|---------:|---------:|\n| precision | 0.585106 | 0.552083 | 0.57     | 0.455556 | 0.579545 | 0.646465 | 0.515464 | 0.545455 | 0.480769 | 0.597701 | 0.552814 |\n| recall    | 0.544554 | 0.535354 | 0.553398 | 0.482353 | 0.495146 | 0.576577 | 0.526316 | 0.510638 | 0.574713 | 0.464286 | 0.526333 |\n| f1        | 0.564103 | 0.54359  | 0.561576 | 0.468571 | 0.534031 | 0.609524 | 0.520833 | 0.527473 | 0.52356  | 0.522613 | 0.537587 |\n| accuracy  | 0.575    | 0.555    | 0.555    | 0.535    | 0.555    | 0.59     | 0.54     | 0.57     | 0.545    | 0.525    | 0.5545   |\n"
     ]
    }
   ],
   "source": [
    "mlp.train(X, y)"
   ]
  },
  {
   "cell_type": "code",
   "execution_count": null,
   "metadata": {},
   "outputs": [],
   "source": []
  },
  {
   "cell_type": "code",
   "execution_count": null,
   "metadata": {},
   "outputs": [],
   "source": []
  },
  {
   "cell_type": "code",
   "execution_count": null,
   "metadata": {},
   "outputs": [],
   "source": []
  },
  {
   "cell_type": "code",
   "execution_count": null,
   "metadata": {},
   "outputs": [],
   "source": []
  },
  {
   "cell_type": "code",
   "execution_count": null,
   "metadata": {},
   "outputs": [],
   "source": []
  },
  {
   "cell_type": "code",
   "execution_count": null,
   "metadata": {},
   "outputs": [],
   "source": []
  },
  {
   "cell_type": "code",
   "execution_count": null,
   "metadata": {},
   "outputs": [],
   "source": []
  },
  {
   "cell_type": "code",
   "execution_count": null,
   "metadata": {},
   "outputs": [],
   "source": []
  },
  {
   "cell_type": "code",
   "execution_count": null,
   "metadata": {},
   "outputs": [],
   "source": []
  },
  {
   "cell_type": "code",
   "execution_count": null,
   "metadata": {},
   "outputs": [],
   "source": []
  },
  {
   "cell_type": "code",
   "execution_count": null,
   "metadata": {},
   "outputs": [],
   "source": []
  },
  {
   "cell_type": "code",
   "execution_count": null,
   "metadata": {},
   "outputs": [],
   "source": []
  },
  {
   "cell_type": "code",
   "execution_count": null,
   "metadata": {},
   "outputs": [],
   "source": []
  }
 ],
 "metadata": {
  "kernelspec": {
   "display_name": "Python 3",
   "language": "python",
   "name": "python3"
  },
  "language_info": {
   "codemirror_mode": {
    "name": "ipython",
    "version": 3
   },
   "file_extension": ".py",
   "mimetype": "text/x-python",
   "name": "python",
   "nbconvert_exporter": "python",
   "pygments_lexer": "ipython3",
   "version": "3.8.5-final"
  }
 },
 "nbformat": 4,
 "nbformat_minor": 2
}